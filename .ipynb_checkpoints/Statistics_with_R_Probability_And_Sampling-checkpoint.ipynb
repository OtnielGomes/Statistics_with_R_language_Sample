{
 "cells": [
  {
   "cell_type": "markdown",
   "id": "bdc6deb4-9c76-4b97-971a-747151610b4d",
   "metadata": {},
   "source": [
    "***\n",
    "# <font color='purple' size=10>Statistics With Language 'R':</font>\n",
    "# <font color='purple'>Probability and Sampling</font>\n",
    "***"
   ]
  },
  {
   "cell_type": "markdown",
   "id": "60e06e38-2880-45ea-9d49-f94b459aa93c",
   "metadata": {},
   "source": [
    "# <font color='lightgreen'> Knowing The Data</font>\n",
    "***"
   ]
  },
  {
   "cell_type": "markdown",
   "id": "77b7f2dd-c57c-4550-b4d2-9b3b82d60d61",
   "metadata": {},
   "source": [
    "## <font color='lightgreen'> Project Dataset</font>\n",
    "***"
   ]
  },
  {
   "cell_type": "markdown",
   "id": "d5239930-94b7-4a4c-8e81-b392927cc979",
   "metadata": {},
   "source": [
    "### National Household Sample Survey - 2015\n",
    "\n",
    "The **National Household Sample Survey - PNAD** investigates annually, on a permanent basis, general characteristics of the population, education, work, income and housing and others, with variable frequency, according to the information needs of the country , such as features on migration, fertility, nuptiality, health, food security, among other topics. The survey of these statistics constitutes, over the 49 years of research, an important instrument for formulating, validating and evaluating policies aimed at socioeconomic development and improving living conditions in Brazil."
   ]
  },
  {
   "cell_type": "markdown",
   "id": "eba95dba-a677-4f8a-9440-129dd4835493",
   "metadata": {},
   "source": [
    "### Data Source\n",
    "\n",
    "https://ww2.ibge.gov.br/home/estatistica/populacao/trabalhoerendimento/pnad2015/microdados.shtm"
   ]
  },
  {
   "cell_type": "markdown",
   "id": "693b6d3b-1baa-4e65-9032-066c62560286",
   "metadata": {},
   "source": [
    "***\n",
    "### Variables used\n",
    "\n",
    "### Income\n",
    "***\n",
    "\n",
    "Monthly income from main job for people aged 10 or over.\n",
    "\n",
    "### Age\n",
    "***\n",
    "\n",
    "Age of the resident on the reference date in years.\n",
    "\n",
    "### Height (own elaboration)\n",
    "***\n",
    "\n",
    "Resident's height in meters.\n",
    "\n",
    "### UF\n",
    "***\n",
    "\n",
    "|Code|Description|\n",
    "|---|---|\n",
    "|11|Rondônia|\n",
    "|12|Acre|\n",
    "|13|Amazons|\n",
    "|14|Roraima|\n",
    "|15|Para|\n",
    "|16|Amapá|\n",
    "|17|Tocantins|\n",
    "|21|Maranhão|\n",
    "|22|Piauí|\n",
    "|23|Ceará|\n",
    "|24|Rio Grande do Norte|\n",
    "|25|Paraíba|\n",
    "|26|Pernambuco|\n",
    "|27|Alagoas|\n",
    "|28|Sergipe|\n",
    "|29|Bahia|\n",
    "|31|Minas Gerais|\n",
    "|32|Holy Spirit|\n",
    "|33|Rio de Janeiro|\n",
    "|35|São Paulo|\n",
    "|41|Paraná|\n",
    "|42|Santa Catarina|\n",
    "|43|Rio Grande do Sul|\n",
    "|50|Mato Grosso do Sul|\n",
    "|51|Mato Grosso|\n",
    "|52|Goiás|\n",
    "|53|Distrito Federal|\n",
    "\n",
    "### Sex\n",
    "***\n",
    "\n",
    "|Code|Description|\n",
    "|---|---|\n",
    "|0|Masculine|\n",
    "|1|Feminine|\n",
    "\n",
    "### Years of Study\n",
    "***\n",
    "\n",
    "|Code|Description|\n",
    "|---|---|\n",
    "|1|No education and less than 1 year|\n",
    "|2|1 year|\n",
    "|3|2 years|\n",
    "|4|3 years|\n",
    "|5|4 years|\n",
    "|6|5 years|\n",
    "|7|6 years|\n",
    "|8|7 years|\n",
    "|9|8 years|\n",
    "|10|9 years|\n",
    "|11|10 years|\n",
    "|12|11 years|\n",
    "|13|12 years old|\n",
    "|14|13 years old|\n",
    "|15|14 years old|\n",
    "|16|15 years or more|\n",
    "|17|Not determined|\n",
    "||Not applicable|\n",
    "\n",
    "### Color\n",
    "***\n",
    "\n",
    "|Code|Description|\n",
    "|---|---|\n",
    "|0|Indigenous|\n",
    "|2|White|\n",
    "|4|Black|\n",
    "|6|Yellow|\n",
    "|8|Brown|\n",
    "|9|No statement|"
   ]
  },
  {
   "cell_type": "markdown",
   "id": "260e7d5f-8124-460f-aa62-d2ee71cbbea0",
   "metadata": {},
   "source": [
    "***\n",
    "## <font color='purple'>Imports:</font>\n"
   ]
  },
  {
   "cell_type": "code",
   "execution_count": 204,
   "id": "aaf6037c-501f-402d-85fc-0ea86c798657",
   "metadata": {},
   "outputs": [],
   "source": [
    "library(ggplot2)\n",
    "library(dplyr)\n",
    "library(DescTools)\n",
    "library(glue)"
   ]
  },
  {
   "cell_type": "markdown",
   "id": "6acb060a-9680-4902-970b-ad9ef60915b4",
   "metadata": {},
   "source": [
    "***\n",
    "### <font color='purple'>Configs:</font>"
   ]
  },
  {
   "cell_type": "code",
   "execution_count": 2,
   "id": "ef893c7a-c108-4fa3-afbf-abf1d99fc7f9",
   "metadata": {},
   "outputs": [],
   "source": [
    "options(repr.plot.width=10, repr.plot.height=5)"
   ]
  },
  {
   "cell_type": "markdown",
   "id": "1ebccd0d-c6cf-4de5-a021-3d7d024876b4",
   "metadata": {},
   "source": [
    "***\n",
    "## <font color='lightgreen'>Loading Project Dataset:</font>"
   ]
  },
  {
   "cell_type": "code",
   "execution_count": 3,
   "id": "1ad48047-c709-43c3-b7a5-c1dc198236a8",
   "metadata": {},
   "outputs": [],
   "source": [
    "dataset <- read.csv('dataset_IBGE.csv')"
   ]
  },
  {
   "cell_type": "code",
   "execution_count": 4,
   "id": "162f20ee-6562-4aa2-8d7a-f0e9528f4b3a",
   "metadata": {},
   "outputs": [
    {
     "data": {
      "text/html": [
       "<table class=\"dataframe\">\n",
       "<caption>A data.frame: 6 × 7</caption>\n",
       "<thead>\n",
       "\t<tr><th></th><th scope=col>UF</th><th scope=col>Sex</th><th scope=col>Age</th><th scope=col>Color</th><th scope=col>Years.of.Studies</th><th scope=col>Income</th><th scope=col>Height</th></tr>\n",
       "\t<tr><th></th><th scope=col>&lt;int&gt;</th><th scope=col>&lt;int&gt;</th><th scope=col>&lt;int&gt;</th><th scope=col>&lt;int&gt;</th><th scope=col>&lt;int&gt;</th><th scope=col>&lt;int&gt;</th><th scope=col>&lt;dbl&gt;</th></tr>\n",
       "</thead>\n",
       "<tbody>\n",
       "\t<tr><th scope=row>1</th><td>11</td><td>0</td><td>23</td><td>8</td><td>12</td><td> 800</td><td>1.603808</td></tr>\n",
       "\t<tr><th scope=row>2</th><td>11</td><td>1</td><td>23</td><td>2</td><td>12</td><td>1150</td><td>1.739790</td></tr>\n",
       "\t<tr><th scope=row>3</th><td>11</td><td>1</td><td>35</td><td>8</td><td>15</td><td> 880</td><td>1.760444</td></tr>\n",
       "\t<tr><th scope=row>4</th><td>11</td><td>0</td><td>46</td><td>2</td><td> 6</td><td>3500</td><td>1.783158</td></tr>\n",
       "\t<tr><th scope=row>5</th><td>11</td><td>1</td><td>47</td><td>8</td><td> 9</td><td> 150</td><td>1.690631</td></tr>\n",
       "\t<tr><th scope=row>6</th><td>11</td><td>1</td><td>34</td><td>8</td><td>12</td><td> 790</td><td>1.637906</td></tr>\n",
       "</tbody>\n",
       "</table>\n"
      ],
      "text/latex": [
       "A data.frame: 6 × 7\n",
       "\\begin{tabular}{r|lllllll}\n",
       "  & UF & Sex & Age & Color & Years.of.Studies & Income & Height\\\\\n",
       "  & <int> & <int> & <int> & <int> & <int> & <int> & <dbl>\\\\\n",
       "\\hline\n",
       "\t1 & 11 & 0 & 23 & 8 & 12 &  800 & 1.603808\\\\\n",
       "\t2 & 11 & 1 & 23 & 2 & 12 & 1150 & 1.739790\\\\\n",
       "\t3 & 11 & 1 & 35 & 8 & 15 &  880 & 1.760444\\\\\n",
       "\t4 & 11 & 0 & 46 & 2 &  6 & 3500 & 1.783158\\\\\n",
       "\t5 & 11 & 1 & 47 & 8 &  9 &  150 & 1.690631\\\\\n",
       "\t6 & 11 & 1 & 34 & 8 & 12 &  790 & 1.637906\\\\\n",
       "\\end{tabular}\n"
      ],
      "text/markdown": [
       "\n",
       "A data.frame: 6 × 7\n",
       "\n",
       "| <!--/--> | UF &lt;int&gt; | Sex &lt;int&gt; | Age &lt;int&gt; | Color &lt;int&gt; | Years.of.Studies &lt;int&gt; | Income &lt;int&gt; | Height &lt;dbl&gt; |\n",
       "|---|---|---|---|---|---|---|---|\n",
       "| 1 | 11 | 0 | 23 | 8 | 12 |  800 | 1.603808 |\n",
       "| 2 | 11 | 1 | 23 | 2 | 12 | 1150 | 1.739790 |\n",
       "| 3 | 11 | 1 | 35 | 8 | 15 |  880 | 1.760444 |\n",
       "| 4 | 11 | 0 | 46 | 2 |  6 | 3500 | 1.783158 |\n",
       "| 5 | 11 | 1 | 47 | 8 |  9 |  150 | 1.690631 |\n",
       "| 6 | 11 | 1 | 34 | 8 | 12 |  790 | 1.637906 |\n",
       "\n"
      ],
      "text/plain": [
       "  UF Sex Age Color Years.of.Studies Income Height  \n",
       "1 11 0   23  8     12                800   1.603808\n",
       "2 11 1   23  2     12               1150   1.739790\n",
       "3 11 1   35  8     15                880   1.760444\n",
       "4 11 0   46  2      6               3500   1.783158\n",
       "5 11 1   47  8      9                150   1.690631\n",
       "6 11 1   34  8     12                790   1.637906"
      ]
     },
     "metadata": {},
     "output_type": "display_data"
    }
   ],
   "source": [
    "head(dataset)"
   ]
  },
  {
   "cell_type": "markdown",
   "id": "b7ed8978-a3b6-4c69-b145-be8bbbd3c0c2",
   "metadata": {},
   "source": [
    "***\n",
    "# <font color='lightgreen'> Distributions and Probabilities</font>"
   ]
  },
  {
   "cell_type": "markdown",
   "id": "527aeb15-0fc7-4f9d-92a9-4053ed180e6c",
   "metadata": {},
   "source": [
    "***\n",
    "### <font color='purple'>Example Problem:</font>"
   ]
  },
  {
   "cell_type": "markdown",
   "id": "ab0e28f5-a4c2-4764-a318-7ee8ea8cae82",
   "metadata": {},
   "source": [
    "In a competition to fill a data scientist position we have a total of **10 multiple choice questions** with **3 possible alternatives** in each question. **Each question has the same value.** Suppose a candidate decides to take the plunge without having studied anything at all. He decides to take the test blindfolded and guess all the answers. Assuming that the test **is worth 10 points and the cut-off score is 5**, obtain the probability of this candidate **getting 5 questions correct** and also the probability of this candidate **moving on to the next stage of the selection process**."
   ]
  },
  {
   "cell_type": "markdown",
   "id": "f9b7fad7-b3fa-4d4a-be1b-20082d0e050c",
   "metadata": {},
   "source": [
    "***\n",
    "### <font color='lightgreen'>Binomial Distribution</font>"
   ]
  },
  {
   "cell_type": "markdown",
   "id": "2d8b49a7-3322-4f7f-a080-a7140a2c6cf0",
   "metadata": {},
   "source": [
    "A **binomial** event is characterized by the possibility of occurrence of only two categories. These categories together represent the entire sample space, and are also mutually exclusive, that is, the occurrence of one implies the non-occurrence of the other.\n",
    "\n",
    "In statistical analysis, the most common use of the binomial distribution is in solving problems involving **success** and **failure** situations."
   ]
  },
  {
   "cell_type": "markdown",
   "id": "e7daabd7-ab6e-40b5-aaab-b1d72d02bd4b",
   "metadata": {},
   "source": [
    "# $$P(k)=\\binom{n}{k} p^k q^{n-k}$$\n",
    "\n",
    "Where:\n",
    "\n",
    "$p$ = probability of success\n",
    "\n",
    "$q = (1 - p)$ = probability of failure\n",
    "\n",
    "$n$ = number of events studied\n",
    "\n",
    "$k$ =number of desired events that are successful"
   ]
  },
  {
   "cell_type": "markdown",
   "id": "7f9f14b3-4a61-4af6-b314-2cd7f33cccd5",
   "metadata": {},
   "source": [
    "### Binomial Experiment"
   ]
  },
  {
   "cell_type": "markdown",
   "id": "490c5dee-e6bc-48b8-8a7a-545f2c64caff",
   "metadata": {},
   "source": [
    "1. Carrying out $n$ identical tests.\n",
    "\n",
    "2. The tests are independent.\n",
    "\n",
    "3. Only two results are possible, example: True or false; Heads or tails; Success or failure.\n",
    "\n",
    "4. The probability of success is represented by $p$ and the probability of failure by $1-p=q$. These probabilities do not change from test to test."
   ]
  },
  {
   "cell_type": "markdown",
   "id": "897a3603-ecee-4b4f-9da7-ae4875f1078c",
   "metadata": {},
   "source": [
    "### Mean of the binomial distribution"
   ]
  },
  {
   "cell_type": "markdown",
   "id": "9ddd9425-2d52-4904-bae6-66aaa0ec6d7f",
   "metadata": {},
   "source": [
    "The expected value or the mean of the binomial distribution is equal to the number of experiments carried out multiplied by the chance of the event occurring.\n",
    "\n",
    "# $$\\mu = n \\times p$$"
   ]
  },
  {
   "cell_type": "markdown",
   "id": "bc62c6e4-a691-4e37-a6e6-6ea8125804c5",
   "metadata": {},
   "source": [
    "### Standard deviation of the binomial distribution"
   ]
  },
  {
   "cell_type": "markdown",
   "id": "e2018ef2-54b9-4684-890a-5a97dc338474",
   "metadata": {},
   "source": [
    "The standard deviation is the product of the number of experiments, the probability of success, and the probability of failure.\n",
    "\n",
    "# $$\\sigma = \\sqrt{n \\times p \\times q}$$"
   ]
  },
  {
   "cell_type": "markdown",
   "id": "645fec26-3d5c-4129-b45e-f8a6da696eea",
   "metadata": {},
   "source": [
    "### Combinations\n",
    "\n",
    "Number of combinations of $n$ objects, taken $k$ each time, is:\n",
    "\n",
    "# $$C_{k}^{n} = \\binom{n}{k} = \\frac{n!}{k!(n - k)!}$$\n",
    "\n",
    "Onde\n",
    "\n",
    "## $$n! = n\\times(n-1)\\times(n-2)\\times...\\times(2)\\times(1)$$\n",
    "## $$k! = k\\times(k-1)\\times(k-2)\\times...\\times(2)\\times(1)$$\n",
    "\n",
    "By definition\n",
    "\n",
    "## $$0! = 1$$"
   ]
  },
  {
   "cell_type": "markdown",
   "id": "65646f95-1fec-4c5c-93f5-14d982e307d8",
   "metadata": {},
   "source": [
    "***\n",
    "## <font color='purple'>Example: Mega Sena</font>"
   ]
  },
  {
   "cell_type": "markdown",
   "id": "64d1c4e0-8556-4248-9725-9360527e2d0f",
   "metadata": {},
   "source": [
    "In a Mega Sena lottery ticket we have a total of 60 numbers to choose from where the minimum bet is six numbers. If you are curious, decide to calculate the probability of winning the Mega Sena with just one game. To do this we need to know how many combinations of six numbers can be formed with the 60 numbers available."
   ]
  },
  {
   "cell_type": "code",
   "execution_count": 5,
   "id": "570d3b24-262e-4609-b235-db90d2b05cc0",
   "metadata": {},
   "outputs": [
    {
     "data": {
      "text/html": [
       "50063860"
      ],
      "text/latex": [
       "50063860"
      ],
      "text/markdown": [
       "50063860"
      ],
      "text/plain": [
       "[1] 50063860"
      ]
     },
     "metadata": {},
     "output_type": "display_data"
    }
   ],
   "source": [
    "combinations <- choose(60, 6)\n",
    "combinations"
   ]
  },
  {
   "cell_type": "code",
   "execution_count": 6,
   "id": "07b79b1b-04c2-402b-a3d9-1f0d21674f44",
   "metadata": {},
   "outputs": [
    {
     "data": {
      "text/html": [
       "1.99744885831816e-08"
      ],
      "text/latex": [
       "1.99744885831816e-08"
      ],
      "text/markdown": [
       "1.99744885831816e-08"
      ],
      "text/plain": [
       "[1] 1.997449e-08"
      ]
     },
     "metadata": {},
     "output_type": "display_data"
    }
   ],
   "source": [
    "probability <- 1 / combinations\n",
    "probability"
   ]
  },
  {
   "cell_type": "markdown",
   "id": "42696722-2a4d-483b-9137-c57f2e36eca6",
   "metadata": {},
   "source": [
    "***\n",
    "### <font color='purple'>Example Problem: Data Scientist</font>"
   ]
  },
  {
   "cell_type": "markdown",
   "id": "69ab13dc-5c5f-4f39-a7dc-39b0cd2ad460",
   "metadata": {},
   "source": [
    "In a competition to fill a data scientist position we have a total of **10 multiple choice questions** with **3 possible alternatives** in each question. **Each question has the same value.** Suppose a candidate decides to take the plunge without having studied anything at all. He decides to take the test blindfolded and guess all the answers. Assuming that the test **is worth 10 points and the cut-off score is 5**, obtain the probability of this candidate **getting 5 questions correct** and also the probability of this candidate **moving on to the next stage of the selection process**."
   ]
  },
  {
   "cell_type": "markdown",
   "id": "6691026a-9808-4509-a8ef-b17d13e82f03",
   "metadata": {},
   "source": [
    "### number of trials ($n$)"
   ]
  },
  {
   "cell_type": "code",
   "execution_count": 7,
   "id": "44fa186b-bd2b-48d0-b6f8-027133bac04b",
   "metadata": {},
   "outputs": [
    {
     "data": {
      "text/html": [
       "10"
      ],
      "text/latex": [
       "10"
      ],
      "text/markdown": [
       "10"
      ],
      "text/plain": [
       "[1] 10"
      ]
     },
     "metadata": {},
     "output_type": "display_data"
    }
   ],
   "source": [
    "n <- 10\n",
    "n"
   ]
  },
  {
   "cell_type": "markdown",
   "id": "a5b89ffa-93d4-4d21-984a-3842a135308d",
   "metadata": {},
   "source": [
    "### probability of success ($p$)"
   ]
  },
  {
   "cell_type": "code",
   "execution_count": 8,
   "id": "da22fea0-6e92-46b0-a99c-d44b95ad0d98",
   "metadata": {},
   "outputs": [
    {
     "data": {
      "text/html": [
       "0.333333333333333"
      ],
      "text/latex": [
       "0.333333333333333"
      ],
      "text/markdown": [
       "0.333333333333333"
      ],
      "text/plain": [
       "[1] 0.3333333"
      ]
     },
     "metadata": {},
     "output_type": "display_data"
    }
   ],
   "source": [
    "p <- 1/3\n",
    "p"
   ]
  },
  {
   "cell_type": "markdown",
   "id": "0ee57254-3038-48e1-af14-e159ffb75f03",
   "metadata": {},
   "source": [
    "### probability of failure ($q$)"
   ]
  },
  {
   "cell_type": "code",
   "execution_count": 9,
   "id": "542d1a94-e36c-4f3f-80c1-f7907e480fb6",
   "metadata": {},
   "outputs": [
    {
     "data": {
      "text/html": [
       "0.666666666666667"
      ],
      "text/latex": [
       "0.666666666666667"
      ],
      "text/markdown": [
       "0.666666666666667"
      ],
      "text/plain": [
       "[1] 0.6666667"
      ]
     },
     "metadata": {},
     "output_type": "display_data"
    }
   ],
   "source": [
    "q <- 1 - p\n",
    "q"
   ]
  },
  {
   "cell_type": "markdown",
   "id": "4916cf0c-d8a1-4b20-876d-51e159f701bd",
   "metadata": {},
   "source": [
    "### total number of events to be successful ($k$)"
   ]
  },
  {
   "cell_type": "code",
   "execution_count": 10,
   "id": "ebd1010f-dce8-4b00-8e2a-bceb0002b690",
   "metadata": {},
   "outputs": [
    {
     "data": {
      "text/html": [
       "5"
      ],
      "text/latex": [
       "5"
      ],
      "text/markdown": [
       "5"
      ],
      "text/plain": [
       "[1] 5"
      ]
     },
     "metadata": {},
     "output_type": "display_data"
    }
   ],
   "source": [
    "k <- 5\n",
    "k"
   ]
  },
  {
   "cell_type": "markdown",
   "id": "c6939293-9c01-47e7-a1f5-39b9a126b85b",
   "metadata": {},
   "source": [
    "### Solution 1"
   ]
  },
  {
   "cell_type": "code",
   "execution_count": 11,
   "id": "846deb87-c8bd-420a-b6c7-944a3dbab3cb",
   "metadata": {},
   "outputs": [
    {
     "data": {
      "text/html": [
       "0.136564548087182"
      ],
      "text/latex": [
       "0.136564548087182"
      ],
      "text/markdown": [
       "0.136564548087182"
      ],
      "text/plain": [
       "[1] 0.1365645"
      ]
     },
     "metadata": {},
     "output_type": "display_data"
    }
   ],
   "source": [
    "probability <- choose(n, k) * (p ** k) * (q **(n-k))\n",
    "probability"
   ]
  },
  {
   "cell_type": "markdown",
   "id": "74df408e-64c9-453e-8d18-84cf20fa008b",
   "metadata": {},
   "source": [
    "### Solution 2"
   ]
  },
  {
   "cell_type": "code",
   "execution_count": 12,
   "id": "fb25887b-38a3-4f0d-ac5a-34718a5d1925",
   "metadata": {},
   "outputs": [
    {
     "data": {
      "text/html": [
       "0.136564548087182"
      ],
      "text/latex": [
       "0.136564548087182"
      ],
      "text/markdown": [
       "0.136564548087182"
      ],
      "text/plain": [
       "[1] 0.1365645"
      ]
     },
     "metadata": {},
     "output_type": "display_data"
    }
   ],
   "source": [
    "dbinom(x=k, size=n, prob=p)"
   ]
  },
  {
   "cell_type": "markdown",
   "id": "1fd35fc0-8e31-42a9-a7e3-1e2d4a293c29",
   "metadata": {},
   "source": [
    "### Get the probability of the candidate passing"
   ]
  },
  {
   "cell_type": "markdown",
   "id": "202d0032-d82b-408a-a1bf-07e4667c8432",
   "metadata": {},
   "source": [
    "### $$P(to hit \\geq 5) = P(5) + P(6) + P(7) + P(8) + P(9) + P(10)$$"
   ]
  },
  {
   "cell_type": "code",
   "execution_count": 13,
   "id": "a0bfe704-6185-4013-94f1-d1f9d4005873",
   "metadata": {},
   "outputs": [
    {
     "data": {
      "text/html": [
       "0.213128080069095"
      ],
      "text/latex": [
       "0.213128080069095"
      ],
      "text/markdown": [
       "0.213128080069095"
      ],
      "text/plain": [
       "[1] 0.2131281"
      ]
     },
     "metadata": {},
     "output_type": "display_data"
    },
    {
     "data": {
      "text/html": [
       "21.31"
      ],
      "text/latex": [
       "21.31"
      ],
      "text/markdown": [
       "21.31"
      ],
      "text/plain": [
       "[1] 21.31"
      ]
     },
     "metadata": {},
     "output_type": "display_data"
    }
   ],
   "source": [
    "probability_passing <- pbinom(q=4, size=10, prob=p, lower.tail=FALSE, log.p=FALSE)\n",
    "probability_passing\n",
    "round(probability_passing, 4) * 100"
   ]
  },
  {
   "cell_type": "markdown",
   "id": "e8ce2b46-2530-4e3c-9b02-ecdb9fbb69c6",
   "metadata": {},
   "source": [
    "***\n",
    "### <font color='purple'>Example Problem: Scavenger Hunt</font>"
   ]
  },
  {
   "cell_type": "markdown",
   "id": "23ef21fb-0c76-4e6e-98cb-4a120266a568",
   "metadata": {},
   "source": [
    "A city in the interior holds a contest every year to raise funds for the city's hospital. In the last competition it is known that the **proportion of female participants was 60%**. **The total number of teams, with 12 members, registered in this year's competition is 30**. With the information above, answer: How many teams should be formed by **8 women**?"
   ]
  },
  {
   "cell_type": "code",
   "execution_count": 14,
   "id": "b3fab8cd-7fce-4045-9ae2-b3c62b3f0080",
   "metadata": {},
   "outputs": [
    {
     "data": {
      "text/html": [
       "0.6"
      ],
      "text/latex": [
       "0.6"
      ],
      "text/markdown": [
       "0.6"
      ],
      "text/plain": [
       "[1] 0.6"
      ]
     },
     "metadata": {},
     "output_type": "display_data"
    }
   ],
   "source": [
    "p <- 0.6\n",
    "p"
   ]
  },
  {
   "cell_type": "code",
   "execution_count": 15,
   "id": "1d72c8b9-96ab-4168-bd24-361e19e29c90",
   "metadata": {},
   "outputs": [
    {
     "data": {
      "text/html": [
       "12"
      ],
      "text/latex": [
       "12"
      ],
      "text/markdown": [
       "12"
      ],
      "text/plain": [
       "[1] 12"
      ]
     },
     "metadata": {},
     "output_type": "display_data"
    }
   ],
   "source": [
    "n <- 12\n",
    "n"
   ]
  },
  {
   "cell_type": "code",
   "execution_count": 16,
   "id": "1e68e648-40ae-47fd-9aef-49e22e0248a0",
   "metadata": {},
   "outputs": [
    {
     "data": {
      "text/html": [
       "8"
      ],
      "text/latex": [
       "8"
      ],
      "text/markdown": [
       "8"
      ],
      "text/plain": [
       "[1] 8"
      ]
     },
     "metadata": {},
     "output_type": "display_data"
    }
   ],
   "source": [
    "k <- 8\n",
    "k"
   ]
  },
  {
   "cell_type": "code",
   "execution_count": 17,
   "id": "fb97ac31-d302-4130-8d6a-29211a402332",
   "metadata": {},
   "outputs": [
    {
     "data": {
      "text/html": [
       "0.21284093952"
      ],
      "text/latex": [
       "0.21284093952"
      ],
      "text/markdown": [
       "0.21284093952"
      ],
      "text/plain": [
       "[1] 0.2128409"
      ]
     },
     "metadata": {},
     "output_type": "display_data"
    }
   ],
   "source": [
    "probability <- dbinom(x=k, size=n, prob=p)\n",
    "probability"
   ]
  },
  {
   "cell_type": "code",
   "execution_count": 18,
   "id": "784097d9-3de4-4450-bcff-84b71504972c",
   "metadata": {},
   "outputs": [
    {
     "data": {
      "text/html": [
       "6.3852281856"
      ],
      "text/latex": [
       "6.3852281856"
      ],
      "text/markdown": [
       "6.3852281856"
      ],
      "text/plain": [
       "[1] 6.385228"
      ]
     },
     "metadata": {},
     "output_type": "display_data"
    },
    {
     "data": {
      "text/html": [
       "6"
      ],
      "text/latex": [
       "6"
      ],
      "text/markdown": [
       "6"
      ],
      "text/plain": [
       "[1] 6"
      ]
     },
     "metadata": {},
     "output_type": "display_data"
    }
   ],
   "source": [
    "teams_women <- 30 * probability\n",
    "teams_women\n",
    "round(teams_women)"
   ]
  },
  {
   "cell_type": "markdown",
   "id": "c074bdf3-5bda-4edd-8ca9-463e2fbd79b2",
   "metadata": {},
   "source": [
    "***\n",
    "## <font color='lightgreen'>Poisson Distribution</font>"
   ]
  },
  {
   "cell_type": "markdown",
   "id": "2fa3ce6a-cf9c-4a5a-806a-cf70dd6361b4",
   "metadata": {},
   "source": [
    "It is used to describe the number of occurrences in a specific time or space interval. Events are characterized by the possibility of counting successes, but the inability to count failures.\n",
    "\n",
    "As examples of processes where we can apply the Poisson distribution, we have the determination of the number of customers that enter a store at a given time, the number of cars that arrive at a drive-thru of a cafeteria at lunch time, the determination of the number of accidents recorded on a stretch of road, etc."
   ]
  },
  {
   "cell_type": "markdown",
   "id": "933f9de5-fc24-4c1c-be2a-1d7f2b09b42b",
   "metadata": {},
   "source": [
    "# $$P(k) = \\frac{e^{-\\mu}(\\mu)^k}{k!}$$\n",
    "\n",
    "Where:\n",
    "\n",
    "$e$ = constant whose approximate value is 2,718281828459045\n",
    "\n",
    "$\\mu$ = represents the average number of occurrences in a given interval of time or space\n",
    "\n",
    "$k$ = number of successes in the desired range"
   ]
  },
  {
   "cell_type": "markdown",
   "id": "c608dc27-afce-444f-b0ee-689b9bbd19c7",
   "metadata": {},
   "source": [
    "### Poisson Experiment"
   ]
  },
  {
   "cell_type": "markdown",
   "id": "2ea7d267-33ab-4f41-b31b-fe5296b90558",
   "metadata": {},
   "source": [
    "1. The probability of an occurrence is the same throughout the observed interval.\n",
    "\n",
    "2. The number of occurrences in a given interval is independent of the number of occurrences in other intervals.\n",
    "\n",
    "3. The probability of an occurrence is the same in intervals of equal length."
   ]
  },
  {
   "cell_type": "markdown",
   "id": "0a8a004c-6b01-43cc-a2c4-c45f049cf0c2",
   "metadata": {},
   "source": [
    "### Mean of the Poisson distribution"
   ]
  },
  {
   "cell_type": "markdown",
   "id": "c91d65b5-8131-4461-ad87-04f4cccf7b42",
   "metadata": {},
   "source": [
    "# $$\\mu$$"
   ]
  },
  {
   "cell_type": "markdown",
   "id": "a0fa18c7-95d3-4936-a1f5-eb367e398779",
   "metadata": {},
   "source": [
    "### Standard deviation of the Poisson distribution"
   ]
  },
  {
   "cell_type": "markdown",
   "id": "e801b42f-c385-45c5-b23a-1841bdf3c71c",
   "metadata": {},
   "source": [
    "# $$\\sigma = \\sqrt{\\mu}$$"
   ]
  },
  {
   "cell_type": "markdown",
   "id": "d37634be-8c5e-4159-b9b7-778375f4a91e",
   "metadata": {},
   "source": [
    "### Constant whose approximate"
   ]
  },
  {
   "cell_type": "code",
   "execution_count": 19,
   "id": "5592821c-a940-466a-a6d3-7f063a340622",
   "metadata": {},
   "outputs": [
    {
     "data": {
      "text/html": [
       "2.71828182845905"
      ],
      "text/latex": [
       "2.71828182845905"
      ],
      "text/markdown": [
       "2.71828182845905"
      ],
      "text/plain": [
       "[1] 2.718282"
      ]
     },
     "metadata": {},
     "output_type": "display_data"
    }
   ],
   "source": [
    "e <- exp(1)\n",
    "e"
   ]
  },
  {
   "cell_type": "markdown",
   "id": "5f181d32-0d4e-4786-a6a1-a87b4a4c8ea3",
   "metadata": {},
   "source": [
    "***\n",
    "### <font color='purple'>Example Problem: Delivery</font>"
   ]
  },
  {
   "cell_type": "markdown",
   "id": "c55c9c85-a830-4a9a-b79d-96004ebb86b5",
   "metadata": {},
   "source": [
    "A restaurant receives on average **20 orders per hour**. What is the chance that, at a given time chosen at random, the restaurant will receive **15 orders**?"
   ]
  },
  {
   "cell_type": "code",
   "execution_count": 20,
   "id": "c6ba6c6f-513f-4c80-b14d-f2241d46fd6e",
   "metadata": {},
   "outputs": [
    {
     "data": {
      "text/html": [
       "20"
      ],
      "text/latex": [
       "20"
      ],
      "text/markdown": [
       "20"
      ],
      "text/plain": [
       "[1] 20"
      ]
     },
     "metadata": {},
     "output_type": "display_data"
    }
   ],
   "source": [
    "mean <- 20\n",
    "mean"
   ]
  },
  {
   "cell_type": "code",
   "execution_count": 21,
   "id": "89a55743-de66-47ad-8b6d-19a86a50033c",
   "metadata": {},
   "outputs": [
    {
     "data": {
      "text/html": [
       "15"
      ],
      "text/latex": [
       "15"
      ],
      "text/markdown": [
       "15"
      ],
      "text/plain": [
       "[1] 15"
      ]
     },
     "metadata": {},
     "output_type": "display_data"
    }
   ],
   "source": [
    "k <- 15\n",
    "k"
   ]
  },
  {
   "cell_type": "code",
   "execution_count": 22,
   "id": "dacd45d3-fbdc-4e12-96f5-a09bb1613c20",
   "metadata": {},
   "outputs": [
    {
     "data": {
      "text/html": [
       "0.0516488535317584"
      ],
      "text/latex": [
       "0.0516488535317584"
      ],
      "text/markdown": [
       "0.0516488535317584"
      ],
      "text/plain": [
       "[1] 0.05164885"
      ]
     },
     "metadata": {},
     "output_type": "display_data"
    },
    {
     "data": {
      "text/html": [
       "5.16"
      ],
      "text/latex": [
       "5.16"
      ],
      "text/markdown": [
       "5.16"
      ],
      "text/plain": [
       "[1] 5.16"
      ]
     },
     "metadata": {},
     "output_type": "display_data"
    }
   ],
   "source": [
    "probability <- dpois(x=k, lambda=mean)\n",
    "probability\n",
    "round(probability, 4) * 100"
   ]
  },
  {
   "cell_type": "markdown",
   "id": "d252c7bc-dc18-43ce-b186-ab3878afdea9",
   "metadata": {},
   "source": [
    "***\n",
    "### <font color='purple'>Example Problem: Bakery</font>"
   ]
  },
  {
   "cell_type": "markdown",
   "id": "a5133da7-5690-40c9-8e77-d46a4d18380f",
   "metadata": {},
   "source": [
    "The average number of customers entering a bakery **per hour is 20**. Find the probability that, in the next hour, **exactly 25 customers will enter.**"
   ]
  },
  {
   "cell_type": "code",
   "execution_count": 23,
   "id": "b677f7eb-b14d-4ca9-b0cc-22460c176bf0",
   "metadata": {},
   "outputs": [
    {
     "data": {
      "text/html": [
       "20"
      ],
      "text/latex": [
       "20"
      ],
      "text/markdown": [
       "20"
      ],
      "text/plain": [
       "[1] 20"
      ]
     },
     "metadata": {},
     "output_type": "display_data"
    }
   ],
   "source": [
    "mean <- 20\n",
    "mean"
   ]
  },
  {
   "cell_type": "code",
   "execution_count": 24,
   "id": "1f3a4355-105a-490a-9b30-b04b1cf83f0e",
   "metadata": {},
   "outputs": [
    {
     "data": {
      "text/html": [
       "25"
      ],
      "text/latex": [
       "25"
      ],
      "text/markdown": [
       "25"
      ],
      "text/plain": [
       "[1] 25"
      ]
     },
     "metadata": {},
     "output_type": "display_data"
    }
   ],
   "source": [
    "k <- 25\n",
    "k"
   ]
  },
  {
   "cell_type": "code",
   "execution_count": 25,
   "id": "c3df63f0-0ba9-4f1d-b98c-e259037de51f",
   "metadata": {},
   "outputs": [
    {
     "data": {
      "text/html": [
       "0.0445876491082679"
      ],
      "text/latex": [
       "0.0445876491082679"
      ],
      "text/markdown": [
       "0.0445876491082679"
      ],
      "text/plain": [
       "[1] 0.04458765"
      ]
     },
     "metadata": {},
     "output_type": "display_data"
    },
    {
     "data": {
      "text/html": [
       "4.46"
      ],
      "text/latex": [
       "4.46"
      ],
      "text/markdown": [
       "4.46"
      ],
      "text/plain": [
       "[1] 4.46"
      ]
     },
     "metadata": {},
     "output_type": "display_data"
    }
   ],
   "source": [
    "probability <- dpois(x=k, lambda=mean)\n",
    "probability\n",
    "round(probability, 4) * 100"
   ]
  },
  {
   "cell_type": "markdown",
   "id": "7038ad13-9666-489e-99bd-b9084a0a4f41",
   "metadata": {},
   "source": [
    "***\n",
    "## <font color='lightgreen'>Normal Distribution</font>"
   ]
  },
  {
   "cell_type": "markdown",
   "id": "40667c95-1625-4afb-aeab-81f72eac1814",
   "metadata": {},
   "source": [
    "The normal distribution is one of the most used in statistics. It is a continuous distribution, where the frequency distribution of a quantitative variable is bell-shaped and symmetrical in relation to its mean."
   ]
  },
  {
   "cell_type": "markdown",
   "id": "e2dcf358-d38c-4406-a801-5bdf63529769",
   "metadata": {},
   "source": [
    "![Normal](https://caelum-online-public.s3.amazonaws.com/1178-estatistica-parte2/01/img001.png)"
   ]
  },
  {
   "cell_type": "markdown",
   "id": "34b7d781-cc55-4773-8c64-adb366b2460e",
   "metadata": {},
   "source": [
    "### Important Features"
   ]
  },
  {
   "cell_type": "markdown",
   "id": "cf42a23d-1934-4f9e-bf7f-7971a7512bb0",
   "metadata": {},
   "source": [
    "1. It is symmetrical around the mean;\n",
    "\n",
    "2. The area under the curve corresponds to proportion 1 or 100%;\n",
    "\n",
    "3. Central tendency measures (mean, median and mode) have the same value;\n",
    "\n",
    "4. The extremes of the curve tend to infinity in both directions and, theoretically, never touch the $x$ axis;\n",
    "\n",
    "5. Standard deviation defines the flatness and width of the distribution. Wider and flatter curves have higher standard deviation values;\n",
    "\n",
    "6. The distribution is defined by its mean and standard deviation;\n",
    "\n",
    "7. The probability will always be equal to the area under the curve, delimited by the lower and upper limits."
   ]
  },
  {
   "cell_type": "markdown",
   "id": "ac458e61-4c2b-466f-83e9-153683c6ba5f",
   "metadata": {},
   "source": [
    "# $$f(x) = \\frac{1}{\\sqrt{2\\pi\\sigma}}e^{-\\frac{1}{2}\\left(\\frac{x-\\mu}{\\sigma}\\right)^2}$$\n",
    "\n",
    "Where:\n",
    "\n",
    "$x$ = Normal variable\n",
    "\n",
    "$\\sigma$ = Stardard Deviation\n",
    "\n",
    "$\\mu$ = Mean"
   ]
  },
  {
   "cell_type": "markdown",
   "id": "97fbebeb-aafc-4906-bda3-78e9587cb337",
   "metadata": {},
   "source": [
    "To obtain the area above, simply calculate the integral of the function for the determined intervals. According to the equation below:"
   ]
  },
  {
   "cell_type": "markdown",
   "id": "ef071b08-3771-46d1-9987-30eea51f587e",
   "metadata": {},
   "source": [
    "# $$P(L_i<x<L_s) = \\int_{L_i}^{L_s}\\frac{1}{\\sqrt{2\\pi\\sigma}}e^{-\\frac{1}{2}\\left(\\frac{x-\\mu}{\\sigma}\\right)^2}$$\n",
    "\n",
    "Where:\n",
    "\n",
    "$x$ = Normal Variable\n",
    "\n",
    "$\\sigma$ = Standard Deviation\n",
    "\n",
    "$\\mu$ = Mean\n",
    "\n",
    "$L_i$ = Inferior limit\n",
    "\n",
    "$L_s$ = Superior limit"
   ]
  },
  {
   "cell_type": "markdown",
   "id": "9352a854-be4b-4397-8222-0644d8f6445e",
   "metadata": {},
   "source": [
    "### Standardized tables"
   ]
  },
  {
   "cell_type": "markdown",
   "id": "b6230751-2c5b-46cb-8e34-c6639b959acf",
   "metadata": {},
   "source": [
    "Standardized tables were created to facilitate obtaining the values of the areas under the normal curve and eliminate the need to solve defined integrals.\n",
    "\n",
    "To consult the values in a standardized table, we simply transform our variable into a standardized variable $Z$.\n",
    "\n",
    "This variable $Z$ represents the deviation in standard deviations of a value of the original variable in relation to the mean."
   ]
  },
  {
   "cell_type": "markdown",
   "id": "442c890c-fa78-4dbc-a26f-d099ffae1daf",
   "metadata": {},
   "source": [
    "# $$Z = \\frac{x-\\mu}{\\sigma}$$\n",
    "\n",
    "Where:\n",
    "\n",
    "$x$ = Normal Varible with Mean $\\mu$ and Standard Deviation $\\sigma$\n",
    "\n",
    "$\\sigma$ = Standard Deviation\n",
    "\n",
    "$\\mu$ = Mean"
   ]
  },
  {
   "cell_type": "markdown",
   "id": "45f03507-4af6-4a89-8e16-b80a0f8b876f",
   "metadata": {},
   "source": [
    "### Building standardized normal table"
   ]
  },
  {
   "cell_type": "code",
   "execution_count": 26,
   "id": "1879cb54-1eb5-4c04-8c23-e583b2b231bf",
   "metadata": {},
   "outputs": [
    {
     "data": {
      "text/html": [
       "<table class=\"dataframe\">\n",
       "<caption>A matrix: 40 × 10 of type dbl</caption>\n",
       "<thead>\n",
       "\t<tr><th></th><th scope=col>0.00</th><th scope=col>0.01</th><th scope=col>0.02</th><th scope=col>0.03</th><th scope=col>0.04</th><th scope=col>0.05</th><th scope=col>0.06</th><th scope=col>0.07</th><th scope=col>0.08</th><th scope=col>0.09</th></tr>\n",
       "</thead>\n",
       "<tbody>\n",
       "\t<tr><th scope=row>0.00</th><td>0.5000000</td><td>0.5039894</td><td>0.5079783</td><td>0.5119665</td><td>0.5159534</td><td>0.5199388</td><td>0.5239222</td><td>0.5279032</td><td>0.5318814</td><td>0.5358564</td></tr>\n",
       "\t<tr><th scope=row>0.10</th><td>0.5398278</td><td>0.5437953</td><td>0.5477584</td><td>0.5517168</td><td>0.5556700</td><td>0.5596177</td><td>0.5635595</td><td>0.5674949</td><td>0.5714237</td><td>0.5753454</td></tr>\n",
       "\t<tr><th scope=row>0.20</th><td>0.5792597</td><td>0.5831662</td><td>0.5870644</td><td>0.5909541</td><td>0.5948349</td><td>0.5987063</td><td>0.6025681</td><td>0.6064199</td><td>0.6102612</td><td>0.6140919</td></tr>\n",
       "\t<tr><th scope=row>0.30</th><td>0.6179114</td><td>0.6217195</td><td>0.6255158</td><td>0.6293000</td><td>0.6330717</td><td>0.6368307</td><td>0.6405764</td><td>0.6443088</td><td>0.6480273</td><td>0.6517317</td></tr>\n",
       "\t<tr><th scope=row>0.40</th><td>0.6554217</td><td>0.6590970</td><td>0.6627573</td><td>0.6664022</td><td>0.6700314</td><td>0.6736448</td><td>0.6772419</td><td>0.6808225</td><td>0.6843863</td><td>0.6879331</td></tr>\n",
       "\t<tr><th scope=row>0.50</th><td>0.6914625</td><td>0.6949743</td><td>0.6984682</td><td>0.7019440</td><td>0.7054015</td><td>0.7088403</td><td>0.7122603</td><td>0.7156612</td><td>0.7190427</td><td>0.7224047</td></tr>\n",
       "\t<tr><th scope=row>0.60</th><td>0.7257469</td><td>0.7290691</td><td>0.7323711</td><td>0.7356527</td><td>0.7389137</td><td>0.7421539</td><td>0.7453731</td><td>0.7485711</td><td>0.7517478</td><td>0.7549029</td></tr>\n",
       "\t<tr><th scope=row>0.70</th><td>0.7580363</td><td>0.7611479</td><td>0.7642375</td><td>0.7673049</td><td>0.7703500</td><td>0.7733726</td><td>0.7763727</td><td>0.7793501</td><td>0.7823046</td><td>0.7852361</td></tr>\n",
       "\t<tr><th scope=row>0.80</th><td>0.7881446</td><td>0.7910299</td><td>0.7938919</td><td>0.7967306</td><td>0.7995458</td><td>0.8023375</td><td>0.8051055</td><td>0.8078498</td><td>0.8105703</td><td>0.8132671</td></tr>\n",
       "\t<tr><th scope=row>0.90</th><td>0.8159399</td><td>0.8185887</td><td>0.8212136</td><td>0.8238145</td><td>0.8263912</td><td>0.8289439</td><td>0.8314724</td><td>0.8339768</td><td>0.8364569</td><td>0.8389129</td></tr>\n",
       "\t<tr><th scope=row>1.00</th><td>0.8413447</td><td>0.8437524</td><td>0.8461358</td><td>0.8484950</td><td>0.8508300</td><td>0.8531409</td><td>0.8554277</td><td>0.8576903</td><td>0.8599289</td><td>0.8621434</td></tr>\n",
       "\t<tr><th scope=row>1.10</th><td>0.8643339</td><td>0.8665005</td><td>0.8686431</td><td>0.8707619</td><td>0.8728568</td><td>0.8749281</td><td>0.8769756</td><td>0.8789995</td><td>0.8809999</td><td>0.8829768</td></tr>\n",
       "\t<tr><th scope=row>1.20</th><td>0.8849303</td><td>0.8868606</td><td>0.8887676</td><td>0.8906514</td><td>0.8925123</td><td>0.8943502</td><td>0.8961653</td><td>0.8979577</td><td>0.8997274</td><td>0.9014747</td></tr>\n",
       "\t<tr><th scope=row>1.30</th><td>0.9031995</td><td>0.9049021</td><td>0.9065825</td><td>0.9082409</td><td>0.9098773</td><td>0.9114920</td><td>0.9130850</td><td>0.9146565</td><td>0.9162067</td><td>0.9177356</td></tr>\n",
       "\t<tr><th scope=row>1.40</th><td>0.9192433</td><td>0.9207302</td><td>0.9221962</td><td>0.9236415</td><td>0.9250663</td><td>0.9264707</td><td>0.9278550</td><td>0.9292191</td><td>0.9305634</td><td>0.9318879</td></tr>\n",
       "\t<tr><th scope=row>1.50</th><td>0.9331928</td><td>0.9344783</td><td>0.9357445</td><td>0.9369916</td><td>0.9382198</td><td>0.9394292</td><td>0.9406201</td><td>0.9417924</td><td>0.9429466</td><td>0.9440826</td></tr>\n",
       "\t<tr><th scope=row>1.60</th><td>0.9452007</td><td>0.9463011</td><td>0.9473839</td><td>0.9484493</td><td>0.9494974</td><td>0.9505285</td><td>0.9515428</td><td>0.9525403</td><td>0.9535213</td><td>0.9544860</td></tr>\n",
       "\t<tr><th scope=row>1.70</th><td>0.9554345</td><td>0.9563671</td><td>0.9572838</td><td>0.9581849</td><td>0.9590705</td><td>0.9599408</td><td>0.9607961</td><td>0.9616364</td><td>0.9624620</td><td>0.9632730</td></tr>\n",
       "\t<tr><th scope=row>1.80</th><td>0.9640697</td><td>0.9648521</td><td>0.9656205</td><td>0.9663750</td><td>0.9671159</td><td>0.9678432</td><td>0.9685572</td><td>0.9692581</td><td>0.9699460</td><td>0.9706210</td></tr>\n",
       "\t<tr><th scope=row>1.90</th><td>0.9712834</td><td>0.9719334</td><td>0.9725711</td><td>0.9731966</td><td>0.9738102</td><td>0.9744119</td><td>0.9750021</td><td>0.9755808</td><td>0.9761482</td><td>0.9767045</td></tr>\n",
       "\t<tr><th scope=row>2.00</th><td>0.9772499</td><td>0.9777844</td><td>0.9783083</td><td>0.9788217</td><td>0.9793248</td><td>0.9798178</td><td>0.9803007</td><td>0.9807738</td><td>0.9812372</td><td>0.9816911</td></tr>\n",
       "\t<tr><th scope=row>2.10</th><td>0.9821356</td><td>0.9825708</td><td>0.9829970</td><td>0.9834142</td><td>0.9838226</td><td>0.9842224</td><td>0.9846137</td><td>0.9849966</td><td>0.9853713</td><td>0.9857379</td></tr>\n",
       "\t<tr><th scope=row>2.20</th><td>0.9860966</td><td>0.9864474</td><td>0.9867906</td><td>0.9871263</td><td>0.9874545</td><td>0.9877755</td><td>0.9880894</td><td>0.9883962</td><td>0.9886962</td><td>0.9889893</td></tr>\n",
       "\t<tr><th scope=row>2.30</th><td>0.9892759</td><td>0.9895559</td><td>0.9898296</td><td>0.9900969</td><td>0.9903581</td><td>0.9906133</td><td>0.9908625</td><td>0.9911060</td><td>0.9913437</td><td>0.9915758</td></tr>\n",
       "\t<tr><th scope=row>2.40</th><td>0.9918025</td><td>0.9920237</td><td>0.9922397</td><td>0.9924506</td><td>0.9926564</td><td>0.9928572</td><td>0.9930531</td><td>0.9932443</td><td>0.9934309</td><td>0.9936128</td></tr>\n",
       "\t<tr><th scope=row>2.50</th><td>0.9937903</td><td>0.9939634</td><td>0.9941323</td><td>0.9942969</td><td>0.9944574</td><td>0.9946139</td><td>0.9947664</td><td>0.9949151</td><td>0.9950600</td><td>0.9952012</td></tr>\n",
       "\t<tr><th scope=row>2.60</th><td>0.9953388</td><td>0.9954729</td><td>0.9956035</td><td>0.9957308</td><td>0.9958547</td><td>0.9959754</td><td>0.9960930</td><td>0.9962074</td><td>0.9963189</td><td>0.9964274</td></tr>\n",
       "\t<tr><th scope=row>2.70</th><td>0.9965330</td><td>0.9966358</td><td>0.9967359</td><td>0.9968333</td><td>0.9969280</td><td>0.9970202</td><td>0.9971099</td><td>0.9971972</td><td>0.9972821</td><td>0.9973646</td></tr>\n",
       "\t<tr><th scope=row>2.80</th><td>0.9974449</td><td>0.9975229</td><td>0.9975988</td><td>0.9976726</td><td>0.9977443</td><td>0.9978140</td><td>0.9978818</td><td>0.9979476</td><td>0.9980116</td><td>0.9980738</td></tr>\n",
       "\t<tr><th scope=row>2.90</th><td>0.9981342</td><td>0.9981929</td><td>0.9982498</td><td>0.9983052</td><td>0.9983589</td><td>0.9984111</td><td>0.9984618</td><td>0.9985110</td><td>0.9985588</td><td>0.9986051</td></tr>\n",
       "\t<tr><th scope=row>3.00</th><td>0.9986501</td><td>0.9986938</td><td>0.9987361</td><td>0.9987772</td><td>0.9988171</td><td>0.9988558</td><td>0.9988933</td><td>0.9989297</td><td>0.9989650</td><td>0.9989992</td></tr>\n",
       "\t<tr><th scope=row>3.10</th><td>0.9990324</td><td>0.9990646</td><td>0.9990957</td><td>0.9991260</td><td>0.9991553</td><td>0.9991836</td><td>0.9992112</td><td>0.9992378</td><td>0.9992636</td><td>0.9992886</td></tr>\n",
       "\t<tr><th scope=row>3.20</th><td>0.9993129</td><td>0.9993363</td><td>0.9993590</td><td>0.9993810</td><td>0.9994024</td><td>0.9994230</td><td>0.9994429</td><td>0.9994623</td><td>0.9994810</td><td>0.9994991</td></tr>\n",
       "\t<tr><th scope=row>3.30</th><td>0.9995166</td><td>0.9995335</td><td>0.9995499</td><td>0.9995658</td><td>0.9995811</td><td>0.9995959</td><td>0.9996103</td><td>0.9996242</td><td>0.9996376</td><td>0.9996505</td></tr>\n",
       "\t<tr><th scope=row>3.40</th><td>0.9996631</td><td>0.9996752</td><td>0.9996869</td><td>0.9996982</td><td>0.9997091</td><td>0.9997197</td><td>0.9997299</td><td>0.9997398</td><td>0.9997493</td><td>0.9997585</td></tr>\n",
       "\t<tr><th scope=row>3.50</th><td>0.9997674</td><td>0.9997759</td><td>0.9997842</td><td>0.9997922</td><td>0.9997999</td><td>0.9998074</td><td>0.9998146</td><td>0.9998215</td><td>0.9998282</td><td>0.9998347</td></tr>\n",
       "\t<tr><th scope=row>3.60</th><td>0.9998409</td><td>0.9998469</td><td>0.9998527</td><td>0.9998583</td><td>0.9998637</td><td>0.9998689</td><td>0.9998739</td><td>0.9998787</td><td>0.9998834</td><td>0.9998879</td></tr>\n",
       "\t<tr><th scope=row>3.70</th><td>0.9998922</td><td>0.9998964</td><td>0.9999004</td><td>0.9999043</td><td>0.9999080</td><td>0.9999116</td><td>0.9999150</td><td>0.9999184</td><td>0.9999216</td><td>0.9999247</td></tr>\n",
       "\t<tr><th scope=row>3.80</th><td>0.9999277</td><td>0.9999305</td><td>0.9999333</td><td>0.9999359</td><td>0.9999385</td><td>0.9999409</td><td>0.9999433</td><td>0.9999456</td><td>0.9999478</td><td>0.9999499</td></tr>\n",
       "\t<tr><th scope=row>3.90</th><td>0.9999519</td><td>0.9999539</td><td>0.9999557</td><td>0.9999575</td><td>0.9999593</td><td>0.9999609</td><td>0.9999625</td><td>0.9999641</td><td>0.9999655</td><td>0.9999670</td></tr>\n",
       "</tbody>\n",
       "</table>\n"
      ],
      "text/latex": [
       "A matrix: 40 × 10 of type dbl\n",
       "\\begin{tabular}{r|llllllllll}\n",
       "  & 0.00 & 0.01 & 0.02 & 0.03 & 0.04 & 0.05 & 0.06 & 0.07 & 0.08 & 0.09\\\\\n",
       "\\hline\n",
       "\t0.00 & 0.5000000 & 0.5039894 & 0.5079783 & 0.5119665 & 0.5159534 & 0.5199388 & 0.5239222 & 0.5279032 & 0.5318814 & 0.5358564\\\\\n",
       "\t0.10 & 0.5398278 & 0.5437953 & 0.5477584 & 0.5517168 & 0.5556700 & 0.5596177 & 0.5635595 & 0.5674949 & 0.5714237 & 0.5753454\\\\\n",
       "\t0.20 & 0.5792597 & 0.5831662 & 0.5870644 & 0.5909541 & 0.5948349 & 0.5987063 & 0.6025681 & 0.6064199 & 0.6102612 & 0.6140919\\\\\n",
       "\t0.30 & 0.6179114 & 0.6217195 & 0.6255158 & 0.6293000 & 0.6330717 & 0.6368307 & 0.6405764 & 0.6443088 & 0.6480273 & 0.6517317\\\\\n",
       "\t0.40 & 0.6554217 & 0.6590970 & 0.6627573 & 0.6664022 & 0.6700314 & 0.6736448 & 0.6772419 & 0.6808225 & 0.6843863 & 0.6879331\\\\\n",
       "\t0.50 & 0.6914625 & 0.6949743 & 0.6984682 & 0.7019440 & 0.7054015 & 0.7088403 & 0.7122603 & 0.7156612 & 0.7190427 & 0.7224047\\\\\n",
       "\t0.60 & 0.7257469 & 0.7290691 & 0.7323711 & 0.7356527 & 0.7389137 & 0.7421539 & 0.7453731 & 0.7485711 & 0.7517478 & 0.7549029\\\\\n",
       "\t0.70 & 0.7580363 & 0.7611479 & 0.7642375 & 0.7673049 & 0.7703500 & 0.7733726 & 0.7763727 & 0.7793501 & 0.7823046 & 0.7852361\\\\\n",
       "\t0.80 & 0.7881446 & 0.7910299 & 0.7938919 & 0.7967306 & 0.7995458 & 0.8023375 & 0.8051055 & 0.8078498 & 0.8105703 & 0.8132671\\\\\n",
       "\t0.90 & 0.8159399 & 0.8185887 & 0.8212136 & 0.8238145 & 0.8263912 & 0.8289439 & 0.8314724 & 0.8339768 & 0.8364569 & 0.8389129\\\\\n",
       "\t1.00 & 0.8413447 & 0.8437524 & 0.8461358 & 0.8484950 & 0.8508300 & 0.8531409 & 0.8554277 & 0.8576903 & 0.8599289 & 0.8621434\\\\\n",
       "\t1.10 & 0.8643339 & 0.8665005 & 0.8686431 & 0.8707619 & 0.8728568 & 0.8749281 & 0.8769756 & 0.8789995 & 0.8809999 & 0.8829768\\\\\n",
       "\t1.20 & 0.8849303 & 0.8868606 & 0.8887676 & 0.8906514 & 0.8925123 & 0.8943502 & 0.8961653 & 0.8979577 & 0.8997274 & 0.9014747\\\\\n",
       "\t1.30 & 0.9031995 & 0.9049021 & 0.9065825 & 0.9082409 & 0.9098773 & 0.9114920 & 0.9130850 & 0.9146565 & 0.9162067 & 0.9177356\\\\\n",
       "\t1.40 & 0.9192433 & 0.9207302 & 0.9221962 & 0.9236415 & 0.9250663 & 0.9264707 & 0.9278550 & 0.9292191 & 0.9305634 & 0.9318879\\\\\n",
       "\t1.50 & 0.9331928 & 0.9344783 & 0.9357445 & 0.9369916 & 0.9382198 & 0.9394292 & 0.9406201 & 0.9417924 & 0.9429466 & 0.9440826\\\\\n",
       "\t1.60 & 0.9452007 & 0.9463011 & 0.9473839 & 0.9484493 & 0.9494974 & 0.9505285 & 0.9515428 & 0.9525403 & 0.9535213 & 0.9544860\\\\\n",
       "\t1.70 & 0.9554345 & 0.9563671 & 0.9572838 & 0.9581849 & 0.9590705 & 0.9599408 & 0.9607961 & 0.9616364 & 0.9624620 & 0.9632730\\\\\n",
       "\t1.80 & 0.9640697 & 0.9648521 & 0.9656205 & 0.9663750 & 0.9671159 & 0.9678432 & 0.9685572 & 0.9692581 & 0.9699460 & 0.9706210\\\\\n",
       "\t1.90 & 0.9712834 & 0.9719334 & 0.9725711 & 0.9731966 & 0.9738102 & 0.9744119 & 0.9750021 & 0.9755808 & 0.9761482 & 0.9767045\\\\\n",
       "\t2.00 & 0.9772499 & 0.9777844 & 0.9783083 & 0.9788217 & 0.9793248 & 0.9798178 & 0.9803007 & 0.9807738 & 0.9812372 & 0.9816911\\\\\n",
       "\t2.10 & 0.9821356 & 0.9825708 & 0.9829970 & 0.9834142 & 0.9838226 & 0.9842224 & 0.9846137 & 0.9849966 & 0.9853713 & 0.9857379\\\\\n",
       "\t2.20 & 0.9860966 & 0.9864474 & 0.9867906 & 0.9871263 & 0.9874545 & 0.9877755 & 0.9880894 & 0.9883962 & 0.9886962 & 0.9889893\\\\\n",
       "\t2.30 & 0.9892759 & 0.9895559 & 0.9898296 & 0.9900969 & 0.9903581 & 0.9906133 & 0.9908625 & 0.9911060 & 0.9913437 & 0.9915758\\\\\n",
       "\t2.40 & 0.9918025 & 0.9920237 & 0.9922397 & 0.9924506 & 0.9926564 & 0.9928572 & 0.9930531 & 0.9932443 & 0.9934309 & 0.9936128\\\\\n",
       "\t2.50 & 0.9937903 & 0.9939634 & 0.9941323 & 0.9942969 & 0.9944574 & 0.9946139 & 0.9947664 & 0.9949151 & 0.9950600 & 0.9952012\\\\\n",
       "\t2.60 & 0.9953388 & 0.9954729 & 0.9956035 & 0.9957308 & 0.9958547 & 0.9959754 & 0.9960930 & 0.9962074 & 0.9963189 & 0.9964274\\\\\n",
       "\t2.70 & 0.9965330 & 0.9966358 & 0.9967359 & 0.9968333 & 0.9969280 & 0.9970202 & 0.9971099 & 0.9971972 & 0.9972821 & 0.9973646\\\\\n",
       "\t2.80 & 0.9974449 & 0.9975229 & 0.9975988 & 0.9976726 & 0.9977443 & 0.9978140 & 0.9978818 & 0.9979476 & 0.9980116 & 0.9980738\\\\\n",
       "\t2.90 & 0.9981342 & 0.9981929 & 0.9982498 & 0.9983052 & 0.9983589 & 0.9984111 & 0.9984618 & 0.9985110 & 0.9985588 & 0.9986051\\\\\n",
       "\t3.00 & 0.9986501 & 0.9986938 & 0.9987361 & 0.9987772 & 0.9988171 & 0.9988558 & 0.9988933 & 0.9989297 & 0.9989650 & 0.9989992\\\\\n",
       "\t3.10 & 0.9990324 & 0.9990646 & 0.9990957 & 0.9991260 & 0.9991553 & 0.9991836 & 0.9992112 & 0.9992378 & 0.9992636 & 0.9992886\\\\\n",
       "\t3.20 & 0.9993129 & 0.9993363 & 0.9993590 & 0.9993810 & 0.9994024 & 0.9994230 & 0.9994429 & 0.9994623 & 0.9994810 & 0.9994991\\\\\n",
       "\t3.30 & 0.9995166 & 0.9995335 & 0.9995499 & 0.9995658 & 0.9995811 & 0.9995959 & 0.9996103 & 0.9996242 & 0.9996376 & 0.9996505\\\\\n",
       "\t3.40 & 0.9996631 & 0.9996752 & 0.9996869 & 0.9996982 & 0.9997091 & 0.9997197 & 0.9997299 & 0.9997398 & 0.9997493 & 0.9997585\\\\\n",
       "\t3.50 & 0.9997674 & 0.9997759 & 0.9997842 & 0.9997922 & 0.9997999 & 0.9998074 & 0.9998146 & 0.9998215 & 0.9998282 & 0.9998347\\\\\n",
       "\t3.60 & 0.9998409 & 0.9998469 & 0.9998527 & 0.9998583 & 0.9998637 & 0.9998689 & 0.9998739 & 0.9998787 & 0.9998834 & 0.9998879\\\\\n",
       "\t3.70 & 0.9998922 & 0.9998964 & 0.9999004 & 0.9999043 & 0.9999080 & 0.9999116 & 0.9999150 & 0.9999184 & 0.9999216 & 0.9999247\\\\\n",
       "\t3.80 & 0.9999277 & 0.9999305 & 0.9999333 & 0.9999359 & 0.9999385 & 0.9999409 & 0.9999433 & 0.9999456 & 0.9999478 & 0.9999499\\\\\n",
       "\t3.90 & 0.9999519 & 0.9999539 & 0.9999557 & 0.9999575 & 0.9999593 & 0.9999609 & 0.9999625 & 0.9999641 & 0.9999655 & 0.9999670\\\\\n",
       "\\end{tabular}\n"
      ],
      "text/markdown": [
       "\n",
       "A matrix: 40 × 10 of type dbl\n",
       "\n",
       "| <!--/--> | 0.00 | 0.01 | 0.02 | 0.03 | 0.04 | 0.05 | 0.06 | 0.07 | 0.08 | 0.09 |\n",
       "|---|---|---|---|---|---|---|---|---|---|---|\n",
       "| 0.00 | 0.5000000 | 0.5039894 | 0.5079783 | 0.5119665 | 0.5159534 | 0.5199388 | 0.5239222 | 0.5279032 | 0.5318814 | 0.5358564 |\n",
       "| 0.10 | 0.5398278 | 0.5437953 | 0.5477584 | 0.5517168 | 0.5556700 | 0.5596177 | 0.5635595 | 0.5674949 | 0.5714237 | 0.5753454 |\n",
       "| 0.20 | 0.5792597 | 0.5831662 | 0.5870644 | 0.5909541 | 0.5948349 | 0.5987063 | 0.6025681 | 0.6064199 | 0.6102612 | 0.6140919 |\n",
       "| 0.30 | 0.6179114 | 0.6217195 | 0.6255158 | 0.6293000 | 0.6330717 | 0.6368307 | 0.6405764 | 0.6443088 | 0.6480273 | 0.6517317 |\n",
       "| 0.40 | 0.6554217 | 0.6590970 | 0.6627573 | 0.6664022 | 0.6700314 | 0.6736448 | 0.6772419 | 0.6808225 | 0.6843863 | 0.6879331 |\n",
       "| 0.50 | 0.6914625 | 0.6949743 | 0.6984682 | 0.7019440 | 0.7054015 | 0.7088403 | 0.7122603 | 0.7156612 | 0.7190427 | 0.7224047 |\n",
       "| 0.60 | 0.7257469 | 0.7290691 | 0.7323711 | 0.7356527 | 0.7389137 | 0.7421539 | 0.7453731 | 0.7485711 | 0.7517478 | 0.7549029 |\n",
       "| 0.70 | 0.7580363 | 0.7611479 | 0.7642375 | 0.7673049 | 0.7703500 | 0.7733726 | 0.7763727 | 0.7793501 | 0.7823046 | 0.7852361 |\n",
       "| 0.80 | 0.7881446 | 0.7910299 | 0.7938919 | 0.7967306 | 0.7995458 | 0.8023375 | 0.8051055 | 0.8078498 | 0.8105703 | 0.8132671 |\n",
       "| 0.90 | 0.8159399 | 0.8185887 | 0.8212136 | 0.8238145 | 0.8263912 | 0.8289439 | 0.8314724 | 0.8339768 | 0.8364569 | 0.8389129 |\n",
       "| 1.00 | 0.8413447 | 0.8437524 | 0.8461358 | 0.8484950 | 0.8508300 | 0.8531409 | 0.8554277 | 0.8576903 | 0.8599289 | 0.8621434 |\n",
       "| 1.10 | 0.8643339 | 0.8665005 | 0.8686431 | 0.8707619 | 0.8728568 | 0.8749281 | 0.8769756 | 0.8789995 | 0.8809999 | 0.8829768 |\n",
       "| 1.20 | 0.8849303 | 0.8868606 | 0.8887676 | 0.8906514 | 0.8925123 | 0.8943502 | 0.8961653 | 0.8979577 | 0.8997274 | 0.9014747 |\n",
       "| 1.30 | 0.9031995 | 0.9049021 | 0.9065825 | 0.9082409 | 0.9098773 | 0.9114920 | 0.9130850 | 0.9146565 | 0.9162067 | 0.9177356 |\n",
       "| 1.40 | 0.9192433 | 0.9207302 | 0.9221962 | 0.9236415 | 0.9250663 | 0.9264707 | 0.9278550 | 0.9292191 | 0.9305634 | 0.9318879 |\n",
       "| 1.50 | 0.9331928 | 0.9344783 | 0.9357445 | 0.9369916 | 0.9382198 | 0.9394292 | 0.9406201 | 0.9417924 | 0.9429466 | 0.9440826 |\n",
       "| 1.60 | 0.9452007 | 0.9463011 | 0.9473839 | 0.9484493 | 0.9494974 | 0.9505285 | 0.9515428 | 0.9525403 | 0.9535213 | 0.9544860 |\n",
       "| 1.70 | 0.9554345 | 0.9563671 | 0.9572838 | 0.9581849 | 0.9590705 | 0.9599408 | 0.9607961 | 0.9616364 | 0.9624620 | 0.9632730 |\n",
       "| 1.80 | 0.9640697 | 0.9648521 | 0.9656205 | 0.9663750 | 0.9671159 | 0.9678432 | 0.9685572 | 0.9692581 | 0.9699460 | 0.9706210 |\n",
       "| 1.90 | 0.9712834 | 0.9719334 | 0.9725711 | 0.9731966 | 0.9738102 | 0.9744119 | 0.9750021 | 0.9755808 | 0.9761482 | 0.9767045 |\n",
       "| 2.00 | 0.9772499 | 0.9777844 | 0.9783083 | 0.9788217 | 0.9793248 | 0.9798178 | 0.9803007 | 0.9807738 | 0.9812372 | 0.9816911 |\n",
       "| 2.10 | 0.9821356 | 0.9825708 | 0.9829970 | 0.9834142 | 0.9838226 | 0.9842224 | 0.9846137 | 0.9849966 | 0.9853713 | 0.9857379 |\n",
       "| 2.20 | 0.9860966 | 0.9864474 | 0.9867906 | 0.9871263 | 0.9874545 | 0.9877755 | 0.9880894 | 0.9883962 | 0.9886962 | 0.9889893 |\n",
       "| 2.30 | 0.9892759 | 0.9895559 | 0.9898296 | 0.9900969 | 0.9903581 | 0.9906133 | 0.9908625 | 0.9911060 | 0.9913437 | 0.9915758 |\n",
       "| 2.40 | 0.9918025 | 0.9920237 | 0.9922397 | 0.9924506 | 0.9926564 | 0.9928572 | 0.9930531 | 0.9932443 | 0.9934309 | 0.9936128 |\n",
       "| 2.50 | 0.9937903 | 0.9939634 | 0.9941323 | 0.9942969 | 0.9944574 | 0.9946139 | 0.9947664 | 0.9949151 | 0.9950600 | 0.9952012 |\n",
       "| 2.60 | 0.9953388 | 0.9954729 | 0.9956035 | 0.9957308 | 0.9958547 | 0.9959754 | 0.9960930 | 0.9962074 | 0.9963189 | 0.9964274 |\n",
       "| 2.70 | 0.9965330 | 0.9966358 | 0.9967359 | 0.9968333 | 0.9969280 | 0.9970202 | 0.9971099 | 0.9971972 | 0.9972821 | 0.9973646 |\n",
       "| 2.80 | 0.9974449 | 0.9975229 | 0.9975988 | 0.9976726 | 0.9977443 | 0.9978140 | 0.9978818 | 0.9979476 | 0.9980116 | 0.9980738 |\n",
       "| 2.90 | 0.9981342 | 0.9981929 | 0.9982498 | 0.9983052 | 0.9983589 | 0.9984111 | 0.9984618 | 0.9985110 | 0.9985588 | 0.9986051 |\n",
       "| 3.00 | 0.9986501 | 0.9986938 | 0.9987361 | 0.9987772 | 0.9988171 | 0.9988558 | 0.9988933 | 0.9989297 | 0.9989650 | 0.9989992 |\n",
       "| 3.10 | 0.9990324 | 0.9990646 | 0.9990957 | 0.9991260 | 0.9991553 | 0.9991836 | 0.9992112 | 0.9992378 | 0.9992636 | 0.9992886 |\n",
       "| 3.20 | 0.9993129 | 0.9993363 | 0.9993590 | 0.9993810 | 0.9994024 | 0.9994230 | 0.9994429 | 0.9994623 | 0.9994810 | 0.9994991 |\n",
       "| 3.30 | 0.9995166 | 0.9995335 | 0.9995499 | 0.9995658 | 0.9995811 | 0.9995959 | 0.9996103 | 0.9996242 | 0.9996376 | 0.9996505 |\n",
       "| 3.40 | 0.9996631 | 0.9996752 | 0.9996869 | 0.9996982 | 0.9997091 | 0.9997197 | 0.9997299 | 0.9997398 | 0.9997493 | 0.9997585 |\n",
       "| 3.50 | 0.9997674 | 0.9997759 | 0.9997842 | 0.9997922 | 0.9997999 | 0.9998074 | 0.9998146 | 0.9998215 | 0.9998282 | 0.9998347 |\n",
       "| 3.60 | 0.9998409 | 0.9998469 | 0.9998527 | 0.9998583 | 0.9998637 | 0.9998689 | 0.9998739 | 0.9998787 | 0.9998834 | 0.9998879 |\n",
       "| 3.70 | 0.9998922 | 0.9998964 | 0.9999004 | 0.9999043 | 0.9999080 | 0.9999116 | 0.9999150 | 0.9999184 | 0.9999216 | 0.9999247 |\n",
       "| 3.80 | 0.9999277 | 0.9999305 | 0.9999333 | 0.9999359 | 0.9999385 | 0.9999409 | 0.9999433 | 0.9999456 | 0.9999478 | 0.9999499 |\n",
       "| 3.90 | 0.9999519 | 0.9999539 | 0.9999557 | 0.9999575 | 0.9999593 | 0.9999609 | 0.9999625 | 0.9999641 | 0.9999655 | 0.9999670 |\n",
       "\n"
      ],
      "text/plain": [
       "     0.00      0.01      0.02      0.03      0.04      0.05      0.06     \n",
       "0.00 0.5000000 0.5039894 0.5079783 0.5119665 0.5159534 0.5199388 0.5239222\n",
       "0.10 0.5398278 0.5437953 0.5477584 0.5517168 0.5556700 0.5596177 0.5635595\n",
       "0.20 0.5792597 0.5831662 0.5870644 0.5909541 0.5948349 0.5987063 0.6025681\n",
       "0.30 0.6179114 0.6217195 0.6255158 0.6293000 0.6330717 0.6368307 0.6405764\n",
       "0.40 0.6554217 0.6590970 0.6627573 0.6664022 0.6700314 0.6736448 0.6772419\n",
       "0.50 0.6914625 0.6949743 0.6984682 0.7019440 0.7054015 0.7088403 0.7122603\n",
       "0.60 0.7257469 0.7290691 0.7323711 0.7356527 0.7389137 0.7421539 0.7453731\n",
       "0.70 0.7580363 0.7611479 0.7642375 0.7673049 0.7703500 0.7733726 0.7763727\n",
       "0.80 0.7881446 0.7910299 0.7938919 0.7967306 0.7995458 0.8023375 0.8051055\n",
       "0.90 0.8159399 0.8185887 0.8212136 0.8238145 0.8263912 0.8289439 0.8314724\n",
       "1.00 0.8413447 0.8437524 0.8461358 0.8484950 0.8508300 0.8531409 0.8554277\n",
       "1.10 0.8643339 0.8665005 0.8686431 0.8707619 0.8728568 0.8749281 0.8769756\n",
       "1.20 0.8849303 0.8868606 0.8887676 0.8906514 0.8925123 0.8943502 0.8961653\n",
       "1.30 0.9031995 0.9049021 0.9065825 0.9082409 0.9098773 0.9114920 0.9130850\n",
       "1.40 0.9192433 0.9207302 0.9221962 0.9236415 0.9250663 0.9264707 0.9278550\n",
       "1.50 0.9331928 0.9344783 0.9357445 0.9369916 0.9382198 0.9394292 0.9406201\n",
       "1.60 0.9452007 0.9463011 0.9473839 0.9484493 0.9494974 0.9505285 0.9515428\n",
       "1.70 0.9554345 0.9563671 0.9572838 0.9581849 0.9590705 0.9599408 0.9607961\n",
       "1.80 0.9640697 0.9648521 0.9656205 0.9663750 0.9671159 0.9678432 0.9685572\n",
       "1.90 0.9712834 0.9719334 0.9725711 0.9731966 0.9738102 0.9744119 0.9750021\n",
       "2.00 0.9772499 0.9777844 0.9783083 0.9788217 0.9793248 0.9798178 0.9803007\n",
       "2.10 0.9821356 0.9825708 0.9829970 0.9834142 0.9838226 0.9842224 0.9846137\n",
       "2.20 0.9860966 0.9864474 0.9867906 0.9871263 0.9874545 0.9877755 0.9880894\n",
       "2.30 0.9892759 0.9895559 0.9898296 0.9900969 0.9903581 0.9906133 0.9908625\n",
       "2.40 0.9918025 0.9920237 0.9922397 0.9924506 0.9926564 0.9928572 0.9930531\n",
       "2.50 0.9937903 0.9939634 0.9941323 0.9942969 0.9944574 0.9946139 0.9947664\n",
       "2.60 0.9953388 0.9954729 0.9956035 0.9957308 0.9958547 0.9959754 0.9960930\n",
       "2.70 0.9965330 0.9966358 0.9967359 0.9968333 0.9969280 0.9970202 0.9971099\n",
       "2.80 0.9974449 0.9975229 0.9975988 0.9976726 0.9977443 0.9978140 0.9978818\n",
       "2.90 0.9981342 0.9981929 0.9982498 0.9983052 0.9983589 0.9984111 0.9984618\n",
       "3.00 0.9986501 0.9986938 0.9987361 0.9987772 0.9988171 0.9988558 0.9988933\n",
       "3.10 0.9990324 0.9990646 0.9990957 0.9991260 0.9991553 0.9991836 0.9992112\n",
       "3.20 0.9993129 0.9993363 0.9993590 0.9993810 0.9994024 0.9994230 0.9994429\n",
       "3.30 0.9995166 0.9995335 0.9995499 0.9995658 0.9995811 0.9995959 0.9996103\n",
       "3.40 0.9996631 0.9996752 0.9996869 0.9996982 0.9997091 0.9997197 0.9997299\n",
       "3.50 0.9997674 0.9997759 0.9997842 0.9997922 0.9997999 0.9998074 0.9998146\n",
       "3.60 0.9998409 0.9998469 0.9998527 0.9998583 0.9998637 0.9998689 0.9998739\n",
       "3.70 0.9998922 0.9998964 0.9999004 0.9999043 0.9999080 0.9999116 0.9999150\n",
       "3.80 0.9999277 0.9999305 0.9999333 0.9999359 0.9999385 0.9999409 0.9999433\n",
       "3.90 0.9999519 0.9999539 0.9999557 0.9999575 0.9999593 0.9999609 0.9999625\n",
       "     0.07      0.08      0.09     \n",
       "0.00 0.5279032 0.5318814 0.5358564\n",
       "0.10 0.5674949 0.5714237 0.5753454\n",
       "0.20 0.6064199 0.6102612 0.6140919\n",
       "0.30 0.6443088 0.6480273 0.6517317\n",
       "0.40 0.6808225 0.6843863 0.6879331\n",
       "0.50 0.7156612 0.7190427 0.7224047\n",
       "0.60 0.7485711 0.7517478 0.7549029\n",
       "0.70 0.7793501 0.7823046 0.7852361\n",
       "0.80 0.8078498 0.8105703 0.8132671\n",
       "0.90 0.8339768 0.8364569 0.8389129\n",
       "1.00 0.8576903 0.8599289 0.8621434\n",
       "1.10 0.8789995 0.8809999 0.8829768\n",
       "1.20 0.8979577 0.8997274 0.9014747\n",
       "1.30 0.9146565 0.9162067 0.9177356\n",
       "1.40 0.9292191 0.9305634 0.9318879\n",
       "1.50 0.9417924 0.9429466 0.9440826\n",
       "1.60 0.9525403 0.9535213 0.9544860\n",
       "1.70 0.9616364 0.9624620 0.9632730\n",
       "1.80 0.9692581 0.9699460 0.9706210\n",
       "1.90 0.9755808 0.9761482 0.9767045\n",
       "2.00 0.9807738 0.9812372 0.9816911\n",
       "2.10 0.9849966 0.9853713 0.9857379\n",
       "2.20 0.9883962 0.9886962 0.9889893\n",
       "2.30 0.9911060 0.9913437 0.9915758\n",
       "2.40 0.9932443 0.9934309 0.9936128\n",
       "2.50 0.9949151 0.9950600 0.9952012\n",
       "2.60 0.9962074 0.9963189 0.9964274\n",
       "2.70 0.9971972 0.9972821 0.9973646\n",
       "2.80 0.9979476 0.9980116 0.9980738\n",
       "2.90 0.9985110 0.9985588 0.9986051\n",
       "3.00 0.9989297 0.9989650 0.9989992\n",
       "3.10 0.9992378 0.9992636 0.9992886\n",
       "3.20 0.9994623 0.9994810 0.9994991\n",
       "3.30 0.9996242 0.9996376 0.9996505\n",
       "3.40 0.9997398 0.9997493 0.9997585\n",
       "3.50 0.9998215 0.9998282 0.9998347\n",
       "3.60 0.9998787 0.9998834 0.9998879\n",
       "3.70 0.9999184 0.9999216 0.9999247\n",
       "3.80 0.9999456 0.9999478 0.9999499\n",
       "3.90 0.9999641 0.9999655 0.9999670"
      ]
     },
     "metadata": {},
     "output_type": "display_data"
    }
   ],
   "source": [
    "Z <- seq(0, 3.99, by=0.01)\n",
    "probability_ <- pnorm(Z)\n",
    "table_standard_normal <- matrix(probability_, ncol=10, byrow=TRUE)\n",
    "colnames(table_standard_normal) <- format(seq(0.00, 0.09, by=0.01))\n",
    "rownames(table_standard_normal) <- format(seq(0.00, 3.90, by=0.10), digits = 2, nsmall = 2)\n",
    "table_standard_normal"
   ]
  },
  {
   "cell_type": "markdown",
   "id": "9a89219f-2d09-4fb6-968c-a0c1987f93ad",
   "metadata": {},
   "source": [
    "The table above gives the area under the curve between $-\\infty$ and $Z$ standard deviations above the mean. Remembering that because these are standardized values, we have $\\mu = 0$."
   ]
  },
  {
   "cell_type": "markdown",
   "id": "0a2e2171-99d3-4e10-9393-c2e62d6156ee",
   "metadata": {},
   "source": [
    "***\n",
    "### <font color='purple'>Example Problem: What's your height</font>"
   ]
  },
  {
   "cell_type": "markdown",
   "id": "7e98d845-6115-457a-bd46-ed625c73cbd1",
   "metadata": {},
   "source": [
    "Em um estudo sobre as alturas dos moradores de uma cidade verificou-se que o conjunto de dados segue uma **distribuição aproximadamente normal**, com **média 1,70** e **desvio padrão de 0,1**. Com estas informações obtenha o seguinte conjunto de probabilidades:\n",
    "\n",
    "> **A.** probabilidade de uma pessoa, selecionada ao acaso, ter menos de 1,80 metros.\n",
    ">\n",
    "> **B.** probabilidade de uma pessoa, selecionada ao acaso, ter entre 1,60 metros e 1,80 metros.    \n",
    ">\n",
    "> **C.** probabilidade de uma pessoa, selecionada ao acaso, ter mais de 1,90 metros.\n",
    "\n",
    "\n",
    "In a study on the heights of residents of a city, it was found that the data set follows an **approximately normal distribution**, with **mean 1.70** and **standard deviation of 0.1**. With this information obtain the following set of probabilities:\n",
    "\n",
    "> **A.** probability that a person, selected at random, is less than 1.80 meters tall.\n",
    ">\n",
    "> **B.** probability of a person, selected at random, being between 1.60 meters and 1.80 meters.\n",
    ">\n",
    "> **C.** probability of a person, selected at random, being taller than 1.90 meters."
   ]
  },
  {
   "cell_type": "markdown",
   "id": "e3d914f1-24e4-4bfa-a33a-4d8fd615613f",
   "metadata": {},
   "source": [
    "***\n",
    "### <font color='purple'>Problem: 'A'</font>"
   ]
  },
  {
   "cell_type": "markdown",
   "id": "e56834d8-f29c-45bd-b53d-b570fbda9234",
   "metadata": {},
   "source": [
    "> **A.** probability that a person, selected at random, is less than 1.80 meters tall."
   ]
  },
  {
   "cell_type": "code",
   "execution_count": 27,
   "id": "39eac63e-ed49-47ea-8c99-efcbdf9064a5",
   "metadata": {},
   "outputs": [
    {
     "data": {
      "text/html": [
       "1.7"
      ],
      "text/latex": [
       "1.7"
      ],
      "text/markdown": [
       "1.7"
      ],
      "text/plain": [
       "[1] 1.7"
      ]
     },
     "metadata": {},
     "output_type": "display_data"
    }
   ],
   "source": [
    "mean <- 1.70\n",
    "mean"
   ]
  },
  {
   "cell_type": "code",
   "execution_count": 28,
   "id": "ea7f4aba-b732-461e-8fda-41ee90afdbad",
   "metadata": {},
   "outputs": [
    {
     "data": {
      "text/html": [
       "1.8"
      ],
      "text/latex": [
       "1.8"
      ],
      "text/markdown": [
       "1.8"
      ],
      "text/plain": [
       "[1] 1.8"
      ]
     },
     "metadata": {},
     "output_type": "display_data"
    }
   ],
   "source": [
    "x <- 1.80\n",
    "x"
   ]
  },
  {
   "cell_type": "code",
   "execution_count": 29,
   "id": "ac137ecf-cd99-4e53-882d-bed080732e27",
   "metadata": {},
   "outputs": [
    {
     "data": {
      "text/html": [
       "0.1"
      ],
      "text/latex": [
       "0.1"
      ],
      "text/markdown": [
       "0.1"
      ],
      "text/plain": [
       "[1] 0.1"
      ]
     },
     "metadata": {},
     "output_type": "display_data"
    }
   ],
   "source": [
    "sd <- 0.10\n",
    "sd"
   ]
  },
  {
   "cell_type": "code",
   "execution_count": 30,
   "id": "85dd8ca6-1ef1-4d24-a54e-1cbfcc05bf46",
   "metadata": {},
   "outputs": [
    {
     "data": {
      "text/html": [
       "1"
      ],
      "text/latex": [
       "1"
      ],
      "text/markdown": [
       "1"
      ],
      "text/plain": [
       "[1] 1"
      ]
     },
     "metadata": {},
     "output_type": "display_data"
    }
   ],
   "source": [
    "Z <- (x - mean) / sd\n",
    "Z"
   ]
  },
  {
   "cell_type": "code",
   "execution_count": 31,
   "id": "9b1a3ad2-a558-4ce0-870a-7534415f0382",
   "metadata": {},
   "outputs": [
    {
     "data": {
      "text/html": [
       "84.13"
      ],
      "text/latex": [
       "84.13"
      ],
      "text/markdown": [
       "84.13"
      ],
      "text/plain": [
       "[1] 84.13"
      ]
     },
     "metadata": {},
     "output_type": "display_data"
    }
   ],
   "source": [
    "probability_A <- pnorm(Z)\n",
    "round(probability_A, 4) * 100"
   ]
  },
  {
   "cell_type": "markdown",
   "id": "73c99c3c-39ad-421f-b41c-d71b73754807",
   "metadata": {},
   "source": [
    "***\n",
    "### <font color='purple'>Problem: 'B'</font>"
   ]
  },
  {
   "cell_type": "markdown",
   "id": "ab9ed878-1be9-46f5-a667-93845a852204",
   "metadata": {},
   "source": [
    "> **B.** probability of a person, selected at random, being between 1.60 meters and 1.80 meters.\n"
   ]
  },
  {
   "cell_type": "code",
   "execution_count": 32,
   "id": "4634ec15-ff6c-44a5-855f-31170ab6e8c6",
   "metadata": {},
   "outputs": [
    {
     "data": {
      "text/html": [
       "1.7"
      ],
      "text/latex": [
       "1.7"
      ],
      "text/markdown": [
       "1.7"
      ],
      "text/plain": [
       "[1] 1.7"
      ]
     },
     "metadata": {},
     "output_type": "display_data"
    }
   ],
   "source": [
    "mean <- 1.70\n",
    "mean"
   ]
  },
  {
   "cell_type": "code",
   "execution_count": 33,
   "id": "f2fefb4e-37b8-4a27-a386-7d09724f8970",
   "metadata": {},
   "outputs": [
    {
     "data": {
      "text/html": [
       "0.1"
      ],
      "text/latex": [
       "0.1"
      ],
      "text/markdown": [
       "0.1"
      ],
      "text/plain": [
       "[1] 0.1"
      ]
     },
     "metadata": {},
     "output_type": "display_data"
    }
   ],
   "source": [
    "sd <- 0.10\n",
    "sd"
   ]
  },
  {
   "cell_type": "code",
   "execution_count": 34,
   "id": "633d0bca-4540-4e84-8848-56855255becf",
   "metadata": {},
   "outputs": [
    {
     "data": {
      "text/html": [
       "1.8"
      ],
      "text/latex": [
       "1.8"
      ],
      "text/markdown": [
       "1.8"
      ],
      "text/plain": [
       "[1] 1.8"
      ]
     },
     "metadata": {},
     "output_type": "display_data"
    },
    {
     "data": {
      "text/html": [
       "1.6"
      ],
      "text/latex": [
       "1.6"
      ],
      "text/markdown": [
       "1.6"
      ],
      "text/plain": [
       "[1] 1.6"
      ]
     },
     "metadata": {},
     "output_type": "display_data"
    }
   ],
   "source": [
    "x_sup <- 1.80\n",
    "x_inf <- 1.60\n",
    "x_sup\n",
    "x_inf"
   ]
  },
  {
   "cell_type": "code",
   "execution_count": 35,
   "id": "c592513c-1701-4d43-ba9d-07c933c980a5",
   "metadata": {},
   "outputs": [
    {
     "data": {
      "text/html": [
       "1"
      ],
      "text/latex": [
       "1"
      ],
      "text/markdown": [
       "1"
      ],
      "text/plain": [
       "[1] 1"
      ]
     },
     "metadata": {},
     "output_type": "display_data"
    },
    {
     "data": {
      "text/html": [
       "-0.999999999999999"
      ],
      "text/latex": [
       "-0.999999999999999"
      ],
      "text/markdown": [
       "-0.999999999999999"
      ],
      "text/plain": [
       "[1] -1"
      ]
     },
     "metadata": {},
     "output_type": "display_data"
    }
   ],
   "source": [
    "Z_superior <- (x_sup - mean) / sd\n",
    "Z_inferior <- (x_inf - mean) / sd\n",
    "Z_superior\n",
    "Z_inferior"
   ]
  },
  {
   "cell_type": "code",
   "execution_count": 36,
   "id": "2694172e-ac93-4159-9a97-ef7f60e2cb7a",
   "metadata": {},
   "outputs": [
    {
     "data": {
      "text/html": [
       "68.27"
      ],
      "text/latex": [
       "68.27"
      ],
      "text/markdown": [
       "68.27"
      ],
      "text/plain": [
       "[1] 68.27"
      ]
     },
     "metadata": {},
     "output_type": "display_data"
    }
   ],
   "source": [
    "probability_B <- pnorm(Z_superior) - pnorm(Z_inferior)\n",
    "round(probability_B, 4) * 100"
   ]
  },
  {
   "cell_type": "markdown",
   "id": "dda33c08-874c-4a8c-bb8c-15fdb397c5a9",
   "metadata": {},
   "source": [
    "***\n",
    "### <font color='purple'>Problem: 'C'</font>"
   ]
  },
  {
   "cell_type": "markdown",
   "id": "a948637c-9189-4c71-baa8-5c45265f145c",
   "metadata": {},
   "source": [
    "> **C.** probability of a person, selected at random, being taller than 1.90 meters."
   ]
  },
  {
   "cell_type": "code",
   "execution_count": 37,
   "id": "d5e78d89-b858-433f-87f4-b6a545a6030f",
   "metadata": {},
   "outputs": [
    {
     "data": {
      "text/html": [
       "1.7"
      ],
      "text/latex": [
       "1.7"
      ],
      "text/markdown": [
       "1.7"
      ],
      "text/plain": [
       "[1] 1.7"
      ]
     },
     "metadata": {},
     "output_type": "display_data"
    }
   ],
   "source": [
    "mean <- 1.70\n",
    "mean"
   ]
  },
  {
   "cell_type": "code",
   "execution_count": 38,
   "id": "cb524f33-e831-4576-81a8-f83f818f7ed6",
   "metadata": {},
   "outputs": [
    {
     "data": {
      "text/html": [
       "0.1"
      ],
      "text/latex": [
       "0.1"
      ],
      "text/markdown": [
       "0.1"
      ],
      "text/plain": [
       "[1] 0.1"
      ]
     },
     "metadata": {},
     "output_type": "display_data"
    }
   ],
   "source": [
    "sd <- 0.10\n",
    "sd"
   ]
  },
  {
   "cell_type": "code",
   "execution_count": 39,
   "id": "c1ca60c7-2382-49f4-9446-569f8b67a991",
   "metadata": {},
   "outputs": [],
   "source": [
    "x <- 1.90"
   ]
  },
  {
   "cell_type": "code",
   "execution_count": 40,
   "id": "88037a6d-35fd-47ef-aee2-1564fadce294",
   "metadata": {},
   "outputs": [
    {
     "data": {
      "text/html": [
       "2"
      ],
      "text/latex": [
       "2"
      ],
      "text/markdown": [
       "2"
      ],
      "text/plain": [
       "[1] 2"
      ]
     },
     "metadata": {},
     "output_type": "display_data"
    }
   ],
   "source": [
    "Z <- (x - mean) / sd\n",
    "Z"
   ]
  },
  {
   "cell_type": "code",
   "execution_count": 41,
   "id": "f7ddbc7f-1270-42c6-869f-8f3712af8b6f",
   "metadata": {},
   "outputs": [
    {
     "data": {
      "text/html": [
       "2.28"
      ],
      "text/latex": [
       "2.28"
      ],
      "text/markdown": [
       "2.28"
      ],
      "text/plain": [
       "[1] 2.28"
      ]
     },
     "metadata": {},
     "output_type": "display_data"
    }
   ],
   "source": [
    "probability_C <- pnorm(-Z)\n",
    "round(probability_C, 4) * 100"
   ]
  },
  {
   "cell_type": "markdown",
   "id": "49ed014b-f9e5-470d-9e1c-d71a22d21e7e",
   "metadata": {},
   "source": [
    "***\n",
    "### <font color='purple'>List of Examples</font>"
   ]
  },
  {
   "cell_type": "markdown",
   "id": "70541b86-66b6-4246-93ca-1b72e5f96d35",
   "metadata": {},
   "source": [
    "***\n",
    "### <font color='purple'>Statistics Test</font>"
   ]
  },
  {
   "cell_type": "markdown",
   "id": "ff2e5590-fe27-4756-acdf-7ead727dbe8b",
   "metadata": {},
   "source": [
    "The application of a **statistics test** in a competition presented a set of normally distributed grades. It was found that the set of notes had an **average of 70 and a standard deviation of 5 points**. What is the probability that a student, **selected at random, will have a grade lower than 85?**"
   ]
  },
  {
   "cell_type": "code",
   "execution_count": 42,
   "id": "1a2b5c71-ac49-44e7-940b-8007910c072f",
   "metadata": {},
   "outputs": [
    {
     "data": {
      "text/html": [
       "70"
      ],
      "text/latex": [
       "70"
      ],
      "text/markdown": [
       "70"
      ],
      "text/plain": [
       "[1] 70"
      ]
     },
     "metadata": {},
     "output_type": "display_data"
    }
   ],
   "source": [
    "mean <- 70\n",
    "mean"
   ]
  },
  {
   "cell_type": "code",
   "execution_count": 43,
   "id": "8a5fb90b-55d4-474e-b558-ca0668bad80b",
   "metadata": {},
   "outputs": [
    {
     "data": {
      "text/html": [
       "5"
      ],
      "text/latex": [
       "5"
      ],
      "text/markdown": [
       "5"
      ],
      "text/plain": [
       "[1] 5"
      ]
     },
     "metadata": {},
     "output_type": "display_data"
    }
   ],
   "source": [
    "sd <- 5\n",
    "sd"
   ]
  },
  {
   "cell_type": "code",
   "execution_count": 44,
   "id": "b1ebc023-080e-4380-bae3-57105d8573d2",
   "metadata": {},
   "outputs": [
    {
     "data": {
      "text/html": [
       "85"
      ],
      "text/latex": [
       "85"
      ],
      "text/markdown": [
       "85"
      ],
      "text/plain": [
       "[1] 85"
      ]
     },
     "metadata": {},
     "output_type": "display_data"
    }
   ],
   "source": [
    "x <- 85\n",
    "x"
   ]
  },
  {
   "cell_type": "code",
   "execution_count": 45,
   "id": "353f5ff0-0197-4714-ba0b-54e85cace1ad",
   "metadata": {},
   "outputs": [
    {
     "data": {
      "text/html": [
       "3"
      ],
      "text/latex": [
       "3"
      ],
      "text/markdown": [
       "3"
      ],
      "text/plain": [
       "[1] 3"
      ]
     },
     "metadata": {},
     "output_type": "display_data"
    }
   ],
   "source": [
    "Z <- (x - mean) / sd\n",
    "Z"
   ]
  },
  {
   "cell_type": "code",
   "execution_count": 46,
   "id": "1080a1b0-7d99-4b63-adb6-16597ba1c709",
   "metadata": {},
   "outputs": [
    {
     "data": {
      "text/html": [
       "99.87"
      ],
      "text/latex": [
       "99.87"
      ],
      "text/markdown": [
       "99.87"
      ],
      "text/plain": [
       "[1] 99.87"
      ]
     },
     "metadata": {},
     "output_type": "display_data"
    }
   ],
   "source": [
    "Probability <- pnorm(Z)\n",
    "round(Probability, 4) * 100"
   ]
  },
  {
   "cell_type": "markdown",
   "id": "ecad7eb7-ce1a-4b9c-94f1-8f07d429616a",
   "metadata": {},
   "source": [
    "***\n",
    "### <font color='purple'>Daily Billing</font>"
   ]
  },
  {
   "cell_type": "markdown",
   "id": "81190872-c09b-46b6-8571-a2c103ddafe7",
   "metadata": {},
   "source": [
    "The daily revenue of an app driver follows an approximately normal distribution, with **average 300.00 Reais** and **standard deviation equal to 50.00 Reais**. Find the odds that on a random day the driver will win:\n",
    "\n",
    "**1-Between 250.00 and 350.00**\n",
    "\n",
    "**2-Between 400.00 and 500.00**"
   ]
  },
  {
   "cell_type": "markdown",
   "id": "a5998e37-f8e4-45c9-85b0-e7021fac69e6",
   "metadata": {},
   "source": [
    "***\n",
    "### <font color='purple'>Problem: '1'</font>"
   ]
  },
  {
   "cell_type": "code",
   "execution_count": 47,
   "id": "6862faa0-20c4-45dc-8ba4-1064146529ef",
   "metadata": {},
   "outputs": [
    {
     "data": {
      "text/html": [
       "300"
      ],
      "text/latex": [
       "300"
      ],
      "text/markdown": [
       "300"
      ],
      "text/plain": [
       "[1] 300"
      ]
     },
     "metadata": {},
     "output_type": "display_data"
    }
   ],
   "source": [
    "mean <- 300\n",
    "mean"
   ]
  },
  {
   "cell_type": "code",
   "execution_count": 48,
   "id": "d2c4e0d3-17e4-416e-a77c-e2a1fae1e94d",
   "metadata": {},
   "outputs": [
    {
     "data": {
      "text/html": [
       "50"
      ],
      "text/latex": [
       "50"
      ],
      "text/markdown": [
       "50"
      ],
      "text/plain": [
       "[1] 50"
      ]
     },
     "metadata": {},
     "output_type": "display_data"
    }
   ],
   "source": [
    "sd <- 50\n",
    "sd"
   ]
  },
  {
   "cell_type": "code",
   "execution_count": 49,
   "id": "983c4dfb-199e-4205-8189-31fd8e785ea1",
   "metadata": {},
   "outputs": [
    {
     "data": {
      "text/html": [
       "350"
      ],
      "text/latex": [
       "350"
      ],
      "text/markdown": [
       "350"
      ],
      "text/plain": [
       "[1] 350"
      ]
     },
     "metadata": {},
     "output_type": "display_data"
    },
    {
     "data": {
      "text/html": [
       "250"
      ],
      "text/latex": [
       "250"
      ],
      "text/markdown": [
       "250"
      ],
      "text/plain": [
       "[1] 250"
      ]
     },
     "metadata": {},
     "output_type": "display_data"
    }
   ],
   "source": [
    "x_sup <- 350\n",
    "x_sup\n",
    "x_inf <- 250\n",
    "x_inf"
   ]
  },
  {
   "cell_type": "code",
   "execution_count": 50,
   "id": "dbeb880b-7c0f-4b60-b043-c6f918e29b15",
   "metadata": {},
   "outputs": [
    {
     "data": {
      "text/html": [
       "1"
      ],
      "text/latex": [
       "1"
      ],
      "text/markdown": [
       "1"
      ],
      "text/plain": [
       "[1] 1"
      ]
     },
     "metadata": {},
     "output_type": "display_data"
    },
    {
     "data": {
      "text/html": [
       "-1"
      ],
      "text/latex": [
       "-1"
      ],
      "text/markdown": [
       "-1"
      ],
      "text/plain": [
       "[1] -1"
      ]
     },
     "metadata": {},
     "output_type": "display_data"
    }
   ],
   "source": [
    "Z_sup <- (x_sup - mean) / sd\n",
    "Z_sup\n",
    "Z_inf <- (x_inf - mean) / sd\n",
    "Z_inf"
   ]
  },
  {
   "cell_type": "code",
   "execution_count": 51,
   "id": "f26c79ce-8dc4-43dc-9528-586fd6580b66",
   "metadata": {},
   "outputs": [
    {
     "data": {
      "text/html": [
       "68.27"
      ],
      "text/latex": [
       "68.27"
      ],
      "text/markdown": [
       "68.27"
      ],
      "text/plain": [
       "[1] 68.27"
      ]
     },
     "metadata": {},
     "output_type": "display_data"
    }
   ],
   "source": [
    "probability_1 <- pnorm(Z_sup) - pnorm(Z_inf)\n",
    "round(probability_1, 4) * 100"
   ]
  },
  {
   "cell_type": "markdown",
   "id": "09a890b1-1be5-4ab2-bbee-c8cc4ec8997d",
   "metadata": {},
   "source": [
    "***\n",
    "### <font color='purple'>Problem: '2'</font>"
   ]
  },
  {
   "cell_type": "code",
   "execution_count": 52,
   "id": "ad911c52-a928-4a3a-8715-eb477f300756",
   "metadata": {},
   "outputs": [
    {
     "data": {
      "text/html": [
       "300"
      ],
      "text/latex": [
       "300"
      ],
      "text/markdown": [
       "300"
      ],
      "text/plain": [
       "[1] 300"
      ]
     },
     "metadata": {},
     "output_type": "display_data"
    }
   ],
   "source": [
    "mean <- 300\n",
    "mean"
   ]
  },
  {
   "cell_type": "code",
   "execution_count": 53,
   "id": "3ef5edc3-615b-4173-96b5-8849a5cbd2a9",
   "metadata": {},
   "outputs": [
    {
     "data": {
      "text/html": [
       "50"
      ],
      "text/latex": [
       "50"
      ],
      "text/markdown": [
       "50"
      ],
      "text/plain": [
       "[1] 50"
      ]
     },
     "metadata": {},
     "output_type": "display_data"
    }
   ],
   "source": [
    "sd <- 50\n",
    "sd"
   ]
  },
  {
   "cell_type": "code",
   "execution_count": 54,
   "id": "548f676f-4377-4cbb-844f-041d29b7d413",
   "metadata": {},
   "outputs": [
    {
     "data": {
      "text/html": [
       "500"
      ],
      "text/latex": [
       "500"
      ],
      "text/markdown": [
       "500"
      ],
      "text/plain": [
       "[1] 500"
      ]
     },
     "metadata": {},
     "output_type": "display_data"
    },
    {
     "data": {
      "text/html": [
       "400"
      ],
      "text/latex": [
       "400"
      ],
      "text/markdown": [
       "400"
      ],
      "text/plain": [
       "[1] 400"
      ]
     },
     "metadata": {},
     "output_type": "display_data"
    }
   ],
   "source": [
    "x_sup <- 500\n",
    "x_sup\n",
    "x_inf <- 400\n",
    "x_inf"
   ]
  },
  {
   "cell_type": "code",
   "execution_count": 55,
   "id": "6611bcae-3713-42f7-9e96-eee3b8d16be4",
   "metadata": {},
   "outputs": [
    {
     "data": {
      "text/html": [
       "4"
      ],
      "text/latex": [
       "4"
      ],
      "text/markdown": [
       "4"
      ],
      "text/plain": [
       "[1] 4"
      ]
     },
     "metadata": {},
     "output_type": "display_data"
    },
    {
     "data": {
      "text/html": [
       "2"
      ],
      "text/latex": [
       "2"
      ],
      "text/markdown": [
       "2"
      ],
      "text/plain": [
       "[1] 2"
      ]
     },
     "metadata": {},
     "output_type": "display_data"
    }
   ],
   "source": [
    "Z_sup <- (x_sup - mean) / sd\n",
    "Z_sup\n",
    "Z_inf <- (x_inf - mean) / sd\n",
    "Z_inf"
   ]
  },
  {
   "cell_type": "code",
   "execution_count": 56,
   "id": "338cfca2-6034-4460-80c4-9745f7b03f50",
   "metadata": {},
   "outputs": [
    {
     "data": {
      "text/html": [
       "2.27"
      ],
      "text/latex": [
       "2.27"
      ],
      "text/markdown": [
       "2.27"
      ],
      "text/plain": [
       "[1] 2.27"
      ]
     },
     "metadata": {},
     "output_type": "display_data"
    }
   ],
   "source": [
    "probability_2 <- pnorm(Z_sup) - pnorm(Z_inf)\n",
    "round(probability_2, 4) * 100"
   ]
  },
  {
   "cell_type": "markdown",
   "id": "e43ad477-f6c0-4989-8c78-992eb89893af",
   "metadata": {},
   "source": [
    "***\n",
    "### <font color='purple'>Classifying the athletes</font>"
   ]
  },
  {
   "cell_type": "markdown",
   "id": "2caaa82d-790e-4ef2-9fca-c7164c819c68",
   "metadata": {},
   "source": [
    "The weights of fighters at an MMA gym, with **500 athletes**, are normally distributed, with an average of **80.5 kg and a standard deviation of 12.2 kg**. Find the number of athletes at this gym who fall into the light weight category, which ranges from **65.7 kg to 70.3 kg.**"
   ]
  },
  {
   "cell_type": "code",
   "execution_count": 57,
   "id": "c9b453bf-9580-41d7-ad32-93f351d612c9",
   "metadata": {},
   "outputs": [
    {
     "data": {
      "text/html": [
       "80.5"
      ],
      "text/latex": [
       "80.5"
      ],
      "text/markdown": [
       "80.5"
      ],
      "text/plain": [
       "[1] 80.5"
      ]
     },
     "metadata": {},
     "output_type": "display_data"
    }
   ],
   "source": [
    "mean <- 80.50\n",
    "mean"
   ]
  },
  {
   "cell_type": "code",
   "execution_count": 58,
   "id": "99979a9d-91c4-4db4-8418-169797a4d5c9",
   "metadata": {},
   "outputs": [
    {
     "data": {
      "text/html": [
       "12.2"
      ],
      "text/latex": [
       "12.2"
      ],
      "text/markdown": [
       "12.2"
      ],
      "text/plain": [
       "[1] 12.2"
      ]
     },
     "metadata": {},
     "output_type": "display_data"
    }
   ],
   "source": [
    "sd <- 12.20\n",
    "sd"
   ]
  },
  {
   "cell_type": "code",
   "execution_count": 59,
   "id": "a3781c53-d3aa-4f3f-8b81-1552391b1b04",
   "metadata": {},
   "outputs": [
    {
     "data": {
      "text/html": [
       "70.3"
      ],
      "text/latex": [
       "70.3"
      ],
      "text/markdown": [
       "70.3"
      ],
      "text/plain": [
       "[1] 70.3"
      ]
     },
     "metadata": {},
     "output_type": "display_data"
    },
    {
     "data": {
      "text/html": [
       "65.7"
      ],
      "text/latex": [
       "65.7"
      ],
      "text/markdown": [
       "65.7"
      ],
      "text/plain": [
       "[1] 65.7"
      ]
     },
     "metadata": {},
     "output_type": "display_data"
    }
   ],
   "source": [
    "x_sup <- 70.30\n",
    "x_sup\n",
    "x_inf <- 65.70\n",
    "x_inf"
   ]
  },
  {
   "cell_type": "code",
   "execution_count": 60,
   "id": "771eff63-2fc6-42de-a60a-1d07cedd1bc9",
   "metadata": {},
   "outputs": [
    {
     "data": {
      "text/html": [
       "-0.836065573770492"
      ],
      "text/latex": [
       "-0.836065573770492"
      ],
      "text/markdown": [
       "-0.836065573770492"
      ],
      "text/plain": [
       "[1] -0.8360656"
      ]
     },
     "metadata": {},
     "output_type": "display_data"
    },
    {
     "data": {
      "text/html": [
       "-1.21311475409836"
      ],
      "text/latex": [
       "-1.21311475409836"
      ],
      "text/markdown": [
       "-1.21311475409836"
      ],
      "text/plain": [
       "[1] -1.213115"
      ]
     },
     "metadata": {},
     "output_type": "display_data"
    }
   ],
   "source": [
    "Z_sup <- (x_sup - mean) / sd\n",
    "Z_sup\n",
    "Z_inf <- (x_inf - mean) / sd\n",
    "Z_inf"
   ]
  },
  {
   "cell_type": "code",
   "execution_count": 61,
   "id": "13f47ab6-5e4b-4db9-aa49-a50cfe622510",
   "metadata": {},
   "outputs": [
    {
     "data": {
      "text/html": [
       "0.0890160321903165"
      ],
      "text/latex": [
       "0.0890160321903165"
      ],
      "text/markdown": [
       "0.0890160321903165"
      ],
      "text/plain": [
       "[1] 0.08901603"
      ]
     },
     "metadata": {},
     "output_type": "display_data"
    }
   ],
   "source": [
    "probability <- pnorm(Z_sup) - pnorm(Z_inf)\n",
    "probability"
   ]
  },
  {
   "cell_type": "code",
   "execution_count": 62,
   "id": "3d6c75bc-dc68-4f08-a56a-d75169e6159b",
   "metadata": {},
   "outputs": [
    {
     "data": {
      "text/html": [
       "45"
      ],
      "text/latex": [
       "45"
      ],
      "text/markdown": [
       "45"
      ],
      "text/plain": [
       "[1] 45"
      ]
     },
     "metadata": {},
     "output_type": "display_data"
    }
   ],
   "source": [
    "numbers_athletes <- 500 * probability\n",
    "round(numbers_athletes)"
   ]
  },
  {
   "cell_type": "markdown",
   "id": "03928fdf-d1e8-4870-b2f0-3cf70573b5c3",
   "metadata": {},
   "source": [
    "***\n",
    "### <font color='purple'>Lifespan</font>"
   ]
  },
  {
   "cell_type": "markdown",
   "id": "2fc902ef-01e8-4d1c-8177-c274e3aaf019",
   "metadata": {},
   "source": [
    "Inmetro verified that incandescent lamps from the manufacturer XPTO have a normally distributed useful life, with a ***average equal to 720 days and a standard deviation equal to 30 days***. Calculate the probability that a randomly chosen light bulb will last:\n",
    "\n",
    "**1-Between 650 and 750 days**\n",
    "\n",
    "**2-More than 800 days**\n",
    "\n",
    "**3-Less than 700 days**"
   ]
  },
  {
   "cell_type": "markdown",
   "id": "64b20651-382c-455d-a8b1-18323af30b2c",
   "metadata": {},
   "source": [
    "***\n",
    "### <font color='purple'>Problem: '1'</font>"
   ]
  },
  {
   "cell_type": "code",
   "execution_count": 63,
   "id": "ec6a9f7f-d71c-4512-88ce-d09b452fec4f",
   "metadata": {},
   "outputs": [
    {
     "data": {
      "text/html": [
       "720"
      ],
      "text/latex": [
       "720"
      ],
      "text/markdown": [
       "720"
      ],
      "text/plain": [
       "[1] 720"
      ]
     },
     "metadata": {},
     "output_type": "display_data"
    }
   ],
   "source": [
    "mean <- 720\n",
    "mean"
   ]
  },
  {
   "cell_type": "code",
   "execution_count": 64,
   "id": "d72ef615-57d9-4c91-beca-2d2e53bdac41",
   "metadata": {},
   "outputs": [
    {
     "data": {
      "text/html": [
       "30"
      ],
      "text/latex": [
       "30"
      ],
      "text/markdown": [
       "30"
      ],
      "text/plain": [
       "[1] 30"
      ]
     },
     "metadata": {},
     "output_type": "display_data"
    }
   ],
   "source": [
    "sd <- 30\n",
    "sd"
   ]
  },
  {
   "cell_type": "code",
   "execution_count": 65,
   "id": "d3107f3a-e9dd-4bcc-9464-c0b804eaad31",
   "metadata": {},
   "outputs": [
    {
     "data": {
      "text/html": [
       "750"
      ],
      "text/latex": [
       "750"
      ],
      "text/markdown": [
       "750"
      ],
      "text/plain": [
       "[1] 750"
      ]
     },
     "metadata": {},
     "output_type": "display_data"
    },
    {
     "data": {
      "text/html": [
       "650"
      ],
      "text/latex": [
       "650"
      ],
      "text/markdown": [
       "650"
      ],
      "text/plain": [
       "[1] 650"
      ]
     },
     "metadata": {},
     "output_type": "display_data"
    }
   ],
   "source": [
    "x_sup <- 750\n",
    "x_sup\n",
    "x_inf <- 650\n",
    "x_inf"
   ]
  },
  {
   "cell_type": "code",
   "execution_count": 66,
   "id": "51bea1e3-d675-47cf-9416-d5f5df1e3102",
   "metadata": {},
   "outputs": [
    {
     "data": {
      "text/html": [
       "1"
      ],
      "text/latex": [
       "1"
      ],
      "text/markdown": [
       "1"
      ],
      "text/plain": [
       "[1] 1"
      ]
     },
     "metadata": {},
     "output_type": "display_data"
    },
    {
     "data": {
      "text/html": [
       "-2.33333333333333"
      ],
      "text/latex": [
       "-2.33333333333333"
      ],
      "text/markdown": [
       "-2.33333333333333"
      ],
      "text/plain": [
       "[1] -2.333333"
      ]
     },
     "metadata": {},
     "output_type": "display_data"
    }
   ],
   "source": [
    "Z_sup <- (x_sup - mean) / sd\n",
    "Z_sup\n",
    "Z_inf <- (x_inf - mean) / sd\n",
    "Z_inf"
   ]
  },
  {
   "cell_type": "code",
   "execution_count": 67,
   "id": "b299a4a8-fa87-457f-8ae5-532f7839598d",
   "metadata": {},
   "outputs": [
    {
     "data": {
      "text/html": [
       "83.15"
      ],
      "text/latex": [
       "83.15"
      ],
      "text/markdown": [
       "83.15"
      ],
      "text/plain": [
       "[1] 83.15"
      ]
     },
     "metadata": {},
     "output_type": "display_data"
    }
   ],
   "source": [
    "probability_1 <- pnorm(Z_sup) - pnorm(Z_inf)\n",
    "round(probability_1, 4) * 100"
   ]
  },
  {
   "cell_type": "markdown",
   "id": "ee1a5268-eacb-49a9-a69a-b0ed57961464",
   "metadata": {},
   "source": [
    "***\n",
    "### <font color='purple'>Problem: '2'</font>"
   ]
  },
  {
   "cell_type": "code",
   "execution_count": 68,
   "id": "80e2b510-351b-4fbd-8d7e-705995d545f8",
   "metadata": {},
   "outputs": [
    {
     "data": {
      "text/html": [
       "720"
      ],
      "text/latex": [
       "720"
      ],
      "text/markdown": [
       "720"
      ],
      "text/plain": [
       "[1] 720"
      ]
     },
     "metadata": {},
     "output_type": "display_data"
    }
   ],
   "source": [
    "mean <- 720\n",
    "mean"
   ]
  },
  {
   "cell_type": "code",
   "execution_count": 69,
   "id": "181b6d55-16e7-4a45-9b7f-319d47aa921c",
   "metadata": {},
   "outputs": [
    {
     "data": {
      "text/html": [
       "30"
      ],
      "text/latex": [
       "30"
      ],
      "text/markdown": [
       "30"
      ],
      "text/plain": [
       "[1] 30"
      ]
     },
     "metadata": {},
     "output_type": "display_data"
    }
   ],
   "source": [
    "sd <- 30\n",
    "sd"
   ]
  },
  {
   "cell_type": "code",
   "execution_count": 70,
   "id": "974328e2-d211-4d6a-9011-0fa99da742ac",
   "metadata": {},
   "outputs": [
    {
     "data": {
      "text/html": [
       "800"
      ],
      "text/latex": [
       "800"
      ],
      "text/markdown": [
       "800"
      ],
      "text/plain": [
       "[1] 800"
      ]
     },
     "metadata": {},
     "output_type": "display_data"
    }
   ],
   "source": [
    "x <- 800\n",
    "x"
   ]
  },
  {
   "cell_type": "code",
   "execution_count": 71,
   "id": "8711794a-c304-49c3-a0ff-f4ef1c517140",
   "metadata": {},
   "outputs": [
    {
     "data": {
      "text/html": [
       "2.66666666666667"
      ],
      "text/latex": [
       "2.66666666666667"
      ],
      "text/markdown": [
       "2.66666666666667"
      ],
      "text/plain": [
       "[1] 2.666667"
      ]
     },
     "metadata": {},
     "output_type": "display_data"
    }
   ],
   "source": [
    "Z <- (x - mean) / sd\n",
    "Z"
   ]
  },
  {
   "cell_type": "code",
   "execution_count": 72,
   "id": "88847eb3-0ac6-49f3-9079-9c47ced099ac",
   "metadata": {},
   "outputs": [
    {
     "data": {
      "text/html": [
       "0.38"
      ],
      "text/latex": [
       "0.38"
      ],
      "text/markdown": [
       "0.38"
      ],
      "text/plain": [
       "[1] 0.38"
      ]
     },
     "metadata": {},
     "output_type": "display_data"
    }
   ],
   "source": [
    "probability_2 <- pnorm(-Z)\n",
    "round(probability_2, 4) * 100"
   ]
  },
  {
   "cell_type": "markdown",
   "id": "03fd10d8-c264-42bc-8f18-e1789623bac7",
   "metadata": {},
   "source": [
    "***\n",
    "### <font color='purple'>Problem: '3'</font>"
   ]
  },
  {
   "cell_type": "code",
   "execution_count": 73,
   "id": "b9a9eb9d-1194-4308-a4d4-19a67c5a5d66",
   "metadata": {},
   "outputs": [
    {
     "data": {
      "text/html": [
       "720"
      ],
      "text/latex": [
       "720"
      ],
      "text/markdown": [
       "720"
      ],
      "text/plain": [
       "[1] 720"
      ]
     },
     "metadata": {},
     "output_type": "display_data"
    }
   ],
   "source": [
    "mean <- 720\n",
    "mean"
   ]
  },
  {
   "cell_type": "code",
   "execution_count": 74,
   "id": "5ffa0ba4-6ed8-4aba-86fd-a187753fe28e",
   "metadata": {},
   "outputs": [
    {
     "data": {
      "text/html": [
       "30"
      ],
      "text/latex": [
       "30"
      ],
      "text/markdown": [
       "30"
      ],
      "text/plain": [
       "[1] 30"
      ]
     },
     "metadata": {},
     "output_type": "display_data"
    }
   ],
   "source": [
    "sd <- 30\n",
    "sd"
   ]
  },
  {
   "cell_type": "code",
   "execution_count": 75,
   "id": "d8042278-2fd8-4dc3-9242-86a64c6f15eb",
   "metadata": {},
   "outputs": [
    {
     "data": {
      "text/html": [
       "700"
      ],
      "text/latex": [
       "700"
      ],
      "text/markdown": [
       "700"
      ],
      "text/plain": [
       "[1] 700"
      ]
     },
     "metadata": {},
     "output_type": "display_data"
    }
   ],
   "source": [
    "x <- 700\n",
    "x"
   ]
  },
  {
   "cell_type": "code",
   "execution_count": 76,
   "id": "bf8e3bca-9b5b-4da0-a58d-8c073151eb70",
   "metadata": {},
   "outputs": [
    {
     "data": {
      "text/html": [
       "-0.666666666666667"
      ],
      "text/latex": [
       "-0.666666666666667"
      ],
      "text/markdown": [
       "-0.666666666666667"
      ],
      "text/plain": [
       "[1] -0.6666667"
      ]
     },
     "metadata": {},
     "output_type": "display_data"
    }
   ],
   "source": [
    "Z <- (x - mean) / sd\n",
    "Z"
   ]
  },
  {
   "cell_type": "code",
   "execution_count": 77,
   "id": "6bbfffa1-128d-411c-ba96-4c438c4919a6",
   "metadata": {},
   "outputs": [
    {
     "data": {
      "text/html": [
       "25.25"
      ],
      "text/latex": [
       "25.25"
      ],
      "text/markdown": [
       "25.25"
      ],
      "text/plain": [
       "[1] 25.25"
      ]
     },
     "metadata": {},
     "output_type": "display_data"
    }
   ],
   "source": [
    "probability_3 <- pnorm(Z)\n",
    "round(probability_3, 4) * 100"
   ]
  },
  {
   "cell_type": "markdown",
   "id": "b16007a4-9899-47c4-8402-60725aba2ac7",
   "metadata": {},
   "source": [
    "***\n",
    "### <font color='purple'>Test Time</font>"
   ]
  },
  {
   "cell_type": "markdown",
   "id": "60a3c8f4-dd4d-4e92-9e5a-eb926fe2437d",
   "metadata": {},
   "source": [
    "The time to complete a public competition test is normally distributed, with an ***average of 80 minutes*** and ***standard deviation of 10 minutes***. Suppose that one of the test rooms has 60 candidates and that the test lasts 90 minutes. How many candidates do you think will not be able to complete the test in the given time?\n",
    "\n",
    "Note: Use the round() function to round the result obtained."
   ]
  },
  {
   "cell_type": "code",
   "execution_count": 78,
   "id": "0542f7fa-fdcc-407b-8493-cfb183cb3e0f",
   "metadata": {},
   "outputs": [
    {
     "data": {
      "text/html": [
       "80"
      ],
      "text/latex": [
       "80"
      ],
      "text/markdown": [
       "80"
      ],
      "text/plain": [
       "[1] 80"
      ]
     },
     "metadata": {},
     "output_type": "display_data"
    }
   ],
   "source": [
    "mean <- 80\n",
    "mean"
   ]
  },
  {
   "cell_type": "code",
   "execution_count": 79,
   "id": "d6540da6-0554-4a0f-8846-ee7c2d82704b",
   "metadata": {},
   "outputs": [
    {
     "data": {
      "text/html": [
       "10"
      ],
      "text/latex": [
       "10"
      ],
      "text/markdown": [
       "10"
      ],
      "text/plain": [
       "[1] 10"
      ]
     },
     "metadata": {},
     "output_type": "display_data"
    }
   ],
   "source": [
    "sd <- 10\n",
    "sd"
   ]
  },
  {
   "cell_type": "code",
   "execution_count": 80,
   "id": "ffb2b11c-f464-4cf4-9278-ad12f398f650",
   "metadata": {},
   "outputs": [
    {
     "data": {
      "text/html": [
       "90"
      ],
      "text/latex": [
       "90"
      ],
      "text/markdown": [
       "90"
      ],
      "text/plain": [
       "[1] 90"
      ]
     },
     "metadata": {},
     "output_type": "display_data"
    }
   ],
   "source": [
    "x <- 90\n",
    "x"
   ]
  },
  {
   "cell_type": "code",
   "execution_count": 81,
   "id": "ecd7c28d-9374-4558-b724-3bca9897a1a6",
   "metadata": {},
   "outputs": [
    {
     "data": {
      "text/html": [
       "1"
      ],
      "text/latex": [
       "1"
      ],
      "text/markdown": [
       "1"
      ],
      "text/plain": [
       "[1] 1"
      ]
     },
     "metadata": {},
     "output_type": "display_data"
    }
   ],
   "source": [
    "Z <- (x - mean) / sd\n",
    "Z"
   ]
  },
  {
   "cell_type": "code",
   "execution_count": 82,
   "id": "dd473b5f-3f8c-4dfd-8a9e-e18662a86013",
   "metadata": {},
   "outputs": [
    {
     "data": {
      "text/html": [
       "0.158655253931457"
      ],
      "text/latex": [
       "0.158655253931457"
      ],
      "text/markdown": [
       "0.158655253931457"
      ],
      "text/plain": [
       "[1] 0.1586553"
      ]
     },
     "metadata": {},
     "output_type": "display_data"
    }
   ],
   "source": [
    "probability <- pnorm(-Z)\n",
    "probability"
   ]
  },
  {
   "cell_type": "code",
   "execution_count": 83,
   "id": "78dedbab-9741-4579-9067-2f6a065e1e0b",
   "metadata": {},
   "outputs": [
    {
     "data": {
      "text/html": [
       "10"
      ],
      "text/latex": [
       "10"
      ],
      "text/markdown": [
       "10"
      ],
      "text/plain": [
       "[1] 10"
      ]
     },
     "metadata": {},
     "output_type": "display_data"
    }
   ],
   "source": [
    "n <- 60 * probability\n",
    "round(n)"
   ]
  },
  {
   "cell_type": "markdown",
   "id": "1234fdae-9248-4d3e-9c2b-3a21f0452ab5",
   "metadata": {},
   "source": [
    "***\n",
    "# <font color='lightgreen'>Sampling</font>"
   ]
  },
  {
   "cell_type": "markdown",
   "id": "f193c248-7399-4a83-96a7-ceea64fffd5e",
   "metadata": {},
   "source": [
    "***\n",
    "## <font color='lightgreen'>Population and Sample</font>"
   ]
  },
  {
   "cell_type": "markdown",
   "id": "4980d801-9984-43ef-9415-a1c0e125945c",
   "metadata": {},
   "source": [
    "### Population\n",
    "Set of all elements of interest in a study. Several elements can make up a population, for example: people, ages, heights, cars, etc.\n",
    "\n",
    "Regarding size, populations can be limited (finite populations) or unlimited (infinite populations)."
   ]
  },
  {
   "cell_type": "markdown",
   "id": "a066eaf4-4dcc-4f2d-8a45-b11bf5abaf28",
   "metadata": {},
   "source": [
    "### Finite populations\n",
    "\n",
    "They allow the counting of its elements. Examples include the number of employees in a company, the number of students in a school, etc."
   ]
  },
  {
   "cell_type": "markdown",
   "id": "10085ba7-6d46-440c-9d15-3961327964f1",
   "metadata": {},
   "source": [
    "### Infinite populations\n",
    "\n",
    "It is not possible to count its elements. As examples, we have the number of portions that can be extracted from sea water for analysis, temperature measured at each point in a territory, etc.\n",
    "\n",
    "<font color=red>When the elements of a population can be counted, but present a very large quantity, the population is assumed to be infinite.</font>."
   ]
  },
  {
   "cell_type": "markdown",
   "id": "80c48937-aa01-4894-824b-4b563f4b4c5f",
   "metadata": {},
   "source": [
    "### Sample\n",
    "Representative subset of the population."
   ]
  },
  {
   "cell_type": "markdown",
   "id": "fe5ef56c-6c27-44d2-b584-5bfe7d78c8e0",
   "metadata": {},
   "source": [
    "The numerical attributes of a population, such as its mean, variance and standard deviation, are known as **parameters**. The main focus of statistical inference is precisely to generate estimates and test hypotheses about population parameters using sample information."
   ]
  },
  {
   "cell_type": "markdown",
   "id": "765f2ba6-114d-4eb6-ac3b-a8a4b828230a",
   "metadata": {},
   "source": [
    "***\n",
    "### <font color='lightgreen'>Criteria For Using a Sample</font>"
   ]
  },
  {
   "cell_type": "markdown",
   "id": "4393f7a4-3496-42ae-8d4c-38f1801e56da",
   "metadata": {},
   "source": [
    "### Infinite populations\n",
    "\n",
    "The study would never come to an end. It is not possible to investigate all elements of the population."
   ]
  },
  {
   "cell_type": "markdown",
   "id": "7a0dacd5-4c49-4195-ab4b-6d1653a9a4dc",
   "metadata": {},
   "source": [
    "### Destructive testing\n",
    "\n",
    "Studies where the evaluated elements are completely consumed or destroyed. Example: useful life tests, automobile crash safety tests."
   ]
  },
  {
   "cell_type": "markdown",
   "id": "b550168c-04d4-438c-8c2d-fe935a2ebadf",
   "metadata": {},
   "source": [
    "### Quick results\n",
    "\n",
    "Research that needs more agility in dissemination. Example: opinion polls, research involving public health problems."
   ]
  },
  {
   "cell_type": "markdown",
   "id": "6d0ea9d0-fb34-4758-8ca4-8ac35935776d",
   "metadata": {},
   "source": [
    "### High costs\n",
    "\n",
    "When the population is finite but very numerous, the cost of a census can make the process unfeasible."
   ]
  },
  {
   "cell_type": "markdown",
   "id": "6ffb5b2a-f9ff-4d2d-abb7-63188834a965",
   "metadata": {},
   "source": [
    "***\n",
    "## <font color='lightgreen'>Simple Random Sampling</font>"
   ]
  },
  {
   "cell_type": "markdown",
   "id": "2733efa4-555a-4dce-9dff-d1c57cc4c274",
   "metadata": {},
   "source": [
    "It is one of the main ways to extract a sample from a population. The fundamental requirement of this type of approach is that each element of the population has the same chances of being selected to be part of the sample."
   ]
  },
  {
   "cell_type": "markdown",
   "id": "85984674-f56a-410f-a67f-3772024ee476",
   "metadata": {},
   "source": [
    "***\n",
    "### <font color='purple'>Extracting a Simple Sample From The Dataset</font>"
   ]
  },
  {
   "cell_type": "code",
   "execution_count": 84,
   "id": "4e75153a-2220-4d1f-af3f-41d64d367283",
   "metadata": {},
   "outputs": [
    {
     "data": {
      "text/html": [
       "76840"
      ],
      "text/latex": [
       "76840"
      ],
      "text/markdown": [
       "76840"
      ],
      "text/plain": [
       "[1] 76840"
      ]
     },
     "metadata": {},
     "output_type": "display_data"
    }
   ],
   "source": [
    "nrow(dataset)"
   ]
  },
  {
   "cell_type": "code",
   "execution_count": 85,
   "id": "a0426a41-c373-45b2-bfb6-88b509124051",
   "metadata": {},
   "outputs": [
    {
     "data": {
      "text/html": [
       "2000.38319885476"
      ],
      "text/latex": [
       "2000.38319885476"
      ],
      "text/markdown": [
       "2000.38319885476"
      ],
      "text/plain": [
       "[1] 2000.383"
      ]
     },
     "metadata": {},
     "output_type": "display_data"
    }
   ],
   "source": [
    "mean(dataset$Income)"
   ]
  },
  {
   "cell_type": "code",
   "execution_count": 86,
   "id": "b32dff2f-ff41-4995-8253-3461522938fa",
   "metadata": {},
   "outputs": [],
   "source": [
    "set.seed(333)\n",
    "dataset_sample <- sample_n(dataset, 1000)"
   ]
  },
  {
   "cell_type": "code",
   "execution_count": 87,
   "id": "ba2b7760-607b-4b08-9b67-fe6c4a1df7b0",
   "metadata": {},
   "outputs": [
    {
     "data": {
      "text/html": [
       "1000"
      ],
      "text/latex": [
       "1000"
      ],
      "text/markdown": [
       "1000"
      ],
      "text/plain": [
       "[1] 1000"
      ]
     },
     "metadata": {},
     "output_type": "display_data"
    }
   ],
   "source": [
    "nrow(dataset_sample)"
   ]
  },
  {
   "cell_type": "code",
   "execution_count": 88,
   "id": "46ad14d3-3bf8-4fa2-851f-a802ecbbe33b",
   "metadata": {},
   "outputs": [
    {
     "data": {
      "text/html": [
       "1983.471"
      ],
      "text/latex": [
       "1983.471"
      ],
      "text/markdown": [
       "1983.471"
      ],
      "text/plain": [
       "[1] 1983.471"
      ]
     },
     "metadata": {},
     "output_type": "display_data"
    }
   ],
   "source": [
    "mean(dataset_sample$Income)"
   ]
  },
  {
   "cell_type": "markdown",
   "id": "6ba51070-9626-45ae-a47d-ea0376315056",
   "metadata": {},
   "source": [
    "### The Original Dataset"
   ]
  },
  {
   "cell_type": "code",
   "execution_count": 89,
   "id": "7e7fe656-35f1-429b-956c-2e0ca56e16f4",
   "metadata": {},
   "outputs": [
    {
     "data": {
      "text/html": [
       "<table class=\"dataframe\">\n",
       "<caption>A matrix: 2 × 2 of type dbl</caption>\n",
       "<thead>\n",
       "\t<tr><th></th><th scope=col>Frequency</th><th scope=col>Percente(%)</th></tr>\n",
       "</thead>\n",
       "<tbody>\n",
       "\t<tr><th scope=row>0</th><td>53250</td><td>69.29984</td></tr>\n",
       "\t<tr><th scope=row>1</th><td>23590</td><td>30.70016</td></tr>\n",
       "</tbody>\n",
       "</table>\n"
      ],
      "text/latex": [
       "A matrix: 2 × 2 of type dbl\n",
       "\\begin{tabular}{r|ll}\n",
       "  & Frequency & Percente(\\%)\\\\\n",
       "\\hline\n",
       "\t0 & 53250 & 69.29984\\\\\n",
       "\t1 & 23590 & 30.70016\\\\\n",
       "\\end{tabular}\n"
      ],
      "text/markdown": [
       "\n",
       "A matrix: 2 × 2 of type dbl\n",
       "\n",
       "| <!--/--> | Frequency | Percente(%) |\n",
       "|---|---|---|\n",
       "| 0 | 53250 | 69.29984 |\n",
       "| 1 | 23590 | 30.70016 |\n",
       "\n"
      ],
      "text/plain": [
       "  Frequency Percente(%)\n",
       "0 53250     69.29984   \n",
       "1 23590     30.70016   "
      ]
     },
     "metadata": {},
     "output_type": "display_data"
    }
   ],
   "source": [
    "cbind('Frequency'=table(dataset$Sex),'Percente(%)'=prop.table(table(dataset$Sex)) * 100)"
   ]
  },
  {
   "cell_type": "markdown",
   "id": "552ba54b-7891-426e-9053-f585a069cbb4",
   "metadata": {},
   "source": [
    "### The Sample Dataset"
   ]
  },
  {
   "cell_type": "code",
   "execution_count": 90,
   "id": "d1866a9d-5161-4cb0-801f-c3b129c62fb4",
   "metadata": {},
   "outputs": [
    {
     "data": {
      "text/html": [
       "<table class=\"dataframe\">\n",
       "<caption>A matrix: 2 × 2 of type dbl</caption>\n",
       "<thead>\n",
       "\t<tr><th></th><th scope=col>Frequency</th><th scope=col>Percente(%)</th></tr>\n",
       "</thead>\n",
       "<tbody>\n",
       "\t<tr><th scope=row>0</th><td>686</td><td>68.6</td></tr>\n",
       "\t<tr><th scope=row>1</th><td>314</td><td>31.4</td></tr>\n",
       "</tbody>\n",
       "</table>\n"
      ],
      "text/latex": [
       "A matrix: 2 × 2 of type dbl\n",
       "\\begin{tabular}{r|ll}\n",
       "  & Frequency & Percente(\\%)\\\\\n",
       "\\hline\n",
       "\t0 & 686 & 68.6\\\\\n",
       "\t1 & 314 & 31.4\\\\\n",
       "\\end{tabular}\n"
      ],
      "text/markdown": [
       "\n",
       "A matrix: 2 × 2 of type dbl\n",
       "\n",
       "| <!--/--> | Frequency | Percente(%) |\n",
       "|---|---|---|\n",
       "| 0 | 686 | 68.6 |\n",
       "| 1 | 314 | 31.4 |\n",
       "\n"
      ],
      "text/plain": [
       "  Frequency Percente(%)\n",
       "0 686       68.6       \n",
       "1 314       31.4       "
      ]
     },
     "metadata": {},
     "output_type": "display_data"
    }
   ],
   "source": [
    "cbind('Frequency'=table(dataset_sample$Sex),'Percente(%)'=prop.table(table(dataset_sample$Sex)) * 100)"
   ]
  },
  {
   "cell_type": "markdown",
   "id": "5d3ac5a3-dfa9-46c3-9a02-42b7f3985b47",
   "metadata": {},
   "source": [
    "***\n",
    "## <font color='lightgreen'>Stratified Sampling</font>"
   ]
  },
  {
   "cell_type": "markdown",
   "id": "edd342e0-7df0-47d6-a2ca-75ce87f91b23",
   "metadata": {},
   "source": [
    "It is an improvement on the simple random sampling process. This method proposes the division of the population into subgroups of elements with similar characteristics, that is, more homogeneous groups. With these subgroups separated, the simple random sampling technique is applied within each subgroup individually."
   ]
  },
  {
   "cell_type": "markdown",
   "id": "a59ea67e-dd63-4700-9d14-36c1e009a3f2",
   "metadata": {},
   "source": [
    "***\n",
    "## <font color='lightgreen'>Cluster Sampling</font>"
   ]
  },
  {
   "cell_type": "markdown",
   "id": "6e86c5b1-0949-43df-a622-588795463bbd",
   "metadata": {},
   "source": [
    "It also aims to improve the simple random sampling criterion. In cluster sampling, subgroups are also created, but they will not be homogeneous as in stratified sampling. In cluster sampling, the subgroups will be heterogeneous, where simple or stratified random sampling will then be applied.\n",
    "\n",
    "A very common example of application of this type of technique is in the division of the population into territorial groups, where the elements investigated will have quite varied characteristics."
   ]
  },
  {
   "cell_type": "markdown",
   "id": "72e51b59-3578-4f34-ab68-709b2a433741",
   "metadata": {},
   "source": [
    "***\n",
    "## <font color='lightgreen'>Estimation</font>"
   ]
  },
  {
   "cell_type": "markdown",
   "id": "5a65c24e-1160-4bb9-881a-5fc5fdef1a82",
   "metadata": {},
   "source": [
    "It is the way of making generalized assumptions about the parameters of a population based on information from a sample.\n",
    "\n",
    "- **Parameters** are the numerical attributes of a population, such as the mean, standard deviation, etc.\n",
    "\n",
    "- **Estimate** is the value obtained for a given parameter from data from a sample of the population."
   ]
  },
  {
   "cell_type": "markdown",
   "id": "c78de272-be1c-4f66-b968-7e687fd15106",
   "metadata": {},
   "source": [
    "***\n",
    "## <font color='lightgreen'>Central Limit Theorem</font>"
   ]
  },
  {
   "cell_type": "markdown",
   "id": "3209d533-91e6-4797-87ee-46f6277a4540",
   "metadata": {},
   "source": [
    "> The **Central Limit Theorem** states that, with increasing sample size, the distribution of sample means approaches a normal distribution with a mean equal to the population mean and standard deviation equal to the standard deviation of the original variable divided by the square root of the sample size. This fact is guaranteed for $n$ greater than or equal to 30."
   ]
  },
  {
   "cell_type": "markdown",
   "id": "a5cbf16e-c991-4006-8247-12e6027f26c9",
   "metadata": {},
   "source": [
    "# $$\\sigma_\\bar{x} = \\frac{\\sigma}{\\sqrt{n}}$$\n",
    "\n",
    "The standard deviation of the sample means is known as **standard error of the mean**"
   ]
  },
  {
   "cell_type": "markdown",
   "id": "c5fc0066-a470-4119-81aa-e8bc74b26631",
   "metadata": {},
   "source": [
    "### Understanding the Central Limit Theorem"
   ]
  },
  {
   "cell_type": "code",
   "execution_count": 91,
   "id": "3bcfc0ed-310e-45ef-9428-66348d06f627",
   "metadata": {},
   "outputs": [],
   "source": [
    "n <- 2000\n",
    "total_samples <- 1500"
   ]
  },
  {
   "cell_type": "code",
   "execution_count": 92,
   "id": "2c3b2dcc-47d9-4e41-bc38-59b95b3f20a5",
   "metadata": {},
   "outputs": [
    {
     "data": {
      "text/html": [
       "<table class=\"dataframe\">\n",
       "<caption>A data.frame: 6 × 1500</caption>\n",
       "<thead>\n",
       "\t<tr><th></th><th scope=col>Sample_1</th><th scope=col>Sample_ 2</th><th scope=col>Sample_ 3</th><th scope=col>Sample_ 4</th><th scope=col>Sample_ 5</th><th scope=col>Sample_ 6</th><th scope=col>Sample_ 7</th><th scope=col>Sample_ 8</th><th scope=col>Sample_ 9</th><th scope=col>Sample_ 10</th><th scope=col>⋯</th><th scope=col>Sample_ 1491</th><th scope=col>Sample_ 1492</th><th scope=col>Sample_ 1493</th><th scope=col>Sample_ 1494</th><th scope=col>Sample_ 1495</th><th scope=col>Sample_ 1496</th><th scope=col>Sample_ 1497</th><th scope=col>Sample_ 1498</th><th scope=col>Sample_ 1499</th><th scope=col>Sample_ 1500</th></tr>\n",
       "\t<tr><th></th><th scope=col>&lt;int&gt;</th><th scope=col>&lt;int&gt;</th><th scope=col>&lt;int&gt;</th><th scope=col>&lt;int&gt;</th><th scope=col>&lt;int&gt;</th><th scope=col>&lt;int&gt;</th><th scope=col>&lt;int&gt;</th><th scope=col>&lt;int&gt;</th><th scope=col>&lt;int&gt;</th><th scope=col>&lt;int&gt;</th><th scope=col>⋯</th><th scope=col>&lt;int&gt;</th><th scope=col>&lt;int&gt;</th><th scope=col>&lt;int&gt;</th><th scope=col>&lt;int&gt;</th><th scope=col>&lt;int&gt;</th><th scope=col>&lt;int&gt;</th><th scope=col>&lt;int&gt;</th><th scope=col>&lt;int&gt;</th><th scope=col>&lt;int&gt;</th><th scope=col>&lt;int&gt;</th></tr>\n",
       "</thead>\n",
       "<tbody>\n",
       "\t<tr><th scope=row>1</th><td>33</td><td>23</td><td>22</td><td>39</td><td>38</td><td>39</td><td>32</td><td>44</td><td>47</td><td>30</td><td>⋯</td><td>47</td><td>35</td><td>54</td><td>48</td><td>56</td><td>29</td><td>30</td><td>63</td><td>34</td><td>52</td></tr>\n",
       "\t<tr><th scope=row>2</th><td>37</td><td>36</td><td>23</td><td>46</td><td>52</td><td>45</td><td>46</td><td>42</td><td>34</td><td>74</td><td>⋯</td><td>45</td><td>50</td><td>40</td><td>74</td><td>39</td><td>59</td><td>35</td><td>36</td><td>54</td><td>54</td></tr>\n",
       "\t<tr><th scope=row>3</th><td>47</td><td>48</td><td>35</td><td>66</td><td>44</td><td>22</td><td>38</td><td>42</td><td>22</td><td>54</td><td>⋯</td><td>42</td><td>43</td><td>43</td><td>52</td><td>41</td><td>40</td><td>43</td><td>45</td><td>37</td><td>75</td></tr>\n",
       "\t<tr><th scope=row>4</th><td>45</td><td>60</td><td>47</td><td>29</td><td>48</td><td>48</td><td>44</td><td>44</td><td>43</td><td>33</td><td>⋯</td><td>59</td><td>58</td><td>34</td><td>50</td><td>52</td><td>48</td><td>48</td><td>30</td><td>44</td><td>24</td></tr>\n",
       "\t<tr><th scope=row>5</th><td>28</td><td>44</td><td>60</td><td>46</td><td>23</td><td>36</td><td>44</td><td>36</td><td>45</td><td>69</td><td>⋯</td><td>45</td><td>44</td><td>34</td><td>47</td><td>58</td><td>42</td><td>61</td><td>55</td><td>52</td><td>32</td></tr>\n",
       "\t<tr><th scope=row>6</th><td>29</td><td>29</td><td>44</td><td>60</td><td>49</td><td>39</td><td>46</td><td>35</td><td>59</td><td>31</td><td>⋯</td><td>32</td><td>27</td><td>40</td><td>58</td><td>25</td><td>52</td><td>46</td><td>50</td><td>44</td><td>52</td></tr>\n",
       "</tbody>\n",
       "</table>\n"
      ],
      "text/latex": [
       "A data.frame: 6 × 1500\n",
       "\\begin{tabular}{r|lllllllllllllllllllll}\n",
       "  & Sample\\_1 & Sample\\_ 2 & Sample\\_ 3 & Sample\\_ 4 & Sample\\_ 5 & Sample\\_ 6 & Sample\\_ 7 & Sample\\_ 8 & Sample\\_ 9 & Sample\\_ 10 & ⋯ & Sample\\_ 1491 & Sample\\_ 1492 & Sample\\_ 1493 & Sample\\_ 1494 & Sample\\_ 1495 & Sample\\_ 1496 & Sample\\_ 1497 & Sample\\_ 1498 & Sample\\_ 1499 & Sample\\_ 1500\\\\\n",
       "  & <int> & <int> & <int> & <int> & <int> & <int> & <int> & <int> & <int> & <int> & ⋯ & <int> & <int> & <int> & <int> & <int> & <int> & <int> & <int> & <int> & <int>\\\\\n",
       "\\hline\n",
       "\t1 & 33 & 23 & 22 & 39 & 38 & 39 & 32 & 44 & 47 & 30 & ⋯ & 47 & 35 & 54 & 48 & 56 & 29 & 30 & 63 & 34 & 52\\\\\n",
       "\t2 & 37 & 36 & 23 & 46 & 52 & 45 & 46 & 42 & 34 & 74 & ⋯ & 45 & 50 & 40 & 74 & 39 & 59 & 35 & 36 & 54 & 54\\\\\n",
       "\t3 & 47 & 48 & 35 & 66 & 44 & 22 & 38 & 42 & 22 & 54 & ⋯ & 42 & 43 & 43 & 52 & 41 & 40 & 43 & 45 & 37 & 75\\\\\n",
       "\t4 & 45 & 60 & 47 & 29 & 48 & 48 & 44 & 44 & 43 & 33 & ⋯ & 59 & 58 & 34 & 50 & 52 & 48 & 48 & 30 & 44 & 24\\\\\n",
       "\t5 & 28 & 44 & 60 & 46 & 23 & 36 & 44 & 36 & 45 & 69 & ⋯ & 45 & 44 & 34 & 47 & 58 & 42 & 61 & 55 & 52 & 32\\\\\n",
       "\t6 & 29 & 29 & 44 & 60 & 49 & 39 & 46 & 35 & 59 & 31 & ⋯ & 32 & 27 & 40 & 58 & 25 & 52 & 46 & 50 & 44 & 52\\\\\n",
       "\\end{tabular}\n"
      ],
      "text/markdown": [
       "\n",
       "A data.frame: 6 × 1500\n",
       "\n",
       "| <!--/--> | Sample_1 &lt;int&gt; | Sample_ 2 &lt;int&gt; | Sample_ 3 &lt;int&gt; | Sample_ 4 &lt;int&gt; | Sample_ 5 &lt;int&gt; | Sample_ 6 &lt;int&gt; | Sample_ 7 &lt;int&gt; | Sample_ 8 &lt;int&gt; | Sample_ 9 &lt;int&gt; | Sample_ 10 &lt;int&gt; | ⋯ ⋯ | Sample_ 1491 &lt;int&gt; | Sample_ 1492 &lt;int&gt; | Sample_ 1493 &lt;int&gt; | Sample_ 1494 &lt;int&gt; | Sample_ 1495 &lt;int&gt; | Sample_ 1496 &lt;int&gt; | Sample_ 1497 &lt;int&gt; | Sample_ 1498 &lt;int&gt; | Sample_ 1499 &lt;int&gt; | Sample_ 1500 &lt;int&gt; |\n",
       "|---|---|---|---|---|---|---|---|---|---|---|---|---|---|---|---|---|---|---|---|---|---|\n",
       "| 1 | 33 | 23 | 22 | 39 | 38 | 39 | 32 | 44 | 47 | 30 | ⋯ | 47 | 35 | 54 | 48 | 56 | 29 | 30 | 63 | 34 | 52 |\n",
       "| 2 | 37 | 36 | 23 | 46 | 52 | 45 | 46 | 42 | 34 | 74 | ⋯ | 45 | 50 | 40 | 74 | 39 | 59 | 35 | 36 | 54 | 54 |\n",
       "| 3 | 47 | 48 | 35 | 66 | 44 | 22 | 38 | 42 | 22 | 54 | ⋯ | 42 | 43 | 43 | 52 | 41 | 40 | 43 | 45 | 37 | 75 |\n",
       "| 4 | 45 | 60 | 47 | 29 | 48 | 48 | 44 | 44 | 43 | 33 | ⋯ | 59 | 58 | 34 | 50 | 52 | 48 | 48 | 30 | 44 | 24 |\n",
       "| 5 | 28 | 44 | 60 | 46 | 23 | 36 | 44 | 36 | 45 | 69 | ⋯ | 45 | 44 | 34 | 47 | 58 | 42 | 61 | 55 | 52 | 32 |\n",
       "| 6 | 29 | 29 | 44 | 60 | 49 | 39 | 46 | 35 | 59 | 31 | ⋯ | 32 | 27 | 40 | 58 | 25 | 52 | 46 | 50 | 44 | 52 |\n",
       "\n"
      ],
      "text/plain": [
       "  Sample_1 Sample_ 2 Sample_ 3 Sample_ 4 Sample_ 5 Sample_ 6 Sample_ 7\n",
       "1 33       23        22        39        38        39        32       \n",
       "2 37       36        23        46        52        45        46       \n",
       "3 47       48        35        66        44        22        38       \n",
       "4 45       60        47        29        48        48        44       \n",
       "5 28       44        60        46        23        36        44       \n",
       "6 29       29        44        60        49        39        46       \n",
       "  Sample_ 8 Sample_ 9 Sample_ 10 ⋯ Sample_ 1491 Sample_ 1492 Sample_ 1493\n",
       "1 44        47        30         ⋯ 47           35           54          \n",
       "2 42        34        74         ⋯ 45           50           40          \n",
       "3 42        22        54         ⋯ 42           43           43          \n",
       "4 44        43        33         ⋯ 59           58           34          \n",
       "5 36        45        69         ⋯ 45           44           34          \n",
       "6 35        59        31         ⋯ 32           27           40          \n",
       "  Sample_ 1494 Sample_ 1495 Sample_ 1496 Sample_ 1497 Sample_ 1498 Sample_ 1499\n",
       "1 48           56           29           30           63           34          \n",
       "2 74           39           59           35           36           54          \n",
       "3 52           41           40           43           45           37          \n",
       "4 50           52           48           48           30           44          \n",
       "5 47           58           42           61           55           52          \n",
       "6 58           25           52           46           50           44          \n",
       "  Sample_ 1500\n",
       "1 52          \n",
       "2 54          \n",
       "3 75          \n",
       "4 24          \n",
       "5 32          \n",
       "6 52          "
      ]
     },
     "metadata": {},
     "output_type": "display_data"
    }
   ],
   "source": [
    "for (i in 1:total_samples){\n",
    "    if(i==1){\n",
    "        sample_dataset <- data.frame('Sample_1'= sample(dataset$Age, n))\n",
    "    }else{\n",
    "        sample_dataset[paste('Sample_', i)] <- sample(dataset$Age, n)\n",
    "    }\n",
    "}\n",
    "head(sample_dataset)"
   ]
  },
  {
   "cell_type": "code",
   "execution_count": 93,
   "id": "c7edf4eb-414f-4dab-8846-996c8d0ccf4d",
   "metadata": {},
   "outputs": [
    {
     "data": {
      "text/html": [
       "<style>\n",
       ".dl-inline {width: auto; margin:0; padding: 0}\n",
       ".dl-inline>dt, .dl-inline>dd {float: none; width: auto; display: inline-block}\n",
       ".dl-inline>dt::after {content: \":\\0020\"; padding-right: .5ex}\n",
       ".dl-inline>dt:not(:first-of-type) {padding-left: .5ex}\n",
       "</style><dl class=dl-inline><dt>Sample_1</dt><dd>44.1405</dd><dt>Sample_ 2</dt><dd>44.17</dd><dt>Sample_ 3</dt><dd>44.186</dd><dt>Sample_ 4</dt><dd>44.4195</dd><dt>Sample_ 5</dt><dd>44.262</dd><dt>Sample_ 6</dt><dd>43.663</dd><dt>Sample_ 7</dt><dd>44.017</dd><dt>Sample_ 8</dt><dd>44.0785</dd><dt>Sample_ 9</dt><dd>44.078</dd><dt>Sample_ 10</dt><dd>44.144</dd><dt>Sample_ 11</dt><dd>43.9565</dd><dt>Sample_ 12</dt><dd>43.8455</dd><dt>Sample_ 13</dt><dd>44.028</dd><dt>Sample_ 14</dt><dd>43.8</dd><dt>Sample_ 15</dt><dd>43.9505</dd><dt>Sample_ 16</dt><dd>44.201</dd><dt>Sample_ 17</dt><dd>44.213</dd><dt>Sample_ 18</dt><dd>44.215</dd><dt>Sample_ 19</dt><dd>44.0195</dd><dt>Sample_ 20</dt><dd>44.062</dd><dt>Sample_ 21</dt><dd>44.1795</dd><dt>Sample_ 22</dt><dd>44.036</dd><dt>Sample_ 23</dt><dd>43.8095</dd><dt>Sample_ 24</dt><dd>44.205</dd><dt>Sample_ 25</dt><dd>43.864</dd><dt>Sample_ 26</dt><dd>44.2605</dd><dt>Sample_ 27</dt><dd>44.0735</dd><dt>Sample_ 28</dt><dd>44.067</dd><dt>Sample_ 29</dt><dd>44.0155</dd><dt>Sample_ 30</dt><dd>43.413</dd><dt>Sample_ 31</dt><dd>43.982</dd><dt>Sample_ 32</dt><dd>44.222</dd><dt>Sample_ 33</dt><dd>44.163</dd><dt>Sample_ 34</dt><dd>44.03</dd><dt>Sample_ 35</dt><dd>43.9795</dd><dt>Sample_ 36</dt><dd>44.079</dd><dt>Sample_ 37</dt><dd>43.9195</dd><dt>Sample_ 38</dt><dd>43.914</dd><dt>Sample_ 39</dt><dd>44.043</dd><dt>Sample_ 40</dt><dd>44.3345</dd><dt>Sample_ 41</dt><dd>43.6935</dd><dt>Sample_ 42</dt><dd>43.848</dd><dt>Sample_ 43</dt><dd>44.564</dd><dt>Sample_ 44</dt><dd>43.8715</dd><dt>Sample_ 45</dt><dd>44.1755</dd><dt>Sample_ 46</dt><dd>44.659</dd><dt>Sample_ 47</dt><dd>44.449</dd><dt>Sample_ 48</dt><dd>44.337</dd><dt>Sample_ 49</dt><dd>43.808</dd><dt>Sample_ 50</dt><dd>43.812</dd><dt>Sample_ 51</dt><dd>44.301</dd><dt>Sample_ 52</dt><dd>43.8445</dd><dt>Sample_ 53</dt><dd>43.885</dd><dt>Sample_ 54</dt><dd>43.71</dd><dt>Sample_ 55</dt><dd>44.4955</dd><dt>Sample_ 56</dt><dd>43.7525</dd><dt>Sample_ 57</dt><dd>44.24</dd><dt>Sample_ 58</dt><dd>44.084</dd><dt>Sample_ 59</dt><dd>43.341</dd><dt>Sample_ 60</dt><dd>44.2615</dd><dt>Sample_ 61</dt><dd>43.854</dd><dt>Sample_ 62</dt><dd>44.0955</dd><dt>Sample_ 63</dt><dd>43.6495</dd><dt>Sample_ 64</dt><dd>43.9235</dd><dt>Sample_ 65</dt><dd>44.2715</dd><dt>Sample_ 66</dt><dd>44.349</dd><dt>Sample_ 67</dt><dd>44.2085</dd><dt>Sample_ 68</dt><dd>44.107</dd><dt>Sample_ 69</dt><dd>44.0535</dd><dt>Sample_ 70</dt><dd>44.066</dd><dt>Sample_ 71</dt><dd>44.4425</dd><dt>Sample_ 72</dt><dd>43.783</dd><dt>Sample_ 73</dt><dd>44.3315</dd><dt>Sample_ 74</dt><dd>44.0595</dd><dt>Sample_ 75</dt><dd>44.0375</dd><dt>Sample_ 76</dt><dd>44.155</dd><dt>Sample_ 77</dt><dd>44.508</dd><dt>Sample_ 78</dt><dd>43.8715</dd><dt>Sample_ 79</dt><dd>44.204</dd><dt>Sample_ 80</dt><dd>43.9055</dd><dt>Sample_ 81</dt><dd>44.3095</dd><dt>Sample_ 82</dt><dd>43.6585</dd><dt>Sample_ 83</dt><dd>44.2725</dd><dt>Sample_ 84</dt><dd>43.834</dd><dt>Sample_ 85</dt><dd>43.447</dd><dt>Sample_ 86</dt><dd>44.3635</dd><dt>Sample_ 87</dt><dd>43.9715</dd><dt>Sample_ 88</dt><dd>43.9925</dd><dt>Sample_ 89</dt><dd>44.0455</dd><dt>Sample_ 90</dt><dd>44.4485</dd><dt>Sample_ 91</dt><dd>43.972</dd><dt>Sample_ 92</dt><dd>43.957</dd><dt>Sample_ 93</dt><dd>44.4175</dd><dt>Sample_ 94</dt><dd>44.1055</dd><dt>Sample_ 95</dt><dd>44.6685</dd><dt>Sample_ 96</dt><dd>44.1595</dd><dt>Sample_ 97</dt><dd>44.3445</dd><dt>Sample_ 98</dt><dd>43.6215</dd><dt>Sample_ 99</dt><dd>44.1845</dd><dt>Sample_ 100</dt><dd>43.641</dd><dt>Sample_ 101</dt><dd>44.1385</dd><dt>Sample_ 102</dt><dd>43.8085</dd><dt>Sample_ 103</dt><dd>43.997</dd><dt>Sample_ 104</dt><dd>43.987</dd><dt>Sample_ 105</dt><dd>44.266</dd><dt>Sample_ 106</dt><dd>44.0055</dd><dt>Sample_ 107</dt><dd>43.972</dd><dt>Sample_ 108</dt><dd>44.1515</dd><dt>Sample_ 109</dt><dd>44.2725</dd><dt>Sample_ 110</dt><dd>44.4745</dd><dt>Sample_ 111</dt><dd>44.787</dd><dt>Sample_ 112</dt><dd>44.645</dd><dt>Sample_ 113</dt><dd>43.971</dd><dt>Sample_ 114</dt><dd>43.671</dd><dt>Sample_ 115</dt><dd>43.621</dd><dt>Sample_ 116</dt><dd>44.032</dd><dt>Sample_ 117</dt><dd>43.885</dd><dt>Sample_ 118</dt><dd>44.0285</dd><dt>Sample_ 119</dt><dd>43.844</dd><dt>Sample_ 120</dt><dd>44.0645</dd><dt>Sample_ 121</dt><dd>43.506</dd><dt>Sample_ 122</dt><dd>44.1195</dd><dt>Sample_ 123</dt><dd>43.8685</dd><dt>Sample_ 124</dt><dd>44.3875</dd><dt>Sample_ 125</dt><dd>43.586</dd><dt>Sample_ 126</dt><dd>44.575</dd><dt>Sample_ 127</dt><dd>44.5295</dd><dt>Sample_ 128</dt><dd>43.607</dd><dt>Sample_ 129</dt><dd>43.9595</dd><dt>Sample_ 130</dt><dd>44.3155</dd><dt>Sample_ 131</dt><dd>44.617</dd><dt>Sample_ 132</dt><dd>43.9145</dd><dt>Sample_ 133</dt><dd>44.179</dd><dt>Sample_ 134</dt><dd>43.671</dd><dt>Sample_ 135</dt><dd>44.169</dd><dt>Sample_ 136</dt><dd>44.4705</dd><dt>Sample_ 137</dt><dd>43.775</dd><dt>Sample_ 138</dt><dd>43.8735</dd><dt>Sample_ 139</dt><dd>44.1055</dd><dt>Sample_ 140</dt><dd>43.915</dd><dt>Sample_ 141</dt><dd>43.885</dd><dt>Sample_ 142</dt><dd>44.419</dd><dt>Sample_ 143</dt><dd>44.19</dd><dt>Sample_ 144</dt><dd>44.282</dd><dt>Sample_ 145</dt><dd>44.061</dd><dt>Sample_ 146</dt><dd>44.6515</dd><dt>Sample_ 147</dt><dd>43.855</dd><dt>Sample_ 148</dt><dd>44.2275</dd><dt>Sample_ 149</dt><dd>44.2685</dd><dt>Sample_ 150</dt><dd>44.195</dd><dt>Sample_ 151</dt><dd>44.052</dd><dt>Sample_ 152</dt><dd>44.295</dd><dt>Sample_ 153</dt><dd>44.322</dd><dt>Sample_ 154</dt><dd>44.116</dd><dt>Sample_ 155</dt><dd>44.3305</dd><dt>Sample_ 156</dt><dd>44.167</dd><dt>Sample_ 157</dt><dd>44.047</dd><dt>Sample_ 158</dt><dd>44.353</dd><dt>Sample_ 159</dt><dd>43.737</dd><dt>Sample_ 160</dt><dd>43.6185</dd><dt>Sample_ 161</dt><dd>43.9675</dd><dt>Sample_ 162</dt><dd>44.064</dd><dt>Sample_ 163</dt><dd>44.052</dd><dt>Sample_ 164</dt><dd>44.1765</dd><dt>Sample_ 165</dt><dd>43.751</dd><dt>Sample_ 166</dt><dd>44.122</dd><dt>Sample_ 167</dt><dd>44.2835</dd><dt>Sample_ 168</dt><dd>43.921</dd><dt>Sample_ 169</dt><dd>43.9635</dd><dt>Sample_ 170</dt><dd>44.434</dd><dt>Sample_ 171</dt><dd>43.465</dd><dt>Sample_ 172</dt><dd>43.974</dd><dt>Sample_ 173</dt><dd>44.076</dd><dt>Sample_ 174</dt><dd>43.578</dd><dt>Sample_ 175</dt><dd>44.189</dd><dt>Sample_ 176</dt><dd>44.7875</dd><dt>Sample_ 177</dt><dd>44.4895</dd><dt>Sample_ 178</dt><dd>44.239</dd><dt>Sample_ 179</dt><dd>44.239</dd><dt>Sample_ 180</dt><dd>43.8475</dd><dt>Sample_ 181</dt><dd>43.2855</dd><dt>Sample_ 182</dt><dd>44.1105</dd><dt>Sample_ 183</dt><dd>44.4635</dd><dt>Sample_ 184</dt><dd>44.4</dd><dt>Sample_ 185</dt><dd>43.7855</dd><dt>Sample_ 186</dt><dd>44.153</dd><dt>Sample_ 187</dt><dd>44.1095</dd><dt>Sample_ 188</dt><dd>44.3265</dd><dt>Sample_ 189</dt><dd>43.7885</dd><dt>Sample_ 190</dt><dd>43.8205</dd><dt>Sample_ 191</dt><dd>43.9605</dd><dt>Sample_ 192</dt><dd>43.5095</dd><dt>Sample_ 193</dt><dd>44.053</dd><dt>Sample_ 194</dt><dd>43.967</dd><dt>Sample_ 195</dt><dd>43.965</dd><dt>Sample_ 196</dt><dd>44.1605</dd><dt>Sample_ 197</dt><dd>44.5035</dd><dt>Sample_ 198</dt><dd>43.4575</dd><dt>Sample_ 199</dt><dd>44.4845</dd><dt>Sample_ 200</dt><dd>43.652</dd><dt>Sample_ 201</dt><dd>⋯</dd><dt>Sample_ 202</dt><dd>43.6965</dd><dt>Sample_ 203</dt><dd>44.112</dd><dt>Sample_ 204</dt><dd>43.8165</dd><dt>Sample_ 205</dt><dd>43.5565</dd><dt>Sample_ 206</dt><dd>44.212</dd><dt>Sample_ 207</dt><dd>44.5685</dd><dt>Sample_ 208</dt><dd>44.4745</dd><dt>Sample_ 209</dt><dd>43.793</dd><dt>Sample_ 210</dt><dd>43.949</dd><dt>Sample_ 211</dt><dd>44.2835</dd><dt>Sample_ 212</dt><dd>44.402</dd><dt>Sample_ 213</dt><dd>44.143</dd><dt>Sample_ 214</dt><dd>43.978</dd><dt>Sample_ 215</dt><dd>43.7285</dd><dt>Sample_ 216</dt><dd>44.0295</dd><dt>Sample_ 217</dt><dd>43.8805</dd><dt>Sample_ 218</dt><dd>44.0755</dd><dt>Sample_ 219</dt><dd>44.1415</dd><dt>Sample_ 220</dt><dd>43.9415</dd><dt>Sample_ 221</dt><dd>43.79</dd><dt>Sample_ 222</dt><dd>44.1915</dd><dt>Sample_ 223</dt><dd>44.3455</dd><dt>Sample_ 224</dt><dd>43.954</dd><dt>Sample_ 225</dt><dd>44.2155</dd><dt>Sample_ 226</dt><dd>43.916</dd><dt>Sample_ 227</dt><dd>43.59</dd><dt>Sample_ 228</dt><dd>43.999</dd><dt>Sample_ 229</dt><dd>44.3955</dd><dt>Sample_ 230</dt><dd>43.818</dd><dt>Sample_ 231</dt><dd>43.717</dd><dt>Sample_ 232</dt><dd>44.31</dd><dt>Sample_ 233</dt><dd>43.802</dd><dt>Sample_ 234</dt><dd>43.74</dd><dt>Sample_ 235</dt><dd>43.9105</dd><dt>Sample_ 236</dt><dd>43.8435</dd><dt>Sample_ 237</dt><dd>44.272</dd><dt>Sample_ 238</dt><dd>44.4325</dd><dt>Sample_ 239</dt><dd>44.0885</dd><dt>Sample_ 240</dt><dd>43.927</dd><dt>Sample_ 241</dt><dd>43.9745</dd><dt>Sample_ 242</dt><dd>44.441</dd><dt>Sample_ 243</dt><dd>44.3255</dd><dt>Sample_ 244</dt><dd>43.624</dd><dt>Sample_ 245</dt><dd>44.0815</dd><dt>Sample_ 246</dt><dd>43.9495</dd><dt>Sample_ 247</dt><dd>43.909</dd><dt>Sample_ 248</dt><dd>43.956</dd><dt>Sample_ 249</dt><dd>43.731</dd><dt>Sample_ 250</dt><dd>43.9035</dd><dt>Sample_ 251</dt><dd>43.688</dd><dt>Sample_ 252</dt><dd>44.15</dd><dt>Sample_ 253</dt><dd>44.0145</dd><dt>Sample_ 254</dt><dd>43.998</dd><dt>Sample_ 255</dt><dd>44.1435</dd><dt>Sample_ 256</dt><dd>43.6555</dd><dt>Sample_ 257</dt><dd>44.067</dd><dt>Sample_ 258</dt><dd>44.469</dd><dt>Sample_ 259</dt><dd>44.0635</dd><dt>Sample_ 260</dt><dd>44.287</dd><dt>Sample_ 261</dt><dd>44.221</dd><dt>Sample_ 262</dt><dd>43.818</dd><dt>Sample_ 263</dt><dd>44.3315</dd><dt>Sample_ 264</dt><dd>44.0945</dd><dt>Sample_ 265</dt><dd>44.1045</dd><dt>Sample_ 266</dt><dd>44.167</dd><dt>Sample_ 267</dt><dd>44.0815</dd><dt>Sample_ 268</dt><dd>44.225</dd><dt>Sample_ 269</dt><dd>44.3285</dd><dt>Sample_ 270</dt><dd>43.8645</dd><dt>Sample_ 271</dt><dd>43.9105</dd><dt>Sample_ 272</dt><dd>43.973</dd><dt>Sample_ 273</dt><dd>43.897</dd><dt>Sample_ 274</dt><dd>43.776</dd><dt>Sample_ 275</dt><dd>43.7235</dd><dt>Sample_ 276</dt><dd>43.8605</dd><dt>Sample_ 277</dt><dd>43.7705</dd><dt>Sample_ 278</dt><dd>43.8845</dd><dt>Sample_ 279</dt><dd>43.9825</dd><dt>Sample_ 280</dt><dd>43.8965</dd><dt>Sample_ 281</dt><dd>43.831</dd><dt>Sample_ 282</dt><dd>44.031</dd><dt>Sample_ 283</dt><dd>44.41</dd><dt>Sample_ 284</dt><dd>43.7625</dd><dt>Sample_ 285</dt><dd>43.5605</dd><dt>Sample_ 286</dt><dd>43.7605</dd><dt>Sample_ 287</dt><dd>43.5255</dd><dt>Sample_ 288</dt><dd>44.3075</dd><dt>Sample_ 289</dt><dd>43.9935</dd><dt>Sample_ 290</dt><dd>43.7625</dd><dt>Sample_ 291</dt><dd>44.4505</dd><dt>Sample_ 292</dt><dd>44.2325</dd><dt>Sample_ 293</dt><dd>43.741</dd><dt>Sample_ 294</dt><dd>43.252</dd><dt>Sample_ 295</dt><dd>43.6485</dd><dt>Sample_ 296</dt><dd>43.9325</dd><dt>Sample_ 297</dt><dd>44.5695</dd><dt>Sample_ 298</dt><dd>44.3775</dd><dt>Sample_ 299</dt><dd>44.09</dd><dt>Sample_ 300</dt><dd>44.592</dd><dt>Sample_ 301</dt><dd>44.1505</dd><dt>Sample_ 302</dt><dd>44.1695</dd><dt>Sample_ 303</dt><dd>44.0295</dd><dt>Sample_ 304</dt><dd>44.036</dd><dt>Sample_ 305</dt><dd>44.0835</dd><dt>Sample_ 306</dt><dd>43.813</dd><dt>Sample_ 307</dt><dd>45.0565</dd><dt>Sample_ 308</dt><dd>43.881</dd><dt>Sample_ 309</dt><dd>43.597</dd><dt>Sample_ 310</dt><dd>44.071</dd><dt>Sample_ 311</dt><dd>43.9305</dd><dt>Sample_ 312</dt><dd>44.246</dd><dt>Sample_ 313</dt><dd>44.373</dd><dt>Sample_ 314</dt><dd>44.224</dd><dt>Sample_ 315</dt><dd>44.1485</dd><dt>Sample_ 316</dt><dd>43.898</dd><dt>Sample_ 317</dt><dd>44.249</dd><dt>Sample_ 318</dt><dd>43.7975</dd><dt>Sample_ 319</dt><dd>44.188</dd><dt>Sample_ 320</dt><dd>44.256</dd><dt>Sample_ 321</dt><dd>43.7165</dd><dt>Sample_ 322</dt><dd>44.071</dd><dt>Sample_ 323</dt><dd>44.011</dd><dt>Sample_ 324</dt><dd>44.711</dd><dt>Sample_ 325</dt><dd>43.3705</dd><dt>Sample_ 326</dt><dd>44.253</dd><dt>Sample_ 327</dt><dd>43.836</dd><dt>Sample_ 328</dt><dd>44.106</dd><dt>Sample_ 329</dt><dd>43.75</dd><dt>Sample_ 330</dt><dd>44.0135</dd><dt>Sample_ 331</dt><dd>43.719</dd><dt>Sample_ 332</dt><dd>43.9035</dd><dt>Sample_ 333</dt><dd>44.127</dd><dt>Sample_ 334</dt><dd>43.7825</dd><dt>Sample_ 335</dt><dd>44.0195</dd><dt>Sample_ 336</dt><dd>44.217</dd><dt>Sample_ 337</dt><dd>44.495</dd><dt>Sample_ 338</dt><dd>44.206</dd><dt>Sample_ 339</dt><dd>44.0635</dd><dt>Sample_ 340</dt><dd>44.0685</dd><dt>Sample_ 341</dt><dd>43.9585</dd><dt>Sample_ 342</dt><dd>44.846</dd><dt>Sample_ 343</dt><dd>44.4215</dd><dt>Sample_ 344</dt><dd>44.051</dd><dt>Sample_ 345</dt><dd>44.0955</dd><dt>Sample_ 346</dt><dd>44.0125</dd><dt>Sample_ 347</dt><dd>44.012</dd><dt>Sample_ 348</dt><dd>43.8075</dd><dt>Sample_ 349</dt><dd>43.8915</dd><dt>Sample_ 350</dt><dd>44.025</dd><dt>Sample_ 351</dt><dd>43.755</dd><dt>Sample_ 352</dt><dd>44.5375</dd><dt>Sample_ 353</dt><dd>44.049</dd><dt>Sample_ 354</dt><dd>44.275</dd><dt>Sample_ 355</dt><dd>44.136</dd><dt>Sample_ 356</dt><dd>43.458</dd><dt>Sample_ 357</dt><dd>44.055</dd><dt>Sample_ 358</dt><dd>44.1335</dd><dt>Sample_ 359</dt><dd>44.614</dd><dt>Sample_ 360</dt><dd>44.4605</dd><dt>Sample_ 361</dt><dd>44.128</dd><dt>Sample_ 362</dt><dd>43.815</dd><dt>Sample_ 363</dt><dd>44.0795</dd><dt>Sample_ 364</dt><dd>43.965</dd><dt>Sample_ 365</dt><dd>43.974</dd><dt>Sample_ 366</dt><dd>44.4145</dd><dt>Sample_ 367</dt><dd>44.1605</dd><dt>Sample_ 368</dt><dd>44.146</dd><dt>Sample_ 369</dt><dd>44.299</dd><dt>Sample_ 370</dt><dd>44.292</dd><dt>Sample_ 371</dt><dd>44.54</dd><dt>Sample_ 372</dt><dd>44.501</dd><dt>Sample_ 373</dt><dd>43.5855</dd><dt>Sample_ 374</dt><dd>43.702</dd><dt>Sample_ 375</dt><dd>44.0715</dd><dt>Sample_ 376</dt><dd>43.8735</dd><dt>Sample_ 377</dt><dd>44.1965</dd><dt>Sample_ 378</dt><dd>44.3335</dd><dt>Sample_ 379</dt><dd>44.1405</dd><dt>Sample_ 380</dt><dd>44.269</dd><dt>Sample_ 381</dt><dd>44.347</dd><dt>Sample_ 382</dt><dd>44.0465</dd><dt>Sample_ 383</dt><dd>44.004</dd><dt>Sample_ 384</dt><dd>44.314</dd><dt>Sample_ 385</dt><dd>44.1155</dd><dt>Sample_ 386</dt><dd>44.144</dd><dt>Sample_ 387</dt><dd>44.7685</dd><dt>Sample_ 388</dt><dd>44.0255</dd><dt>Sample_ 389</dt><dd>44.208</dd><dt>Sample_ 390</dt><dd>44.224</dd><dt>Sample_ 391</dt><dd>44.2045</dd><dt>Sample_ 392</dt><dd>44.039</dd><dt>Sample_ 393</dt><dd>44.342</dd><dt>Sample_ 394</dt><dd>44.352</dd><dt>Sample_ 395</dt><dd>43.77</dd><dt>Sample_ 396</dt><dd>44.296</dd><dt>Sample_ 397</dt><dd>44.1455</dd><dt>Sample_ 398</dt><dd>43.493</dd><dt>Sample_ 399</dt><dd>44.0445</dd><dt>Sample_ 400</dt><dd>44.247</dd><dt>Sample_ 401</dt><dd>44.4085</dd></dl>\n"
      ],
      "text/latex": [
       "\\begin{description*}\n",
       "\\item[Sample\\textbackslash{}\\_1] 44.1405\n",
       "\\item[Sample\\textbackslash{}\\_ 2] 44.17\n",
       "\\item[Sample\\textbackslash{}\\_ 3] 44.186\n",
       "\\item[Sample\\textbackslash{}\\_ 4] 44.4195\n",
       "\\item[Sample\\textbackslash{}\\_ 5] 44.262\n",
       "\\item[Sample\\textbackslash{}\\_ 6] 43.663\n",
       "\\item[Sample\\textbackslash{}\\_ 7] 44.017\n",
       "\\item[Sample\\textbackslash{}\\_ 8] 44.0785\n",
       "\\item[Sample\\textbackslash{}\\_ 9] 44.078\n",
       "\\item[Sample\\textbackslash{}\\_ 10] 44.144\n",
       "\\item[Sample\\textbackslash{}\\_ 11] 43.9565\n",
       "\\item[Sample\\textbackslash{}\\_ 12] 43.8455\n",
       "\\item[Sample\\textbackslash{}\\_ 13] 44.028\n",
       "\\item[Sample\\textbackslash{}\\_ 14] 43.8\n",
       "\\item[Sample\\textbackslash{}\\_ 15] 43.9505\n",
       "\\item[Sample\\textbackslash{}\\_ 16] 44.201\n",
       "\\item[Sample\\textbackslash{}\\_ 17] 44.213\n",
       "\\item[Sample\\textbackslash{}\\_ 18] 44.215\n",
       "\\item[Sample\\textbackslash{}\\_ 19] 44.0195\n",
       "\\item[Sample\\textbackslash{}\\_ 20] 44.062\n",
       "\\item[Sample\\textbackslash{}\\_ 21] 44.1795\n",
       "\\item[Sample\\textbackslash{}\\_ 22] 44.036\n",
       "\\item[Sample\\textbackslash{}\\_ 23] 43.8095\n",
       "\\item[Sample\\textbackslash{}\\_ 24] 44.205\n",
       "\\item[Sample\\textbackslash{}\\_ 25] 43.864\n",
       "\\item[Sample\\textbackslash{}\\_ 26] 44.2605\n",
       "\\item[Sample\\textbackslash{}\\_ 27] 44.0735\n",
       "\\item[Sample\\textbackslash{}\\_ 28] 44.067\n",
       "\\item[Sample\\textbackslash{}\\_ 29] 44.0155\n",
       "\\item[Sample\\textbackslash{}\\_ 30] 43.413\n",
       "\\item[Sample\\textbackslash{}\\_ 31] 43.982\n",
       "\\item[Sample\\textbackslash{}\\_ 32] 44.222\n",
       "\\item[Sample\\textbackslash{}\\_ 33] 44.163\n",
       "\\item[Sample\\textbackslash{}\\_ 34] 44.03\n",
       "\\item[Sample\\textbackslash{}\\_ 35] 43.9795\n",
       "\\item[Sample\\textbackslash{}\\_ 36] 44.079\n",
       "\\item[Sample\\textbackslash{}\\_ 37] 43.9195\n",
       "\\item[Sample\\textbackslash{}\\_ 38] 43.914\n",
       "\\item[Sample\\textbackslash{}\\_ 39] 44.043\n",
       "\\item[Sample\\textbackslash{}\\_ 40] 44.3345\n",
       "\\item[Sample\\textbackslash{}\\_ 41] 43.6935\n",
       "\\item[Sample\\textbackslash{}\\_ 42] 43.848\n",
       "\\item[Sample\\textbackslash{}\\_ 43] 44.564\n",
       "\\item[Sample\\textbackslash{}\\_ 44] 43.8715\n",
       "\\item[Sample\\textbackslash{}\\_ 45] 44.1755\n",
       "\\item[Sample\\textbackslash{}\\_ 46] 44.659\n",
       "\\item[Sample\\textbackslash{}\\_ 47] 44.449\n",
       "\\item[Sample\\textbackslash{}\\_ 48] 44.337\n",
       "\\item[Sample\\textbackslash{}\\_ 49] 43.808\n",
       "\\item[Sample\\textbackslash{}\\_ 50] 43.812\n",
       "\\item[Sample\\textbackslash{}\\_ 51] 44.301\n",
       "\\item[Sample\\textbackslash{}\\_ 52] 43.8445\n",
       "\\item[Sample\\textbackslash{}\\_ 53] 43.885\n",
       "\\item[Sample\\textbackslash{}\\_ 54] 43.71\n",
       "\\item[Sample\\textbackslash{}\\_ 55] 44.4955\n",
       "\\item[Sample\\textbackslash{}\\_ 56] 43.7525\n",
       "\\item[Sample\\textbackslash{}\\_ 57] 44.24\n",
       "\\item[Sample\\textbackslash{}\\_ 58] 44.084\n",
       "\\item[Sample\\textbackslash{}\\_ 59] 43.341\n",
       "\\item[Sample\\textbackslash{}\\_ 60] 44.2615\n",
       "\\item[Sample\\textbackslash{}\\_ 61] 43.854\n",
       "\\item[Sample\\textbackslash{}\\_ 62] 44.0955\n",
       "\\item[Sample\\textbackslash{}\\_ 63] 43.6495\n",
       "\\item[Sample\\textbackslash{}\\_ 64] 43.9235\n",
       "\\item[Sample\\textbackslash{}\\_ 65] 44.2715\n",
       "\\item[Sample\\textbackslash{}\\_ 66] 44.349\n",
       "\\item[Sample\\textbackslash{}\\_ 67] 44.2085\n",
       "\\item[Sample\\textbackslash{}\\_ 68] 44.107\n",
       "\\item[Sample\\textbackslash{}\\_ 69] 44.0535\n",
       "\\item[Sample\\textbackslash{}\\_ 70] 44.066\n",
       "\\item[Sample\\textbackslash{}\\_ 71] 44.4425\n",
       "\\item[Sample\\textbackslash{}\\_ 72] 43.783\n",
       "\\item[Sample\\textbackslash{}\\_ 73] 44.3315\n",
       "\\item[Sample\\textbackslash{}\\_ 74] 44.0595\n",
       "\\item[Sample\\textbackslash{}\\_ 75] 44.0375\n",
       "\\item[Sample\\textbackslash{}\\_ 76] 44.155\n",
       "\\item[Sample\\textbackslash{}\\_ 77] 44.508\n",
       "\\item[Sample\\textbackslash{}\\_ 78] 43.8715\n",
       "\\item[Sample\\textbackslash{}\\_ 79] 44.204\n",
       "\\item[Sample\\textbackslash{}\\_ 80] 43.9055\n",
       "\\item[Sample\\textbackslash{}\\_ 81] 44.3095\n",
       "\\item[Sample\\textbackslash{}\\_ 82] 43.6585\n",
       "\\item[Sample\\textbackslash{}\\_ 83] 44.2725\n",
       "\\item[Sample\\textbackslash{}\\_ 84] 43.834\n",
       "\\item[Sample\\textbackslash{}\\_ 85] 43.447\n",
       "\\item[Sample\\textbackslash{}\\_ 86] 44.3635\n",
       "\\item[Sample\\textbackslash{}\\_ 87] 43.9715\n",
       "\\item[Sample\\textbackslash{}\\_ 88] 43.9925\n",
       "\\item[Sample\\textbackslash{}\\_ 89] 44.0455\n",
       "\\item[Sample\\textbackslash{}\\_ 90] 44.4485\n",
       "\\item[Sample\\textbackslash{}\\_ 91] 43.972\n",
       "\\item[Sample\\textbackslash{}\\_ 92] 43.957\n",
       "\\item[Sample\\textbackslash{}\\_ 93] 44.4175\n",
       "\\item[Sample\\textbackslash{}\\_ 94] 44.1055\n",
       "\\item[Sample\\textbackslash{}\\_ 95] 44.6685\n",
       "\\item[Sample\\textbackslash{}\\_ 96] 44.1595\n",
       "\\item[Sample\\textbackslash{}\\_ 97] 44.3445\n",
       "\\item[Sample\\textbackslash{}\\_ 98] 43.6215\n",
       "\\item[Sample\\textbackslash{}\\_ 99] 44.1845\n",
       "\\item[Sample\\textbackslash{}\\_ 100] 43.641\n",
       "\\item[Sample\\textbackslash{}\\_ 101] 44.1385\n",
       "\\item[Sample\\textbackslash{}\\_ 102] 43.8085\n",
       "\\item[Sample\\textbackslash{}\\_ 103] 43.997\n",
       "\\item[Sample\\textbackslash{}\\_ 104] 43.987\n",
       "\\item[Sample\\textbackslash{}\\_ 105] 44.266\n",
       "\\item[Sample\\textbackslash{}\\_ 106] 44.0055\n",
       "\\item[Sample\\textbackslash{}\\_ 107] 43.972\n",
       "\\item[Sample\\textbackslash{}\\_ 108] 44.1515\n",
       "\\item[Sample\\textbackslash{}\\_ 109] 44.2725\n",
       "\\item[Sample\\textbackslash{}\\_ 110] 44.4745\n",
       "\\item[Sample\\textbackslash{}\\_ 111] 44.787\n",
       "\\item[Sample\\textbackslash{}\\_ 112] 44.645\n",
       "\\item[Sample\\textbackslash{}\\_ 113] 43.971\n",
       "\\item[Sample\\textbackslash{}\\_ 114] 43.671\n",
       "\\item[Sample\\textbackslash{}\\_ 115] 43.621\n",
       "\\item[Sample\\textbackslash{}\\_ 116] 44.032\n",
       "\\item[Sample\\textbackslash{}\\_ 117] 43.885\n",
       "\\item[Sample\\textbackslash{}\\_ 118] 44.0285\n",
       "\\item[Sample\\textbackslash{}\\_ 119] 43.844\n",
       "\\item[Sample\\textbackslash{}\\_ 120] 44.0645\n",
       "\\item[Sample\\textbackslash{}\\_ 121] 43.506\n",
       "\\item[Sample\\textbackslash{}\\_ 122] 44.1195\n",
       "\\item[Sample\\textbackslash{}\\_ 123] 43.8685\n",
       "\\item[Sample\\textbackslash{}\\_ 124] 44.3875\n",
       "\\item[Sample\\textbackslash{}\\_ 125] 43.586\n",
       "\\item[Sample\\textbackslash{}\\_ 126] 44.575\n",
       "\\item[Sample\\textbackslash{}\\_ 127] 44.5295\n",
       "\\item[Sample\\textbackslash{}\\_ 128] 43.607\n",
       "\\item[Sample\\textbackslash{}\\_ 129] 43.9595\n",
       "\\item[Sample\\textbackslash{}\\_ 130] 44.3155\n",
       "\\item[Sample\\textbackslash{}\\_ 131] 44.617\n",
       "\\item[Sample\\textbackslash{}\\_ 132] 43.9145\n",
       "\\item[Sample\\textbackslash{}\\_ 133] 44.179\n",
       "\\item[Sample\\textbackslash{}\\_ 134] 43.671\n",
       "\\item[Sample\\textbackslash{}\\_ 135] 44.169\n",
       "\\item[Sample\\textbackslash{}\\_ 136] 44.4705\n",
       "\\item[Sample\\textbackslash{}\\_ 137] 43.775\n",
       "\\item[Sample\\textbackslash{}\\_ 138] 43.8735\n",
       "\\item[Sample\\textbackslash{}\\_ 139] 44.1055\n",
       "\\item[Sample\\textbackslash{}\\_ 140] 43.915\n",
       "\\item[Sample\\textbackslash{}\\_ 141] 43.885\n",
       "\\item[Sample\\textbackslash{}\\_ 142] 44.419\n",
       "\\item[Sample\\textbackslash{}\\_ 143] 44.19\n",
       "\\item[Sample\\textbackslash{}\\_ 144] 44.282\n",
       "\\item[Sample\\textbackslash{}\\_ 145] 44.061\n",
       "\\item[Sample\\textbackslash{}\\_ 146] 44.6515\n",
       "\\item[Sample\\textbackslash{}\\_ 147] 43.855\n",
       "\\item[Sample\\textbackslash{}\\_ 148] 44.2275\n",
       "\\item[Sample\\textbackslash{}\\_ 149] 44.2685\n",
       "\\item[Sample\\textbackslash{}\\_ 150] 44.195\n",
       "\\item[Sample\\textbackslash{}\\_ 151] 44.052\n",
       "\\item[Sample\\textbackslash{}\\_ 152] 44.295\n",
       "\\item[Sample\\textbackslash{}\\_ 153] 44.322\n",
       "\\item[Sample\\textbackslash{}\\_ 154] 44.116\n",
       "\\item[Sample\\textbackslash{}\\_ 155] 44.3305\n",
       "\\item[Sample\\textbackslash{}\\_ 156] 44.167\n",
       "\\item[Sample\\textbackslash{}\\_ 157] 44.047\n",
       "\\item[Sample\\textbackslash{}\\_ 158] 44.353\n",
       "\\item[Sample\\textbackslash{}\\_ 159] 43.737\n",
       "\\item[Sample\\textbackslash{}\\_ 160] 43.6185\n",
       "\\item[Sample\\textbackslash{}\\_ 161] 43.9675\n",
       "\\item[Sample\\textbackslash{}\\_ 162] 44.064\n",
       "\\item[Sample\\textbackslash{}\\_ 163] 44.052\n",
       "\\item[Sample\\textbackslash{}\\_ 164] 44.1765\n",
       "\\item[Sample\\textbackslash{}\\_ 165] 43.751\n",
       "\\item[Sample\\textbackslash{}\\_ 166] 44.122\n",
       "\\item[Sample\\textbackslash{}\\_ 167] 44.2835\n",
       "\\item[Sample\\textbackslash{}\\_ 168] 43.921\n",
       "\\item[Sample\\textbackslash{}\\_ 169] 43.9635\n",
       "\\item[Sample\\textbackslash{}\\_ 170] 44.434\n",
       "\\item[Sample\\textbackslash{}\\_ 171] 43.465\n",
       "\\item[Sample\\textbackslash{}\\_ 172] 43.974\n",
       "\\item[Sample\\textbackslash{}\\_ 173] 44.076\n",
       "\\item[Sample\\textbackslash{}\\_ 174] 43.578\n",
       "\\item[Sample\\textbackslash{}\\_ 175] 44.189\n",
       "\\item[Sample\\textbackslash{}\\_ 176] 44.7875\n",
       "\\item[Sample\\textbackslash{}\\_ 177] 44.4895\n",
       "\\item[Sample\\textbackslash{}\\_ 178] 44.239\n",
       "\\item[Sample\\textbackslash{}\\_ 179] 44.239\n",
       "\\item[Sample\\textbackslash{}\\_ 180] 43.8475\n",
       "\\item[Sample\\textbackslash{}\\_ 181] 43.2855\n",
       "\\item[Sample\\textbackslash{}\\_ 182] 44.1105\n",
       "\\item[Sample\\textbackslash{}\\_ 183] 44.4635\n",
       "\\item[Sample\\textbackslash{}\\_ 184] 44.4\n",
       "\\item[Sample\\textbackslash{}\\_ 185] 43.7855\n",
       "\\item[Sample\\textbackslash{}\\_ 186] 44.153\n",
       "\\item[Sample\\textbackslash{}\\_ 187] 44.1095\n",
       "\\item[Sample\\textbackslash{}\\_ 188] 44.3265\n",
       "\\item[Sample\\textbackslash{}\\_ 189] 43.7885\n",
       "\\item[Sample\\textbackslash{}\\_ 190] 43.8205\n",
       "\\item[Sample\\textbackslash{}\\_ 191] 43.9605\n",
       "\\item[Sample\\textbackslash{}\\_ 192] 43.5095\n",
       "\\item[Sample\\textbackslash{}\\_ 193] 44.053\n",
       "\\item[Sample\\textbackslash{}\\_ 194] 43.967\n",
       "\\item[Sample\\textbackslash{}\\_ 195] 43.965\n",
       "\\item[Sample\\textbackslash{}\\_ 196] 44.1605\n",
       "\\item[Sample\\textbackslash{}\\_ 197] 44.5035\n",
       "\\item[Sample\\textbackslash{}\\_ 198] 43.4575\n",
       "\\item[Sample\\textbackslash{}\\_ 199] 44.4845\n",
       "\\item[Sample\\textbackslash{}\\_ 200] 43.652\n",
       "\\item[Sample\\textbackslash{}\\_ 201] ⋯\n",
       "\\item[Sample\\textbackslash{}\\_ 202] 43.6965\n",
       "\\item[Sample\\textbackslash{}\\_ 203] 44.112\n",
       "\\item[Sample\\textbackslash{}\\_ 204] 43.8165\n",
       "\\item[Sample\\textbackslash{}\\_ 205] 43.5565\n",
       "\\item[Sample\\textbackslash{}\\_ 206] 44.212\n",
       "\\item[Sample\\textbackslash{}\\_ 207] 44.5685\n",
       "\\item[Sample\\textbackslash{}\\_ 208] 44.4745\n",
       "\\item[Sample\\textbackslash{}\\_ 209] 43.793\n",
       "\\item[Sample\\textbackslash{}\\_ 210] 43.949\n",
       "\\item[Sample\\textbackslash{}\\_ 211] 44.2835\n",
       "\\item[Sample\\textbackslash{}\\_ 212] 44.402\n",
       "\\item[Sample\\textbackslash{}\\_ 213] 44.143\n",
       "\\item[Sample\\textbackslash{}\\_ 214] 43.978\n",
       "\\item[Sample\\textbackslash{}\\_ 215] 43.7285\n",
       "\\item[Sample\\textbackslash{}\\_ 216] 44.0295\n",
       "\\item[Sample\\textbackslash{}\\_ 217] 43.8805\n",
       "\\item[Sample\\textbackslash{}\\_ 218] 44.0755\n",
       "\\item[Sample\\textbackslash{}\\_ 219] 44.1415\n",
       "\\item[Sample\\textbackslash{}\\_ 220] 43.9415\n",
       "\\item[Sample\\textbackslash{}\\_ 221] 43.79\n",
       "\\item[Sample\\textbackslash{}\\_ 222] 44.1915\n",
       "\\item[Sample\\textbackslash{}\\_ 223] 44.3455\n",
       "\\item[Sample\\textbackslash{}\\_ 224] 43.954\n",
       "\\item[Sample\\textbackslash{}\\_ 225] 44.2155\n",
       "\\item[Sample\\textbackslash{}\\_ 226] 43.916\n",
       "\\item[Sample\\textbackslash{}\\_ 227] 43.59\n",
       "\\item[Sample\\textbackslash{}\\_ 228] 43.999\n",
       "\\item[Sample\\textbackslash{}\\_ 229] 44.3955\n",
       "\\item[Sample\\textbackslash{}\\_ 230] 43.818\n",
       "\\item[Sample\\textbackslash{}\\_ 231] 43.717\n",
       "\\item[Sample\\textbackslash{}\\_ 232] 44.31\n",
       "\\item[Sample\\textbackslash{}\\_ 233] 43.802\n",
       "\\item[Sample\\textbackslash{}\\_ 234] 43.74\n",
       "\\item[Sample\\textbackslash{}\\_ 235] 43.9105\n",
       "\\item[Sample\\textbackslash{}\\_ 236] 43.8435\n",
       "\\item[Sample\\textbackslash{}\\_ 237] 44.272\n",
       "\\item[Sample\\textbackslash{}\\_ 238] 44.4325\n",
       "\\item[Sample\\textbackslash{}\\_ 239] 44.0885\n",
       "\\item[Sample\\textbackslash{}\\_ 240] 43.927\n",
       "\\item[Sample\\textbackslash{}\\_ 241] 43.9745\n",
       "\\item[Sample\\textbackslash{}\\_ 242] 44.441\n",
       "\\item[Sample\\textbackslash{}\\_ 243] 44.3255\n",
       "\\item[Sample\\textbackslash{}\\_ 244] 43.624\n",
       "\\item[Sample\\textbackslash{}\\_ 245] 44.0815\n",
       "\\item[Sample\\textbackslash{}\\_ 246] 43.9495\n",
       "\\item[Sample\\textbackslash{}\\_ 247] 43.909\n",
       "\\item[Sample\\textbackslash{}\\_ 248] 43.956\n",
       "\\item[Sample\\textbackslash{}\\_ 249] 43.731\n",
       "\\item[Sample\\textbackslash{}\\_ 250] 43.9035\n",
       "\\item[Sample\\textbackslash{}\\_ 251] 43.688\n",
       "\\item[Sample\\textbackslash{}\\_ 252] 44.15\n",
       "\\item[Sample\\textbackslash{}\\_ 253] 44.0145\n",
       "\\item[Sample\\textbackslash{}\\_ 254] 43.998\n",
       "\\item[Sample\\textbackslash{}\\_ 255] 44.1435\n",
       "\\item[Sample\\textbackslash{}\\_ 256] 43.6555\n",
       "\\item[Sample\\textbackslash{}\\_ 257] 44.067\n",
       "\\item[Sample\\textbackslash{}\\_ 258] 44.469\n",
       "\\item[Sample\\textbackslash{}\\_ 259] 44.0635\n",
       "\\item[Sample\\textbackslash{}\\_ 260] 44.287\n",
       "\\item[Sample\\textbackslash{}\\_ 261] 44.221\n",
       "\\item[Sample\\textbackslash{}\\_ 262] 43.818\n",
       "\\item[Sample\\textbackslash{}\\_ 263] 44.3315\n",
       "\\item[Sample\\textbackslash{}\\_ 264] 44.0945\n",
       "\\item[Sample\\textbackslash{}\\_ 265] 44.1045\n",
       "\\item[Sample\\textbackslash{}\\_ 266] 44.167\n",
       "\\item[Sample\\textbackslash{}\\_ 267] 44.0815\n",
       "\\item[Sample\\textbackslash{}\\_ 268] 44.225\n",
       "\\item[Sample\\textbackslash{}\\_ 269] 44.3285\n",
       "\\item[Sample\\textbackslash{}\\_ 270] 43.8645\n",
       "\\item[Sample\\textbackslash{}\\_ 271] 43.9105\n",
       "\\item[Sample\\textbackslash{}\\_ 272] 43.973\n",
       "\\item[Sample\\textbackslash{}\\_ 273] 43.897\n",
       "\\item[Sample\\textbackslash{}\\_ 274] 43.776\n",
       "\\item[Sample\\textbackslash{}\\_ 275] 43.7235\n",
       "\\item[Sample\\textbackslash{}\\_ 276] 43.8605\n",
       "\\item[Sample\\textbackslash{}\\_ 277] 43.7705\n",
       "\\item[Sample\\textbackslash{}\\_ 278] 43.8845\n",
       "\\item[Sample\\textbackslash{}\\_ 279] 43.9825\n",
       "\\item[Sample\\textbackslash{}\\_ 280] 43.8965\n",
       "\\item[Sample\\textbackslash{}\\_ 281] 43.831\n",
       "\\item[Sample\\textbackslash{}\\_ 282] 44.031\n",
       "\\item[Sample\\textbackslash{}\\_ 283] 44.41\n",
       "\\item[Sample\\textbackslash{}\\_ 284] 43.7625\n",
       "\\item[Sample\\textbackslash{}\\_ 285] 43.5605\n",
       "\\item[Sample\\textbackslash{}\\_ 286] 43.7605\n",
       "\\item[Sample\\textbackslash{}\\_ 287] 43.5255\n",
       "\\item[Sample\\textbackslash{}\\_ 288] 44.3075\n",
       "\\item[Sample\\textbackslash{}\\_ 289] 43.9935\n",
       "\\item[Sample\\textbackslash{}\\_ 290] 43.7625\n",
       "\\item[Sample\\textbackslash{}\\_ 291] 44.4505\n",
       "\\item[Sample\\textbackslash{}\\_ 292] 44.2325\n",
       "\\item[Sample\\textbackslash{}\\_ 293] 43.741\n",
       "\\item[Sample\\textbackslash{}\\_ 294] 43.252\n",
       "\\item[Sample\\textbackslash{}\\_ 295] 43.6485\n",
       "\\item[Sample\\textbackslash{}\\_ 296] 43.9325\n",
       "\\item[Sample\\textbackslash{}\\_ 297] 44.5695\n",
       "\\item[Sample\\textbackslash{}\\_ 298] 44.3775\n",
       "\\item[Sample\\textbackslash{}\\_ 299] 44.09\n",
       "\\item[Sample\\textbackslash{}\\_ 300] 44.592\n",
       "\\item[Sample\\textbackslash{}\\_ 301] 44.1505\n",
       "\\item[Sample\\textbackslash{}\\_ 302] 44.1695\n",
       "\\item[Sample\\textbackslash{}\\_ 303] 44.0295\n",
       "\\item[Sample\\textbackslash{}\\_ 304] 44.036\n",
       "\\item[Sample\\textbackslash{}\\_ 305] 44.0835\n",
       "\\item[Sample\\textbackslash{}\\_ 306] 43.813\n",
       "\\item[Sample\\textbackslash{}\\_ 307] 45.0565\n",
       "\\item[Sample\\textbackslash{}\\_ 308] 43.881\n",
       "\\item[Sample\\textbackslash{}\\_ 309] 43.597\n",
       "\\item[Sample\\textbackslash{}\\_ 310] 44.071\n",
       "\\item[Sample\\textbackslash{}\\_ 311] 43.9305\n",
       "\\item[Sample\\textbackslash{}\\_ 312] 44.246\n",
       "\\item[Sample\\textbackslash{}\\_ 313] 44.373\n",
       "\\item[Sample\\textbackslash{}\\_ 314] 44.224\n",
       "\\item[Sample\\textbackslash{}\\_ 315] 44.1485\n",
       "\\item[Sample\\textbackslash{}\\_ 316] 43.898\n",
       "\\item[Sample\\textbackslash{}\\_ 317] 44.249\n",
       "\\item[Sample\\textbackslash{}\\_ 318] 43.7975\n",
       "\\item[Sample\\textbackslash{}\\_ 319] 44.188\n",
       "\\item[Sample\\textbackslash{}\\_ 320] 44.256\n",
       "\\item[Sample\\textbackslash{}\\_ 321] 43.7165\n",
       "\\item[Sample\\textbackslash{}\\_ 322] 44.071\n",
       "\\item[Sample\\textbackslash{}\\_ 323] 44.011\n",
       "\\item[Sample\\textbackslash{}\\_ 324] 44.711\n",
       "\\item[Sample\\textbackslash{}\\_ 325] 43.3705\n",
       "\\item[Sample\\textbackslash{}\\_ 326] 44.253\n",
       "\\item[Sample\\textbackslash{}\\_ 327] 43.836\n",
       "\\item[Sample\\textbackslash{}\\_ 328] 44.106\n",
       "\\item[Sample\\textbackslash{}\\_ 329] 43.75\n",
       "\\item[Sample\\textbackslash{}\\_ 330] 44.0135\n",
       "\\item[Sample\\textbackslash{}\\_ 331] 43.719\n",
       "\\item[Sample\\textbackslash{}\\_ 332] 43.9035\n",
       "\\item[Sample\\textbackslash{}\\_ 333] 44.127\n",
       "\\item[Sample\\textbackslash{}\\_ 334] 43.7825\n",
       "\\item[Sample\\textbackslash{}\\_ 335] 44.0195\n",
       "\\item[Sample\\textbackslash{}\\_ 336] 44.217\n",
       "\\item[Sample\\textbackslash{}\\_ 337] 44.495\n",
       "\\item[Sample\\textbackslash{}\\_ 338] 44.206\n",
       "\\item[Sample\\textbackslash{}\\_ 339] 44.0635\n",
       "\\item[Sample\\textbackslash{}\\_ 340] 44.0685\n",
       "\\item[Sample\\textbackslash{}\\_ 341] 43.9585\n",
       "\\item[Sample\\textbackslash{}\\_ 342] 44.846\n",
       "\\item[Sample\\textbackslash{}\\_ 343] 44.4215\n",
       "\\item[Sample\\textbackslash{}\\_ 344] 44.051\n",
       "\\item[Sample\\textbackslash{}\\_ 345] 44.0955\n",
       "\\item[Sample\\textbackslash{}\\_ 346] 44.0125\n",
       "\\item[Sample\\textbackslash{}\\_ 347] 44.012\n",
       "\\item[Sample\\textbackslash{}\\_ 348] 43.8075\n",
       "\\item[Sample\\textbackslash{}\\_ 349] 43.8915\n",
       "\\item[Sample\\textbackslash{}\\_ 350] 44.025\n",
       "\\item[Sample\\textbackslash{}\\_ 351] 43.755\n",
       "\\item[Sample\\textbackslash{}\\_ 352] 44.5375\n",
       "\\item[Sample\\textbackslash{}\\_ 353] 44.049\n",
       "\\item[Sample\\textbackslash{}\\_ 354] 44.275\n",
       "\\item[Sample\\textbackslash{}\\_ 355] 44.136\n",
       "\\item[Sample\\textbackslash{}\\_ 356] 43.458\n",
       "\\item[Sample\\textbackslash{}\\_ 357] 44.055\n",
       "\\item[Sample\\textbackslash{}\\_ 358] 44.1335\n",
       "\\item[Sample\\textbackslash{}\\_ 359] 44.614\n",
       "\\item[Sample\\textbackslash{}\\_ 360] 44.4605\n",
       "\\item[Sample\\textbackslash{}\\_ 361] 44.128\n",
       "\\item[Sample\\textbackslash{}\\_ 362] 43.815\n",
       "\\item[Sample\\textbackslash{}\\_ 363] 44.0795\n",
       "\\item[Sample\\textbackslash{}\\_ 364] 43.965\n",
       "\\item[Sample\\textbackslash{}\\_ 365] 43.974\n",
       "\\item[Sample\\textbackslash{}\\_ 366] 44.4145\n",
       "\\item[Sample\\textbackslash{}\\_ 367] 44.1605\n",
       "\\item[Sample\\textbackslash{}\\_ 368] 44.146\n",
       "\\item[Sample\\textbackslash{}\\_ 369] 44.299\n",
       "\\item[Sample\\textbackslash{}\\_ 370] 44.292\n",
       "\\item[Sample\\textbackslash{}\\_ 371] 44.54\n",
       "\\item[Sample\\textbackslash{}\\_ 372] 44.501\n",
       "\\item[Sample\\textbackslash{}\\_ 373] 43.5855\n",
       "\\item[Sample\\textbackslash{}\\_ 374] 43.702\n",
       "\\item[Sample\\textbackslash{}\\_ 375] 44.0715\n",
       "\\item[Sample\\textbackslash{}\\_ 376] 43.8735\n",
       "\\item[Sample\\textbackslash{}\\_ 377] 44.1965\n",
       "\\item[Sample\\textbackslash{}\\_ 378] 44.3335\n",
       "\\item[Sample\\textbackslash{}\\_ 379] 44.1405\n",
       "\\item[Sample\\textbackslash{}\\_ 380] 44.269\n",
       "\\item[Sample\\textbackslash{}\\_ 381] 44.347\n",
       "\\item[Sample\\textbackslash{}\\_ 382] 44.0465\n",
       "\\item[Sample\\textbackslash{}\\_ 383] 44.004\n",
       "\\item[Sample\\textbackslash{}\\_ 384] 44.314\n",
       "\\item[Sample\\textbackslash{}\\_ 385] 44.1155\n",
       "\\item[Sample\\textbackslash{}\\_ 386] 44.144\n",
       "\\item[Sample\\textbackslash{}\\_ 387] 44.7685\n",
       "\\item[Sample\\textbackslash{}\\_ 388] 44.0255\n",
       "\\item[Sample\\textbackslash{}\\_ 389] 44.208\n",
       "\\item[Sample\\textbackslash{}\\_ 390] 44.224\n",
       "\\item[Sample\\textbackslash{}\\_ 391] 44.2045\n",
       "\\item[Sample\\textbackslash{}\\_ 392] 44.039\n",
       "\\item[Sample\\textbackslash{}\\_ 393] 44.342\n",
       "\\item[Sample\\textbackslash{}\\_ 394] 44.352\n",
       "\\item[Sample\\textbackslash{}\\_ 395] 43.77\n",
       "\\item[Sample\\textbackslash{}\\_ 396] 44.296\n",
       "\\item[Sample\\textbackslash{}\\_ 397] 44.1455\n",
       "\\item[Sample\\textbackslash{}\\_ 398] 43.493\n",
       "\\item[Sample\\textbackslash{}\\_ 399] 44.0445\n",
       "\\item[Sample\\textbackslash{}\\_ 400] 44.247\n",
       "\\item[Sample\\textbackslash{}\\_ 401] 44.4085\n",
       "\\end{description*}\n"
      ],
      "text/markdown": [
       "Sample_1\n",
       ":   44.1405Sample_ 2\n",
       ":   44.17Sample_ 3\n",
       ":   44.186Sample_ 4\n",
       ":   44.4195Sample_ 5\n",
       ":   44.262Sample_ 6\n",
       ":   43.663Sample_ 7\n",
       ":   44.017Sample_ 8\n",
       ":   44.0785Sample_ 9\n",
       ":   44.078Sample_ 10\n",
       ":   44.144Sample_ 11\n",
       ":   43.9565Sample_ 12\n",
       ":   43.8455Sample_ 13\n",
       ":   44.028Sample_ 14\n",
       ":   43.8Sample_ 15\n",
       ":   43.9505Sample_ 16\n",
       ":   44.201Sample_ 17\n",
       ":   44.213Sample_ 18\n",
       ":   44.215Sample_ 19\n",
       ":   44.0195Sample_ 20\n",
       ":   44.062Sample_ 21\n",
       ":   44.1795Sample_ 22\n",
       ":   44.036Sample_ 23\n",
       ":   43.8095Sample_ 24\n",
       ":   44.205Sample_ 25\n",
       ":   43.864Sample_ 26\n",
       ":   44.2605Sample_ 27\n",
       ":   44.0735Sample_ 28\n",
       ":   44.067Sample_ 29\n",
       ":   44.0155Sample_ 30\n",
       ":   43.413Sample_ 31\n",
       ":   43.982Sample_ 32\n",
       ":   44.222Sample_ 33\n",
       ":   44.163Sample_ 34\n",
       ":   44.03Sample_ 35\n",
       ":   43.9795Sample_ 36\n",
       ":   44.079Sample_ 37\n",
       ":   43.9195Sample_ 38\n",
       ":   43.914Sample_ 39\n",
       ":   44.043Sample_ 40\n",
       ":   44.3345Sample_ 41\n",
       ":   43.6935Sample_ 42\n",
       ":   43.848Sample_ 43\n",
       ":   44.564Sample_ 44\n",
       ":   43.8715Sample_ 45\n",
       ":   44.1755Sample_ 46\n",
       ":   44.659Sample_ 47\n",
       ":   44.449Sample_ 48\n",
       ":   44.337Sample_ 49\n",
       ":   43.808Sample_ 50\n",
       ":   43.812Sample_ 51\n",
       ":   44.301Sample_ 52\n",
       ":   43.8445Sample_ 53\n",
       ":   43.885Sample_ 54\n",
       ":   43.71Sample_ 55\n",
       ":   44.4955Sample_ 56\n",
       ":   43.7525Sample_ 57\n",
       ":   44.24Sample_ 58\n",
       ":   44.084Sample_ 59\n",
       ":   43.341Sample_ 60\n",
       ":   44.2615Sample_ 61\n",
       ":   43.854Sample_ 62\n",
       ":   44.0955Sample_ 63\n",
       ":   43.6495Sample_ 64\n",
       ":   43.9235Sample_ 65\n",
       ":   44.2715Sample_ 66\n",
       ":   44.349Sample_ 67\n",
       ":   44.2085Sample_ 68\n",
       ":   44.107Sample_ 69\n",
       ":   44.0535Sample_ 70\n",
       ":   44.066Sample_ 71\n",
       ":   44.4425Sample_ 72\n",
       ":   43.783Sample_ 73\n",
       ":   44.3315Sample_ 74\n",
       ":   44.0595Sample_ 75\n",
       ":   44.0375Sample_ 76\n",
       ":   44.155Sample_ 77\n",
       ":   44.508Sample_ 78\n",
       ":   43.8715Sample_ 79\n",
       ":   44.204Sample_ 80\n",
       ":   43.9055Sample_ 81\n",
       ":   44.3095Sample_ 82\n",
       ":   43.6585Sample_ 83\n",
       ":   44.2725Sample_ 84\n",
       ":   43.834Sample_ 85\n",
       ":   43.447Sample_ 86\n",
       ":   44.3635Sample_ 87\n",
       ":   43.9715Sample_ 88\n",
       ":   43.9925Sample_ 89\n",
       ":   44.0455Sample_ 90\n",
       ":   44.4485Sample_ 91\n",
       ":   43.972Sample_ 92\n",
       ":   43.957Sample_ 93\n",
       ":   44.4175Sample_ 94\n",
       ":   44.1055Sample_ 95\n",
       ":   44.6685Sample_ 96\n",
       ":   44.1595Sample_ 97\n",
       ":   44.3445Sample_ 98\n",
       ":   43.6215Sample_ 99\n",
       ":   44.1845Sample_ 100\n",
       ":   43.641Sample_ 101\n",
       ":   44.1385Sample_ 102\n",
       ":   43.8085Sample_ 103\n",
       ":   43.997Sample_ 104\n",
       ":   43.987Sample_ 105\n",
       ":   44.266Sample_ 106\n",
       ":   44.0055Sample_ 107\n",
       ":   43.972Sample_ 108\n",
       ":   44.1515Sample_ 109\n",
       ":   44.2725Sample_ 110\n",
       ":   44.4745Sample_ 111\n",
       ":   44.787Sample_ 112\n",
       ":   44.645Sample_ 113\n",
       ":   43.971Sample_ 114\n",
       ":   43.671Sample_ 115\n",
       ":   43.621Sample_ 116\n",
       ":   44.032Sample_ 117\n",
       ":   43.885Sample_ 118\n",
       ":   44.0285Sample_ 119\n",
       ":   43.844Sample_ 120\n",
       ":   44.0645Sample_ 121\n",
       ":   43.506Sample_ 122\n",
       ":   44.1195Sample_ 123\n",
       ":   43.8685Sample_ 124\n",
       ":   44.3875Sample_ 125\n",
       ":   43.586Sample_ 126\n",
       ":   44.575Sample_ 127\n",
       ":   44.5295Sample_ 128\n",
       ":   43.607Sample_ 129\n",
       ":   43.9595Sample_ 130\n",
       ":   44.3155Sample_ 131\n",
       ":   44.617Sample_ 132\n",
       ":   43.9145Sample_ 133\n",
       ":   44.179Sample_ 134\n",
       ":   43.671Sample_ 135\n",
       ":   44.169Sample_ 136\n",
       ":   44.4705Sample_ 137\n",
       ":   43.775Sample_ 138\n",
       ":   43.8735Sample_ 139\n",
       ":   44.1055Sample_ 140\n",
       ":   43.915Sample_ 141\n",
       ":   43.885Sample_ 142\n",
       ":   44.419Sample_ 143\n",
       ":   44.19Sample_ 144\n",
       ":   44.282Sample_ 145\n",
       ":   44.061Sample_ 146\n",
       ":   44.6515Sample_ 147\n",
       ":   43.855Sample_ 148\n",
       ":   44.2275Sample_ 149\n",
       ":   44.2685Sample_ 150\n",
       ":   44.195Sample_ 151\n",
       ":   44.052Sample_ 152\n",
       ":   44.295Sample_ 153\n",
       ":   44.322Sample_ 154\n",
       ":   44.116Sample_ 155\n",
       ":   44.3305Sample_ 156\n",
       ":   44.167Sample_ 157\n",
       ":   44.047Sample_ 158\n",
       ":   44.353Sample_ 159\n",
       ":   43.737Sample_ 160\n",
       ":   43.6185Sample_ 161\n",
       ":   43.9675Sample_ 162\n",
       ":   44.064Sample_ 163\n",
       ":   44.052Sample_ 164\n",
       ":   44.1765Sample_ 165\n",
       ":   43.751Sample_ 166\n",
       ":   44.122Sample_ 167\n",
       ":   44.2835Sample_ 168\n",
       ":   43.921Sample_ 169\n",
       ":   43.9635Sample_ 170\n",
       ":   44.434Sample_ 171\n",
       ":   43.465Sample_ 172\n",
       ":   43.974Sample_ 173\n",
       ":   44.076Sample_ 174\n",
       ":   43.578Sample_ 175\n",
       ":   44.189Sample_ 176\n",
       ":   44.7875Sample_ 177\n",
       ":   44.4895Sample_ 178\n",
       ":   44.239Sample_ 179\n",
       ":   44.239Sample_ 180\n",
       ":   43.8475Sample_ 181\n",
       ":   43.2855Sample_ 182\n",
       ":   44.1105Sample_ 183\n",
       ":   44.4635Sample_ 184\n",
       ":   44.4Sample_ 185\n",
       ":   43.7855Sample_ 186\n",
       ":   44.153Sample_ 187\n",
       ":   44.1095Sample_ 188\n",
       ":   44.3265Sample_ 189\n",
       ":   43.7885Sample_ 190\n",
       ":   43.8205Sample_ 191\n",
       ":   43.9605Sample_ 192\n",
       ":   43.5095Sample_ 193\n",
       ":   44.053Sample_ 194\n",
       ":   43.967Sample_ 195\n",
       ":   43.965Sample_ 196\n",
       ":   44.1605Sample_ 197\n",
       ":   44.5035Sample_ 198\n",
       ":   43.4575Sample_ 199\n",
       ":   44.4845Sample_ 200\n",
       ":   43.652Sample_ 201\n",
       ":   ⋯Sample_ 202\n",
       ":   43.6965Sample_ 203\n",
       ":   44.112Sample_ 204\n",
       ":   43.8165Sample_ 205\n",
       ":   43.5565Sample_ 206\n",
       ":   44.212Sample_ 207\n",
       ":   44.5685Sample_ 208\n",
       ":   44.4745Sample_ 209\n",
       ":   43.793Sample_ 210\n",
       ":   43.949Sample_ 211\n",
       ":   44.2835Sample_ 212\n",
       ":   44.402Sample_ 213\n",
       ":   44.143Sample_ 214\n",
       ":   43.978Sample_ 215\n",
       ":   43.7285Sample_ 216\n",
       ":   44.0295Sample_ 217\n",
       ":   43.8805Sample_ 218\n",
       ":   44.0755Sample_ 219\n",
       ":   44.1415Sample_ 220\n",
       ":   43.9415Sample_ 221\n",
       ":   43.79Sample_ 222\n",
       ":   44.1915Sample_ 223\n",
       ":   44.3455Sample_ 224\n",
       ":   43.954Sample_ 225\n",
       ":   44.2155Sample_ 226\n",
       ":   43.916Sample_ 227\n",
       ":   43.59Sample_ 228\n",
       ":   43.999Sample_ 229\n",
       ":   44.3955Sample_ 230\n",
       ":   43.818Sample_ 231\n",
       ":   43.717Sample_ 232\n",
       ":   44.31Sample_ 233\n",
       ":   43.802Sample_ 234\n",
       ":   43.74Sample_ 235\n",
       ":   43.9105Sample_ 236\n",
       ":   43.8435Sample_ 237\n",
       ":   44.272Sample_ 238\n",
       ":   44.4325Sample_ 239\n",
       ":   44.0885Sample_ 240\n",
       ":   43.927Sample_ 241\n",
       ":   43.9745Sample_ 242\n",
       ":   44.441Sample_ 243\n",
       ":   44.3255Sample_ 244\n",
       ":   43.624Sample_ 245\n",
       ":   44.0815Sample_ 246\n",
       ":   43.9495Sample_ 247\n",
       ":   43.909Sample_ 248\n",
       ":   43.956Sample_ 249\n",
       ":   43.731Sample_ 250\n",
       ":   43.9035Sample_ 251\n",
       ":   43.688Sample_ 252\n",
       ":   44.15Sample_ 253\n",
       ":   44.0145Sample_ 254\n",
       ":   43.998Sample_ 255\n",
       ":   44.1435Sample_ 256\n",
       ":   43.6555Sample_ 257\n",
       ":   44.067Sample_ 258\n",
       ":   44.469Sample_ 259\n",
       ":   44.0635Sample_ 260\n",
       ":   44.287Sample_ 261\n",
       ":   44.221Sample_ 262\n",
       ":   43.818Sample_ 263\n",
       ":   44.3315Sample_ 264\n",
       ":   44.0945Sample_ 265\n",
       ":   44.1045Sample_ 266\n",
       ":   44.167Sample_ 267\n",
       ":   44.0815Sample_ 268\n",
       ":   44.225Sample_ 269\n",
       ":   44.3285Sample_ 270\n",
       ":   43.8645Sample_ 271\n",
       ":   43.9105Sample_ 272\n",
       ":   43.973Sample_ 273\n",
       ":   43.897Sample_ 274\n",
       ":   43.776Sample_ 275\n",
       ":   43.7235Sample_ 276\n",
       ":   43.8605Sample_ 277\n",
       ":   43.7705Sample_ 278\n",
       ":   43.8845Sample_ 279\n",
       ":   43.9825Sample_ 280\n",
       ":   43.8965Sample_ 281\n",
       ":   43.831Sample_ 282\n",
       ":   44.031Sample_ 283\n",
       ":   44.41Sample_ 284\n",
       ":   43.7625Sample_ 285\n",
       ":   43.5605Sample_ 286\n",
       ":   43.7605Sample_ 287\n",
       ":   43.5255Sample_ 288\n",
       ":   44.3075Sample_ 289\n",
       ":   43.9935Sample_ 290\n",
       ":   43.7625Sample_ 291\n",
       ":   44.4505Sample_ 292\n",
       ":   44.2325Sample_ 293\n",
       ":   43.741Sample_ 294\n",
       ":   43.252Sample_ 295\n",
       ":   43.6485Sample_ 296\n",
       ":   43.9325Sample_ 297\n",
       ":   44.5695Sample_ 298\n",
       ":   44.3775Sample_ 299\n",
       ":   44.09Sample_ 300\n",
       ":   44.592Sample_ 301\n",
       ":   44.1505Sample_ 302\n",
       ":   44.1695Sample_ 303\n",
       ":   44.0295Sample_ 304\n",
       ":   44.036Sample_ 305\n",
       ":   44.0835Sample_ 306\n",
       ":   43.813Sample_ 307\n",
       ":   45.0565Sample_ 308\n",
       ":   43.881Sample_ 309\n",
       ":   43.597Sample_ 310\n",
       ":   44.071Sample_ 311\n",
       ":   43.9305Sample_ 312\n",
       ":   44.246Sample_ 313\n",
       ":   44.373Sample_ 314\n",
       ":   44.224Sample_ 315\n",
       ":   44.1485Sample_ 316\n",
       ":   43.898Sample_ 317\n",
       ":   44.249Sample_ 318\n",
       ":   43.7975Sample_ 319\n",
       ":   44.188Sample_ 320\n",
       ":   44.256Sample_ 321\n",
       ":   43.7165Sample_ 322\n",
       ":   44.071Sample_ 323\n",
       ":   44.011Sample_ 324\n",
       ":   44.711Sample_ 325\n",
       ":   43.3705Sample_ 326\n",
       ":   44.253Sample_ 327\n",
       ":   43.836Sample_ 328\n",
       ":   44.106Sample_ 329\n",
       ":   43.75Sample_ 330\n",
       ":   44.0135Sample_ 331\n",
       ":   43.719Sample_ 332\n",
       ":   43.9035Sample_ 333\n",
       ":   44.127Sample_ 334\n",
       ":   43.7825Sample_ 335\n",
       ":   44.0195Sample_ 336\n",
       ":   44.217Sample_ 337\n",
       ":   44.495Sample_ 338\n",
       ":   44.206Sample_ 339\n",
       ":   44.0635Sample_ 340\n",
       ":   44.0685Sample_ 341\n",
       ":   43.9585Sample_ 342\n",
       ":   44.846Sample_ 343\n",
       ":   44.4215Sample_ 344\n",
       ":   44.051Sample_ 345\n",
       ":   44.0955Sample_ 346\n",
       ":   44.0125Sample_ 347\n",
       ":   44.012Sample_ 348\n",
       ":   43.8075Sample_ 349\n",
       ":   43.8915Sample_ 350\n",
       ":   44.025Sample_ 351\n",
       ":   43.755Sample_ 352\n",
       ":   44.5375Sample_ 353\n",
       ":   44.049Sample_ 354\n",
       ":   44.275Sample_ 355\n",
       ":   44.136Sample_ 356\n",
       ":   43.458Sample_ 357\n",
       ":   44.055Sample_ 358\n",
       ":   44.1335Sample_ 359\n",
       ":   44.614Sample_ 360\n",
       ":   44.4605Sample_ 361\n",
       ":   44.128Sample_ 362\n",
       ":   43.815Sample_ 363\n",
       ":   44.0795Sample_ 364\n",
       ":   43.965Sample_ 365\n",
       ":   43.974Sample_ 366\n",
       ":   44.4145Sample_ 367\n",
       ":   44.1605Sample_ 368\n",
       ":   44.146Sample_ 369\n",
       ":   44.299Sample_ 370\n",
       ":   44.292Sample_ 371\n",
       ":   44.54Sample_ 372\n",
       ":   44.501Sample_ 373\n",
       ":   43.5855Sample_ 374\n",
       ":   43.702Sample_ 375\n",
       ":   44.0715Sample_ 376\n",
       ":   43.8735Sample_ 377\n",
       ":   44.1965Sample_ 378\n",
       ":   44.3335Sample_ 379\n",
       ":   44.1405Sample_ 380\n",
       ":   44.269Sample_ 381\n",
       ":   44.347Sample_ 382\n",
       ":   44.0465Sample_ 383\n",
       ":   44.004Sample_ 384\n",
       ":   44.314Sample_ 385\n",
       ":   44.1155Sample_ 386\n",
       ":   44.144Sample_ 387\n",
       ":   44.7685Sample_ 388\n",
       ":   44.0255Sample_ 389\n",
       ":   44.208Sample_ 390\n",
       ":   44.224Sample_ 391\n",
       ":   44.2045Sample_ 392\n",
       ":   44.039Sample_ 393\n",
       ":   44.342Sample_ 394\n",
       ":   44.352Sample_ 395\n",
       ":   43.77Sample_ 396\n",
       ":   44.296Sample_ 397\n",
       ":   44.1455Sample_ 398\n",
       ":   43.493Sample_ 399\n",
       ":   44.0445Sample_ 400\n",
       ":   44.247Sample_ 401\n",
       ":   44.4085\n",
       "\n"
      ],
      "text/plain": [
       "    Sample_1    Sample_ 2    Sample_ 3    Sample_ 4    Sample_ 5    Sample_ 6 \n",
       "     44.1405      44.1700      44.1860      44.4195      44.2620      43.6630 \n",
       "   Sample_ 7    Sample_ 8    Sample_ 9   Sample_ 10   Sample_ 11   Sample_ 12 \n",
       "     44.0170      44.0785      44.0780      44.1440      43.9565      43.8455 \n",
       "  Sample_ 13   Sample_ 14   Sample_ 15   Sample_ 16   Sample_ 17   Sample_ 18 \n",
       "     44.0280      43.8000      43.9505      44.2010      44.2130      44.2150 \n",
       "  Sample_ 19   Sample_ 20   Sample_ 21   Sample_ 22   Sample_ 23   Sample_ 24 \n",
       "     44.0195      44.0620      44.1795      44.0360      43.8095      44.2050 \n",
       "  Sample_ 25   Sample_ 26   Sample_ 27   Sample_ 28   Sample_ 29   Sample_ 30 \n",
       "     43.8640      44.2605      44.0735      44.0670      44.0155      43.4130 \n",
       "  Sample_ 31   Sample_ 32   Sample_ 33   Sample_ 34   Sample_ 35   Sample_ 36 \n",
       "     43.9820      44.2220      44.1630      44.0300      43.9795      44.0790 \n",
       "  Sample_ 37   Sample_ 38   Sample_ 39   Sample_ 40   Sample_ 41   Sample_ 42 \n",
       "     43.9195      43.9140      44.0430      44.3345      43.6935      43.8480 \n",
       "  Sample_ 43   Sample_ 44   Sample_ 45   Sample_ 46   Sample_ 47   Sample_ 48 \n",
       "     44.5640      43.8715      44.1755      44.6590      44.4490      44.3370 \n",
       "  Sample_ 49   Sample_ 50   Sample_ 51   Sample_ 52   Sample_ 53   Sample_ 54 \n",
       "     43.8080      43.8120      44.3010      43.8445      43.8850      43.7100 \n",
       "  Sample_ 55   Sample_ 56   Sample_ 57   Sample_ 58   Sample_ 59   Sample_ 60 \n",
       "     44.4955      43.7525      44.2400      44.0840      43.3410      44.2615 \n",
       "  Sample_ 61   Sample_ 62   Sample_ 63   Sample_ 64   Sample_ 65   Sample_ 66 \n",
       "     43.8540      44.0955      43.6495      43.9235      44.2715      44.3490 \n",
       "  Sample_ 67   Sample_ 68   Sample_ 69   Sample_ 70   Sample_ 71   Sample_ 72 \n",
       "     44.2085      44.1070      44.0535      44.0660      44.4425      43.7830 \n",
       "  Sample_ 73   Sample_ 74   Sample_ 75   Sample_ 76   Sample_ 77   Sample_ 78 \n",
       "     44.3315      44.0595      44.0375      44.1550      44.5080      43.8715 \n",
       "  Sample_ 79   Sample_ 80   Sample_ 81   Sample_ 82   Sample_ 83   Sample_ 84 \n",
       "     44.2040      43.9055      44.3095      43.6585      44.2725      43.8340 \n",
       "  Sample_ 85   Sample_ 86   Sample_ 87   Sample_ 88   Sample_ 89   Sample_ 90 \n",
       "     43.4470      44.3635      43.9715      43.9925      44.0455      44.4485 \n",
       "  Sample_ 91   Sample_ 92   Sample_ 93   Sample_ 94   Sample_ 95   Sample_ 96 \n",
       "     43.9720      43.9570      44.4175      44.1055      44.6685      44.1595 \n",
       "  Sample_ 97   Sample_ 98   Sample_ 99  Sample_ 100  Sample_ 101  Sample_ 102 \n",
       "     44.3445      43.6215      44.1845      43.6410      44.1385      43.8085 \n",
       " Sample_ 103  Sample_ 104  Sample_ 105  Sample_ 106  Sample_ 107  Sample_ 108 \n",
       "     43.9970      43.9870      44.2660      44.0055      43.9720      44.1515 \n",
       " Sample_ 109  Sample_ 110  Sample_ 111  Sample_ 112  Sample_ 113  Sample_ 114 \n",
       "     44.2725      44.4745      44.7870      44.6450      43.9710      43.6710 \n",
       " Sample_ 115  Sample_ 116  Sample_ 117  Sample_ 118  Sample_ 119  Sample_ 120 \n",
       "     43.6210      44.0320      43.8850      44.0285      43.8440      44.0645 \n",
       " Sample_ 121  Sample_ 122  Sample_ 123  Sample_ 124  Sample_ 125  Sample_ 126 \n",
       "     43.5060      44.1195      43.8685      44.3875      43.5860      44.5750 \n",
       " Sample_ 127  Sample_ 128  Sample_ 129  Sample_ 130  Sample_ 131  Sample_ 132 \n",
       "     44.5295      43.6070      43.9595      44.3155      44.6170      43.9145 \n",
       " Sample_ 133  Sample_ 134  Sample_ 135  Sample_ 136  Sample_ 137  Sample_ 138 \n",
       "     44.1790      43.6710      44.1690      44.4705      43.7750      43.8735 \n",
       " Sample_ 139  Sample_ 140  Sample_ 141  Sample_ 142  Sample_ 143  Sample_ 144 \n",
       "     44.1055      43.9150      43.8850      44.4190      44.1900      44.2820 \n",
       " Sample_ 145  Sample_ 146  Sample_ 147  Sample_ 148  Sample_ 149  Sample_ 150 \n",
       "     44.0610      44.6515      43.8550      44.2275      44.2685      44.1950 \n",
       " Sample_ 151  Sample_ 152  Sample_ 153  Sample_ 154  Sample_ 155  Sample_ 156 \n",
       "     44.0520      44.2950      44.3220      44.1160      44.3305      44.1670 \n",
       " Sample_ 157  Sample_ 158  Sample_ 159  Sample_ 160  Sample_ 161  Sample_ 162 \n",
       "     44.0470      44.3530      43.7370      43.6185      43.9675      44.0640 \n",
       " Sample_ 163  Sample_ 164  Sample_ 165  Sample_ 166  Sample_ 167  Sample_ 168 \n",
       "     44.0520      44.1765      43.7510      44.1220      44.2835      43.9210 \n",
       " Sample_ 169  Sample_ 170  Sample_ 171  Sample_ 172  Sample_ 173  Sample_ 174 \n",
       "     43.9635      44.4340      43.4650      43.9740      44.0760      43.5780 \n",
       " Sample_ 175  Sample_ 176  Sample_ 177  Sample_ 178  Sample_ 179  Sample_ 180 \n",
       "     44.1890      44.7875      44.4895      44.2390      44.2390      43.8475 \n",
       " Sample_ 181  Sample_ 182  Sample_ 183  Sample_ 184  Sample_ 185  Sample_ 186 \n",
       "     43.2855      44.1105      44.4635      44.4000      43.7855      44.1530 \n",
       " Sample_ 187  Sample_ 188  Sample_ 189  Sample_ 190  Sample_ 191  Sample_ 192 \n",
       "     44.1095      44.3265      43.7885      43.8205      43.9605      43.5095 \n",
       " Sample_ 193  Sample_ 194  Sample_ 195  Sample_ 196  Sample_ 197  Sample_ 198 \n",
       "     44.0530      43.9670      43.9650      44.1605      44.5035      43.4575 \n",
       " Sample_ 199  Sample_ 200  Sample_ 201  Sample_ 202  Sample_ 203  Sample_ 204 \n",
       "     44.4845      43.6520      43.7915      43.7375      43.9610      44.1240 \n",
       " Sample_ 205  Sample_ 206  Sample_ 207  Sample_ 208  Sample_ 209  Sample_ 210 \n",
       "     44.0155      44.0320      44.0605      44.4170      44.6100      44.2400 \n",
       " Sample_ 211  Sample_ 212  Sample_ 213  Sample_ 214  Sample_ 215  Sample_ 216 \n",
       "     44.5755      43.8185      43.9765      43.7770      44.1925      44.1810 \n",
       " Sample_ 217  Sample_ 218  Sample_ 219  Sample_ 220  Sample_ 221  Sample_ 222 \n",
       "     44.0725      43.4695      44.1485      44.7175      43.7640      44.0500 \n",
       " Sample_ 223  Sample_ 224  Sample_ 225  Sample_ 226  Sample_ 227  Sample_ 228 \n",
       "     44.0750      44.4485      44.2885      44.1000      44.3180      44.4975 \n",
       " Sample_ 229  Sample_ 230  Sample_ 231  Sample_ 232  Sample_ 233  Sample_ 234 \n",
       "     44.2160      44.0060      44.3435      43.7655      43.9770      43.7590 \n",
       " Sample_ 235  Sample_ 236  Sample_ 237  Sample_ 238  Sample_ 239  Sample_ 240 \n",
       "     43.9070      43.9100      43.7800      44.2725      44.0545      44.0590 \n",
       " Sample_ 241  Sample_ 242  Sample_ 243  Sample_ 244  Sample_ 245  Sample_ 246 \n",
       "     44.2730      44.2690      43.7735      43.8640      44.4910      44.5110 \n",
       " Sample_ 247  Sample_ 248  Sample_ 249  Sample_ 250  Sample_ 251  Sample_ 252 \n",
       "     44.1470      43.9595      43.8765      43.8395      43.7455      44.1530 \n",
       " Sample_ 253  Sample_ 254  Sample_ 255  Sample_ 256  Sample_ 257  Sample_ 258 \n",
       "     44.0980      43.6025      43.8710      44.3085      44.0410      43.8785 \n",
       " Sample_ 259  Sample_ 260  Sample_ 261  Sample_ 262  Sample_ 263  Sample_ 264 \n",
       "     44.0550      44.1540      44.4215      44.3440      43.9790      43.5815 \n",
       " Sample_ 265  Sample_ 266  Sample_ 267  Sample_ 268  Sample_ 269  Sample_ 270 \n",
       "     43.9565      43.7975      44.0010      44.4115      43.6415      44.1540 \n",
       " Sample_ 271  Sample_ 272  Sample_ 273  Sample_ 274  Sample_ 275  Sample_ 276 \n",
       "     44.2650      44.0930      44.3715      44.2410      43.9350      44.3485 \n",
       " Sample_ 277  Sample_ 278  Sample_ 279  Sample_ 280  Sample_ 281  Sample_ 282 \n",
       "     44.1220      44.0980      44.2290      44.2830      44.2825      43.9105 \n",
       " Sample_ 283  Sample_ 284  Sample_ 285  Sample_ 286  Sample_ 287  Sample_ 288 \n",
       "     43.9240      44.4465      44.0405      44.0850      44.4475      44.5490 \n",
       " Sample_ 289  Sample_ 290  Sample_ 291  Sample_ 292  Sample_ 293  Sample_ 294 \n",
       "     43.7855      43.8770      43.8630      44.1680      44.3955      44.2145 \n",
       " Sample_ 295  Sample_ 296  Sample_ 297  Sample_ 298  Sample_ 299  Sample_ 300 \n",
       "     43.8175      44.1770      43.8885      44.0910      44.0745      44.3560 \n",
       " Sample_ 301  Sample_ 302  Sample_ 303  Sample_ 304  Sample_ 305  Sample_ 306 \n",
       "     43.9215      44.1060      44.4255      43.7950      44.2940      44.1560 \n",
       " Sample_ 307  Sample_ 308  Sample_ 309  Sample_ 310  Sample_ 311  Sample_ 312 \n",
       "     44.2490      44.0220      43.9840      43.7480      44.1455      44.5340 \n",
       " Sample_ 313  Sample_ 314  Sample_ 315  Sample_ 316  Sample_ 317  Sample_ 318 \n",
       "     44.0565      44.3485      43.9095      44.1010      43.6940      44.3980 \n",
       " Sample_ 319  Sample_ 320  Sample_ 321  Sample_ 322  Sample_ 323  Sample_ 324 \n",
       "     44.3845      43.4860      44.1920      43.8980      44.2040      44.1455 \n",
       " Sample_ 325  Sample_ 326  Sample_ 327  Sample_ 328  Sample_ 329  Sample_ 330 \n",
       "     43.9360      44.1390      44.0885      44.1420      44.1295      44.3305 \n",
       " Sample_ 331  Sample_ 332  Sample_ 333  Sample_ 334  Sample_ 335  Sample_ 336 \n",
       "     43.7335      44.3805      44.2315      44.1175      44.2505      44.2245 \n",
       " Sample_ 337  Sample_ 338  Sample_ 339  Sample_ 340  Sample_ 341  Sample_ 342 \n",
       "     44.0550      43.8910      44.4760      44.1385      43.7830      43.7455 \n",
       " Sample_ 343  Sample_ 344  Sample_ 345  Sample_ 346  Sample_ 347  Sample_ 348 \n",
       "     43.9640      43.8765      44.1055      43.7185      44.2175      43.9265 \n",
       " Sample_ 349  Sample_ 350  Sample_ 351  Sample_ 352  Sample_ 353  Sample_ 354 \n",
       "     44.4620      43.8350      44.1740      44.1785      43.8295      44.0035 \n",
       " Sample_ 355  Sample_ 356  Sample_ 357  Sample_ 358  Sample_ 359  Sample_ 360 \n",
       "     44.2535      44.1815      43.9835      43.8700      43.9830      44.3160 \n",
       " Sample_ 361  Sample_ 362  Sample_ 363  Sample_ 364  Sample_ 365  Sample_ 366 \n",
       "     44.5955      43.8675      44.0875      44.3680      43.6240      44.1285 \n",
       " Sample_ 367  Sample_ 368  Sample_ 369  Sample_ 370  Sample_ 371  Sample_ 372 \n",
       "     44.3720      44.1075      44.2825      44.2065      43.9265      44.0355 \n",
       " Sample_ 373  Sample_ 374  Sample_ 375  Sample_ 376  Sample_ 377  Sample_ 378 \n",
       "     43.9320      44.3615      43.6895      44.2190      43.8575      44.2100 \n",
       " Sample_ 379  Sample_ 380  Sample_ 381  Sample_ 382  Sample_ 383  Sample_ 384 \n",
       "     43.6365      43.9650      43.9125      43.8715      44.4930      44.2020 \n",
       " Sample_ 385  Sample_ 386  Sample_ 387  Sample_ 388  Sample_ 389  Sample_ 390 \n",
       "     44.7795      44.0255      44.5355      43.9870      43.6220      43.8985 \n",
       " Sample_ 391  Sample_ 392  Sample_ 393  Sample_ 394  Sample_ 395  Sample_ 396 \n",
       "     43.8705      44.2275      44.0885      43.9440      44.0900      44.1600 \n",
       " Sample_ 397  Sample_ 398  Sample_ 399  Sample_ 400  Sample_ 401  Sample_ 402 \n",
       "     44.3090      44.0075      44.1130      44.2900      44.1475      44.3980 \n",
       " Sample_ 403  Sample_ 404  Sample_ 405  Sample_ 406  Sample_ 407  Sample_ 408 \n",
       "     44.1875      43.6950      43.9720      44.0825      44.0025      43.9200 \n",
       " Sample_ 409  Sample_ 410  Sample_ 411  Sample_ 412  Sample_ 413  Sample_ 414 \n",
       "     44.1040      43.7145      44.0430      44.2380      43.8290      43.8650 \n",
       " Sample_ 415  Sample_ 416  Sample_ 417  Sample_ 418  Sample_ 419  Sample_ 420 \n",
       "     43.9645      44.2175      43.9625      44.1750      43.7920      44.0880 \n",
       " Sample_ 421  Sample_ 422  Sample_ 423  Sample_ 424  Sample_ 425  Sample_ 426 \n",
       "     44.1530      44.4035      43.8445      43.6270      44.0785      44.1465 \n",
       " Sample_ 427  Sample_ 428  Sample_ 429  Sample_ 430  Sample_ 431  Sample_ 432 \n",
       "     44.0315      43.9770      44.1100      44.0940      43.9810      44.0310 \n",
       " Sample_ 433  Sample_ 434  Sample_ 435  Sample_ 436  Sample_ 437  Sample_ 438 \n",
       "     44.5585      44.1150      43.8705      44.0550      44.3485      43.8490 \n",
       " Sample_ 439  Sample_ 440  Sample_ 441  Sample_ 442  Sample_ 443  Sample_ 444 \n",
       "     43.8835      43.8305      43.9410      44.6335      43.8395      44.1865 \n",
       " Sample_ 445  Sample_ 446  Sample_ 447  Sample_ 448  Sample_ 449  Sample_ 450 \n",
       "     44.3160      43.6500      44.3680      43.4915      44.2075      44.1440 \n",
       " Sample_ 451  Sample_ 452  Sample_ 453  Sample_ 454  Sample_ 455  Sample_ 456 \n",
       "     44.1590      43.7575      44.3910      44.0455      43.9010      43.8835 \n",
       " Sample_ 457  Sample_ 458  Sample_ 459  Sample_ 460  Sample_ 461  Sample_ 462 \n",
       "     43.8255      44.0080      43.7665      44.6160      43.8440      44.3115 \n",
       " Sample_ 463  Sample_ 464  Sample_ 465  Sample_ 466  Sample_ 467  Sample_ 468 \n",
       "     44.0975      43.8910      44.2745      44.1855      44.3265      44.3370 \n",
       " Sample_ 469  Sample_ 470  Sample_ 471  Sample_ 472  Sample_ 473  Sample_ 474 \n",
       "     43.8965      44.1385      43.6685      43.9130      44.3495      43.6425 \n",
       " Sample_ 475  Sample_ 476  Sample_ 477  Sample_ 478  Sample_ 479  Sample_ 480 \n",
       "     43.5035      44.1205      43.9380      44.5135      44.2950      43.9145 \n",
       " Sample_ 481  Sample_ 482  Sample_ 483  Sample_ 484  Sample_ 485  Sample_ 486 \n",
       "     44.0400      44.3045      44.0870      44.3060      44.3200      44.0365 \n",
       " Sample_ 487  Sample_ 488  Sample_ 489  Sample_ 490  Sample_ 491  Sample_ 492 \n",
       "     44.4335      43.9390      44.1395      44.3010      44.0680      44.2625 \n",
       " Sample_ 493  Sample_ 494  Sample_ 495  Sample_ 496  Sample_ 497  Sample_ 498 \n",
       "     44.1515      44.6065      44.4620      44.3290      43.5835      43.9720 \n",
       " Sample_ 499  Sample_ 500  Sample_ 501  Sample_ 502  Sample_ 503  Sample_ 504 \n",
       "     44.3125      44.0205      44.5165      43.9610      44.0645      44.1475 \n",
       " Sample_ 505  Sample_ 506  Sample_ 507  Sample_ 508  Sample_ 509  Sample_ 510 \n",
       "     44.2490      43.8095      43.6795      43.9655      44.2810      44.0325 \n",
       " Sample_ 511  Sample_ 512  Sample_ 513  Sample_ 514  Sample_ 515  Sample_ 516 \n",
       "     44.1865      44.2755      43.6995      44.0120      44.1440      44.0975 \n",
       " Sample_ 517  Sample_ 518  Sample_ 519  Sample_ 520  Sample_ 521  Sample_ 522 \n",
       "     44.4800      44.0730      44.0340      43.9810      44.3070      44.3990 \n",
       " Sample_ 523  Sample_ 524  Sample_ 525  Sample_ 526  Sample_ 527  Sample_ 528 \n",
       "     44.2725      44.5960      43.8575      44.2795      44.2095      44.3140 \n",
       " Sample_ 529  Sample_ 530  Sample_ 531  Sample_ 532  Sample_ 533  Sample_ 534 \n",
       "     44.2680      44.3620      44.0485      44.0310      43.9615      43.9060 \n",
       " Sample_ 535  Sample_ 536  Sample_ 537  Sample_ 538  Sample_ 539  Sample_ 540 \n",
       "     44.2535      44.1200      44.3995      43.5490      43.8905      44.6015 \n",
       " Sample_ 541  Sample_ 542  Sample_ 543  Sample_ 544  Sample_ 545  Sample_ 546 \n",
       "     44.4230      43.8015      44.3175      44.2055      44.1985      44.5710 \n",
       " Sample_ 547  Sample_ 548  Sample_ 549  Sample_ 550  Sample_ 551  Sample_ 552 \n",
       "     44.4070      43.8525      44.3820      44.2240      44.1100      44.3465 \n",
       " Sample_ 553  Sample_ 554  Sample_ 555  Sample_ 556  Sample_ 557  Sample_ 558 \n",
       "     44.1740      44.1610      44.1840      43.9820      43.8605      44.1975 \n",
       " Sample_ 559  Sample_ 560  Sample_ 561  Sample_ 562  Sample_ 563  Sample_ 564 \n",
       "     43.9475      44.0065      44.1795      43.9340      43.9995      43.3995 \n",
       " Sample_ 565  Sample_ 566  Sample_ 567  Sample_ 568  Sample_ 569  Sample_ 570 \n",
       "     44.4770      43.9910      43.8900      44.0800      44.1205      43.5940 \n",
       " Sample_ 571  Sample_ 572  Sample_ 573  Sample_ 574  Sample_ 575  Sample_ 576 \n",
       "     43.6610      44.0510      43.7305      44.2325      44.1465      44.3320 \n",
       " Sample_ 577  Sample_ 578  Sample_ 579  Sample_ 580  Sample_ 581  Sample_ 582 \n",
       "     43.8525      43.9365      44.2375      44.3370      43.9700      44.2640 \n",
       " Sample_ 583  Sample_ 584  Sample_ 585  Sample_ 586  Sample_ 587  Sample_ 588 \n",
       "     44.1905      43.7235      43.7950      43.9030      44.0055      43.9190 \n",
       " Sample_ 589  Sample_ 590  Sample_ 591  Sample_ 592  Sample_ 593  Sample_ 594 \n",
       "     44.2920      44.0605      43.9370      44.0500      44.0305      43.5770 \n",
       " Sample_ 595  Sample_ 596  Sample_ 597  Sample_ 598  Sample_ 599  Sample_ 600 \n",
       "     43.9575      44.0625      44.5835      43.8600      43.7370      44.0115 \n",
       " Sample_ 601  Sample_ 602  Sample_ 603  Sample_ 604  Sample_ 605  Sample_ 606 \n",
       "     44.1430      43.9345      43.8780      44.5400      44.5355      43.8495 \n",
       " Sample_ 607  Sample_ 608  Sample_ 609  Sample_ 610  Sample_ 611  Sample_ 612 \n",
       "     44.1800      43.9545      43.8300      44.1430      44.2225      44.1090 \n",
       " Sample_ 613  Sample_ 614  Sample_ 615  Sample_ 616  Sample_ 617  Sample_ 618 \n",
       "     44.0650      43.8085      43.2145      43.8060      44.3800      43.8875 \n",
       " Sample_ 619  Sample_ 620  Sample_ 621  Sample_ 622  Sample_ 623  Sample_ 624 \n",
       "     44.3645      44.1740      44.5795      44.0450      44.4250      44.4620 \n",
       " Sample_ 625  Sample_ 626  Sample_ 627  Sample_ 628  Sample_ 629  Sample_ 630 \n",
       "     44.5710      44.4135      44.4890      43.9560      43.7320      43.7990 \n",
       " Sample_ 631  Sample_ 632  Sample_ 633  Sample_ 634  Sample_ 635  Sample_ 636 \n",
       "     43.9725      44.2695      43.5050      43.9935      44.4895      44.0355 \n",
       " Sample_ 637  Sample_ 638  Sample_ 639  Sample_ 640  Sample_ 641  Sample_ 642 \n",
       "     44.5240      44.0770      43.9095      44.2740      44.1820      44.0645 \n",
       " Sample_ 643  Sample_ 644  Sample_ 645  Sample_ 646  Sample_ 647  Sample_ 648 \n",
       "     43.6935      43.7525      44.0225      44.0255      44.2960      44.2615 \n",
       " Sample_ 649  Sample_ 650  Sample_ 651  Sample_ 652  Sample_ 653  Sample_ 654 \n",
       "     44.2530      43.9445      44.4400      43.8555      44.2850      44.1580 \n",
       " Sample_ 655  Sample_ 656  Sample_ 657  Sample_ 658  Sample_ 659  Sample_ 660 \n",
       "     43.8160      44.0850      43.9660      44.0715      44.3095      44.3740 \n",
       " Sample_ 661  Sample_ 662  Sample_ 663  Sample_ 664  Sample_ 665  Sample_ 666 \n",
       "     44.2520      43.9780      44.4520      43.9435      44.1420      44.0600 \n",
       " Sample_ 667  Sample_ 668  Sample_ 669  Sample_ 670  Sample_ 671  Sample_ 672 \n",
       "     44.1150      44.1880      43.9795      44.0920      43.9490      43.9010 \n",
       " Sample_ 673  Sample_ 674  Sample_ 675  Sample_ 676  Sample_ 677  Sample_ 678 \n",
       "     44.1155      43.9830      44.1165      43.7010      44.4030      44.2180 \n",
       " Sample_ 679  Sample_ 680  Sample_ 681  Sample_ 682  Sample_ 683  Sample_ 684 \n",
       "     44.1730      43.8370      44.6395      43.8175      44.3540      43.8745 \n",
       " Sample_ 685  Sample_ 686  Sample_ 687  Sample_ 688  Sample_ 689  Sample_ 690 \n",
       "     44.0595      44.3985      43.7110      43.8925      43.6845      44.0010 \n",
       " Sample_ 691  Sample_ 692  Sample_ 693  Sample_ 694  Sample_ 695  Sample_ 696 \n",
       "     44.2465      44.0930      44.1300      43.7875      44.6400      44.3475 \n",
       " Sample_ 697  Sample_ 698  Sample_ 699  Sample_ 700  Sample_ 701  Sample_ 702 \n",
       "     44.4910      44.1575      43.8515      44.0585      43.8960      43.8545 \n",
       " Sample_ 703  Sample_ 704  Sample_ 705  Sample_ 706  Sample_ 707  Sample_ 708 \n",
       "     44.2040      43.9730      43.9795      44.2345      44.0820      44.3425 \n",
       " Sample_ 709  Sample_ 710  Sample_ 711  Sample_ 712  Sample_ 713  Sample_ 714 \n",
       "     44.0300      44.2755      43.7005      44.1660      44.1330      43.8820 \n",
       " Sample_ 715  Sample_ 716  Sample_ 717  Sample_ 718  Sample_ 719  Sample_ 720 \n",
       "     44.0385      43.9230      44.3800      44.2780      44.3060      44.1085 \n",
       " Sample_ 721  Sample_ 722  Sample_ 723  Sample_ 724  Sample_ 725  Sample_ 726 \n",
       "     43.5385      43.8220      44.1680      43.8065      44.3010      43.8255 \n",
       " Sample_ 727  Sample_ 728  Sample_ 729  Sample_ 730  Sample_ 731  Sample_ 732 \n",
       "     43.7745      44.4150      43.9760      44.1600      43.9095      44.2145 \n",
       " Sample_ 733  Sample_ 734  Sample_ 735  Sample_ 736  Sample_ 737  Sample_ 738 \n",
       "     44.2515      44.0910      43.8335      43.3970      44.3105      43.8875 \n",
       " Sample_ 739  Sample_ 740  Sample_ 741  Sample_ 742  Sample_ 743  Sample_ 744 \n",
       "     44.1475      44.0015      44.1015      44.1945      44.4070      44.1850 \n",
       " Sample_ 745  Sample_ 746  Sample_ 747  Sample_ 748  Sample_ 749  Sample_ 750 \n",
       "     43.9040      44.2035      43.9760      43.8150      43.7805      43.3890 \n",
       " Sample_ 751  Sample_ 752  Sample_ 753  Sample_ 754  Sample_ 755  Sample_ 756 \n",
       "     44.0085      44.1575      44.0555      43.9090      44.7765      44.3575 \n",
       " Sample_ 757  Sample_ 758  Sample_ 759  Sample_ 760  Sample_ 761  Sample_ 762 \n",
       "     43.9065      43.8930      44.5955      44.3435      44.4835      43.7550 \n",
       " Sample_ 763  Sample_ 764  Sample_ 765  Sample_ 766  Sample_ 767  Sample_ 768 \n",
       "     44.3720      43.9615      43.6865      43.8090      44.2000      44.4145 \n",
       " Sample_ 769  Sample_ 770  Sample_ 771  Sample_ 772  Sample_ 773  Sample_ 774 \n",
       "     44.1495      43.8085      43.7150      44.4230      44.2300      43.7355 \n",
       " Sample_ 775  Sample_ 776  Sample_ 777  Sample_ 778  Sample_ 779  Sample_ 780 \n",
       "     44.3340      43.7840      44.1295      44.2505      44.0500      44.1780 \n",
       " Sample_ 781  Sample_ 782  Sample_ 783  Sample_ 784  Sample_ 785  Sample_ 786 \n",
       "     44.6105      44.2545      43.3365      43.7955      43.9810      43.4100 \n",
       " Sample_ 787  Sample_ 788  Sample_ 789  Sample_ 790  Sample_ 791  Sample_ 792 \n",
       "     44.3495      44.3955      44.2315      43.9635      43.9570      44.0760 \n",
       " Sample_ 793  Sample_ 794  Sample_ 795  Sample_ 796  Sample_ 797  Sample_ 798 \n",
       "     43.9270      44.0615      43.8465      44.1495      44.3260      44.2915 \n",
       " Sample_ 799  Sample_ 800  Sample_ 801  Sample_ 802  Sample_ 803  Sample_ 804 \n",
       "     44.3150      43.7390      43.9990      44.0200      44.7295      43.7690 \n",
       " Sample_ 805  Sample_ 806  Sample_ 807  Sample_ 808  Sample_ 809  Sample_ 810 \n",
       "     44.1625      44.3935      43.8035      43.8420      44.1985      44.3230 \n",
       " Sample_ 811  Sample_ 812  Sample_ 813  Sample_ 814  Sample_ 815  Sample_ 816 \n",
       "     44.0630      43.7555      44.0705      44.3825      44.7795      43.9450 \n",
       " Sample_ 817  Sample_ 818  Sample_ 819  Sample_ 820  Sample_ 821  Sample_ 822 \n",
       "     44.1540      43.7390      43.9860      43.9235      43.9150      44.4280 \n",
       " Sample_ 823  Sample_ 824  Sample_ 825  Sample_ 826  Sample_ 827  Sample_ 828 \n",
       "     43.7085      43.9850      44.1915      44.0450      44.4760      44.2345 \n",
       " Sample_ 829  Sample_ 830  Sample_ 831  Sample_ 832  Sample_ 833  Sample_ 834 \n",
       "     44.1035      44.2985      43.8495      43.8640      44.4370      43.9705 \n",
       " Sample_ 835  Sample_ 836  Sample_ 837  Sample_ 838  Sample_ 839  Sample_ 840 \n",
       "     44.2260      44.2510      44.6300      43.9850      44.2865      44.0815 \n",
       " Sample_ 841  Sample_ 842  Sample_ 843  Sample_ 844  Sample_ 845  Sample_ 846 \n",
       "     44.3400      44.1815      44.1705      43.7170      44.0250      43.5585 \n",
       " Sample_ 847  Sample_ 848  Sample_ 849  Sample_ 850  Sample_ 851  Sample_ 852 \n",
       "     43.9735      43.8565      44.0265      44.1535      44.0085      43.9290 \n",
       " Sample_ 853  Sample_ 854  Sample_ 855  Sample_ 856  Sample_ 857  Sample_ 858 \n",
       "     44.1095      44.0550      43.9710      43.9045      43.6805      44.0095 \n",
       " Sample_ 859  Sample_ 860  Sample_ 861  Sample_ 862  Sample_ 863  Sample_ 864 \n",
       "     43.6650      44.3340      44.0480      44.1840      43.5680      44.4315 \n",
       " Sample_ 865  Sample_ 866  Sample_ 867  Sample_ 868  Sample_ 869  Sample_ 870 \n",
       "     44.3500      43.4670      44.4625      44.0395      43.8710      44.2515 \n",
       " Sample_ 871  Sample_ 872  Sample_ 873  Sample_ 874  Sample_ 875  Sample_ 876 \n",
       "     43.8250      43.9365      43.5295      44.1505      43.7435      44.2375 \n",
       " Sample_ 877  Sample_ 878  Sample_ 879  Sample_ 880  Sample_ 881  Sample_ 882 \n",
       "     44.5350      44.5905      44.6775      44.0780      44.6330      43.7030 \n",
       " Sample_ 883  Sample_ 884  Sample_ 885  Sample_ 886  Sample_ 887  Sample_ 888 \n",
       "     44.2080      44.0745      44.0460      43.8765      44.4665      43.8170 \n",
       " Sample_ 889  Sample_ 890  Sample_ 891  Sample_ 892  Sample_ 893  Sample_ 894 \n",
       "     43.8375      43.9285      44.1670      44.2970      43.8540      43.7370 \n",
       " Sample_ 895  Sample_ 896  Sample_ 897  Sample_ 898  Sample_ 899  Sample_ 900 \n",
       "     44.3270      44.2430      44.3710      43.8820      44.3135      43.7985 \n",
       " Sample_ 901  Sample_ 902  Sample_ 903  Sample_ 904  Sample_ 905  Sample_ 906 \n",
       "     43.8265      44.1260      44.0035      44.2055      43.7040      43.7680 \n",
       " Sample_ 907  Sample_ 908  Sample_ 909  Sample_ 910  Sample_ 911  Sample_ 912 \n",
       "     44.3430      44.1435      44.1465      44.4615      44.4540      44.1495 \n",
       " Sample_ 913  Sample_ 914  Sample_ 915  Sample_ 916  Sample_ 917  Sample_ 918 \n",
       "     44.0625      43.9565      43.7190      43.0645      44.8410      44.4055 \n",
       " Sample_ 919  Sample_ 920  Sample_ 921  Sample_ 922  Sample_ 923  Sample_ 924 \n",
       "     43.8035      43.6515      44.0440      44.1405      45.0395      44.2460 \n",
       " Sample_ 925  Sample_ 926  Sample_ 927  Sample_ 928  Sample_ 929  Sample_ 930 \n",
       "     43.9270      44.0835      43.9130      43.8165      44.0830      44.1785 \n",
       " Sample_ 931  Sample_ 932  Sample_ 933  Sample_ 934  Sample_ 935  Sample_ 936 \n",
       "     43.7250      43.3975      43.9105      44.6250      43.8425      43.9690 \n",
       " Sample_ 937  Sample_ 938  Sample_ 939  Sample_ 940  Sample_ 941  Sample_ 942 \n",
       "     44.3305      43.6755      44.2105      44.5080      44.4595      44.3160 \n",
       " Sample_ 943  Sample_ 944  Sample_ 945  Sample_ 946  Sample_ 947  Sample_ 948 \n",
       "     44.0885      44.2660      44.4105      44.1990      44.0090      44.9470 \n",
       " Sample_ 949  Sample_ 950  Sample_ 951  Sample_ 952  Sample_ 953  Sample_ 954 \n",
       "     44.1140      44.4910      44.4320      44.7515      44.2425      43.6620 \n",
       " Sample_ 955  Sample_ 956  Sample_ 957  Sample_ 958  Sample_ 959  Sample_ 960 \n",
       "     44.5775      43.8620      44.4335      44.5755      43.9150      43.8640 \n",
       " Sample_ 961  Sample_ 962  Sample_ 963  Sample_ 964  Sample_ 965  Sample_ 966 \n",
       "     43.7535      44.1090      43.8360      44.4090      43.9355      44.6850 \n",
       " Sample_ 967  Sample_ 968  Sample_ 969  Sample_ 970  Sample_ 971  Sample_ 972 \n",
       "     44.1970      43.8290      44.4980      44.0925      43.7830      44.3865 \n",
       " Sample_ 973  Sample_ 974  Sample_ 975  Sample_ 976  Sample_ 977  Sample_ 978 \n",
       "     44.0010      43.8100      44.0810      44.4280      44.3675      44.3940 \n",
       " Sample_ 979  Sample_ 980  Sample_ 981  Sample_ 982  Sample_ 983  Sample_ 984 \n",
       "     43.8600      43.7485      44.1795      44.1265      44.1130      44.3195 \n",
       " Sample_ 985  Sample_ 986  Sample_ 987  Sample_ 988  Sample_ 989  Sample_ 990 \n",
       "     44.2290      43.8525      43.8935      44.0585      44.3420      44.2475 \n",
       " Sample_ 991  Sample_ 992  Sample_ 993  Sample_ 994  Sample_ 995  Sample_ 996 \n",
       "     43.9160      43.8290      44.2560      43.7005      44.2255      44.4140 \n",
       " Sample_ 997  Sample_ 998  Sample_ 999 Sample_ 1000 Sample_ 1001 Sample_ 1002 \n",
       "     44.5380      43.4690      44.3080      43.4390      44.1565      43.6170 \n",
       "Sample_ 1003 Sample_ 1004 Sample_ 1005 Sample_ 1006 Sample_ 1007 Sample_ 1008 \n",
       "     44.1935      44.2550      43.3275      44.3045      44.5445      43.9840 \n",
       "Sample_ 1009 Sample_ 1010 Sample_ 1011 Sample_ 1012 Sample_ 1013 Sample_ 1014 \n",
       "     44.0235      44.0815      44.0715      44.0890      44.0615      43.9650 \n",
       "Sample_ 1015 Sample_ 1016 Sample_ 1017 Sample_ 1018 Sample_ 1019 Sample_ 1020 \n",
       "     44.1990      43.8610      43.2840      44.1250      43.7840      44.8300 \n",
       "Sample_ 1021 Sample_ 1022 Sample_ 1023 Sample_ 1024 Sample_ 1025 Sample_ 1026 \n",
       "     44.1635      43.6600      44.0285      43.9920      43.5900      44.4690 \n",
       "Sample_ 1027 Sample_ 1028 Sample_ 1029 Sample_ 1030 Sample_ 1031 Sample_ 1032 \n",
       "     43.7335      44.7900      44.2070      44.0815      44.2265      44.2840 \n",
       "Sample_ 1033 Sample_ 1034 Sample_ 1035 Sample_ 1036 Sample_ 1037 Sample_ 1038 \n",
       "     43.8045      44.1810      44.0030      44.5450      44.2850      43.8515 \n",
       "Sample_ 1039 Sample_ 1040 Sample_ 1041 Sample_ 1042 Sample_ 1043 Sample_ 1044 \n",
       "     43.7005      43.9115      43.9275      44.9635      43.6020      44.3245 \n",
       "Sample_ 1045 Sample_ 1046 Sample_ 1047 Sample_ 1048 Sample_ 1049 Sample_ 1050 \n",
       "     43.6455      44.1170      43.9200      44.0705      43.7560      43.2970 \n",
       "Sample_ 1051 Sample_ 1052 Sample_ 1053 Sample_ 1054 Sample_ 1055 Sample_ 1056 \n",
       "     44.0610      44.1170      44.1130      43.8910      44.1845      43.4765 \n",
       "Sample_ 1057 Sample_ 1058 Sample_ 1059 Sample_ 1060 Sample_ 1061 Sample_ 1062 \n",
       "     44.0665      44.1220      44.1830      44.2200      43.9930      43.7040 \n",
       "Sample_ 1063 Sample_ 1064 Sample_ 1065 Sample_ 1066 Sample_ 1067 Sample_ 1068 \n",
       "     43.5765      44.2025      43.7090      44.1230      44.2610      44.2360 \n",
       "Sample_ 1069 Sample_ 1070 Sample_ 1071 Sample_ 1072 Sample_ 1073 Sample_ 1074 \n",
       "     44.1660      43.8920      44.3505      44.0415      43.3680      43.9415 \n",
       "Sample_ 1075 Sample_ 1076 Sample_ 1077 Sample_ 1078 Sample_ 1079 Sample_ 1080 \n",
       "     43.8175      44.3480      43.8900      44.2040      44.2025      44.8020 \n",
       "Sample_ 1081 Sample_ 1082 Sample_ 1083 Sample_ 1084 Sample_ 1085 Sample_ 1086 \n",
       "     44.5205      43.6050      43.9575      44.2215      43.9735      43.9650 \n",
       "Sample_ 1087 Sample_ 1088 Sample_ 1089 Sample_ 1090 Sample_ 1091 Sample_ 1092 \n",
       "     44.2285      44.5530      43.7890      44.3250      43.7915      43.6490 \n",
       "Sample_ 1093 Sample_ 1094 Sample_ 1095 Sample_ 1096 Sample_ 1097 Sample_ 1098 \n",
       "     43.8465      44.1360      44.0450      44.0795      44.2845      44.4865 \n",
       "Sample_ 1099 Sample_ 1100 Sample_ 1101 Sample_ 1102 Sample_ 1103 Sample_ 1104 \n",
       "     44.4535      44.0110      43.8080      43.7525      43.4925      43.6120 \n",
       "Sample_ 1105 Sample_ 1106 Sample_ 1107 Sample_ 1108 Sample_ 1109 Sample_ 1110 \n",
       "     44.3570      43.4245      44.0345      43.6520      43.4400      44.4440 \n",
       "Sample_ 1111 Sample_ 1112 Sample_ 1113 Sample_ 1114 Sample_ 1115 Sample_ 1116 \n",
       "     43.9910      44.2485      44.1765      44.0095      43.7235      43.6465 \n",
       "Sample_ 1117 Sample_ 1118 Sample_ 1119 Sample_ 1120 Sample_ 1121 Sample_ 1122 \n",
       "     44.2560      43.8550      43.8085      44.0385      44.1835      43.4500 \n",
       "Sample_ 1123 Sample_ 1124 Sample_ 1125 Sample_ 1126 Sample_ 1127 Sample_ 1128 \n",
       "     44.1950      44.1275      44.4195      44.3125      44.0745      44.2690 \n",
       "Sample_ 1129 Sample_ 1130 Sample_ 1131 Sample_ 1132 Sample_ 1133 Sample_ 1134 \n",
       "     44.2985      44.0155      44.0770      44.2130      43.9670      44.4350 \n",
       "Sample_ 1135 Sample_ 1136 Sample_ 1137 Sample_ 1138 Sample_ 1139 Sample_ 1140 \n",
       "     44.3285      44.4960      43.8620      44.3510      44.1740      44.4920 \n",
       "Sample_ 1141 Sample_ 1142 Sample_ 1143 Sample_ 1144 Sample_ 1145 Sample_ 1146 \n",
       "     44.4090      43.5300      43.8440      44.3310      43.8975      44.1545 \n",
       "Sample_ 1147 Sample_ 1148 Sample_ 1149 Sample_ 1150 Sample_ 1151 Sample_ 1152 \n",
       "     44.0815      44.0795      43.6570      43.8275      43.9970      44.6040 \n",
       "Sample_ 1153 Sample_ 1154 Sample_ 1155 Sample_ 1156 Sample_ 1157 Sample_ 1158 \n",
       "     43.9575      44.1520      43.9190      43.6795      44.1245      44.5715 \n",
       "Sample_ 1159 Sample_ 1160 Sample_ 1161 Sample_ 1162 Sample_ 1163 Sample_ 1164 \n",
       "     44.2960      43.9975      43.8165      43.5030      43.9110      44.4465 \n",
       "Sample_ 1165 Sample_ 1166 Sample_ 1167 Sample_ 1168 Sample_ 1169 Sample_ 1170 \n",
       "     43.9585      44.1705      44.4950      44.0655      44.2385      44.3555 \n",
       "Sample_ 1171 Sample_ 1172 Sample_ 1173 Sample_ 1174 Sample_ 1175 Sample_ 1176 \n",
       "     43.8915      43.6455      44.1820      44.2805      43.8605      44.1505 \n",
       "Sample_ 1177 Sample_ 1178 Sample_ 1179 Sample_ 1180 Sample_ 1181 Sample_ 1182 \n",
       "     44.4145      44.0375      44.0620      44.2020      44.1775      43.8990 \n",
       "Sample_ 1183 Sample_ 1184 Sample_ 1185 Sample_ 1186 Sample_ 1187 Sample_ 1188 \n",
       "     44.0055      44.3480      44.0110      43.5500      43.9740      44.4540 \n",
       "Sample_ 1189 Sample_ 1190 Sample_ 1191 Sample_ 1192 Sample_ 1193 Sample_ 1194 \n",
       "     44.4860      43.9690      44.7040      44.0185      43.9125      43.7630 \n",
       "Sample_ 1195 Sample_ 1196 Sample_ 1197 Sample_ 1198 Sample_ 1199 Sample_ 1200 \n",
       "     43.7085      44.0590      44.3070      44.1735      43.7265      44.5745 \n",
       "Sample_ 1201 Sample_ 1202 Sample_ 1203 Sample_ 1204 Sample_ 1205 Sample_ 1206 \n",
       "     44.1905      44.1775      44.1035      43.3865      44.1620      44.0425 \n",
       "Sample_ 1207 Sample_ 1208 Sample_ 1209 Sample_ 1210 Sample_ 1211 Sample_ 1212 \n",
       "     44.1235      44.2340      44.5085      43.9700      43.3865      43.8960 \n",
       "Sample_ 1213 Sample_ 1214 Sample_ 1215 Sample_ 1216 Sample_ 1217 Sample_ 1218 \n",
       "     43.9045      44.1250      43.8935      44.4830      44.1315      44.2485 \n",
       "Sample_ 1219 Sample_ 1220 Sample_ 1221 Sample_ 1222 Sample_ 1223 Sample_ 1224 \n",
       "     44.2020      43.9925      44.4505      44.0415      43.7855      44.4635 \n",
       "Sample_ 1225 Sample_ 1226 Sample_ 1227 Sample_ 1228 Sample_ 1229 Sample_ 1230 \n",
       "     43.7785      43.7335      44.1510      44.1690      44.9685      43.6650 \n",
       "Sample_ 1231 Sample_ 1232 Sample_ 1233 Sample_ 1234 Sample_ 1235 Sample_ 1236 \n",
       "     44.3420      44.7445      43.7320      43.3615      44.1625      44.4275 \n",
       "Sample_ 1237 Sample_ 1238 Sample_ 1239 Sample_ 1240 Sample_ 1241 Sample_ 1242 \n",
       "     43.7825      44.3855      43.8240      43.5495      44.0385      44.3805 \n",
       "Sample_ 1243 Sample_ 1244 Sample_ 1245 Sample_ 1246 Sample_ 1247 Sample_ 1248 \n",
       "     43.9105      44.4605      44.2035      44.0570      44.1755      43.6765 \n",
       "Sample_ 1249 Sample_ 1250 Sample_ 1251 Sample_ 1252 Sample_ 1253 Sample_ 1254 \n",
       "     44.0605      43.6985      43.7895      44.2670      44.0580      43.7770 \n",
       "Sample_ 1255 Sample_ 1256 Sample_ 1257 Sample_ 1258 Sample_ 1259 Sample_ 1260 \n",
       "     44.4665      44.1970      43.9305      43.9615      45.0345      43.7835 \n",
       "Sample_ 1261 Sample_ 1262 Sample_ 1263 Sample_ 1264 Sample_ 1265 Sample_ 1266 \n",
       "     43.7490      44.1430      43.7450      44.3755      43.7080      43.8520 \n",
       "Sample_ 1267 Sample_ 1268 Sample_ 1269 Sample_ 1270 Sample_ 1271 Sample_ 1272 \n",
       "     43.9965      44.4305      43.9985      44.3970      44.5200      44.4600 \n",
       "Sample_ 1273 Sample_ 1274 Sample_ 1275 Sample_ 1276 Sample_ 1277 Sample_ 1278 \n",
       "     44.4350      44.0830      44.4390      44.2570      44.0560      44.2150 \n",
       "Sample_ 1279 Sample_ 1280 Sample_ 1281 Sample_ 1282 Sample_ 1283 Sample_ 1284 \n",
       "     43.9605      44.6925      44.0205      43.9310      44.4225      43.8025 \n",
       "Sample_ 1285 Sample_ 1286 Sample_ 1287 Sample_ 1288 Sample_ 1289 Sample_ 1290 \n",
       "     44.4620      44.7110      44.0500      43.8280      44.4965      43.9810 \n",
       "Sample_ 1291 Sample_ 1292 Sample_ 1293 Sample_ 1294 Sample_ 1295 Sample_ 1296 \n",
       "     43.7230      44.2600      44.0135      44.1395      43.9660      43.7670 \n",
       "Sample_ 1297 Sample_ 1298 Sample_ 1299 Sample_ 1300 Sample_ 1301 Sample_ 1302 \n",
       "     44.2700      43.6860      44.4065      43.7870      43.6965      44.1120 \n",
       "Sample_ 1303 Sample_ 1304 Sample_ 1305 Sample_ 1306 Sample_ 1307 Sample_ 1308 \n",
       "     43.8165      43.5565      44.2120      44.5685      44.4745      43.7930 \n",
       "Sample_ 1309 Sample_ 1310 Sample_ 1311 Sample_ 1312 Sample_ 1313 Sample_ 1314 \n",
       "     43.9490      44.2835      44.4020      44.1430      43.9780      43.7285 \n",
       "Sample_ 1315 Sample_ 1316 Sample_ 1317 Sample_ 1318 Sample_ 1319 Sample_ 1320 \n",
       "     44.0295      43.8805      44.0755      44.1415      43.9415      43.7900 \n",
       "Sample_ 1321 Sample_ 1322 Sample_ 1323 Sample_ 1324 Sample_ 1325 Sample_ 1326 \n",
       "     44.1915      44.3455      43.9540      44.2155      43.9160      43.5900 \n",
       "Sample_ 1327 Sample_ 1328 Sample_ 1329 Sample_ 1330 Sample_ 1331 Sample_ 1332 \n",
       "     43.9990      44.3955      43.8180      43.7170      44.3100      43.8020 \n",
       "Sample_ 1333 Sample_ 1334 Sample_ 1335 Sample_ 1336 Sample_ 1337 Sample_ 1338 \n",
       "     43.7400      43.9105      43.8435      44.2720      44.4325      44.0885 \n",
       "Sample_ 1339 Sample_ 1340 Sample_ 1341 Sample_ 1342 Sample_ 1343 Sample_ 1344 \n",
       "     43.9270      43.9745      44.4410      44.3255      43.6240      44.0815 \n",
       "Sample_ 1345 Sample_ 1346 Sample_ 1347 Sample_ 1348 Sample_ 1349 Sample_ 1350 \n",
       "     43.9495      43.9090      43.9560      43.7310      43.9035      43.6880 \n",
       "Sample_ 1351 Sample_ 1352 Sample_ 1353 Sample_ 1354 Sample_ 1355 Sample_ 1356 \n",
       "     44.1500      44.0145      43.9980      44.1435      43.6555      44.0670 \n",
       "Sample_ 1357 Sample_ 1358 Sample_ 1359 Sample_ 1360 Sample_ 1361 Sample_ 1362 \n",
       "     44.4690      44.0635      44.2870      44.2210      43.8180      44.3315 \n",
       "Sample_ 1363 Sample_ 1364 Sample_ 1365 Sample_ 1366 Sample_ 1367 Sample_ 1368 \n",
       "     44.0945      44.1045      44.1670      44.0815      44.2250      44.3285 \n",
       "Sample_ 1369 Sample_ 1370 Sample_ 1371 Sample_ 1372 Sample_ 1373 Sample_ 1374 \n",
       "     43.8645      43.9105      43.9730      43.8970      43.7760      43.7235 \n",
       "Sample_ 1375 Sample_ 1376 Sample_ 1377 Sample_ 1378 Sample_ 1379 Sample_ 1380 \n",
       "     43.8605      43.7705      43.8845      43.9825      43.8965      43.8310 \n",
       "Sample_ 1381 Sample_ 1382 Sample_ 1383 Sample_ 1384 Sample_ 1385 Sample_ 1386 \n",
       "     44.0310      44.4100      43.7625      43.5605      43.7605      43.5255 \n",
       "Sample_ 1387 Sample_ 1388 Sample_ 1389 Sample_ 1390 Sample_ 1391 Sample_ 1392 \n",
       "     44.3075      43.9935      43.7625      44.4505      44.2325      43.7410 \n",
       "Sample_ 1393 Sample_ 1394 Sample_ 1395 Sample_ 1396 Sample_ 1397 Sample_ 1398 \n",
       "     43.2520      43.6485      43.9325      44.5695      44.3775      44.0900 \n",
       "Sample_ 1399 Sample_ 1400 Sample_ 1401 Sample_ 1402 Sample_ 1403 Sample_ 1404 \n",
       "     44.5920      44.1505      44.1695      44.0295      44.0360      44.0835 \n",
       "Sample_ 1405 Sample_ 1406 Sample_ 1407 Sample_ 1408 Sample_ 1409 Sample_ 1410 \n",
       "     43.8130      45.0565      43.8810      43.5970      44.0710      43.9305 \n",
       "Sample_ 1411 Sample_ 1412 Sample_ 1413 Sample_ 1414 Sample_ 1415 Sample_ 1416 \n",
       "     44.2460      44.3730      44.2240      44.1485      43.8980      44.2490 \n",
       "Sample_ 1417 Sample_ 1418 Sample_ 1419 Sample_ 1420 Sample_ 1421 Sample_ 1422 \n",
       "     43.7975      44.1880      44.2560      43.7165      44.0710      44.0110 \n",
       "Sample_ 1423 Sample_ 1424 Sample_ 1425 Sample_ 1426 Sample_ 1427 Sample_ 1428 \n",
       "     44.7110      43.3705      44.2530      43.8360      44.1060      43.7500 \n",
       "Sample_ 1429 Sample_ 1430 Sample_ 1431 Sample_ 1432 Sample_ 1433 Sample_ 1434 \n",
       "     44.0135      43.7190      43.9035      44.1270      43.7825      44.0195 \n",
       "Sample_ 1435 Sample_ 1436 Sample_ 1437 Sample_ 1438 Sample_ 1439 Sample_ 1440 \n",
       "     44.2170      44.4950      44.2060      44.0635      44.0685      43.9585 \n",
       "Sample_ 1441 Sample_ 1442 Sample_ 1443 Sample_ 1444 Sample_ 1445 Sample_ 1446 \n",
       "     44.8460      44.4215      44.0510      44.0955      44.0125      44.0120 \n",
       "Sample_ 1447 Sample_ 1448 Sample_ 1449 Sample_ 1450 Sample_ 1451 Sample_ 1452 \n",
       "     43.8075      43.8915      44.0250      43.7550      44.5375      44.0490 \n",
       "Sample_ 1453 Sample_ 1454 Sample_ 1455 Sample_ 1456 Sample_ 1457 Sample_ 1458 \n",
       "     44.2750      44.1360      43.4580      44.0550      44.1335      44.6140 \n",
       "Sample_ 1459 Sample_ 1460 Sample_ 1461 Sample_ 1462 Sample_ 1463 Sample_ 1464 \n",
       "     44.4605      44.1280      43.8150      44.0795      43.9650      43.9740 \n",
       "Sample_ 1465 Sample_ 1466 Sample_ 1467 Sample_ 1468 Sample_ 1469 Sample_ 1470 \n",
       "     44.4145      44.1605      44.1460      44.2990      44.2920      44.5400 \n",
       "Sample_ 1471 Sample_ 1472 Sample_ 1473 Sample_ 1474 Sample_ 1475 Sample_ 1476 \n",
       "     44.5010      43.5855      43.7020      44.0715      43.8735      44.1965 \n",
       "Sample_ 1477 Sample_ 1478 Sample_ 1479 Sample_ 1480 Sample_ 1481 Sample_ 1482 \n",
       "     44.3335      44.1405      44.2690      44.3470      44.0465      44.0040 \n",
       "Sample_ 1483 Sample_ 1484 Sample_ 1485 Sample_ 1486 Sample_ 1487 Sample_ 1488 \n",
       "     44.3140      44.1155      44.1440      44.7685      44.0255      44.2080 \n",
       "Sample_ 1489 Sample_ 1490 Sample_ 1491 Sample_ 1492 Sample_ 1493 Sample_ 1494 \n",
       "     44.2240      44.2045      44.0390      44.3420      44.3520      43.7700 \n",
       "Sample_ 1495 Sample_ 1496 Sample_ 1497 Sample_ 1498 Sample_ 1499 Sample_ 1500 \n",
       "     44.2960      44.1455      43.4930      44.0445      44.2470      44.4085 "
      ]
     },
     "metadata": {},
     "output_type": "display_data"
    }
   ],
   "source": [
    "colMeans(sample_dataset)"
   ]
  },
  {
   "cell_type": "markdown",
   "id": "d38ddeed-e2fc-4038-83c4-638abc699d09",
   "metadata": {},
   "source": [
    "> The Central Limit Theorem states that, **with increasing sample size, the distribution of sample means approaches a normal distribution** with mean equal to the population mean and standard deviation equal to the standard deviation of the original variable divided by the square root of the sample size. This fact is guaranteed for n greater than or equal to 30."
   ]
  },
  {
   "cell_type": "code",
   "execution_count": 94,
   "id": "26199694-fbaf-443f-b68e-1c01593e297c",
   "metadata": {},
   "outputs": [
    {
     "data": {
      "image/png": "[encoded data removed]",
      "text/plain": [
       "Plot with title “Histogram of the Middle Ages”"
      ]
     },
     "metadata": {
      "image/png": {
       "height": 300,
       "width": 600
      }
     },
     "output_type": "display_data"
    }
   ],
   "source": [
    "hist(\n",
    "    x=colMeans(sample_dataset),\n",
    "    main='Histogram of the Middle Ages',\n",
    "    xlab='Age',\n",
    "    ylab='Frequency'\n",
    ")"
   ]
  },
  {
   "cell_type": "markdown",
   "id": "83742c4a-2a74-4298-9004-a41c1576524c",
   "metadata": {},
   "source": [
    "> The Central Limit Theorem states that, with increasing sample size, the distribution of sample means approaches a normal distribution **with mean equal to the population mean** and standard deviation equal to the standard deviation of the original variable divided by the square root of the sample size. This fact is guaranteed for n greater than or equal to 30."
   ]
  },
  {
   "cell_type": "code",
   "execution_count": 95,
   "id": "0380b36f-9450-4b64-af7a-b3e04e733903",
   "metadata": {},
   "outputs": [
    {
     "data": {
      "text/html": [
       "44.0714211348256"
      ],
      "text/latex": [
       "44.0714211348256"
      ],
      "text/markdown": [
       "44.0714211348256"
      ],
      "text/plain": [
       "[1] 44.07142"
      ]
     },
     "metadata": {},
     "output_type": "display_data"
    }
   ],
   "source": [
    "mean(dataset$Age)"
   ]
  },
  {
   "cell_type": "code",
   "execution_count": 96,
   "id": "15be726b-131c-4780-b8ed-f3453b5e66d5",
   "metadata": {},
   "outputs": [
    {
     "data": {
      "text/html": [
       "44.0784566666667"
      ],
      "text/latex": [
       "44.0784566666667"
      ],
      "text/markdown": [
       "44.0784566666667"
      ],
      "text/plain": [
       "[1] 44.07846"
      ]
     },
     "metadata": {},
     "output_type": "display_data"
    }
   ],
   "source": [
    "mean(colMeans(sample_dataset))"
   ]
  },
  {
   "cell_type": "markdown",
   "id": "479f1f14-7801-4dba-941e-3803e4db511b",
   "metadata": {},
   "source": [
    "> The Central Limit Theorem states that, with increasing sample size, the distribution of sample means approaches a normal distribution with a mean equal to the population mean and **standard deviation equal to the standard deviation of the original variable divided by the root square of the sample size**. This fact is guaranteed for n greater than or equal to 30.\n",
    "\n",
    "# $$\\sigma_\\bar{x} = \\frac{\\sigma}{\\sqrt{n}}$$"
   ]
  },
  {
   "cell_type": "code",
   "execution_count": 97,
   "id": "b0fd944f-7a9f-4911-89e2-05f802caf3e7",
   "metadata": {},
   "outputs": [
    {
     "data": {
      "text/html": [
       "0.281026190242043"
      ],
      "text/latex": [
       "0.281026190242043"
      ],
      "text/markdown": [
       "0.281026190242043"
      ],
      "text/plain": [
       "[1] 0.2810262"
      ]
     },
     "metadata": {},
     "output_type": "display_data"
    }
   ],
   "source": [
    "sd(colMeans(sample_dataset))"
   ]
  },
  {
   "cell_type": "code",
   "execution_count": 98,
   "id": "c9b7379b-517c-4fd2-874f-225cf52cd6dd",
   "metadata": {},
   "outputs": [
    {
     "data": {
      "text/html": [
       "0.279074330274043"
      ],
      "text/latex": [
       "0.279074330274043"
      ],
      "text/markdown": [
       "0.279074330274043"
      ],
      "text/plain": [
       "[1] 0.2790743"
      ]
     },
     "metadata": {},
     "output_type": "display_data"
    }
   ],
   "source": [
    "sd(dataset$Age) / sqrt(n)"
   ]
  },
  {
   "cell_type": "markdown",
   "id": "209dc932-8c7b-4ce3-abf9-5173eea1a008",
   "metadata": {},
   "source": [
    "***\n",
    "## <font color='lightgreen'>Confidence And Significance Levels</font>"
   ]
  },
  {
   "cell_type": "markdown",
   "id": "3d14f572-a623-44e9-a630-6668194e27b5",
   "metadata": {},
   "source": [
    "The **confidence level** ($1 - \\alpha$) represents the probability of the estimate being correct. In a complementary way, the **significance level** ($\\alpha$) expresses the probability of error in the estimate.\n",
    "\n",
    "The **confidence level** represents the degree of reliability of the estimation result being within a certain range. When we set a **confidence level** of 95% in a survey, for example, we are assuming that there is a 95% probability that the survey results represent reality well, that is, they are correct.\n",
    "\n",
    "The **confidence level** of an estimate can be obtained from the area under the normal curve as illustrated in the figure below."
   ]
  },
  {
   "cell_type": "markdown",
   "id": "467b83d6-6b14-4530-94e7-1095d980a15b",
   "metadata": {},
   "source": [
    "![alt text](https://caelum-online-public.s3.amazonaws.com/1178-estatistica-parte2/01/img007.png)"
   ]
  },
  {
   "cell_type": "markdown",
   "id": "3f2bf289-8195-497f-9e67-2236291ae988",
   "metadata": {},
   "source": [
    "***\n",
    "## <font color='lightgreen'>Inferential Error</font>"
   ]
  },
  {
   "cell_type": "markdown",
   "id": "8c25f55d-d415-476e-8600-4a940d58c331",
   "metadata": {},
   "source": [
    "The **inferential error** is defined by the **standard deviation of the sample means** $\\sigma_\\bar{x}$ and the **confidence level** determined for the process."
   ]
  },
  {
   "cell_type": "markdown",
   "id": "9546112a-b03e-406c-a946-5052572cc0fb",
   "metadata": {},
   "source": [
    "#### With known population standard deviation\n",
    "\n",
    "## $$\\mu = \\bar{x} \\pm z\\frac{\\sigma}{\\sqrt{n}}$$\n",
    "\n",
    "#### With unknown population standard deviation\n",
    "\n",
    "## $$\\mu = \\bar{x} \\pm z\\frac{s}{\\sqrt{n}}$$"
   ]
  },
  {
   "cell_type": "markdown",
   "id": "61eac180-570d-4181-8214-1b8708bb3c9b",
   "metadata": {},
   "source": [
    "***\n",
    "### <font color='purple'>Example Problem: Rice Bags</font>"
   ]
  },
  {
   "cell_type": "markdown",
   "id": "57212aab-2854-43ad-96bf-2dd7f0be9690",
   "metadata": {},
   "source": [
    "Suppose that the weights of bags of rice in a food industry are distributed approximately as a normal of **population standard deviation equal to 150 g**. Selecting a **random sample of 20 bags** from a specific batch, an **average weight of 5,050 g** was obtained. Construct a confidence interval for the **population mean** assuming a **significance level of 5%**."
   ]
  },
  {
   "cell_type": "code",
   "execution_count": 99,
   "id": "d4459309-f2e1-4b60-8b9c-bd7397a675ec",
   "metadata": {},
   "outputs": [
    {
     "data": {
      "text/html": [
       "5050"
      ],
      "text/latex": [
       "5050"
      ],
      "text/markdown": [
       "5050"
      ],
      "text/plain": [
       "[1] 5050"
      ]
     },
     "metadata": {},
     "output_type": "display_data"
    }
   ],
   "source": [
    "mean <- 5050\n",
    "mean"
   ]
  },
  {
   "cell_type": "code",
   "execution_count": 100,
   "id": "e045fd83-a3f6-4dd7-b3df-c9341a33d9ac",
   "metadata": {},
   "outputs": [
    {
     "data": {
      "text/html": [
       "0.05"
      ],
      "text/latex": [
       "0.05"
      ],
      "text/markdown": [
       "0.05"
      ],
      "text/plain": [
       "[1] 0.05"
      ]
     },
     "metadata": {},
     "output_type": "display_data"
    }
   ],
   "source": [
    "meaningfulness <- 0.05\n",
    "meaningfulness"
   ]
  },
  {
   "cell_type": "code",
   "execution_count": 101,
   "id": "7ed1cc09-45a6-46f3-b67b-029fed372905",
   "metadata": {},
   "outputs": [
    {
     "data": {
      "text/html": [
       "0.95"
      ],
      "text/latex": [
       "0.95"
      ],
      "text/markdown": [
       "0.95"
      ],
      "text/plain": [
       "[1] 0.95"
      ]
     },
     "metadata": {},
     "output_type": "display_data"
    }
   ],
   "source": [
    "confidence <- 1 - meaningfulness\n",
    "confidence"
   ]
  },
  {
   "cell_type": "code",
   "execution_count": 102,
   "id": "ebdecc2a-1100-4fe4-90c7-abfd30b75606",
   "metadata": {},
   "outputs": [
    {
     "data": {
      "text/html": [
       "1.95996398454005"
      ],
      "text/latex": [
       "1.95996398454005"
      ],
      "text/markdown": [
       "1.95996398454005"
      ],
      "text/plain": [
       "[1] 1.959964"
      ]
     },
     "metadata": {},
     "output_type": "display_data"
    }
   ],
   "source": [
    "Z <- qnorm(0.5 + (confidence / 2))\n",
    "Z"
   ]
  },
  {
   "cell_type": "code",
   "execution_count": 103,
   "id": "6871735f-75d7-4819-9b53-531c27345c68",
   "metadata": {},
   "outputs": [
    {
     "data": {
      "text/html": [
       "150"
      ],
      "text/latex": [
       "150"
      ],
      "text/markdown": [
       "150"
      ],
      "text/plain": [
       "[1] 150"
      ]
     },
     "metadata": {},
     "output_type": "display_data"
    }
   ],
   "source": [
    "sd <- 150\n",
    "sd"
   ]
  },
  {
   "cell_type": "code",
   "execution_count": 104,
   "id": "c23acf2d-cdc2-4855-b3d8-f99157f370d5",
   "metadata": {},
   "outputs": [
    {
     "data": {
      "text/html": [
       "20"
      ],
      "text/latex": [
       "20"
      ],
      "text/markdown": [
       "20"
      ],
      "text/plain": [
       "[1] 20"
      ]
     },
     "metadata": {},
     "output_type": "display_data"
    }
   ],
   "source": [
    "n <- 20\n",
    "n"
   ]
  },
  {
   "cell_type": "code",
   "execution_count": 105,
   "id": "4e0a9cee-d7ed-418b-b659-77059c864f0c",
   "metadata": {},
   "outputs": [
    {
     "data": {
      "text/html": [
       "33.5410196624968"
      ],
      "text/latex": [
       "33.5410196624968"
      ],
      "text/markdown": [
       "33.5410196624968"
      ],
      "text/plain": [
       "[1] 33.54102"
      ]
     },
     "metadata": {},
     "output_type": "display_data"
    }
   ],
   "source": [
    "sigma <- sd/(sqrt(n))\n",
    "sigma"
   ]
  },
  {
   "cell_type": "code",
   "execution_count": 106,
   "id": "8d85f1ec-fd55-438c-baf5-5d4335a1ddd6",
   "metadata": {},
   "outputs": [
    {
     "data": {
      "text/html": [
       "65.7391905432436"
      ],
      "text/latex": [
       "65.7391905432436"
      ],
      "text/markdown": [
       "65.7391905432436"
      ],
      "text/plain": [
       "[1] 65.73919"
      ]
     },
     "metadata": {},
     "output_type": "display_data"
    }
   ],
   "source": [
    "e <- Z * sigma\n",
    "e"
   ]
  },
  {
   "cell_type": "code",
   "execution_count": 107,
   "id": "fb5d4c72-0659-4c87-b73a-8b4584c0c1c0",
   "metadata": {},
   "outputs": [
    {
     "data": {
      "text/html": [
       "<style>\n",
       ".list-inline {list-style: none; margin:0; padding: 0}\n",
       ".list-inline>li {display: inline-block}\n",
       ".list-inline>li:not(:last-child)::after {content: \"\\00b7\"; padding: 0 .5ex}\n",
       "</style>\n",
       "<ol class=list-inline><li>4984.26080945676</li><li>5115.73919054324</li></ol>\n"
      ],
      "text/latex": [
       "\\begin{enumerate*}\n",
       "\\item 4984.26080945676\n",
       "\\item 5115.73919054324\n",
       "\\end{enumerate*}\n"
      ],
      "text/markdown": [
       "1. 4984.26080945676\n",
       "2. 5115.73919054324\n",
       "\n",
       "\n"
      ],
      "text/plain": [
       "[1] 4984.261 5115.739"
      ]
     },
     "metadata": {},
     "output_type": "display_data"
    }
   ],
   "source": [
    "interval <- c(\n",
    "    mean - e,\n",
    "    mean + e\n",
    ")\n",
    "interval"
   ]
  },
  {
   "cell_type": "markdown",
   "id": "7c7d4776-8de6-4b42-a4a4-23da1a0ea369",
   "metadata": {},
   "source": [
    "### Using DescTools to solve the problem"
   ]
  },
  {
   "cell_type": "code",
   "execution_count": 108,
   "id": "9f5cef4a-6bbb-4f0e-9df7-321179bc2b2b",
   "metadata": {},
   "outputs": [
    {
     "data": {
      "text/html": [
       "<style>\n",
       ".dl-inline {width: auto; margin:0; padding: 0}\n",
       ".dl-inline>dt, .dl-inline>dd {float: none; width: auto; display: inline-block}\n",
       ".dl-inline>dt::after {content: \":\\0020\"; padding-right: .5ex}\n",
       ".dl-inline>dt:not(:first-of-type) {padding-left: .5ex}\n",
       "</style><dl class=dl-inline><dt>mean</dt><dd>5050</dd><dt>lwr.ci</dt><dd>4984.26080945676</dd><dt>upr.ci</dt><dd>5115.73919054324</dd></dl>\n"
      ],
      "text/latex": [
       "\\begin{description*}\n",
       "\\item[mean] 5050\n",
       "\\item[lwr.ci] 4984.26080945676\n",
       "\\item[upr.ci] 5115.73919054324\n",
       "\\end{description*}\n"
      ],
      "text/markdown": [
       "mean\n",
       ":   5050lwr.ci\n",
       ":   4984.26080945676upr.ci\n",
       ":   5115.73919054324\n",
       "\n"
      ],
      "text/plain": [
       "    mean   lwr.ci   upr.ci \n",
       "5050.000 4984.261 5115.739 "
      ]
     },
     "metadata": {},
     "output_type": "display_data"
    }
   ],
   "source": [
    "MeanCI(x=5050, sd=sigma, type='norm', conf.level=0.95, sides='two.sided')"
   ]
  },
  {
   "cell_type": "markdown",
   "id": "e6343d7c-33c9-4ad4-a5d3-ad35f0388ad2",
   "metadata": {},
   "source": [
    "***\n",
    "### <font color='purple'>Calculate Dataset</font>"
   ]
  },
  {
   "cell_type": "code",
   "execution_count": 109,
   "id": "ddcda183-cb74-4561-82ad-3deeed586914",
   "metadata": {},
   "outputs": [
    {
     "data": {
      "text/html": [
       "0.0450237029996855"
      ],
      "text/latex": [
       "0.0450237029996855"
      ],
      "text/markdown": [
       "0.0450237029996855"
      ],
      "text/plain": [
       "[1] 0.0450237"
      ]
     },
     "metadata": {},
     "output_type": "display_data"
    }
   ],
   "source": [
    "sigma <- sd(dataset$Age) / sqrt(nrow(dataset))\n",
    "sigma"
   ]
  },
  {
   "cell_type": "code",
   "execution_count": 110,
   "id": "127a3e5d-da3d-49b1-9064-4d98c40652b3",
   "metadata": {},
   "outputs": [
    {
     "data": {
      "text/html": [
       "<style>\n",
       ".dl-inline {width: auto; margin:0; padding: 0}\n",
       ".dl-inline>dt, .dl-inline>dd {float: none; width: auto; display: inline-block}\n",
       ".dl-inline>dt::after {content: \":\\0020\"; padding-right: .5ex}\n",
       ".dl-inline>dt:not(:first-of-type) {padding-left: .5ex}\n",
       "</style><dl class=dl-inline><dt>mean</dt><dd>44.0714211348256</dd><dt>lwr.ci</dt><dd>43.9831762984956</dd><dt>upr.ci</dt><dd>44.1596659711556</dd></dl>\n"
      ],
      "text/latex": [
       "\\begin{description*}\n",
       "\\item[mean] 44.0714211348256\n",
       "\\item[lwr.ci] 43.9831762984956\n",
       "\\item[upr.ci] 44.1596659711556\n",
       "\\end{description*}\n"
      ],
      "text/markdown": [
       "mean\n",
       ":   44.0714211348256lwr.ci\n",
       ":   43.9831762984956upr.ci\n",
       ":   44.1596659711556\n",
       "\n"
      ],
      "text/plain": [
       "    mean   lwr.ci   upr.ci \n",
       "44.07142 43.98318 44.15967 "
      ]
     },
     "metadata": {},
     "output_type": "display_data"
    }
   ],
   "source": [
    "MeanCI(x=mean(dataset$Age), sd=sigma, type='norm', conf.level=0.95, sides='two.sided')"
   ]
  },
  {
   "cell_type": "markdown",
   "id": "c43e6da1-20aa-4d6a-bb3e-bdb26beeb04e",
   "metadata": {},
   "source": [
    "***\n",
    "## <font color='purple'> List of Examples</font>"
   ]
  },
  {
   "cell_type": "markdown",
   "id": "c8bf603b-df6e-42c6-929d-afe8e018f493",
   "metadata": {},
   "source": [
    "***\n",
    "## <font color='purple'> Margin of error: Fast Food</font>"
   ]
  },
  {
   "cell_type": "markdown",
   "id": "c6d079d0-f7f8-4bfb-a7db-e73843adfe3a",
   "metadata": {},
   "source": [
    "To estimate the average amount spent by each customer of a large fast food chain, a sample of **50 customers** was selected. Assuming that the standard deviation value of the population is **R$ 6.00** and that this population is normally distributed, obtain the margin of error for this estimate, for a **confidence level of 95%.**"
   ]
  },
  {
   "cell_type": "code",
   "execution_count": 111,
   "id": "2f24ed88-eea4-4f47-a418-e101b17ff369",
   "metadata": {},
   "outputs": [
    {
     "data": {
      "text/html": [
       "50"
      ],
      "text/latex": [
       "50"
      ],
      "text/markdown": [
       "50"
      ],
      "text/plain": [
       "[1] 50"
      ]
     },
     "metadata": {},
     "output_type": "display_data"
    }
   ],
   "source": [
    "n <- 50\n",
    "n"
   ]
  },
  {
   "cell_type": "code",
   "execution_count": 112,
   "id": "a6af2f11-f22a-466b-94de-4918df9ce749",
   "metadata": {},
   "outputs": [
    {
     "data": {
      "text/html": [
       "6"
      ],
      "text/latex": [
       "6"
      ],
      "text/markdown": [
       "6"
      ],
      "text/plain": [
       "[1] 6"
      ]
     },
     "metadata": {},
     "output_type": "display_data"
    }
   ],
   "source": [
    "sd <- 6.00\n",
    "sd"
   ]
  },
  {
   "cell_type": "code",
   "execution_count": 113,
   "id": "e4ab82e6-f03e-4759-8f5a-8c2a7afab202",
   "metadata": {},
   "outputs": [
    {
     "data": {
      "text/html": [
       "0.95"
      ],
      "text/latex": [
       "0.95"
      ],
      "text/markdown": [
       "0.95"
      ],
      "text/plain": [
       "[1] 0.95"
      ]
     },
     "metadata": {},
     "output_type": "display_data"
    }
   ],
   "source": [
    "confidence <- 0.95\n",
    "confidence"
   ]
  },
  {
   "cell_type": "code",
   "execution_count": 114,
   "id": "1303ed62-dfdb-4cd1-bfb7-9f35dd00cf7b",
   "metadata": {},
   "outputs": [
    {
     "data": {
      "text/html": [
       "1.95996398454005"
      ],
      "text/latex": [
       "1.95996398454005"
      ],
      "text/markdown": [
       "1.95996398454005"
      ],
      "text/plain": [
       "[1] 1.959964"
      ]
     },
     "metadata": {},
     "output_type": "display_data"
    }
   ],
   "source": [
    "Z <- qnorm(0.5 + (0.95 / 2))\n",
    "Z"
   ]
  },
  {
   "cell_type": "code",
   "execution_count": 115,
   "id": "2f6f657e-04c4-4807-a0d9-5a27e5313212",
   "metadata": {},
   "outputs": [
    {
     "data": {
      "text/html": [
       "1.66"
      ],
      "text/latex": [
       "1.66"
      ],
      "text/markdown": [
       "1.66"
      ],
      "text/plain": [
       "[1] 1.66"
      ]
     },
     "metadata": {},
     "output_type": "display_data"
    }
   ],
   "source": [
    "e <- Z * (sd / (sqrt(n)))\n",
    "round(e, 2)"
   ]
  },
  {
   "cell_type": "markdown",
   "id": "efdeb3c0-b8da-4847-90a9-054242a81086",
   "metadata": {},
   "source": [
    "***\n",
    "## <font color='purple'> Margin of error: Population Average</font>"
   ]
  },
  {
   "cell_type": "markdown",
   "id": "0c8b4d43-1397-4274-aa2a-f5831a836563",
   "metadata": {},
   "source": [
    "Uma amostra aleatória simples de **1976** itens de uma população normalmente distribuída, com desvio padrão igual a **11**, resultou em uma média amostral de **28**. Qual o intervalo de confiança de **90%** para a média populacional?\n",
    "\n",
    "A simple random sample of **1976** items from a normally distributed population, with standard deviation equal to **11**, resulted in a sample mean of **28**. What is the **90%** confidence interval for the population mean?"
   ]
  },
  {
   "cell_type": "code",
   "execution_count": 116,
   "id": "389dcc9d-771a-4e20-8c40-983d410a88d0",
   "metadata": {},
   "outputs": [
    {
     "data": {
      "text/html": [
       "1976"
      ],
      "text/latex": [
       "1976"
      ],
      "text/markdown": [
       "1976"
      ],
      "text/plain": [
       "[1] 1976"
      ]
     },
     "metadata": {},
     "output_type": "display_data"
    }
   ],
   "source": [
    "n <- 1976\n",
    "n"
   ]
  },
  {
   "cell_type": "code",
   "execution_count": 117,
   "id": "178f1b1c-0893-48eb-9d4c-b7a5e3007301",
   "metadata": {},
   "outputs": [
    {
     "data": {
      "text/html": [
       "11"
      ],
      "text/latex": [
       "11"
      ],
      "text/markdown": [
       "11"
      ],
      "text/plain": [
       "[1] 11"
      ]
     },
     "metadata": {},
     "output_type": "display_data"
    }
   ],
   "source": [
    "sd <- 11\n",
    "sd"
   ]
  },
  {
   "cell_type": "code",
   "execution_count": 118,
   "id": "8fee7f34-4941-48f7-9c49-c0ddfbb131f1",
   "metadata": {},
   "outputs": [
    {
     "data": {
      "text/html": [
       "28"
      ],
      "text/latex": [
       "28"
      ],
      "text/markdown": [
       "28"
      ],
      "text/plain": [
       "[1] 28"
      ]
     },
     "metadata": {},
     "output_type": "display_data"
    }
   ],
   "source": [
    "mean <- 28\n",
    "mean"
   ]
  },
  {
   "cell_type": "code",
   "execution_count": 119,
   "id": "59fda4b5-1d5e-405b-b047-f3188b5196d4",
   "metadata": {},
   "outputs": [
    {
     "data": {
      "text/html": [
       "0.247456698866216"
      ],
      "text/latex": [
       "0.247456698866216"
      ],
      "text/markdown": [
       "0.247456698866216"
      ],
      "text/plain": [
       "[1] 0.2474567"
      ]
     },
     "metadata": {},
     "output_type": "display_data"
    }
   ],
   "source": [
    "sigma <- sd / (sqrt(n))\n",
    "sigma"
   ]
  },
  {
   "cell_type": "code",
   "execution_count": 120,
   "id": "d2becb73-c98a-473a-9b0a-2b0be4ccac4c",
   "metadata": {},
   "outputs": [
    {
     "data": {
      "text/html": [
       "<style>\n",
       ".dl-inline {width: auto; margin:0; padding: 0}\n",
       ".dl-inline>dt, .dl-inline>dd {float: none; width: auto; display: inline-block}\n",
       ".dl-inline>dt::after {content: \":\\0020\"; padding-right: .5ex}\n",
       ".dl-inline>dt:not(:first-of-type) {padding-left: .5ex}\n",
       "</style><dl class=dl-inline><dt>mean</dt><dd>28</dd><dt>lwr.ci</dt><dd>27.514993782489</dd><dt>upr.ci</dt><dd>28.485006217511</dd></dl>\n"
      ],
      "text/latex": [
       "\\begin{description*}\n",
       "\\item[mean] 28\n",
       "\\item[lwr.ci] 27.514993782489\n",
       "\\item[upr.ci] 28.485006217511\n",
       "\\end{description*}\n"
      ],
      "text/markdown": [
       "mean\n",
       ":   28lwr.ci\n",
       ":   27.514993782489upr.ci\n",
       ":   28.485006217511\n",
       "\n"
      ],
      "text/plain": [
       "    mean   lwr.ci   upr.ci \n",
       "28.00000 27.51499 28.48501 "
      ]
     },
     "metadata": {},
     "output_type": "display_data"
    }
   ],
   "source": [
    "MeanCI(x=mean, sd=sigma, type='norm', conf.level=0.95, sides='two.sided')"
   ]
  },
  {
   "cell_type": "markdown",
   "id": "918d3ec6-1469-48a2-a258-66eb1d8551e8",
   "metadata": {},
   "source": [
    "***\n",
    "## <font color='purple'> Traveling By Plane</font>"
   ]
  },
  {
   "cell_type": "markdown",
   "id": "8cd762cd-0cfc-40c3-a4f2-2d6533825f57",
   "metadata": {},
   "source": [
    "Flights on a given air shuttle have a normally distributed duration, with **average equal to 120 minutes** and **standard deviation equal to 20 minutes**. Answer the following questions:\n",
    "\n",
    "1-What is the probability of a flight lasting less than 110 minutes?\n",
    "\n",
    "2-What is the probability of a flight lasting more than 90 minutes?\n",
    "\n",
    "3-What is the minimum duration of 80% of trips?\n",
    "\n",
    "Note: In question 3, we need to obtain the Z that satisfies the condition and then transform Z to x."
   ]
  },
  {
   "cell_type": "markdown",
   "id": "0224b57a-11e0-4cd5-b436-d1128d2114ac",
   "metadata": {},
   "source": [
    "***\n",
    "### <font color='purple'>Problem: '1'</font>"
   ]
  },
  {
   "cell_type": "markdown",
   "id": "037ac02a-d1a0-4a37-9e25-8164559be74d",
   "metadata": {},
   "source": [
    "1-What is the probability of a flight lasting less than 110 minutes?"
   ]
  },
  {
   "cell_type": "code",
   "execution_count": 121,
   "id": "90c641f3-b3dc-48b2-a42f-cfed1d74913d",
   "metadata": {
    "scrolled": true
   },
   "outputs": [
    {
     "data": {
      "text/html": [
       "120"
      ],
      "text/latex": [
       "120"
      ],
      "text/markdown": [
       "120"
      ],
      "text/plain": [
       "[1] 120"
      ]
     },
     "metadata": {},
     "output_type": "display_data"
    }
   ],
   "source": [
    "mean <- 120\n",
    "mean"
   ]
  },
  {
   "cell_type": "code",
   "execution_count": 122,
   "id": "231ccfa2-c8fc-4ee1-b7b9-27bd7d1d9e72",
   "metadata": {},
   "outputs": [
    {
     "data": {
      "text/html": [
       "20"
      ],
      "text/latex": [
       "20"
      ],
      "text/markdown": [
       "20"
      ],
      "text/plain": [
       "[1] 20"
      ]
     },
     "metadata": {},
     "output_type": "display_data"
    }
   ],
   "source": [
    "sd <- 20\n",
    "sd"
   ]
  },
  {
   "cell_type": "code",
   "execution_count": 123,
   "id": "464dd531-877e-48d8-af4d-16f413949781",
   "metadata": {},
   "outputs": [
    {
     "data": {
      "text/html": [
       "110"
      ],
      "text/latex": [
       "110"
      ],
      "text/markdown": [
       "110"
      ],
      "text/plain": [
       "[1] 110"
      ]
     },
     "metadata": {},
     "output_type": "display_data"
    }
   ],
   "source": [
    "x <- 110\n",
    "x"
   ]
  },
  {
   "cell_type": "code",
   "execution_count": 124,
   "id": "1b57ba48-977f-443f-8d7a-98268225f9c8",
   "metadata": {},
   "outputs": [
    {
     "data": {
      "text/html": [
       "-0.5"
      ],
      "text/latex": [
       "-0.5"
      ],
      "text/markdown": [
       "-0.5"
      ],
      "text/plain": [
       "[1] -0.5"
      ]
     },
     "metadata": {},
     "output_type": "display_data"
    }
   ],
   "source": [
    "Z <- (x- mean) / sd\n",
    "Z"
   ]
  },
  {
   "cell_type": "code",
   "execution_count": 125,
   "id": "40840472-3812-4311-9133-a4e8365ec7e9",
   "metadata": {},
   "outputs": [
    {
     "data": {
      "text/html": [
       "30.85"
      ],
      "text/latex": [
       "30.85"
      ],
      "text/markdown": [
       "30.85"
      ],
      "text/plain": [
       "[1] 30.85"
      ]
     },
     "metadata": {},
     "output_type": "display_data"
    }
   ],
   "source": [
    "probability <- pnorm(Z)\n",
    "round(probability, 4) * 100"
   ]
  },
  {
   "cell_type": "markdown",
   "id": "5f85c68b-7249-4f6c-82a4-9c7194aa9ab0",
   "metadata": {},
   "source": [
    "***\n",
    "### <font color='purple'>Problem: '2'</font>"
   ]
  },
  {
   "cell_type": "markdown",
   "id": "2c373681-cb72-4a12-8c14-2d16d9d95485",
   "metadata": {},
   "source": [
    "2-What is the probability of a flight lasting more than 90 minutes?"
   ]
  },
  {
   "cell_type": "code",
   "execution_count": 126,
   "id": "c25a2d04-b700-4f7b-acdd-a17b75ed2326",
   "metadata": {
    "scrolled": true
   },
   "outputs": [
    {
     "data": {
      "text/html": [
       "120"
      ],
      "text/latex": [
       "120"
      ],
      "text/markdown": [
       "120"
      ],
      "text/plain": [
       "[1] 120"
      ]
     },
     "metadata": {},
     "output_type": "display_data"
    }
   ],
   "source": [
    "mean <- 120\n",
    "mean"
   ]
  },
  {
   "cell_type": "code",
   "execution_count": 127,
   "id": "ed1e767d-9ab5-42b8-b633-24cb7b4dcc81",
   "metadata": {},
   "outputs": [
    {
     "data": {
      "text/html": [
       "20"
      ],
      "text/latex": [
       "20"
      ],
      "text/markdown": [
       "20"
      ],
      "text/plain": [
       "[1] 20"
      ]
     },
     "metadata": {},
     "output_type": "display_data"
    }
   ],
   "source": [
    "sd <- 20\n",
    "sd"
   ]
  },
  {
   "cell_type": "code",
   "execution_count": 128,
   "id": "f315a343-70c1-4e38-8d1b-4df719f97ea1",
   "metadata": {},
   "outputs": [
    {
     "data": {
      "text/html": [
       "90"
      ],
      "text/latex": [
       "90"
      ],
      "text/markdown": [
       "90"
      ],
      "text/plain": [
       "[1] 90"
      ]
     },
     "metadata": {},
     "output_type": "display_data"
    }
   ],
   "source": [
    "x <- 90\n",
    "x"
   ]
  },
  {
   "cell_type": "code",
   "execution_count": 129,
   "id": "dff08dae-a8c8-4ceb-8b13-75072b94e56a",
   "metadata": {},
   "outputs": [
    {
     "data": {
      "text/html": [
       "-1.5"
      ],
      "text/latex": [
       "-1.5"
      ],
      "text/markdown": [
       "-1.5"
      ],
      "text/plain": [
       "[1] -1.5"
      ]
     },
     "metadata": {},
     "output_type": "display_data"
    }
   ],
   "source": [
    "Z <- (x- mean) / sd\n",
    "Z"
   ]
  },
  {
   "cell_type": "code",
   "execution_count": 130,
   "id": "80f29934-b42e-4550-9399-2d6a6183aa58",
   "metadata": {},
   "outputs": [
    {
     "data": {
      "text/html": [
       "93.32"
      ],
      "text/latex": [
       "93.32"
      ],
      "text/markdown": [
       "93.32"
      ],
      "text/plain": [
       "[1] 93.32"
      ]
     },
     "metadata": {},
     "output_type": "display_data"
    }
   ],
   "source": [
    "probability <- pnorm(-Z)\n",
    "round(probability, 4) * 100"
   ]
  },
  {
   "cell_type": "markdown",
   "id": "58620f48-872f-4e1d-bcbf-f8074569b571",
   "metadata": {},
   "source": [
    "***\n",
    "### <font color='purple'>Problem: '3'</font>"
   ]
  },
  {
   "cell_type": "markdown",
   "id": "a966881f-50ec-4ddf-aa50-e456c8b32a72",
   "metadata": {},
   "source": [
    "3-What is the minimum duration of 80% of trips?"
   ]
  },
  {
   "cell_type": "code",
   "execution_count": 131,
   "id": "dfa3131b-5011-4a40-bdd2-d3efec2d96ce",
   "metadata": {},
   "outputs": [
    {
     "data": {
      "text/html": [
       "-0.841621233572914"
      ],
      "text/latex": [
       "-0.841621233572914"
      ],
      "text/markdown": [
       "-0.841621233572914"
      ],
      "text/plain": [
       "[1] -0.8416212"
      ]
     },
     "metadata": {},
     "output_type": "display_data"
    }
   ],
   "source": [
    "Z <- -qnorm(0.8)\n",
    "Z"
   ]
  },
  {
   "cell_type": "code",
   "execution_count": 132,
   "id": "cd2a833d-ab5c-4c01-a8e9-39659eb7109a",
   "metadata": {},
   "outputs": [
    {
     "data": {
      "text/html": [
       "103.17"
      ],
      "text/latex": [
       "103.17"
      ],
      "text/markdown": [
       "103.17"
      ],
      "text/plain": [
       "[1] 103.17"
      ]
     },
     "metadata": {},
     "output_type": "display_data"
    }
   ],
   "source": [
    "x <- Z * sd + mean\n",
    "round(x, 2)"
   ]
  },
  {
   "cell_type": "markdown",
   "id": "efa77a51-050b-447f-a48f-500af6c3ad0f",
   "metadata": {},
   "source": [
    "***\n",
    "## <font color='lightgreen'>Sample Size Calculation</font>"
   ]
  },
  {
   "cell_type": "markdown",
   "id": "538b19db-1f51-4ef3-9290-f18662b07b90",
   "metadata": {},
   "source": [
    "***\n",
    "## <font color='lightgreen'>Quantitative Variables And Infinite Population</font>"
   ]
  },
  {
   "cell_type": "markdown",
   "id": "842302f4-237b-49b3-b844-b53ce00db69c",
   "metadata": {},
   "source": [
    "#### With known standard deviation\n",
    "\n",
    "## $$n = \\left(z\\frac{\\sigma}{e}\\right)^2$$\n",
    "\n",
    "#### With unknown standard deviation\n",
    "\n",
    "## $$n = \\left(z\\frac{s}{e}\\right)^2$$\n",
    "\n",
    "Where:\n",
    "\n",
    "$z$ = standardized normal variable\n",
    "\n",
    "$\\sigma$ = population standard deviation\n",
    "\n",
    "$s$ = sample standard deviation\n",
    "\n",
    "$e$ = inferential error"
   ]
  },
  {
   "cell_type": "markdown",
   "id": "2ed5465f-7dda-478a-8277-a5fdc6127189",
   "metadata": {},
   "source": [
    "***\n",
    "### <font color='purple'>Example Problem: Average income</font>"
   ]
  },
  {
   "cell_type": "markdown",
   "id": "7582e9a8-ab42-4511-baaf-cee0b155de61",
   "metadata": {},
   "source": [
    "We are studying the monthly income of heads of households in Brazil. Our supervisor determined that the **maximum error in relation to the average is R$\\$$ 100.00**. We know that the **population standard deviation** of this group of workers is **R$\\$$ 3,323.39**. For a **95% confidence level**, what should our study sample size be?"
   ]
  },
  {
   "cell_type": "code",
   "execution_count": 133,
   "id": "10891931-1f1f-46e2-9ead-04b5ba3d8d8f",
   "metadata": {},
   "outputs": [
    {
     "data": {
      "text/html": [
       "1.95996398454005"
      ],
      "text/latex": [
       "1.95996398454005"
      ],
      "text/markdown": [
       "1.95996398454005"
      ],
      "text/plain": [
       "[1] 1.959964"
      ]
     },
     "metadata": {},
     "output_type": "display_data"
    }
   ],
   "source": [
    "Z <- qnorm(0.5 + (0.95 / 2))\n",
    "Z"
   ]
  },
  {
   "cell_type": "code",
   "execution_count": 134,
   "id": "ee8668a6-c7cc-465e-888a-a20573b27f9d",
   "metadata": {},
   "outputs": [
    {
     "data": {
      "text/html": [
       "3323.39"
      ],
      "text/latex": [
       "3323.39"
      ],
      "text/markdown": [
       "3323.39"
      ],
      "text/plain": [
       "[1] 3323.39"
      ]
     },
     "metadata": {},
     "output_type": "display_data"
    }
   ],
   "source": [
    "sigma <- 3323.39\n",
    "sigma"
   ]
  },
  {
   "cell_type": "code",
   "execution_count": 135,
   "id": "7976dea4-5d74-40fd-bed1-dad77414c43c",
   "metadata": {},
   "outputs": [
    {
     "data": {
      "text/html": [
       "100"
      ],
      "text/latex": [
       "100"
      ],
      "text/markdown": [
       "100"
      ],
      "text/plain": [
       "[1] 100"
      ]
     },
     "metadata": {},
     "output_type": "display_data"
    }
   ],
   "source": [
    "e <- 100\n",
    "e"
   ]
  },
  {
   "cell_type": "markdown",
   "id": "bbfc5d8d-9557-4d9c-9a24-b358aa0f5c96",
   "metadata": {},
   "source": [
    "#### With known standard deviation\n",
    "\n",
    "## $$n = \\left(z\\frac{\\sigma}{e}\\right)^2$$"
   ]
  },
  {
   "cell_type": "code",
   "execution_count": 136,
   "id": "ad1e90c5-2336-4893-a750-403131e85d31",
   "metadata": {},
   "outputs": [
    {
     "data": {
      "text/html": [
       "4242.86095531181"
      ],
      "text/latex": [
       "4242.86095531181"
      ],
      "text/markdown": [
       "4242.86095531181"
      ],
      "text/plain": [
       "[1] 4242.861"
      ]
     },
     "metadata": {},
     "output_type": "display_data"
    }
   ],
   "source": [
    "n <- (Z *(sigma / e)) ** 2\n",
    "n"
   ]
  },
  {
   "cell_type": "code",
   "execution_count": 137,
   "id": "89aaf457-dc38-41f9-b9c8-58fd02a290cb",
   "metadata": {},
   "outputs": [
    {
     "data": {
      "text/html": [
       "4243"
      ],
      "text/latex": [
       "4243"
      ],
      "text/markdown": [
       "4243"
      ],
      "text/plain": [
       "[1] 4243"
      ]
     },
     "metadata": {},
     "output_type": "display_data"
    }
   ],
   "source": [
    "round(n)"
   ]
  },
  {
   "cell_type": "markdown",
   "id": "d0e315a3-66c2-4a26-9397-dabb8b1b9c9d",
   "metadata": {},
   "source": [
    "***\n",
    "## <font color='purple'> List of Examples</font>"
   ]
  },
  {
   "cell_type": "markdown",
   "id": "2547204d-c6b8-4144-85e5-06f96291c9ab",
   "metadata": {},
   "source": [
    "***\n",
    "## <font color='purple'>Getting Sample Size #1</font>"
   ]
  },
  {
   "cell_type": "markdown",
   "id": "bbd38ce0-b1d1-4821-9ee0-c8a0d89e1778",
   "metadata": {},
   "source": [
    "The average value spent by customers at a convenience store is **45.50 Reais**. Assuming that the standard deviation of expenses is equal to **15.00 Reais**, what should be the sample size to estimate the population mean, with a significance level of **10%**? Consider that the maximum acceptable error is 10%."
   ]
  },
  {
   "cell_type": "code",
   "execution_count": 138,
   "id": "8800b167-cd74-45c7-8f6a-1fdfa496d348",
   "metadata": {},
   "outputs": [
    {
     "data": {
      "text/html": [
       "45.5"
      ],
      "text/latex": [
       "45.5"
      ],
      "text/markdown": [
       "45.5"
      ],
      "text/plain": [
       "[1] 45.5"
      ]
     },
     "metadata": {},
     "output_type": "display_data"
    }
   ],
   "source": [
    "mean <- 45.50\n",
    "mean"
   ]
  },
  {
   "cell_type": "code",
   "execution_count": 139,
   "id": "5ebc37b0-5083-4e50-9aaf-7864b0d9159c",
   "metadata": {},
   "outputs": [
    {
     "data": {
      "text/html": [
       "15"
      ],
      "text/latex": [
       "15"
      ],
      "text/markdown": [
       "15"
      ],
      "text/plain": [
       "[1] 15"
      ]
     },
     "metadata": {},
     "output_type": "display_data"
    }
   ],
   "source": [
    "sigma <- 15\n",
    "sigma"
   ]
  },
  {
   "cell_type": "code",
   "execution_count": 140,
   "id": "13ba1fdf-0980-4fcc-aa00-876fcf465a74",
   "metadata": {},
   "outputs": [
    {
     "data": {
      "text/html": [
       "4.55"
      ],
      "text/latex": [
       "4.55"
      ],
      "text/markdown": [
       "4.55"
      ],
      "text/plain": [
       "[1] 4.55"
      ]
     },
     "metadata": {},
     "output_type": "display_data"
    }
   ],
   "source": [
    "e <- 0.1\n",
    "e <- mean * e\n",
    "e"
   ]
  },
  {
   "cell_type": "code",
   "execution_count": 141,
   "id": "ba50ebd9-d6d4-44ea-87b3-3aacf2687cc2",
   "metadata": {},
   "outputs": [
    {
     "data": {
      "text/html": [
       "0.1"
      ],
      "text/latex": [
       "0.1"
      ],
      "text/markdown": [
       "0.1"
      ],
      "text/plain": [
       "[1] 0.1"
      ]
     },
     "metadata": {},
     "output_type": "display_data"
    }
   ],
   "source": [
    "meaningfulness <- 0.1\n",
    "meaningfulness"
   ]
  },
  {
   "cell_type": "code",
   "execution_count": 142,
   "id": "0c05a4fb-df02-4c80-8365-877ced4fcc0d",
   "metadata": {},
   "outputs": [
    {
     "data": {
      "text/html": [
       "0.9"
      ],
      "text/latex": [
       "0.9"
      ],
      "text/markdown": [
       "0.9"
      ],
      "text/plain": [
       "[1] 0.9"
      ]
     },
     "metadata": {},
     "output_type": "display_data"
    }
   ],
   "source": [
    "confidence <- 1 - meaningfulness\n",
    "confidence"
   ]
  },
  {
   "cell_type": "code",
   "execution_count": 143,
   "id": "94bdc9d2-5fbf-4e1d-975f-d873c6065d17",
   "metadata": {},
   "outputs": [
    {
     "data": {
      "text/html": [
       "1.64485362695147"
      ],
      "text/latex": [
       "1.64485362695147"
      ],
      "text/markdown": [
       "1.64485362695147"
      ],
      "text/plain": [
       "[1] 1.644854"
      ]
     },
     "metadata": {},
     "output_type": "display_data"
    }
   ],
   "source": [
    "Z <- qnorm(0.5 + (confidence / 2))\n",
    "Z"
   ]
  },
  {
   "cell_type": "code",
   "execution_count": 144,
   "id": "94ae772d-a634-48e3-9482-649aef0e53f2",
   "metadata": {},
   "outputs": [
    {
     "data": {
      "text/html": [
       "29"
      ],
      "text/latex": [
       "29"
      ],
      "text/markdown": [
       "29"
      ],
      "text/plain": [
       "[1] 29"
      ]
     },
     "metadata": {},
     "output_type": "display_data"
    }
   ],
   "source": [
    "n <- (Z * (sigma / e)) ** 2\n",
    "round(n)"
   ]
  },
  {
   "cell_type": "markdown",
   "id": "71046482-f703-4206-9e79-dae6139c7892",
   "metadata": {},
   "source": [
    "***\n",
    "## <font color='purple'>Getting Sample Size #2</font>"
   ]
  },
  {
   "cell_type": "markdown",
   "id": "a6dd57f7-febd-41f2-baf4-fb4dce16fa01",
   "metadata": {},
   "source": [
    "A sample with **40 tax coupons**, collected randomly in a shopping center, presented a standard deviation of the total paid equal to **42.00 Reais**. The retailers' association needs to estimate the population average of sales, with a maximum error equal to 6.00 Reais and using a confidence level equal to 90%. What is the sample size to be analyzed?"
   ]
  },
  {
   "cell_type": "code",
   "execution_count": 145,
   "id": "229b21c6-25d0-4389-8ec8-b189573c9461",
   "metadata": {},
   "outputs": [
    {
     "data": {
      "text/html": [
       "42"
      ],
      "text/latex": [
       "42"
      ],
      "text/markdown": [
       "42"
      ],
      "text/plain": [
       "[1] 42"
      ]
     },
     "metadata": {},
     "output_type": "display_data"
    }
   ],
   "source": [
    "sigma <- 42\n",
    "sigma"
   ]
  },
  {
   "cell_type": "code",
   "execution_count": 146,
   "id": "e2745213-7fe4-4a2d-a422-e7201ab5b505",
   "metadata": {},
   "outputs": [
    {
     "data": {
      "text/html": [
       "6"
      ],
      "text/latex": [
       "6"
      ],
      "text/markdown": [
       "6"
      ],
      "text/plain": [
       "[1] 6"
      ]
     },
     "metadata": {},
     "output_type": "display_data"
    }
   ],
   "source": [
    "e <- 6\n",
    "e"
   ]
  },
  {
   "cell_type": "code",
   "execution_count": 147,
   "id": "73abac8d-88ff-4504-9ea2-171803dffb3d",
   "metadata": {},
   "outputs": [
    {
     "data": {
      "text/html": [
       "1.64485362695147"
      ],
      "text/latex": [
       "1.64485362695147"
      ],
      "text/markdown": [
       "1.64485362695147"
      ],
      "text/plain": [
       "[1] 1.644854"
      ]
     },
     "metadata": {},
     "output_type": "display_data"
    }
   ],
   "source": [
    "Z <- qnorm(0.5 + (0.90 / 2))\n",
    "Z"
   ]
  },
  {
   "cell_type": "code",
   "execution_count": 148,
   "id": "04bbfa8e-c785-4ee6-b7af-e8436379be19",
   "metadata": {
    "scrolled": true
   },
   "outputs": [
    {
     "data": {
      "text/html": [
       "133"
      ],
      "text/latex": [
       "133"
      ],
      "text/markdown": [
       "133"
      ],
      "text/plain": [
       "[1] 133"
      ]
     },
     "metadata": {},
     "output_type": "display_data"
    }
   ],
   "source": [
    "n <- (Z *(sigma / e)) ** 2\n",
    "round(n)"
   ]
  },
  {
   "cell_type": "markdown",
   "id": "8c59eb64-9763-4116-ae83-5662392a2942",
   "metadata": {},
   "source": [
    "***\n",
    "## <font color='lightgreen'>Quantitative Variables and Finite Population</font>"
   ]
  },
  {
   "cell_type": "markdown",
   "id": "d778eed4-5f3e-4855-a6b3-086c354b22b6",
   "metadata": {},
   "source": [
    "#### With known standard deviation\n",
    "\n",
    "## $$n = \\frac{z^2 \\sigma^2 N}{z^2 \\sigma^2 + e^2(N-1)}$$\n",
    "\n",
    "#### With unknown standard deviation\n",
    "\n",
    "## $$n = \\frac{z^2 s^2 N}{z^2 s^2 + e^2(N-1)}$$\n",
    "\n",
    "Where:\n",
    "\n",
    "$N$ = population size\n",
    "\n",
    "$z$ = standardized normal variable\n",
    "\n",
    "$\\sigma$ = population standard deviation\n",
    "\n",
    "$s$ = sample standard deviation\n",
    "\n",
    "$e$ = inferential error"
   ]
  },
  {
   "cell_type": "markdown",
   "id": "590d34ed-4de8-4ecf-9f03-757ed77efcae",
   "metadata": {},
   "source": [
    "***\n",
    "### <font color='purple'>Example Problem: Soft Drink Industry</font>"
   ]
  },
  {
   "cell_type": "markdown",
   "id": "33f5a016-7c2c-4b23-bdf3-48c03146d2ad",
   "metadata": {},
   "source": [
    "In a batch of **10,000 cans** of soft drink, a simple random sample of **100 cans** was carried out and the **sample standard deviation of the contents of the cans was equal to 12 ml**. The manufacturer stipulates a **maximum error over the population average of just 5 ml**. To ensure a **95% confidence level** what sample size should be selected for this study?"
   ]
  },
  {
   "cell_type": "code",
   "execution_count": 149,
   "id": "277cdffd-fd9e-4265-80bd-6c23147ff4d0",
   "metadata": {},
   "outputs": [
    {
     "data": {
      "text/html": [
       "10000"
      ],
      "text/latex": [
       "10000"
      ],
      "text/markdown": [
       "10000"
      ],
      "text/plain": [
       "[1] 10000"
      ]
     },
     "metadata": {},
     "output_type": "display_data"
    }
   ],
   "source": [
    "N <- 10000\n",
    "N"
   ]
  },
  {
   "cell_type": "code",
   "execution_count": 150,
   "id": "b49c4d46-2af9-4921-80d4-ebd5b2f649a5",
   "metadata": {},
   "outputs": [
    {
     "data": {
      "text/html": [
       "1.95996398454005"
      ],
      "text/latex": [
       "1.95996398454005"
      ],
      "text/markdown": [
       "1.95996398454005"
      ],
      "text/plain": [
       "[1] 1.959964"
      ]
     },
     "metadata": {},
     "output_type": "display_data"
    }
   ],
   "source": [
    "Z <- qnorm(0.5 + (0.95 / 2))\n",
    "Z"
   ]
  },
  {
   "cell_type": "code",
   "execution_count": 151,
   "id": "47b05d0f-f1c5-49cc-baae-8ec0735332bc",
   "metadata": {},
   "outputs": [
    {
     "data": {
      "text/html": [
       "12"
      ],
      "text/latex": [
       "12"
      ],
      "text/markdown": [
       "12"
      ],
      "text/plain": [
       "[1] 12"
      ]
     },
     "metadata": {},
     "output_type": "display_data"
    }
   ],
   "source": [
    "s <- 12\n",
    "s"
   ]
  },
  {
   "cell_type": "code",
   "execution_count": 152,
   "id": "119dcab5-e614-4c07-b573-03c7ae4aa68e",
   "metadata": {},
   "outputs": [
    {
     "data": {
      "text/html": [
       "5"
      ],
      "text/latex": [
       "5"
      ],
      "text/markdown": [
       "5"
      ],
      "text/plain": [
       "[1] 5"
      ]
     },
     "metadata": {},
     "output_type": "display_data"
    }
   ],
   "source": [
    "e <- 5 \n",
    "e"
   ]
  },
  {
   "cell_type": "markdown",
   "id": "d92fbc5d-c342-4be7-80b1-220e3d56b696",
   "metadata": {},
   "source": [
    "## $$n = \\frac{z^2 s^2 N}{z^2 s^2 + e^2(N-1)}$$"
   ]
  },
  {
   "cell_type": "code",
   "execution_count": 153,
   "id": "c3b34697-e4fb-42a7-a984-def11307e264",
   "metadata": {},
   "outputs": [
    {
     "data": {
      "text/html": [
       "22"
      ],
      "text/latex": [
       "22"
      ],
      "text/markdown": [
       "22"
      ],
      "text/plain": [
       "[1] 22"
      ]
     },
     "metadata": {},
     "output_type": "display_data"
    }
   ],
   "source": [
    "n <- ((Z ** 2) * (s ** 2) * N) / ((Z ** 2) * (s ** 2) + (e ** 2) * (N - 1))\n",
    "round(n)"
   ]
  },
  {
   "cell_type": "markdown",
   "id": "d8a2d15c-b59d-49cf-8967-fbf21e59069e",
   "metadata": {},
   "source": [
    "***\n",
    "### <font color='purple'>Example Problem: Sample of Flour Bags</font>"
   ]
  },
  {
   "cell_type": "markdown",
   "id": "61df6bab-bf7e-4523-82e6-98dfe036f144",
   "metadata": {},
   "source": [
    "A flour manufacturer verified that a random sample made up of **200** bags of **25** kg from a batch made up of **2,000** bags showed a sample standard deviation of weight equal to **480** g . Considering a maximum error associated with the population mean equal to **0.3** kg and a confidence level equal to **95**%, what sample size should be selected to obtain a reliable estimate of the population parameter?"
   ]
  },
  {
   "cell_type": "markdown",
   "id": "a49af4ed-9e67-4b48-bb80-ac2c653d087b",
   "metadata": {},
   "source": [
    "## $$n = \\frac{z^2 s^2 N}{z^2 s^2 + e^2(N-1)}$$"
   ]
  },
  {
   "cell_type": "code",
   "execution_count": 154,
   "id": "1e728c7e-149e-4d21-a226-14632ee5a38c",
   "metadata": {},
   "outputs": [
    {
     "data": {
      "text/html": [
       "50000"
      ],
      "text/latex": [
       "50000"
      ],
      "text/markdown": [
       "50000"
      ],
      "text/plain": [
       "[1] 50000"
      ]
     },
     "metadata": {},
     "output_type": "display_data"
    }
   ],
   "source": [
    "N <- 2000 * 25\n",
    "N"
   ]
  },
  {
   "cell_type": "code",
   "execution_count": 155,
   "id": "f1639827-16df-40eb-937f-6693754a8249",
   "metadata": {},
   "outputs": [
    {
     "data": {
      "text/html": [
       "480"
      ],
      "text/latex": [
       "480"
      ],
      "text/markdown": [
       "480"
      ],
      "text/plain": [
       "[1] 480"
      ]
     },
     "metadata": {},
     "output_type": "display_data"
    }
   ],
   "source": [
    "s <- 480\n",
    "s"
   ]
  },
  {
   "cell_type": "code",
   "execution_count": 156,
   "id": "76e3e2d6-9aac-4cd6-8903-630597f93684",
   "metadata": {},
   "outputs": [
    {
     "data": {
      "text/html": [
       "300"
      ],
      "text/latex": [
       "300"
      ],
      "text/markdown": [
       "300"
      ],
      "text/plain": [
       "[1] 300"
      ]
     },
     "metadata": {},
     "output_type": "display_data"
    }
   ],
   "source": [
    "e <- 0.3 * 1000 \n",
    "e"
   ]
  },
  {
   "cell_type": "code",
   "execution_count": 157,
   "id": "fdaa307a-6150-49fc-b73a-6f547587b9cb",
   "metadata": {},
   "outputs": [
    {
     "data": {
      "text/html": [
       "1.95996398454005"
      ],
      "text/latex": [
       "1.95996398454005"
      ],
      "text/markdown": [
       "1.95996398454005"
      ],
      "text/plain": [
       "[1] 1.959964"
      ]
     },
     "metadata": {},
     "output_type": "display_data"
    }
   ],
   "source": [
    "Z <- qnorm(0.5 + (0.95 / 2))\n",
    "Z"
   ]
  },
  {
   "cell_type": "code",
   "execution_count": 158,
   "id": "4dbebb5c-0af1-41c2-9cc8-42fe83cf0f1e",
   "metadata": {},
   "outputs": [
    {
     "data": {
      "text/html": [
       "10"
      ],
      "text/latex": [
       "10"
      ],
      "text/markdown": [
       "10"
      ],
      "text/plain": [
       "[1] 10"
      ]
     },
     "metadata": {},
     "output_type": "display_data"
    }
   ],
   "source": [
    "n <- ((Z ** 2) * (s ** 2) * N) / ((Z ** 2) * (s ** 2) + (e ** 2) * (N - 1))\n",
    "round(n)"
   ]
  },
  {
   "cell_type": "markdown",
   "id": "9af0a7f3-0528-44a8-be34-22cec6625ae6",
   "metadata": {},
   "source": [
    "***\n",
    "## <font color='lightgreen'>Making Estimates From The Dataset</font>"
   ]
  },
  {
   "cell_type": "markdown",
   "id": "7389a2db-8ff3-4a97-b065-0fe5b861084c",
   "metadata": {},
   "source": [
    "We are studying the **monthly income of heads of households with income up to R$\\$$ 5,000.00 in Brazil**. We will determine that the **maximum error in relation to the average is R$\\$$ 10.00**. We know that the **population standard deviation** of this group of workers is **R$\\$$ 1,082.79** and that the **population average** is **R$\\$$ 1,426.54**. For a **95% confidence level**, what should our study sample size be? What is the confidence interval for the mean considering the sample size obtained?"
   ]
  },
  {
   "cell_type": "markdown",
   "id": "e16d3e8e-603a-4c27-9e94-e7bb6d9fb826",
   "metadata": {},
   "source": [
    "### Building the dataset as specified by the problem"
   ]
  },
  {
   "cell_type": "code",
   "execution_count": 159,
   "id": "b7dddc5b-fd1e-4999-b083-9479f700c163",
   "metadata": {},
   "outputs": [
    {
     "data": {
      "text/html": [
       "<table class=\"dataframe\">\n",
       "<caption>A data.frame: 6 × 7</caption>\n",
       "<thead>\n",
       "\t<tr><th></th><th scope=col>UF</th><th scope=col>Sex</th><th scope=col>Age</th><th scope=col>Color</th><th scope=col>Years.of.Studies</th><th scope=col>Income</th><th scope=col>Height</th></tr>\n",
       "\t<tr><th></th><th scope=col>&lt;int&gt;</th><th scope=col>&lt;int&gt;</th><th scope=col>&lt;int&gt;</th><th scope=col>&lt;int&gt;</th><th scope=col>&lt;int&gt;</th><th scope=col>&lt;int&gt;</th><th scope=col>&lt;dbl&gt;</th></tr>\n",
       "</thead>\n",
       "<tbody>\n",
       "\t<tr><th scope=row>1</th><td>11</td><td>0</td><td>23</td><td>8</td><td>12</td><td> 800</td><td>1.603808</td></tr>\n",
       "\t<tr><th scope=row>2</th><td>11</td><td>1</td><td>23</td><td>2</td><td>12</td><td>1150</td><td>1.739790</td></tr>\n",
       "\t<tr><th scope=row>3</th><td>11</td><td>1</td><td>35</td><td>8</td><td>15</td><td> 880</td><td>1.760444</td></tr>\n",
       "\t<tr><th scope=row>4</th><td>11</td><td>0</td><td>46</td><td>2</td><td> 6</td><td>3500</td><td>1.783158</td></tr>\n",
       "\t<tr><th scope=row>5</th><td>11</td><td>1</td><td>47</td><td>8</td><td> 9</td><td> 150</td><td>1.690631</td></tr>\n",
       "\t<tr><th scope=row>6</th><td>11</td><td>1</td><td>34</td><td>8</td><td>12</td><td> 790</td><td>1.637906</td></tr>\n",
       "</tbody>\n",
       "</table>\n"
      ],
      "text/latex": [
       "A data.frame: 6 × 7\n",
       "\\begin{tabular}{r|lllllll}\n",
       "  & UF & Sex & Age & Color & Years.of.Studies & Income & Height\\\\\n",
       "  & <int> & <int> & <int> & <int> & <int> & <int> & <dbl>\\\\\n",
       "\\hline\n",
       "\t1 & 11 & 0 & 23 & 8 & 12 &  800 & 1.603808\\\\\n",
       "\t2 & 11 & 1 & 23 & 2 & 12 & 1150 & 1.739790\\\\\n",
       "\t3 & 11 & 1 & 35 & 8 & 15 &  880 & 1.760444\\\\\n",
       "\t4 & 11 & 0 & 46 & 2 &  6 & 3500 & 1.783158\\\\\n",
       "\t5 & 11 & 1 & 47 & 8 &  9 &  150 & 1.690631\\\\\n",
       "\t6 & 11 & 1 & 34 & 8 & 12 &  790 & 1.637906\\\\\n",
       "\\end{tabular}\n"
      ],
      "text/markdown": [
       "\n",
       "A data.frame: 6 × 7\n",
       "\n",
       "| <!--/--> | UF &lt;int&gt; | Sex &lt;int&gt; | Age &lt;int&gt; | Color &lt;int&gt; | Years.of.Studies &lt;int&gt; | Income &lt;int&gt; | Height &lt;dbl&gt; |\n",
       "|---|---|---|---|---|---|---|---|\n",
       "| 1 | 11 | 0 | 23 | 8 | 12 |  800 | 1.603808 |\n",
       "| 2 | 11 | 1 | 23 | 2 | 12 | 1150 | 1.739790 |\n",
       "| 3 | 11 | 1 | 35 | 8 | 15 |  880 | 1.760444 |\n",
       "| 4 | 11 | 0 | 46 | 2 |  6 | 3500 | 1.783158 |\n",
       "| 5 | 11 | 1 | 47 | 8 |  9 |  150 | 1.690631 |\n",
       "| 6 | 11 | 1 | 34 | 8 | 12 |  790 | 1.637906 |\n",
       "\n"
      ],
      "text/plain": [
       "  UF Sex Age Color Years.of.Studies Income Height  \n",
       "1 11 0   23  8     12                800   1.603808\n",
       "2 11 1   23  2     12               1150   1.739790\n",
       "3 11 1   35  8     15                880   1.760444\n",
       "4 11 0   46  2      6               3500   1.783158\n",
       "5 11 1   47  8      9                150   1.690631\n",
       "6 11 1   34  8     12                790   1.637906"
      ]
     },
     "metadata": {},
     "output_type": "display_data"
    }
   ],
   "source": [
    "dataset_income5000 <- dataset[dataset$Income <= 5000, ]\n",
    "head(dataset_income5000)"
   ]
  },
  {
   "cell_type": "markdown",
   "id": "a431829d-db5e-4931-bbb4-e570e19bfbdd",
   "metadata": {},
   "source": [
    "### Calculating Sample Size"
   ]
  },
  {
   "cell_type": "code",
   "execution_count": 160,
   "id": "6705f8ef-1480-42f5-8e8c-e75a335e881d",
   "metadata": {},
   "outputs": [
    {
     "data": {
      "text/html": [
       "1082.79454903068"
      ],
      "text/latex": [
       "1082.79454903068"
      ],
      "text/markdown": [
       "1082.79454903068"
      ],
      "text/plain": [
       "[1] 1082.795"
      ]
     },
     "metadata": {},
     "output_type": "display_data"
    }
   ],
   "source": [
    "sigma <- sd(dataset_income5000$Income)\n",
    "sigma"
   ]
  },
  {
   "cell_type": "code",
   "execution_count": 161,
   "id": "0f4b4d54-3fb9-445c-b527-d2e16c793f26",
   "metadata": {},
   "outputs": [
    {
     "data": {
      "text/html": [
       "1426.53721449472"
      ],
      "text/latex": [
       "1426.53721449472"
      ],
      "text/markdown": [
       "1426.53721449472"
      ],
      "text/plain": [
       "[1] 1426.537"
      ]
     },
     "metadata": {},
     "output_type": "display_data"
    }
   ],
   "source": [
    "mean <- mean(dataset_income5000$Income)\n",
    "mean"
   ]
  },
  {
   "cell_type": "code",
   "execution_count": 162,
   "id": "e183014a-a39d-4e40-aedf-fc2b0e162494",
   "metadata": {},
   "outputs": [
    {
     "data": {
      "text/html": [
       "1.95996398454005"
      ],
      "text/latex": [
       "1.95996398454005"
      ],
      "text/markdown": [
       "1.95996398454005"
      ],
      "text/plain": [
       "[1] 1.959964"
      ]
     },
     "metadata": {},
     "output_type": "display_data"
    }
   ],
   "source": [
    "Z <- qnorm(0.5 + (0.95 / 2))\n",
    "Z"
   ]
  },
  {
   "cell_type": "code",
   "execution_count": 163,
   "id": "563e1ea2-718d-4ce9-828d-fda7f6cde2b5",
   "metadata": {},
   "outputs": [
    {
     "data": {
      "text/html": [
       "10"
      ],
      "text/latex": [
       "10"
      ],
      "text/markdown": [
       "10"
      ],
      "text/plain": [
       "[1] 10"
      ]
     },
     "metadata": {},
     "output_type": "display_data"
    }
   ],
   "source": [
    "e <- 10\n",
    "e"
   ]
  },
  {
   "cell_type": "code",
   "execution_count": 164,
   "id": "4a0ffbcf-14d8-408a-a317-41cf55148945",
   "metadata": {},
   "outputs": [
    {
     "data": {
      "text/html": [
       "45038.9548159812"
      ],
      "text/latex": [
       "45038.9548159812"
      ],
      "text/markdown": [
       "45038.9548159812"
      ],
      "text/plain": [
       "[1] 45038.95"
      ]
     },
     "metadata": {},
     "output_type": "display_data"
    }
   ],
   "source": [
    "n <- (Z * (sigma / e)) ** 2\n",
    "n"
   ]
  },
  {
   "cell_type": "code",
   "execution_count": 165,
   "id": "ab3d2e42-456c-488c-958c-2983d68280a8",
   "metadata": {},
   "outputs": [
    {
     "data": {
      "text/html": [
       "45039"
      ],
      "text/latex": [
       "45039"
      ],
      "text/markdown": [
       "45039"
      ],
      "text/plain": [
       "[1] 45039"
      ]
     },
     "metadata": {},
     "output_type": "display_data"
    }
   ],
   "source": [
    "sample_size_obtained <- round(n)\n",
    "sample_size_obtained"
   ]
  },
  {
   "cell_type": "markdown",
   "id": "2b955695-a3ea-4057-9ade-dbef758854d5",
   "metadata": {},
   "source": [
    "### Calculating The Confidence Interval For The Mean"
   ]
  },
  {
   "cell_type": "code",
   "execution_count": 166,
   "id": "f2d008a4-0ff2-4d25-b191-6005a01214a5",
   "metadata": {},
   "outputs": [
    {
     "data": {
      "text/html": [
       "5.10213456924654"
      ],
      "text/latex": [
       "5.10213456924654"
      ],
      "text/markdown": [
       "5.10213456924654"
      ],
      "text/plain": [
       "[1] 5.102135"
      ]
     },
     "metadata": {},
     "output_type": "display_data"
    }
   ],
   "source": [
    "sigma <- sd(dataset_income5000$Income) / sqrt(n)\n",
    "sigma "
   ]
  },
  {
   "cell_type": "code",
   "execution_count": 167,
   "id": "b8f54a36-21a3-4755-8deb-01f674cf635c",
   "metadata": {},
   "outputs": [
    {
     "data": {
      "text/html": [
       "1426.53721449472"
      ],
      "text/latex": [
       "1426.53721449472"
      ],
      "text/markdown": [
       "1426.53721449472"
      ],
      "text/plain": [
       "[1] 1426.537"
      ]
     },
     "metadata": {},
     "output_type": "display_data"
    }
   ],
   "source": [
    "mean <- mean(dataset_income5000$Income)\n",
    "mean"
   ]
  },
  {
   "cell_type": "code",
   "execution_count": 168,
   "id": "919f08dd-bbb3-4d3c-bde7-c2eb6c6c6a40",
   "metadata": {},
   "outputs": [
    {
     "data": {
      "text/html": [
       "<style>\n",
       ".dl-inline {width: auto; margin:0; padding: 0}\n",
       ".dl-inline>dt, .dl-inline>dd {float: none; width: auto; display: inline-block}\n",
       ".dl-inline>dt::after {content: \":\\0020\"; padding-right: .5ex}\n",
       ".dl-inline>dt:not(:first-of-type) {padding-left: .5ex}\n",
       "</style><dl class=dl-inline><dt>mean</dt><dd>1426.53721449472</dd><dt>lwr.ci</dt><dd>1416.53721449472</dd><dt>upr.ci</dt><dd>1436.53721449472</dd></dl>\n"
      ],
      "text/latex": [
       "\\begin{description*}\n",
       "\\item[mean] 1426.53721449472\n",
       "\\item[lwr.ci] 1416.53721449472\n",
       "\\item[upr.ci] 1436.53721449472\n",
       "\\end{description*}\n"
      ],
      "text/markdown": [
       "mean\n",
       ":   1426.53721449472lwr.ci\n",
       ":   1416.53721449472upr.ci\n",
       ":   1436.53721449472\n",
       "\n"
      ],
      "text/plain": [
       "    mean   lwr.ci   upr.ci \n",
       "1426.537 1416.537 1436.537 "
      ]
     },
     "metadata": {},
     "output_type": "display_data"
    }
   ],
   "source": [
    "MeanCI(x=mean, sd=sigma, type='norm', conf.level=0.95, sides='two.sided')"
   ]
  },
  {
   "cell_type": "code",
   "execution_count": 169,
   "id": "fd26dd42-42f6-4b2d-b8b8-8b3cf1454d82",
   "metadata": {},
   "outputs": [],
   "source": [
    "mean <- 1426.53721449472\n",
    "lwr_ci <- 1416.53721449472\n",
    "upr_ci <- 1436.53721449472"
   ]
  },
  {
   "cell_type": "markdown",
   "id": "6e1f2e88-f473-48d5-9049-8e4fc405f6aa",
   "metadata": {},
   "source": [
    "### Performing a graphic test"
   ]
  },
  {
   "cell_type": "code",
   "execution_count": 170,
   "id": "260248d9-5b7a-4d18-9017-bf19139497a9",
   "metadata": {},
   "outputs": [
    {
     "data": {
      "image/png": "[encoded data removed]",
      "text/plain": [
       "plot without title"
      ]
     },
     "metadata": {
      "image/png": {
       "height": 300,
       "width": 600
      }
     },
     "output_type": "display_data"
    }
   ],
   "source": [
    "sample_size <- 1000\n",
    "means <- c()\n",
    "\n",
    "for(i in 1:sample_size){\n",
    "    means <- c(means, mean(sample_n(dataset_income5000, n)$Income))\n",
    "}\n",
    "means <- data.frame(means)\n",
    "\n",
    "ggplot(data=means, aes(x=c(1:sample_size), y=means))+\n",
    "    geom_point(size=1.5, stroke=0)+\n",
    "    geom_hline(yintercept=mean, color='green')+\n",
    "    geom_hline(yintercept=lwr_ci, color='red')+\n",
    "    geom_hline(yintercept=upr_ci, color='red')"
   ]
  },
  {
   "cell_type": "markdown",
   "id": "35d96399-aaaf-4857-ac54-edfc394b13f0",
   "metadata": {},
   "source": [
    "***\n",
    "## <font color='purple'>Problem A</font>"
   ]
  },
  {
   "cell_type": "markdown",
   "id": "ab7fdf9b-469f-4e51-bf0a-c73dfd199af1",
   "metadata": {},
   "source": [
    "Evaluating our dataset, it is possible to verify that the **proportion of men** as heads of households is almost **70%**. We need to **randomly select groups of 10 individuals** to check the differences between income in each group. What is the **probability of selecting a group that presents the same proportion of the population**, that is, selecting a group that is **composed of 7 men and 3 women**?"
   ]
  },
  {
   "cell_type": "code",
   "execution_count": 171,
   "id": "861725e2-817c-417b-bea8-b8626ff97d80",
   "metadata": {},
   "outputs": [
    {
     "data": {
      "text/html": [
       "<table class=\"dataframe\">\n",
       "<caption>A matrix: 2 × 2 of type dbl</caption>\n",
       "<thead>\n",
       "\t<tr><th></th><th scope=col>Frequency</th><th scope=col>Percent(%)</th></tr>\n",
       "</thead>\n",
       "<tbody>\n",
       "\t<tr><th scope=row>Masculine</th><td>53250</td><td>69.29984</td></tr>\n",
       "\t<tr><th scope=row>Feminine</th><td>23590</td><td>30.70016</td></tr>\n",
       "</tbody>\n",
       "</table>\n"
      ],
      "text/latex": [
       "A matrix: 2 × 2 of type dbl\n",
       "\\begin{tabular}{r|ll}\n",
       "  & Frequency & Percent(\\%)\\\\\n",
       "\\hline\n",
       "\tMasculine & 53250 & 69.29984\\\\\n",
       "\tFeminine & 23590 & 30.70016\\\\\n",
       "\\end{tabular}\n"
      ],
      "text/markdown": [
       "\n",
       "A matrix: 2 × 2 of type dbl\n",
       "\n",
       "| <!--/--> | Frequency | Percent(%) |\n",
       "|---|---|---|\n",
       "| Masculine | 53250 | 69.29984 |\n",
       "| Feminine | 23590 | 30.70016 |\n",
       "\n"
      ],
      "text/plain": [
       "          Frequency Percent(%)\n",
       "Masculine 53250     69.29984  \n",
       "Feminine  23590     30.70016  "
      ]
     },
     "metadata": {},
     "output_type": "display_data"
    }
   ],
   "source": [
    "dataset_Sex <- cbind('Frequency'=table(dataset$Sex), 'Percent(%)'=prop.table(table(dataset$Sex)) * 100)\n",
    "rownames(dataset_Sex) <- c('Masculine', 'Feminine')\n",
    "dataset_Sex"
   ]
  },
  {
   "cell_type": "code",
   "execution_count": 172,
   "id": "c073bebf-14df-437c-b331-95a4b3491b16",
   "metadata": {},
   "outputs": [
    {
     "data": {
      "text/html": [
       "7"
      ],
      "text/latex": [
       "7"
      ],
      "text/markdown": [
       "7"
      ],
      "text/plain": [
       "[1] 7"
      ]
     },
     "metadata": {},
     "output_type": "display_data"
    }
   ],
   "source": [
    "k <- 7\n",
    "k"
   ]
  },
  {
   "cell_type": "code",
   "execution_count": 173,
   "id": "f2909955-73a0-4bc8-90a8-b9d9213f242e",
   "metadata": {},
   "outputs": [
    {
     "data": {
      "text/html": [
       "10"
      ],
      "text/latex": [
       "10"
      ],
      "text/markdown": [
       "10"
      ],
      "text/plain": [
       "[1] 10"
      ]
     },
     "metadata": {},
     "output_type": "display_data"
    }
   ],
   "source": [
    "n <- 10\n",
    "n"
   ]
  },
  {
   "cell_type": "code",
   "execution_count": 174,
   "id": "26a911e6-e9e7-407b-b81f-f7a608d373b3",
   "metadata": {},
   "outputs": [
    {
     "data": {
      "text/html": [
       "0.7"
      ],
      "text/latex": [
       "0.7"
      ],
      "text/markdown": [
       "0.7"
      ],
      "text/plain": [
       "[1] 0.7"
      ]
     },
     "metadata": {},
     "output_type": "display_data"
    }
   ],
   "source": [
    "p <- 0.70\n",
    "p"
   ]
  },
  {
   "cell_type": "code",
   "execution_count": 175,
   "id": "c88f8b7f-ef60-4d77-b21e-501daf5c8e85",
   "metadata": {},
   "outputs": [
    {
     "data": {
      "text/html": [
       "0.266827932"
      ],
      "text/latex": [
       "0.266827932"
      ],
      "text/markdown": [
       "0.266827932"
      ],
      "text/plain": [
       "[1] 0.2668279"
      ]
     },
     "metadata": {},
     "output_type": "display_data"
    }
   ],
   "source": [
    "probability <-  dbinom(k, n, p)\n",
    "probability"
   ]
  },
  {
   "cell_type": "markdown",
   "id": "a296057f-a0a9-40ab-a74c-0872ebc37819",
   "metadata": {},
   "source": [
    "***\n",
    "## <font color='purple'>Problem B</font>"
   ]
  },
  {
   "cell_type": "markdown",
   "id": "42f6f2a7-f27c-4bdd-ac9f-3ab6af1b71e1",
   "metadata": {},
   "source": [
    "Still on the previous question, **how many groups of 10 individuals** would we need to select, randomly, to obtain **100 groups composed of 7 men and 3 women**?"
   ]
  },
  {
   "cell_type": "code",
   "execution_count": 176,
   "id": "fa696413-46b9-44cf-b9c9-1d4a363b2b0b",
   "metadata": {},
   "outputs": [
    {
     "data": {
      "text/html": [
       "375"
      ],
      "text/latex": [
       "375"
      ],
      "text/markdown": [
       "375"
      ],
      "text/plain": [
       "[1] 375"
      ]
     },
     "metadata": {},
     "output_type": "display_data"
    }
   ],
   "source": [
    "n <- 100 / probability\n",
    "n <- round(n)\n",
    "n"
   ]
  },
  {
   "cell_type": "markdown",
   "id": "47ba0394-10a4-4a46-9791-8099038ef0b3",
   "metadata": {},
   "source": [
    "***\n",
    "## <font color='purple'>Problem C</font>"
   ]
  },
  {
   "cell_type": "markdown",
   "id": "20abfce4-96ae-424c-a235-cbf1587ec9d5",
   "metadata": {},
   "source": [
    "A client commissioned us to carry out a study to evaluate the **income of heads of households in Brazil**. To do this, we need to carry out new data collection, that is, new field research. After meeting with the client, it was possible to list the following set of information:\n",
    "\n",
    "> A. The research result must be ready in **2 months**;\n",
    "\n",
    "> B. We will only have **R$\\$$ 150,000.00** of resources to carry out the field research; It is\n",
    "    \n",
    "> C. A **margin of error not exceeding 10% in relation to the estimated average** would be interesting.\n",
    "\n",
    "In our experience with studies of this type, we know that the **average cost per individual interviewed is around R$\\$$ 100.00**. With this set of facts, evaluate and obtain the following set of information to pass on to the customer:\n",
    "\n",
    "\n",
    "> 1. To obtain an estimate for population parameters (income of household heads in Brazil), perform a simple random sampling on our data set. This sample must contain 200 elements (use set.seed(100) to ensure that the same experiment can be performed again). Obtain the mean and standard deviation of this sample.\n",
    "    \n",
    "> 2. For the **margin of error** specified by the customer obtain the **sample sizes** necessary to ensure the **confidence levels of 90%, 95% and 99%**.\n",
    "    \n",
    "> 3. Obtain the **search cost** for the three confidence levels.\n",
    "    \n",
    "> 4. For the highest feasible confidence level (within the available budget), obtain a **confidence interval for the population mean**.\n",
    "    \n",
    "> 5. Assuming the **confidence level chosen in the previous item**, what **margin of error** can be considered using all the resources made available by the client?\n",
    "    \n",
    "> 6. Assuming a **confidence level of 95%**, **how much would the research cost the client** if a **margin of error of just 5%** in relation to the estimated average were considered?"
   ]
  },
  {
   "cell_type": "markdown",
   "id": "692aea3f-49c7-4f04-b6c5-a471187cfe7b",
   "metadata": {},
   "source": [
    "***\n",
    "## <font color='purple'>Solution to item 1</font>"
   ]
  },
  {
   "cell_type": "markdown",
   "id": "6299666b-f8ac-4a5b-9c89-99da21583f73",
   "metadata": {},
   "source": [
    "set.seed(100)\n",
    "dataset_sample <- data.frame(sample_n(dataset, 200)$Income)\n",
    "colnames(dataset_sample) <- c('Income')"
   ]
  },
  {
   "cell_type": "code",
   "execution_count": 177,
   "id": "9e118079-4b93-485f-b141-de9260990504",
   "metadata": {},
   "outputs": [
    {
     "data": {
      "text/html": [
       "<table class=\"dataframe\">\n",
       "<caption>A data.frame: 6 × 7</caption>\n",
       "<thead>\n",
       "\t<tr><th></th><th scope=col>UF</th><th scope=col>Sex</th><th scope=col>Age</th><th scope=col>Color</th><th scope=col>Years.of.Studies</th><th scope=col>Income</th><th scope=col>Height</th></tr>\n",
       "\t<tr><th></th><th scope=col>&lt;int&gt;</th><th scope=col>&lt;int&gt;</th><th scope=col>&lt;int&gt;</th><th scope=col>&lt;int&gt;</th><th scope=col>&lt;int&gt;</th><th scope=col>&lt;int&gt;</th><th scope=col>&lt;dbl&gt;</th></tr>\n",
       "</thead>\n",
       "<tbody>\n",
       "\t<tr><th scope=row>1</th><td>51</td><td>0</td><td>27</td><td>2</td><td>12</td><td>1200</td><td>1.750691</td></tr>\n",
       "\t<tr><th scope=row>2</th><td>31</td><td>0</td><td>52</td><td>2</td><td> 5</td><td> 800</td><td>1.721134</td></tr>\n",
       "\t<tr><th scope=row>3</th><td>35</td><td>0</td><td>26</td><td>2</td><td>16</td><td>3500</td><td>1.738461</td></tr>\n",
       "\t<tr><th scope=row>4</th><td>25</td><td>0</td><td>29</td><td>8</td><td>12</td><td> 600</td><td>1.693630</td></tr>\n",
       "\t<tr><th scope=row>5</th><td>29</td><td>1</td><td>51</td><td>2</td><td>16</td><td>3000</td><td>1.771060</td></tr>\n",
       "\t<tr><th scope=row>6</th><td>42</td><td>1</td><td>50</td><td>2</td><td>11</td><td>1500</td><td>1.837385</td></tr>\n",
       "</tbody>\n",
       "</table>\n"
      ],
      "text/latex": [
       "A data.frame: 6 × 7\n",
       "\\begin{tabular}{r|lllllll}\n",
       "  & UF & Sex & Age & Color & Years.of.Studies & Income & Height\\\\\n",
       "  & <int> & <int> & <int> & <int> & <int> & <int> & <dbl>\\\\\n",
       "\\hline\n",
       "\t1 & 51 & 0 & 27 & 2 & 12 & 1200 & 1.750691\\\\\n",
       "\t2 & 31 & 0 & 52 & 2 &  5 &  800 & 1.721134\\\\\n",
       "\t3 & 35 & 0 & 26 & 2 & 16 & 3500 & 1.738461\\\\\n",
       "\t4 & 25 & 0 & 29 & 8 & 12 &  600 & 1.693630\\\\\n",
       "\t5 & 29 & 1 & 51 & 2 & 16 & 3000 & 1.771060\\\\\n",
       "\t6 & 42 & 1 & 50 & 2 & 11 & 1500 & 1.837385\\\\\n",
       "\\end{tabular}\n"
      ],
      "text/markdown": [
       "\n",
       "A data.frame: 6 × 7\n",
       "\n",
       "| <!--/--> | UF &lt;int&gt; | Sex &lt;int&gt; | Age &lt;int&gt; | Color &lt;int&gt; | Years.of.Studies &lt;int&gt; | Income &lt;int&gt; | Height &lt;dbl&gt; |\n",
       "|---|---|---|---|---|---|---|---|\n",
       "| 1 | 51 | 0 | 27 | 2 | 12 | 1200 | 1.750691 |\n",
       "| 2 | 31 | 0 | 52 | 2 |  5 |  800 | 1.721134 |\n",
       "| 3 | 35 | 0 | 26 | 2 | 16 | 3500 | 1.738461 |\n",
       "| 4 | 25 | 0 | 29 | 8 | 12 |  600 | 1.693630 |\n",
       "| 5 | 29 | 1 | 51 | 2 | 16 | 3000 | 1.771060 |\n",
       "| 6 | 42 | 1 | 50 | 2 | 11 | 1500 | 1.837385 |\n",
       "\n"
      ],
      "text/plain": [
       "  UF Sex Age Color Years.of.Studies Income Height  \n",
       "1 51 0   27  2     12               1200   1.750691\n",
       "2 31 0   52  2      5                800   1.721134\n",
       "3 35 0   26  2     16               3500   1.738461\n",
       "4 25 0   29  8     12                600   1.693630\n",
       "5 29 1   51  2     16               3000   1.771060\n",
       "6 42 1   50  2     11               1500   1.837385"
      ]
     },
     "metadata": {},
     "output_type": "display_data"
    }
   ],
   "source": [
    "head(dataset_sample)"
   ]
  },
  {
   "cell_type": "code",
   "execution_count": 178,
   "id": "6c482b27-2116-4932-aaa7-3a0320433f2a",
   "metadata": {},
   "outputs": [
    {
     "data": {
      "text/html": [
       "1983.471"
      ],
      "text/latex": [
       "1983.471"
      ],
      "text/markdown": [
       "1983.471"
      ],
      "text/plain": [
       "[1] 1983.471"
      ]
     },
     "metadata": {},
     "output_type": "display_data"
    }
   ],
   "source": [
    "mean(dataset_sample$Income)"
   ]
  },
  {
   "cell_type": "code",
   "execution_count": 179,
   "id": "dbfc2df2-e517-44ba-becf-f61d060b6cc3",
   "metadata": {},
   "outputs": [
    {
     "data": {
      "text/html": [
       "2489.8109875878"
      ],
      "text/latex": [
       "2489.8109875878"
      ],
      "text/markdown": [
       "2489.8109875878"
      ],
      "text/plain": [
       "[1] 2489.811"
      ]
     },
     "metadata": {},
     "output_type": "display_data"
    }
   ],
   "source": [
    "sd(dataset_sample$Income)"
   ]
  },
  {
   "cell_type": "code",
   "execution_count": 180,
   "id": "f1793da4-e313-4ef6-a33a-0c4f9978e8c2",
   "metadata": {},
   "outputs": [
    {
     "data": {
      "text/html": [
       "1000"
      ],
      "text/latex": [
       "1000"
      ],
      "text/markdown": [
       "1000"
      ],
      "text/plain": [
       "[1] 1000"
      ]
     },
     "metadata": {},
     "output_type": "display_data"
    }
   ],
   "source": [
    "nrow(dataset_sample)"
   ]
  },
  {
   "cell_type": "markdown",
   "id": "deaedc2c-9fc0-4c6c-b7da-5b442eb5e4b4",
   "metadata": {},
   "source": [
    "### Problem data"
   ]
  },
  {
   "cell_type": "code",
   "execution_count": 181,
   "id": "f89555a5-6ada-4d7f-9223-cc75dd1be223",
   "metadata": {},
   "outputs": [
    {
     "data": {
      "text/html": [
       "1983.471"
      ],
      "text/latex": [
       "1983.471"
      ],
      "text/markdown": [
       "1983.471"
      ],
      "text/plain": [
       "[1] 1983.471"
      ]
     },
     "metadata": {},
     "output_type": "display_data"
    },
    {
     "data": {
      "text/html": [
       "2489.8109875878"
      ],
      "text/latex": [
       "2489.8109875878"
      ],
      "text/markdown": [
       "2489.8109875878"
      ],
      "text/plain": [
       "[1] 2489.811"
      ]
     },
     "metadata": {},
     "output_type": "display_data"
    },
    {
     "data": {
      "text/html": [
       "150000"
      ],
      "text/latex": [
       "150000"
      ],
      "text/markdown": [
       "150000"
      ],
      "text/plain": [
       "[1] 150000"
      ]
     },
     "metadata": {},
     "output_type": "display_data"
    },
    {
     "data": {
      "text/html": [
       "100"
      ],
      "text/latex": [
       "100"
      ],
      "text/markdown": [
       "100"
      ],
      "text/plain": [
       "[1] 100"
      ]
     },
     "metadata": {},
     "output_type": "display_data"
    },
    {
     "data": {
      "text/html": [
       "1000"
      ],
      "text/latex": [
       "1000"
      ],
      "text/markdown": [
       "1000"
      ],
      "text/plain": [
       "[1] 1000"
      ]
     },
     "metadata": {},
     "output_type": "display_data"
    }
   ],
   "source": [
    "mean_sample <- mean(dataset_sample$Income)\n",
    "mean_sample\n",
    "sd_sample <- sd(dataset_sample$Income)\n",
    "sd_sample\n",
    "resources <- 150000\n",
    "resources\n",
    "cost_per_interview <- 100\n",
    "cost_per_interview\n",
    "n <- nrow(dataset_sample)\n",
    "n"
   ]
  },
  {
   "cell_type": "markdown",
   "id": "7623a2de-3f30-4c66-8f38-fabd80d4c85c",
   "metadata": {},
   "source": [
    "***\n",
    "## <font color='purple'>Solution to item 2</font>"
   ]
  },
  {
   "cell_type": "markdown",
   "id": "2ec921de-d3c5-4c81-bd87-0a0c60e1140b",
   "metadata": {},
   "source": [
    "### Get the margin of error"
   ]
  },
  {
   "cell_type": "code",
   "execution_count": 182,
   "id": "6194cb2c-111f-440d-a507-ca86ffc5f307",
   "metadata": {},
   "outputs": [
    {
     "data": {
      "text/html": [
       "198.3471"
      ],
      "text/latex": [
       "198.3471"
      ],
      "text/markdown": [
       "198.3471"
      ],
      "text/plain": [
       "[1] 198.3471"
      ]
     },
     "metadata": {},
     "output_type": "display_data"
    }
   ],
   "source": [
    "e <- 0.10 * mean_sample\n",
    "e"
   ]
  },
  {
   "cell_type": "code",
   "execution_count": 183,
   "id": "81e35003-e4a9-45f5-852e-6416cb02d028",
   "metadata": {},
   "outputs": [
    {
     "data": {
      "text/html": [
       "'The marge of error is R$ 198,35 more or less'"
      ],
      "text/latex": [
       "'The marge of error is R\\$ 198,35 more or less'"
      ],
      "text/markdown": [
       "'The marge of error is R$ 198,35 more or less'"
      ],
      "text/plain": [
       "The marge of error is R$ 198,35 more or less"
      ]
     },
     "metadata": {},
     "output_type": "display_data"
    }
   ],
   "source": [
    "glue('The marge of error is R$ {format(e, digits=2, decimal.mark=\",\", nsmall=2, big.mark=\".\", scientific=F)} more or less')"
   ]
  },
  {
   "cell_type": "markdown",
   "id": "98372eca-3ea6-4b65-80d7-e7ee42109c6f",
   "metadata": {},
   "source": [
    "### Sample size ($1 - \\alpha = 90\\%$)"
   ]
  },
  {
   "cell_type": "code",
   "execution_count": 184,
   "id": "67458ef7-ebb3-4e02-9b4d-4939efa3e1cf",
   "metadata": {},
   "outputs": [
    {
     "data": {
      "text/html": [
       "1.64485362695147"
      ],
      "text/latex": [
       "1.64485362695147"
      ],
      "text/markdown": [
       "1.64485362695147"
      ],
      "text/plain": [
       "[1] 1.644854"
      ]
     },
     "metadata": {},
     "output_type": "display_data"
    }
   ],
   "source": [
    "Z <- qnorm(0.5 + (0.90 / 2))\n",
    "Z"
   ]
  },
  {
   "cell_type": "code",
   "execution_count": 185,
   "id": "15f0f0e6-5b48-4525-bfea-9561d8c42ffa",
   "metadata": {},
   "outputs": [],
   "source": [
    "sample_size_90 <- (Z * (sd_sample / e)) ** 2\n",
    "sample_size_90 <- round(sample_size_90)"
   ]
  },
  {
   "cell_type": "code",
   "execution_count": 186,
   "id": "b6737882-2850-4890-b0d1-aff8445b686a",
   "metadata": {},
   "outputs": [
    {
     "data": {
      "text/html": [
       "'For a confidence level of 90% we must select a sample of 426 elements.'"
      ],
      "text/latex": [
       "'For a confidence level of 90\\% we must select a sample of 426 elements.'"
      ],
      "text/markdown": [
       "'For a confidence level of 90% we must select a sample of 426 elements.'"
      ],
      "text/plain": [
       "For a confidence level of 90% we must select a sample of 426 elements."
      ]
     },
     "metadata": {},
     "output_type": "display_data"
    }
   ],
   "source": [
    "glue('For a confidence level of 90% we must select a sample of {sample_size_90} elements.')"
   ]
  },
  {
   "cell_type": "markdown",
   "id": "93d10414-1e8a-4e71-857a-d00f131a6e32",
   "metadata": {},
   "source": [
    "### Sample size ($1 - \\alpha = 95\\%$)"
   ]
  },
  {
   "cell_type": "code",
   "execution_count": 187,
   "id": "6c3a1260-50c7-4a13-baf4-5aab66269842",
   "metadata": {},
   "outputs": [
    {
     "data": {
      "text/html": [
       "1.95996398454005"
      ],
      "text/latex": [
       "1.95996398454005"
      ],
      "text/markdown": [
       "1.95996398454005"
      ],
      "text/plain": [
       "[1] 1.959964"
      ]
     },
     "metadata": {},
     "output_type": "display_data"
    }
   ],
   "source": [
    "Z <- qnorm(0.5 + (0.95 / 2))\n",
    "Z"
   ]
  },
  {
   "cell_type": "code",
   "execution_count": 188,
   "id": "0ef65ea8-cf73-4170-b5d3-cea2561617ab",
   "metadata": {},
   "outputs": [],
   "source": [
    "sample_size_95 <- (Z * (sd_sample / e)) ** 2\n",
    "sample_size_95 <- round(sample_size_95)"
   ]
  },
  {
   "cell_type": "code",
   "execution_count": 189,
   "id": "1634dd10-1e31-4a35-aa3e-9739ab338c8d",
   "metadata": {},
   "outputs": [
    {
     "data": {
      "text/html": [
       "'For a confidence level of 95% we must select a sample of 605 elements.'"
      ],
      "text/latex": [
       "'For a confidence level of 95\\% we must select a sample of 605 elements.'"
      ],
      "text/markdown": [
       "'For a confidence level of 95% we must select a sample of 605 elements.'"
      ],
      "text/plain": [
       "For a confidence level of 95% we must select a sample of 605 elements."
      ]
     },
     "metadata": {},
     "output_type": "display_data"
    }
   ],
   "source": [
    "glue('For a confidence level of 95% we must select a sample of {sample_size_95} elements.')"
   ]
  },
  {
   "cell_type": "markdown",
   "id": "b4d9643a-c6cd-4964-aa4f-1dfadfbcd9df",
   "metadata": {},
   "source": [
    "### Sample size ($1 - \\alpha = 99\\%$)"
   ]
  },
  {
   "cell_type": "code",
   "execution_count": 190,
   "id": "91269edd-0fad-4428-b630-176815fa851c",
   "metadata": {},
   "outputs": [
    {
     "data": {
      "text/html": [
       "2.5758293035489"
      ],
      "text/latex": [
       "2.5758293035489"
      ],
      "text/markdown": [
       "2.5758293035489"
      ],
      "text/plain": [
       "[1] 2.575829"
      ]
     },
     "metadata": {},
     "output_type": "display_data"
    }
   ],
   "source": [
    "Z <- qnorm(0.5 + (0.99 / 2))\n",
    "Z"
   ]
  },
  {
   "cell_type": "code",
   "execution_count": 191,
   "id": "7f629029-45c1-4d92-ac27-896c256be65f",
   "metadata": {},
   "outputs": [],
   "source": [
    "sample_size_99 <- (Z * (sd_sample / e)) ** 2\n",
    "sample_size_99 <- round(sample_size_99)"
   ]
  },
  {
   "cell_type": "code",
   "execution_count": 192,
   "id": "d02713f7-a0b6-4400-85ba-58217c313615",
   "metadata": {},
   "outputs": [
    {
     "data": {
      "text/html": [
       "'For a confidence level of 99% we must select a sample of 1045 elements.'"
      ],
      "text/latex": [
       "'For a confidence level of 99\\% we must select a sample of 1045 elements.'"
      ],
      "text/markdown": [
       "'For a confidence level of 99% we must select a sample of 1045 elements.'"
      ],
      "text/plain": [
       "For a confidence level of 99% we must select a sample of 1045 elements."
      ]
     },
     "metadata": {},
     "output_type": "display_data"
    }
   ],
   "source": [
    "glue('For a confidence level of 99% we must select a sample of {sample_size_99} elements.')"
   ]
  },
  {
   "cell_type": "markdown",
   "id": "ff9f3bd3-8728-4b9a-9d90-3581511774d6",
   "metadata": {},
   "source": [
    "***\n",
    "## <font color='purple'>Solution to item 3</font>"
   ]
  },
  {
   "cell_type": "markdown",
   "id": "f5b8f17e-d780-4201-b4f2-de887d929631",
   "metadata": {},
   "source": [
    "### Search cost for 90% confidence level"
   ]
  },
  {
   "cell_type": "code",
   "execution_count": 193,
   "id": "83f3acdd-5201-421b-a61a-d9efa8911aa7",
   "metadata": {},
   "outputs": [
    {
     "data": {
      "text/html": [
       "'For a confidence level of 90% the cost of the research would be R$ 42.600,00'"
      ],
      "text/latex": [
       "'For a confidence level of 90\\% the cost of the research would be R\\$ 42.600,00'"
      ],
      "text/markdown": [
       "'For a confidence level of 90% the cost of the research would be R$ 42.600,00'"
      ],
      "text/plain": [
       "For a confidence level of 90% the cost of the research would be R$ 42.600,00"
      ]
     },
     "metadata": {},
     "output_type": "display_data"
    }
   ],
   "source": [
    "research_cost_90 <- sample_size_90 * cost_per_interview\n",
    "glue('For a confidence level of 90% the cost of the research would be R$ {format(research_cost_90, digits=2, decimal.mark=\",\", nsmall=2, big.mark=\".\", scientific= F)}')"
   ]
  },
  {
   "cell_type": "markdown",
   "id": "0568b860-fb6b-4537-b5c6-cf7a56f283e7",
   "metadata": {},
   "source": [
    "### Search cost for 95% confidence level"
   ]
  },
  {
   "cell_type": "code",
   "execution_count": 194,
   "id": "c72515d6-4bea-4f58-9b02-27d1aeb5a89c",
   "metadata": {},
   "outputs": [
    {
     "data": {
      "text/html": [
       "'For a confidence level of 95% the cost of the research would be R$ 60.500,00'"
      ],
      "text/latex": [
       "'For a confidence level of 95\\% the cost of the research would be R\\$ 60.500,00'"
      ],
      "text/markdown": [
       "'For a confidence level of 95% the cost of the research would be R$ 60.500,00'"
      ],
      "text/plain": [
       "For a confidence level of 95% the cost of the research would be R$ 60.500,00"
      ]
     },
     "metadata": {},
     "output_type": "display_data"
    }
   ],
   "source": [
    "research_cost_95 <- sample_size_95 * cost_per_interview\n",
    "glue('For a confidence level of 95% the cost of the research would be R$ {format(research_cost_95, digits=2, decimal.mark=\",\", nsmall=2, big.mark=\".\", scientific= F)}')"
   ]
  },
  {
   "cell_type": "markdown",
   "id": "b767d8fa-5f59-4100-8090-1cedf03ae428",
   "metadata": {},
   "source": [
    "### Search cost for 99% confidence level"
   ]
  },
  {
   "cell_type": "code",
   "execution_count": 195,
   "id": "14e8b43a-4846-45e5-af7a-01ad8ef6d5a1",
   "metadata": {},
   "outputs": [
    {
     "data": {
      "text/html": [
       "'For a confidence level of 99% the cost of the research would be R$ 104.500,00'"
      ],
      "text/latex": [
       "'For a confidence level of 99\\% the cost of the research would be R\\$ 104.500,00'"
      ],
      "text/markdown": [
       "'For a confidence level of 99% the cost of the research would be R$ 104.500,00'"
      ],
      "text/plain": [
       "For a confidence level of 99% the cost of the research would be R$ 104.500,00"
      ]
     },
     "metadata": {},
     "output_type": "display_data"
    }
   ],
   "source": [
    "research_cost_99 <- sample_size_99 * cost_per_interview\n",
    "glue('For a confidence level of 99% the cost of the research would be R$ {format(research_cost_99, digits=2, decimal.mark=\",\", nsmall=2, big.mark=\".\", scientific= F)}')"
   ]
  },
  {
   "cell_type": "markdown",
   "id": "7c5d661b-7e98-4fd6-9a66-d877cb3632b5",
   "metadata": {},
   "source": [
    "***\n",
    "## <font color='purple'>Solution to item 4</font>"
   ]
  },
  {
   "cell_type": "code",
   "execution_count": 196,
   "id": "cd6a66b5-1af4-4daf-a87f-ded720ccae65",
   "metadata": {},
   "outputs": [
    {
     "data": {
      "text/html": [
       "101.225211261313"
      ],
      "text/latex": [
       "101.225211261313"
      ],
      "text/markdown": [
       "101.225211261313"
      ],
      "text/plain": [
       "[1] 101.2252"
      ]
     },
     "metadata": {},
     "output_type": "display_data"
    }
   ],
   "source": [
    "sigma <- sd_sample / sqrt(sample_size_95)\n",
    "sigma"
   ]
  },
  {
   "cell_type": "code",
   "execution_count": 197,
   "id": "d0f44c33-65d8-4e99-b0a8-616b58f966aa",
   "metadata": {},
   "outputs": [
    {
     "data": {
      "text/html": [
       "<style>\n",
       ".dl-inline {width: auto; margin:0; padding: 0}\n",
       ".dl-inline>dt, .dl-inline>dd {float: none; width: auto; display: inline-block}\n",
       ".dl-inline>dt::after {content: \":\\0020\"; padding-right: .5ex}\n",
       ".dl-inline>dt:not(:first-of-type) {padding-left: .5ex}\n",
       "</style><dl class=dl-inline><dt>mean</dt><dd>1983.471</dd><dt>lwr.ci</dt><dd>1785.07323160037</dd><dt>upr.ci</dt><dd>2181.86876839963</dd></dl>\n"
      ],
      "text/latex": [
       "\\begin{description*}\n",
       "\\item[mean] 1983.471\n",
       "\\item[lwr.ci] 1785.07323160037\n",
       "\\item[upr.ci] 2181.86876839963\n",
       "\\end{description*}\n"
      ],
      "text/markdown": [
       "mean\n",
       ":   1983.471lwr.ci\n",
       ":   1785.07323160037upr.ci\n",
       ":   2181.86876839963\n",
       "\n"
      ],
      "text/plain": [
       "    mean   lwr.ci   upr.ci \n",
       "1983.471 1785.073 2181.869 "
      ]
     },
     "metadata": {},
     "output_type": "display_data"
    }
   ],
   "source": [
    "MeanCI(x=mean_sample, sd=sigma, type='norm', conf.level=0.95, sides='two.sided')"
   ]
  },
  {
   "cell_type": "markdown",
   "id": "50b1f688-c68d-4877-832d-a1dbb929626b",
   "metadata": {},
   "source": [
    "***\n",
    "## <font color='purple'>Solution to item 5</font>"
   ]
  },
  {
   "cell_type": "code",
   "execution_count": 198,
   "id": "3eed594d-d025-4602-b5d9-9bffd3b86f65",
   "metadata": {},
   "outputs": [
    {
     "data": {
      "text/html": [
       "1500"
      ],
      "text/latex": [
       "1500"
      ],
      "text/markdown": [
       "1500"
      ],
      "text/plain": [
       "[1] 1500"
      ]
     },
     "metadata": {},
     "output_type": "display_data"
    }
   ],
   "source": [
    "sample_size_95 <- resources / cost_per_interview\n",
    "sample_size_95"
   ]
  },
  {
   "cell_type": "code",
   "execution_count": 199,
   "id": "d2908e33-298c-4616-bd5c-77bfc949469a",
   "metadata": {},
   "outputs": [
    {
     "data": {
      "text/html": [
       "165.591419555337"
      ],
      "text/latex": [
       "165.591419555337"
      ],
      "text/markdown": [
       "165.591419555337"
      ],
      "text/plain": [
       "[1] 165.5914"
      ]
     },
     "metadata": {},
     "output_type": "display_data"
    }
   ],
   "source": [
    "e <- Z * (sd_sample /  sqrt(sample_size_95))\n",
    "e"
   ]
  },
  {
   "cell_type": "code",
   "execution_count": 200,
   "id": "61637e3a-2d45-4f3c-b53c-29264092fb76",
   "metadata": {},
   "outputs": [
    {
     "data": {
      "text/html": [
       "'The new margin of error is 8,35%.'"
      ],
      "text/latex": [
       "'The new margin of error is 8,35\\%.'"
      ],
      "text/markdown": [
       "'The new margin of error is 8,35%.'"
      ],
      "text/plain": [
       "The new margin of error is 8,35%."
      ]
     },
     "metadata": {},
     "output_type": "display_data"
    }
   ],
   "source": [
    "e_percent <- (e / mean_sample) * 100\n",
    "glue('The new margin of error is {format(e_percent, digits = 2, nsmall = 2, decimal.mark = \",\")}%.')"
   ]
  },
  {
   "cell_type": "markdown",
   "id": "c7c50c33-885e-4234-a887-557358203287",
   "metadata": {},
   "source": [
    "***\n",
    "## <font color='purple'>Solution to item 6</font>"
   ]
  },
  {
   "cell_type": "code",
   "execution_count": 201,
   "id": "affa68f5-2477-4e7a-a84d-8fc25386886a",
   "metadata": {},
   "outputs": [
    {
     "data": {
      "text/html": [
       "'The margin of error is R$ 99,17 plus or minus '"
      ],
      "text/latex": [
       "'The margin of error is R\\$ 99,17 plus or minus '"
      ],
      "text/markdown": [
       "'The margin of error is R$ 99,17 plus or minus '"
      ],
      "text/plain": [
       "The margin of error is R$ 99,17 plus or minus "
      ]
     },
     "metadata": {},
     "output_type": "display_data"
    }
   ],
   "source": [
    "e <- 0.05 * mean_sample\n",
    "glue('The margin of error is R$ {format(e, digits=2, decimal.mark=\",\", nsmall=2, big.mark=\".\", scientific=F)} plus or minus ')"
   ]
  },
  {
   "cell_type": "code",
   "execution_count": 202,
   "id": "09e16da7-c037-4622-9850-48419d15c667",
   "metadata": {},
   "outputs": [
    {
     "data": {
      "text/html": [
       "'For a 95% confidence level we must select a sample of 2421 elements.'"
      ],
      "text/latex": [
       "'For a 95\\% confidence level we must select a sample of 2421 elements.'"
      ],
      "text/markdown": [
       "'For a 95% confidence level we must select a sample of 2421 elements.'"
      ],
      "text/plain": [
       "For a 95% confidence level we must select a sample of 2421 elements."
      ]
     },
     "metadata": {},
     "output_type": "display_data"
    }
   ],
   "source": [
    "Z <- qnorm(0.5 + (0.95 / 2))\n",
    "sample_size_95 <- (Z * (sd_sample / e)) ** 2\n",
    "sample_size_95 <- round(sample_size_95)\n",
    "glue('For a 95% confidence level we must select a sample of {sample_size_95} elements.')"
   ]
  },
  {
   "cell_type": "code",
   "execution_count": 203,
   "id": "ef29544f-dd64-455c-aff8-f89713fcf55f",
   "metadata": {},
   "outputs": [
    {
     "data": {
      "text/html": [
       "'For a confidence level of 95% the cost of the research would be R$ 242.100,00'"
      ],
      "text/latex": [
       "'For a confidence level of 95\\% the cost of the research would be R\\$ 242.100,00'"
      ],
      "text/markdown": [
       "'For a confidence level of 95% the cost of the research would be R$ 242.100,00'"
      ],
      "text/plain": [
       "For a confidence level of 95% the cost of the research would be R$ 242.100,00"
      ]
     },
     "metadata": {},
     "output_type": "display_data"
    }
   ],
   "source": [
    "research_cost_95 <- sample_size_95 * cost_per_interview\n",
    "glue('For a confidence level of 95% the cost of the research would be R$ {format(research_cost_95, digits=2, decimal.mark=\",\", nsmall=2, big.mark=\".\", scientific= F)}')"
   ]
  }
 ],
 "metadata": {
  "kernelspec": {
   "display_name": "R",
   "language": "R",
   "name": "ir"
  },
  "language_info": {
   "codemirror_mode": "r",
   "file_extension": ".r",
   "mimetype": "text/x-r-source",
   "name": "R",
   "pygments_lexer": "r",
   "version": "4.3.1"
  }
 },
 "nbformat": 4,
 "nbformat_minor": 5
}
