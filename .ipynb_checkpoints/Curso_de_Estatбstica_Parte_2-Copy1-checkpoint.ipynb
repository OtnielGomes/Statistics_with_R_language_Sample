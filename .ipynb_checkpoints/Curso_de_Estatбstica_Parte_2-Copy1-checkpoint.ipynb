{
 "cells": [
  {
   "cell_type": "markdown",
   "metadata": {
    "colab_type": "text",
    "id": "WvMflodMjQKe"
   },
   "source": [
    "***\n",
    "# <font color=green size=10>CURSO DE ESTATÍSTICA - PARTE 2</font>\n",
    "***"
   ]
  },
  {
   "cell_type": "markdown",
   "metadata": {
    "colab_type": "text",
    "id": "cVgsZ_E3jQKg"
   },
   "source": [
    "# <font color=green>1 CONHECENDO OS DADOS</font>\n",
    "***"
   ]
  },
  {
   "cell_type": "markdown",
   "metadata": {
    "colab_type": "text",
    "id": "TDjqYYNojQKh"
   },
   "source": [
    "## <font color=green>1.1 Dataset do projeto</font>\n",
    "***"
   ]
  },
  {
   "cell_type": "markdown",
   "metadata": {
    "colab_type": "text",
    "id": "iN1gIbaKjQKh"
   },
   "source": [
    "### Pesquisa Nacional por Amostra de Domicílios - 2015\n",
    "\n",
    "A **Pesquisa Nacional por Amostra de Domicílios - PNAD** investiga anualmente, de forma permanente, características gerais da população, de educação, trabalho, rendimento e habitação e outras, com periodicidade variável, de acordo com as necessidades de informação para o país, como as características sobre migração, fecundidade, nupcialidade, saúde, segurança alimentar, entre outros temas. O levantamento dessas estatísticas constitui, ao longo dos 49 anos de realização da pesquisa, um importante instrumento para formulação, validação e avaliação de políticas orientadas para o desenvolvimento socioeconômico e a melhoria das condições de vida no Brasil."
   ]
  },
  {
   "cell_type": "markdown",
   "metadata": {
    "colab_type": "text",
    "id": "U6V7br1RjQKi"
   },
   "source": [
    "### Fonte dos Dados\n",
    "\n",
    "https://ww2.ibge.gov.br/home/estatistica/populacao/trabalhoerendimento/pnad2015/microdados.shtm"
   ]
  },
  {
   "cell_type": "markdown",
   "metadata": {
    "colab_type": "text",
    "id": "r0Fe_qnzjQKj"
   },
   "source": [
    "### Variáveis utilizadas\n",
    "\n",
    "> ### Renda\n",
    "> ***\n",
    "\n",
    "Rendimento mensal do trabalho principal para pessoas de 10 anos ou mais de idade.\n",
    "\n",
    "> ### Idade\n",
    "> ***\n",
    "\n",
    "Idade do morador na data de referência em anos.\n",
    "\n",
    "> ### Altura (elaboração própria)\n",
    "> ***\n",
    "\n",
    "Altura do morador em metros.\n",
    "\n",
    "> ### UF\n",
    "> ***\n",
    "\n",
    "|Código|Descrição|\n",
    "|---|---|\n",
    "|11|Rondônia|\n",
    "|12|Acre|\n",
    "|13|Amazonas|\n",
    "|14|Roraima|\n",
    "|15|Pará|\n",
    "|16|Amapá|\n",
    "|17|Tocantins|\n",
    "|21|Maranhão|\n",
    "|22|Piauí|\n",
    "|23|Ceará|\n",
    "|24|Rio Grande do Norte|\n",
    "|25|Paraíba|\n",
    "|26|Pernambuco|\n",
    "|27|Alagoas|\n",
    "|28|Sergipe|\n",
    "|29|Bahia|\n",
    "|31|Minas Gerais|\n",
    "|32|Espírito Santo|\n",
    "|33|Rio de Janeiro|\n",
    "|35|São Paulo|\n",
    "|41|Paraná|\n",
    "|42|Santa Catarina|\n",
    "|43|Rio Grande do Sul|\n",
    "|50|Mato Grosso do Sul|\n",
    "|51|Mato Grosso|\n",
    "|52|Goiás|\n",
    "|53|Distrito Federal|\n",
    "\n",
    "> ### Sexo\t\n",
    "> ***\n",
    "\n",
    "|Código|Descrição|\n",
    "|---|---|\n",
    "|0|Masculino|\n",
    "|1|Feminino|\n",
    "\n",
    "> ### Anos de Estudo\n",
    "> ***\n",
    "\n",
    "|Código|Descrição|\n",
    "|---|---|\n",
    "|1|Sem instrução e menos de 1 ano|\n",
    "|2|1 ano|\n",
    "|3|2 anos|\n",
    "|4|3 anos|\n",
    "|5|4 anos|\n",
    "|6|5 anos|\n",
    "|7|6 anos|\n",
    "|8|7 anos|\n",
    "|9|8 anos|\n",
    "|10|9 anos|\n",
    "|11|10 anos|\n",
    "|12|11 anos|\n",
    "|13|12 anos|\n",
    "|14|13 anos|\n",
    "|15|14 anos|\n",
    "|16|15 anos ou mais|\n",
    "|17|Não determinados| \n",
    "||Não aplicável|\n",
    "\n",
    "> ### Cor\n",
    "> ***\n",
    "\n",
    "|Código|Descrição|\n",
    "|---|---|\n",
    "|0|Indígena|\n",
    "|2|Branca|\n",
    "|4|Preta|\n",
    "|6|Amarela|\n",
    "|8|Parda|\n",
    "|9|Sem declaração|"
   ]
  },
  {
   "cell_type": "markdown",
   "metadata": {
    "colab_type": "text",
    "id": "OK1IQH5cX7Gb"
   },
   "source": [
    "#### <font color='red'>Observação</font>\n",
    "***\n",
    "> Os seguintes tratamentos foram realizados nos dados originais:\n",
    "> 1. Foram eliminados os registros onde a **Renda** era inválida (999 999 999 999);\n",
    "> 2. Foram eliminados os registros onde a **Renda** era missing;\n",
    "> 3. Foram considerados somente os registros das **Pessoas de Referência** de cada domicílio (responsável pelo domicílio)."
   ]
  },
  {
   "cell_type": "markdown",
   "metadata": {},
   "source": [
    "### Configurações"
   ]
  },
  {
   "cell_type": "code",
   "execution_count": 1,
   "metadata": {},
   "outputs": [],
   "source": [
    "library(ggplot2)"
   ]
  },
  {
   "cell_type": "code",
   "execution_count": 2,
   "metadata": {},
   "outputs": [],
   "source": [
    "options(repr.plot.width = 7, repr.plot.height = 4)"
   ]
  },
  {
   "cell_type": "markdown",
   "metadata": {
    "colab_type": "text",
    "id": "8Rw70V6ojQKk"
   },
   "source": [
    "### Importando dataset do projeto"
   ]
  },
  {
   "cell_type": "code",
   "execution_count": 3,
   "metadata": {
    "colab": {},
    "colab_type": "code",
    "id": "ufRZ7TLwjQKo"
   },
   "outputs": [],
   "source": [
    "dataset <- read.csv('dataset_IBGE.csv')"
   ]
  },
  {
   "cell_type": "code",
   "execution_count": 4,
   "metadata": {
    "colab": {
     "base_uri": "https://localhost:8080/",
     "height": 204
    },
    "colab_type": "code",
    "id": "GsC_WhLFjQKq",
    "outputId": "36b6565f-bb67-47b7-ea64-8d2695c60e6b",
    "scrolled": true
   },
   "outputs": [
    {
     "data": {
      "text/html": [
       "<table class=\"dataframe\">\n",
       "<caption>A data.frame: 76840 × 7</caption>\n",
       "<thead>\n",
       "\t<tr><th scope=col>UF</th><th scope=col>Sex</th><th scope=col>Age</th><th scope=col>Color</th><th scope=col>Years.of.Studies</th><th scope=col>Income</th><th scope=col>Height</th></tr>\n",
       "\t<tr><th scope=col>&lt;int&gt;</th><th scope=col>&lt;int&gt;</th><th scope=col>&lt;int&gt;</th><th scope=col>&lt;int&gt;</th><th scope=col>&lt;int&gt;</th><th scope=col>&lt;int&gt;</th><th scope=col>&lt;dbl&gt;</th></tr>\n",
       "</thead>\n",
       "<tbody>\n",
       "\t<tr><td>11</td><td>0</td><td>23</td><td>8</td><td>12</td><td> 800</td><td>1.603808</td></tr>\n",
       "\t<tr><td>11</td><td>1</td><td>23</td><td>2</td><td>12</td><td>1150</td><td>1.739790</td></tr>\n",
       "\t<tr><td>11</td><td>1</td><td>35</td><td>8</td><td>15</td><td> 880</td><td>1.760444</td></tr>\n",
       "\t<tr><td>11</td><td>0</td><td>46</td><td>2</td><td> 6</td><td>3500</td><td>1.783158</td></tr>\n",
       "\t<tr><td>11</td><td>1</td><td>47</td><td>8</td><td> 9</td><td> 150</td><td>1.690631</td></tr>\n",
       "\t<tr><td>11</td><td>1</td><td>34</td><td>8</td><td>12</td><td> 790</td><td>1.637906</td></tr>\n",
       "\t<tr><td>11</td><td>0</td><td>57</td><td>8</td><td>12</td><td>3150</td><td>1.570078</td></tr>\n",
       "\t<tr><td>11</td><td>1</td><td>60</td><td>8</td><td>12</td><td>1700</td><td>1.608495</td></tr>\n",
       "\t<tr><td>11</td><td>1</td><td>50</td><td>4</td><td>14</td><td>1800</td><td>1.780329</td></tr>\n",
       "\t<tr><td>11</td><td>0</td><td>26</td><td>8</td><td>12</td><td>1150</td><td>1.793203</td></tr>\n",
       "\t<tr><td>11</td><td>1</td><td>46</td><td>8</td><td>12</td><td>3000</td><td>1.787003</td></tr>\n",
       "\t<tr><td>11</td><td>1</td><td>49</td><td>8</td><td> 6</td><td>2500</td><td>1.712912</td></tr>\n",
       "\t<tr><td>11</td><td>1</td><td>52</td><td>2</td><td> 6</td><td>1200</td><td>1.736442</td></tr>\n",
       "\t<tr><td>11</td><td>0</td><td>38</td><td>8</td><td>12</td><td>2000</td><td>1.750827</td></tr>\n",
       "\t<tr><td>11</td><td>0</td><td>45</td><td>2</td><td>12</td><td>2000</td><td>1.780450</td></tr>\n",
       "\t<tr><td>11</td><td>0</td><td>34</td><td>2</td><td>16</td><td>6000</td><td>1.711825</td></tr>\n",
       "\t<tr><td>11</td><td>1</td><td>43</td><td>8</td><td>10</td><td>1050</td><td>1.789012</td></tr>\n",
       "\t<tr><td>11</td><td>0</td><td>53</td><td>8</td><td>16</td><td>7000</td><td>1.673665</td></tr>\n",
       "\t<tr><td>11</td><td>0</td><td>57</td><td>2</td><td>12</td><td>2000</td><td>1.715138</td></tr>\n",
       "\t<tr><td>11</td><td>1</td><td>62</td><td>8</td><td>12</td><td>1150</td><td>1.765973</td></tr>\n",
       "\t<tr><td>11</td><td>0</td><td>69</td><td>8</td><td> 1</td><td>3030</td><td>1.746351</td></tr>\n",
       "\t<tr><td>11</td><td>1</td><td>41</td><td>8</td><td>16</td><td>4000</td><td>1.660873</td></tr>\n",
       "\t<tr><td>11</td><td>0</td><td>34</td><td>8</td><td> 5</td><td> 788</td><td>1.746048</td></tr>\n",
       "\t<tr><td>11</td><td>0</td><td>25</td><td>8</td><td>12</td><td>1000</td><td>1.726496</td></tr>\n",
       "\t<tr><td>11</td><td>0</td><td>33</td><td>8</td><td> 9</td><td> 800</td><td>1.778914</td></tr>\n",
       "\t<tr><td>11</td><td>1</td><td>44</td><td>8</td><td> 5</td><td> 788</td><td>1.668638</td></tr>\n",
       "\t<tr><td>11</td><td>0</td><td>33</td><td>2</td><td>16</td><td>1600</td><td>1.783771</td></tr>\n",
       "\t<tr><td>11</td><td>0</td><td>65</td><td>2</td><td>12</td><td>1700</td><td>1.873445</td></tr>\n",
       "\t<tr><td>11</td><td>0</td><td>33</td><td>8</td><td>14</td><td>2000</td><td>1.890250</td></tr>\n",
       "\t<tr><td>11</td><td>0</td><td>32</td><td>8</td><td>12</td><td>2400</td><td>1.660204</td></tr>\n",
       "\t<tr><td>⋮</td><td>⋮</td><td>⋮</td><td>⋮</td><td>⋮</td><td>⋮</td><td>⋮</td></tr>\n",
       "\t<tr><td>53</td><td>0</td><td>34</td><td>4</td><td>12</td><td> 2500</td><td>1.802241</td></tr>\n",
       "\t<tr><td>53</td><td>1</td><td>57</td><td>2</td><td>11</td><td> 1000</td><td>1.823047</td></tr>\n",
       "\t<tr><td>53</td><td>1</td><td>32</td><td>4</td><td>12</td><td>  788</td><td>1.681405</td></tr>\n",
       "\t<tr><td>53</td><td>0</td><td>35</td><td>4</td><td> 9</td><td> 2100</td><td>1.671112</td></tr>\n",
       "\t<tr><td>53</td><td>1</td><td>49</td><td>8</td><td>12</td><td> 5260</td><td>1.799319</td></tr>\n",
       "\t<tr><td>53</td><td>0</td><td>51</td><td>8</td><td> 1</td><td> 5000</td><td>1.599400</td></tr>\n",
       "\t<tr><td>53</td><td>0</td><td>37</td><td>8</td><td>12</td><td>  950</td><td>1.620497</td></tr>\n",
       "\t<tr><td>53</td><td>0</td><td>47</td><td>8</td><td>12</td><td> 1109</td><td>1.920274</td></tr>\n",
       "\t<tr><td>53</td><td>0</td><td>27</td><td>8</td><td>10</td><td>  850</td><td>1.793074</td></tr>\n",
       "\t<tr><td>53</td><td>1</td><td>49</td><td>8</td><td> 9</td><td>  788</td><td>1.695710</td></tr>\n",
       "\t<tr><td>53</td><td>1</td><td>27</td><td>8</td><td>12</td><td>  866</td><td>1.729035</td></tr>\n",
       "\t<tr><td>53</td><td>0</td><td>20</td><td>2</td><td> 8</td><td> 1300</td><td>1.660409</td></tr>\n",
       "\t<tr><td>53</td><td>0</td><td>49</td><td>8</td><td>12</td><td> 8700</td><td>1.775182</td></tr>\n",
       "\t<tr><td>53</td><td>0</td><td>43</td><td>8</td><td>10</td><td> 5000</td><td>1.584493</td></tr>\n",
       "\t<tr><td>53</td><td>0</td><td>64</td><td>2</td><td>12</td><td> 5000</td><td>1.717452</td></tr>\n",
       "\t<tr><td>53</td><td>0</td><td>55</td><td>2</td><td>16</td><td>13000</td><td>1.729995</td></tr>\n",
       "\t<tr><td>53</td><td>0</td><td>39</td><td>2</td><td>12</td><td> 6000</td><td>1.739046</td></tr>\n",
       "\t<tr><td>53</td><td>1</td><td>41</td><td>2</td><td>16</td><td>10000</td><td>1.696208</td></tr>\n",
       "\t<tr><td>53</td><td>0</td><td>62</td><td>2</td><td>16</td><td>10000</td><td>1.817097</td></tr>\n",
       "\t<tr><td>53</td><td>0</td><td>42</td><td>8</td><td>12</td><td>32000</td><td>1.788923</td></tr>\n",
       "\t<tr><td>53</td><td>0</td><td>62</td><td>2</td><td>16</td><td> 3500</td><td>1.725379</td></tr>\n",
       "\t<tr><td>53</td><td>1</td><td>44</td><td>2</td><td>16</td><td>30000</td><td>1.783962</td></tr>\n",
       "\t<tr><td>53</td><td>1</td><td>49</td><td>2</td><td>12</td><td> 5000</td><td>1.757146</td></tr>\n",
       "\t<tr><td>53</td><td>0</td><td>30</td><td>4</td><td> 6</td><td> 1900</td><td>1.662560</td></tr>\n",
       "\t<tr><td>53</td><td>1</td><td>35</td><td>4</td><td> 1</td><td> 1100</td><td>1.741089</td></tr>\n",
       "\t<tr><td>53</td><td>1</td><td>46</td><td>2</td><td>11</td><td>  812</td><td>1.687030</td></tr>\n",
       "\t<tr><td>53</td><td>0</td><td>30</td><td>4</td><td> 7</td><td> 1500</td><td>1.792934</td></tr>\n",
       "\t<tr><td>53</td><td>0</td><td>32</td><td>8</td><td>12</td><td> 1300</td><td>1.830587</td></tr>\n",
       "\t<tr><td>53</td><td>0</td><td>57</td><td>8</td><td> 4</td><td> 1500</td><td>1.726344</td></tr>\n",
       "\t<tr><td>53</td><td>0</td><td>38</td><td>8</td><td> 4</td><td>  900</td><td>1.658305</td></tr>\n",
       "</tbody>\n",
       "</table>\n"
      ],
      "text/latex": [
       "A data.frame: 76840 × 7\n",
       "\\begin{tabular}{lllllll}\n",
       " UF & Sex & Age & Color & Years.of.Studies & Income & Height\\\\\n",
       " <int> & <int> & <int> & <int> & <int> & <int> & <dbl>\\\\\n",
       "\\hline\n",
       "\t 11 & 0 & 23 & 8 & 12 &  800 & 1.603808\\\\\n",
       "\t 11 & 1 & 23 & 2 & 12 & 1150 & 1.739790\\\\\n",
       "\t 11 & 1 & 35 & 8 & 15 &  880 & 1.760444\\\\\n",
       "\t 11 & 0 & 46 & 2 &  6 & 3500 & 1.783158\\\\\n",
       "\t 11 & 1 & 47 & 8 &  9 &  150 & 1.690631\\\\\n",
       "\t 11 & 1 & 34 & 8 & 12 &  790 & 1.637906\\\\\n",
       "\t 11 & 0 & 57 & 8 & 12 & 3150 & 1.570078\\\\\n",
       "\t 11 & 1 & 60 & 8 & 12 & 1700 & 1.608495\\\\\n",
       "\t 11 & 1 & 50 & 4 & 14 & 1800 & 1.780329\\\\\n",
       "\t 11 & 0 & 26 & 8 & 12 & 1150 & 1.793203\\\\\n",
       "\t 11 & 1 & 46 & 8 & 12 & 3000 & 1.787003\\\\\n",
       "\t 11 & 1 & 49 & 8 &  6 & 2500 & 1.712912\\\\\n",
       "\t 11 & 1 & 52 & 2 &  6 & 1200 & 1.736442\\\\\n",
       "\t 11 & 0 & 38 & 8 & 12 & 2000 & 1.750827\\\\\n",
       "\t 11 & 0 & 45 & 2 & 12 & 2000 & 1.780450\\\\\n",
       "\t 11 & 0 & 34 & 2 & 16 & 6000 & 1.711825\\\\\n",
       "\t 11 & 1 & 43 & 8 & 10 & 1050 & 1.789012\\\\\n",
       "\t 11 & 0 & 53 & 8 & 16 & 7000 & 1.673665\\\\\n",
       "\t 11 & 0 & 57 & 2 & 12 & 2000 & 1.715138\\\\\n",
       "\t 11 & 1 & 62 & 8 & 12 & 1150 & 1.765973\\\\\n",
       "\t 11 & 0 & 69 & 8 &  1 & 3030 & 1.746351\\\\\n",
       "\t 11 & 1 & 41 & 8 & 16 & 4000 & 1.660873\\\\\n",
       "\t 11 & 0 & 34 & 8 &  5 &  788 & 1.746048\\\\\n",
       "\t 11 & 0 & 25 & 8 & 12 & 1000 & 1.726496\\\\\n",
       "\t 11 & 0 & 33 & 8 &  9 &  800 & 1.778914\\\\\n",
       "\t 11 & 1 & 44 & 8 &  5 &  788 & 1.668638\\\\\n",
       "\t 11 & 0 & 33 & 2 & 16 & 1600 & 1.783771\\\\\n",
       "\t 11 & 0 & 65 & 2 & 12 & 1700 & 1.873445\\\\\n",
       "\t 11 & 0 & 33 & 8 & 14 & 2000 & 1.890250\\\\\n",
       "\t 11 & 0 & 32 & 8 & 12 & 2400 & 1.660204\\\\\n",
       "\t ⋮ & ⋮ & ⋮ & ⋮ & ⋮ & ⋮ & ⋮\\\\\n",
       "\t 53 & 0 & 34 & 4 & 12 &  2500 & 1.802241\\\\\n",
       "\t 53 & 1 & 57 & 2 & 11 &  1000 & 1.823047\\\\\n",
       "\t 53 & 1 & 32 & 4 & 12 &   788 & 1.681405\\\\\n",
       "\t 53 & 0 & 35 & 4 &  9 &  2100 & 1.671112\\\\\n",
       "\t 53 & 1 & 49 & 8 & 12 &  5260 & 1.799319\\\\\n",
       "\t 53 & 0 & 51 & 8 &  1 &  5000 & 1.599400\\\\\n",
       "\t 53 & 0 & 37 & 8 & 12 &   950 & 1.620497\\\\\n",
       "\t 53 & 0 & 47 & 8 & 12 &  1109 & 1.920274\\\\\n",
       "\t 53 & 0 & 27 & 8 & 10 &   850 & 1.793074\\\\\n",
       "\t 53 & 1 & 49 & 8 &  9 &   788 & 1.695710\\\\\n",
       "\t 53 & 1 & 27 & 8 & 12 &   866 & 1.729035\\\\\n",
       "\t 53 & 0 & 20 & 2 &  8 &  1300 & 1.660409\\\\\n",
       "\t 53 & 0 & 49 & 8 & 12 &  8700 & 1.775182\\\\\n",
       "\t 53 & 0 & 43 & 8 & 10 &  5000 & 1.584493\\\\\n",
       "\t 53 & 0 & 64 & 2 & 12 &  5000 & 1.717452\\\\\n",
       "\t 53 & 0 & 55 & 2 & 16 & 13000 & 1.729995\\\\\n",
       "\t 53 & 0 & 39 & 2 & 12 &  6000 & 1.739046\\\\\n",
       "\t 53 & 1 & 41 & 2 & 16 & 10000 & 1.696208\\\\\n",
       "\t 53 & 0 & 62 & 2 & 16 & 10000 & 1.817097\\\\\n",
       "\t 53 & 0 & 42 & 8 & 12 & 32000 & 1.788923\\\\\n",
       "\t 53 & 0 & 62 & 2 & 16 &  3500 & 1.725379\\\\\n",
       "\t 53 & 1 & 44 & 2 & 16 & 30000 & 1.783962\\\\\n",
       "\t 53 & 1 & 49 & 2 & 12 &  5000 & 1.757146\\\\\n",
       "\t 53 & 0 & 30 & 4 &  6 &  1900 & 1.662560\\\\\n",
       "\t 53 & 1 & 35 & 4 &  1 &  1100 & 1.741089\\\\\n",
       "\t 53 & 1 & 46 & 2 & 11 &   812 & 1.687030\\\\\n",
       "\t 53 & 0 & 30 & 4 &  7 &  1500 & 1.792934\\\\\n",
       "\t 53 & 0 & 32 & 8 & 12 &  1300 & 1.830587\\\\\n",
       "\t 53 & 0 & 57 & 8 &  4 &  1500 & 1.726344\\\\\n",
       "\t 53 & 0 & 38 & 8 &  4 &   900 & 1.658305\\\\\n",
       "\\end{tabular}\n"
      ],
      "text/markdown": [
       "\n",
       "A data.frame: 76840 × 7\n",
       "\n",
       "| UF &lt;int&gt; | Sex &lt;int&gt; | Age &lt;int&gt; | Color &lt;int&gt; | Years.of.Studies &lt;int&gt; | Income &lt;int&gt; | Height &lt;dbl&gt; |\n",
       "|---|---|---|---|---|---|---|\n",
       "| 11 | 0 | 23 | 8 | 12 |  800 | 1.603808 |\n",
       "| 11 | 1 | 23 | 2 | 12 | 1150 | 1.739790 |\n",
       "| 11 | 1 | 35 | 8 | 15 |  880 | 1.760444 |\n",
       "| 11 | 0 | 46 | 2 |  6 | 3500 | 1.783158 |\n",
       "| 11 | 1 | 47 | 8 |  9 |  150 | 1.690631 |\n",
       "| 11 | 1 | 34 | 8 | 12 |  790 | 1.637906 |\n",
       "| 11 | 0 | 57 | 8 | 12 | 3150 | 1.570078 |\n",
       "| 11 | 1 | 60 | 8 | 12 | 1700 | 1.608495 |\n",
       "| 11 | 1 | 50 | 4 | 14 | 1800 | 1.780329 |\n",
       "| 11 | 0 | 26 | 8 | 12 | 1150 | 1.793203 |\n",
       "| 11 | 1 | 46 | 8 | 12 | 3000 | 1.787003 |\n",
       "| 11 | 1 | 49 | 8 |  6 | 2500 | 1.712912 |\n",
       "| 11 | 1 | 52 | 2 |  6 | 1200 | 1.736442 |\n",
       "| 11 | 0 | 38 | 8 | 12 | 2000 | 1.750827 |\n",
       "| 11 | 0 | 45 | 2 | 12 | 2000 | 1.780450 |\n",
       "| 11 | 0 | 34 | 2 | 16 | 6000 | 1.711825 |\n",
       "| 11 | 1 | 43 | 8 | 10 | 1050 | 1.789012 |\n",
       "| 11 | 0 | 53 | 8 | 16 | 7000 | 1.673665 |\n",
       "| 11 | 0 | 57 | 2 | 12 | 2000 | 1.715138 |\n",
       "| 11 | 1 | 62 | 8 | 12 | 1150 | 1.765973 |\n",
       "| 11 | 0 | 69 | 8 |  1 | 3030 | 1.746351 |\n",
       "| 11 | 1 | 41 | 8 | 16 | 4000 | 1.660873 |\n",
       "| 11 | 0 | 34 | 8 |  5 |  788 | 1.746048 |\n",
       "| 11 | 0 | 25 | 8 | 12 | 1000 | 1.726496 |\n",
       "| 11 | 0 | 33 | 8 |  9 |  800 | 1.778914 |\n",
       "| 11 | 1 | 44 | 8 |  5 |  788 | 1.668638 |\n",
       "| 11 | 0 | 33 | 2 | 16 | 1600 | 1.783771 |\n",
       "| 11 | 0 | 65 | 2 | 12 | 1700 | 1.873445 |\n",
       "| 11 | 0 | 33 | 8 | 14 | 2000 | 1.890250 |\n",
       "| 11 | 0 | 32 | 8 | 12 | 2400 | 1.660204 |\n",
       "| ⋮ | ⋮ | ⋮ | ⋮ | ⋮ | ⋮ | ⋮ |\n",
       "| 53 | 0 | 34 | 4 | 12 |  2500 | 1.802241 |\n",
       "| 53 | 1 | 57 | 2 | 11 |  1000 | 1.823047 |\n",
       "| 53 | 1 | 32 | 4 | 12 |   788 | 1.681405 |\n",
       "| 53 | 0 | 35 | 4 |  9 |  2100 | 1.671112 |\n",
       "| 53 | 1 | 49 | 8 | 12 |  5260 | 1.799319 |\n",
       "| 53 | 0 | 51 | 8 |  1 |  5000 | 1.599400 |\n",
       "| 53 | 0 | 37 | 8 | 12 |   950 | 1.620497 |\n",
       "| 53 | 0 | 47 | 8 | 12 |  1109 | 1.920274 |\n",
       "| 53 | 0 | 27 | 8 | 10 |   850 | 1.793074 |\n",
       "| 53 | 1 | 49 | 8 |  9 |   788 | 1.695710 |\n",
       "| 53 | 1 | 27 | 8 | 12 |   866 | 1.729035 |\n",
       "| 53 | 0 | 20 | 2 |  8 |  1300 | 1.660409 |\n",
       "| 53 | 0 | 49 | 8 | 12 |  8700 | 1.775182 |\n",
       "| 53 | 0 | 43 | 8 | 10 |  5000 | 1.584493 |\n",
       "| 53 | 0 | 64 | 2 | 12 |  5000 | 1.717452 |\n",
       "| 53 | 0 | 55 | 2 | 16 | 13000 | 1.729995 |\n",
       "| 53 | 0 | 39 | 2 | 12 |  6000 | 1.739046 |\n",
       "| 53 | 1 | 41 | 2 | 16 | 10000 | 1.696208 |\n",
       "| 53 | 0 | 62 | 2 | 16 | 10000 | 1.817097 |\n",
       "| 53 | 0 | 42 | 8 | 12 | 32000 | 1.788923 |\n",
       "| 53 | 0 | 62 | 2 | 16 |  3500 | 1.725379 |\n",
       "| 53 | 1 | 44 | 2 | 16 | 30000 | 1.783962 |\n",
       "| 53 | 1 | 49 | 2 | 12 |  5000 | 1.757146 |\n",
       "| 53 | 0 | 30 | 4 |  6 |  1900 | 1.662560 |\n",
       "| 53 | 1 | 35 | 4 |  1 |  1100 | 1.741089 |\n",
       "| 53 | 1 | 46 | 2 | 11 |   812 | 1.687030 |\n",
       "| 53 | 0 | 30 | 4 |  7 |  1500 | 1.792934 |\n",
       "| 53 | 0 | 32 | 8 | 12 |  1300 | 1.830587 |\n",
       "| 53 | 0 | 57 | 8 |  4 |  1500 | 1.726344 |\n",
       "| 53 | 0 | 38 | 8 |  4 |   900 | 1.658305 |\n",
       "\n"
      ],
      "text/plain": [
       "      UF Sex Age Color Years.of.Studies Income Height  \n",
       "1     11 0   23  8     12                800   1.603808\n",
       "2     11 1   23  2     12               1150   1.739790\n",
       "3     11 1   35  8     15                880   1.760444\n",
       "4     11 0   46  2      6               3500   1.783158\n",
       "5     11 1   47  8      9                150   1.690631\n",
       "6     11 1   34  8     12                790   1.637906\n",
       "7     11 0   57  8     12               3150   1.570078\n",
       "8     11 1   60  8     12               1700   1.608495\n",
       "9     11 1   50  4     14               1800   1.780329\n",
       "10    11 0   26  8     12               1150   1.793203\n",
       "11    11 1   46  8     12               3000   1.787003\n",
       "12    11 1   49  8      6               2500   1.712912\n",
       "13    11 1   52  2      6               1200   1.736442\n",
       "14    11 0   38  8     12               2000   1.750827\n",
       "15    11 0   45  2     12               2000   1.780450\n",
       "16    11 0   34  2     16               6000   1.711825\n",
       "17    11 1   43  8     10               1050   1.789012\n",
       "18    11 0   53  8     16               7000   1.673665\n",
       "19    11 0   57  2     12               2000   1.715138\n",
       "20    11 1   62  8     12               1150   1.765973\n",
       "21    11 0   69  8      1               3030   1.746351\n",
       "22    11 1   41  8     16               4000   1.660873\n",
       "23    11 0   34  8      5                788   1.746048\n",
       "24    11 0   25  8     12               1000   1.726496\n",
       "25    11 0   33  8      9                800   1.778914\n",
       "26    11 1   44  8      5                788   1.668638\n",
       "27    11 0   33  2     16               1600   1.783771\n",
       "28    11 0   65  2     12               1700   1.873445\n",
       "29    11 0   33  8     14               2000   1.890250\n",
       "30    11 0   32  8     12               2400   1.660204\n",
       "⋮     ⋮  ⋮   ⋮   ⋮     ⋮                ⋮      ⋮       \n",
       "76811 53 0   34  4     12                2500  1.802241\n",
       "76812 53 1   57  2     11                1000  1.823047\n",
       "76813 53 1   32  4     12                 788  1.681405\n",
       "76814 53 0   35  4      9                2100  1.671112\n",
       "76815 53 1   49  8     12                5260  1.799319\n",
       "76816 53 0   51  8      1                5000  1.599400\n",
       "76817 53 0   37  8     12                 950  1.620497\n",
       "76818 53 0   47  8     12                1109  1.920274\n",
       "76819 53 0   27  8     10                 850  1.793074\n",
       "76820 53 1   49  8      9                 788  1.695710\n",
       "76821 53 1   27  8     12                 866  1.729035\n",
       "76822 53 0   20  2      8                1300  1.660409\n",
       "76823 53 0   49  8     12                8700  1.775182\n",
       "76824 53 0   43  8     10                5000  1.584493\n",
       "76825 53 0   64  2     12                5000  1.717452\n",
       "76826 53 0   55  2     16               13000  1.729995\n",
       "76827 53 0   39  2     12                6000  1.739046\n",
       "76828 53 1   41  2     16               10000  1.696208\n",
       "76829 53 0   62  2     16               10000  1.817097\n",
       "76830 53 0   42  8     12               32000  1.788923\n",
       "76831 53 0   62  2     16                3500  1.725379\n",
       "76832 53 1   44  2     16               30000  1.783962\n",
       "76833 53 1   49  2     12                5000  1.757146\n",
       "76834 53 0   30  4      6                1900  1.662560\n",
       "76835 53 1   35  4      1                1100  1.741089\n",
       "76836 53 1   46  2     11                 812  1.687030\n",
       "76837 53 0   30  4      7                1500  1.792934\n",
       "76838 53 0   32  8     12                1300  1.830587\n",
       "76839 53 0   57  8      4                1500  1.726344\n",
       "76840 53 0   38  8      4                 900  1.658305"
      ]
     },
     "metadata": {},
     "output_type": "display_data"
    }
   ],
   "source": [
    "dataset"
   ]
  },
  {
   "cell_type": "markdown",
   "metadata": {
    "colab_type": "text",
    "id": "-z3bLQIUG3Hv"
   },
   "source": [
    "---"
   ]
  },
  {
   "cell_type": "markdown",
   "metadata": {
    "colab_type": "text",
    "id": "tL9xVLwTX07g"
   },
   "source": [
    "# <font color=green>2 DISTRIBUIÇÕES DE PROBABILIDADE</font>\n",
    "***"
   ]
  },
  {
   "cell_type": "markdown",
   "metadata": {
    "colab_type": "text",
    "id": "3nlvC-5qG3Bj"
   },
   "source": [
    "## <font color=red>Problema</font>\n",
    "***"
   ]
  },
  {
   "cell_type": "markdown",
   "metadata": {
    "colab_type": "text",
    "id": "8CclIz9oG3Bk"
   },
   "source": [
    "Em um concurso para preencher uma vaga de cientista de dados temos um total de **10 questões** de múltipla escolha com **3 alternativas possíveis** em cada questão. **Cada questão tem o mesmo valor.** Suponha que um candidato resolva se aventurar sem ter estudado absolutamente nada. Ele resolve fazer a prova de olhos vendados e chutar todas as resposta. Assumindo que a prova **vale 10 pontos e a nota de corte seja 5**, obtenha a probabilidade deste candidato **acertar 5 questões** e também a probabilidade deste candidato **passar para a próxima etapa do processo seletivo**."
   ]
  },
  {
   "cell_type": "markdown",
   "metadata": {
    "colab_type": "text",
    "id": "KJxd2KFSYLML"
   },
   "source": [
    "## <font color=green>2.1 Distribuição Binomial</font>\n",
    "***"
   ]
  },
  {
   "cell_type": "markdown",
   "metadata": {
    "colab_type": "text",
    "id": "mcbl3KbnG3Bq"
   },
   "source": [
    "Um evento **binomial** é caracterizado pela possibilidade de ocorrência de apenas duas categorias. Estas categorias somadas representam todo o espaço amostral, sendo também mutuamente excludentes, ou seja, a ocorrência de uma implica na não ocorrência da outra.\n",
    "\n",
    "Em análises estatísticas o uso mais comum da distribuição binomial é na solução de problemas que envolvem situações de **sucesso** e **fracasso**."
   ]
  },
  {
   "cell_type": "markdown",
   "metadata": {
    "colab_type": "text",
    "id": "iLoYAuJ9G3Bs"
   },
   "source": [
    "# $$P(k)=\\binom{n}{k} p^k q^{n-k}$$\n",
    "\n",
    "Onde:\n",
    "\n",
    "$p$ = probabilidade de sucesso\n",
    "\n",
    "$q = (1 - p)$ = probabilidade de fracasso\n",
    "\n",
    "$n$ = número de eventos estudados\n",
    "\n",
    "$k$ = número de eventos desejados que tenham sucesso"
   ]
  },
  {
   "cell_type": "markdown",
   "metadata": {
    "colab_type": "text",
    "id": "PxEgWbFdG3Bt"
   },
   "source": [
    "### Experimento Binomial"
   ]
  },
  {
   "cell_type": "markdown",
   "metadata": {
    "colab_type": "text",
    "id": "eqQK3Ny-G3Bv"
   },
   "source": [
    "1. Realização de $n$ ensaios idênticos.\n",
    "\n",
    "2. Os ensaios são independentes.\n",
    "\n",
    "3. Somente dois resultados são possíveis, exemplo: Verdadeiro ou falso; Cara ou coroa; Sucesso ou fracasso.\n",
    "\n",
    "4. A probabilidade de sucesso é representada por $p$ e a de fracasso por $1-p=q$. Estas probabilidades não se modificam de ensaio para ensaio."
   ]
  },
  {
   "cell_type": "markdown",
   "metadata": {
    "colab_type": "text",
    "id": "mT77udQ0G3Bx"
   },
   "source": [
    "### Média da distribuição binomial"
   ]
  },
  {
   "cell_type": "markdown",
   "metadata": {
    "colab_type": "text",
    "id": "EGiuemgqG3By"
   },
   "source": [
    "O valor esperado ou a média da distribuição binomial é igual ao número de experimentos realizados multiplicado pela chance de ocorrência do evento.\n",
    "\n",
    "# $$\\mu = n \\times p$$"
   ]
  },
  {
   "cell_type": "markdown",
   "metadata": {
    "colab_type": "text",
    "id": "1fDLi96OG3Bz"
   },
   "source": [
    "### Desvio padrão da distribuição binomial"
   ]
  },
  {
   "cell_type": "markdown",
   "metadata": {
    "colab_type": "text",
    "id": "EZojizotG3B1"
   },
   "source": [
    "O desvio padrão é o produto entre o número de experimentos, a probabilidade de sucesso e a probabilidade de fracasso.\n",
    "\n",
    "# $$\\sigma = \\sqrt{n \\times p \\times q}$$"
   ]
  },
  {
   "cell_type": "markdown",
   "metadata": {
    "colab_type": "text",
    "id": "MxxuJNSwG3B7"
   },
   "source": [
    "### Combinações\n",
    "\n",
    "Número de combinações de $n$ objetos, tomados $k$ a cada vez, é:\n",
    "\n",
    "# $$C_{k}^{n} = \\binom{n}{k} = \\frac{n!}{k!(n - k)!}$$\n",
    "\n",
    "Onde\n",
    "\n",
    "## $$n! = n\\times(n-1)\\times(n-2)\\times...\\times(2)\\times(1)$$\n",
    "## $$k! = k\\times(k-1)\\times(k-2)\\times...\\times(2)\\times(1)$$\n",
    "\n",
    "Por definição\n",
    "\n",
    "## $$0! = 1$$\n",
    "\n",
    "#### <font color=red>Documentações:\n",
    "\n",
    "- [**choose**](https://www.rdocumentation.org/packages/base/versions/3.6.1/topics/Special)"
   ]
  },
  {
   "cell_type": "markdown",
   "metadata": {
    "colab_type": "text",
    "id": "Udz87Pq3G3B8"
   },
   "source": [
    "## <font color='blue'>Exemplo: Mega Sena</font>"
   ]
  },
  {
   "cell_type": "markdown",
   "metadata": {
    "colab_type": "text",
    "id": "h1Mo9AxyG3B8"
   },
   "source": [
    "Em um volante de loteria da Mega Sena temos um total de **60 números** para escolher onde a aposta mínima é de **seis números**. Você que é curiosa(o) resolve calcular a probabilidade de se acertar na Mega Sena com apenas **um jogo**. Para isso precisamos saber quantas **combinações de seis números podem ser formadas com os 60 números disponíveis**.\n",
    "\n",
    "### $$C_{6}^{60} = \\binom{60}{6} = \\frac{60!}{6!(60 - 6)!}$$"
   ]
  },
  {
   "cell_type": "code",
   "execution_count": 5,
   "metadata": {},
   "outputs": [
    {
     "data": {
      "text/html": [
       "50063860"
      ],
      "text/latex": [
       "50063860"
      ],
      "text/markdown": [
       "50063860"
      ],
      "text/plain": [
       "[1] 50063860"
      ]
     },
     "metadata": {},
     "output_type": "display_data"
    }
   ],
   "source": [
    "combinacoes <- choose(60, 6)\n",
    "combinacoes"
   ]
  },
  {
   "cell_type": "code",
   "execution_count": 6,
   "metadata": {
    "colab": {
     "base_uri": "https://localhost:8080/",
     "height": 34
    },
    "colab_type": "code",
    "id": "LpioeTSXG3CB",
    "outputId": "d1e0ab82-be84-423c-e206-a9f8e1437df4"
   },
   "outputs": [
    {
     "data": {
      "text/html": [
       "1.99744885831816e-08"
      ],
      "text/latex": [
       "1.99744885831816e-08"
      ],
      "text/markdown": [
       "1.99744885831816e-08"
      ],
      "text/plain": [
       "[1] 1.997449e-08"
      ]
     },
     "metadata": {},
     "output_type": "display_data"
    }
   ],
   "source": [
    "probabilidade <- 1 / combinacoes\n",
    "probabilidade"
   ]
  },
  {
   "cell_type": "markdown",
   "metadata": {
    "colab_type": "text",
    "id": "t1rA1yJpG3CF"
   },
   "source": [
    "## <font color='blue'>Exemplo: Concurso para cientista de dados</font>"
   ]
  },
  {
   "cell_type": "markdown",
   "metadata": {
    "colab_type": "text",
    "id": "K0DPDD37G3CG"
   },
   "source": [
    "Em um concurso para preencher uma vaga de cientista de dados temos um total de **10 questões** de múltipla escolha com **3 alternativas possíveis** em cada questão. **Cada questão tem o mesmo valor.** Suponha que um candidato resolva se aventurar sem ter estudado absolutamente nada. Ele resolve fazer a prova de olhos vendados e chutar todas as resposta. Assumindo que a prova **vale 10 pontos e a nota de corte seja 5**, obtenha a probabilidade deste candidato **acertar 5 questões** e também a probabilidade deste candidato **passar para a próxima etapa do processo seletivo**."
   ]
  },
  {
   "cell_type": "markdown",
   "metadata": {
    "colab_type": "text",
    "id": "sf-NMPfxG3CH"
   },
   "source": [
    "### Qual o número de ensaios ($n$)?"
   ]
  },
  {
   "cell_type": "code",
   "execution_count": 7,
   "metadata": {
    "colab": {
     "base_uri": "https://localhost:8080/",
     "height": 34
    },
    "colab_type": "code",
    "id": "WmnjMTnYG3CH",
    "outputId": "859f37e5-992a-4ccf-fbfb-4e2cf52c4373"
   },
   "outputs": [
    {
     "data": {
      "text/html": [
       "10"
      ],
      "text/latex": [
       "10"
      ],
      "text/markdown": [
       "10"
      ],
      "text/plain": [
       "[1] 10"
      ]
     },
     "metadata": {},
     "output_type": "display_data"
    }
   ],
   "source": [
    "n <- 10\n",
    "n"
   ]
  },
  {
   "cell_type": "markdown",
   "metadata": {
    "colab_type": "text",
    "id": "1USf9Ro8G3CK"
   },
   "source": [
    "### Os ensaios são independentes?"
   ]
  },
  {
   "cell_type": "markdown",
   "metadata": {
    "colab_type": "text",
    "id": "82xf2XIkG3CM"
   },
   "source": [
    "Sim. A opção escolhida em uma questão não influencia em nada a opção escolhida em outra questão."
   ]
  },
  {
   "cell_type": "markdown",
   "metadata": {
    "colab_type": "text",
    "id": "7jN0H5e7G3CN"
   },
   "source": [
    "### Somente dois resultados são possíveis em cada ensaio?"
   ]
  },
  {
   "cell_type": "markdown",
   "metadata": {
    "colab_type": "text",
    "id": "gGxcY7K8G3CO"
   },
   "source": [
    "Sim. O candidato tem duas possibilidades, ACERTA ou ERRAR uma questão. "
   ]
  },
  {
   "cell_type": "markdown",
   "metadata": {
    "colab_type": "text",
    "id": "MZw2LDQjG3CR"
   },
   "source": [
    "### Qual a probabilidade de sucesso ($p$)?"
   ]
  },
  {
   "cell_type": "code",
   "execution_count": 8,
   "metadata": {
    "colab": {
     "base_uri": "https://localhost:8080/",
     "height": 34
    },
    "colab_type": "code",
    "id": "AazGDtt0G3CS",
    "outputId": "ccb9e561-0413-43c8-c462-ebea4b6c1097"
   },
   "outputs": [
    {
     "data": {
      "text/html": [
       "0.333333333333333"
      ],
      "text/latex": [
       "0.333333333333333"
      ],
      "text/markdown": [
       "0.333333333333333"
      ],
      "text/plain": [
       "[1] 0.3333333"
      ]
     },
     "metadata": {},
     "output_type": "display_data"
    }
   ],
   "source": [
    "numero_de_alternativas_por_questao <- 3\n",
    "p <- 1 / numero_de_alternativas_por_questao\n",
    "p"
   ]
  },
  {
   "cell_type": "markdown",
   "metadata": {
    "colab_type": "text",
    "id": "KPCw41OlG3CX"
   },
   "source": [
    "### Qual a probabilidade de fracasso ($q$)?"
   ]
  },
  {
   "cell_type": "code",
   "execution_count": 9,
   "metadata": {
    "colab": {
     "base_uri": "https://localhost:8080/",
     "height": 34
    },
    "colab_type": "code",
    "id": "FRhmjCnpG3CZ",
    "outputId": "f521f041-ecf4-4c4c-b696-da7b949d657a"
   },
   "outputs": [
    {
     "data": {
      "text/html": [
       "0.666666666666667"
      ],
      "text/latex": [
       "0.666666666666667"
      ],
      "text/markdown": [
       "0.666666666666667"
      ],
      "text/plain": [
       "[1] 0.6666667"
      ]
     },
     "metadata": {},
     "output_type": "display_data"
    }
   ],
   "source": [
    "q <- 1 - p\n",
    "q"
   ]
  },
  {
   "cell_type": "markdown",
   "metadata": {
    "colab_type": "text",
    "id": "W2htpmzaG3Ce"
   },
   "source": [
    "### Qual o total de eventos que se deseja obter sucesso ($k$)?"
   ]
  },
  {
   "cell_type": "code",
   "execution_count": 10,
   "metadata": {
    "colab": {
     "base_uri": "https://localhost:8080/",
     "height": 34
    },
    "colab_type": "code",
    "id": "MmHpiIIuG3Cj",
    "outputId": "6975cb4f-5cd3-4234-f7b0-b5d01ceb0430"
   },
   "outputs": [
    {
     "data": {
      "text/html": [
       "5"
      ],
      "text/latex": [
       "5"
      ],
      "text/markdown": [
       "5"
      ],
      "text/plain": [
       "[1] 5"
      ]
     },
     "metadata": {},
     "output_type": "display_data"
    }
   ],
   "source": [
    "k <- 5\n",
    "k"
   ]
  },
  {
   "cell_type": "markdown",
   "metadata": {
    "colab_type": "text",
    "id": "r8TZ6DSuG3Cm"
   },
   "source": [
    "### Solução 1"
   ]
  },
  {
   "cell_type": "code",
   "execution_count": 11,
   "metadata": {},
   "outputs": [
    {
     "data": {
      "text/html": [
       "0.136564548087182"
      ],
      "text/latex": [
       "0.136564548087182"
      ],
      "text/markdown": [
       "0.136564548087182"
      ],
      "text/plain": [
       "[1] 0.1365645"
      ]
     },
     "metadata": {},
     "output_type": "display_data"
    }
   ],
   "source": [
    "probabilidade <- choose(n, k) * (p ** k) * (q **(n-k))\n",
    "probabilidade"
   ]
  },
  {
   "cell_type": "markdown",
   "metadata": {
    "colab_type": "text",
    "id": "hvj2sYaSG3Ct"
   },
   "source": [
    "### Solução 2\n",
    "\n",
    "#### <font color=red>Documentações:\n",
    "\n",
    "- [**dbinom**](https://www.rdocumentation.org/packages/stats/versions/3.6.1/topics/Binomial)"
   ]
  },
  {
   "cell_type": "code",
   "execution_count": 12,
   "metadata": {},
   "outputs": [
    {
     "data": {
      "text/html": [
       "0.136564548087182"
      ],
      "text/latex": [
       "0.136564548087182"
      ],
      "text/markdown": [
       "0.136564548087182"
      ],
      "text/plain": [
       "[1] 0.1365645"
      ]
     },
     "metadata": {},
     "output_type": "display_data"
    }
   ],
   "source": [
    "dbinom(x=k, size=n, prob=p)"
   ]
  },
  {
   "cell_type": "markdown",
   "metadata": {},
   "source": [
    "### Obter a probabilidade do candidato passar"
   ]
  },
  {
   "cell_type": "markdown",
   "metadata": {},
   "source": [
    "### $$P(acertar \\geq 5) = P(5) + P(6) + P(7) + P(8) + P(9) + P(10)$$"
   ]
  },
  {
   "cell_type": "code",
   "execution_count": 13,
   "metadata": {},
   "outputs": [
    {
     "data": {
      "text/html": [
       "0.213128080069095"
      ],
      "text/latex": [
       "0.213128080069095"
      ],
      "text/markdown": [
       "0.213128080069095"
      ],
      "text/plain": [
       "[1] 0.2131281"
      ]
     },
     "metadata": {},
     "output_type": "display_data"
    }
   ],
   "source": [
    "dbinom(x=5, size=n, prob=p)+\n",
    "dbinom(x=6, size=n, prob=p)+\n",
    "dbinom(x=7, size=n, prob=p)+\n",
    "dbinom(x=8, size=n, prob=p)+\n",
    "dbinom(x=9, size=n, prob=p)+\n",
    "dbinom(x=10, size=n, prob=p)"
   ]
  },
  {
   "cell_type": "code",
   "execution_count": 14,
   "metadata": {},
   "outputs": [
    {
     "data": {
      "text/html": [
       "0.213128080069095"
      ],
      "text/latex": [
       "0.213128080069095"
      ],
      "text/markdown": [
       "0.213128080069095"
      ],
      "text/plain": [
       "[1] 0.2131281"
      ]
     },
     "metadata": {},
     "output_type": "display_data"
    }
   ],
   "source": [
    "sum(dbinom(x=5:10, size=n, prob=p))"
   ]
  },
  {
   "cell_type": "code",
   "execution_count": 15,
   "metadata": {},
   "outputs": [
    {
     "data": {
      "text/html": [
       "0.213128080069095"
      ],
      "text/latex": [
       "0.213128080069095"
      ],
      "text/markdown": [
       "0.213128080069095"
      ],
      "text/plain": [
       "[1] 0.2131281"
      ]
     },
     "metadata": {},
     "output_type": "display_data"
    }
   ],
   "source": [
    "pbinom(q=4, size=10, prob=p, lower.tail=FALSE, log.p=FALSE)"
   ]
  },
  {
   "cell_type": "markdown",
   "metadata": {
    "colab_type": "text",
    "id": "7hAZ4XkMG3Cx"
   },
   "source": [
    "## <font color='blue'>Exemplo: Gincana</font>"
   ]
  },
  {
   "cell_type": "markdown",
   "metadata": {
    "colab_type": "text",
    "id": "l42alRhOG3Cy"
   },
   "source": [
    "Uma cidade do interior realiza todos os anos uma gincana para arrecadar fundos para o hospital da cidade. Na última gincana se sabe que a **proporção de participantes do sexo feminino foi de 60%**. **O total de equipes, com 12 integrantes, inscritas na gincana deste ano é de 30**. Com as informações acima responda: Quantas equipes deverão ser formadas por **8 mulheres**?"
   ]
  },
  {
   "cell_type": "markdown",
   "metadata": {
    "colab_type": "text",
    "id": "dqBGf6d7G3C0"
   },
   "source": [
    "### Solução"
   ]
  },
  {
   "cell_type": "code",
   "execution_count": 16,
   "metadata": {
    "colab": {
     "base_uri": "https://localhost:8080/",
     "height": 34
    },
    "colab_type": "code",
    "id": "Xw9b6ch3G3C1",
    "outputId": "b4bb8b11-5113-4cc9-bac1-59e9acaf67e6"
   },
   "outputs": [
    {
     "data": {
      "text/html": [
       "0.6"
      ],
      "text/latex": [
       "0.6"
      ],
      "text/markdown": [
       "0.6"
      ],
      "text/plain": [
       "[1] 0.6"
      ]
     },
     "metadata": {},
     "output_type": "display_data"
    }
   ],
   "source": [
    "p <- 0.6\n",
    "p"
   ]
  },
  {
   "cell_type": "code",
   "execution_count": 17,
   "metadata": {
    "colab": {
     "base_uri": "https://localhost:8080/",
     "height": 34
    },
    "colab_type": "code",
    "id": "R3-RaxP5G3C3",
    "outputId": "180b09ba-666e-47c9-b476-224c71fdd5c0"
   },
   "outputs": [
    {
     "data": {
      "text/html": [
       "12"
      ],
      "text/latex": [
       "12"
      ],
      "text/markdown": [
       "12"
      ],
      "text/plain": [
       "[1] 12"
      ]
     },
     "metadata": {},
     "output_type": "display_data"
    }
   ],
   "source": [
    "n <- 12\n",
    "n"
   ]
  },
  {
   "cell_type": "code",
   "execution_count": 18,
   "metadata": {
    "colab": {
     "base_uri": "https://localhost:8080/",
     "height": 34
    },
    "colab_type": "code",
    "id": "otBHHyD0G3C6",
    "outputId": "c3bdd1ab-763a-43db-ec2e-fb890aa78e3f"
   },
   "outputs": [
    {
     "data": {
      "text/html": [
       "8"
      ],
      "text/latex": [
       "8"
      ],
      "text/markdown": [
       "8"
      ],
      "text/plain": [
       "[1] 8"
      ]
     },
     "metadata": {},
     "output_type": "display_data"
    }
   ],
   "source": [
    "k <- 8\n",
    "k"
   ]
  },
  {
   "cell_type": "code",
   "execution_count": 19,
   "metadata": {},
   "outputs": [
    {
     "data": {
      "text/html": [
       "0.21284093952"
      ],
      "text/latex": [
       "0.21284093952"
      ],
      "text/markdown": [
       "0.21284093952"
      ],
      "text/plain": [
       "[1] 0.2128409"
      ]
     },
     "metadata": {},
     "output_type": "display_data"
    }
   ],
   "source": [
    "probabilidade <- dbinom(x=k, size=n, prob=p)\n",
    "probabilidade"
   ]
  },
  {
   "cell_type": "code",
   "execution_count": 20,
   "metadata": {
    "colab": {
     "base_uri": "https://localhost:8080/",
     "height": 34
    },
    "colab_type": "code",
    "id": "Tg53uGL4G3DA",
    "outputId": "cf68634d-68fd-41c5-a9a1-98c5ead8b548"
   },
   "outputs": [
    {
     "data": {
      "text/html": [
       "6.3852281856"
      ],
      "text/latex": [
       "6.3852281856"
      ],
      "text/markdown": [
       "6.3852281856"
      ],
      "text/plain": [
       "[1] 6.385228"
      ]
     },
     "metadata": {},
     "output_type": "display_data"
    }
   ],
   "source": [
    "equipes <- 30 * 0.21284093952\n",
    "equipes"
   ]
  },
  {
   "cell_type": "markdown",
   "metadata": {
    "colab_type": "text",
    "id": "49TiCQRvG3DC"
   },
   "source": [
    "---"
   ]
  },
  {
   "cell_type": "markdown",
   "metadata": {},
   "source": [
    "#### Suponha que a probabilidade de se contrair o novo Coronavírus seja de 70%. Em um grupo de 1500 famílias, com 5 pessoas cada, quantas podemos esperar que tenham apenas dois contaminados?"
   ]
  },
  {
   "cell_type": "code",
   "execution_count": 21,
   "metadata": {},
   "outputs": [],
   "source": [
    "p <- 0.7\n",
    "n <- 5\n",
    "k <- 2"
   ]
  },
  {
   "cell_type": "code",
   "execution_count": 22,
   "metadata": {},
   "outputs": [
    {
     "data": {
      "text/html": [
       "0.1323"
      ],
      "text/latex": [
       "0.1323"
      ],
      "text/markdown": [
       "0.1323"
      ],
      "text/plain": [
       "[1] 0.1323"
      ]
     },
     "metadata": {},
     "output_type": "display_data"
    }
   ],
   "source": [
    "probabilidade <- dbinom(x=k, size=n, prob=p)\n",
    "probabilidade"
   ]
  },
  {
   "cell_type": "code",
   "execution_count": 23,
   "metadata": {},
   "outputs": [
    {
     "data": {
      "text/html": [
       "198.45"
      ],
      "text/latex": [
       "198.45"
      ],
      "text/markdown": [
       "198.45"
      ],
      "text/plain": [
       "[1] 198.45"
      ]
     },
     "metadata": {},
     "output_type": "display_data"
    }
   ],
   "source": [
    "familias <- 1500 * probabilidade\n",
    "familias"
   ]
  },
  {
   "cell_type": "markdown",
   "metadata": {
    "colab_type": "text",
    "id": "X6bYonAZG3DE"
   },
   "source": [
    "## <font color=red>Problema</font>\n",
    "***"
   ]
  },
  {
   "cell_type": "markdown",
   "metadata": {
    "colab_type": "text",
    "id": "Ccx-Bc9oG3DH"
   },
   "source": [
    "Um restaurante recebe em média **20 pedidos por hora**. Qual a chance de que, em determinada hora escolhida ao acaso, o restaurante receba **15 pedidos**?"
   ]
  },
  {
   "cell_type": "markdown",
   "metadata": {
    "colab_type": "text",
    "id": "k-uV7bgsmand"
   },
   "source": [
    "## <font color=green>2.2 Distribuição Poisson</font>\n",
    "***"
   ]
  },
  {
   "cell_type": "markdown",
   "metadata": {
    "colab_type": "text",
    "id": "H0jPtJICG3DM"
   },
   "source": [
    "É empregada para descrever o número de ocorrências em um intervalo de tempo ou espaço específico. Os eventos são caracterizados pela possibilidade de contagem dos sucessos, mas a não possibilidade de contagem dos fracassos.\n",
    "\n",
    "Como exemplos de processos onde podemos aplicar a distribuição de Poisson temos a determinação do número de clientes que entram em uma loja em determinada hora, o número de carros que chegam em um drive-thru de uma lanchonete na hora do almoço, a determinação do número de acidentes registrados em um trecho de estrada etc."
   ]
  },
  {
   "cell_type": "markdown",
   "metadata": {
    "colab_type": "text",
    "id": "O_XqwANJG3DN"
   },
   "source": [
    "# $$P(k) = \\frac{e^{-\\mu}(\\mu)^k}{k!}$$\n",
    "\n",
    "Onde:\n",
    "\n",
    "$e$ = constante cujo valor aproximado é 2,718281828459045\n",
    "\n",
    "$\\mu$ = representa o número médio de ocorrências em um determinado intervalo de tempo ou espaço\n",
    "\n",
    "$k$ = número de sucessos no intervalo desejado"
   ]
  },
  {
   "cell_type": "markdown",
   "metadata": {
    "colab_type": "text",
    "id": "FqquU8wOG3DO"
   },
   "source": [
    "### Experimento Poisson"
   ]
  },
  {
   "cell_type": "markdown",
   "metadata": {
    "colab_type": "text",
    "id": "ir2odEW3G3DO"
   },
   "source": [
    "1. A probabilidade de uma ocorrência é a mesma em todo o intervalo observado.\n",
    "\n",
    "2. O número de ocorrências em determinado intervalo é independente do número de ocorrências em outros intervalos.\n",
    "\n",
    "3. A probabilidade de uma ocorrência é a mesma em intervalos de igual comprimento."
   ]
  },
  {
   "cell_type": "markdown",
   "metadata": {
    "colab_type": "text",
    "id": "2INlWMa0G3DP"
   },
   "source": [
    "### Média da distribuição Poisson"
   ]
  },
  {
   "cell_type": "markdown",
   "metadata": {
    "colab_type": "text",
    "id": "xywTsniCG3DP"
   },
   "source": [
    "# $$\\mu$$"
   ]
  },
  {
   "cell_type": "markdown",
   "metadata": {
    "colab_type": "text",
    "id": "7-Lh-LpfG3DQ"
   },
   "source": [
    "### Desvio padrão da distribuição Poisson"
   ]
  },
  {
   "cell_type": "markdown",
   "metadata": {
    "colab_type": "text",
    "id": "61uStWUsG3DQ"
   },
   "source": [
    "# $$\\sigma = \\sqrt{\\mu}$$"
   ]
  },
  {
   "cell_type": "markdown",
   "metadata": {
    "colab_type": "text",
    "id": "vniBmzIMG3DR"
   },
   "source": [
    "#### <font color=red>Documentações:\n",
    "\n",
    "- [**exp**](https://www.rdocumentation.org/packages/base/versions/3.6.1/topics/log)\n",
    "- [**factorial**](https://www.rdocumentation.org/packages/base/versions/3.6.1/topics/Special)"
   ]
  },
  {
   "cell_type": "code",
   "execution_count": 24,
   "metadata": {},
   "outputs": [
    {
     "data": {
      "text/html": [
       "2.71828182845905"
      ],
      "text/latex": [
       "2.71828182845905"
      ],
      "text/markdown": [
       "2.71828182845905"
      ],
      "text/plain": [
       "[1] 2.718282"
      ]
     },
     "metadata": {},
     "output_type": "display_data"
    }
   ],
   "source": [
    "exp(1)"
   ]
  },
  {
   "cell_type": "markdown",
   "metadata": {
    "colab_type": "text",
    "id": "RKQWuVgMG3DW"
   },
   "source": [
    "## <font color='blue'>Exemplo: Delivery</font>"
   ]
  },
  {
   "cell_type": "markdown",
   "metadata": {
    "colab_type": "text",
    "id": "ZKc__49bG3DX"
   },
   "source": [
    "Um restaurante recebe em média **20 pedidos por hora**. Qual a chance de que, em determinada hora escolhida ao acaso, o restaurante receba **15 pedidos**?"
   ]
  },
  {
   "cell_type": "markdown",
   "metadata": {
    "colab_type": "text",
    "id": "W-MJ4XBkG3DX"
   },
   "source": [
    "### Qual o número médio de ocorrências por hora ($\\mu$)?"
   ]
  },
  {
   "cell_type": "code",
   "execution_count": 25,
   "metadata": {
    "colab": {
     "base_uri": "https://localhost:8080/",
     "height": 34
    },
    "colab_type": "code",
    "id": "2fVfJxdSG3DY",
    "outputId": "5f93f4cb-eef7-459d-836c-eb825cf3f1d5"
   },
   "outputs": [
    {
     "data": {
      "text/html": [
       "20"
      ],
      "text/latex": [
       "20"
      ],
      "text/markdown": [
       "20"
      ],
      "text/plain": [
       "[1] 20"
      ]
     },
     "metadata": {},
     "output_type": "display_data"
    }
   ],
   "source": [
    "media <- 20\n",
    "media"
   ]
  },
  {
   "cell_type": "markdown",
   "metadata": {
    "colab_type": "text",
    "id": "3SagRtPvG3Da"
   },
   "source": [
    "### Qual o número de ocorrências que queremos obter no período ($k$)?"
   ]
  },
  {
   "cell_type": "code",
   "execution_count": 26,
   "metadata": {
    "colab": {
     "base_uri": "https://localhost:8080/",
     "height": 34
    },
    "colab_type": "code",
    "id": "yXB3QhWyG3Da",
    "outputId": "70e860fe-353f-43ba-98e9-0976282de023"
   },
   "outputs": [
    {
     "data": {
      "text/html": [
       "15"
      ],
      "text/latex": [
       "15"
      ],
      "text/markdown": [
       "15"
      ],
      "text/plain": [
       "[1] 15"
      ]
     },
     "metadata": {},
     "output_type": "display_data"
    }
   ],
   "source": [
    "k <- 15\n",
    "k"
   ]
  },
  {
   "cell_type": "markdown",
   "metadata": {
    "colab_type": "text",
    "id": "3wFh3lFCG3De"
   },
   "source": [
    "### Solução 1"
   ]
  },
  {
   "cell_type": "code",
   "execution_count": 27,
   "metadata": {},
   "outputs": [
    {
     "data": {
      "text/html": [
       "0.0516488535317584"
      ],
      "text/latex": [
       "0.0516488535317584"
      ],
      "text/markdown": [
       "0.0516488535317584"
      ],
      "text/plain": [
       "[1] 0.05164885"
      ]
     },
     "metadata": {},
     "output_type": "display_data"
    }
   ],
   "source": [
    "probabilidade <- ((exp(1) ** (-media)) * (media ** k)) / (factorial(k))\n",
    "probabilidade"
   ]
  },
  {
   "cell_type": "markdown",
   "metadata": {
    "colab_type": "text",
    "id": "yAyXh0euG3Dk"
   },
   "source": [
    "### Solução 2\n",
    "\n",
    "#### <font color=red>Documentações:\n",
    "\n",
    "- [**Poisson**](https://www.rdocumentation.org/packages/stats/versions/3.6.1/topics/Poisson)"
   ]
  },
  {
   "cell_type": "code",
   "execution_count": 28,
   "metadata": {},
   "outputs": [
    {
     "data": {
      "text/html": [
       "0.0516488535317584"
      ],
      "text/latex": [
       "0.0516488535317584"
      ],
      "text/markdown": [
       "0.0516488535317584"
      ],
      "text/plain": [
       "[1] 0.05164885"
      ]
     },
     "metadata": {},
     "output_type": "display_data"
    }
   ],
   "source": [
    "probabilidade <- dpois(x=15, lambda=20)\n",
    "probabilidade"
   ]
  },
  {
   "cell_type": "markdown",
   "metadata": {},
   "source": [
    "***"
   ]
  },
  {
   "cell_type": "markdown",
   "metadata": {},
   "source": [
    "## <font color='blue'> Exemple: Bakery</font>"
   ]
  },
  {
   "cell_type": "markdown",
   "metadata": {},
   "source": [
    "Estimativa de clientes em determinada hora\n",
    "\n",
    "O número médio de clientes que entram em uma padaria **por hora é igual a 20**. Obtenha a probabilidade de, na próxima hora, **entrarem exatamente 25 clientes.**\n",
    "\n"
   ]
  },
  {
   "cell_type": "code",
   "execution_count": 29,
   "metadata": {},
   "outputs": [],
   "source": [
    "m <- 20"
   ]
  },
  {
   "cell_type": "code",
   "execution_count": 30,
   "metadata": {},
   "outputs": [],
   "source": [
    "k <- 25"
   ]
  },
  {
   "cell_type": "code",
   "execution_count": 31,
   "metadata": {},
   "outputs": [
    {
     "data": {
      "text/html": [
       "4.45876491082679"
      ],
      "text/latex": [
       "4.45876491082679"
      ],
      "text/markdown": [
       "4.45876491082679"
      ],
      "text/plain": [
       "[1] 4.458765"
      ]
     },
     "metadata": {},
     "output_type": "display_data"
    }
   ],
   "source": [
    "probability <- dpois(x=k, lambda=m)\n",
    "probability * 100"
   ]
  },
  {
   "cell_type": "markdown",
   "metadata": {
    "colab_type": "text",
    "id": "g3ng8tQFG3Do"
   },
   "source": [
    "---"
   ]
  },
  {
   "cell_type": "markdown",
   "metadata": {
    "colab_type": "text",
    "id": "tVPUT9kEG3Dp"
   },
   "source": [
    "## <font color=red>Problema</font>\n",
    "***"
   ]
  },
  {
   "cell_type": "markdown",
   "metadata": {
    "colab_type": "text",
    "id": "j7zVDN0kG3Dq"
   },
   "source": [
    "Em um estudo sobre as alturas dos moradores de uma cidade verificou-se que o conjunto de dados segue uma **distribuição aproximadamente normal**, com **média 1,70** e **desvio padrão de 0,1**. Com estas informações obtenha o seguinte conjunto de probabilidades:\n",
    "\n",
    "> **A.** probabilidade de uma pessoa, selecionada ao acaso, ter menos de 1,80 metros.\n",
    ">\n",
    "> **B.** probabilidade de uma pessoa, selecionada ao acaso, ter entre 1,60 metros e 1,80 metros.    \n",
    ">\n",
    "> **C.** probabilidade de uma pessoa, selecionada ao acaso, ter mais de 1,90 metros."
   ]
  },
  {
   "cell_type": "markdown",
   "metadata": {
    "colab_type": "text",
    "id": "AowcVaKqpvf2"
   },
   "source": [
    "## <font color=green>2.3 Distribuição Normal</font>\n",
    "***"
   ]
  },
  {
   "cell_type": "markdown",
   "metadata": {
    "colab_type": "text",
    "id": "YOBD21hGG3Dw"
   },
   "source": [
    "A distribuição normal é uma das mais utilizadas em estatística. É uma distribuição contínua, onde a distribuição de frequências de uma variável quantitativa apresenta a forma de sino e é simétrica em relação a sua média."
   ]
  },
  {
   "cell_type": "markdown",
   "metadata": {
    "colab_type": "text",
    "id": "kbPy2ORqqKJA"
   },
   "source": [
    "![Normal](https://caelum-online-public.s3.amazonaws.com/1178-estatistica-parte2/01/img001.png)"
   ]
  },
  {
   "cell_type": "markdown",
   "metadata": {
    "colab_type": "text",
    "id": "J3eKESHTG3Dx"
   },
   "source": [
    "### Características importantes"
   ]
  },
  {
   "cell_type": "markdown",
   "metadata": {
    "colab_type": "text",
    "id": "z8GxAzWZG3Dx"
   },
   "source": [
    "1. É simétrica em torno da média;\n",
    "\n",
    "2. A área sob a curva corresponde à proporção 1 ou 100%;\n",
    "\n",
    "3. As medidas de tendência central (média, mediana e moda) apresentam o mesmo valor;\n",
    "\n",
    "4. Os extremos da curva tendem ao infinito em ambas as direções e, teoricamente, jamais tocam o eixo $x$;\n",
    "\n",
    "5. O desvio padrão define o achatamento e largura da distribuição. Curvas mais largas e mais achatadas apresentam valores maiores de desvio padrão;\n",
    "\n",
    "6. A distribuição é definida por sua média e desvio padrão;\n",
    "\n",
    "7. A probabilidade sempre será igual à área sob a curva, delimitada pelos limites inferior e superior."
   ]
  },
  {
   "cell_type": "markdown",
   "metadata": {
    "colab_type": "text",
    "id": "hoWLlOiwG3Dy"
   },
   "source": [
    "# $$f(x) = \\frac{1}{\\sqrt{2\\pi\\sigma}}e^{-\\frac{1}{2}\\left(\\frac{x-\\mu}{\\sigma}\\right)^2}$$\n",
    "\n",
    "Onde:\n",
    "\n",
    "$x$ = variável normal\n",
    "\n",
    "$\\sigma$ = desvio padrão\n",
    "\n",
    "$\\mu$ = média"
   ]
  },
  {
   "cell_type": "markdown",
   "metadata": {
    "colab_type": "text",
    "id": "8n03Z0VlG3Dz"
   },
   "source": [
    "A probabilidade é obtida a partir da área sob a curva, delimitada pelos limites inferior e superior especificados. Um exemplo pode ser visto na figura abaixo."
   ]
  },
  {
   "cell_type": "markdown",
   "metadata": {
    "colab_type": "text",
    "id": "X1UgmFoxG3Dz"
   },
   "source": [
    "![alt text](https://caelum-online-public.s3.amazonaws.com/1178-estatistica-parte2/01/img002.png)\n"
   ]
  },
  {
   "cell_type": "markdown",
   "metadata": {
    "colab_type": "text",
    "id": "rtKiApHLG3D0"
   },
   "source": [
    "Para obter a área acima basta calcular a integral da função para os intervalos determinados. Conforme equação abaixo:"
   ]
  },
  {
   "cell_type": "markdown",
   "metadata": {
    "colab_type": "text",
    "id": "0r_9CbSOG3D0"
   },
   "source": [
    "# $$P(L_i<x<L_s) = \\int_{L_i}^{L_s}\\frac{1}{\\sqrt{2\\pi\\sigma}}e^{-\\frac{1}{2}\\left(\\frac{x-\\mu}{\\sigma}\\right)^2}$$\n",
    "\n",
    "Onde:\n",
    "\n",
    "$x$ = variável normal\n",
    "\n",
    "$\\sigma$ = desvio padrão\n",
    "\n",
    "$\\mu$ = média\n",
    "\n",
    "$L_i$ = limite inferior\n",
    "\n",
    "$L_s$ = limite superior"
   ]
  },
  {
   "cell_type": "markdown",
   "metadata": {
    "colab_type": "text",
    "id": "qP-Ye-leG3D1"
   },
   "source": [
    "### Tabelas padronizadas"
   ]
  },
  {
   "cell_type": "markdown",
   "metadata": {
    "colab_type": "text",
    "id": "Z1VnLK11G3D1"
   },
   "source": [
    "As tabelas padronizadas foram criadas para facilitar a obtenção dos valores das áreas sob a curva normal e eliminar a necessidade de solucionar integrais definidas.\n",
    "\n",
    "Para consultarmos os valores em uma tabela padronizada basta transformarmos nossa variável em uma variável padronizada $Z$.\n",
    "\n",
    "Esta variável $Z$ representa o afastamento em desvios padrões de um valor da variável original em relação à média."
   ]
  },
  {
   "cell_type": "markdown",
   "metadata": {
    "colab_type": "text",
    "id": "HJcdgdsgG3D2"
   },
   "source": [
    "# $$Z = \\frac{x-\\mu}{\\sigma}$$\n",
    "\n",
    "Onde:\n",
    "\n",
    "$x$ = variável normal com média $\\mu$ e desvio padrão $\\sigma$\n",
    "\n",
    "$\\sigma$ = desvio padrão\n",
    "\n",
    "$\\mu$ = média"
   ]
  },
  {
   "cell_type": "markdown",
   "metadata": {},
   "source": [
    "#### <font color=red>Documentações:\n",
    "\n",
    "- [**Normal**](https://www.rdocumentation.org/packages/stats/versions/3.6.1/topics/Normal)"
   ]
  },
  {
   "cell_type": "markdown",
   "metadata": {
    "colab_type": "text",
    "id": "hUrVKJH3G3D2"
   },
   "source": [
    "### Construindo tabela normal padronizada"
   ]
  },
  {
   "cell_type": "code",
   "execution_count": 32,
   "metadata": {},
   "outputs": [
    {
     "data": {
      "text/html": [
       "<table class=\"dataframe\">\n",
       "<caption>A matrix: 40 × 10 of type dbl</caption>\n",
       "<thead>\n",
       "\t<tr><th></th><th scope=col>0.00</th><th scope=col>0.01</th><th scope=col>0.02</th><th scope=col>0.03</th><th scope=col>0.04</th><th scope=col>0.05</th><th scope=col>0.06</th><th scope=col>0.07</th><th scope=col>0.08</th><th scope=col>0.09</th></tr>\n",
       "</thead>\n",
       "<tbody>\n",
       "\t<tr><th scope=row>0.00</th><td>0.5000000</td><td>0.5039894</td><td>0.5079783</td><td>0.5119665</td><td>0.5159534</td><td>0.5199388</td><td>0.5239222</td><td>0.5279032</td><td>0.5318814</td><td>0.5358564</td></tr>\n",
       "\t<tr><th scope=row>0.10</th><td>0.5398278</td><td>0.5437953</td><td>0.5477584</td><td>0.5517168</td><td>0.5556700</td><td>0.5596177</td><td>0.5635595</td><td>0.5674949</td><td>0.5714237</td><td>0.5753454</td></tr>\n",
       "\t<tr><th scope=row>0.20</th><td>0.5792597</td><td>0.5831662</td><td>0.5870644</td><td>0.5909541</td><td>0.5948349</td><td>0.5987063</td><td>0.6025681</td><td>0.6064199</td><td>0.6102612</td><td>0.6140919</td></tr>\n",
       "\t<tr><th scope=row>0.30</th><td>0.6179114</td><td>0.6217195</td><td>0.6255158</td><td>0.6293000</td><td>0.6330717</td><td>0.6368307</td><td>0.6405764</td><td>0.6443088</td><td>0.6480273</td><td>0.6517317</td></tr>\n",
       "\t<tr><th scope=row>0.40</th><td>0.6554217</td><td>0.6590970</td><td>0.6627573</td><td>0.6664022</td><td>0.6700314</td><td>0.6736448</td><td>0.6772419</td><td>0.6808225</td><td>0.6843863</td><td>0.6879331</td></tr>\n",
       "\t<tr><th scope=row>0.50</th><td>0.6914625</td><td>0.6949743</td><td>0.6984682</td><td>0.7019440</td><td>0.7054015</td><td>0.7088403</td><td>0.7122603</td><td>0.7156612</td><td>0.7190427</td><td>0.7224047</td></tr>\n",
       "\t<tr><th scope=row>0.60</th><td>0.7257469</td><td>0.7290691</td><td>0.7323711</td><td>0.7356527</td><td>0.7389137</td><td>0.7421539</td><td>0.7453731</td><td>0.7485711</td><td>0.7517478</td><td>0.7549029</td></tr>\n",
       "\t<tr><th scope=row>0.70</th><td>0.7580363</td><td>0.7611479</td><td>0.7642375</td><td>0.7673049</td><td>0.7703500</td><td>0.7733726</td><td>0.7763727</td><td>0.7793501</td><td>0.7823046</td><td>0.7852361</td></tr>\n",
       "\t<tr><th scope=row>0.80</th><td>0.7881446</td><td>0.7910299</td><td>0.7938919</td><td>0.7967306</td><td>0.7995458</td><td>0.8023375</td><td>0.8051055</td><td>0.8078498</td><td>0.8105703</td><td>0.8132671</td></tr>\n",
       "\t<tr><th scope=row>0.90</th><td>0.8159399</td><td>0.8185887</td><td>0.8212136</td><td>0.8238145</td><td>0.8263912</td><td>0.8289439</td><td>0.8314724</td><td>0.8339768</td><td>0.8364569</td><td>0.8389129</td></tr>\n",
       "\t<tr><th scope=row>1.00</th><td>0.8413447</td><td>0.8437524</td><td>0.8461358</td><td>0.8484950</td><td>0.8508300</td><td>0.8531409</td><td>0.8554277</td><td>0.8576903</td><td>0.8599289</td><td>0.8621434</td></tr>\n",
       "\t<tr><th scope=row>1.10</th><td>0.8643339</td><td>0.8665005</td><td>0.8686431</td><td>0.8707619</td><td>0.8728568</td><td>0.8749281</td><td>0.8769756</td><td>0.8789995</td><td>0.8809999</td><td>0.8829768</td></tr>\n",
       "\t<tr><th scope=row>1.20</th><td>0.8849303</td><td>0.8868606</td><td>0.8887676</td><td>0.8906514</td><td>0.8925123</td><td>0.8943502</td><td>0.8961653</td><td>0.8979577</td><td>0.8997274</td><td>0.9014747</td></tr>\n",
       "\t<tr><th scope=row>1.30</th><td>0.9031995</td><td>0.9049021</td><td>0.9065825</td><td>0.9082409</td><td>0.9098773</td><td>0.9114920</td><td>0.9130850</td><td>0.9146565</td><td>0.9162067</td><td>0.9177356</td></tr>\n",
       "\t<tr><th scope=row>1.40</th><td>0.9192433</td><td>0.9207302</td><td>0.9221962</td><td>0.9236415</td><td>0.9250663</td><td>0.9264707</td><td>0.9278550</td><td>0.9292191</td><td>0.9305634</td><td>0.9318879</td></tr>\n",
       "\t<tr><th scope=row>1.50</th><td>0.9331928</td><td>0.9344783</td><td>0.9357445</td><td>0.9369916</td><td>0.9382198</td><td>0.9394292</td><td>0.9406201</td><td>0.9417924</td><td>0.9429466</td><td>0.9440826</td></tr>\n",
       "\t<tr><th scope=row>1.60</th><td>0.9452007</td><td>0.9463011</td><td>0.9473839</td><td>0.9484493</td><td>0.9494974</td><td>0.9505285</td><td>0.9515428</td><td>0.9525403</td><td>0.9535213</td><td>0.9544860</td></tr>\n",
       "\t<tr><th scope=row>1.70</th><td>0.9554345</td><td>0.9563671</td><td>0.9572838</td><td>0.9581849</td><td>0.9590705</td><td>0.9599408</td><td>0.9607961</td><td>0.9616364</td><td>0.9624620</td><td>0.9632730</td></tr>\n",
       "\t<tr><th scope=row>1.80</th><td>0.9640697</td><td>0.9648521</td><td>0.9656205</td><td>0.9663750</td><td>0.9671159</td><td>0.9678432</td><td>0.9685572</td><td>0.9692581</td><td>0.9699460</td><td>0.9706210</td></tr>\n",
       "\t<tr><th scope=row>1.90</th><td>0.9712834</td><td>0.9719334</td><td>0.9725711</td><td>0.9731966</td><td>0.9738102</td><td>0.9744119</td><td>0.9750021</td><td>0.9755808</td><td>0.9761482</td><td>0.9767045</td></tr>\n",
       "\t<tr><th scope=row>2.00</th><td>0.9772499</td><td>0.9777844</td><td>0.9783083</td><td>0.9788217</td><td>0.9793248</td><td>0.9798178</td><td>0.9803007</td><td>0.9807738</td><td>0.9812372</td><td>0.9816911</td></tr>\n",
       "\t<tr><th scope=row>2.10</th><td>0.9821356</td><td>0.9825708</td><td>0.9829970</td><td>0.9834142</td><td>0.9838226</td><td>0.9842224</td><td>0.9846137</td><td>0.9849966</td><td>0.9853713</td><td>0.9857379</td></tr>\n",
       "\t<tr><th scope=row>2.20</th><td>0.9860966</td><td>0.9864474</td><td>0.9867906</td><td>0.9871263</td><td>0.9874545</td><td>0.9877755</td><td>0.9880894</td><td>0.9883962</td><td>0.9886962</td><td>0.9889893</td></tr>\n",
       "\t<tr><th scope=row>2.30</th><td>0.9892759</td><td>0.9895559</td><td>0.9898296</td><td>0.9900969</td><td>0.9903581</td><td>0.9906133</td><td>0.9908625</td><td>0.9911060</td><td>0.9913437</td><td>0.9915758</td></tr>\n",
       "\t<tr><th scope=row>2.40</th><td>0.9918025</td><td>0.9920237</td><td>0.9922397</td><td>0.9924506</td><td>0.9926564</td><td>0.9928572</td><td>0.9930531</td><td>0.9932443</td><td>0.9934309</td><td>0.9936128</td></tr>\n",
       "\t<tr><th scope=row>2.50</th><td>0.9937903</td><td>0.9939634</td><td>0.9941323</td><td>0.9942969</td><td>0.9944574</td><td>0.9946139</td><td>0.9947664</td><td>0.9949151</td><td>0.9950600</td><td>0.9952012</td></tr>\n",
       "\t<tr><th scope=row>2.60</th><td>0.9953388</td><td>0.9954729</td><td>0.9956035</td><td>0.9957308</td><td>0.9958547</td><td>0.9959754</td><td>0.9960930</td><td>0.9962074</td><td>0.9963189</td><td>0.9964274</td></tr>\n",
       "\t<tr><th scope=row>2.70</th><td>0.9965330</td><td>0.9966358</td><td>0.9967359</td><td>0.9968333</td><td>0.9969280</td><td>0.9970202</td><td>0.9971099</td><td>0.9971972</td><td>0.9972821</td><td>0.9973646</td></tr>\n",
       "\t<tr><th scope=row>2.80</th><td>0.9974449</td><td>0.9975229</td><td>0.9975988</td><td>0.9976726</td><td>0.9977443</td><td>0.9978140</td><td>0.9978818</td><td>0.9979476</td><td>0.9980116</td><td>0.9980738</td></tr>\n",
       "\t<tr><th scope=row>2.90</th><td>0.9981342</td><td>0.9981929</td><td>0.9982498</td><td>0.9983052</td><td>0.9983589</td><td>0.9984111</td><td>0.9984618</td><td>0.9985110</td><td>0.9985588</td><td>0.9986051</td></tr>\n",
       "\t<tr><th scope=row>3.00</th><td>0.9986501</td><td>0.9986938</td><td>0.9987361</td><td>0.9987772</td><td>0.9988171</td><td>0.9988558</td><td>0.9988933</td><td>0.9989297</td><td>0.9989650</td><td>0.9989992</td></tr>\n",
       "\t<tr><th scope=row>3.10</th><td>0.9990324</td><td>0.9990646</td><td>0.9990957</td><td>0.9991260</td><td>0.9991553</td><td>0.9991836</td><td>0.9992112</td><td>0.9992378</td><td>0.9992636</td><td>0.9992886</td></tr>\n",
       "\t<tr><th scope=row>3.20</th><td>0.9993129</td><td>0.9993363</td><td>0.9993590</td><td>0.9993810</td><td>0.9994024</td><td>0.9994230</td><td>0.9994429</td><td>0.9994623</td><td>0.9994810</td><td>0.9994991</td></tr>\n",
       "\t<tr><th scope=row>3.30</th><td>0.9995166</td><td>0.9995335</td><td>0.9995499</td><td>0.9995658</td><td>0.9995811</td><td>0.9995959</td><td>0.9996103</td><td>0.9996242</td><td>0.9996376</td><td>0.9996505</td></tr>\n",
       "\t<tr><th scope=row>3.40</th><td>0.9996631</td><td>0.9996752</td><td>0.9996869</td><td>0.9996982</td><td>0.9997091</td><td>0.9997197</td><td>0.9997299</td><td>0.9997398</td><td>0.9997493</td><td>0.9997585</td></tr>\n",
       "\t<tr><th scope=row>3.50</th><td>0.9997674</td><td>0.9997759</td><td>0.9997842</td><td>0.9997922</td><td>0.9997999</td><td>0.9998074</td><td>0.9998146</td><td>0.9998215</td><td>0.9998282</td><td>0.9998347</td></tr>\n",
       "\t<tr><th scope=row>3.60</th><td>0.9998409</td><td>0.9998469</td><td>0.9998527</td><td>0.9998583</td><td>0.9998637</td><td>0.9998689</td><td>0.9998739</td><td>0.9998787</td><td>0.9998834</td><td>0.9998879</td></tr>\n",
       "\t<tr><th scope=row>3.70</th><td>0.9998922</td><td>0.9998964</td><td>0.9999004</td><td>0.9999043</td><td>0.9999080</td><td>0.9999116</td><td>0.9999150</td><td>0.9999184</td><td>0.9999216</td><td>0.9999247</td></tr>\n",
       "\t<tr><th scope=row>3.80</th><td>0.9999277</td><td>0.9999305</td><td>0.9999333</td><td>0.9999359</td><td>0.9999385</td><td>0.9999409</td><td>0.9999433</td><td>0.9999456</td><td>0.9999478</td><td>0.9999499</td></tr>\n",
       "\t<tr><th scope=row>3.90</th><td>0.9999519</td><td>0.9999539</td><td>0.9999557</td><td>0.9999575</td><td>0.9999593</td><td>0.9999609</td><td>0.9999625</td><td>0.9999641</td><td>0.9999655</td><td>0.9999670</td></tr>\n",
       "</tbody>\n",
       "</table>\n"
      ],
      "text/latex": [
       "A matrix: 40 × 10 of type dbl\n",
       "\\begin{tabular}{r|llllllllll}\n",
       "  & 0.00 & 0.01 & 0.02 & 0.03 & 0.04 & 0.05 & 0.06 & 0.07 & 0.08 & 0.09\\\\\n",
       "\\hline\n",
       "\t0.00 & 0.5000000 & 0.5039894 & 0.5079783 & 0.5119665 & 0.5159534 & 0.5199388 & 0.5239222 & 0.5279032 & 0.5318814 & 0.5358564\\\\\n",
       "\t0.10 & 0.5398278 & 0.5437953 & 0.5477584 & 0.5517168 & 0.5556700 & 0.5596177 & 0.5635595 & 0.5674949 & 0.5714237 & 0.5753454\\\\\n",
       "\t0.20 & 0.5792597 & 0.5831662 & 0.5870644 & 0.5909541 & 0.5948349 & 0.5987063 & 0.6025681 & 0.6064199 & 0.6102612 & 0.6140919\\\\\n",
       "\t0.30 & 0.6179114 & 0.6217195 & 0.6255158 & 0.6293000 & 0.6330717 & 0.6368307 & 0.6405764 & 0.6443088 & 0.6480273 & 0.6517317\\\\\n",
       "\t0.40 & 0.6554217 & 0.6590970 & 0.6627573 & 0.6664022 & 0.6700314 & 0.6736448 & 0.6772419 & 0.6808225 & 0.6843863 & 0.6879331\\\\\n",
       "\t0.50 & 0.6914625 & 0.6949743 & 0.6984682 & 0.7019440 & 0.7054015 & 0.7088403 & 0.7122603 & 0.7156612 & 0.7190427 & 0.7224047\\\\\n",
       "\t0.60 & 0.7257469 & 0.7290691 & 0.7323711 & 0.7356527 & 0.7389137 & 0.7421539 & 0.7453731 & 0.7485711 & 0.7517478 & 0.7549029\\\\\n",
       "\t0.70 & 0.7580363 & 0.7611479 & 0.7642375 & 0.7673049 & 0.7703500 & 0.7733726 & 0.7763727 & 0.7793501 & 0.7823046 & 0.7852361\\\\\n",
       "\t0.80 & 0.7881446 & 0.7910299 & 0.7938919 & 0.7967306 & 0.7995458 & 0.8023375 & 0.8051055 & 0.8078498 & 0.8105703 & 0.8132671\\\\\n",
       "\t0.90 & 0.8159399 & 0.8185887 & 0.8212136 & 0.8238145 & 0.8263912 & 0.8289439 & 0.8314724 & 0.8339768 & 0.8364569 & 0.8389129\\\\\n",
       "\t1.00 & 0.8413447 & 0.8437524 & 0.8461358 & 0.8484950 & 0.8508300 & 0.8531409 & 0.8554277 & 0.8576903 & 0.8599289 & 0.8621434\\\\\n",
       "\t1.10 & 0.8643339 & 0.8665005 & 0.8686431 & 0.8707619 & 0.8728568 & 0.8749281 & 0.8769756 & 0.8789995 & 0.8809999 & 0.8829768\\\\\n",
       "\t1.20 & 0.8849303 & 0.8868606 & 0.8887676 & 0.8906514 & 0.8925123 & 0.8943502 & 0.8961653 & 0.8979577 & 0.8997274 & 0.9014747\\\\\n",
       "\t1.30 & 0.9031995 & 0.9049021 & 0.9065825 & 0.9082409 & 0.9098773 & 0.9114920 & 0.9130850 & 0.9146565 & 0.9162067 & 0.9177356\\\\\n",
       "\t1.40 & 0.9192433 & 0.9207302 & 0.9221962 & 0.9236415 & 0.9250663 & 0.9264707 & 0.9278550 & 0.9292191 & 0.9305634 & 0.9318879\\\\\n",
       "\t1.50 & 0.9331928 & 0.9344783 & 0.9357445 & 0.9369916 & 0.9382198 & 0.9394292 & 0.9406201 & 0.9417924 & 0.9429466 & 0.9440826\\\\\n",
       "\t1.60 & 0.9452007 & 0.9463011 & 0.9473839 & 0.9484493 & 0.9494974 & 0.9505285 & 0.9515428 & 0.9525403 & 0.9535213 & 0.9544860\\\\\n",
       "\t1.70 & 0.9554345 & 0.9563671 & 0.9572838 & 0.9581849 & 0.9590705 & 0.9599408 & 0.9607961 & 0.9616364 & 0.9624620 & 0.9632730\\\\\n",
       "\t1.80 & 0.9640697 & 0.9648521 & 0.9656205 & 0.9663750 & 0.9671159 & 0.9678432 & 0.9685572 & 0.9692581 & 0.9699460 & 0.9706210\\\\\n",
       "\t1.90 & 0.9712834 & 0.9719334 & 0.9725711 & 0.9731966 & 0.9738102 & 0.9744119 & 0.9750021 & 0.9755808 & 0.9761482 & 0.9767045\\\\\n",
       "\t2.00 & 0.9772499 & 0.9777844 & 0.9783083 & 0.9788217 & 0.9793248 & 0.9798178 & 0.9803007 & 0.9807738 & 0.9812372 & 0.9816911\\\\\n",
       "\t2.10 & 0.9821356 & 0.9825708 & 0.9829970 & 0.9834142 & 0.9838226 & 0.9842224 & 0.9846137 & 0.9849966 & 0.9853713 & 0.9857379\\\\\n",
       "\t2.20 & 0.9860966 & 0.9864474 & 0.9867906 & 0.9871263 & 0.9874545 & 0.9877755 & 0.9880894 & 0.9883962 & 0.9886962 & 0.9889893\\\\\n",
       "\t2.30 & 0.9892759 & 0.9895559 & 0.9898296 & 0.9900969 & 0.9903581 & 0.9906133 & 0.9908625 & 0.9911060 & 0.9913437 & 0.9915758\\\\\n",
       "\t2.40 & 0.9918025 & 0.9920237 & 0.9922397 & 0.9924506 & 0.9926564 & 0.9928572 & 0.9930531 & 0.9932443 & 0.9934309 & 0.9936128\\\\\n",
       "\t2.50 & 0.9937903 & 0.9939634 & 0.9941323 & 0.9942969 & 0.9944574 & 0.9946139 & 0.9947664 & 0.9949151 & 0.9950600 & 0.9952012\\\\\n",
       "\t2.60 & 0.9953388 & 0.9954729 & 0.9956035 & 0.9957308 & 0.9958547 & 0.9959754 & 0.9960930 & 0.9962074 & 0.9963189 & 0.9964274\\\\\n",
       "\t2.70 & 0.9965330 & 0.9966358 & 0.9967359 & 0.9968333 & 0.9969280 & 0.9970202 & 0.9971099 & 0.9971972 & 0.9972821 & 0.9973646\\\\\n",
       "\t2.80 & 0.9974449 & 0.9975229 & 0.9975988 & 0.9976726 & 0.9977443 & 0.9978140 & 0.9978818 & 0.9979476 & 0.9980116 & 0.9980738\\\\\n",
       "\t2.90 & 0.9981342 & 0.9981929 & 0.9982498 & 0.9983052 & 0.9983589 & 0.9984111 & 0.9984618 & 0.9985110 & 0.9985588 & 0.9986051\\\\\n",
       "\t3.00 & 0.9986501 & 0.9986938 & 0.9987361 & 0.9987772 & 0.9988171 & 0.9988558 & 0.9988933 & 0.9989297 & 0.9989650 & 0.9989992\\\\\n",
       "\t3.10 & 0.9990324 & 0.9990646 & 0.9990957 & 0.9991260 & 0.9991553 & 0.9991836 & 0.9992112 & 0.9992378 & 0.9992636 & 0.9992886\\\\\n",
       "\t3.20 & 0.9993129 & 0.9993363 & 0.9993590 & 0.9993810 & 0.9994024 & 0.9994230 & 0.9994429 & 0.9994623 & 0.9994810 & 0.9994991\\\\\n",
       "\t3.30 & 0.9995166 & 0.9995335 & 0.9995499 & 0.9995658 & 0.9995811 & 0.9995959 & 0.9996103 & 0.9996242 & 0.9996376 & 0.9996505\\\\\n",
       "\t3.40 & 0.9996631 & 0.9996752 & 0.9996869 & 0.9996982 & 0.9997091 & 0.9997197 & 0.9997299 & 0.9997398 & 0.9997493 & 0.9997585\\\\\n",
       "\t3.50 & 0.9997674 & 0.9997759 & 0.9997842 & 0.9997922 & 0.9997999 & 0.9998074 & 0.9998146 & 0.9998215 & 0.9998282 & 0.9998347\\\\\n",
       "\t3.60 & 0.9998409 & 0.9998469 & 0.9998527 & 0.9998583 & 0.9998637 & 0.9998689 & 0.9998739 & 0.9998787 & 0.9998834 & 0.9998879\\\\\n",
       "\t3.70 & 0.9998922 & 0.9998964 & 0.9999004 & 0.9999043 & 0.9999080 & 0.9999116 & 0.9999150 & 0.9999184 & 0.9999216 & 0.9999247\\\\\n",
       "\t3.80 & 0.9999277 & 0.9999305 & 0.9999333 & 0.9999359 & 0.9999385 & 0.9999409 & 0.9999433 & 0.9999456 & 0.9999478 & 0.9999499\\\\\n",
       "\t3.90 & 0.9999519 & 0.9999539 & 0.9999557 & 0.9999575 & 0.9999593 & 0.9999609 & 0.9999625 & 0.9999641 & 0.9999655 & 0.9999670\\\\\n",
       "\\end{tabular}\n"
      ],
      "text/markdown": [
       "\n",
       "A matrix: 40 × 10 of type dbl\n",
       "\n",
       "| <!--/--> | 0.00 | 0.01 | 0.02 | 0.03 | 0.04 | 0.05 | 0.06 | 0.07 | 0.08 | 0.09 |\n",
       "|---|---|---|---|---|---|---|---|---|---|---|\n",
       "| 0.00 | 0.5000000 | 0.5039894 | 0.5079783 | 0.5119665 | 0.5159534 | 0.5199388 | 0.5239222 | 0.5279032 | 0.5318814 | 0.5358564 |\n",
       "| 0.10 | 0.5398278 | 0.5437953 | 0.5477584 | 0.5517168 | 0.5556700 | 0.5596177 | 0.5635595 | 0.5674949 | 0.5714237 | 0.5753454 |\n",
       "| 0.20 | 0.5792597 | 0.5831662 | 0.5870644 | 0.5909541 | 0.5948349 | 0.5987063 | 0.6025681 | 0.6064199 | 0.6102612 | 0.6140919 |\n",
       "| 0.30 | 0.6179114 | 0.6217195 | 0.6255158 | 0.6293000 | 0.6330717 | 0.6368307 | 0.6405764 | 0.6443088 | 0.6480273 | 0.6517317 |\n",
       "| 0.40 | 0.6554217 | 0.6590970 | 0.6627573 | 0.6664022 | 0.6700314 | 0.6736448 | 0.6772419 | 0.6808225 | 0.6843863 | 0.6879331 |\n",
       "| 0.50 | 0.6914625 | 0.6949743 | 0.6984682 | 0.7019440 | 0.7054015 | 0.7088403 | 0.7122603 | 0.7156612 | 0.7190427 | 0.7224047 |\n",
       "| 0.60 | 0.7257469 | 0.7290691 | 0.7323711 | 0.7356527 | 0.7389137 | 0.7421539 | 0.7453731 | 0.7485711 | 0.7517478 | 0.7549029 |\n",
       "| 0.70 | 0.7580363 | 0.7611479 | 0.7642375 | 0.7673049 | 0.7703500 | 0.7733726 | 0.7763727 | 0.7793501 | 0.7823046 | 0.7852361 |\n",
       "| 0.80 | 0.7881446 | 0.7910299 | 0.7938919 | 0.7967306 | 0.7995458 | 0.8023375 | 0.8051055 | 0.8078498 | 0.8105703 | 0.8132671 |\n",
       "| 0.90 | 0.8159399 | 0.8185887 | 0.8212136 | 0.8238145 | 0.8263912 | 0.8289439 | 0.8314724 | 0.8339768 | 0.8364569 | 0.8389129 |\n",
       "| 1.00 | 0.8413447 | 0.8437524 | 0.8461358 | 0.8484950 | 0.8508300 | 0.8531409 | 0.8554277 | 0.8576903 | 0.8599289 | 0.8621434 |\n",
       "| 1.10 | 0.8643339 | 0.8665005 | 0.8686431 | 0.8707619 | 0.8728568 | 0.8749281 | 0.8769756 | 0.8789995 | 0.8809999 | 0.8829768 |\n",
       "| 1.20 | 0.8849303 | 0.8868606 | 0.8887676 | 0.8906514 | 0.8925123 | 0.8943502 | 0.8961653 | 0.8979577 | 0.8997274 | 0.9014747 |\n",
       "| 1.30 | 0.9031995 | 0.9049021 | 0.9065825 | 0.9082409 | 0.9098773 | 0.9114920 | 0.9130850 | 0.9146565 | 0.9162067 | 0.9177356 |\n",
       "| 1.40 | 0.9192433 | 0.9207302 | 0.9221962 | 0.9236415 | 0.9250663 | 0.9264707 | 0.9278550 | 0.9292191 | 0.9305634 | 0.9318879 |\n",
       "| 1.50 | 0.9331928 | 0.9344783 | 0.9357445 | 0.9369916 | 0.9382198 | 0.9394292 | 0.9406201 | 0.9417924 | 0.9429466 | 0.9440826 |\n",
       "| 1.60 | 0.9452007 | 0.9463011 | 0.9473839 | 0.9484493 | 0.9494974 | 0.9505285 | 0.9515428 | 0.9525403 | 0.9535213 | 0.9544860 |\n",
       "| 1.70 | 0.9554345 | 0.9563671 | 0.9572838 | 0.9581849 | 0.9590705 | 0.9599408 | 0.9607961 | 0.9616364 | 0.9624620 | 0.9632730 |\n",
       "| 1.80 | 0.9640697 | 0.9648521 | 0.9656205 | 0.9663750 | 0.9671159 | 0.9678432 | 0.9685572 | 0.9692581 | 0.9699460 | 0.9706210 |\n",
       "| 1.90 | 0.9712834 | 0.9719334 | 0.9725711 | 0.9731966 | 0.9738102 | 0.9744119 | 0.9750021 | 0.9755808 | 0.9761482 | 0.9767045 |\n",
       "| 2.00 | 0.9772499 | 0.9777844 | 0.9783083 | 0.9788217 | 0.9793248 | 0.9798178 | 0.9803007 | 0.9807738 | 0.9812372 | 0.9816911 |\n",
       "| 2.10 | 0.9821356 | 0.9825708 | 0.9829970 | 0.9834142 | 0.9838226 | 0.9842224 | 0.9846137 | 0.9849966 | 0.9853713 | 0.9857379 |\n",
       "| 2.20 | 0.9860966 | 0.9864474 | 0.9867906 | 0.9871263 | 0.9874545 | 0.9877755 | 0.9880894 | 0.9883962 | 0.9886962 | 0.9889893 |\n",
       "| 2.30 | 0.9892759 | 0.9895559 | 0.9898296 | 0.9900969 | 0.9903581 | 0.9906133 | 0.9908625 | 0.9911060 | 0.9913437 | 0.9915758 |\n",
       "| 2.40 | 0.9918025 | 0.9920237 | 0.9922397 | 0.9924506 | 0.9926564 | 0.9928572 | 0.9930531 | 0.9932443 | 0.9934309 | 0.9936128 |\n",
       "| 2.50 | 0.9937903 | 0.9939634 | 0.9941323 | 0.9942969 | 0.9944574 | 0.9946139 | 0.9947664 | 0.9949151 | 0.9950600 | 0.9952012 |\n",
       "| 2.60 | 0.9953388 | 0.9954729 | 0.9956035 | 0.9957308 | 0.9958547 | 0.9959754 | 0.9960930 | 0.9962074 | 0.9963189 | 0.9964274 |\n",
       "| 2.70 | 0.9965330 | 0.9966358 | 0.9967359 | 0.9968333 | 0.9969280 | 0.9970202 | 0.9971099 | 0.9971972 | 0.9972821 | 0.9973646 |\n",
       "| 2.80 | 0.9974449 | 0.9975229 | 0.9975988 | 0.9976726 | 0.9977443 | 0.9978140 | 0.9978818 | 0.9979476 | 0.9980116 | 0.9980738 |\n",
       "| 2.90 | 0.9981342 | 0.9981929 | 0.9982498 | 0.9983052 | 0.9983589 | 0.9984111 | 0.9984618 | 0.9985110 | 0.9985588 | 0.9986051 |\n",
       "| 3.00 | 0.9986501 | 0.9986938 | 0.9987361 | 0.9987772 | 0.9988171 | 0.9988558 | 0.9988933 | 0.9989297 | 0.9989650 | 0.9989992 |\n",
       "| 3.10 | 0.9990324 | 0.9990646 | 0.9990957 | 0.9991260 | 0.9991553 | 0.9991836 | 0.9992112 | 0.9992378 | 0.9992636 | 0.9992886 |\n",
       "| 3.20 | 0.9993129 | 0.9993363 | 0.9993590 | 0.9993810 | 0.9994024 | 0.9994230 | 0.9994429 | 0.9994623 | 0.9994810 | 0.9994991 |\n",
       "| 3.30 | 0.9995166 | 0.9995335 | 0.9995499 | 0.9995658 | 0.9995811 | 0.9995959 | 0.9996103 | 0.9996242 | 0.9996376 | 0.9996505 |\n",
       "| 3.40 | 0.9996631 | 0.9996752 | 0.9996869 | 0.9996982 | 0.9997091 | 0.9997197 | 0.9997299 | 0.9997398 | 0.9997493 | 0.9997585 |\n",
       "| 3.50 | 0.9997674 | 0.9997759 | 0.9997842 | 0.9997922 | 0.9997999 | 0.9998074 | 0.9998146 | 0.9998215 | 0.9998282 | 0.9998347 |\n",
       "| 3.60 | 0.9998409 | 0.9998469 | 0.9998527 | 0.9998583 | 0.9998637 | 0.9998689 | 0.9998739 | 0.9998787 | 0.9998834 | 0.9998879 |\n",
       "| 3.70 | 0.9998922 | 0.9998964 | 0.9999004 | 0.9999043 | 0.9999080 | 0.9999116 | 0.9999150 | 0.9999184 | 0.9999216 | 0.9999247 |\n",
       "| 3.80 | 0.9999277 | 0.9999305 | 0.9999333 | 0.9999359 | 0.9999385 | 0.9999409 | 0.9999433 | 0.9999456 | 0.9999478 | 0.9999499 |\n",
       "| 3.90 | 0.9999519 | 0.9999539 | 0.9999557 | 0.9999575 | 0.9999593 | 0.9999609 | 0.9999625 | 0.9999641 | 0.9999655 | 0.9999670 |\n",
       "\n"
      ],
      "text/plain": [
       "     0.00      0.01      0.02      0.03      0.04      0.05      0.06     \n",
       "0.00 0.5000000 0.5039894 0.5079783 0.5119665 0.5159534 0.5199388 0.5239222\n",
       "0.10 0.5398278 0.5437953 0.5477584 0.5517168 0.5556700 0.5596177 0.5635595\n",
       "0.20 0.5792597 0.5831662 0.5870644 0.5909541 0.5948349 0.5987063 0.6025681\n",
       "0.30 0.6179114 0.6217195 0.6255158 0.6293000 0.6330717 0.6368307 0.6405764\n",
       "0.40 0.6554217 0.6590970 0.6627573 0.6664022 0.6700314 0.6736448 0.6772419\n",
       "0.50 0.6914625 0.6949743 0.6984682 0.7019440 0.7054015 0.7088403 0.7122603\n",
       "0.60 0.7257469 0.7290691 0.7323711 0.7356527 0.7389137 0.7421539 0.7453731\n",
       "0.70 0.7580363 0.7611479 0.7642375 0.7673049 0.7703500 0.7733726 0.7763727\n",
       "0.80 0.7881446 0.7910299 0.7938919 0.7967306 0.7995458 0.8023375 0.8051055\n",
       "0.90 0.8159399 0.8185887 0.8212136 0.8238145 0.8263912 0.8289439 0.8314724\n",
       "1.00 0.8413447 0.8437524 0.8461358 0.8484950 0.8508300 0.8531409 0.8554277\n",
       "1.10 0.8643339 0.8665005 0.8686431 0.8707619 0.8728568 0.8749281 0.8769756\n",
       "1.20 0.8849303 0.8868606 0.8887676 0.8906514 0.8925123 0.8943502 0.8961653\n",
       "1.30 0.9031995 0.9049021 0.9065825 0.9082409 0.9098773 0.9114920 0.9130850\n",
       "1.40 0.9192433 0.9207302 0.9221962 0.9236415 0.9250663 0.9264707 0.9278550\n",
       "1.50 0.9331928 0.9344783 0.9357445 0.9369916 0.9382198 0.9394292 0.9406201\n",
       "1.60 0.9452007 0.9463011 0.9473839 0.9484493 0.9494974 0.9505285 0.9515428\n",
       "1.70 0.9554345 0.9563671 0.9572838 0.9581849 0.9590705 0.9599408 0.9607961\n",
       "1.80 0.9640697 0.9648521 0.9656205 0.9663750 0.9671159 0.9678432 0.9685572\n",
       "1.90 0.9712834 0.9719334 0.9725711 0.9731966 0.9738102 0.9744119 0.9750021\n",
       "2.00 0.9772499 0.9777844 0.9783083 0.9788217 0.9793248 0.9798178 0.9803007\n",
       "2.10 0.9821356 0.9825708 0.9829970 0.9834142 0.9838226 0.9842224 0.9846137\n",
       "2.20 0.9860966 0.9864474 0.9867906 0.9871263 0.9874545 0.9877755 0.9880894\n",
       "2.30 0.9892759 0.9895559 0.9898296 0.9900969 0.9903581 0.9906133 0.9908625\n",
       "2.40 0.9918025 0.9920237 0.9922397 0.9924506 0.9926564 0.9928572 0.9930531\n",
       "2.50 0.9937903 0.9939634 0.9941323 0.9942969 0.9944574 0.9946139 0.9947664\n",
       "2.60 0.9953388 0.9954729 0.9956035 0.9957308 0.9958547 0.9959754 0.9960930\n",
       "2.70 0.9965330 0.9966358 0.9967359 0.9968333 0.9969280 0.9970202 0.9971099\n",
       "2.80 0.9974449 0.9975229 0.9975988 0.9976726 0.9977443 0.9978140 0.9978818\n",
       "2.90 0.9981342 0.9981929 0.9982498 0.9983052 0.9983589 0.9984111 0.9984618\n",
       "3.00 0.9986501 0.9986938 0.9987361 0.9987772 0.9988171 0.9988558 0.9988933\n",
       "3.10 0.9990324 0.9990646 0.9990957 0.9991260 0.9991553 0.9991836 0.9992112\n",
       "3.20 0.9993129 0.9993363 0.9993590 0.9993810 0.9994024 0.9994230 0.9994429\n",
       "3.30 0.9995166 0.9995335 0.9995499 0.9995658 0.9995811 0.9995959 0.9996103\n",
       "3.40 0.9996631 0.9996752 0.9996869 0.9996982 0.9997091 0.9997197 0.9997299\n",
       "3.50 0.9997674 0.9997759 0.9997842 0.9997922 0.9997999 0.9998074 0.9998146\n",
       "3.60 0.9998409 0.9998469 0.9998527 0.9998583 0.9998637 0.9998689 0.9998739\n",
       "3.70 0.9998922 0.9998964 0.9999004 0.9999043 0.9999080 0.9999116 0.9999150\n",
       "3.80 0.9999277 0.9999305 0.9999333 0.9999359 0.9999385 0.9999409 0.9999433\n",
       "3.90 0.9999519 0.9999539 0.9999557 0.9999575 0.9999593 0.9999609 0.9999625\n",
       "     0.07      0.08      0.09     \n",
       "0.00 0.5279032 0.5318814 0.5358564\n",
       "0.10 0.5674949 0.5714237 0.5753454\n",
       "0.20 0.6064199 0.6102612 0.6140919\n",
       "0.30 0.6443088 0.6480273 0.6517317\n",
       "0.40 0.6808225 0.6843863 0.6879331\n",
       "0.50 0.7156612 0.7190427 0.7224047\n",
       "0.60 0.7485711 0.7517478 0.7549029\n",
       "0.70 0.7793501 0.7823046 0.7852361\n",
       "0.80 0.8078498 0.8105703 0.8132671\n",
       "0.90 0.8339768 0.8364569 0.8389129\n",
       "1.00 0.8576903 0.8599289 0.8621434\n",
       "1.10 0.8789995 0.8809999 0.8829768\n",
       "1.20 0.8979577 0.8997274 0.9014747\n",
       "1.30 0.9146565 0.9162067 0.9177356\n",
       "1.40 0.9292191 0.9305634 0.9318879\n",
       "1.50 0.9417924 0.9429466 0.9440826\n",
       "1.60 0.9525403 0.9535213 0.9544860\n",
       "1.70 0.9616364 0.9624620 0.9632730\n",
       "1.80 0.9692581 0.9699460 0.9706210\n",
       "1.90 0.9755808 0.9761482 0.9767045\n",
       "2.00 0.9807738 0.9812372 0.9816911\n",
       "2.10 0.9849966 0.9853713 0.9857379\n",
       "2.20 0.9883962 0.9886962 0.9889893\n",
       "2.30 0.9911060 0.9913437 0.9915758\n",
       "2.40 0.9932443 0.9934309 0.9936128\n",
       "2.50 0.9949151 0.9950600 0.9952012\n",
       "2.60 0.9962074 0.9963189 0.9964274\n",
       "2.70 0.9971972 0.9972821 0.9973646\n",
       "2.80 0.9979476 0.9980116 0.9980738\n",
       "2.90 0.9985110 0.9985588 0.9986051\n",
       "3.00 0.9989297 0.9989650 0.9989992\n",
       "3.10 0.9992378 0.9992636 0.9992886\n",
       "3.20 0.9994623 0.9994810 0.9994991\n",
       "3.30 0.9996242 0.9996376 0.9996505\n",
       "3.40 0.9997398 0.9997493 0.9997585\n",
       "3.50 0.9998215 0.9998282 0.9998347\n",
       "3.60 0.9998787 0.9998834 0.9998879\n",
       "3.70 0.9999184 0.9999216 0.9999247\n",
       "3.80 0.9999456 0.9999478 0.9999499\n",
       "3.90 0.9999641 0.9999655 0.9999670"
      ]
     },
     "metadata": {},
     "output_type": "display_data"
    }
   ],
   "source": [
    "Z <- seq(0, 3.99, by=0.01)\n",
    "probabilidade <- pnorm(Z)\n",
    "tabela_normal_padronizada <- matrix(probabilidade, ncol=10, byrow=TRUE)\n",
    "colnames(tabela_normal_padronizada) <- format(seq(0.00, 0.09, by=0.01))\n",
    "rownames(tabela_normal_padronizada) <- format(seq(0.00, 3.90, by=0.10), digits = 2, nsmall = 2)\n",
    "tabela_normal_padronizada"
   ]
  },
  {
   "cell_type": "markdown",
   "metadata": {
    "colab_type": "text",
    "id": "XHYeMaN3G3D9"
   },
   "source": [
    "<img src='https://caelum-online-public.s3.amazonaws.com/1178-estatistica-parte2/01/img003.png' width='250px'>\n",
    "\n",
    "A tabela acima fornece a área sob a curva entre $-\\infty$ e $Z$ desvios padrão acima da média. Lembrando que por se tratar de valores padronizados temos $\\mu = 0$."
   ]
  },
  {
   "cell_type": "markdown",
   "metadata": {
    "colab_type": "text",
    "id": "Bs-KyZAJG3D-"
   },
   "source": [
    "## <font color='blue'>Exemplo: Qual sua altura?</font>"
   ]
  },
  {
   "cell_type": "markdown",
   "metadata": {
    "colab_type": "text",
    "id": "8PFIjXejG3EA"
   },
   "source": [
    "Em um estudo sobre as alturas dos moradores de uma cidade verificou-se que o conjunto de dados segue uma **distribuição aproximadamente normal**, com **média 1,70** e **desvio padrão de 0,1**. Com estas informações obtenha o seguinte conjunto de probabilidades:\n",
    "\n",
    "> **A.** probabilidade de uma pessoa, selecionada ao acaso, ter menos de 1,80 metros.\n",
    ">\n",
    "> **B.** probabilidade de uma pessoa, selecionada ao acaso, ter entre 1,60 metros e 1,80 metros.    \n",
    ">\n",
    "> **C.** probabilidade de uma pessoa, selecionada ao acaso, ter mais de 1,90 metros."
   ]
  },
  {
   "cell_type": "markdown",
   "metadata": {
    "colab_type": "text",
    "id": "aHpZLwt1G3EC"
   },
   "source": [
    "### Problema A - Identificação da área sob a curva"
   ]
  },
  {
   "cell_type": "markdown",
   "metadata": {
    "colab_type": "text",
    "id": "V1eC7tydG3EF"
   },
   "source": [
    "<img style='float: left' src='https://caelum-online-public.s3.amazonaws.com/1178-estatistica-parte2/01/img004.png' width='350px'>"
   ]
  },
  {
   "cell_type": "markdown",
   "metadata": {
    "colab_type": "text",
    "id": "X61wEuRrG3EI"
   },
   "source": [
    "### Obter a variável padronizada $Z$"
   ]
  },
  {
   "cell_type": "code",
   "execution_count": 33,
   "metadata": {
    "colab": {
     "base_uri": "https://localhost:8080/",
     "height": 34
    },
    "colab_type": "code",
    "id": "gNSNIMvZG3EK",
    "outputId": "2d4048a7-4c0a-4f51-c964-2f063cbdf092"
   },
   "outputs": [
    {
     "data": {
      "text/html": [
       "1.7"
      ],
      "text/latex": [
       "1.7"
      ],
      "text/markdown": [
       "1.7"
      ],
      "text/plain": [
       "[1] 1.7"
      ]
     },
     "metadata": {},
     "output_type": "display_data"
    }
   ],
   "source": [
    "media <- 1.70\n",
    "media"
   ]
  },
  {
   "cell_type": "code",
   "execution_count": 34,
   "metadata": {
    "colab": {
     "base_uri": "https://localhost:8080/",
     "height": 34
    },
    "colab_type": "code",
    "id": "E_f2lycRG3ES",
    "outputId": "7bb0daf7-7f86-4bdd-f195-429e7b68d239"
   },
   "outputs": [
    {
     "data": {
      "text/html": [
       "0.1"
      ],
      "text/latex": [
       "0.1"
      ],
      "text/markdown": [
       "0.1"
      ],
      "text/plain": [
       "[1] 0.1"
      ]
     },
     "metadata": {},
     "output_type": "display_data"
    }
   ],
   "source": [
    "desvio_padrao <- 0.1\n",
    "desvio_padrao"
   ]
  },
  {
   "cell_type": "code",
   "execution_count": 35,
   "metadata": {
    "colab": {
     "base_uri": "https://localhost:8080/",
     "height": 34
    },
    "colab_type": "code",
    "id": "xnsCkUb6G3EX",
    "outputId": "b3f57dbb-4c23-4b9f-e89d-d8c35383a2d2"
   },
   "outputs": [
    {
     "data": {
      "text/html": [
       "1"
      ],
      "text/latex": [
       "1"
      ],
      "text/markdown": [
       "1"
      ],
      "text/plain": [
       "[1] 1"
      ]
     },
     "metadata": {},
     "output_type": "display_data"
    }
   ],
   "source": [
    "Z <- (1.80 - media) / desvio_padrao\n",
    "Z"
   ]
  },
  {
   "cell_type": "markdown",
   "metadata": {
    "colab_type": "text",
    "id": "oj9sgHbkG3Eb"
   },
   "source": [
    "### Solução 1 - Utilizando tabela"
   ]
  },
  {
   "cell_type": "code",
   "execution_count": 36,
   "metadata": {
    "colab": {
     "base_uri": "https://localhost:8080/",
     "height": 34
    },
    "colab_type": "code",
    "id": "ReDTH3WgG3Ec",
    "outputId": "ec542c14-9cd4-405d-a899-dfa92493aa84"
   },
   "outputs": [
    {
     "data": {
      "text/html": [
       "0.8413447"
      ],
      "text/latex": [
       "0.8413447"
      ],
      "text/markdown": [
       "0.8413447"
      ],
      "text/plain": [
       "[1] 0.8413447"
      ]
     },
     "metadata": {},
     "output_type": "display_data"
    }
   ],
   "source": [
    "probabilidade <- 0.8413447\n",
    "probabilidade"
   ]
  },
  {
   "cell_type": "markdown",
   "metadata": {
    "colab_type": "text",
    "id": "4ud0OnQOG3Eh"
   },
   "source": [
    "### Solução 2 - Utilizando função"
   ]
  },
  {
   "cell_type": "code",
   "execution_count": 37,
   "metadata": {
    "colab": {
     "base_uri": "https://localhost:8080/",
     "height": 34
    },
    "colab_type": "code",
    "id": "sx7riZVlG3Ei",
    "outputId": "c321c9f8-a1a8-44f8-977b-492d2ec65152"
   },
   "outputs": [
    {
     "data": {
      "text/html": [
       "0.841344746068543"
      ],
      "text/latex": [
       "0.841344746068543"
      ],
      "text/markdown": [
       "0.841344746068543"
      ],
      "text/plain": [
       "[1] 0.8413447"
      ]
     },
     "metadata": {},
     "output_type": "display_data"
    }
   ],
   "source": [
    "pnorm(Z)"
   ]
  },
  {
   "cell_type": "markdown",
   "metadata": {},
   "source": [
    "***\n",
    "## <font color='blue'> Problem: Statistics test</font>\n",
    "***"
   ]
  },
  {
   "cell_type": "markdown",
   "metadata": {},
   "source": [
    "A aplicação de uma **prova de estatística** em um concurso apresentou um conjunto de notas normalmente distribuídas. Verificou-se que o conjunto de notas tinha **média 70 e desvio padrão de 5 pontos**. Qual a probabilidade de um aluno, **selecionado ao acaso, ter nota menor que 85?**"
   ]
  },
  {
   "cell_type": "code",
   "execution_count": 38,
   "metadata": {},
   "outputs": [],
   "source": [
    "mean <- 70"
   ]
  },
  {
   "cell_type": "code",
   "execution_count": 39,
   "metadata": {},
   "outputs": [],
   "source": [
    "sd <- 5"
   ]
  },
  {
   "cell_type": "code",
   "execution_count": 40,
   "metadata": {},
   "outputs": [
    {
     "data": {
      "text/html": [
       "3"
      ],
      "text/latex": [
       "3"
      ],
      "text/markdown": [
       "3"
      ],
      "text/plain": [
       "[1] 3"
      ]
     },
     "metadata": {},
     "output_type": "display_data"
    }
   ],
   "source": [
    "Z <- (85 - mean) / sd\n",
    "Z"
   ]
  },
  {
   "cell_type": "code",
   "execution_count": 41,
   "metadata": {},
   "outputs": [
    {
     "data": {
      "text/html": [
       "0.9986501"
      ],
      "text/latex": [
       "0.9986501"
      ],
      "text/markdown": [
       "0.9986501"
      ],
      "text/plain": [
       "[1] 0.9986501"
      ]
     },
     "metadata": {},
     "output_type": "display_data"
    }
   ],
   "source": [
    "round(pnorm(Z), 7)"
   ]
  },
  {
   "cell_type": "markdown",
   "metadata": {
    "colab_type": "text",
    "id": "ZsnMjGzJG3Ep"
   },
   "source": [
    "### Problema B - Identificação da área sob a curva"
   ]
  },
  {
   "cell_type": "markdown",
   "metadata": {
    "colab_type": "text",
    "id": "LN2HY-UCG3Ep"
   },
   "source": [
    "<img style='float: left' src='https://caelum-online-public.s3.amazonaws.com/1178-estatistica-parte2/01/img005.png' width='350px'>"
   ]
  },
  {
   "cell_type": "markdown",
   "metadata": {
    "colab_type": "text",
    "id": "FS6WNg88G3Eq"
   },
   "source": [
    "### Obter a variável padronizada $Z$"
   ]
  },
  {
   "cell_type": "code",
   "execution_count": 42,
   "metadata": {
    "colab": {
     "base_uri": "https://localhost:8080/",
     "height": 34
    },
    "colab_type": "code",
    "id": "mxPsPIOYG3Er",
    "outputId": "d86de31f-1ca0-443c-8ed6-81edfe5d36f4"
   },
   "outputs": [
    {
     "data": {
      "text/html": [
       "-1"
      ],
      "text/latex": [
       "-1"
      ],
      "text/markdown": [
       "-1"
      ],
      "text/plain": [
       "[1] -1"
      ]
     },
     "metadata": {},
     "output_type": "display_data"
    }
   ],
   "source": [
    "Z_inferior <- (1.6 - media) / desvio_padrao\n",
    "round(Z_inferior, 2)"
   ]
  },
  {
   "cell_type": "code",
   "execution_count": 43,
   "metadata": {
    "colab": {
     "base_uri": "https://localhost:8080/",
     "height": 34
    },
    "colab_type": "code",
    "id": "s0Vf0GXHG3Et",
    "outputId": "5237e5e2-547b-4cbf-a5da-52bd4933f6a1"
   },
   "outputs": [
    {
     "data": {
      "text/html": [
       "1"
      ],
      "text/latex": [
       "1"
      ],
      "text/markdown": [
       "1"
      ],
      "text/plain": [
       "[1] 1"
      ]
     },
     "metadata": {},
     "output_type": "display_data"
    }
   ],
   "source": [
    "Z_superior <- (1.80 - media) / desvio_padrao\n",
    "round(Z_superior, 2)"
   ]
  },
  {
   "cell_type": "markdown",
   "metadata": {
    "colab_type": "text",
    "id": "MseXjmZ7G3E0"
   },
   "source": [
    "### Solução 1 - Utilizando tabela"
   ]
  },
  {
   "cell_type": "code",
   "execution_count": 44,
   "metadata": {
    "colab": {
     "base_uri": "https://localhost:8080/",
     "height": 34
    },
    "colab_type": "code",
    "id": "swZ6SVQGG3E0",
    "outputId": "53e30c74-5ec5-4737-f928-600388bfe570"
   },
   "outputs": [
    {
     "data": {
      "text/html": [
       "0.6826894"
      ],
      "text/latex": [
       "0.6826894"
      ],
      "text/markdown": [
       "0.6826894"
      ],
      "text/plain": [
       "[1] 0.6826894"
      ]
     },
     "metadata": {},
     "output_type": "display_data"
    }
   ],
   "source": [
    "probabilidade <- (0.8413447 - 0.5) * 2\n",
    "probabilidade"
   ]
  },
  {
   "cell_type": "code",
   "execution_count": 45,
   "metadata": {
    "colab": {
     "base_uri": "https://localhost:8080/",
     "height": 34
    },
    "colab_type": "code",
    "id": "oNfZZRBdGy2G",
    "outputId": "408ee333-2e8e-4058-fe74-a75b715eedf8"
   },
   "outputs": [
    {
     "data": {
      "text/html": [
       "0.6826894"
      ],
      "text/latex": [
       "0.6826894"
      ],
      "text/markdown": [
       "0.6826894"
      ],
      "text/plain": [
       "[1] 0.6826894"
      ]
     },
     "metadata": {},
     "output_type": "display_data"
    }
   ],
   "source": [
    "probabilidade <- 0.8413447 - (1 - 0.8413447)\n",
    "probabilidade"
   ]
  },
  {
   "cell_type": "markdown",
   "metadata": {
    "colab_type": "text",
    "id": "y5e4zAifG3E2"
   },
   "source": [
    "### Solução 2 - Utilizando função"
   ]
  },
  {
   "cell_type": "code",
   "execution_count": 46,
   "metadata": {
    "colab": {
     "base_uri": "https://localhost:8080/",
     "height": 34
    },
    "colab_type": "code",
    "id": "hcps6lkNG3E3",
    "outputId": "c8de38f1-8411-408c-862c-7aa6e099e43f"
   },
   "outputs": [
    {
     "data": {
      "text/html": [
       "0.682689492137086"
      ],
      "text/latex": [
       "0.682689492137086"
      ],
      "text/markdown": [
       "0.682689492137086"
      ],
      "text/plain": [
       "[1] 0.6826895"
      ]
     },
     "metadata": {},
     "output_type": "display_data"
    }
   ],
   "source": [
    "probabilidade <- pnorm(Z_superior) - (1- pnorm(Z_superior))\n",
    "probabilidade"
   ]
  },
  {
   "cell_type": "code",
   "execution_count": 47,
   "metadata": {
    "colab": {
     "base_uri": "https://localhost:8080/",
     "height": 34
    },
    "colab_type": "code",
    "id": "MjEfhnQEG3E5",
    "outputId": "4a6241c6-1b04-4c5f-b62d-9e98f412f3ad"
   },
   "outputs": [
    {
     "data": {
      "text/html": [
       "0.682689492137086"
      ],
      "text/latex": [
       "0.682689492137086"
      ],
      "text/markdown": [
       "0.682689492137086"
      ],
      "text/plain": [
       "[1] 0.6826895"
      ]
     },
     "metadata": {},
     "output_type": "display_data"
    }
   ],
   "source": [
    "probabilidade <- pnorm(Z_superior) - pnorm(Z_inferior)\n",
    "probabilidade"
   ]
  },
  {
   "cell_type": "markdown",
   "metadata": {},
   "source": [
    "## <font color='blue'> Problem: Daily billing</font>"
   ]
  },
  {
   "cell_type": "markdown",
   "metadata": {},
   "source": [
    "O faturamento diário de um motorista de aplicativo segue uma distribuição aproximadamente normal, com **média 300.00 Reais** e **desvio padrão igual a 50.00 Reais**. Obtenha as probabilidades de que, em um dia aleatório, o motorista ganhe:\n",
    "\n",
    "**1-Entre 250,00 e 350,00**\n",
    "\n",
    "**2-Entre 400,00 e 500,00**"
   ]
  },
  {
   "cell_type": "markdown",
   "metadata": {},
   "source": [
    "#### **1-Entre 250,00 e 350,00**"
   ]
  },
  {
   "cell_type": "code",
   "execution_count": 48,
   "metadata": {},
   "outputs": [
    {
     "data": {
      "text/html": [
       "-1"
      ],
      "text/latex": [
       "-1"
      ],
      "text/markdown": [
       "-1"
      ],
      "text/plain": [
       "[1] -1"
      ]
     },
     "metadata": {},
     "output_type": "display_data"
    }
   ],
   "source": [
    "Z_inf_250 <- (250 - 300) / 50\n",
    "Z_inf_250"
   ]
  },
  {
   "cell_type": "code",
   "execution_count": 49,
   "metadata": {},
   "outputs": [
    {
     "data": {
      "text/html": [
       "1"
      ],
      "text/latex": [
       "1"
      ],
      "text/markdown": [
       "1"
      ],
      "text/plain": [
       "[1] 1"
      ]
     },
     "metadata": {},
     "output_type": "display_data"
    }
   ],
   "source": [
    "Z_sup_350 <- (350 - 300) / 50\n",
    "Z_sup_350"
   ]
  },
  {
   "cell_type": "code",
   "execution_count": 50,
   "metadata": {},
   "outputs": [
    {
     "data": {
      "text/html": [
       "0.682689492137086"
      ],
      "text/latex": [
       "0.682689492137086"
      ],
      "text/markdown": [
       "0.682689492137086"
      ],
      "text/plain": [
       "[1] 0.6826895"
      ]
     },
     "metadata": {},
     "output_type": "display_data"
    }
   ],
   "source": [
    "probability_1 <- pnorm(Z_sup_350) - pnorm(Z_inf_250)\n",
    "probability_1"
   ]
  },
  {
   "cell_type": "markdown",
   "metadata": {},
   "source": [
    "#### **2-Entre 400,00 e 500,00**"
   ]
  },
  {
   "cell_type": "code",
   "execution_count": 51,
   "metadata": {},
   "outputs": [
    {
     "data": {
      "text/html": [
       "2"
      ],
      "text/latex": [
       "2"
      ],
      "text/markdown": [
       "2"
      ],
      "text/plain": [
       "[1] 2"
      ]
     },
     "metadata": {},
     "output_type": "display_data"
    }
   ],
   "source": [
    "Z_inf_400 <- (400 - 300) / 50\n",
    "Z_inf_400"
   ]
  },
  {
   "cell_type": "code",
   "execution_count": 52,
   "metadata": {},
   "outputs": [
    {
     "data": {
      "text/html": [
       "4"
      ],
      "text/latex": [
       "4"
      ],
      "text/markdown": [
       "4"
      ],
      "text/plain": [
       "[1] 4"
      ]
     },
     "metadata": {},
     "output_type": "display_data"
    }
   ],
   "source": [
    "Z_sup_500 <- (500 - 300) / 50\n",
    "Z_sup_500"
   ]
  },
  {
   "cell_type": "code",
   "execution_count": 53,
   "metadata": {},
   "outputs": [
    {
     "data": {
      "text/html": [
       "0.0227184607063461"
      ],
      "text/latex": [
       "0.0227184607063461"
      ],
      "text/markdown": [
       "0.0227184607063461"
      ],
      "text/plain": [
       "[1] 0.02271846"
      ]
     },
     "metadata": {},
     "output_type": "display_data"
    }
   ],
   "source": [
    "probability_2 <- pnorm(Z_sup_500) - pnorm(Z_inf_400)\n",
    "probability_2"
   ]
  },
  {
   "cell_type": "code",
   "execution_count": 54,
   "metadata": {},
   "outputs": [
    {
     "data": {
      "text/html": [
       "0.6827"
      ],
      "text/latex": [
       "0.6827"
      ],
      "text/markdown": [
       "0.6827"
      ],
      "text/plain": [
       "[1] 0.6827"
      ]
     },
     "metadata": {},
     "output_type": "display_data"
    },
    {
     "data": {
      "text/html": [
       "0.0227"
      ],
      "text/latex": [
       "0.0227"
      ],
      "text/markdown": [
       "0.0227"
      ],
      "text/plain": [
       "[1] 0.0227"
      ]
     },
     "metadata": {},
     "output_type": "display_data"
    }
   ],
   "source": [
    "round(probability_1, 4)\n",
    "round(probability_2, 4)"
   ]
  },
  {
   "cell_type": "markdown",
   "metadata": {},
   "source": [
    "## <font color='blue'>Problem: Classifying the athletes</font>"
   ]
  },
  {
   "cell_type": "markdown",
   "metadata": {},
   "source": [
    "Os pesos dos lutadores de uma academia de MMA, com **500 atletas**, são normalmente distribuídos, com média igual a **80,5 kg e desvio padrão igual a 12,2 kg**. Encontre o número de atletas dessa academia que se enquadram na categoria peso leve, que vai de **65,7 kg até 70,3 kg.**"
   ]
  },
  {
   "cell_type": "code",
   "execution_count": 55,
   "metadata": {},
   "outputs": [
    {
     "data": {
      "text/html": [
       "-1.21311475409836"
      ],
      "text/latex": [
       "-1.21311475409836"
      ],
      "text/markdown": [
       "-1.21311475409836"
      ],
      "text/plain": [
       "[1] -1.213115"
      ]
     },
     "metadata": {},
     "output_type": "display_data"
    }
   ],
   "source": [
    "Z_inf_weight <- (65.7 - 80.5) / 12.2\n",
    "Z_inf_weight"
   ]
  },
  {
   "cell_type": "code",
   "execution_count": 56,
   "metadata": {},
   "outputs": [
    {
     "data": {
      "text/html": [
       "-0.836065573770492"
      ],
      "text/latex": [
       "-0.836065573770492"
      ],
      "text/markdown": [
       "-0.836065573770492"
      ],
      "text/plain": [
       "[1] -0.8360656"
      ]
     },
     "metadata": {},
     "output_type": "display_data"
    }
   ],
   "source": [
    "Z_sup_weight <- (70.3 - 80.5) / 12.2\n",
    "Z_sup_weight"
   ]
  },
  {
   "cell_type": "code",
   "execution_count": 57,
   "metadata": {},
   "outputs": [
    {
     "data": {
      "text/html": [
       "0.0890160321903165"
      ],
      "text/latex": [
       "0.0890160321903165"
      ],
      "text/markdown": [
       "0.0890160321903165"
      ],
      "text/plain": [
       "[1] 0.08901603"
      ]
     },
     "metadata": {},
     "output_type": "display_data"
    }
   ],
   "source": [
    "probability <- pnorm(Z_sup_weight) - pnorm(Z_inf_weight)\n",
    "probability"
   ]
  },
  {
   "cell_type": "code",
   "execution_count": 58,
   "metadata": {},
   "outputs": [],
   "source": [
    "N <- 500"
   ]
  },
  {
   "cell_type": "code",
   "execution_count": 59,
   "metadata": {},
   "outputs": [
    {
     "data": {
      "text/html": [
       "45"
      ],
      "text/latex": [
       "45"
      ],
      "text/markdown": [
       "45"
      ],
      "text/plain": [
       "[1] 45"
      ]
     },
     "metadata": {},
     "output_type": "display_data"
    }
   ],
   "source": [
    "numbers_athletes <- N * probability\n",
    "round(numbers_athletes)"
   ]
  },
  {
   "cell_type": "markdown",
   "metadata": {
    "colab_type": "text",
    "id": "05sqVgdaG3E-"
   },
   "source": [
    "### Problema C - Identificação da área sob a curva"
   ]
  },
  {
   "cell_type": "markdown",
   "metadata": {
    "colab_type": "text",
    "id": "EPKhGTEkG3E_"
   },
   "source": [
    "<img style='float: left' src='https://caelum-online-public.s3.amazonaws.com/1178-estatistica-parte2/01/img006.png' width='350px'>"
   ]
  },
  {
   "cell_type": "markdown",
   "metadata": {
    "colab_type": "text",
    "id": "BA6jYbsSG3E_"
   },
   "source": [
    "### Obter a variável padronizada $Z$"
   ]
  },
  {
   "cell_type": "code",
   "execution_count": 60,
   "metadata": {
    "colab": {
     "base_uri": "https://localhost:8080/",
     "height": 34
    },
    "colab_type": "code",
    "id": "3OVj60MzG3E_",
    "outputId": "71f57b74-bc13-4493-f8ba-6f05a2a07041"
   },
   "outputs": [
    {
     "data": {
      "text/html": [
       "2"
      ],
      "text/latex": [
       "2"
      ],
      "text/markdown": [
       "2"
      ],
      "text/plain": [
       "[1] 2"
      ]
     },
     "metadata": {},
     "output_type": "display_data"
    }
   ],
   "source": [
    "Z <- (1.90 - 1.70) / 0.1\n",
    "Z"
   ]
  },
  {
   "cell_type": "markdown",
   "metadata": {
    "colab_type": "text",
    "id": "hCiiWAm_G3FC"
   },
   "source": [
    "### Solução 1 - Utilizando tabela"
   ]
  },
  {
   "cell_type": "code",
   "execution_count": 61,
   "metadata": {},
   "outputs": [
    {
     "data": {
      "text/html": [
       "0.0227501"
      ],
      "text/latex": [
       "0.0227501"
      ],
      "text/markdown": [
       "0.0227501"
      ],
      "text/plain": [
       "[1] 0.0227501"
      ]
     },
     "metadata": {},
     "output_type": "display_data"
    }
   ],
   "source": [
    "probabilidade <- 1 - 0.9772499\t\n",
    "probabilidade"
   ]
  },
  {
   "cell_type": "markdown",
   "metadata": {
    "colab_type": "text",
    "id": "QCyoVXOdG3FF"
   },
   "source": [
    "### Solução 2 - Utilizando função"
   ]
  },
  {
   "cell_type": "code",
   "execution_count": 62,
   "metadata": {
    "colab": {
     "base_uri": "https://localhost:8080/",
     "height": 34
    },
    "colab_type": "code",
    "id": "caIE-t83G3FF",
    "outputId": "224b72ff-7edd-4b66-a24e-a1f89e4685c9"
   },
   "outputs": [
    {
     "data": {
      "text/html": [
       "0.0227501319481792"
      ],
      "text/latex": [
       "0.0227501319481792"
      ],
      "text/markdown": [
       "0.0227501319481792"
      ],
      "text/plain": [
       "[1] 0.02275013"
      ]
     },
     "metadata": {},
     "output_type": "display_data"
    }
   ],
   "source": [
    "probabilidade <- 1 - pnorm(Z)\n",
    "probabilidade"
   ]
  },
  {
   "cell_type": "code",
   "execution_count": 63,
   "metadata": {
    "colab": {
     "base_uri": "https://localhost:8080/",
     "height": 34
    },
    "colab_type": "code",
    "id": "wKjqQGgMG3FI",
    "outputId": "7ef30837-195e-4f5b-9bef-68fceaff2397"
   },
   "outputs": [
    {
     "data": {
      "text/html": [
       "0.0227501319481792"
      ],
      "text/latex": [
       "0.0227501319481792"
      ],
      "text/markdown": [
       "0.0227501319481792"
      ],
      "text/plain": [
       "[1] 0.02275013"
      ]
     },
     "metadata": {},
     "output_type": "display_data"
    }
   ],
   "source": [
    "probabilidade <- pnorm(-Z)\n",
    "probabilidade"
   ]
  },
  {
   "cell_type": "markdown",
   "metadata": {},
   "source": [
    "## <font color='blue'>Problem: Lifespan</font>\n",
    "***"
   ]
  },
  {
   "cell_type": "markdown",
   "metadata": {},
   "source": [
    "O Inmetro verificou que as lâmpadas incandescentes da fabricante XPTO apresentam uma vida útil normalmente distribuída, com ***média igual a 720 dias e desvio padrão igual a 30 dias***. Calcule a probabilidade de uma lâmpada escolhida ao acaso durar:\n",
    "\n",
    "**1-Entre 650 e 750 dias**\n",
    "\n",
    "**2-Mais que 800 dias**\n",
    "\n",
    "**3-Menos que 700 dias**"
   ]
  },
  {
   "cell_type": "markdown",
   "metadata": {},
   "source": [
    " "
   ]
  },
  {
   "cell_type": "markdown",
   "metadata": {},
   "source": [
    "**1-Entre 650 e 750 dias**:"
   ]
  },
  {
   "cell_type": "code",
   "execution_count": 64,
   "metadata": {},
   "outputs": [],
   "source": [
    "m <- 720"
   ]
  },
  {
   "cell_type": "code",
   "execution_count": 65,
   "metadata": {},
   "outputs": [],
   "source": [
    "sd <- 30"
   ]
  },
  {
   "cell_type": "code",
   "execution_count": 66,
   "metadata": {},
   "outputs": [
    {
     "data": {
      "text/html": [
       "-2.33333333333333"
      ],
      "text/latex": [
       "-2.33333333333333"
      ],
      "text/markdown": [
       "-2.33333333333333"
      ],
      "text/plain": [
       "[1] -2.333333"
      ]
     },
     "metadata": {},
     "output_type": "display_data"
    }
   ],
   "source": [
    "Z_inf <- (650 - 720) / 30\n",
    "Z_inf"
   ]
  },
  {
   "cell_type": "code",
   "execution_count": 67,
   "metadata": {},
   "outputs": [
    {
     "data": {
      "text/html": [
       "1"
      ],
      "text/latex": [
       "1"
      ],
      "text/markdown": [
       "1"
      ],
      "text/plain": [
       "[1] 1"
      ]
     },
     "metadata": {},
     "output_type": "display_data"
    }
   ],
   "source": [
    "Z_sup <- (750 - 720) / 30\n",
    "Z_sup"
   ]
  },
  {
   "cell_type": "code",
   "execution_count": 68,
   "metadata": {
    "scrolled": true
   },
   "outputs": [
    {
     "data": {
      "text/html": [
       "0.831529417439898"
      ],
      "text/latex": [
       "0.831529417439898"
      ],
      "text/markdown": [
       "0.831529417439898"
      ],
      "text/plain": [
       "[1] 0.8315294"
      ]
     },
     "metadata": {},
     "output_type": "display_data"
    }
   ],
   "source": [
    "probability_1 <- pnorm(Z_sup) - pnorm(Z_inf)\n",
    "probability_1"
   ]
  },
  {
   "cell_type": "markdown",
   "metadata": {},
   "source": [
    " "
   ]
  },
  {
   "cell_type": "markdown",
   "metadata": {},
   "source": [
    "**2-Mais que 800 dias**"
   ]
  },
  {
   "cell_type": "code",
   "execution_count": 69,
   "metadata": {},
   "outputs": [
    {
     "data": {
      "text/html": [
       "2.66666666666667"
      ],
      "text/latex": [
       "2.66666666666667"
      ],
      "text/markdown": [
       "2.66666666666667"
      ],
      "text/plain": [
       "[1] 2.666667"
      ]
     },
     "metadata": {},
     "output_type": "display_data"
    }
   ],
   "source": [
    "Z_800 <- (800 - 720) / 30\n",
    "Z_800"
   ]
  },
  {
   "cell_type": "code",
   "execution_count": 70,
   "metadata": {},
   "outputs": [
    {
     "data": {
      "text/html": [
       "0.00383038056758974"
      ],
      "text/latex": [
       "0.00383038056758974"
      ],
      "text/markdown": [
       "0.00383038056758974"
      ],
      "text/plain": [
       "[1] 0.003830381"
      ]
     },
     "metadata": {},
     "output_type": "display_data"
    }
   ],
   "source": [
    "probability_2 <- pnorm(-Z_800)\n",
    "probability_2"
   ]
  },
  {
   "cell_type": "markdown",
   "metadata": {},
   "source": [
    " "
   ]
  },
  {
   "cell_type": "markdown",
   "metadata": {},
   "source": [
    "**3-Menos que 700 dias**"
   ]
  },
  {
   "cell_type": "code",
   "execution_count": 71,
   "metadata": {},
   "outputs": [
    {
     "data": {
      "text/html": [
       "-0.666666666666667"
      ],
      "text/latex": [
       "-0.666666666666667"
      ],
      "text/markdown": [
       "-0.666666666666667"
      ],
      "text/plain": [
       "[1] -0.6666667"
      ]
     },
     "metadata": {},
     "output_type": "display_data"
    }
   ],
   "source": [
    "Z_700 <- (700 - 720) / 30\n",
    "Z_700"
   ]
  },
  {
   "cell_type": "code",
   "execution_count": 72,
   "metadata": {},
   "outputs": [
    {
     "data": {
      "text/html": [
       "0.252492537546923"
      ],
      "text/latex": [
       "0.252492537546923"
      ],
      "text/markdown": [
       "0.252492537546923"
      ],
      "text/plain": [
       "[1] 0.2524925"
      ]
     },
     "metadata": {},
     "output_type": "display_data"
    }
   ],
   "source": [
    "probability_3 <- pnorm(Z_700)\n",
    "probability_3"
   ]
  },
  {
   "cell_type": "code",
   "execution_count": 73,
   "metadata": {},
   "outputs": [
    {
     "data": {
      "text/html": [
       "0.831529417439898"
      ],
      "text/latex": [
       "0.831529417439898"
      ],
      "text/markdown": [
       "0.831529417439898"
      ],
      "text/plain": [
       "[1] 0.8315294"
      ]
     },
     "metadata": {},
     "output_type": "display_data"
    }
   ],
   "source": [
    "probability_1"
   ]
  },
  {
   "cell_type": "code",
   "execution_count": 74,
   "metadata": {},
   "outputs": [
    {
     "data": {
      "text/html": [
       "0.00383038056758974"
      ],
      "text/latex": [
       "0.00383038056758974"
      ],
      "text/markdown": [
       "0.00383038056758974"
      ],
      "text/plain": [
       "[1] 0.003830381"
      ]
     },
     "metadata": {},
     "output_type": "display_data"
    }
   ],
   "source": [
    "probability_2"
   ]
  },
  {
   "cell_type": "code",
   "execution_count": 75,
   "metadata": {},
   "outputs": [
    {
     "data": {
      "text/html": [
       "0.252492537546923"
      ],
      "text/latex": [
       "0.252492537546923"
      ],
      "text/markdown": [
       "0.252492537546923"
      ],
      "text/plain": [
       "[1] 0.2524925"
      ]
     },
     "metadata": {},
     "output_type": "display_data"
    }
   ],
   "source": [
    "probability_3"
   ]
  },
  {
   "cell_type": "markdown",
   "metadata": {},
   "source": [
    "  "
   ]
  },
  {
   "cell_type": "markdown",
   "metadata": {},
   "source": [
    "## <font color='blue'>Problem: Test time</font>\n",
    "***"
   ]
  },
  {
   "cell_type": "markdown",
   "metadata": {},
   "source": [
    "O tempo para concluir uma prova de concurso público se distribui normalmente, com uma ***média de 80 minutos*** e ***desvio padrão de 10 minutos***. Suponha que uma das salas de prova tenha 60 candidatos e que a ***duração da prova seja de 90 minutos***. Quantos candidatos você acha que não conseguirão concluir a prova no tempo determinado?\n",
    "\n",
    "Observação: Utilize a função round() para arredondar o resultado obtido."
   ]
  },
  {
   "cell_type": "code",
   "execution_count": 76,
   "metadata": {},
   "outputs": [],
   "source": [
    "m <- 80"
   ]
  },
  {
   "cell_type": "code",
   "execution_count": 77,
   "metadata": {},
   "outputs": [],
   "source": [
    "sd <- 10"
   ]
  },
  {
   "cell_type": "code",
   "execution_count": 78,
   "metadata": {},
   "outputs": [],
   "source": [
    "x <- 90"
   ]
  },
  {
   "cell_type": "code",
   "execution_count": 79,
   "metadata": {},
   "outputs": [
    {
     "data": {
      "text/html": [
       "1"
      ],
      "text/latex": [
       "1"
      ],
      "text/markdown": [
       "1"
      ],
      "text/plain": [
       "[1] 1"
      ]
     },
     "metadata": {},
     "output_type": "display_data"
    }
   ],
   "source": [
    "Z <- (x - m) / sd\n",
    "Z"
   ]
  },
  {
   "cell_type": "code",
   "execution_count": 80,
   "metadata": {},
   "outputs": [
    {
     "data": {
      "text/html": [
       "0.158655253931457"
      ],
      "text/latex": [
       "0.158655253931457"
      ],
      "text/markdown": [
       "0.158655253931457"
      ],
      "text/plain": [
       "[1] 0.1586553"
      ]
     },
     "metadata": {},
     "output_type": "display_data"
    }
   ],
   "source": [
    "probability <- pnorm(-Z)\n",
    "probability"
   ]
  },
  {
   "cell_type": "code",
   "execution_count": 81,
   "metadata": {},
   "outputs": [
    {
     "data": {
      "text/html": [
       "0.16"
      ],
      "text/latex": [
       "0.16"
      ],
      "text/markdown": [
       "0.16"
      ],
      "text/plain": [
       "[1] 0.16"
      ]
     },
     "metadata": {},
     "output_type": "display_data"
    }
   ],
   "source": [
    "round(probability, 2)"
   ]
  },
  {
   "cell_type": "code",
   "execution_count": 82,
   "metadata": {},
   "outputs": [],
   "source": [
    "numbers_students <- 60"
   ]
  },
  {
   "cell_type": "code",
   "execution_count": 83,
   "metadata": {},
   "outputs": [
    {
     "data": {
      "text/html": [
       "9.51931523588742"
      ],
      "text/latex": [
       "9.51931523588742"
      ],
      "text/markdown": [
       "9.51931523588742"
      ],
      "text/plain": [
       "[1] 9.519315"
      ]
     },
     "metadata": {},
     "output_type": "display_data"
    }
   ],
   "source": [
    "N <- numbers_students * probability\n",
    "N"
   ]
  },
  {
   "cell_type": "code",
   "execution_count": 84,
   "metadata": {},
   "outputs": [
    {
     "data": {
      "text/html": [
       "10"
      ],
      "text/latex": [
       "10"
      ],
      "text/markdown": [
       "10"
      ],
      "text/plain": [
       "[1] 10"
      ]
     },
     "metadata": {},
     "output_type": "display_data"
    }
   ],
   "source": [
    "round(N) "
   ]
  },
  {
   "cell_type": "markdown",
   "metadata": {
    "colab_type": "text",
    "id": "GmmzChE2t4wW"
   },
   "source": [
    "# <font color=green>3 AMOSTRAGEM</font>\n",
    "***"
   ]
  },
  {
   "cell_type": "markdown",
   "metadata": {
    "colab_type": "text",
    "id": "g8PbtmQZt4Wv"
   },
   "source": [
    "## <font color=green>3.1 População e Amostra</font>\n",
    "***"
   ]
  },
  {
   "cell_type": "markdown",
   "metadata": {
    "colab_type": "text",
    "id": "sedD5gB9G3FV"
   },
   "source": [
    "### População\n",
    "Conjunto de todos os elementos de interesse em um estudo. Diversos elementos podem compor uma população, por exemplo: pessoas, idades, alturas, carros etc.\n",
    "\n",
    "Com relação ao tamanho, as populações podem ser limitadas (populações finitas) ou ilimitadas (populações infinitas)."
   ]
  },
  {
   "cell_type": "markdown",
   "metadata": {
    "colab_type": "text",
    "id": "XBFhAWNcG3FW"
   },
   "source": [
    "### Populações finitas\n",
    "\n",
    "Permitem a contagem de seus elementos. Como exemplos temos o número de funcionário de uma empresa, a quantidade de alunos em uma escola etc."
   ]
  },
  {
   "cell_type": "markdown",
   "metadata": {
    "colab_type": "text",
    "id": "YT8V2GB1G3FW"
   },
   "source": [
    "### Populações infinitas\n",
    "\n",
    "Não é possível contar seus elementos. Como exemplos temos a quantidade de porções que se pode extrair da água do mar para uma análise, temperatura medida em cada ponto de um território etc.\n",
    "\n",
    "<font color=red>Quando os elementos de uma população puderem ser contados, porém apresentando uma quantidade muito grande, assume-se a população como infinita.</font>."
   ]
  },
  {
   "cell_type": "markdown",
   "metadata": {
    "colab_type": "text",
    "id": "a-WtAXv1G3FX"
   },
   "source": [
    "### Amostra\n",
    "Subconjunto representativo da população."
   ]
  },
  {
   "cell_type": "markdown",
   "metadata": {
    "colab_type": "text",
    "id": "QWnDYpPSG3FX"
   },
   "source": [
    "Os atributos numéricos de uma população como sua média, variância e desvio padrão, são conhecidos como **parâmetros**. O principal foco da inferência estatística é justamente gerar estimativas e testar hipóteses sobre os parâmetros populacionais utilizando as informações de amostras."
   ]
  },
  {
   "cell_type": "markdown",
   "metadata": {
    "colab_type": "text",
    "id": "dDz6vFbDG3FZ"
   },
   "source": [
    "## <font color=green>3.2 Quando utilizar uma amostra?</font>\n",
    "***"
   ]
  },
  {
   "cell_type": "markdown",
   "metadata": {
    "colab_type": "text",
    "id": "5X1YwCGlG3Fe"
   },
   "source": [
    "### Populações infinitas\n",
    "\n",
    "O estudo não chegaria nunca ao fim. Não é possível investigar todos os elementos da população."
   ]
  },
  {
   "cell_type": "markdown",
   "metadata": {
    "colab_type": "text",
    "id": "jHLtG8HSG3Ff"
   },
   "source": [
    "### Testes destrutivos\n",
    "\n",
    "Estudos onde os elementos avaliados são totalmente consumidos ou destruídos. Exemplo: testes de vida útil, testes de segurança contra colisões em automóveis."
   ]
  },
  {
   "cell_type": "markdown",
   "metadata": {
    "colab_type": "text",
    "id": "lxYxepmdG3Ff"
   },
   "source": [
    "### Resultados rápidos\n",
    "\n",
    "Pesquisas que precisam de mais agilidade na divulgação. Exemplo: pesquisas de opinião, pesquisas que envolvam problemas de saúde pública."
   ]
  },
  {
   "cell_type": "markdown",
   "metadata": {
    "colab_type": "text",
    "id": "PeUCGL5nG3Fj"
   },
   "source": [
    "### Custos elevados\n",
    "\n",
    "Quando a população é finita mas muito numerosa, o custo de um censo pode tornar o processo inviável."
   ]
  },
  {
   "cell_type": "markdown",
   "metadata": {
    "colab_type": "text",
    "id": "1sbJeMpSG3Fj"
   },
   "source": [
    "## <font color=green>3.3 Amostragem Aleatória Simples</font>\n",
    "***"
   ]
  },
  {
   "cell_type": "markdown",
   "metadata": {
    "colab_type": "text",
    "id": "Kiq9cYMYG3Fp"
   },
   "source": [
    "É uma das principais maneiras de se extrair uma amostra de uma população. A exigência fundamental deste tipo de abordagem é que cada elemeto da população tenha as mesmas chances de ser selecionado para fazer parte da amostra."
   ]
  },
  {
   "cell_type": "markdown",
   "metadata": {},
   "source": [
    "#### <font color=red>Documentações:\n",
    "\n",
    "- [**sample**](https://www.rdocumentation.org/packages/dplyr/versions/0.7.8/topics/sample)"
   ]
  },
  {
   "cell_type": "code",
   "execution_count": 85,
   "metadata": {},
   "outputs": [
    {
     "name": "stderr",
     "output_type": "stream",
     "text": [
      "\n",
      "Attaching package: ‘dplyr’\n",
      "\n",
      "\n",
      "The following objects are masked from ‘package:stats’:\n",
      "\n",
      "    filter, lag\n",
      "\n",
      "\n",
      "The following objects are masked from ‘package:base’:\n",
      "\n",
      "    intersect, setdiff, setequal, union\n",
      "\n",
      "\n"
     ]
    }
   ],
   "source": [
    "library(dplyr)"
   ]
  },
  {
   "cell_type": "code",
   "execution_count": 86,
   "metadata": {
    "colab": {
     "base_uri": "https://localhost:8080/",
     "height": 34
    },
    "colab_type": "code",
    "id": "NtQ8HOYdG3Fq",
    "outputId": "d746a965-c212-4b99-ac1f-a7741b13544f"
   },
   "outputs": [
    {
     "data": {
      "text/html": [
       "76840"
      ],
      "text/latex": [
       "76840"
      ],
      "text/markdown": [
       "76840"
      ],
      "text/plain": [
       "[1] 76840"
      ]
     },
     "metadata": {},
     "output_type": "display_data"
    }
   ],
   "source": [
    "nrow(dataset)"
   ]
  },
  {
   "cell_type": "code",
   "execution_count": 87,
   "metadata": {
    "colab": {
     "base_uri": "https://localhost:8080/",
     "height": 34
    },
    "colab_type": "code",
    "id": "DsXJHWhMG3Fs",
    "outputId": "b5e5d083-2d89-4f31-e8dd-5ae48375a81c"
   },
   "outputs": [
    {
     "data": {
      "text/html": [
       "2000.38319885476"
      ],
      "text/latex": [
       "2000.38319885476"
      ],
      "text/markdown": [
       "2000.38319885476"
      ],
      "text/plain": [
       "[1] 2000.383"
      ]
     },
     "metadata": {},
     "output_type": "display_data"
    }
   ],
   "source": [
    "mean(dataset$Income)"
   ]
  },
  {
   "cell_type": "code",
   "execution_count": 88,
   "metadata": {},
   "outputs": [],
   "source": [
    "set.seed(2011)\n",
    "dataset_sample <- sample_n(dataset, 1000)"
   ]
  },
  {
   "cell_type": "code",
   "execution_count": 89,
   "metadata": {},
   "outputs": [
    {
     "data": {
      "text/html": [
       "1000"
      ],
      "text/latex": [
       "1000"
      ],
      "text/markdown": [
       "1000"
      ],
      "text/plain": [
       "[1] 1000"
      ]
     },
     "metadata": {},
     "output_type": "display_data"
    }
   ],
   "source": [
    "nrow(dataset_sample)"
   ]
  },
  {
   "cell_type": "code",
   "execution_count": 90,
   "metadata": {},
   "outputs": [
    {
     "data": {
      "text/html": [
       "1966.342"
      ],
      "text/latex": [
       "1966.342"
      ],
      "text/markdown": [
       "1966.342"
      ],
      "text/plain": [
       "[1] 1966.342"
      ]
     },
     "metadata": {},
     "output_type": "display_data"
    }
   ],
   "source": [
    "mean(dataset_sample$Income)"
   ]
  },
  {
   "cell_type": "code",
   "execution_count": 91,
   "metadata": {},
   "outputs": [
    {
     "data": {
      "text/plain": [
       "\n",
       "        0         1 \n",
       "0.6929984 0.3070016 "
      ]
     },
     "metadata": {},
     "output_type": "display_data"
    }
   ],
   "source": [
    "prop.table(table(dataset$Sex))"
   ]
  },
  {
   "cell_type": "code",
   "execution_count": 92,
   "metadata": {
    "colab": {
     "base_uri": "https://localhost:8080/",
     "height": 68
    },
    "colab_type": "code",
    "id": "WGZT_wnjSgPy",
    "outputId": "f905ff8a-84f8-45d5-d232-927630754b70"
   },
   "outputs": [
    {
     "data": {
      "text/plain": [
       "\n",
       "    0     1 \n",
       "0.692 0.308 "
      ]
     },
     "metadata": {},
     "output_type": "display_data"
    }
   ],
   "source": [
    "prop.table(table(dataset_sample$Sex))"
   ]
  },
  {
   "cell_type": "markdown",
   "metadata": {
    "colab_type": "text",
    "id": "stcKhnJBG3F7"
   },
   "source": [
    "## <font color=green>3.4 Amostragem Estratificada</font>\n",
    "***"
   ]
  },
  {
   "cell_type": "markdown",
   "metadata": {
    "colab_type": "text",
    "id": "W1uEZMRIG3GA"
   },
   "source": [
    "É uma melhoria do processo de amostragem aleatória simples. Neste método é proposta a divisão da população em subgrupos de elementos com características similares, ou seja, grupos mais homogêneos. Com estes subgrupos separados, aplica-se a técnica de amostragem aleatória simples dentro de cada subgrupo individualmente."
   ]
  },
  {
   "cell_type": "markdown",
   "metadata": {
    "colab_type": "text",
    "id": "xRjUHDAbG3GB"
   },
   "source": [
    "## <font color=green>3.5 Amostragem por Conglomerados</font>\n",
    "***"
   ]
  },
  {
   "cell_type": "markdown",
   "metadata": {
    "colab_type": "text",
    "id": "sW9IuaL9G3GH"
   },
   "source": [
    "Também visa melhorar o critério de amostragem aleatória simples. Na amostragem por conglomerados são também criados subgrupos, porém não serão homogêneas como na amostragem estratificada. Na amostragem por conglomerados os subgrupos serão heterogêneos, onde, em seguida, serão aplicadas a amostragem aleatória simples ou estratificada.\n",
    "\n",
    "Um exemplo bastante comum de aplicação deste tipo de técnica é na divisão da população em grupos territoriais, onde os elementos investigados terão características bastante variadas."
   ]
  },
  {
   "cell_type": "markdown",
   "metadata": {
    "colab_type": "text",
    "id": "2LNJT4FEuzO4"
   },
   "source": [
    "# <font color=green>4 ESTIMAÇÃO</font>\n",
    "***"
   ]
  },
  {
   "cell_type": "markdown",
   "metadata": {
    "colab_type": "text",
    "id": "z69W2sVGmybS"
   },
   "source": [
    "## <font color='red'>Problema </font>"
   ]
  },
  {
   "cell_type": "markdown",
   "metadata": {
    "colab_type": "text",
    "id": "ytP6VpismwDY"
   },
   "source": [
    "Suponha que os pesos dos sacos de arroz de uma indústria alimentícia se distribuem aproximadamente como uma normal de **desvio padrão populacional igual a 150 g**. Selecionada uma **amostra aleatório de 20 sacos** de um lote específico, obteve-se um **peso médio de 5.050 g**. Construa um **intervalo de confiança para a média populacional** assumindo um **nível de significância de 5%**."
   ]
  },
  {
   "cell_type": "markdown",
   "metadata": {
    "colab_type": "text",
    "id": "PCqEvJMOwvUf"
   },
   "source": [
    "---"
   ]
  },
  {
   "cell_type": "markdown",
   "metadata": {
    "colab_type": "text",
    "id": "HU578SXBG3GN"
   },
   "source": [
    "É a forma de se fazer suposições generalizadas sobre os parâmetros de uma população tendo como base as informações de uma amostra.\n",
    "\n",
    "- **Parâmetros** são os atributos numéricos de uma população, tal como a média, desvio padrão etc.\n",
    "\n",
    "- **Estimativa** é o valor obtido para determinado parâmetro a partir dos dados de uma amostra da população."
   ]
  },
  {
   "cell_type": "markdown",
   "metadata": {
    "colab_type": "text",
    "id": "klWVkoUDG3GR"
   },
   "source": [
    "## <font color=green>4.1 Teorema do limite central</font>\n",
    "***"
   ]
  },
  {
   "cell_type": "markdown",
   "metadata": {
    "colab_type": "text",
    "id": "QpgTvbISG3GU"
   },
   "source": [
    "> O **Teorema do Limite Central** afirma que, com o aumento do tamanho da amostra, a distribuição das médias amostrais se aproxima de uma distribuição normal com média igual à média da população e desvio padrão igual ao desvio padrão da variável original dividido pela raiz quadrada do tamanho da amostra. Este fato é assegurado para $n$ maior ou igual a 30."
   ]
  },
  {
   "cell_type": "markdown",
   "metadata": {
    "colab_type": "text",
    "id": "ZIAr6is3wEMp"
   },
   "source": [
    "# $$\\sigma_\\bar{x} = \\frac{\\sigma}{\\sqrt{n}}$$\n",
    "\n",
    "O desvio padrão das médias amostrais é conhecido como **erro padrão da média**\n",
    "\n",
    "#### <font color=red>Documentações:\n",
    "\n",
    "- [**colMeans**](https://www.rdocumentation.org/packages/base/versions/3.6.1/topics/colSums)"
   ]
  },
  {
   "cell_type": "markdown",
   "metadata": {
    "colab_type": "text",
    "id": "eFtSo6H0iz7z"
   },
   "source": [
    "### Entendendo o Teorema do Limite Central"
   ]
  },
  {
   "cell_type": "code",
   "execution_count": 93,
   "metadata": {},
   "outputs": [],
   "source": [
    "n <- 2000\n",
    "total_samples <- 1500"
   ]
  },
  {
   "cell_type": "code",
   "execution_count": 94,
   "metadata": {},
   "outputs": [
    {
     "data": {
      "text/html": [
       "<table class=\"dataframe\">\n",
       "<caption>A data.frame: 2000 × 1500</caption>\n",
       "<thead>\n",
       "\t<tr><th scope=col>Sample_1</th><th scope=col>Sample_ 2</th><th scope=col>Sample_ 3</th><th scope=col>Sample_ 4</th><th scope=col>Sample_ 5</th><th scope=col>Sample_ 6</th><th scope=col>Sample_ 7</th><th scope=col>Sample_ 8</th><th scope=col>Sample_ 9</th><th scope=col>Sample_ 10</th><th scope=col>⋯</th><th scope=col>Sample_ 1491</th><th scope=col>Sample_ 1492</th><th scope=col>Sample_ 1493</th><th scope=col>Sample_ 1494</th><th scope=col>Sample_ 1495</th><th scope=col>Sample_ 1496</th><th scope=col>Sample_ 1497</th><th scope=col>Sample_ 1498</th><th scope=col>Sample_ 1499</th><th scope=col>Sample_ 1500</th></tr>\n",
       "\t<tr><th scope=col>&lt;int&gt;</th><th scope=col>&lt;int&gt;</th><th scope=col>&lt;int&gt;</th><th scope=col>&lt;int&gt;</th><th scope=col>&lt;int&gt;</th><th scope=col>&lt;int&gt;</th><th scope=col>&lt;int&gt;</th><th scope=col>&lt;int&gt;</th><th scope=col>&lt;int&gt;</th><th scope=col>&lt;int&gt;</th><th scope=col>⋯</th><th scope=col>&lt;int&gt;</th><th scope=col>&lt;int&gt;</th><th scope=col>&lt;int&gt;</th><th scope=col>&lt;int&gt;</th><th scope=col>&lt;int&gt;</th><th scope=col>&lt;int&gt;</th><th scope=col>&lt;int&gt;</th><th scope=col>&lt;int&gt;</th><th scope=col>&lt;int&gt;</th><th scope=col>&lt;int&gt;</th></tr>\n",
       "</thead>\n",
       "<tbody>\n",
       "\t<tr><td>30</td><td>32</td><td>50</td><td>60</td><td>58</td><td>62</td><td>56</td><td>30</td><td>45</td><td>30</td><td>⋯</td><td>51</td><td>52</td><td>51</td><td>43</td><td>51</td><td>60</td><td>55</td><td>30</td><td>40</td><td>38</td></tr>\n",
       "\t<tr><td>51</td><td>40</td><td>42</td><td>40</td><td>60</td><td>56</td><td>42</td><td>28</td><td>72</td><td>38</td><td>⋯</td><td>57</td><td>47</td><td>39</td><td>39</td><td>44</td><td>38</td><td>27</td><td>42</td><td>34</td><td>50</td></tr>\n",
       "\t<tr><td>33</td><td>66</td><td>23</td><td>36</td><td>56</td><td>27</td><td>46</td><td>38</td><td>38</td><td>55</td><td>⋯</td><td>36</td><td>37</td><td>20</td><td>49</td><td>41</td><td>49</td><td>38</td><td>65</td><td>28</td><td>46</td></tr>\n",
       "\t<tr><td>44</td><td>24</td><td>62</td><td>34</td><td>54</td><td>30</td><td>61</td><td>50</td><td>43</td><td>34</td><td>⋯</td><td>51</td><td>68</td><td>67</td><td>77</td><td>54</td><td>61</td><td>36</td><td>25</td><td>35</td><td>53</td></tr>\n",
       "\t<tr><td>25</td><td>68</td><td>58</td><td>44</td><td>45</td><td>52</td><td>21</td><td>34</td><td>60</td><td>52</td><td>⋯</td><td>39</td><td>49</td><td>40</td><td>55</td><td>37</td><td>40</td><td>62</td><td>31</td><td>51</td><td>41</td></tr>\n",
       "\t<tr><td>60</td><td>67</td><td>53</td><td>31</td><td>33</td><td>28</td><td>53</td><td>53</td><td>24</td><td>34</td><td>⋯</td><td>44</td><td>62</td><td>70</td><td>77</td><td>66</td><td>26</td><td>40</td><td>36</td><td>63</td><td>52</td></tr>\n",
       "\t<tr><td>47</td><td>45</td><td>51</td><td>26</td><td>45</td><td>49</td><td>32</td><td>62</td><td>49</td><td>33</td><td>⋯</td><td>50</td><td>64</td><td>47</td><td>45</td><td>34</td><td>53</td><td>43</td><td>41</td><td>44</td><td>68</td></tr>\n",
       "\t<tr><td>56</td><td>22</td><td>44</td><td>20</td><td>41</td><td>40</td><td>37</td><td>45</td><td>40</td><td>50</td><td>⋯</td><td>40</td><td>43</td><td>20</td><td>31</td><td>25</td><td>64</td><td>28</td><td>44</td><td>32</td><td>36</td></tr>\n",
       "\t<tr><td>46</td><td>40</td><td>57</td><td>38</td><td>40</td><td>35</td><td>45</td><td>25</td><td>27</td><td>43</td><td>⋯</td><td>39</td><td>43</td><td>43</td><td>46</td><td>56</td><td>40</td><td>68</td><td>38</td><td>54</td><td>39</td></tr>\n",
       "\t<tr><td>46</td><td>41</td><td>50</td><td>40</td><td>57</td><td>29</td><td>48</td><td>50</td><td>33</td><td>65</td><td>⋯</td><td>62</td><td>50</td><td>58</td><td>52</td><td>20</td><td>24</td><td>66</td><td>66</td><td>36</td><td>44</td></tr>\n",
       "\t<tr><td>42</td><td>54</td><td>47</td><td>36</td><td>31</td><td>61</td><td>23</td><td>38</td><td>60</td><td>45</td><td>⋯</td><td>55</td><td>70</td><td>32</td><td>25</td><td>64</td><td>73</td><td>37</td><td>78</td><td>46</td><td>20</td></tr>\n",
       "\t<tr><td>45</td><td>52</td><td>43</td><td>30</td><td>37</td><td>60</td><td>38</td><td>52</td><td>48</td><td>46</td><td>⋯</td><td>38</td><td>60</td><td>37</td><td>37</td><td>34</td><td>40</td><td>66</td><td>36</td><td>50</td><td>50</td></tr>\n",
       "\t<tr><td>50</td><td>60</td><td>38</td><td>42</td><td>60</td><td>27</td><td>57</td><td>23</td><td>61</td><td>49</td><td>⋯</td><td>34</td><td>53</td><td>35</td><td>44</td><td>19</td><td>62</td><td>36</td><td>25</td><td>49</td><td>41</td></tr>\n",
       "\t<tr><td>50</td><td>53</td><td>57</td><td>37</td><td>53</td><td>41</td><td>34</td><td>32</td><td>35</td><td>43</td><td>⋯</td><td>63</td><td>65</td><td>48</td><td>37</td><td>61</td><td>31</td><td>45</td><td>50</td><td>29</td><td>31</td></tr>\n",
       "\t<tr><td>65</td><td>44</td><td>62</td><td>37</td><td>60</td><td>39</td><td>42</td><td>62</td><td>60</td><td>43</td><td>⋯</td><td>58</td><td>62</td><td>24</td><td>58</td><td>36</td><td>40</td><td>51</td><td>33</td><td>25</td><td>48</td></tr>\n",
       "\t<tr><td>26</td><td>31</td><td>51</td><td>24</td><td>46</td><td>55</td><td>52</td><td>19</td><td>20</td><td>58</td><td>⋯</td><td>45</td><td>53</td><td>44</td><td>60</td><td>47</td><td>54</td><td>38</td><td>61</td><td>31</td><td>51</td></tr>\n",
       "\t<tr><td>49</td><td>51</td><td>47</td><td>34</td><td>55</td><td>67</td><td>32</td><td>41</td><td>61</td><td>79</td><td>⋯</td><td>65</td><td>53</td><td>71</td><td>24</td><td>40</td><td>29</td><td>46</td><td>28</td><td>64</td><td>64</td></tr>\n",
       "\t<tr><td>47</td><td>49</td><td>36</td><td>61</td><td>37</td><td>47</td><td>44</td><td>49</td><td>68</td><td>50</td><td>⋯</td><td>38</td><td>26</td><td>57</td><td>35</td><td>36</td><td>25</td><td>38</td><td>49</td><td>27</td><td>25</td></tr>\n",
       "\t<tr><td>51</td><td>35</td><td>33</td><td>49</td><td>23</td><td>20</td><td>51</td><td>50</td><td>45</td><td>52</td><td>⋯</td><td>45</td><td>52</td><td>54</td><td>35</td><td>32</td><td>50</td><td>33</td><td>66</td><td>56</td><td>30</td></tr>\n",
       "\t<tr><td>43</td><td>54</td><td>39</td><td>65</td><td>42</td><td>43</td><td>45</td><td>61</td><td>34</td><td>44</td><td>⋯</td><td>30</td><td>25</td><td>22</td><td>58</td><td>46</td><td>40</td><td>33</td><td>59</td><td>20</td><td>37</td></tr>\n",
       "\t<tr><td>44</td><td>48</td><td>56</td><td>68</td><td>62</td><td>46</td><td>36</td><td>31</td><td>41</td><td>58</td><td>⋯</td><td>36</td><td>50</td><td>39</td><td>55</td><td>63</td><td>38</td><td>61</td><td>42</td><td>33</td><td>63</td></tr>\n",
       "\t<tr><td>59</td><td>55</td><td>50</td><td>31</td><td>46</td><td>29</td><td>34</td><td>57</td><td>53</td><td>67</td><td>⋯</td><td>47</td><td>38</td><td>53</td><td>51</td><td>37</td><td>31</td><td>75</td><td>50</td><td>48</td><td>43</td></tr>\n",
       "\t<tr><td>21</td><td>63</td><td>37</td><td>29</td><td>83</td><td>28</td><td>53</td><td>44</td><td>44</td><td>27</td><td>⋯</td><td>36</td><td>27</td><td>19</td><td>36</td><td>37</td><td>40</td><td>62</td><td>53</td><td>51</td><td>41</td></tr>\n",
       "\t<tr><td>43</td><td>23</td><td>65</td><td>36</td><td>35</td><td>34</td><td>58</td><td>48</td><td>37</td><td>35</td><td>⋯</td><td>46</td><td>38</td><td>34</td><td>23</td><td>55</td><td>26</td><td>44</td><td>26</td><td>42</td><td>61</td></tr>\n",
       "\t<tr><td>29</td><td>57</td><td>43</td><td>54</td><td>35</td><td>46</td><td>63</td><td>38</td><td>38</td><td>40</td><td>⋯</td><td>67</td><td>43</td><td>83</td><td>31</td><td>48</td><td>33</td><td>49</td><td>35</td><td>75</td><td>49</td></tr>\n",
       "\t<tr><td>36</td><td>62</td><td>37</td><td>36</td><td>39</td><td>27</td><td>60</td><td>34</td><td>39</td><td>51</td><td>⋯</td><td>30</td><td>52</td><td>25</td><td>41</td><td>56</td><td>31</td><td>69</td><td>43</td><td>44</td><td>63</td></tr>\n",
       "\t<tr><td>55</td><td>39</td><td>57</td><td>29</td><td>46</td><td>53</td><td>39</td><td>64</td><td>43</td><td>34</td><td>⋯</td><td>74</td><td>36</td><td>39</td><td>69</td><td>55</td><td>25</td><td>45</td><td>36</td><td>35</td><td>35</td></tr>\n",
       "\t<tr><td>36</td><td>34</td><td>58</td><td>40</td><td>68</td><td>37</td><td>62</td><td>49</td><td>38</td><td>50</td><td>⋯</td><td>36</td><td>27</td><td>27</td><td>48</td><td>45</td><td>71</td><td>55</td><td>39</td><td>48</td><td>34</td></tr>\n",
       "\t<tr><td>51</td><td>59</td><td>41</td><td>32</td><td>42</td><td>32</td><td>48</td><td>33</td><td>53</td><td>55</td><td>⋯</td><td>38</td><td>62</td><td>39</td><td>75</td><td>52</td><td>36</td><td>45</td><td>25</td><td>37</td><td>52</td></tr>\n",
       "\t<tr><td>39</td><td>53</td><td>37</td><td>31</td><td>37</td><td>21</td><td>56</td><td>47</td><td>40</td><td>44</td><td>⋯</td><td>54</td><td>37</td><td>45</td><td>50</td><td>25</td><td>48</td><td>29</td><td>52</td><td>34</td><td>72</td></tr>\n",
       "\t<tr><td>⋮</td><td>⋮</td><td>⋮</td><td>⋮</td><td>⋮</td><td>⋮</td><td>⋮</td><td>⋮</td><td>⋮</td><td>⋮</td><td>⋱</td><td>⋮</td><td>⋮</td><td>⋮</td><td>⋮</td><td>⋮</td><td>⋮</td><td>⋮</td><td>⋮</td><td>⋮</td><td>⋮</td></tr>\n",
       "\t<tr><td>29</td><td>69</td><td>41</td><td>44</td><td>27</td><td>60</td><td>62</td><td>47</td><td>26</td><td>55</td><td>⋯</td><td>47</td><td>57</td><td>29</td><td>46</td><td>30</td><td>27</td><td>55</td><td>55</td><td>30</td><td>17</td></tr>\n",
       "\t<tr><td>55</td><td>35</td><td>47</td><td>47</td><td>44</td><td>55</td><td>46</td><td>32</td><td>36</td><td>48</td><td>⋯</td><td>58</td><td>53</td><td>43</td><td>47</td><td>23</td><td>45</td><td>61</td><td>30</td><td>36</td><td>56</td></tr>\n",
       "\t<tr><td>55</td><td>53</td><td>31</td><td>36</td><td>32</td><td>44</td><td>40</td><td>65</td><td>35</td><td>49</td><td>⋯</td><td>34</td><td>41</td><td>45</td><td>51</td><td>68</td><td>48</td><td>46</td><td>26</td><td>49</td><td>39</td></tr>\n",
       "\t<tr><td>40</td><td>39</td><td>47</td><td>43</td><td>64</td><td>56</td><td>50</td><td>29</td><td>28</td><td>36</td><td>⋯</td><td>51</td><td>54</td><td>38</td><td>38</td><td>24</td><td>61</td><td>24</td><td>25</td><td>60</td><td>51</td></tr>\n",
       "\t<tr><td>57</td><td>45</td><td>34</td><td>43</td><td>57</td><td>22</td><td>41</td><td>39</td><td>30</td><td>47</td><td>⋯</td><td>60</td><td>55</td><td>41</td><td>73</td><td>34</td><td>54</td><td>35</td><td>56</td><td>29</td><td>40</td></tr>\n",
       "\t<tr><td>62</td><td>27</td><td>48</td><td>18</td><td>57</td><td>49</td><td>63</td><td>57</td><td>29</td><td>54</td><td>⋯</td><td>19</td><td>37</td><td>27</td><td>71</td><td>37</td><td>26</td><td>46</td><td>37</td><td>27</td><td>34</td></tr>\n",
       "\t<tr><td>69</td><td>50</td><td>28</td><td>58</td><td>82</td><td>51</td><td>47</td><td>63</td><td>43</td><td>38</td><td>⋯</td><td>50</td><td>58</td><td>37</td><td>42</td><td>43</td><td>40</td><td>49</td><td>74</td><td>61</td><td>56</td></tr>\n",
       "\t<tr><td>38</td><td>56</td><td>49</td><td>31</td><td>51</td><td>43</td><td>57</td><td>54</td><td>39</td><td>51</td><td>⋯</td><td>45</td><td>42</td><td>43</td><td>31</td><td>57</td><td>78</td><td>39</td><td>58</td><td>47</td><td>34</td></tr>\n",
       "\t<tr><td>28</td><td>36</td><td>59</td><td>44</td><td>41</td><td>36</td><td>34</td><td>25</td><td>50</td><td>46</td><td>⋯</td><td>44</td><td>61</td><td>58</td><td>31</td><td>30</td><td>32</td><td>48</td><td>52</td><td>42</td><td>34</td></tr>\n",
       "\t<tr><td>55</td><td>21</td><td>58</td><td>27</td><td>48</td><td>49</td><td>46</td><td>37</td><td>44</td><td>41</td><td>⋯</td><td>36</td><td>53</td><td>41</td><td>58</td><td>41</td><td>71</td><td>36</td><td>29</td><td>50</td><td>27</td></tr>\n",
       "\t<tr><td>40</td><td>57</td><td>26</td><td>46</td><td>69</td><td>27</td><td>39</td><td>32</td><td>55</td><td>22</td><td>⋯</td><td>46</td><td>41</td><td>42</td><td>49</td><td>70</td><td>48</td><td>34</td><td>62</td><td>56</td><td>47</td></tr>\n",
       "\t<tr><td>44</td><td>24</td><td>46</td><td>22</td><td>68</td><td>64</td><td>57</td><td>29</td><td>54</td><td>42</td><td>⋯</td><td>47</td><td>40</td><td>37</td><td>50</td><td>43</td><td>42</td><td>38</td><td>61</td><td>27</td><td>71</td></tr>\n",
       "\t<tr><td>37</td><td>47</td><td>51</td><td>65</td><td>57</td><td>58</td><td>52</td><td>26</td><td>26</td><td>20</td><td>⋯</td><td>32</td><td>44</td><td>50</td><td>53</td><td>60</td><td>34</td><td>64</td><td>60</td><td>38</td><td>38</td></tr>\n",
       "\t<tr><td>33</td><td>49</td><td>37</td><td>31</td><td>37</td><td>43</td><td>36</td><td>79</td><td>49</td><td>50</td><td>⋯</td><td>30</td><td>50</td><td>65</td><td>50</td><td>64</td><td>49</td><td>23</td><td>54</td><td>53</td><td>27</td></tr>\n",
       "\t<tr><td>27</td><td>43</td><td>37</td><td>39</td><td>82</td><td>46</td><td>55</td><td>30</td><td>46</td><td>56</td><td>⋯</td><td>35</td><td>30</td><td>58</td><td>76</td><td>48</td><td>44</td><td>23</td><td>64</td><td>35</td><td>27</td></tr>\n",
       "\t<tr><td>60</td><td>53</td><td>47</td><td>48</td><td>37</td><td>34</td><td>21</td><td>42</td><td>45</td><td>62</td><td>⋯</td><td>49</td><td>45</td><td>49</td><td>41</td><td>20</td><td>45</td><td>54</td><td>68</td><td>39</td><td>40</td></tr>\n",
       "\t<tr><td>54</td><td>26</td><td>39</td><td>40</td><td>54</td><td>18</td><td>56</td><td>66</td><td>64</td><td>27</td><td>⋯</td><td>49</td><td>44</td><td>34</td><td>62</td><td>48</td><td>38</td><td>47</td><td>39</td><td>54</td><td>59</td></tr>\n",
       "\t<tr><td>47</td><td>54</td><td>55</td><td>31</td><td>52</td><td>32</td><td>32</td><td>59</td><td>30</td><td>17</td><td>⋯</td><td>48</td><td>38</td><td>33</td><td>63</td><td>78</td><td>53</td><td>56</td><td>23</td><td>37</td><td>31</td></tr>\n",
       "\t<tr><td>52</td><td>49</td><td>36</td><td>32</td><td>27</td><td>26</td><td>37</td><td>45</td><td>42</td><td>82</td><td>⋯</td><td>24</td><td>38</td><td>52</td><td>30</td><td>45</td><td>43</td><td>58</td><td>30</td><td>26</td><td>35</td></tr>\n",
       "\t<tr><td>31</td><td>49</td><td>47</td><td>32</td><td>48</td><td>37</td><td>40</td><td>50</td><td>47</td><td>52</td><td>⋯</td><td>33</td><td>62</td><td>70</td><td>40</td><td>61</td><td>27</td><td>52</td><td>40</td><td>62</td><td>21</td></tr>\n",
       "\t<tr><td>56</td><td>49</td><td>49</td><td>54</td><td>42</td><td>44</td><td>50</td><td>24</td><td>41</td><td>21</td><td>⋯</td><td>49</td><td>55</td><td>63</td><td>26</td><td>58</td><td>38</td><td>37</td><td>37</td><td>40</td><td>42</td></tr>\n",
       "\t<tr><td>50</td><td>54</td><td>20</td><td>43</td><td>62</td><td>39</td><td>37</td><td>34</td><td>72</td><td>44</td><td>⋯</td><td>55</td><td>47</td><td>29</td><td>43</td><td>41</td><td>46</td><td>44</td><td>25</td><td>35</td><td>30</td></tr>\n",
       "\t<tr><td>56</td><td>41</td><td>67</td><td>42</td><td>55</td><td>38</td><td>59</td><td>49</td><td>49</td><td>43</td><td>⋯</td><td>63</td><td>25</td><td>32</td><td>54</td><td>33</td><td>42</td><td>38</td><td>40</td><td>32</td><td>31</td></tr>\n",
       "\t<tr><td>54</td><td>68</td><td>40</td><td>24</td><td>45</td><td>38</td><td>34</td><td>46</td><td>44</td><td>51</td><td>⋯</td><td>48</td><td>53</td><td>23</td><td>50</td><td>48</td><td>45</td><td>35</td><td>41</td><td>40</td><td>41</td></tr>\n",
       "\t<tr><td>69</td><td>42</td><td>47</td><td>56</td><td>51</td><td>31</td><td>37</td><td>65</td><td>25</td><td>28</td><td>⋯</td><td>48</td><td>64</td><td>33</td><td>56</td><td>31</td><td>47</td><td>50</td><td>56</td><td>44</td><td>47</td></tr>\n",
       "\t<tr><td>58</td><td>65</td><td>62</td><td>53</td><td>43</td><td>22</td><td>49</td><td>25</td><td>58</td><td>26</td><td>⋯</td><td>42</td><td>52</td><td>39</td><td>28</td><td>58</td><td>57</td><td>29</td><td>31</td><td>34</td><td>47</td></tr>\n",
       "\t<tr><td>47</td><td>37</td><td>64</td><td>56</td><td>56</td><td>64</td><td>39</td><td>39</td><td>38</td><td>53</td><td>⋯</td><td>38</td><td>22</td><td>55</td><td>56</td><td>29</td><td>37</td><td>49</td><td>72</td><td>51</td><td>22</td></tr>\n",
       "\t<tr><td>36</td><td>64</td><td>54</td><td>31</td><td>46</td><td>52</td><td>25</td><td>37</td><td>25</td><td>33</td><td>⋯</td><td>44</td><td>32</td><td>46</td><td>42</td><td>40</td><td>55</td><td>44</td><td>56</td><td>29</td><td>24</td></tr>\n",
       "\t<tr><td>54</td><td>34</td><td>38</td><td>41</td><td>53</td><td>32</td><td>43</td><td>45</td><td>52</td><td>48</td><td>⋯</td><td>27</td><td>55</td><td>50</td><td>39</td><td>42</td><td>44</td><td>33</td><td>26</td><td>22</td><td>55</td></tr>\n",
       "\t<tr><td>32</td><td>34</td><td>28</td><td>23</td><td>30</td><td>24</td><td>48</td><td>34</td><td>47</td><td>32</td><td>⋯</td><td>27</td><td>63</td><td>41</td><td>55</td><td>52</td><td>49</td><td>58</td><td>53</td><td>38</td><td>45</td></tr>\n",
       "</tbody>\n",
       "</table>\n"
      ],
      "text/latex": [
       "A data.frame: 2000 × 1500\n",
       "\\begin{tabular}{lllllllllllllllllllll}\n",
       " Sample\\_1 & Sample\\_ 2 & Sample\\_ 3 & Sample\\_ 4 & Sample\\_ 5 & Sample\\_ 6 & Sample\\_ 7 & Sample\\_ 8 & Sample\\_ 9 & Sample\\_ 10 & ⋯ & Sample\\_ 1491 & Sample\\_ 1492 & Sample\\_ 1493 & Sample\\_ 1494 & Sample\\_ 1495 & Sample\\_ 1496 & Sample\\_ 1497 & Sample\\_ 1498 & Sample\\_ 1499 & Sample\\_ 1500\\\\\n",
       " <int> & <int> & <int> & <int> & <int> & <int> & <int> & <int> & <int> & <int> & ⋯ & <int> & <int> & <int> & <int> & <int> & <int> & <int> & <int> & <int> & <int>\\\\\n",
       "\\hline\n",
       "\t 30 & 32 & 50 & 60 & 58 & 62 & 56 & 30 & 45 & 30 & ⋯ & 51 & 52 & 51 & 43 & 51 & 60 & 55 & 30 & 40 & 38\\\\\n",
       "\t 51 & 40 & 42 & 40 & 60 & 56 & 42 & 28 & 72 & 38 & ⋯ & 57 & 47 & 39 & 39 & 44 & 38 & 27 & 42 & 34 & 50\\\\\n",
       "\t 33 & 66 & 23 & 36 & 56 & 27 & 46 & 38 & 38 & 55 & ⋯ & 36 & 37 & 20 & 49 & 41 & 49 & 38 & 65 & 28 & 46\\\\\n",
       "\t 44 & 24 & 62 & 34 & 54 & 30 & 61 & 50 & 43 & 34 & ⋯ & 51 & 68 & 67 & 77 & 54 & 61 & 36 & 25 & 35 & 53\\\\\n",
       "\t 25 & 68 & 58 & 44 & 45 & 52 & 21 & 34 & 60 & 52 & ⋯ & 39 & 49 & 40 & 55 & 37 & 40 & 62 & 31 & 51 & 41\\\\\n",
       "\t 60 & 67 & 53 & 31 & 33 & 28 & 53 & 53 & 24 & 34 & ⋯ & 44 & 62 & 70 & 77 & 66 & 26 & 40 & 36 & 63 & 52\\\\\n",
       "\t 47 & 45 & 51 & 26 & 45 & 49 & 32 & 62 & 49 & 33 & ⋯ & 50 & 64 & 47 & 45 & 34 & 53 & 43 & 41 & 44 & 68\\\\\n",
       "\t 56 & 22 & 44 & 20 & 41 & 40 & 37 & 45 & 40 & 50 & ⋯ & 40 & 43 & 20 & 31 & 25 & 64 & 28 & 44 & 32 & 36\\\\\n",
       "\t 46 & 40 & 57 & 38 & 40 & 35 & 45 & 25 & 27 & 43 & ⋯ & 39 & 43 & 43 & 46 & 56 & 40 & 68 & 38 & 54 & 39\\\\\n",
       "\t 46 & 41 & 50 & 40 & 57 & 29 & 48 & 50 & 33 & 65 & ⋯ & 62 & 50 & 58 & 52 & 20 & 24 & 66 & 66 & 36 & 44\\\\\n",
       "\t 42 & 54 & 47 & 36 & 31 & 61 & 23 & 38 & 60 & 45 & ⋯ & 55 & 70 & 32 & 25 & 64 & 73 & 37 & 78 & 46 & 20\\\\\n",
       "\t 45 & 52 & 43 & 30 & 37 & 60 & 38 & 52 & 48 & 46 & ⋯ & 38 & 60 & 37 & 37 & 34 & 40 & 66 & 36 & 50 & 50\\\\\n",
       "\t 50 & 60 & 38 & 42 & 60 & 27 & 57 & 23 & 61 & 49 & ⋯ & 34 & 53 & 35 & 44 & 19 & 62 & 36 & 25 & 49 & 41\\\\\n",
       "\t 50 & 53 & 57 & 37 & 53 & 41 & 34 & 32 & 35 & 43 & ⋯ & 63 & 65 & 48 & 37 & 61 & 31 & 45 & 50 & 29 & 31\\\\\n",
       "\t 65 & 44 & 62 & 37 & 60 & 39 & 42 & 62 & 60 & 43 & ⋯ & 58 & 62 & 24 & 58 & 36 & 40 & 51 & 33 & 25 & 48\\\\\n",
       "\t 26 & 31 & 51 & 24 & 46 & 55 & 52 & 19 & 20 & 58 & ⋯ & 45 & 53 & 44 & 60 & 47 & 54 & 38 & 61 & 31 & 51\\\\\n",
       "\t 49 & 51 & 47 & 34 & 55 & 67 & 32 & 41 & 61 & 79 & ⋯ & 65 & 53 & 71 & 24 & 40 & 29 & 46 & 28 & 64 & 64\\\\\n",
       "\t 47 & 49 & 36 & 61 & 37 & 47 & 44 & 49 & 68 & 50 & ⋯ & 38 & 26 & 57 & 35 & 36 & 25 & 38 & 49 & 27 & 25\\\\\n",
       "\t 51 & 35 & 33 & 49 & 23 & 20 & 51 & 50 & 45 & 52 & ⋯ & 45 & 52 & 54 & 35 & 32 & 50 & 33 & 66 & 56 & 30\\\\\n",
       "\t 43 & 54 & 39 & 65 & 42 & 43 & 45 & 61 & 34 & 44 & ⋯ & 30 & 25 & 22 & 58 & 46 & 40 & 33 & 59 & 20 & 37\\\\\n",
       "\t 44 & 48 & 56 & 68 & 62 & 46 & 36 & 31 & 41 & 58 & ⋯ & 36 & 50 & 39 & 55 & 63 & 38 & 61 & 42 & 33 & 63\\\\\n",
       "\t 59 & 55 & 50 & 31 & 46 & 29 & 34 & 57 & 53 & 67 & ⋯ & 47 & 38 & 53 & 51 & 37 & 31 & 75 & 50 & 48 & 43\\\\\n",
       "\t 21 & 63 & 37 & 29 & 83 & 28 & 53 & 44 & 44 & 27 & ⋯ & 36 & 27 & 19 & 36 & 37 & 40 & 62 & 53 & 51 & 41\\\\\n",
       "\t 43 & 23 & 65 & 36 & 35 & 34 & 58 & 48 & 37 & 35 & ⋯ & 46 & 38 & 34 & 23 & 55 & 26 & 44 & 26 & 42 & 61\\\\\n",
       "\t 29 & 57 & 43 & 54 & 35 & 46 & 63 & 38 & 38 & 40 & ⋯ & 67 & 43 & 83 & 31 & 48 & 33 & 49 & 35 & 75 & 49\\\\\n",
       "\t 36 & 62 & 37 & 36 & 39 & 27 & 60 & 34 & 39 & 51 & ⋯ & 30 & 52 & 25 & 41 & 56 & 31 & 69 & 43 & 44 & 63\\\\\n",
       "\t 55 & 39 & 57 & 29 & 46 & 53 & 39 & 64 & 43 & 34 & ⋯ & 74 & 36 & 39 & 69 & 55 & 25 & 45 & 36 & 35 & 35\\\\\n",
       "\t 36 & 34 & 58 & 40 & 68 & 37 & 62 & 49 & 38 & 50 & ⋯ & 36 & 27 & 27 & 48 & 45 & 71 & 55 & 39 & 48 & 34\\\\\n",
       "\t 51 & 59 & 41 & 32 & 42 & 32 & 48 & 33 & 53 & 55 & ⋯ & 38 & 62 & 39 & 75 & 52 & 36 & 45 & 25 & 37 & 52\\\\\n",
       "\t 39 & 53 & 37 & 31 & 37 & 21 & 56 & 47 & 40 & 44 & ⋯ & 54 & 37 & 45 & 50 & 25 & 48 & 29 & 52 & 34 & 72\\\\\n",
       "\t ⋮ & ⋮ & ⋮ & ⋮ & ⋮ & ⋮ & ⋮ & ⋮ & ⋮ & ⋮ & ⋱ & ⋮ & ⋮ & ⋮ & ⋮ & ⋮ & ⋮ & ⋮ & ⋮ & ⋮ & ⋮\\\\\n",
       "\t 29 & 69 & 41 & 44 & 27 & 60 & 62 & 47 & 26 & 55 & ⋯ & 47 & 57 & 29 & 46 & 30 & 27 & 55 & 55 & 30 & 17\\\\\n",
       "\t 55 & 35 & 47 & 47 & 44 & 55 & 46 & 32 & 36 & 48 & ⋯ & 58 & 53 & 43 & 47 & 23 & 45 & 61 & 30 & 36 & 56\\\\\n",
       "\t 55 & 53 & 31 & 36 & 32 & 44 & 40 & 65 & 35 & 49 & ⋯ & 34 & 41 & 45 & 51 & 68 & 48 & 46 & 26 & 49 & 39\\\\\n",
       "\t 40 & 39 & 47 & 43 & 64 & 56 & 50 & 29 & 28 & 36 & ⋯ & 51 & 54 & 38 & 38 & 24 & 61 & 24 & 25 & 60 & 51\\\\\n",
       "\t 57 & 45 & 34 & 43 & 57 & 22 & 41 & 39 & 30 & 47 & ⋯ & 60 & 55 & 41 & 73 & 34 & 54 & 35 & 56 & 29 & 40\\\\\n",
       "\t 62 & 27 & 48 & 18 & 57 & 49 & 63 & 57 & 29 & 54 & ⋯ & 19 & 37 & 27 & 71 & 37 & 26 & 46 & 37 & 27 & 34\\\\\n",
       "\t 69 & 50 & 28 & 58 & 82 & 51 & 47 & 63 & 43 & 38 & ⋯ & 50 & 58 & 37 & 42 & 43 & 40 & 49 & 74 & 61 & 56\\\\\n",
       "\t 38 & 56 & 49 & 31 & 51 & 43 & 57 & 54 & 39 & 51 & ⋯ & 45 & 42 & 43 & 31 & 57 & 78 & 39 & 58 & 47 & 34\\\\\n",
       "\t 28 & 36 & 59 & 44 & 41 & 36 & 34 & 25 & 50 & 46 & ⋯ & 44 & 61 & 58 & 31 & 30 & 32 & 48 & 52 & 42 & 34\\\\\n",
       "\t 55 & 21 & 58 & 27 & 48 & 49 & 46 & 37 & 44 & 41 & ⋯ & 36 & 53 & 41 & 58 & 41 & 71 & 36 & 29 & 50 & 27\\\\\n",
       "\t 40 & 57 & 26 & 46 & 69 & 27 & 39 & 32 & 55 & 22 & ⋯ & 46 & 41 & 42 & 49 & 70 & 48 & 34 & 62 & 56 & 47\\\\\n",
       "\t 44 & 24 & 46 & 22 & 68 & 64 & 57 & 29 & 54 & 42 & ⋯ & 47 & 40 & 37 & 50 & 43 & 42 & 38 & 61 & 27 & 71\\\\\n",
       "\t 37 & 47 & 51 & 65 & 57 & 58 & 52 & 26 & 26 & 20 & ⋯ & 32 & 44 & 50 & 53 & 60 & 34 & 64 & 60 & 38 & 38\\\\\n",
       "\t 33 & 49 & 37 & 31 & 37 & 43 & 36 & 79 & 49 & 50 & ⋯ & 30 & 50 & 65 & 50 & 64 & 49 & 23 & 54 & 53 & 27\\\\\n",
       "\t 27 & 43 & 37 & 39 & 82 & 46 & 55 & 30 & 46 & 56 & ⋯ & 35 & 30 & 58 & 76 & 48 & 44 & 23 & 64 & 35 & 27\\\\\n",
       "\t 60 & 53 & 47 & 48 & 37 & 34 & 21 & 42 & 45 & 62 & ⋯ & 49 & 45 & 49 & 41 & 20 & 45 & 54 & 68 & 39 & 40\\\\\n",
       "\t 54 & 26 & 39 & 40 & 54 & 18 & 56 & 66 & 64 & 27 & ⋯ & 49 & 44 & 34 & 62 & 48 & 38 & 47 & 39 & 54 & 59\\\\\n",
       "\t 47 & 54 & 55 & 31 & 52 & 32 & 32 & 59 & 30 & 17 & ⋯ & 48 & 38 & 33 & 63 & 78 & 53 & 56 & 23 & 37 & 31\\\\\n",
       "\t 52 & 49 & 36 & 32 & 27 & 26 & 37 & 45 & 42 & 82 & ⋯ & 24 & 38 & 52 & 30 & 45 & 43 & 58 & 30 & 26 & 35\\\\\n",
       "\t 31 & 49 & 47 & 32 & 48 & 37 & 40 & 50 & 47 & 52 & ⋯ & 33 & 62 & 70 & 40 & 61 & 27 & 52 & 40 & 62 & 21\\\\\n",
       "\t 56 & 49 & 49 & 54 & 42 & 44 & 50 & 24 & 41 & 21 & ⋯ & 49 & 55 & 63 & 26 & 58 & 38 & 37 & 37 & 40 & 42\\\\\n",
       "\t 50 & 54 & 20 & 43 & 62 & 39 & 37 & 34 & 72 & 44 & ⋯ & 55 & 47 & 29 & 43 & 41 & 46 & 44 & 25 & 35 & 30\\\\\n",
       "\t 56 & 41 & 67 & 42 & 55 & 38 & 59 & 49 & 49 & 43 & ⋯ & 63 & 25 & 32 & 54 & 33 & 42 & 38 & 40 & 32 & 31\\\\\n",
       "\t 54 & 68 & 40 & 24 & 45 & 38 & 34 & 46 & 44 & 51 & ⋯ & 48 & 53 & 23 & 50 & 48 & 45 & 35 & 41 & 40 & 41\\\\\n",
       "\t 69 & 42 & 47 & 56 & 51 & 31 & 37 & 65 & 25 & 28 & ⋯ & 48 & 64 & 33 & 56 & 31 & 47 & 50 & 56 & 44 & 47\\\\\n",
       "\t 58 & 65 & 62 & 53 & 43 & 22 & 49 & 25 & 58 & 26 & ⋯ & 42 & 52 & 39 & 28 & 58 & 57 & 29 & 31 & 34 & 47\\\\\n",
       "\t 47 & 37 & 64 & 56 & 56 & 64 & 39 & 39 & 38 & 53 & ⋯ & 38 & 22 & 55 & 56 & 29 & 37 & 49 & 72 & 51 & 22\\\\\n",
       "\t 36 & 64 & 54 & 31 & 46 & 52 & 25 & 37 & 25 & 33 & ⋯ & 44 & 32 & 46 & 42 & 40 & 55 & 44 & 56 & 29 & 24\\\\\n",
       "\t 54 & 34 & 38 & 41 & 53 & 32 & 43 & 45 & 52 & 48 & ⋯ & 27 & 55 & 50 & 39 & 42 & 44 & 33 & 26 & 22 & 55\\\\\n",
       "\t 32 & 34 & 28 & 23 & 30 & 24 & 48 & 34 & 47 & 32 & ⋯ & 27 & 63 & 41 & 55 & 52 & 49 & 58 & 53 & 38 & 45\\\\\n",
       "\\end{tabular}\n"
      ],
      "text/markdown": [
       "\n",
       "A data.frame: 2000 × 1500\n",
       "\n",
       "| Sample_1 &lt;int&gt; | Sample_ 2 &lt;int&gt; | Sample_ 3 &lt;int&gt; | Sample_ 4 &lt;int&gt; | Sample_ 5 &lt;int&gt; | Sample_ 6 &lt;int&gt; | Sample_ 7 &lt;int&gt; | Sample_ 8 &lt;int&gt; | Sample_ 9 &lt;int&gt; | Sample_ 10 &lt;int&gt; | ⋯ ⋯ | Sample_ 1491 &lt;int&gt; | Sample_ 1492 &lt;int&gt; | Sample_ 1493 &lt;int&gt; | Sample_ 1494 &lt;int&gt; | Sample_ 1495 &lt;int&gt; | Sample_ 1496 &lt;int&gt; | Sample_ 1497 &lt;int&gt; | Sample_ 1498 &lt;int&gt; | Sample_ 1499 &lt;int&gt; | Sample_ 1500 &lt;int&gt; |\n",
       "|---|---|---|---|---|---|---|---|---|---|---|---|---|---|---|---|---|---|---|---|---|\n",
       "| 30 | 32 | 50 | 60 | 58 | 62 | 56 | 30 | 45 | 30 | ⋯ | 51 | 52 | 51 | 43 | 51 | 60 | 55 | 30 | 40 | 38 |\n",
       "| 51 | 40 | 42 | 40 | 60 | 56 | 42 | 28 | 72 | 38 | ⋯ | 57 | 47 | 39 | 39 | 44 | 38 | 27 | 42 | 34 | 50 |\n",
       "| 33 | 66 | 23 | 36 | 56 | 27 | 46 | 38 | 38 | 55 | ⋯ | 36 | 37 | 20 | 49 | 41 | 49 | 38 | 65 | 28 | 46 |\n",
       "| 44 | 24 | 62 | 34 | 54 | 30 | 61 | 50 | 43 | 34 | ⋯ | 51 | 68 | 67 | 77 | 54 | 61 | 36 | 25 | 35 | 53 |\n",
       "| 25 | 68 | 58 | 44 | 45 | 52 | 21 | 34 | 60 | 52 | ⋯ | 39 | 49 | 40 | 55 | 37 | 40 | 62 | 31 | 51 | 41 |\n",
       "| 60 | 67 | 53 | 31 | 33 | 28 | 53 | 53 | 24 | 34 | ⋯ | 44 | 62 | 70 | 77 | 66 | 26 | 40 | 36 | 63 | 52 |\n",
       "| 47 | 45 | 51 | 26 | 45 | 49 | 32 | 62 | 49 | 33 | ⋯ | 50 | 64 | 47 | 45 | 34 | 53 | 43 | 41 | 44 | 68 |\n",
       "| 56 | 22 | 44 | 20 | 41 | 40 | 37 | 45 | 40 | 50 | ⋯ | 40 | 43 | 20 | 31 | 25 | 64 | 28 | 44 | 32 | 36 |\n",
       "| 46 | 40 | 57 | 38 | 40 | 35 | 45 | 25 | 27 | 43 | ⋯ | 39 | 43 | 43 | 46 | 56 | 40 | 68 | 38 | 54 | 39 |\n",
       "| 46 | 41 | 50 | 40 | 57 | 29 | 48 | 50 | 33 | 65 | ⋯ | 62 | 50 | 58 | 52 | 20 | 24 | 66 | 66 | 36 | 44 |\n",
       "| 42 | 54 | 47 | 36 | 31 | 61 | 23 | 38 | 60 | 45 | ⋯ | 55 | 70 | 32 | 25 | 64 | 73 | 37 | 78 | 46 | 20 |\n",
       "| 45 | 52 | 43 | 30 | 37 | 60 | 38 | 52 | 48 | 46 | ⋯ | 38 | 60 | 37 | 37 | 34 | 40 | 66 | 36 | 50 | 50 |\n",
       "| 50 | 60 | 38 | 42 | 60 | 27 | 57 | 23 | 61 | 49 | ⋯ | 34 | 53 | 35 | 44 | 19 | 62 | 36 | 25 | 49 | 41 |\n",
       "| 50 | 53 | 57 | 37 | 53 | 41 | 34 | 32 | 35 | 43 | ⋯ | 63 | 65 | 48 | 37 | 61 | 31 | 45 | 50 | 29 | 31 |\n",
       "| 65 | 44 | 62 | 37 | 60 | 39 | 42 | 62 | 60 | 43 | ⋯ | 58 | 62 | 24 | 58 | 36 | 40 | 51 | 33 | 25 | 48 |\n",
       "| 26 | 31 | 51 | 24 | 46 | 55 | 52 | 19 | 20 | 58 | ⋯ | 45 | 53 | 44 | 60 | 47 | 54 | 38 | 61 | 31 | 51 |\n",
       "| 49 | 51 | 47 | 34 | 55 | 67 | 32 | 41 | 61 | 79 | ⋯ | 65 | 53 | 71 | 24 | 40 | 29 | 46 | 28 | 64 | 64 |\n",
       "| 47 | 49 | 36 | 61 | 37 | 47 | 44 | 49 | 68 | 50 | ⋯ | 38 | 26 | 57 | 35 | 36 | 25 | 38 | 49 | 27 | 25 |\n",
       "| 51 | 35 | 33 | 49 | 23 | 20 | 51 | 50 | 45 | 52 | ⋯ | 45 | 52 | 54 | 35 | 32 | 50 | 33 | 66 | 56 | 30 |\n",
       "| 43 | 54 | 39 | 65 | 42 | 43 | 45 | 61 | 34 | 44 | ⋯ | 30 | 25 | 22 | 58 | 46 | 40 | 33 | 59 | 20 | 37 |\n",
       "| 44 | 48 | 56 | 68 | 62 | 46 | 36 | 31 | 41 | 58 | ⋯ | 36 | 50 | 39 | 55 | 63 | 38 | 61 | 42 | 33 | 63 |\n",
       "| 59 | 55 | 50 | 31 | 46 | 29 | 34 | 57 | 53 | 67 | ⋯ | 47 | 38 | 53 | 51 | 37 | 31 | 75 | 50 | 48 | 43 |\n",
       "| 21 | 63 | 37 | 29 | 83 | 28 | 53 | 44 | 44 | 27 | ⋯ | 36 | 27 | 19 | 36 | 37 | 40 | 62 | 53 | 51 | 41 |\n",
       "| 43 | 23 | 65 | 36 | 35 | 34 | 58 | 48 | 37 | 35 | ⋯ | 46 | 38 | 34 | 23 | 55 | 26 | 44 | 26 | 42 | 61 |\n",
       "| 29 | 57 | 43 | 54 | 35 | 46 | 63 | 38 | 38 | 40 | ⋯ | 67 | 43 | 83 | 31 | 48 | 33 | 49 | 35 | 75 | 49 |\n",
       "| 36 | 62 | 37 | 36 | 39 | 27 | 60 | 34 | 39 | 51 | ⋯ | 30 | 52 | 25 | 41 | 56 | 31 | 69 | 43 | 44 | 63 |\n",
       "| 55 | 39 | 57 | 29 | 46 | 53 | 39 | 64 | 43 | 34 | ⋯ | 74 | 36 | 39 | 69 | 55 | 25 | 45 | 36 | 35 | 35 |\n",
       "| 36 | 34 | 58 | 40 | 68 | 37 | 62 | 49 | 38 | 50 | ⋯ | 36 | 27 | 27 | 48 | 45 | 71 | 55 | 39 | 48 | 34 |\n",
       "| 51 | 59 | 41 | 32 | 42 | 32 | 48 | 33 | 53 | 55 | ⋯ | 38 | 62 | 39 | 75 | 52 | 36 | 45 | 25 | 37 | 52 |\n",
       "| 39 | 53 | 37 | 31 | 37 | 21 | 56 | 47 | 40 | 44 | ⋯ | 54 | 37 | 45 | 50 | 25 | 48 | 29 | 52 | 34 | 72 |\n",
       "| ⋮ | ⋮ | ⋮ | ⋮ | ⋮ | ⋮ | ⋮ | ⋮ | ⋮ | ⋮ | ⋱ | ⋮ | ⋮ | ⋮ | ⋮ | ⋮ | ⋮ | ⋮ | ⋮ | ⋮ | ⋮ |\n",
       "| 29 | 69 | 41 | 44 | 27 | 60 | 62 | 47 | 26 | 55 | ⋯ | 47 | 57 | 29 | 46 | 30 | 27 | 55 | 55 | 30 | 17 |\n",
       "| 55 | 35 | 47 | 47 | 44 | 55 | 46 | 32 | 36 | 48 | ⋯ | 58 | 53 | 43 | 47 | 23 | 45 | 61 | 30 | 36 | 56 |\n",
       "| 55 | 53 | 31 | 36 | 32 | 44 | 40 | 65 | 35 | 49 | ⋯ | 34 | 41 | 45 | 51 | 68 | 48 | 46 | 26 | 49 | 39 |\n",
       "| 40 | 39 | 47 | 43 | 64 | 56 | 50 | 29 | 28 | 36 | ⋯ | 51 | 54 | 38 | 38 | 24 | 61 | 24 | 25 | 60 | 51 |\n",
       "| 57 | 45 | 34 | 43 | 57 | 22 | 41 | 39 | 30 | 47 | ⋯ | 60 | 55 | 41 | 73 | 34 | 54 | 35 | 56 | 29 | 40 |\n",
       "| 62 | 27 | 48 | 18 | 57 | 49 | 63 | 57 | 29 | 54 | ⋯ | 19 | 37 | 27 | 71 | 37 | 26 | 46 | 37 | 27 | 34 |\n",
       "| 69 | 50 | 28 | 58 | 82 | 51 | 47 | 63 | 43 | 38 | ⋯ | 50 | 58 | 37 | 42 | 43 | 40 | 49 | 74 | 61 | 56 |\n",
       "| 38 | 56 | 49 | 31 | 51 | 43 | 57 | 54 | 39 | 51 | ⋯ | 45 | 42 | 43 | 31 | 57 | 78 | 39 | 58 | 47 | 34 |\n",
       "| 28 | 36 | 59 | 44 | 41 | 36 | 34 | 25 | 50 | 46 | ⋯ | 44 | 61 | 58 | 31 | 30 | 32 | 48 | 52 | 42 | 34 |\n",
       "| 55 | 21 | 58 | 27 | 48 | 49 | 46 | 37 | 44 | 41 | ⋯ | 36 | 53 | 41 | 58 | 41 | 71 | 36 | 29 | 50 | 27 |\n",
       "| 40 | 57 | 26 | 46 | 69 | 27 | 39 | 32 | 55 | 22 | ⋯ | 46 | 41 | 42 | 49 | 70 | 48 | 34 | 62 | 56 | 47 |\n",
       "| 44 | 24 | 46 | 22 | 68 | 64 | 57 | 29 | 54 | 42 | ⋯ | 47 | 40 | 37 | 50 | 43 | 42 | 38 | 61 | 27 | 71 |\n",
       "| 37 | 47 | 51 | 65 | 57 | 58 | 52 | 26 | 26 | 20 | ⋯ | 32 | 44 | 50 | 53 | 60 | 34 | 64 | 60 | 38 | 38 |\n",
       "| 33 | 49 | 37 | 31 | 37 | 43 | 36 | 79 | 49 | 50 | ⋯ | 30 | 50 | 65 | 50 | 64 | 49 | 23 | 54 | 53 | 27 |\n",
       "| 27 | 43 | 37 | 39 | 82 | 46 | 55 | 30 | 46 | 56 | ⋯ | 35 | 30 | 58 | 76 | 48 | 44 | 23 | 64 | 35 | 27 |\n",
       "| 60 | 53 | 47 | 48 | 37 | 34 | 21 | 42 | 45 | 62 | ⋯ | 49 | 45 | 49 | 41 | 20 | 45 | 54 | 68 | 39 | 40 |\n",
       "| 54 | 26 | 39 | 40 | 54 | 18 | 56 | 66 | 64 | 27 | ⋯ | 49 | 44 | 34 | 62 | 48 | 38 | 47 | 39 | 54 | 59 |\n",
       "| 47 | 54 | 55 | 31 | 52 | 32 | 32 | 59 | 30 | 17 | ⋯ | 48 | 38 | 33 | 63 | 78 | 53 | 56 | 23 | 37 | 31 |\n",
       "| 52 | 49 | 36 | 32 | 27 | 26 | 37 | 45 | 42 | 82 | ⋯ | 24 | 38 | 52 | 30 | 45 | 43 | 58 | 30 | 26 | 35 |\n",
       "| 31 | 49 | 47 | 32 | 48 | 37 | 40 | 50 | 47 | 52 | ⋯ | 33 | 62 | 70 | 40 | 61 | 27 | 52 | 40 | 62 | 21 |\n",
       "| 56 | 49 | 49 | 54 | 42 | 44 | 50 | 24 | 41 | 21 | ⋯ | 49 | 55 | 63 | 26 | 58 | 38 | 37 | 37 | 40 | 42 |\n",
       "| 50 | 54 | 20 | 43 | 62 | 39 | 37 | 34 | 72 | 44 | ⋯ | 55 | 47 | 29 | 43 | 41 | 46 | 44 | 25 | 35 | 30 |\n",
       "| 56 | 41 | 67 | 42 | 55 | 38 | 59 | 49 | 49 | 43 | ⋯ | 63 | 25 | 32 | 54 | 33 | 42 | 38 | 40 | 32 | 31 |\n",
       "| 54 | 68 | 40 | 24 | 45 | 38 | 34 | 46 | 44 | 51 | ⋯ | 48 | 53 | 23 | 50 | 48 | 45 | 35 | 41 | 40 | 41 |\n",
       "| 69 | 42 | 47 | 56 | 51 | 31 | 37 | 65 | 25 | 28 | ⋯ | 48 | 64 | 33 | 56 | 31 | 47 | 50 | 56 | 44 | 47 |\n",
       "| 58 | 65 | 62 | 53 | 43 | 22 | 49 | 25 | 58 | 26 | ⋯ | 42 | 52 | 39 | 28 | 58 | 57 | 29 | 31 | 34 | 47 |\n",
       "| 47 | 37 | 64 | 56 | 56 | 64 | 39 | 39 | 38 | 53 | ⋯ | 38 | 22 | 55 | 56 | 29 | 37 | 49 | 72 | 51 | 22 |\n",
       "| 36 | 64 | 54 | 31 | 46 | 52 | 25 | 37 | 25 | 33 | ⋯ | 44 | 32 | 46 | 42 | 40 | 55 | 44 | 56 | 29 | 24 |\n",
       "| 54 | 34 | 38 | 41 | 53 | 32 | 43 | 45 | 52 | 48 | ⋯ | 27 | 55 | 50 | 39 | 42 | 44 | 33 | 26 | 22 | 55 |\n",
       "| 32 | 34 | 28 | 23 | 30 | 24 | 48 | 34 | 47 | 32 | ⋯ | 27 | 63 | 41 | 55 | 52 | 49 | 58 | 53 | 38 | 45 |\n",
       "\n"
      ],
      "text/plain": [
       "     Sample_1 Sample_ 2 Sample_ 3 Sample_ 4 Sample_ 5 Sample_ 6 Sample_ 7\n",
       "1    30       32        50        60        58        62        56       \n",
       "2    51       40        42        40        60        56        42       \n",
       "3    33       66        23        36        56        27        46       \n",
       "4    44       24        62        34        54        30        61       \n",
       "5    25       68        58        44        45        52        21       \n",
       "6    60       67        53        31        33        28        53       \n",
       "7    47       45        51        26        45        49        32       \n",
       "8    56       22        44        20        41        40        37       \n",
       "9    46       40        57        38        40        35        45       \n",
       "10   46       41        50        40        57        29        48       \n",
       "11   42       54        47        36        31        61        23       \n",
       "12   45       52        43        30        37        60        38       \n",
       "13   50       60        38        42        60        27        57       \n",
       "14   50       53        57        37        53        41        34       \n",
       "15   65       44        62        37        60        39        42       \n",
       "16   26       31        51        24        46        55        52       \n",
       "17   49       51        47        34        55        67        32       \n",
       "18   47       49        36        61        37        47        44       \n",
       "19   51       35        33        49        23        20        51       \n",
       "20   43       54        39        65        42        43        45       \n",
       "21   44       48        56        68        62        46        36       \n",
       "22   59       55        50        31        46        29        34       \n",
       "23   21       63        37        29        83        28        53       \n",
       "24   43       23        65        36        35        34        58       \n",
       "25   29       57        43        54        35        46        63       \n",
       "26   36       62        37        36        39        27        60       \n",
       "27   55       39        57        29        46        53        39       \n",
       "28   36       34        58        40        68        37        62       \n",
       "29   51       59        41        32        42        32        48       \n",
       "30   39       53        37        31        37        21        56       \n",
       "⋮    ⋮        ⋮         ⋮         ⋮         ⋮         ⋮         ⋮        \n",
       "1971 29       69        41        44        27        60        62       \n",
       "1972 55       35        47        47        44        55        46       \n",
       "1973 55       53        31        36        32        44        40       \n",
       "1974 40       39        47        43        64        56        50       \n",
       "1975 57       45        34        43        57        22        41       \n",
       "1976 62       27        48        18        57        49        63       \n",
       "1977 69       50        28        58        82        51        47       \n",
       "1978 38       56        49        31        51        43        57       \n",
       "1979 28       36        59        44        41        36        34       \n",
       "1980 55       21        58        27        48        49        46       \n",
       "1981 40       57        26        46        69        27        39       \n",
       "1982 44       24        46        22        68        64        57       \n",
       "1983 37       47        51        65        57        58        52       \n",
       "1984 33       49        37        31        37        43        36       \n",
       "1985 27       43        37        39        82        46        55       \n",
       "1986 60       53        47        48        37        34        21       \n",
       "1987 54       26        39        40        54        18        56       \n",
       "1988 47       54        55        31        52        32        32       \n",
       "1989 52       49        36        32        27        26        37       \n",
       "1990 31       49        47        32        48        37        40       \n",
       "1991 56       49        49        54        42        44        50       \n",
       "1992 50       54        20        43        62        39        37       \n",
       "1993 56       41        67        42        55        38        59       \n",
       "1994 54       68        40        24        45        38        34       \n",
       "1995 69       42        47        56        51        31        37       \n",
       "1996 58       65        62        53        43        22        49       \n",
       "1997 47       37        64        56        56        64        39       \n",
       "1998 36       64        54        31        46        52        25       \n",
       "1999 54       34        38        41        53        32        43       \n",
       "2000 32       34        28        23        30        24        48       \n",
       "     Sample_ 8 Sample_ 9 Sample_ 10 ⋯ Sample_ 1491 Sample_ 1492 Sample_ 1493\n",
       "1    30        45        30         ⋯ 51           52           51          \n",
       "2    28        72        38         ⋯ 57           47           39          \n",
       "3    38        38        55         ⋯ 36           37           20          \n",
       "4    50        43        34         ⋯ 51           68           67          \n",
       "5    34        60        52         ⋯ 39           49           40          \n",
       "6    53        24        34         ⋯ 44           62           70          \n",
       "7    62        49        33         ⋯ 50           64           47          \n",
       "8    45        40        50         ⋯ 40           43           20          \n",
       "9    25        27        43         ⋯ 39           43           43          \n",
       "10   50        33        65         ⋯ 62           50           58          \n",
       "11   38        60        45         ⋯ 55           70           32          \n",
       "12   52        48        46         ⋯ 38           60           37          \n",
       "13   23        61        49         ⋯ 34           53           35          \n",
       "14   32        35        43         ⋯ 63           65           48          \n",
       "15   62        60        43         ⋯ 58           62           24          \n",
       "16   19        20        58         ⋯ 45           53           44          \n",
       "17   41        61        79         ⋯ 65           53           71          \n",
       "18   49        68        50         ⋯ 38           26           57          \n",
       "19   50        45        52         ⋯ 45           52           54          \n",
       "20   61        34        44         ⋯ 30           25           22          \n",
       "21   31        41        58         ⋯ 36           50           39          \n",
       "22   57        53        67         ⋯ 47           38           53          \n",
       "23   44        44        27         ⋯ 36           27           19          \n",
       "24   48        37        35         ⋯ 46           38           34          \n",
       "25   38        38        40         ⋯ 67           43           83          \n",
       "26   34        39        51         ⋯ 30           52           25          \n",
       "27   64        43        34         ⋯ 74           36           39          \n",
       "28   49        38        50         ⋯ 36           27           27          \n",
       "29   33        53        55         ⋯ 38           62           39          \n",
       "30   47        40        44         ⋯ 54           37           45          \n",
       "⋮    ⋮         ⋮         ⋮          ⋱ ⋮            ⋮            ⋮           \n",
       "1971 47        26        55         ⋯ 47           57           29          \n",
       "1972 32        36        48         ⋯ 58           53           43          \n",
       "1973 65        35        49         ⋯ 34           41           45          \n",
       "1974 29        28        36         ⋯ 51           54           38          \n",
       "1975 39        30        47         ⋯ 60           55           41          \n",
       "1976 57        29        54         ⋯ 19           37           27          \n",
       "1977 63        43        38         ⋯ 50           58           37          \n",
       "1978 54        39        51         ⋯ 45           42           43          \n",
       "1979 25        50        46         ⋯ 44           61           58          \n",
       "1980 37        44        41         ⋯ 36           53           41          \n",
       "1981 32        55        22         ⋯ 46           41           42          \n",
       "1982 29        54        42         ⋯ 47           40           37          \n",
       "1983 26        26        20         ⋯ 32           44           50          \n",
       "1984 79        49        50         ⋯ 30           50           65          \n",
       "1985 30        46        56         ⋯ 35           30           58          \n",
       "1986 42        45        62         ⋯ 49           45           49          \n",
       "1987 66        64        27         ⋯ 49           44           34          \n",
       "1988 59        30        17         ⋯ 48           38           33          \n",
       "1989 45        42        82         ⋯ 24           38           52          \n",
       "1990 50        47        52         ⋯ 33           62           70          \n",
       "1991 24        41        21         ⋯ 49           55           63          \n",
       "1992 34        72        44         ⋯ 55           47           29          \n",
       "1993 49        49        43         ⋯ 63           25           32          \n",
       "1994 46        44        51         ⋯ 48           53           23          \n",
       "1995 65        25        28         ⋯ 48           64           33          \n",
       "1996 25        58        26         ⋯ 42           52           39          \n",
       "1997 39        38        53         ⋯ 38           22           55          \n",
       "1998 37        25        33         ⋯ 44           32           46          \n",
       "1999 45        52        48         ⋯ 27           55           50          \n",
       "2000 34        47        32         ⋯ 27           63           41          \n",
       "     Sample_ 1494 Sample_ 1495 Sample_ 1496 Sample_ 1497 Sample_ 1498\n",
       "1    43           51           60           55           30          \n",
       "2    39           44           38           27           42          \n",
       "3    49           41           49           38           65          \n",
       "4    77           54           61           36           25          \n",
       "5    55           37           40           62           31          \n",
       "6    77           66           26           40           36          \n",
       "7    45           34           53           43           41          \n",
       "8    31           25           64           28           44          \n",
       "9    46           56           40           68           38          \n",
       "10   52           20           24           66           66          \n",
       "11   25           64           73           37           78          \n",
       "12   37           34           40           66           36          \n",
       "13   44           19           62           36           25          \n",
       "14   37           61           31           45           50          \n",
       "15   58           36           40           51           33          \n",
       "16   60           47           54           38           61          \n",
       "17   24           40           29           46           28          \n",
       "18   35           36           25           38           49          \n",
       "19   35           32           50           33           66          \n",
       "20   58           46           40           33           59          \n",
       "21   55           63           38           61           42          \n",
       "22   51           37           31           75           50          \n",
       "23   36           37           40           62           53          \n",
       "24   23           55           26           44           26          \n",
       "25   31           48           33           49           35          \n",
       "26   41           56           31           69           43          \n",
       "27   69           55           25           45           36          \n",
       "28   48           45           71           55           39          \n",
       "29   75           52           36           45           25          \n",
       "30   50           25           48           29           52          \n",
       "⋮    ⋮            ⋮            ⋮            ⋮            ⋮           \n",
       "1971 46           30           27           55           55          \n",
       "1972 47           23           45           61           30          \n",
       "1973 51           68           48           46           26          \n",
       "1974 38           24           61           24           25          \n",
       "1975 73           34           54           35           56          \n",
       "1976 71           37           26           46           37          \n",
       "1977 42           43           40           49           74          \n",
       "1978 31           57           78           39           58          \n",
       "1979 31           30           32           48           52          \n",
       "1980 58           41           71           36           29          \n",
       "1981 49           70           48           34           62          \n",
       "1982 50           43           42           38           61          \n",
       "1983 53           60           34           64           60          \n",
       "1984 50           64           49           23           54          \n",
       "1985 76           48           44           23           64          \n",
       "1986 41           20           45           54           68          \n",
       "1987 62           48           38           47           39          \n",
       "1988 63           78           53           56           23          \n",
       "1989 30           45           43           58           30          \n",
       "1990 40           61           27           52           40          \n",
       "1991 26           58           38           37           37          \n",
       "1992 43           41           46           44           25          \n",
       "1993 54           33           42           38           40          \n",
       "1994 50           48           45           35           41          \n",
       "1995 56           31           47           50           56          \n",
       "1996 28           58           57           29           31          \n",
       "1997 56           29           37           49           72          \n",
       "1998 42           40           55           44           56          \n",
       "1999 39           42           44           33           26          \n",
       "2000 55           52           49           58           53          \n",
       "     Sample_ 1499 Sample_ 1500\n",
       "1    40           38          \n",
       "2    34           50          \n",
       "3    28           46          \n",
       "4    35           53          \n",
       "5    51           41          \n",
       "6    63           52          \n",
       "7    44           68          \n",
       "8    32           36          \n",
       "9    54           39          \n",
       "10   36           44          \n",
       "11   46           20          \n",
       "12   50           50          \n",
       "13   49           41          \n",
       "14   29           31          \n",
       "15   25           48          \n",
       "16   31           51          \n",
       "17   64           64          \n",
       "18   27           25          \n",
       "19   56           30          \n",
       "20   20           37          \n",
       "21   33           63          \n",
       "22   48           43          \n",
       "23   51           41          \n",
       "24   42           61          \n",
       "25   75           49          \n",
       "26   44           63          \n",
       "27   35           35          \n",
       "28   48           34          \n",
       "29   37           52          \n",
       "30   34           72          \n",
       "⋮    ⋮            ⋮           \n",
       "1971 30           17          \n",
       "1972 36           56          \n",
       "1973 49           39          \n",
       "1974 60           51          \n",
       "1975 29           40          \n",
       "1976 27           34          \n",
       "1977 61           56          \n",
       "1978 47           34          \n",
       "1979 42           34          \n",
       "1980 50           27          \n",
       "1981 56           47          \n",
       "1982 27           71          \n",
       "1983 38           38          \n",
       "1984 53           27          \n",
       "1985 35           27          \n",
       "1986 39           40          \n",
       "1987 54           59          \n",
       "1988 37           31          \n",
       "1989 26           35          \n",
       "1990 62           21          \n",
       "1991 40           42          \n",
       "1992 35           30          \n",
       "1993 32           31          \n",
       "1994 40           41          \n",
       "1995 44           47          \n",
       "1996 34           47          \n",
       "1997 51           22          \n",
       "1998 29           24          \n",
       "1999 22           55          \n",
       "2000 38           45          "
      ]
     },
     "metadata": {},
     "output_type": "display_data"
    }
   ],
   "source": [
    "for (i in 1:total_samples){\n",
    "    if(i==1){\n",
    "        sample_dataset <- data.frame('Sample_1'= sample(dataset$Age, n))\n",
    "    }else{\n",
    "        sample_dataset[paste('Sample_', i)] <- sample(dataset$Age, n)\n",
    "    }\n",
    "}\n",
    "sample_dataset"
   ]
  },
  {
   "cell_type": "code",
   "execution_count": 95,
   "metadata": {
    "colab": {
     "base_uri": "https://localhost:8080/",
     "height": 1071
    },
    "colab_type": "code",
    "id": "v5Q-rnS_izNd",
    "outputId": "5097951e-8900-42f8-894a-539ad7d51f76",
    "scrolled": true
   },
   "outputs": [
    {
     "data": {
      "text/html": [
       "<style>\n",
       ".dl-inline {width: auto; margin:0; padding: 0}\n",
       ".dl-inline>dt, .dl-inline>dd {float: none; width: auto; display: inline-block}\n",
       ".dl-inline>dt::after {content: \":\\0020\"; padding-right: .5ex}\n",
       ".dl-inline>dt:not(:first-of-type) {padding-left: .5ex}\n",
       "</style><dl class=dl-inline><dt>Sample_1</dt><dd>44.0755</dd><dt>Sample_ 2</dt><dd>43.5835</dd><dt>Sample_ 3</dt><dd>44.1205</dd><dt>Sample_ 4</dt><dd>43.684</dd><dt>Sample_ 5</dt><dd>43.909</dd><dt>Sample_ 6</dt><dd>43.936</dd><dt>Sample_ 7</dt><dd>44.296</dd><dt>Sample_ 8</dt><dd>44.13</dd><dt>Sample_ 9</dt><dd>44.063</dd><dt>Sample_ 10</dt><dd>44.1565</dd><dt>Sample_ 11</dt><dd>43.8535</dd><dt>Sample_ 12</dt><dd>44.0085</dd><dt>Sample_ 13</dt><dd>43.859</dd><dt>Sample_ 14</dt><dd>44.4595</dd><dt>Sample_ 15</dt><dd>44.0685</dd><dt>Sample_ 16</dt><dd>44.51</dd><dt>Sample_ 17</dt><dd>44.2495</dd><dt>Sample_ 18</dt><dd>43.6605</dd><dt>Sample_ 19</dt><dd>43.7725</dd><dt>Sample_ 20</dt><dd>43.9725</dd><dt>Sample_ 21</dt><dd>44.3325</dd><dt>Sample_ 22</dt><dd>44.4805</dd><dt>Sample_ 23</dt><dd>43.9145</dd><dt>Sample_ 24</dt><dd>44.153</dd><dt>Sample_ 25</dt><dd>43.7375</dd><dt>Sample_ 26</dt><dd>44.071</dd><dt>Sample_ 27</dt><dd>43.976</dd><dt>Sample_ 28</dt><dd>44.2445</dd><dt>Sample_ 29</dt><dd>44.375</dd><dt>Sample_ 30</dt><dd>43.936</dd><dt>Sample_ 31</dt><dd>43.616</dd><dt>Sample_ 32</dt><dd>44.0085</dd><dt>Sample_ 33</dt><dd>43.6485</dd><dt>Sample_ 34</dt><dd>44.1225</dd><dt>Sample_ 35</dt><dd>43.9975</dd><dt>Sample_ 36</dt><dd>43.996</dd><dt>Sample_ 37</dt><dd>44.0465</dd><dt>Sample_ 38</dt><dd>44.4005</dd><dt>Sample_ 39</dt><dd>43.632</dd><dt>Sample_ 40</dt><dd>44.6285</dd><dt>Sample_ 41</dt><dd>44.0965</dd><dt>Sample_ 42</dt><dd>43.605</dd><dt>Sample_ 43</dt><dd>44.422</dd><dt>Sample_ 44</dt><dd>44.15</dd><dt>Sample_ 45</dt><dd>43.9005</dd><dt>Sample_ 46</dt><dd>44.205</dd><dt>Sample_ 47</dt><dd>44.333</dd><dt>Sample_ 48</dt><dd>44.4215</dd><dt>Sample_ 49</dt><dd>43.518</dd><dt>Sample_ 50</dt><dd>44.199</dd><dt>Sample_ 51</dt><dd>43.8665</dd><dt>Sample_ 52</dt><dd>44.193</dd><dt>Sample_ 53</dt><dd>44.1825</dd><dt>Sample_ 54</dt><dd>43.9515</dd><dt>Sample_ 55</dt><dd>44.427</dd><dt>Sample_ 56</dt><dd>44.1925</dd><dt>Sample_ 57</dt><dd>43.9935</dd><dt>Sample_ 58</dt><dd>44.3995</dd><dt>Sample_ 59</dt><dd>44.455</dd><dt>Sample_ 60</dt><dd>43.7735</dd><dt>Sample_ 61</dt><dd>43.904</dd><dt>Sample_ 62</dt><dd>43.696</dd><dt>Sample_ 63</dt><dd>44.238</dd><dt>Sample_ 64</dt><dd>44.3075</dd><dt>Sample_ 65</dt><dd>43.74</dd><dt>Sample_ 66</dt><dd>43.6535</dd><dt>Sample_ 67</dt><dd>44.091</dd><dt>Sample_ 68</dt><dd>43.8815</dd><dt>Sample_ 69</dt><dd>43.893</dd><dt>Sample_ 70</dt><dd>44.5225</dd><dt>Sample_ 71</dt><dd>43.515</dd><dt>Sample_ 72</dt><dd>44.4935</dd><dt>Sample_ 73</dt><dd>44.0215</dd><dt>Sample_ 74</dt><dd>44.546</dd><dt>Sample_ 75</dt><dd>43.9345</dd><dt>Sample_ 76</dt><dd>44.0135</dd><dt>Sample_ 77</dt><dd>43.714</dd><dt>Sample_ 78</dt><dd>44.311</dd><dt>Sample_ 79</dt><dd>43.7955</dd><dt>Sample_ 80</dt><dd>44.2495</dd><dt>Sample_ 81</dt><dd>44.117</dd><dt>Sample_ 82</dt><dd>44.1055</dd><dt>Sample_ 83</dt><dd>43.833</dd><dt>Sample_ 84</dt><dd>43.977</dd><dt>Sample_ 85</dt><dd>43.9205</dd><dt>Sample_ 86</dt><dd>44.2915</dd><dt>Sample_ 87</dt><dd>44.3365</dd><dt>Sample_ 88</dt><dd>44.2215</dd><dt>Sample_ 89</dt><dd>44.132</dd><dt>Sample_ 90</dt><dd>43.9005</dd><dt>Sample_ 91</dt><dd>44.0505</dd><dt>Sample_ 92</dt><dd>43.467</dd><dt>Sample_ 93</dt><dd>44.1845</dd><dt>Sample_ 94</dt><dd>44.285</dd><dt>Sample_ 95</dt><dd>44.453</dd><dt>Sample_ 96</dt><dd>44.5715</dd><dt>Sample_ 97</dt><dd>44.5835</dd><dt>Sample_ 98</dt><dd>44.0825</dd><dt>Sample_ 99</dt><dd>44.2535</dd><dt>Sample_ 100</dt><dd>44.2035</dd><dt>Sample_ 101</dt><dd>44.1955</dd><dt>Sample_ 102</dt><dd>44.0215</dd><dt>Sample_ 103</dt><dd>44.8165</dd><dt>Sample_ 104</dt><dd>44.184</dd><dt>Sample_ 105</dt><dd>44.0085</dd><dt>Sample_ 106</dt><dd>44.6775</dd><dt>Sample_ 107</dt><dd>44.2205</dd><dt>Sample_ 108</dt><dd>44.009</dd><dt>Sample_ 109</dt><dd>44.041</dd><dt>Sample_ 110</dt><dd>43.921</dd><dt>Sample_ 111</dt><dd>44.389</dd><dt>Sample_ 112</dt><dd>44.4885</dd><dt>Sample_ 113</dt><dd>43.8945</dd><dt>Sample_ 114</dt><dd>44.153</dd><dt>Sample_ 115</dt><dd>44.4635</dd><dt>Sample_ 116</dt><dd>44.001</dd><dt>Sample_ 117</dt><dd>43.6915</dd><dt>Sample_ 118</dt><dd>43.889</dd><dt>Sample_ 119</dt><dd>43.776</dd><dt>Sample_ 120</dt><dd>44.354</dd><dt>Sample_ 121</dt><dd>44.2335</dd><dt>Sample_ 122</dt><dd>44.163</dd><dt>Sample_ 123</dt><dd>44.166</dd><dt>Sample_ 124</dt><dd>44.0995</dd><dt>Sample_ 125</dt><dd>43.8955</dd><dt>Sample_ 126</dt><dd>43.9625</dd><dt>Sample_ 127</dt><dd>43.985</dd><dt>Sample_ 128</dt><dd>43.8645</dd><dt>Sample_ 129</dt><dd>43.6815</dd><dt>Sample_ 130</dt><dd>44.3965</dd><dt>Sample_ 131</dt><dd>44.1325</dd><dt>Sample_ 132</dt><dd>43.9655</dd><dt>Sample_ 133</dt><dd>43.746</dd><dt>Sample_ 134</dt><dd>44.315</dd><dt>Sample_ 135</dt><dd>43.987</dd><dt>Sample_ 136</dt><dd>44.099</dd><dt>Sample_ 137</dt><dd>44.307</dd><dt>Sample_ 138</dt><dd>43.7345</dd><dt>Sample_ 139</dt><dd>43.688</dd><dt>Sample_ 140</dt><dd>44.234</dd><dt>Sample_ 141</dt><dd>44.173</dd><dt>Sample_ 142</dt><dd>43.9105</dd><dt>Sample_ 143</dt><dd>44.2815</dd><dt>Sample_ 144</dt><dd>44.3135</dd><dt>Sample_ 145</dt><dd>43.831</dd><dt>Sample_ 146</dt><dd>43.983</dd><dt>Sample_ 147</dt><dd>44.7185</dd><dt>Sample_ 148</dt><dd>44.382</dd><dt>Sample_ 149</dt><dd>44.0395</dd><dt>Sample_ 150</dt><dd>43.5655</dd><dt>Sample_ 151</dt><dd>44.0745</dd><dt>Sample_ 152</dt><dd>43.558</dd><dt>Sample_ 153</dt><dd>43.723</dd><dt>Sample_ 154</dt><dd>43.9255</dd><dt>Sample_ 155</dt><dd>44.002</dd><dt>Sample_ 156</dt><dd>43.4695</dd><dt>Sample_ 157</dt><dd>44.1355</dd><dt>Sample_ 158</dt><dd>44.031</dd><dt>Sample_ 159</dt><dd>43.4125</dd><dt>Sample_ 160</dt><dd>43.3515</dd><dt>Sample_ 161</dt><dd>44.2365</dd><dt>Sample_ 162</dt><dd>43.863</dd><dt>Sample_ 163</dt><dd>43.9555</dd><dt>Sample_ 164</dt><dd>44.054</dd><dt>Sample_ 165</dt><dd>43.7585</dd><dt>Sample_ 166</dt><dd>43.9365</dd><dt>Sample_ 167</dt><dd>43.1755</dd><dt>Sample_ 168</dt><dd>44.2375</dd><dt>Sample_ 169</dt><dd>43.9465</dd><dt>Sample_ 170</dt><dd>44.1225</dd><dt>Sample_ 171</dt><dd>43.8425</dd><dt>Sample_ 172</dt><dd>44.423</dd><dt>Sample_ 173</dt><dd>44.346</dd><dt>Sample_ 174</dt><dd>43.4915</dd><dt>Sample_ 175</dt><dd>44.153</dd><dt>Sample_ 176</dt><dd>44.3605</dd><dt>Sample_ 177</dt><dd>43.9135</dd><dt>Sample_ 178</dt><dd>44.508</dd><dt>Sample_ 179</dt><dd>44.0795</dd><dt>Sample_ 180</dt><dd>43.9015</dd><dt>Sample_ 181</dt><dd>44.166</dd><dt>Sample_ 182</dt><dd>44.036</dd><dt>Sample_ 183</dt><dd>44.2505</dd><dt>Sample_ 184</dt><dd>44.3085</dd><dt>Sample_ 185</dt><dd>44.09</dd><dt>Sample_ 186</dt><dd>43.545</dd><dt>Sample_ 187</dt><dd>43.9355</dd><dt>Sample_ 188</dt><dd>44.2755</dd><dt>Sample_ 189</dt><dd>44.0315</dd><dt>Sample_ 190</dt><dd>43.867</dd><dt>Sample_ 191</dt><dd>44.225</dd><dt>Sample_ 192</dt><dd>44.38</dd><dt>Sample_ 193</dt><dd>44.343</dd><dt>Sample_ 194</dt><dd>44.1975</dd><dt>Sample_ 195</dt><dd>44.226</dd><dt>Sample_ 196</dt><dd>44.0435</dd><dt>Sample_ 197</dt><dd>44.32</dd><dt>Sample_ 198</dt><dd>44.0135</dd><dt>Sample_ 199</dt><dd>43.987</dd><dt>Sample_ 200</dt><dd>44.436</dd><dt>Sample_ 201</dt><dd>⋯</dd><dt>Sample_ 202</dt><dd>43.863</dd><dt>Sample_ 203</dt><dd>44.391</dd><dt>Sample_ 204</dt><dd>44.3645</dd><dt>Sample_ 205</dt><dd>43.826</dd><dt>Sample_ 206</dt><dd>43.869</dd><dt>Sample_ 207</dt><dd>43.952</dd><dt>Sample_ 208</dt><dd>44.069</dd><dt>Sample_ 209</dt><dd>43.838</dd><dt>Sample_ 210</dt><dd>43.62</dd><dt>Sample_ 211</dt><dd>43.9135</dd><dt>Sample_ 212</dt><dd>44.4855</dd><dt>Sample_ 213</dt><dd>44.4365</dd><dt>Sample_ 214</dt><dd>44.2255</dd><dt>Sample_ 215</dt><dd>44.2385</dd><dt>Sample_ 216</dt><dd>44.246</dd><dt>Sample_ 217</dt><dd>44.315</dd><dt>Sample_ 218</dt><dd>43.814</dd><dt>Sample_ 219</dt><dd>44.6025</dd><dt>Sample_ 220</dt><dd>44.0215</dd><dt>Sample_ 221</dt><dd>44.0175</dd><dt>Sample_ 222</dt><dd>44.092</dd><dt>Sample_ 223</dt><dd>43.9425</dd><dt>Sample_ 224</dt><dd>43.7435</dd><dt>Sample_ 225</dt><dd>44.043</dd><dt>Sample_ 226</dt><dd>44.2245</dd><dt>Sample_ 227</dt><dd>44.479</dd><dt>Sample_ 228</dt><dd>43.839</dd><dt>Sample_ 229</dt><dd>44.038</dd><dt>Sample_ 230</dt><dd>43.792</dd><dt>Sample_ 231</dt><dd>43.8655</dd><dt>Sample_ 232</dt><dd>44.3855</dd><dt>Sample_ 233</dt><dd>44.0805</dd><dt>Sample_ 234</dt><dd>44.727</dd><dt>Sample_ 235</dt><dd>43.8005</dd><dt>Sample_ 236</dt><dd>43.7025</dd><dt>Sample_ 237</dt><dd>44.195</dd><dt>Sample_ 238</dt><dd>44.276</dd><dt>Sample_ 239</dt><dd>43.8945</dd><dt>Sample_ 240</dt><dd>44.2205</dd><dt>Sample_ 241</dt><dd>43.9365</dd><dt>Sample_ 242</dt><dd>44.5375</dd><dt>Sample_ 243</dt><dd>44.149</dd><dt>Sample_ 244</dt><dd>43.62</dd><dt>Sample_ 245</dt><dd>44.0205</dd><dt>Sample_ 246</dt><dd>44.3325</dd><dt>Sample_ 247</dt><dd>44.1535</dd><dt>Sample_ 248</dt><dd>44.354</dd><dt>Sample_ 249</dt><dd>44.3015</dd><dt>Sample_ 250</dt><dd>44.268</dd><dt>Sample_ 251</dt><dd>44.2505</dd><dt>Sample_ 252</dt><dd>43.998</dd><dt>Sample_ 253</dt><dd>44.3475</dd><dt>Sample_ 254</dt><dd>44.0315</dd><dt>Sample_ 255</dt><dd>44.5255</dd><dt>Sample_ 256</dt><dd>43.617</dd><dt>Sample_ 257</dt><dd>44.358</dd><dt>Sample_ 258</dt><dd>44.409</dd><dt>Sample_ 259</dt><dd>44.1915</dd><dt>Sample_ 260</dt><dd>44.2175</dd><dt>Sample_ 261</dt><dd>43.771</dd><dt>Sample_ 262</dt><dd>43.4875</dd><dt>Sample_ 263</dt><dd>44.0755</dd><dt>Sample_ 264</dt><dd>43.638</dd><dt>Sample_ 265</dt><dd>43.9595</dd><dt>Sample_ 266</dt><dd>43.348</dd><dt>Sample_ 267</dt><dd>44.2245</dd><dt>Sample_ 268</dt><dd>44.3965</dd><dt>Sample_ 269</dt><dd>44.1705</dd><dt>Sample_ 270</dt><dd>43.7885</dd><dt>Sample_ 271</dt><dd>43.6225</dd><dt>Sample_ 272</dt><dd>44.4645</dd><dt>Sample_ 273</dt><dd>44.093</dd><dt>Sample_ 274</dt><dd>43.891</dd><dt>Sample_ 275</dt><dd>43.9</dd><dt>Sample_ 276</dt><dd>44.157</dd><dt>Sample_ 277</dt><dd>44.1855</dd><dt>Sample_ 278</dt><dd>44.667</dd><dt>Sample_ 279</dt><dd>43.593</dd><dt>Sample_ 280</dt><dd>44.1565</dd><dt>Sample_ 281</dt><dd>44.5065</dd><dt>Sample_ 282</dt><dd>44.162</dd><dt>Sample_ 283</dt><dd>44.251</dd><dt>Sample_ 284</dt><dd>44.1595</dd><dt>Sample_ 285</dt><dd>43.8935</dd><dt>Sample_ 286</dt><dd>44.237</dd><dt>Sample_ 287</dt><dd>44.3815</dd><dt>Sample_ 288</dt><dd>43.612</dd><dt>Sample_ 289</dt><dd>43.8775</dd><dt>Sample_ 290</dt><dd>44.0565</dd><dt>Sample_ 291</dt><dd>43.4605</dd><dt>Sample_ 292</dt><dd>43.6885</dd><dt>Sample_ 293</dt><dd>43.797</dd><dt>Sample_ 294</dt><dd>43.75</dd><dt>Sample_ 295</dt><dd>44.273</dd><dt>Sample_ 296</dt><dd>43.805</dd><dt>Sample_ 297</dt><dd>44.512</dd><dt>Sample_ 298</dt><dd>44.4945</dd><dt>Sample_ 299</dt><dd>43.754</dd><dt>Sample_ 300</dt><dd>43.7295</dd><dt>Sample_ 301</dt><dd>44.228</dd><dt>Sample_ 302</dt><dd>44.6865</dd><dt>Sample_ 303</dt><dd>44.249</dd><dt>Sample_ 304</dt><dd>43.703</dd><dt>Sample_ 305</dt><dd>44.3345</dd><dt>Sample_ 306</dt><dd>44.132</dd><dt>Sample_ 307</dt><dd>43.5745</dd><dt>Sample_ 308</dt><dd>44.089</dd><dt>Sample_ 309</dt><dd>43.9395</dd><dt>Sample_ 310</dt><dd>43.562</dd><dt>Sample_ 311</dt><dd>44.0735</dd><dt>Sample_ 312</dt><dd>44.0365</dd><dt>Sample_ 313</dt><dd>44.3585</dd><dt>Sample_ 314</dt><dd>44.1145</dd><dt>Sample_ 315</dt><dd>43.9485</dd><dt>Sample_ 316</dt><dd>44.58</dd><dt>Sample_ 317</dt><dd>43.933</dd><dt>Sample_ 318</dt><dd>44.1385</dd><dt>Sample_ 319</dt><dd>44.1735</dd><dt>Sample_ 320</dt><dd>44.042</dd><dt>Sample_ 321</dt><dd>44.1805</dd><dt>Sample_ 322</dt><dd>43.956</dd><dt>Sample_ 323</dt><dd>43.976</dd><dt>Sample_ 324</dt><dd>44.1875</dd><dt>Sample_ 325</dt><dd>44.042</dd><dt>Sample_ 326</dt><dd>44.0085</dd><dt>Sample_ 327</dt><dd>44.2275</dd><dt>Sample_ 328</dt><dd>43.9675</dd><dt>Sample_ 329</dt><dd>43.796</dd><dt>Sample_ 330</dt><dd>43.899</dd><dt>Sample_ 331</dt><dd>44.283</dd><dt>Sample_ 332</dt><dd>44.111</dd><dt>Sample_ 333</dt><dd>43.987</dd><dt>Sample_ 334</dt><dd>43.894</dd><dt>Sample_ 335</dt><dd>44.0355</dd><dt>Sample_ 336</dt><dd>44.7925</dd><dt>Sample_ 337</dt><dd>43.585</dd><dt>Sample_ 338</dt><dd>43.908</dd><dt>Sample_ 339</dt><dd>44.0335</dd><dt>Sample_ 340</dt><dd>44.17</dd><dt>Sample_ 341</dt><dd>44.334</dd><dt>Sample_ 342</dt><dd>43.951</dd><dt>Sample_ 343</dt><dd>43.795</dd><dt>Sample_ 344</dt><dd>43.74</dd><dt>Sample_ 345</dt><dd>43.46</dd><dt>Sample_ 346</dt><dd>43.3885</dd><dt>Sample_ 347</dt><dd>43.9095</dd><dt>Sample_ 348</dt><dd>44.447</dd><dt>Sample_ 349</dt><dd>44.0895</dd><dt>Sample_ 350</dt><dd>43.951</dd><dt>Sample_ 351</dt><dd>44.4415</dd><dt>Sample_ 352</dt><dd>43.2195</dd><dt>Sample_ 353</dt><dd>44.409</dd><dt>Sample_ 354</dt><dd>43.8405</dd><dt>Sample_ 355</dt><dd>44.208</dd><dt>Sample_ 356</dt><dd>44.017</dd><dt>Sample_ 357</dt><dd>44.242</dd><dt>Sample_ 358</dt><dd>43.893</dd><dt>Sample_ 359</dt><dd>43.8925</dd><dt>Sample_ 360</dt><dd>44.042</dd><dt>Sample_ 361</dt><dd>43.9775</dd><dt>Sample_ 362</dt><dd>43.5225</dd><dt>Sample_ 363</dt><dd>43.8535</dd><dt>Sample_ 364</dt><dd>43.759</dd><dt>Sample_ 365</dt><dd>44.0975</dd><dt>Sample_ 366</dt><dd>44.1235</dd><dt>Sample_ 367</dt><dd>43.8425</dd><dt>Sample_ 368</dt><dd>43.8595</dd><dt>Sample_ 369</dt><dd>44.1025</dd><dt>Sample_ 370</dt><dd>44.1045</dd><dt>Sample_ 371</dt><dd>44.4355</dd><dt>Sample_ 372</dt><dd>43.954</dd><dt>Sample_ 373</dt><dd>44.2935</dd><dt>Sample_ 374</dt><dd>43.903</dd><dt>Sample_ 375</dt><dd>44.275</dd><dt>Sample_ 376</dt><dd>43.946</dd><dt>Sample_ 377</dt><dd>44.1035</dd><dt>Sample_ 378</dt><dd>44.4525</dd><dt>Sample_ 379</dt><dd>43.826</dd><dt>Sample_ 380</dt><dd>43.985</dd><dt>Sample_ 381</dt><dd>44.0785</dd><dt>Sample_ 382</dt><dd>44.3365</dd><dt>Sample_ 383</dt><dd>43.844</dd><dt>Sample_ 384</dt><dd>44.1035</dd><dt>Sample_ 385</dt><dd>44.189</dd><dt>Sample_ 386</dt><dd>43.913</dd><dt>Sample_ 387</dt><dd>44.469</dd><dt>Sample_ 388</dt><dd>44.0205</dd><dt>Sample_ 389</dt><dd>44.246</dd><dt>Sample_ 390</dt><dd>44.022</dd><dt>Sample_ 391</dt><dd>43.894</dd><dt>Sample_ 392</dt><dd>44.1725</dd><dt>Sample_ 393</dt><dd>44.0335</dd><dt>Sample_ 394</dt><dd>43.9545</dd><dt>Sample_ 395</dt><dd>44.0985</dd><dt>Sample_ 396</dt><dd>43.866</dd><dt>Sample_ 397</dt><dd>43.874</dd><dt>Sample_ 398</dt><dd>44.069</dd><dt>Sample_ 399</dt><dd>44.281</dd><dt>Sample_ 400</dt><dd>43.846</dd><dt>Sample_ 401</dt><dd>44.039</dd></dl>\n"
      ],
      "text/latex": [
       "\\begin{description*}\n",
       "\\item[Sample\\textbackslash{}\\_1] 44.0755\n",
       "\\item[Sample\\textbackslash{}\\_ 2] 43.5835\n",
       "\\item[Sample\\textbackslash{}\\_ 3] 44.1205\n",
       "\\item[Sample\\textbackslash{}\\_ 4] 43.684\n",
       "\\item[Sample\\textbackslash{}\\_ 5] 43.909\n",
       "\\item[Sample\\textbackslash{}\\_ 6] 43.936\n",
       "\\item[Sample\\textbackslash{}\\_ 7] 44.296\n",
       "\\item[Sample\\textbackslash{}\\_ 8] 44.13\n",
       "\\item[Sample\\textbackslash{}\\_ 9] 44.063\n",
       "\\item[Sample\\textbackslash{}\\_ 10] 44.1565\n",
       "\\item[Sample\\textbackslash{}\\_ 11] 43.8535\n",
       "\\item[Sample\\textbackslash{}\\_ 12] 44.0085\n",
       "\\item[Sample\\textbackslash{}\\_ 13] 43.859\n",
       "\\item[Sample\\textbackslash{}\\_ 14] 44.4595\n",
       "\\item[Sample\\textbackslash{}\\_ 15] 44.0685\n",
       "\\item[Sample\\textbackslash{}\\_ 16] 44.51\n",
       "\\item[Sample\\textbackslash{}\\_ 17] 44.2495\n",
       "\\item[Sample\\textbackslash{}\\_ 18] 43.6605\n",
       "\\item[Sample\\textbackslash{}\\_ 19] 43.7725\n",
       "\\item[Sample\\textbackslash{}\\_ 20] 43.9725\n",
       "\\item[Sample\\textbackslash{}\\_ 21] 44.3325\n",
       "\\item[Sample\\textbackslash{}\\_ 22] 44.4805\n",
       "\\item[Sample\\textbackslash{}\\_ 23] 43.9145\n",
       "\\item[Sample\\textbackslash{}\\_ 24] 44.153\n",
       "\\item[Sample\\textbackslash{}\\_ 25] 43.7375\n",
       "\\item[Sample\\textbackslash{}\\_ 26] 44.071\n",
       "\\item[Sample\\textbackslash{}\\_ 27] 43.976\n",
       "\\item[Sample\\textbackslash{}\\_ 28] 44.2445\n",
       "\\item[Sample\\textbackslash{}\\_ 29] 44.375\n",
       "\\item[Sample\\textbackslash{}\\_ 30] 43.936\n",
       "\\item[Sample\\textbackslash{}\\_ 31] 43.616\n",
       "\\item[Sample\\textbackslash{}\\_ 32] 44.0085\n",
       "\\item[Sample\\textbackslash{}\\_ 33] 43.6485\n",
       "\\item[Sample\\textbackslash{}\\_ 34] 44.1225\n",
       "\\item[Sample\\textbackslash{}\\_ 35] 43.9975\n",
       "\\item[Sample\\textbackslash{}\\_ 36] 43.996\n",
       "\\item[Sample\\textbackslash{}\\_ 37] 44.0465\n",
       "\\item[Sample\\textbackslash{}\\_ 38] 44.4005\n",
       "\\item[Sample\\textbackslash{}\\_ 39] 43.632\n",
       "\\item[Sample\\textbackslash{}\\_ 40] 44.6285\n",
       "\\item[Sample\\textbackslash{}\\_ 41] 44.0965\n",
       "\\item[Sample\\textbackslash{}\\_ 42] 43.605\n",
       "\\item[Sample\\textbackslash{}\\_ 43] 44.422\n",
       "\\item[Sample\\textbackslash{}\\_ 44] 44.15\n",
       "\\item[Sample\\textbackslash{}\\_ 45] 43.9005\n",
       "\\item[Sample\\textbackslash{}\\_ 46] 44.205\n",
       "\\item[Sample\\textbackslash{}\\_ 47] 44.333\n",
       "\\item[Sample\\textbackslash{}\\_ 48] 44.4215\n",
       "\\item[Sample\\textbackslash{}\\_ 49] 43.518\n",
       "\\item[Sample\\textbackslash{}\\_ 50] 44.199\n",
       "\\item[Sample\\textbackslash{}\\_ 51] 43.8665\n",
       "\\item[Sample\\textbackslash{}\\_ 52] 44.193\n",
       "\\item[Sample\\textbackslash{}\\_ 53] 44.1825\n",
       "\\item[Sample\\textbackslash{}\\_ 54] 43.9515\n",
       "\\item[Sample\\textbackslash{}\\_ 55] 44.427\n",
       "\\item[Sample\\textbackslash{}\\_ 56] 44.1925\n",
       "\\item[Sample\\textbackslash{}\\_ 57] 43.9935\n",
       "\\item[Sample\\textbackslash{}\\_ 58] 44.3995\n",
       "\\item[Sample\\textbackslash{}\\_ 59] 44.455\n",
       "\\item[Sample\\textbackslash{}\\_ 60] 43.7735\n",
       "\\item[Sample\\textbackslash{}\\_ 61] 43.904\n",
       "\\item[Sample\\textbackslash{}\\_ 62] 43.696\n",
       "\\item[Sample\\textbackslash{}\\_ 63] 44.238\n",
       "\\item[Sample\\textbackslash{}\\_ 64] 44.3075\n",
       "\\item[Sample\\textbackslash{}\\_ 65] 43.74\n",
       "\\item[Sample\\textbackslash{}\\_ 66] 43.6535\n",
       "\\item[Sample\\textbackslash{}\\_ 67] 44.091\n",
       "\\item[Sample\\textbackslash{}\\_ 68] 43.8815\n",
       "\\item[Sample\\textbackslash{}\\_ 69] 43.893\n",
       "\\item[Sample\\textbackslash{}\\_ 70] 44.5225\n",
       "\\item[Sample\\textbackslash{}\\_ 71] 43.515\n",
       "\\item[Sample\\textbackslash{}\\_ 72] 44.4935\n",
       "\\item[Sample\\textbackslash{}\\_ 73] 44.0215\n",
       "\\item[Sample\\textbackslash{}\\_ 74] 44.546\n",
       "\\item[Sample\\textbackslash{}\\_ 75] 43.9345\n",
       "\\item[Sample\\textbackslash{}\\_ 76] 44.0135\n",
       "\\item[Sample\\textbackslash{}\\_ 77] 43.714\n",
       "\\item[Sample\\textbackslash{}\\_ 78] 44.311\n",
       "\\item[Sample\\textbackslash{}\\_ 79] 43.7955\n",
       "\\item[Sample\\textbackslash{}\\_ 80] 44.2495\n",
       "\\item[Sample\\textbackslash{}\\_ 81] 44.117\n",
       "\\item[Sample\\textbackslash{}\\_ 82] 44.1055\n",
       "\\item[Sample\\textbackslash{}\\_ 83] 43.833\n",
       "\\item[Sample\\textbackslash{}\\_ 84] 43.977\n",
       "\\item[Sample\\textbackslash{}\\_ 85] 43.9205\n",
       "\\item[Sample\\textbackslash{}\\_ 86] 44.2915\n",
       "\\item[Sample\\textbackslash{}\\_ 87] 44.3365\n",
       "\\item[Sample\\textbackslash{}\\_ 88] 44.2215\n",
       "\\item[Sample\\textbackslash{}\\_ 89] 44.132\n",
       "\\item[Sample\\textbackslash{}\\_ 90] 43.9005\n",
       "\\item[Sample\\textbackslash{}\\_ 91] 44.0505\n",
       "\\item[Sample\\textbackslash{}\\_ 92] 43.467\n",
       "\\item[Sample\\textbackslash{}\\_ 93] 44.1845\n",
       "\\item[Sample\\textbackslash{}\\_ 94] 44.285\n",
       "\\item[Sample\\textbackslash{}\\_ 95] 44.453\n",
       "\\item[Sample\\textbackslash{}\\_ 96] 44.5715\n",
       "\\item[Sample\\textbackslash{}\\_ 97] 44.5835\n",
       "\\item[Sample\\textbackslash{}\\_ 98] 44.0825\n",
       "\\item[Sample\\textbackslash{}\\_ 99] 44.2535\n",
       "\\item[Sample\\textbackslash{}\\_ 100] 44.2035\n",
       "\\item[Sample\\textbackslash{}\\_ 101] 44.1955\n",
       "\\item[Sample\\textbackslash{}\\_ 102] 44.0215\n",
       "\\item[Sample\\textbackslash{}\\_ 103] 44.8165\n",
       "\\item[Sample\\textbackslash{}\\_ 104] 44.184\n",
       "\\item[Sample\\textbackslash{}\\_ 105] 44.0085\n",
       "\\item[Sample\\textbackslash{}\\_ 106] 44.6775\n",
       "\\item[Sample\\textbackslash{}\\_ 107] 44.2205\n",
       "\\item[Sample\\textbackslash{}\\_ 108] 44.009\n",
       "\\item[Sample\\textbackslash{}\\_ 109] 44.041\n",
       "\\item[Sample\\textbackslash{}\\_ 110] 43.921\n",
       "\\item[Sample\\textbackslash{}\\_ 111] 44.389\n",
       "\\item[Sample\\textbackslash{}\\_ 112] 44.4885\n",
       "\\item[Sample\\textbackslash{}\\_ 113] 43.8945\n",
       "\\item[Sample\\textbackslash{}\\_ 114] 44.153\n",
       "\\item[Sample\\textbackslash{}\\_ 115] 44.4635\n",
       "\\item[Sample\\textbackslash{}\\_ 116] 44.001\n",
       "\\item[Sample\\textbackslash{}\\_ 117] 43.6915\n",
       "\\item[Sample\\textbackslash{}\\_ 118] 43.889\n",
       "\\item[Sample\\textbackslash{}\\_ 119] 43.776\n",
       "\\item[Sample\\textbackslash{}\\_ 120] 44.354\n",
       "\\item[Sample\\textbackslash{}\\_ 121] 44.2335\n",
       "\\item[Sample\\textbackslash{}\\_ 122] 44.163\n",
       "\\item[Sample\\textbackslash{}\\_ 123] 44.166\n",
       "\\item[Sample\\textbackslash{}\\_ 124] 44.0995\n",
       "\\item[Sample\\textbackslash{}\\_ 125] 43.8955\n",
       "\\item[Sample\\textbackslash{}\\_ 126] 43.9625\n",
       "\\item[Sample\\textbackslash{}\\_ 127] 43.985\n",
       "\\item[Sample\\textbackslash{}\\_ 128] 43.8645\n",
       "\\item[Sample\\textbackslash{}\\_ 129] 43.6815\n",
       "\\item[Sample\\textbackslash{}\\_ 130] 44.3965\n",
       "\\item[Sample\\textbackslash{}\\_ 131] 44.1325\n",
       "\\item[Sample\\textbackslash{}\\_ 132] 43.9655\n",
       "\\item[Sample\\textbackslash{}\\_ 133] 43.746\n",
       "\\item[Sample\\textbackslash{}\\_ 134] 44.315\n",
       "\\item[Sample\\textbackslash{}\\_ 135] 43.987\n",
       "\\item[Sample\\textbackslash{}\\_ 136] 44.099\n",
       "\\item[Sample\\textbackslash{}\\_ 137] 44.307\n",
       "\\item[Sample\\textbackslash{}\\_ 138] 43.7345\n",
       "\\item[Sample\\textbackslash{}\\_ 139] 43.688\n",
       "\\item[Sample\\textbackslash{}\\_ 140] 44.234\n",
       "\\item[Sample\\textbackslash{}\\_ 141] 44.173\n",
       "\\item[Sample\\textbackslash{}\\_ 142] 43.9105\n",
       "\\item[Sample\\textbackslash{}\\_ 143] 44.2815\n",
       "\\item[Sample\\textbackslash{}\\_ 144] 44.3135\n",
       "\\item[Sample\\textbackslash{}\\_ 145] 43.831\n",
       "\\item[Sample\\textbackslash{}\\_ 146] 43.983\n",
       "\\item[Sample\\textbackslash{}\\_ 147] 44.7185\n",
       "\\item[Sample\\textbackslash{}\\_ 148] 44.382\n",
       "\\item[Sample\\textbackslash{}\\_ 149] 44.0395\n",
       "\\item[Sample\\textbackslash{}\\_ 150] 43.5655\n",
       "\\item[Sample\\textbackslash{}\\_ 151] 44.0745\n",
       "\\item[Sample\\textbackslash{}\\_ 152] 43.558\n",
       "\\item[Sample\\textbackslash{}\\_ 153] 43.723\n",
       "\\item[Sample\\textbackslash{}\\_ 154] 43.9255\n",
       "\\item[Sample\\textbackslash{}\\_ 155] 44.002\n",
       "\\item[Sample\\textbackslash{}\\_ 156] 43.4695\n",
       "\\item[Sample\\textbackslash{}\\_ 157] 44.1355\n",
       "\\item[Sample\\textbackslash{}\\_ 158] 44.031\n",
       "\\item[Sample\\textbackslash{}\\_ 159] 43.4125\n",
       "\\item[Sample\\textbackslash{}\\_ 160] 43.3515\n",
       "\\item[Sample\\textbackslash{}\\_ 161] 44.2365\n",
       "\\item[Sample\\textbackslash{}\\_ 162] 43.863\n",
       "\\item[Sample\\textbackslash{}\\_ 163] 43.9555\n",
       "\\item[Sample\\textbackslash{}\\_ 164] 44.054\n",
       "\\item[Sample\\textbackslash{}\\_ 165] 43.7585\n",
       "\\item[Sample\\textbackslash{}\\_ 166] 43.9365\n",
       "\\item[Sample\\textbackslash{}\\_ 167] 43.1755\n",
       "\\item[Sample\\textbackslash{}\\_ 168] 44.2375\n",
       "\\item[Sample\\textbackslash{}\\_ 169] 43.9465\n",
       "\\item[Sample\\textbackslash{}\\_ 170] 44.1225\n",
       "\\item[Sample\\textbackslash{}\\_ 171] 43.8425\n",
       "\\item[Sample\\textbackslash{}\\_ 172] 44.423\n",
       "\\item[Sample\\textbackslash{}\\_ 173] 44.346\n",
       "\\item[Sample\\textbackslash{}\\_ 174] 43.4915\n",
       "\\item[Sample\\textbackslash{}\\_ 175] 44.153\n",
       "\\item[Sample\\textbackslash{}\\_ 176] 44.3605\n",
       "\\item[Sample\\textbackslash{}\\_ 177] 43.9135\n",
       "\\item[Sample\\textbackslash{}\\_ 178] 44.508\n",
       "\\item[Sample\\textbackslash{}\\_ 179] 44.0795\n",
       "\\item[Sample\\textbackslash{}\\_ 180] 43.9015\n",
       "\\item[Sample\\textbackslash{}\\_ 181] 44.166\n",
       "\\item[Sample\\textbackslash{}\\_ 182] 44.036\n",
       "\\item[Sample\\textbackslash{}\\_ 183] 44.2505\n",
       "\\item[Sample\\textbackslash{}\\_ 184] 44.3085\n",
       "\\item[Sample\\textbackslash{}\\_ 185] 44.09\n",
       "\\item[Sample\\textbackslash{}\\_ 186] 43.545\n",
       "\\item[Sample\\textbackslash{}\\_ 187] 43.9355\n",
       "\\item[Sample\\textbackslash{}\\_ 188] 44.2755\n",
       "\\item[Sample\\textbackslash{}\\_ 189] 44.0315\n",
       "\\item[Sample\\textbackslash{}\\_ 190] 43.867\n",
       "\\item[Sample\\textbackslash{}\\_ 191] 44.225\n",
       "\\item[Sample\\textbackslash{}\\_ 192] 44.38\n",
       "\\item[Sample\\textbackslash{}\\_ 193] 44.343\n",
       "\\item[Sample\\textbackslash{}\\_ 194] 44.1975\n",
       "\\item[Sample\\textbackslash{}\\_ 195] 44.226\n",
       "\\item[Sample\\textbackslash{}\\_ 196] 44.0435\n",
       "\\item[Sample\\textbackslash{}\\_ 197] 44.32\n",
       "\\item[Sample\\textbackslash{}\\_ 198] 44.0135\n",
       "\\item[Sample\\textbackslash{}\\_ 199] 43.987\n",
       "\\item[Sample\\textbackslash{}\\_ 200] 44.436\n",
       "\\item[Sample\\textbackslash{}\\_ 201] ⋯\n",
       "\\item[Sample\\textbackslash{}\\_ 202] 43.863\n",
       "\\item[Sample\\textbackslash{}\\_ 203] 44.391\n",
       "\\item[Sample\\textbackslash{}\\_ 204] 44.3645\n",
       "\\item[Sample\\textbackslash{}\\_ 205] 43.826\n",
       "\\item[Sample\\textbackslash{}\\_ 206] 43.869\n",
       "\\item[Sample\\textbackslash{}\\_ 207] 43.952\n",
       "\\item[Sample\\textbackslash{}\\_ 208] 44.069\n",
       "\\item[Sample\\textbackslash{}\\_ 209] 43.838\n",
       "\\item[Sample\\textbackslash{}\\_ 210] 43.62\n",
       "\\item[Sample\\textbackslash{}\\_ 211] 43.9135\n",
       "\\item[Sample\\textbackslash{}\\_ 212] 44.4855\n",
       "\\item[Sample\\textbackslash{}\\_ 213] 44.4365\n",
       "\\item[Sample\\textbackslash{}\\_ 214] 44.2255\n",
       "\\item[Sample\\textbackslash{}\\_ 215] 44.2385\n",
       "\\item[Sample\\textbackslash{}\\_ 216] 44.246\n",
       "\\item[Sample\\textbackslash{}\\_ 217] 44.315\n",
       "\\item[Sample\\textbackslash{}\\_ 218] 43.814\n",
       "\\item[Sample\\textbackslash{}\\_ 219] 44.6025\n",
       "\\item[Sample\\textbackslash{}\\_ 220] 44.0215\n",
       "\\item[Sample\\textbackslash{}\\_ 221] 44.0175\n",
       "\\item[Sample\\textbackslash{}\\_ 222] 44.092\n",
       "\\item[Sample\\textbackslash{}\\_ 223] 43.9425\n",
       "\\item[Sample\\textbackslash{}\\_ 224] 43.7435\n",
       "\\item[Sample\\textbackslash{}\\_ 225] 44.043\n",
       "\\item[Sample\\textbackslash{}\\_ 226] 44.2245\n",
       "\\item[Sample\\textbackslash{}\\_ 227] 44.479\n",
       "\\item[Sample\\textbackslash{}\\_ 228] 43.839\n",
       "\\item[Sample\\textbackslash{}\\_ 229] 44.038\n",
       "\\item[Sample\\textbackslash{}\\_ 230] 43.792\n",
       "\\item[Sample\\textbackslash{}\\_ 231] 43.8655\n",
       "\\item[Sample\\textbackslash{}\\_ 232] 44.3855\n",
       "\\item[Sample\\textbackslash{}\\_ 233] 44.0805\n",
       "\\item[Sample\\textbackslash{}\\_ 234] 44.727\n",
       "\\item[Sample\\textbackslash{}\\_ 235] 43.8005\n",
       "\\item[Sample\\textbackslash{}\\_ 236] 43.7025\n",
       "\\item[Sample\\textbackslash{}\\_ 237] 44.195\n",
       "\\item[Sample\\textbackslash{}\\_ 238] 44.276\n",
       "\\item[Sample\\textbackslash{}\\_ 239] 43.8945\n",
       "\\item[Sample\\textbackslash{}\\_ 240] 44.2205\n",
       "\\item[Sample\\textbackslash{}\\_ 241] 43.9365\n",
       "\\item[Sample\\textbackslash{}\\_ 242] 44.5375\n",
       "\\item[Sample\\textbackslash{}\\_ 243] 44.149\n",
       "\\item[Sample\\textbackslash{}\\_ 244] 43.62\n",
       "\\item[Sample\\textbackslash{}\\_ 245] 44.0205\n",
       "\\item[Sample\\textbackslash{}\\_ 246] 44.3325\n",
       "\\item[Sample\\textbackslash{}\\_ 247] 44.1535\n",
       "\\item[Sample\\textbackslash{}\\_ 248] 44.354\n",
       "\\item[Sample\\textbackslash{}\\_ 249] 44.3015\n",
       "\\item[Sample\\textbackslash{}\\_ 250] 44.268\n",
       "\\item[Sample\\textbackslash{}\\_ 251] 44.2505\n",
       "\\item[Sample\\textbackslash{}\\_ 252] 43.998\n",
       "\\item[Sample\\textbackslash{}\\_ 253] 44.3475\n",
       "\\item[Sample\\textbackslash{}\\_ 254] 44.0315\n",
       "\\item[Sample\\textbackslash{}\\_ 255] 44.5255\n",
       "\\item[Sample\\textbackslash{}\\_ 256] 43.617\n",
       "\\item[Sample\\textbackslash{}\\_ 257] 44.358\n",
       "\\item[Sample\\textbackslash{}\\_ 258] 44.409\n",
       "\\item[Sample\\textbackslash{}\\_ 259] 44.1915\n",
       "\\item[Sample\\textbackslash{}\\_ 260] 44.2175\n",
       "\\item[Sample\\textbackslash{}\\_ 261] 43.771\n",
       "\\item[Sample\\textbackslash{}\\_ 262] 43.4875\n",
       "\\item[Sample\\textbackslash{}\\_ 263] 44.0755\n",
       "\\item[Sample\\textbackslash{}\\_ 264] 43.638\n",
       "\\item[Sample\\textbackslash{}\\_ 265] 43.9595\n",
       "\\item[Sample\\textbackslash{}\\_ 266] 43.348\n",
       "\\item[Sample\\textbackslash{}\\_ 267] 44.2245\n",
       "\\item[Sample\\textbackslash{}\\_ 268] 44.3965\n",
       "\\item[Sample\\textbackslash{}\\_ 269] 44.1705\n",
       "\\item[Sample\\textbackslash{}\\_ 270] 43.7885\n",
       "\\item[Sample\\textbackslash{}\\_ 271] 43.6225\n",
       "\\item[Sample\\textbackslash{}\\_ 272] 44.4645\n",
       "\\item[Sample\\textbackslash{}\\_ 273] 44.093\n",
       "\\item[Sample\\textbackslash{}\\_ 274] 43.891\n",
       "\\item[Sample\\textbackslash{}\\_ 275] 43.9\n",
       "\\item[Sample\\textbackslash{}\\_ 276] 44.157\n",
       "\\item[Sample\\textbackslash{}\\_ 277] 44.1855\n",
       "\\item[Sample\\textbackslash{}\\_ 278] 44.667\n",
       "\\item[Sample\\textbackslash{}\\_ 279] 43.593\n",
       "\\item[Sample\\textbackslash{}\\_ 280] 44.1565\n",
       "\\item[Sample\\textbackslash{}\\_ 281] 44.5065\n",
       "\\item[Sample\\textbackslash{}\\_ 282] 44.162\n",
       "\\item[Sample\\textbackslash{}\\_ 283] 44.251\n",
       "\\item[Sample\\textbackslash{}\\_ 284] 44.1595\n",
       "\\item[Sample\\textbackslash{}\\_ 285] 43.8935\n",
       "\\item[Sample\\textbackslash{}\\_ 286] 44.237\n",
       "\\item[Sample\\textbackslash{}\\_ 287] 44.3815\n",
       "\\item[Sample\\textbackslash{}\\_ 288] 43.612\n",
       "\\item[Sample\\textbackslash{}\\_ 289] 43.8775\n",
       "\\item[Sample\\textbackslash{}\\_ 290] 44.0565\n",
       "\\item[Sample\\textbackslash{}\\_ 291] 43.4605\n",
       "\\item[Sample\\textbackslash{}\\_ 292] 43.6885\n",
       "\\item[Sample\\textbackslash{}\\_ 293] 43.797\n",
       "\\item[Sample\\textbackslash{}\\_ 294] 43.75\n",
       "\\item[Sample\\textbackslash{}\\_ 295] 44.273\n",
       "\\item[Sample\\textbackslash{}\\_ 296] 43.805\n",
       "\\item[Sample\\textbackslash{}\\_ 297] 44.512\n",
       "\\item[Sample\\textbackslash{}\\_ 298] 44.4945\n",
       "\\item[Sample\\textbackslash{}\\_ 299] 43.754\n",
       "\\item[Sample\\textbackslash{}\\_ 300] 43.7295\n",
       "\\item[Sample\\textbackslash{}\\_ 301] 44.228\n",
       "\\item[Sample\\textbackslash{}\\_ 302] 44.6865\n",
       "\\item[Sample\\textbackslash{}\\_ 303] 44.249\n",
       "\\item[Sample\\textbackslash{}\\_ 304] 43.703\n",
       "\\item[Sample\\textbackslash{}\\_ 305] 44.3345\n",
       "\\item[Sample\\textbackslash{}\\_ 306] 44.132\n",
       "\\item[Sample\\textbackslash{}\\_ 307] 43.5745\n",
       "\\item[Sample\\textbackslash{}\\_ 308] 44.089\n",
       "\\item[Sample\\textbackslash{}\\_ 309] 43.9395\n",
       "\\item[Sample\\textbackslash{}\\_ 310] 43.562\n",
       "\\item[Sample\\textbackslash{}\\_ 311] 44.0735\n",
       "\\item[Sample\\textbackslash{}\\_ 312] 44.0365\n",
       "\\item[Sample\\textbackslash{}\\_ 313] 44.3585\n",
       "\\item[Sample\\textbackslash{}\\_ 314] 44.1145\n",
       "\\item[Sample\\textbackslash{}\\_ 315] 43.9485\n",
       "\\item[Sample\\textbackslash{}\\_ 316] 44.58\n",
       "\\item[Sample\\textbackslash{}\\_ 317] 43.933\n",
       "\\item[Sample\\textbackslash{}\\_ 318] 44.1385\n",
       "\\item[Sample\\textbackslash{}\\_ 319] 44.1735\n",
       "\\item[Sample\\textbackslash{}\\_ 320] 44.042\n",
       "\\item[Sample\\textbackslash{}\\_ 321] 44.1805\n",
       "\\item[Sample\\textbackslash{}\\_ 322] 43.956\n",
       "\\item[Sample\\textbackslash{}\\_ 323] 43.976\n",
       "\\item[Sample\\textbackslash{}\\_ 324] 44.1875\n",
       "\\item[Sample\\textbackslash{}\\_ 325] 44.042\n",
       "\\item[Sample\\textbackslash{}\\_ 326] 44.0085\n",
       "\\item[Sample\\textbackslash{}\\_ 327] 44.2275\n",
       "\\item[Sample\\textbackslash{}\\_ 328] 43.9675\n",
       "\\item[Sample\\textbackslash{}\\_ 329] 43.796\n",
       "\\item[Sample\\textbackslash{}\\_ 330] 43.899\n",
       "\\item[Sample\\textbackslash{}\\_ 331] 44.283\n",
       "\\item[Sample\\textbackslash{}\\_ 332] 44.111\n",
       "\\item[Sample\\textbackslash{}\\_ 333] 43.987\n",
       "\\item[Sample\\textbackslash{}\\_ 334] 43.894\n",
       "\\item[Sample\\textbackslash{}\\_ 335] 44.0355\n",
       "\\item[Sample\\textbackslash{}\\_ 336] 44.7925\n",
       "\\item[Sample\\textbackslash{}\\_ 337] 43.585\n",
       "\\item[Sample\\textbackslash{}\\_ 338] 43.908\n",
       "\\item[Sample\\textbackslash{}\\_ 339] 44.0335\n",
       "\\item[Sample\\textbackslash{}\\_ 340] 44.17\n",
       "\\item[Sample\\textbackslash{}\\_ 341] 44.334\n",
       "\\item[Sample\\textbackslash{}\\_ 342] 43.951\n",
       "\\item[Sample\\textbackslash{}\\_ 343] 43.795\n",
       "\\item[Sample\\textbackslash{}\\_ 344] 43.74\n",
       "\\item[Sample\\textbackslash{}\\_ 345] 43.46\n",
       "\\item[Sample\\textbackslash{}\\_ 346] 43.3885\n",
       "\\item[Sample\\textbackslash{}\\_ 347] 43.9095\n",
       "\\item[Sample\\textbackslash{}\\_ 348] 44.447\n",
       "\\item[Sample\\textbackslash{}\\_ 349] 44.0895\n",
       "\\item[Sample\\textbackslash{}\\_ 350] 43.951\n",
       "\\item[Sample\\textbackslash{}\\_ 351] 44.4415\n",
       "\\item[Sample\\textbackslash{}\\_ 352] 43.2195\n",
       "\\item[Sample\\textbackslash{}\\_ 353] 44.409\n",
       "\\item[Sample\\textbackslash{}\\_ 354] 43.8405\n",
       "\\item[Sample\\textbackslash{}\\_ 355] 44.208\n",
       "\\item[Sample\\textbackslash{}\\_ 356] 44.017\n",
       "\\item[Sample\\textbackslash{}\\_ 357] 44.242\n",
       "\\item[Sample\\textbackslash{}\\_ 358] 43.893\n",
       "\\item[Sample\\textbackslash{}\\_ 359] 43.8925\n",
       "\\item[Sample\\textbackslash{}\\_ 360] 44.042\n",
       "\\item[Sample\\textbackslash{}\\_ 361] 43.9775\n",
       "\\item[Sample\\textbackslash{}\\_ 362] 43.5225\n",
       "\\item[Sample\\textbackslash{}\\_ 363] 43.8535\n",
       "\\item[Sample\\textbackslash{}\\_ 364] 43.759\n",
       "\\item[Sample\\textbackslash{}\\_ 365] 44.0975\n",
       "\\item[Sample\\textbackslash{}\\_ 366] 44.1235\n",
       "\\item[Sample\\textbackslash{}\\_ 367] 43.8425\n",
       "\\item[Sample\\textbackslash{}\\_ 368] 43.8595\n",
       "\\item[Sample\\textbackslash{}\\_ 369] 44.1025\n",
       "\\item[Sample\\textbackslash{}\\_ 370] 44.1045\n",
       "\\item[Sample\\textbackslash{}\\_ 371] 44.4355\n",
       "\\item[Sample\\textbackslash{}\\_ 372] 43.954\n",
       "\\item[Sample\\textbackslash{}\\_ 373] 44.2935\n",
       "\\item[Sample\\textbackslash{}\\_ 374] 43.903\n",
       "\\item[Sample\\textbackslash{}\\_ 375] 44.275\n",
       "\\item[Sample\\textbackslash{}\\_ 376] 43.946\n",
       "\\item[Sample\\textbackslash{}\\_ 377] 44.1035\n",
       "\\item[Sample\\textbackslash{}\\_ 378] 44.4525\n",
       "\\item[Sample\\textbackslash{}\\_ 379] 43.826\n",
       "\\item[Sample\\textbackslash{}\\_ 380] 43.985\n",
       "\\item[Sample\\textbackslash{}\\_ 381] 44.0785\n",
       "\\item[Sample\\textbackslash{}\\_ 382] 44.3365\n",
       "\\item[Sample\\textbackslash{}\\_ 383] 43.844\n",
       "\\item[Sample\\textbackslash{}\\_ 384] 44.1035\n",
       "\\item[Sample\\textbackslash{}\\_ 385] 44.189\n",
       "\\item[Sample\\textbackslash{}\\_ 386] 43.913\n",
       "\\item[Sample\\textbackslash{}\\_ 387] 44.469\n",
       "\\item[Sample\\textbackslash{}\\_ 388] 44.0205\n",
       "\\item[Sample\\textbackslash{}\\_ 389] 44.246\n",
       "\\item[Sample\\textbackslash{}\\_ 390] 44.022\n",
       "\\item[Sample\\textbackslash{}\\_ 391] 43.894\n",
       "\\item[Sample\\textbackslash{}\\_ 392] 44.1725\n",
       "\\item[Sample\\textbackslash{}\\_ 393] 44.0335\n",
       "\\item[Sample\\textbackslash{}\\_ 394] 43.9545\n",
       "\\item[Sample\\textbackslash{}\\_ 395] 44.0985\n",
       "\\item[Sample\\textbackslash{}\\_ 396] 43.866\n",
       "\\item[Sample\\textbackslash{}\\_ 397] 43.874\n",
       "\\item[Sample\\textbackslash{}\\_ 398] 44.069\n",
       "\\item[Sample\\textbackslash{}\\_ 399] 44.281\n",
       "\\item[Sample\\textbackslash{}\\_ 400] 43.846\n",
       "\\item[Sample\\textbackslash{}\\_ 401] 44.039\n",
       "\\end{description*}\n"
      ],
      "text/markdown": [
       "Sample_1\n",
       ":   44.0755Sample_ 2\n",
       ":   43.5835Sample_ 3\n",
       ":   44.1205Sample_ 4\n",
       ":   43.684Sample_ 5\n",
       ":   43.909Sample_ 6\n",
       ":   43.936Sample_ 7\n",
       ":   44.296Sample_ 8\n",
       ":   44.13Sample_ 9\n",
       ":   44.063Sample_ 10\n",
       ":   44.1565Sample_ 11\n",
       ":   43.8535Sample_ 12\n",
       ":   44.0085Sample_ 13\n",
       ":   43.859Sample_ 14\n",
       ":   44.4595Sample_ 15\n",
       ":   44.0685Sample_ 16\n",
       ":   44.51Sample_ 17\n",
       ":   44.2495Sample_ 18\n",
       ":   43.6605Sample_ 19\n",
       ":   43.7725Sample_ 20\n",
       ":   43.9725Sample_ 21\n",
       ":   44.3325Sample_ 22\n",
       ":   44.4805Sample_ 23\n",
       ":   43.9145Sample_ 24\n",
       ":   44.153Sample_ 25\n",
       ":   43.7375Sample_ 26\n",
       ":   44.071Sample_ 27\n",
       ":   43.976Sample_ 28\n",
       ":   44.2445Sample_ 29\n",
       ":   44.375Sample_ 30\n",
       ":   43.936Sample_ 31\n",
       ":   43.616Sample_ 32\n",
       ":   44.0085Sample_ 33\n",
       ":   43.6485Sample_ 34\n",
       ":   44.1225Sample_ 35\n",
       ":   43.9975Sample_ 36\n",
       ":   43.996Sample_ 37\n",
       ":   44.0465Sample_ 38\n",
       ":   44.4005Sample_ 39\n",
       ":   43.632Sample_ 40\n",
       ":   44.6285Sample_ 41\n",
       ":   44.0965Sample_ 42\n",
       ":   43.605Sample_ 43\n",
       ":   44.422Sample_ 44\n",
       ":   44.15Sample_ 45\n",
       ":   43.9005Sample_ 46\n",
       ":   44.205Sample_ 47\n",
       ":   44.333Sample_ 48\n",
       ":   44.4215Sample_ 49\n",
       ":   43.518Sample_ 50\n",
       ":   44.199Sample_ 51\n",
       ":   43.8665Sample_ 52\n",
       ":   44.193Sample_ 53\n",
       ":   44.1825Sample_ 54\n",
       ":   43.9515Sample_ 55\n",
       ":   44.427Sample_ 56\n",
       ":   44.1925Sample_ 57\n",
       ":   43.9935Sample_ 58\n",
       ":   44.3995Sample_ 59\n",
       ":   44.455Sample_ 60\n",
       ":   43.7735Sample_ 61\n",
       ":   43.904Sample_ 62\n",
       ":   43.696Sample_ 63\n",
       ":   44.238Sample_ 64\n",
       ":   44.3075Sample_ 65\n",
       ":   43.74Sample_ 66\n",
       ":   43.6535Sample_ 67\n",
       ":   44.091Sample_ 68\n",
       ":   43.8815Sample_ 69\n",
       ":   43.893Sample_ 70\n",
       ":   44.5225Sample_ 71\n",
       ":   43.515Sample_ 72\n",
       ":   44.4935Sample_ 73\n",
       ":   44.0215Sample_ 74\n",
       ":   44.546Sample_ 75\n",
       ":   43.9345Sample_ 76\n",
       ":   44.0135Sample_ 77\n",
       ":   43.714Sample_ 78\n",
       ":   44.311Sample_ 79\n",
       ":   43.7955Sample_ 80\n",
       ":   44.2495Sample_ 81\n",
       ":   44.117Sample_ 82\n",
       ":   44.1055Sample_ 83\n",
       ":   43.833Sample_ 84\n",
       ":   43.977Sample_ 85\n",
       ":   43.9205Sample_ 86\n",
       ":   44.2915Sample_ 87\n",
       ":   44.3365Sample_ 88\n",
       ":   44.2215Sample_ 89\n",
       ":   44.132Sample_ 90\n",
       ":   43.9005Sample_ 91\n",
       ":   44.0505Sample_ 92\n",
       ":   43.467Sample_ 93\n",
       ":   44.1845Sample_ 94\n",
       ":   44.285Sample_ 95\n",
       ":   44.453Sample_ 96\n",
       ":   44.5715Sample_ 97\n",
       ":   44.5835Sample_ 98\n",
       ":   44.0825Sample_ 99\n",
       ":   44.2535Sample_ 100\n",
       ":   44.2035Sample_ 101\n",
       ":   44.1955Sample_ 102\n",
       ":   44.0215Sample_ 103\n",
       ":   44.8165Sample_ 104\n",
       ":   44.184Sample_ 105\n",
       ":   44.0085Sample_ 106\n",
       ":   44.6775Sample_ 107\n",
       ":   44.2205Sample_ 108\n",
       ":   44.009Sample_ 109\n",
       ":   44.041Sample_ 110\n",
       ":   43.921Sample_ 111\n",
       ":   44.389Sample_ 112\n",
       ":   44.4885Sample_ 113\n",
       ":   43.8945Sample_ 114\n",
       ":   44.153Sample_ 115\n",
       ":   44.4635Sample_ 116\n",
       ":   44.001Sample_ 117\n",
       ":   43.6915Sample_ 118\n",
       ":   43.889Sample_ 119\n",
       ":   43.776Sample_ 120\n",
       ":   44.354Sample_ 121\n",
       ":   44.2335Sample_ 122\n",
       ":   44.163Sample_ 123\n",
       ":   44.166Sample_ 124\n",
       ":   44.0995Sample_ 125\n",
       ":   43.8955Sample_ 126\n",
       ":   43.9625Sample_ 127\n",
       ":   43.985Sample_ 128\n",
       ":   43.8645Sample_ 129\n",
       ":   43.6815Sample_ 130\n",
       ":   44.3965Sample_ 131\n",
       ":   44.1325Sample_ 132\n",
       ":   43.9655Sample_ 133\n",
       ":   43.746Sample_ 134\n",
       ":   44.315Sample_ 135\n",
       ":   43.987Sample_ 136\n",
       ":   44.099Sample_ 137\n",
       ":   44.307Sample_ 138\n",
       ":   43.7345Sample_ 139\n",
       ":   43.688Sample_ 140\n",
       ":   44.234Sample_ 141\n",
       ":   44.173Sample_ 142\n",
       ":   43.9105Sample_ 143\n",
       ":   44.2815Sample_ 144\n",
       ":   44.3135Sample_ 145\n",
       ":   43.831Sample_ 146\n",
       ":   43.983Sample_ 147\n",
       ":   44.7185Sample_ 148\n",
       ":   44.382Sample_ 149\n",
       ":   44.0395Sample_ 150\n",
       ":   43.5655Sample_ 151\n",
       ":   44.0745Sample_ 152\n",
       ":   43.558Sample_ 153\n",
       ":   43.723Sample_ 154\n",
       ":   43.9255Sample_ 155\n",
       ":   44.002Sample_ 156\n",
       ":   43.4695Sample_ 157\n",
       ":   44.1355Sample_ 158\n",
       ":   44.031Sample_ 159\n",
       ":   43.4125Sample_ 160\n",
       ":   43.3515Sample_ 161\n",
       ":   44.2365Sample_ 162\n",
       ":   43.863Sample_ 163\n",
       ":   43.9555Sample_ 164\n",
       ":   44.054Sample_ 165\n",
       ":   43.7585Sample_ 166\n",
       ":   43.9365Sample_ 167\n",
       ":   43.1755Sample_ 168\n",
       ":   44.2375Sample_ 169\n",
       ":   43.9465Sample_ 170\n",
       ":   44.1225Sample_ 171\n",
       ":   43.8425Sample_ 172\n",
       ":   44.423Sample_ 173\n",
       ":   44.346Sample_ 174\n",
       ":   43.4915Sample_ 175\n",
       ":   44.153Sample_ 176\n",
       ":   44.3605Sample_ 177\n",
       ":   43.9135Sample_ 178\n",
       ":   44.508Sample_ 179\n",
       ":   44.0795Sample_ 180\n",
       ":   43.9015Sample_ 181\n",
       ":   44.166Sample_ 182\n",
       ":   44.036Sample_ 183\n",
       ":   44.2505Sample_ 184\n",
       ":   44.3085Sample_ 185\n",
       ":   44.09Sample_ 186\n",
       ":   43.545Sample_ 187\n",
       ":   43.9355Sample_ 188\n",
       ":   44.2755Sample_ 189\n",
       ":   44.0315Sample_ 190\n",
       ":   43.867Sample_ 191\n",
       ":   44.225Sample_ 192\n",
       ":   44.38Sample_ 193\n",
       ":   44.343Sample_ 194\n",
       ":   44.1975Sample_ 195\n",
       ":   44.226Sample_ 196\n",
       ":   44.0435Sample_ 197\n",
       ":   44.32Sample_ 198\n",
       ":   44.0135Sample_ 199\n",
       ":   43.987Sample_ 200\n",
       ":   44.436Sample_ 201\n",
       ":   ⋯Sample_ 202\n",
       ":   43.863Sample_ 203\n",
       ":   44.391Sample_ 204\n",
       ":   44.3645Sample_ 205\n",
       ":   43.826Sample_ 206\n",
       ":   43.869Sample_ 207\n",
       ":   43.952Sample_ 208\n",
       ":   44.069Sample_ 209\n",
       ":   43.838Sample_ 210\n",
       ":   43.62Sample_ 211\n",
       ":   43.9135Sample_ 212\n",
       ":   44.4855Sample_ 213\n",
       ":   44.4365Sample_ 214\n",
       ":   44.2255Sample_ 215\n",
       ":   44.2385Sample_ 216\n",
       ":   44.246Sample_ 217\n",
       ":   44.315Sample_ 218\n",
       ":   43.814Sample_ 219\n",
       ":   44.6025Sample_ 220\n",
       ":   44.0215Sample_ 221\n",
       ":   44.0175Sample_ 222\n",
       ":   44.092Sample_ 223\n",
       ":   43.9425Sample_ 224\n",
       ":   43.7435Sample_ 225\n",
       ":   44.043Sample_ 226\n",
       ":   44.2245Sample_ 227\n",
       ":   44.479Sample_ 228\n",
       ":   43.839Sample_ 229\n",
       ":   44.038Sample_ 230\n",
       ":   43.792Sample_ 231\n",
       ":   43.8655Sample_ 232\n",
       ":   44.3855Sample_ 233\n",
       ":   44.0805Sample_ 234\n",
       ":   44.727Sample_ 235\n",
       ":   43.8005Sample_ 236\n",
       ":   43.7025Sample_ 237\n",
       ":   44.195Sample_ 238\n",
       ":   44.276Sample_ 239\n",
       ":   43.8945Sample_ 240\n",
       ":   44.2205Sample_ 241\n",
       ":   43.9365Sample_ 242\n",
       ":   44.5375Sample_ 243\n",
       ":   44.149Sample_ 244\n",
       ":   43.62Sample_ 245\n",
       ":   44.0205Sample_ 246\n",
       ":   44.3325Sample_ 247\n",
       ":   44.1535Sample_ 248\n",
       ":   44.354Sample_ 249\n",
       ":   44.3015Sample_ 250\n",
       ":   44.268Sample_ 251\n",
       ":   44.2505Sample_ 252\n",
       ":   43.998Sample_ 253\n",
       ":   44.3475Sample_ 254\n",
       ":   44.0315Sample_ 255\n",
       ":   44.5255Sample_ 256\n",
       ":   43.617Sample_ 257\n",
       ":   44.358Sample_ 258\n",
       ":   44.409Sample_ 259\n",
       ":   44.1915Sample_ 260\n",
       ":   44.2175Sample_ 261\n",
       ":   43.771Sample_ 262\n",
       ":   43.4875Sample_ 263\n",
       ":   44.0755Sample_ 264\n",
       ":   43.638Sample_ 265\n",
       ":   43.9595Sample_ 266\n",
       ":   43.348Sample_ 267\n",
       ":   44.2245Sample_ 268\n",
       ":   44.3965Sample_ 269\n",
       ":   44.1705Sample_ 270\n",
       ":   43.7885Sample_ 271\n",
       ":   43.6225Sample_ 272\n",
       ":   44.4645Sample_ 273\n",
       ":   44.093Sample_ 274\n",
       ":   43.891Sample_ 275\n",
       ":   43.9Sample_ 276\n",
       ":   44.157Sample_ 277\n",
       ":   44.1855Sample_ 278\n",
       ":   44.667Sample_ 279\n",
       ":   43.593Sample_ 280\n",
       ":   44.1565Sample_ 281\n",
       ":   44.5065Sample_ 282\n",
       ":   44.162Sample_ 283\n",
       ":   44.251Sample_ 284\n",
       ":   44.1595Sample_ 285\n",
       ":   43.8935Sample_ 286\n",
       ":   44.237Sample_ 287\n",
       ":   44.3815Sample_ 288\n",
       ":   43.612Sample_ 289\n",
       ":   43.8775Sample_ 290\n",
       ":   44.0565Sample_ 291\n",
       ":   43.4605Sample_ 292\n",
       ":   43.6885Sample_ 293\n",
       ":   43.797Sample_ 294\n",
       ":   43.75Sample_ 295\n",
       ":   44.273Sample_ 296\n",
       ":   43.805Sample_ 297\n",
       ":   44.512Sample_ 298\n",
       ":   44.4945Sample_ 299\n",
       ":   43.754Sample_ 300\n",
       ":   43.7295Sample_ 301\n",
       ":   44.228Sample_ 302\n",
       ":   44.6865Sample_ 303\n",
       ":   44.249Sample_ 304\n",
       ":   43.703Sample_ 305\n",
       ":   44.3345Sample_ 306\n",
       ":   44.132Sample_ 307\n",
       ":   43.5745Sample_ 308\n",
       ":   44.089Sample_ 309\n",
       ":   43.9395Sample_ 310\n",
       ":   43.562Sample_ 311\n",
       ":   44.0735Sample_ 312\n",
       ":   44.0365Sample_ 313\n",
       ":   44.3585Sample_ 314\n",
       ":   44.1145Sample_ 315\n",
       ":   43.9485Sample_ 316\n",
       ":   44.58Sample_ 317\n",
       ":   43.933Sample_ 318\n",
       ":   44.1385Sample_ 319\n",
       ":   44.1735Sample_ 320\n",
       ":   44.042Sample_ 321\n",
       ":   44.1805Sample_ 322\n",
       ":   43.956Sample_ 323\n",
       ":   43.976Sample_ 324\n",
       ":   44.1875Sample_ 325\n",
       ":   44.042Sample_ 326\n",
       ":   44.0085Sample_ 327\n",
       ":   44.2275Sample_ 328\n",
       ":   43.9675Sample_ 329\n",
       ":   43.796Sample_ 330\n",
       ":   43.899Sample_ 331\n",
       ":   44.283Sample_ 332\n",
       ":   44.111Sample_ 333\n",
       ":   43.987Sample_ 334\n",
       ":   43.894Sample_ 335\n",
       ":   44.0355Sample_ 336\n",
       ":   44.7925Sample_ 337\n",
       ":   43.585Sample_ 338\n",
       ":   43.908Sample_ 339\n",
       ":   44.0335Sample_ 340\n",
       ":   44.17Sample_ 341\n",
       ":   44.334Sample_ 342\n",
       ":   43.951Sample_ 343\n",
       ":   43.795Sample_ 344\n",
       ":   43.74Sample_ 345\n",
       ":   43.46Sample_ 346\n",
       ":   43.3885Sample_ 347\n",
       ":   43.9095Sample_ 348\n",
       ":   44.447Sample_ 349\n",
       ":   44.0895Sample_ 350\n",
       ":   43.951Sample_ 351\n",
       ":   44.4415Sample_ 352\n",
       ":   43.2195Sample_ 353\n",
       ":   44.409Sample_ 354\n",
       ":   43.8405Sample_ 355\n",
       ":   44.208Sample_ 356\n",
       ":   44.017Sample_ 357\n",
       ":   44.242Sample_ 358\n",
       ":   43.893Sample_ 359\n",
       ":   43.8925Sample_ 360\n",
       ":   44.042Sample_ 361\n",
       ":   43.9775Sample_ 362\n",
       ":   43.5225Sample_ 363\n",
       ":   43.8535Sample_ 364\n",
       ":   43.759Sample_ 365\n",
       ":   44.0975Sample_ 366\n",
       ":   44.1235Sample_ 367\n",
       ":   43.8425Sample_ 368\n",
       ":   43.8595Sample_ 369\n",
       ":   44.1025Sample_ 370\n",
       ":   44.1045Sample_ 371\n",
       ":   44.4355Sample_ 372\n",
       ":   43.954Sample_ 373\n",
       ":   44.2935Sample_ 374\n",
       ":   43.903Sample_ 375\n",
       ":   44.275Sample_ 376\n",
       ":   43.946Sample_ 377\n",
       ":   44.1035Sample_ 378\n",
       ":   44.4525Sample_ 379\n",
       ":   43.826Sample_ 380\n",
       ":   43.985Sample_ 381\n",
       ":   44.0785Sample_ 382\n",
       ":   44.3365Sample_ 383\n",
       ":   43.844Sample_ 384\n",
       ":   44.1035Sample_ 385\n",
       ":   44.189Sample_ 386\n",
       ":   43.913Sample_ 387\n",
       ":   44.469Sample_ 388\n",
       ":   44.0205Sample_ 389\n",
       ":   44.246Sample_ 390\n",
       ":   44.022Sample_ 391\n",
       ":   43.894Sample_ 392\n",
       ":   44.1725Sample_ 393\n",
       ":   44.0335Sample_ 394\n",
       ":   43.9545Sample_ 395\n",
       ":   44.0985Sample_ 396\n",
       ":   43.866Sample_ 397\n",
       ":   43.874Sample_ 398\n",
       ":   44.069Sample_ 399\n",
       ":   44.281Sample_ 400\n",
       ":   43.846Sample_ 401\n",
       ":   44.039\n",
       "\n"
      ],
      "text/plain": [
       "    Sample_1    Sample_ 2    Sample_ 3    Sample_ 4    Sample_ 5    Sample_ 6 \n",
       "     44.0755      43.5835      44.1205      43.6840      43.9090      43.9360 \n",
       "   Sample_ 7    Sample_ 8    Sample_ 9   Sample_ 10   Sample_ 11   Sample_ 12 \n",
       "     44.2960      44.1300      44.0630      44.1565      43.8535      44.0085 \n",
       "  Sample_ 13   Sample_ 14   Sample_ 15   Sample_ 16   Sample_ 17   Sample_ 18 \n",
       "     43.8590      44.4595      44.0685      44.5100      44.2495      43.6605 \n",
       "  Sample_ 19   Sample_ 20   Sample_ 21   Sample_ 22   Sample_ 23   Sample_ 24 \n",
       "     43.7725      43.9725      44.3325      44.4805      43.9145      44.1530 \n",
       "  Sample_ 25   Sample_ 26   Sample_ 27   Sample_ 28   Sample_ 29   Sample_ 30 \n",
       "     43.7375      44.0710      43.9760      44.2445      44.3750      43.9360 \n",
       "  Sample_ 31   Sample_ 32   Sample_ 33   Sample_ 34   Sample_ 35   Sample_ 36 \n",
       "     43.6160      44.0085      43.6485      44.1225      43.9975      43.9960 \n",
       "  Sample_ 37   Sample_ 38   Sample_ 39   Sample_ 40   Sample_ 41   Sample_ 42 \n",
       "     44.0465      44.4005      43.6320      44.6285      44.0965      43.6050 \n",
       "  Sample_ 43   Sample_ 44   Sample_ 45   Sample_ 46   Sample_ 47   Sample_ 48 \n",
       "     44.4220      44.1500      43.9005      44.2050      44.3330      44.4215 \n",
       "  Sample_ 49   Sample_ 50   Sample_ 51   Sample_ 52   Sample_ 53   Sample_ 54 \n",
       "     43.5180      44.1990      43.8665      44.1930      44.1825      43.9515 \n",
       "  Sample_ 55   Sample_ 56   Sample_ 57   Sample_ 58   Sample_ 59   Sample_ 60 \n",
       "     44.4270      44.1925      43.9935      44.3995      44.4550      43.7735 \n",
       "  Sample_ 61   Sample_ 62   Sample_ 63   Sample_ 64   Sample_ 65   Sample_ 66 \n",
       "     43.9040      43.6960      44.2380      44.3075      43.7400      43.6535 \n",
       "  Sample_ 67   Sample_ 68   Sample_ 69   Sample_ 70   Sample_ 71   Sample_ 72 \n",
       "     44.0910      43.8815      43.8930      44.5225      43.5150      44.4935 \n",
       "  Sample_ 73   Sample_ 74   Sample_ 75   Sample_ 76   Sample_ 77   Sample_ 78 \n",
       "     44.0215      44.5460      43.9345      44.0135      43.7140      44.3110 \n",
       "  Sample_ 79   Sample_ 80   Sample_ 81   Sample_ 82   Sample_ 83   Sample_ 84 \n",
       "     43.7955      44.2495      44.1170      44.1055      43.8330      43.9770 \n",
       "  Sample_ 85   Sample_ 86   Sample_ 87   Sample_ 88   Sample_ 89   Sample_ 90 \n",
       "     43.9205      44.2915      44.3365      44.2215      44.1320      43.9005 \n",
       "  Sample_ 91   Sample_ 92   Sample_ 93   Sample_ 94   Sample_ 95   Sample_ 96 \n",
       "     44.0505      43.4670      44.1845      44.2850      44.4530      44.5715 \n",
       "  Sample_ 97   Sample_ 98   Sample_ 99  Sample_ 100  Sample_ 101  Sample_ 102 \n",
       "     44.5835      44.0825      44.2535      44.2035      44.1955      44.0215 \n",
       " Sample_ 103  Sample_ 104  Sample_ 105  Sample_ 106  Sample_ 107  Sample_ 108 \n",
       "     44.8165      44.1840      44.0085      44.6775      44.2205      44.0090 \n",
       " Sample_ 109  Sample_ 110  Sample_ 111  Sample_ 112  Sample_ 113  Sample_ 114 \n",
       "     44.0410      43.9210      44.3890      44.4885      43.8945      44.1530 \n",
       " Sample_ 115  Sample_ 116  Sample_ 117  Sample_ 118  Sample_ 119  Sample_ 120 \n",
       "     44.4635      44.0010      43.6915      43.8890      43.7760      44.3540 \n",
       " Sample_ 121  Sample_ 122  Sample_ 123  Sample_ 124  Sample_ 125  Sample_ 126 \n",
       "     44.2335      44.1630      44.1660      44.0995      43.8955      43.9625 \n",
       " Sample_ 127  Sample_ 128  Sample_ 129  Sample_ 130  Sample_ 131  Sample_ 132 \n",
       "     43.9850      43.8645      43.6815      44.3965      44.1325      43.9655 \n",
       " Sample_ 133  Sample_ 134  Sample_ 135  Sample_ 136  Sample_ 137  Sample_ 138 \n",
       "     43.7460      44.3150      43.9870      44.0990      44.3070      43.7345 \n",
       " Sample_ 139  Sample_ 140  Sample_ 141  Sample_ 142  Sample_ 143  Sample_ 144 \n",
       "     43.6880      44.2340      44.1730      43.9105      44.2815      44.3135 \n",
       " Sample_ 145  Sample_ 146  Sample_ 147  Sample_ 148  Sample_ 149  Sample_ 150 \n",
       "     43.8310      43.9830      44.7185      44.3820      44.0395      43.5655 \n",
       " Sample_ 151  Sample_ 152  Sample_ 153  Sample_ 154  Sample_ 155  Sample_ 156 \n",
       "     44.0745      43.5580      43.7230      43.9255      44.0020      43.4695 \n",
       " Sample_ 157  Sample_ 158  Sample_ 159  Sample_ 160  Sample_ 161  Sample_ 162 \n",
       "     44.1355      44.0310      43.4125      43.3515      44.2365      43.8630 \n",
       " Sample_ 163  Sample_ 164  Sample_ 165  Sample_ 166  Sample_ 167  Sample_ 168 \n",
       "     43.9555      44.0540      43.7585      43.9365      43.1755      44.2375 \n",
       " Sample_ 169  Sample_ 170  Sample_ 171  Sample_ 172  Sample_ 173  Sample_ 174 \n",
       "     43.9465      44.1225      43.8425      44.4230      44.3460      43.4915 \n",
       " Sample_ 175  Sample_ 176  Sample_ 177  Sample_ 178  Sample_ 179  Sample_ 180 \n",
       "     44.1530      44.3605      43.9135      44.5080      44.0795      43.9015 \n",
       " Sample_ 181  Sample_ 182  Sample_ 183  Sample_ 184  Sample_ 185  Sample_ 186 \n",
       "     44.1660      44.0360      44.2505      44.3085      44.0900      43.5450 \n",
       " Sample_ 187  Sample_ 188  Sample_ 189  Sample_ 190  Sample_ 191  Sample_ 192 \n",
       "     43.9355      44.2755      44.0315      43.8670      44.2250      44.3800 \n",
       " Sample_ 193  Sample_ 194  Sample_ 195  Sample_ 196  Sample_ 197  Sample_ 198 \n",
       "     44.3430      44.1975      44.2260      44.0435      44.3200      44.0135 \n",
       " Sample_ 199  Sample_ 200  Sample_ 201  Sample_ 202  Sample_ 203  Sample_ 204 \n",
       "     43.9870      44.4360      44.2610      44.4420      44.0515      43.7735 \n",
       " Sample_ 205  Sample_ 206  Sample_ 207  Sample_ 208  Sample_ 209  Sample_ 210 \n",
       "     43.8540      44.4090      43.5645      43.6835      44.2000      43.6210 \n",
       " Sample_ 211  Sample_ 212  Sample_ 213  Sample_ 214  Sample_ 215  Sample_ 216 \n",
       "     44.0810      43.7730      44.3155      44.1140      44.1315      43.8205 \n",
       " Sample_ 217  Sample_ 218  Sample_ 219  Sample_ 220  Sample_ 221  Sample_ 222 \n",
       "     44.4230      43.5375      44.2490      43.9150      43.7915      43.6195 \n",
       " Sample_ 223  Sample_ 224  Sample_ 225  Sample_ 226  Sample_ 227  Sample_ 228 \n",
       "     43.7600      44.3205      44.1370      44.0310      43.9140      44.1455 \n",
       " Sample_ 229  Sample_ 230  Sample_ 231  Sample_ 232  Sample_ 233  Sample_ 234 \n",
       "     44.1570      43.7215      44.1255      43.7190      43.5995      44.2850 \n",
       " Sample_ 235  Sample_ 236  Sample_ 237  Sample_ 238  Sample_ 239  Sample_ 240 \n",
       "     43.8680      44.1130      44.4410      43.9435      43.5945      43.9610 \n",
       " Sample_ 241  Sample_ 242  Sample_ 243  Sample_ 244  Sample_ 245  Sample_ 246 \n",
       "     44.5010      43.3460      44.0510      43.6055      44.3370      43.6980 \n",
       " Sample_ 247  Sample_ 248  Sample_ 249  Sample_ 250  Sample_ 251  Sample_ 252 \n",
       "     43.8180      43.5805      43.6020      43.4660      43.7665      44.2485 \n",
       " Sample_ 253  Sample_ 254  Sample_ 255  Sample_ 256  Sample_ 257  Sample_ 258 \n",
       "     43.9480      44.0175      43.5315      44.1620      44.1795      43.6745 \n",
       " Sample_ 259  Sample_ 260  Sample_ 261  Sample_ 262  Sample_ 263  Sample_ 264 \n",
       "     44.0020      44.0705      44.2720      44.1490      43.8250      44.3590 \n",
       " Sample_ 265  Sample_ 266  Sample_ 267  Sample_ 268  Sample_ 269  Sample_ 270 \n",
       "     43.5600      44.1260      44.1925      44.2850      44.4245      43.7620 \n",
       " Sample_ 271  Sample_ 272  Sample_ 273  Sample_ 274  Sample_ 275  Sample_ 276 \n",
       "     44.0900      44.0390      44.1860      44.3170      44.1975      44.1820 \n",
       " Sample_ 277  Sample_ 278  Sample_ 279  Sample_ 280  Sample_ 281  Sample_ 282 \n",
       "     44.0675      44.0380      44.3205      44.1145      43.9580      43.8640 \n",
       " Sample_ 283  Sample_ 284  Sample_ 285  Sample_ 286  Sample_ 287  Sample_ 288 \n",
       "     44.7720      44.0090      43.9620      44.2435      43.6855      43.9440 \n",
       " Sample_ 289  Sample_ 290  Sample_ 291  Sample_ 292  Sample_ 293  Sample_ 294 \n",
       "     44.0085      43.7700      44.1115      44.0325      44.0915      43.6970 \n",
       " Sample_ 295  Sample_ 296  Sample_ 297  Sample_ 298  Sample_ 299  Sample_ 300 \n",
       "     43.6370      43.9725      44.1510      43.9545      43.7930      43.9675 \n",
       " Sample_ 301  Sample_ 302  Sample_ 303  Sample_ 304  Sample_ 305  Sample_ 306 \n",
       "     43.6125      43.8425      43.8780      44.7050      44.2605      44.1510 \n",
       " Sample_ 307  Sample_ 308  Sample_ 309  Sample_ 310  Sample_ 311  Sample_ 312 \n",
       "     44.3435      43.7780      43.8470      44.2345      44.1990      44.0475 \n",
       " Sample_ 313  Sample_ 314  Sample_ 315  Sample_ 316  Sample_ 317  Sample_ 318 \n",
       "     44.0330      44.2095      44.0040      43.6710      44.3615      44.3850 \n",
       " Sample_ 319  Sample_ 320  Sample_ 321  Sample_ 322  Sample_ 323  Sample_ 324 \n",
       "     44.4535      44.1915      44.3340      44.2545      44.0630      44.0280 \n",
       " Sample_ 325  Sample_ 326  Sample_ 327  Sample_ 328  Sample_ 329  Sample_ 330 \n",
       "     44.0320      44.1765      43.8975      43.7695      44.5715      43.6115 \n",
       " Sample_ 331  Sample_ 332  Sample_ 333  Sample_ 334  Sample_ 335  Sample_ 336 \n",
       "     44.1640      44.1180      44.4465      44.5425      43.7720      43.8995 \n",
       " Sample_ 337  Sample_ 338  Sample_ 339  Sample_ 340  Sample_ 341  Sample_ 342 \n",
       "     44.1635      44.0365      44.4805      44.2340      43.9795      43.7435 \n",
       " Sample_ 343  Sample_ 344  Sample_ 345  Sample_ 346  Sample_ 347  Sample_ 348 \n",
       "     44.1740      43.9695      43.7415      43.6925      43.9705      44.3780 \n",
       " Sample_ 349  Sample_ 350  Sample_ 351  Sample_ 352  Sample_ 353  Sample_ 354 \n",
       "     44.3100      44.3460      44.0400      43.9760      43.9715      44.3425 \n",
       " Sample_ 355  Sample_ 356  Sample_ 357  Sample_ 358  Sample_ 359  Sample_ 360 \n",
       "     44.2450      44.0825      44.3445      44.3990      44.1855      43.5305 \n",
       " Sample_ 361  Sample_ 362  Sample_ 363  Sample_ 364  Sample_ 365  Sample_ 366 \n",
       "     44.0255      44.3530      43.9920      44.0490      44.3325      44.0760 \n",
       " Sample_ 367  Sample_ 368  Sample_ 369  Sample_ 370  Sample_ 371  Sample_ 372 \n",
       "     43.7320      44.0150      43.6890      43.6640      43.9475      44.2835 \n",
       " Sample_ 373  Sample_ 374  Sample_ 375  Sample_ 376  Sample_ 377  Sample_ 378 \n",
       "     44.3590      44.0005      44.0680      43.9030      43.8720      43.6635 \n",
       " Sample_ 379  Sample_ 380  Sample_ 381  Sample_ 382  Sample_ 383  Sample_ 384 \n",
       "     43.8525      44.0040      44.6350      43.9565      43.8505      43.6560 \n",
       " Sample_ 385  Sample_ 386  Sample_ 387  Sample_ 388  Sample_ 389  Sample_ 390 \n",
       "     43.8775      43.9945      44.1960      43.8085      44.6980      43.3635 \n",
       " Sample_ 391  Sample_ 392  Sample_ 393  Sample_ 394  Sample_ 395  Sample_ 396 \n",
       "     44.2475      43.5940      43.8650      44.3215      44.1985      44.3870 \n",
       " Sample_ 397  Sample_ 398  Sample_ 399  Sample_ 400  Sample_ 401  Sample_ 402 \n",
       "     43.6560      44.2780      44.3395      43.8010      44.1270      43.8070 \n",
       " Sample_ 403  Sample_ 404  Sample_ 405  Sample_ 406  Sample_ 407  Sample_ 408 \n",
       "     43.9700      43.9215      44.0895      43.9850      43.6655      44.0590 \n",
       " Sample_ 409  Sample_ 410  Sample_ 411  Sample_ 412  Sample_ 413  Sample_ 414 \n",
       "     44.0565      44.2430      44.1535      43.9905      43.5950      43.8370 \n",
       " Sample_ 415  Sample_ 416  Sample_ 417  Sample_ 418  Sample_ 419  Sample_ 420 \n",
       "     44.0420      44.1870      43.7090      44.4910      43.9645      43.5765 \n",
       " Sample_ 421  Sample_ 422  Sample_ 423  Sample_ 424  Sample_ 425  Sample_ 426 \n",
       "     43.8020      44.0005      44.1070      43.6740      43.8410      44.1505 \n",
       " Sample_ 427  Sample_ 428  Sample_ 429  Sample_ 430  Sample_ 431  Sample_ 432 \n",
       "     44.3310      43.4675      44.2025      44.0595      44.0705      44.0255 \n",
       " Sample_ 433  Sample_ 434  Sample_ 435  Sample_ 436  Sample_ 437  Sample_ 438 \n",
       "     43.6715      44.2175      44.0525      43.8065      43.7660      44.3230 \n",
       " Sample_ 439  Sample_ 440  Sample_ 441  Sample_ 442  Sample_ 443  Sample_ 444 \n",
       "     44.0045      43.7475      44.1850      44.1535      44.1190      44.0625 \n",
       " Sample_ 445  Sample_ 446  Sample_ 447  Sample_ 448  Sample_ 449  Sample_ 450 \n",
       "     44.2290      44.5645      44.0150      43.6350      44.0430      44.4515 \n",
       " Sample_ 451  Sample_ 452  Sample_ 453  Sample_ 454  Sample_ 455  Sample_ 456 \n",
       "     44.3240      43.9035      43.7635      44.2525      43.7000      43.7270 \n",
       " Sample_ 457  Sample_ 458  Sample_ 459  Sample_ 460  Sample_ 461  Sample_ 462 \n",
       "     44.0935      44.6350      43.6980      43.7485      43.9690      44.5620 \n",
       " Sample_ 463  Sample_ 464  Sample_ 465  Sample_ 466  Sample_ 467  Sample_ 468 \n",
       "     43.7055      44.0330      44.2355      44.0120      44.3210      44.2365 \n",
       " Sample_ 469  Sample_ 470  Sample_ 471  Sample_ 472  Sample_ 473  Sample_ 474 \n",
       "     43.9130      43.7910      43.8815      43.7205      44.1335      44.1995 \n",
       " Sample_ 475  Sample_ 476  Sample_ 477  Sample_ 478  Sample_ 479  Sample_ 480 \n",
       "     43.6200      44.1745      44.1595      43.8415      44.2175      43.8315 \n",
       " Sample_ 481  Sample_ 482  Sample_ 483  Sample_ 484  Sample_ 485  Sample_ 486 \n",
       "     44.6950      44.4050      43.8215      43.8815      43.5050      44.1765 \n",
       " Sample_ 487  Sample_ 488  Sample_ 489  Sample_ 490  Sample_ 491  Sample_ 492 \n",
       "     44.1285      44.1030      43.8920      44.3625      43.9005      44.3480 \n",
       " Sample_ 493  Sample_ 494  Sample_ 495  Sample_ 496  Sample_ 497  Sample_ 498 \n",
       "     44.0450      43.9885      44.1325      44.0785      43.7875      44.1540 \n",
       " Sample_ 499  Sample_ 500  Sample_ 501  Sample_ 502  Sample_ 503  Sample_ 504 \n",
       "     44.0265      44.0650      44.5325      44.0670      44.1225      44.0790 \n",
       " Sample_ 505  Sample_ 506  Sample_ 507  Sample_ 508  Sample_ 509  Sample_ 510 \n",
       "     44.2265      43.7345      43.8970      44.1015      44.3750      43.8340 \n",
       " Sample_ 511  Sample_ 512  Sample_ 513  Sample_ 514  Sample_ 515  Sample_ 516 \n",
       "     44.1110      43.9750      43.5505      43.5505      44.4075      44.3315 \n",
       " Sample_ 517  Sample_ 518  Sample_ 519  Sample_ 520  Sample_ 521  Sample_ 522 \n",
       "     44.0985      44.2865      43.7290      44.2355      43.9995      43.9470 \n",
       " Sample_ 523  Sample_ 524  Sample_ 525  Sample_ 526  Sample_ 527  Sample_ 528 \n",
       "     44.2750      44.0705      44.0570      44.0090      44.1180      44.2125 \n",
       " Sample_ 529  Sample_ 530  Sample_ 531  Sample_ 532  Sample_ 533  Sample_ 534 \n",
       "     44.1865      44.5495      44.3585      44.4280      43.9390      43.8570 \n",
       " Sample_ 535  Sample_ 536  Sample_ 537  Sample_ 538  Sample_ 539  Sample_ 540 \n",
       "     44.3705      43.6700      44.4450      44.1510      44.4415      43.9760 \n",
       " Sample_ 541  Sample_ 542  Sample_ 543  Sample_ 544  Sample_ 545  Sample_ 546 \n",
       "     43.9885      43.9795      44.4520      44.1710      44.3740      43.8780 \n",
       " Sample_ 547  Sample_ 548  Sample_ 549  Sample_ 550  Sample_ 551  Sample_ 552 \n",
       "     43.7445      44.0970      44.1105      44.0735      43.5265      43.7510 \n",
       " Sample_ 553  Sample_ 554  Sample_ 555  Sample_ 556  Sample_ 557  Sample_ 558 \n",
       "     43.7515      43.9545      43.5460      43.9595      44.4205      43.8240 \n",
       " Sample_ 559  Sample_ 560  Sample_ 561  Sample_ 562  Sample_ 563  Sample_ 564 \n",
       "     43.8365      44.2300      44.1265      44.0295      43.7770      44.3105 \n",
       " Sample_ 565  Sample_ 566  Sample_ 567  Sample_ 568  Sample_ 569  Sample_ 570 \n",
       "     44.1685      43.5270      43.6140      44.0340      44.3275      43.9640 \n",
       " Sample_ 571  Sample_ 572  Sample_ 573  Sample_ 574  Sample_ 575  Sample_ 576 \n",
       "     44.1085      43.7300      44.2630      44.1890      44.1000      43.8965 \n",
       " Sample_ 577  Sample_ 578  Sample_ 579  Sample_ 580  Sample_ 581  Sample_ 582 \n",
       "     43.9605      44.3550      43.5975      43.7370      43.7095      44.3340 \n",
       " Sample_ 583  Sample_ 584  Sample_ 585  Sample_ 586  Sample_ 587  Sample_ 588 \n",
       "     44.0890      44.6910      43.4195      44.1570      44.2185      44.0965 \n",
       " Sample_ 589  Sample_ 590  Sample_ 591  Sample_ 592  Sample_ 593  Sample_ 594 \n",
       "     44.2490      44.2585      44.1145      43.8485      44.6385      44.0205 \n",
       " Sample_ 595  Sample_ 596  Sample_ 597  Sample_ 598  Sample_ 599  Sample_ 600 \n",
       "     43.9880      43.5875      44.4010      44.1110      44.0670      44.2305 \n",
       " Sample_ 601  Sample_ 602  Sample_ 603  Sample_ 604  Sample_ 605  Sample_ 606 \n",
       "     44.0550      44.1395      44.1475      43.6685      44.2050      44.5380 \n",
       " Sample_ 607  Sample_ 608  Sample_ 609  Sample_ 610  Sample_ 611  Sample_ 612 \n",
       "     43.6390      44.0335      43.9825      43.5065      43.7700      44.1615 \n",
       " Sample_ 613  Sample_ 614  Sample_ 615  Sample_ 616  Sample_ 617  Sample_ 618 \n",
       "     44.2975      44.4060      43.6640      44.3275      43.7690      44.5130 \n",
       " Sample_ 619  Sample_ 620  Sample_ 621  Sample_ 622  Sample_ 623  Sample_ 624 \n",
       "     43.9335      44.0430      43.9525      44.4555      44.3090      44.3005 \n",
       " Sample_ 625  Sample_ 626  Sample_ 627  Sample_ 628  Sample_ 629  Sample_ 630 \n",
       "     44.4055      44.1945      44.5700      43.7780      43.6605      44.1115 \n",
       " Sample_ 631  Sample_ 632  Sample_ 633  Sample_ 634  Sample_ 635  Sample_ 636 \n",
       "     44.4625      44.0425      43.9635      44.0370      43.9590      43.8680 \n",
       " Sample_ 637  Sample_ 638  Sample_ 639  Sample_ 640  Sample_ 641  Sample_ 642 \n",
       "     44.0270      44.1635      43.9560      44.1570      43.7300      44.4025 \n",
       " Sample_ 643  Sample_ 644  Sample_ 645  Sample_ 646  Sample_ 647  Sample_ 648 \n",
       "     43.6675      43.7430      43.7675      43.9120      44.0725      44.0190 \n",
       " Sample_ 649  Sample_ 650  Sample_ 651  Sample_ 652  Sample_ 653  Sample_ 654 \n",
       "     43.7950      44.0425      44.2070      44.1585      44.7375      43.5295 \n",
       " Sample_ 655  Sample_ 656  Sample_ 657  Sample_ 658  Sample_ 659  Sample_ 660 \n",
       "     44.1605      43.9300      44.0025      44.0985      43.9070      44.1625 \n",
       " Sample_ 661  Sample_ 662  Sample_ 663  Sample_ 664  Sample_ 665  Sample_ 666 \n",
       "     44.2510      43.8305      44.0545      44.0380      44.1810      43.9195 \n",
       " Sample_ 667  Sample_ 668  Sample_ 669  Sample_ 670  Sample_ 671  Sample_ 672 \n",
       "     44.4020      43.6970      45.0570      44.5930      44.6075      43.8175 \n",
       " Sample_ 673  Sample_ 674  Sample_ 675  Sample_ 676  Sample_ 677  Sample_ 678 \n",
       "     43.6260      44.1630      44.2585      44.0630      43.4845      44.0230 \n",
       " Sample_ 679  Sample_ 680  Sample_ 681  Sample_ 682  Sample_ 683  Sample_ 684 \n",
       "     44.4255      44.2430      43.6430      44.7695      44.1935      44.1155 \n",
       " Sample_ 685  Sample_ 686  Sample_ 687  Sample_ 688  Sample_ 689  Sample_ 690 \n",
       "     44.0285      43.9850      44.2265      43.4875      43.8575      44.1905 \n",
       " Sample_ 691  Sample_ 692  Sample_ 693  Sample_ 694  Sample_ 695  Sample_ 696 \n",
       "     44.0285      43.9925      43.8155      44.0085      44.0835      44.2910 \n",
       " Sample_ 697  Sample_ 698  Sample_ 699  Sample_ 700  Sample_ 701  Sample_ 702 \n",
       "     44.3225      43.9460      44.0880      44.0915      44.5220      43.9235 \n",
       " Sample_ 703  Sample_ 704  Sample_ 705  Sample_ 706  Sample_ 707  Sample_ 708 \n",
       "     44.1060      44.2390      44.3630      44.1390      44.2055      43.7170 \n",
       " Sample_ 709  Sample_ 710  Sample_ 711  Sample_ 712  Sample_ 713  Sample_ 714 \n",
       "     43.8450      43.8555      43.5725      44.1835      44.1275      44.1310 \n",
       " Sample_ 715  Sample_ 716  Sample_ 717  Sample_ 718  Sample_ 719  Sample_ 720 \n",
       "     43.9360      43.9900      44.0965      43.9230      44.7975      44.2545 \n",
       " Sample_ 721  Sample_ 722  Sample_ 723  Sample_ 724  Sample_ 725  Sample_ 726 \n",
       "     44.5225      43.7045      44.0790      43.7350      43.8955      43.9270 \n",
       " Sample_ 727  Sample_ 728  Sample_ 729  Sample_ 730  Sample_ 731  Sample_ 732 \n",
       "     43.7420      44.2145      43.8300      43.7770      44.3885      44.1705 \n",
       " Sample_ 733  Sample_ 734  Sample_ 735  Sample_ 736  Sample_ 737  Sample_ 738 \n",
       "     44.0385      43.9510      43.6495      43.9335      44.3440      43.8870 \n",
       " Sample_ 739  Sample_ 740  Sample_ 741  Sample_ 742  Sample_ 743  Sample_ 744 \n",
       "     44.0700      44.2365      43.6925      43.9045      44.2100      44.2585 \n",
       " Sample_ 745  Sample_ 746  Sample_ 747  Sample_ 748  Sample_ 749  Sample_ 750 \n",
       "     44.1135      44.5765      44.2425      43.9500      43.6555      43.9450 \n",
       " Sample_ 751  Sample_ 752  Sample_ 753  Sample_ 754  Sample_ 755  Sample_ 756 \n",
       "     43.5840      43.8825      43.9280      44.8585      44.4345      44.3795 \n",
       " Sample_ 757  Sample_ 758  Sample_ 759  Sample_ 760  Sample_ 761  Sample_ 762 \n",
       "     44.1135      44.0405      44.1855      44.2320      43.9865      44.0610 \n",
       " Sample_ 763  Sample_ 764  Sample_ 765  Sample_ 766  Sample_ 767  Sample_ 768 \n",
       "     43.9575      44.0010      44.1865      44.0880      43.9400      43.8380 \n",
       " Sample_ 769  Sample_ 770  Sample_ 771  Sample_ 772  Sample_ 773  Sample_ 774 \n",
       "     43.6075      43.7035      44.7360      44.1610      43.9865      43.7345 \n",
       " Sample_ 775  Sample_ 776  Sample_ 777  Sample_ 778  Sample_ 779  Sample_ 780 \n",
       "     44.1470      44.0260      44.2875      44.1385      43.7000      44.3935 \n",
       " Sample_ 781  Sample_ 782  Sample_ 783  Sample_ 784  Sample_ 785  Sample_ 786 \n",
       "     44.0785      44.2265      44.0485      44.1480      44.3410      43.8270 \n",
       " Sample_ 787  Sample_ 788  Sample_ 789  Sample_ 790  Sample_ 791  Sample_ 792 \n",
       "     44.3655      44.2535      44.3620      43.8265      44.2595      44.1840 \n",
       " Sample_ 793  Sample_ 794  Sample_ 795  Sample_ 796  Sample_ 797  Sample_ 798 \n",
       "     43.9740      44.0055      44.4460      44.2535      44.2380      43.6600 \n",
       " Sample_ 799  Sample_ 800  Sample_ 801  Sample_ 802  Sample_ 803  Sample_ 804 \n",
       "     43.8340      44.5820      44.4320      44.3775      44.2875      44.2700 \n",
       " Sample_ 805  Sample_ 806  Sample_ 807  Sample_ 808  Sample_ 809  Sample_ 810 \n",
       "     44.1385      44.1885      44.2335      44.5555      44.0815      44.3900 \n",
       " Sample_ 811  Sample_ 812  Sample_ 813  Sample_ 814  Sample_ 815  Sample_ 816 \n",
       "     43.8145      44.3730      44.8065      44.1985      44.1185      44.0380 \n",
       " Sample_ 817  Sample_ 818  Sample_ 819  Sample_ 820  Sample_ 821  Sample_ 822 \n",
       "     43.8175      43.8350      44.0055      44.0360      43.6635      43.6860 \n",
       " Sample_ 823  Sample_ 824  Sample_ 825  Sample_ 826  Sample_ 827  Sample_ 828 \n",
       "     44.4010      44.2495      43.9885      44.5870      44.3740      44.3560 \n",
       " Sample_ 829  Sample_ 830  Sample_ 831  Sample_ 832  Sample_ 833  Sample_ 834 \n",
       "     43.9900      44.3640      44.3420      44.0200      43.6945      43.9605 \n",
       " Sample_ 835  Sample_ 836  Sample_ 837  Sample_ 838  Sample_ 839  Sample_ 840 \n",
       "     44.6265      44.0140      43.7910      44.3500      44.2650      44.0180 \n",
       " Sample_ 841  Sample_ 842  Sample_ 843  Sample_ 844  Sample_ 845  Sample_ 846 \n",
       "     43.8150      43.7830      44.0125      43.8520      44.1280      44.0835 \n",
       " Sample_ 847  Sample_ 848  Sample_ 849  Sample_ 850  Sample_ 851  Sample_ 852 \n",
       "     44.2185      44.8380      44.1415      43.9295      44.3740      44.3260 \n",
       " Sample_ 853  Sample_ 854  Sample_ 855  Sample_ 856  Sample_ 857  Sample_ 858 \n",
       "     43.9270      43.6175      43.7230      44.4615      44.3145      43.9400 \n",
       " Sample_ 859  Sample_ 860  Sample_ 861  Sample_ 862  Sample_ 863  Sample_ 864 \n",
       "     44.0650      44.3495      44.1345      43.7650      43.8705      44.2895 \n",
       " Sample_ 865  Sample_ 866  Sample_ 867  Sample_ 868  Sample_ 869  Sample_ 870 \n",
       "     43.8760      44.2120      43.7760      44.0080      44.0305      43.9225 \n",
       " Sample_ 871  Sample_ 872  Sample_ 873  Sample_ 874  Sample_ 875  Sample_ 876 \n",
       "     44.2530      44.3565      43.9590      43.4700      44.0765      44.1685 \n",
       " Sample_ 877  Sample_ 878  Sample_ 879  Sample_ 880  Sample_ 881  Sample_ 882 \n",
       "     43.6925      43.9225      43.9470      44.2550      43.8900      43.9195 \n",
       " Sample_ 883  Sample_ 884  Sample_ 885  Sample_ 886  Sample_ 887  Sample_ 888 \n",
       "     44.2985      44.0950      43.9575      44.4345      43.7200      43.9015 \n",
       " Sample_ 889  Sample_ 890  Sample_ 891  Sample_ 892  Sample_ 893  Sample_ 894 \n",
       "     43.9330      44.0510      43.8685      44.2665      43.9125      44.0735 \n",
       " Sample_ 895  Sample_ 896  Sample_ 897  Sample_ 898  Sample_ 899  Sample_ 900 \n",
       "     44.5475      43.2025      44.1935      44.0595      43.7020      43.7470 \n",
       " Sample_ 901  Sample_ 902  Sample_ 903  Sample_ 904  Sample_ 905  Sample_ 906 \n",
       "     44.2365      43.8575      44.1310      44.1375      44.0965      44.0125 \n",
       " Sample_ 907  Sample_ 908  Sample_ 909  Sample_ 910  Sample_ 911  Sample_ 912 \n",
       "     43.8640      43.7175      44.4195      44.1520      44.2820      44.6715 \n",
       " Sample_ 913  Sample_ 914  Sample_ 915  Sample_ 916  Sample_ 917  Sample_ 918 \n",
       "     44.0960      44.6525      44.4315      44.3420      43.9895      43.9005 \n",
       " Sample_ 919  Sample_ 920  Sample_ 921  Sample_ 922  Sample_ 923  Sample_ 924 \n",
       "     44.3130      44.0085      44.4105      44.3595      44.1020      44.2550 \n",
       " Sample_ 925  Sample_ 926  Sample_ 927  Sample_ 928  Sample_ 929  Sample_ 930 \n",
       "     43.6265      43.6895      43.5065      44.2885      43.6530      44.1200 \n",
       " Sample_ 931  Sample_ 932  Sample_ 933  Sample_ 934  Sample_ 935  Sample_ 936 \n",
       "     44.4220      44.6250      43.8975      44.0300      44.7840      43.9040 \n",
       " Sample_ 937  Sample_ 938  Sample_ 939  Sample_ 940  Sample_ 941  Sample_ 942 \n",
       "     44.0040      43.5920      43.7310      44.0720      44.0425      44.3290 \n",
       " Sample_ 943  Sample_ 944  Sample_ 945  Sample_ 946  Sample_ 947  Sample_ 948 \n",
       "     44.0750      43.7170      43.8185      43.9790      44.3840      43.8890 \n",
       " Sample_ 949  Sample_ 950  Sample_ 951  Sample_ 952  Sample_ 953  Sample_ 954 \n",
       "     44.0720      44.4490      43.8615      44.4175      44.1330      43.9795 \n",
       " Sample_ 955  Sample_ 956  Sample_ 957  Sample_ 958  Sample_ 959  Sample_ 960 \n",
       "     44.4020      43.7540      43.8785      44.2155      44.1480      44.0790 \n",
       " Sample_ 961  Sample_ 962  Sample_ 963  Sample_ 964  Sample_ 965  Sample_ 966 \n",
       "     43.9845      44.2035      43.7915      44.0440      44.0595      43.7875 \n",
       " Sample_ 967  Sample_ 968  Sample_ 969  Sample_ 970  Sample_ 971  Sample_ 972 \n",
       "     44.1095      44.1425      44.2045      43.8960      44.0100      44.1120 \n",
       " Sample_ 973  Sample_ 974  Sample_ 975  Sample_ 976  Sample_ 977  Sample_ 978 \n",
       "     43.9120      44.2760      44.1965      44.1855      43.6710      43.9230 \n",
       " Sample_ 979  Sample_ 980  Sample_ 981  Sample_ 982  Sample_ 983  Sample_ 984 \n",
       "     43.9115      43.5390      44.0080      44.2055      44.0240      44.1215 \n",
       " Sample_ 985  Sample_ 986  Sample_ 987  Sample_ 988  Sample_ 989  Sample_ 990 \n",
       "     43.5960      44.1090      43.9395      43.8295      43.7305      43.7730 \n",
       " Sample_ 991  Sample_ 992  Sample_ 993  Sample_ 994  Sample_ 995  Sample_ 996 \n",
       "     43.5980      44.0335      44.0985      44.3925      44.0995      44.3790 \n",
       " Sample_ 997  Sample_ 998  Sample_ 999 Sample_ 1000 Sample_ 1001 Sample_ 1002 \n",
       "     43.7865      44.2840      44.1775      44.2970      43.7455      44.0420 \n",
       "Sample_ 1003 Sample_ 1004 Sample_ 1005 Sample_ 1006 Sample_ 1007 Sample_ 1008 \n",
       "     44.1660      44.0015      43.8670      44.5375      44.2670      43.9990 \n",
       "Sample_ 1009 Sample_ 1010 Sample_ 1011 Sample_ 1012 Sample_ 1013 Sample_ 1014 \n",
       "     44.1920      43.9585      43.7205      43.6395      44.2170      44.2485 \n",
       "Sample_ 1015 Sample_ 1016 Sample_ 1017 Sample_ 1018 Sample_ 1019 Sample_ 1020 \n",
       "     44.1170      43.9895      43.8110      44.0665      44.4335      43.9440 \n",
       "Sample_ 1021 Sample_ 1022 Sample_ 1023 Sample_ 1024 Sample_ 1025 Sample_ 1026 \n",
       "     44.0980      43.3770      43.5165      44.2655      43.7380      43.5790 \n",
       "Sample_ 1027 Sample_ 1028 Sample_ 1029 Sample_ 1030 Sample_ 1031 Sample_ 1032 \n",
       "     44.2040      43.6550      44.2435      44.2465      44.2530      44.3470 \n",
       "Sample_ 1033 Sample_ 1034 Sample_ 1035 Sample_ 1036 Sample_ 1037 Sample_ 1038 \n",
       "     44.3980      44.2285      44.5255      43.9910      44.0900      44.5540 \n",
       "Sample_ 1039 Sample_ 1040 Sample_ 1041 Sample_ 1042 Sample_ 1043 Sample_ 1044 \n",
       "     44.3685      44.1295      43.6825      44.2400      44.2390      44.1570 \n",
       "Sample_ 1045 Sample_ 1046 Sample_ 1047 Sample_ 1048 Sample_ 1049 Sample_ 1050 \n",
       "     44.2585      43.9200      44.3205      43.7845      43.4555      44.0610 \n",
       "Sample_ 1051 Sample_ 1052 Sample_ 1053 Sample_ 1054 Sample_ 1055 Sample_ 1056 \n",
       "     43.9575      43.7920      43.8915      43.9855      43.8605      43.7020 \n",
       "Sample_ 1057 Sample_ 1058 Sample_ 1059 Sample_ 1060 Sample_ 1061 Sample_ 1062 \n",
       "     44.0375      43.8440      44.2265      44.1555      44.2885      44.2920 \n",
       "Sample_ 1063 Sample_ 1064 Sample_ 1065 Sample_ 1066 Sample_ 1067 Sample_ 1068 \n",
       "     44.2440      44.0370      44.0370      43.8190      44.2310      44.4135 \n",
       "Sample_ 1069 Sample_ 1070 Sample_ 1071 Sample_ 1072 Sample_ 1073 Sample_ 1074 \n",
       "     43.8790      43.8020      43.8530      44.2710      44.4210      43.9130 \n",
       "Sample_ 1075 Sample_ 1076 Sample_ 1077 Sample_ 1078 Sample_ 1079 Sample_ 1080 \n",
       "     44.0170      43.9975      44.1800      44.0375      43.7760      44.1740 \n",
       "Sample_ 1081 Sample_ 1082 Sample_ 1083 Sample_ 1084 Sample_ 1085 Sample_ 1086 \n",
       "     43.7950      44.0495      43.9540      43.7960      43.9725      44.4410 \n",
       "Sample_ 1087 Sample_ 1088 Sample_ 1089 Sample_ 1090 Sample_ 1091 Sample_ 1092 \n",
       "     44.1210      44.2025      44.2290      44.0845      44.4525      44.0845 \n",
       "Sample_ 1093 Sample_ 1094 Sample_ 1095 Sample_ 1096 Sample_ 1097 Sample_ 1098 \n",
       "     43.7340      44.4385      43.9985      44.1995      44.6620      43.1975 \n",
       "Sample_ 1099 Sample_ 1100 Sample_ 1101 Sample_ 1102 Sample_ 1103 Sample_ 1104 \n",
       "     44.0810      44.0685      43.9865      44.0905      43.8205      43.8185 \n",
       "Sample_ 1105 Sample_ 1106 Sample_ 1107 Sample_ 1108 Sample_ 1109 Sample_ 1110 \n",
       "     43.7000      44.3390      44.2410      43.7540      43.7865      44.3230 \n",
       "Sample_ 1111 Sample_ 1112 Sample_ 1113 Sample_ 1114 Sample_ 1115 Sample_ 1116 \n",
       "     44.1010      43.5705      44.2630      43.9620      44.0275      44.1865 \n",
       "Sample_ 1117 Sample_ 1118 Sample_ 1119 Sample_ 1120 Sample_ 1121 Sample_ 1122 \n",
       "     44.7470      44.2765      44.2665      44.6725      44.0075      43.8300 \n",
       "Sample_ 1123 Sample_ 1124 Sample_ 1125 Sample_ 1126 Sample_ 1127 Sample_ 1128 \n",
       "     44.2470      44.5375      44.5115      43.8480      44.2440      44.2050 \n",
       "Sample_ 1129 Sample_ 1130 Sample_ 1131 Sample_ 1132 Sample_ 1133 Sample_ 1134 \n",
       "     44.1500      44.2920      44.4935      44.4125      44.3110      44.1665 \n",
       "Sample_ 1135 Sample_ 1136 Sample_ 1137 Sample_ 1138 Sample_ 1139 Sample_ 1140 \n",
       "     43.6665      44.4950      44.3010      43.9065      44.5495      44.3840 \n",
       "Sample_ 1141 Sample_ 1142 Sample_ 1143 Sample_ 1144 Sample_ 1145 Sample_ 1146 \n",
       "     43.9530      43.7015      43.7610      44.3375      43.9315      44.1980 \n",
       "Sample_ 1147 Sample_ 1148 Sample_ 1149 Sample_ 1150 Sample_ 1151 Sample_ 1152 \n",
       "     43.9040      44.4965      43.8705      43.8545      43.8345      44.8165 \n",
       "Sample_ 1153 Sample_ 1154 Sample_ 1155 Sample_ 1156 Sample_ 1157 Sample_ 1158 \n",
       "     44.0745      44.5000      44.4770      43.9060      43.8425      43.6430 \n",
       "Sample_ 1159 Sample_ 1160 Sample_ 1161 Sample_ 1162 Sample_ 1163 Sample_ 1164 \n",
       "     44.0700      43.9205      44.2020      44.3105      43.6650      44.3730 \n",
       "Sample_ 1165 Sample_ 1166 Sample_ 1167 Sample_ 1168 Sample_ 1169 Sample_ 1170 \n",
       "     43.7115      43.8720      44.2110      44.0480      44.1320      43.9950 \n",
       "Sample_ 1171 Sample_ 1172 Sample_ 1173 Sample_ 1174 Sample_ 1175 Sample_ 1176 \n",
       "     44.0825      43.8570      43.4575      44.1475      44.3440      44.2085 \n",
       "Sample_ 1177 Sample_ 1178 Sample_ 1179 Sample_ 1180 Sample_ 1181 Sample_ 1182 \n",
       "     43.7955      44.7300      44.0365      44.5630      44.4220      44.2905 \n",
       "Sample_ 1183 Sample_ 1184 Sample_ 1185 Sample_ 1186 Sample_ 1187 Sample_ 1188 \n",
       "     44.3200      44.6015      44.0870      44.2200      44.1230      43.7395 \n",
       "Sample_ 1189 Sample_ 1190 Sample_ 1191 Sample_ 1192 Sample_ 1193 Sample_ 1194 \n",
       "     43.8365      44.4225      44.3240      43.7765      43.4705      44.0950 \n",
       "Sample_ 1195 Sample_ 1196 Sample_ 1197 Sample_ 1198 Sample_ 1199 Sample_ 1200 \n",
       "     44.0395      44.4590      44.5445      44.1315      43.5730      44.1110 \n",
       "Sample_ 1201 Sample_ 1202 Sample_ 1203 Sample_ 1204 Sample_ 1205 Sample_ 1206 \n",
       "     44.5875      44.2205      44.1795      43.8165      43.8070      43.9890 \n",
       "Sample_ 1207 Sample_ 1208 Sample_ 1209 Sample_ 1210 Sample_ 1211 Sample_ 1212 \n",
       "     43.9360      44.2380      44.0750      43.9565      43.7840      44.3300 \n",
       "Sample_ 1213 Sample_ 1214 Sample_ 1215 Sample_ 1216 Sample_ 1217 Sample_ 1218 \n",
       "     43.6455      43.7890      44.3510      44.3955      44.0585      43.9805 \n",
       "Sample_ 1219 Sample_ 1220 Sample_ 1221 Sample_ 1222 Sample_ 1223 Sample_ 1224 \n",
       "     44.4465      44.3990      43.6990      44.1720      44.1045      44.0880 \n",
       "Sample_ 1225 Sample_ 1226 Sample_ 1227 Sample_ 1228 Sample_ 1229 Sample_ 1230 \n",
       "     43.8960      43.8995      44.3800      43.8120      44.5575      44.1195 \n",
       "Sample_ 1231 Sample_ 1232 Sample_ 1233 Sample_ 1234 Sample_ 1235 Sample_ 1236 \n",
       "     43.8400      44.4805      43.8460      43.7580      43.5795      44.4765 \n",
       "Sample_ 1237 Sample_ 1238 Sample_ 1239 Sample_ 1240 Sample_ 1241 Sample_ 1242 \n",
       "     44.1520      43.3295      43.5845      44.0970      44.0795      44.4520 \n",
       "Sample_ 1243 Sample_ 1244 Sample_ 1245 Sample_ 1246 Sample_ 1247 Sample_ 1248 \n",
       "     44.2190      44.0890      44.3095      44.2000      44.5015      44.1720 \n",
       "Sample_ 1249 Sample_ 1250 Sample_ 1251 Sample_ 1252 Sample_ 1253 Sample_ 1254 \n",
       "     44.0850      44.2395      44.0300      44.3285      44.2070      44.1890 \n",
       "Sample_ 1255 Sample_ 1256 Sample_ 1257 Sample_ 1258 Sample_ 1259 Sample_ 1260 \n",
       "     43.9375      43.7215      44.2575      43.6225      43.7000      44.2990 \n",
       "Sample_ 1261 Sample_ 1262 Sample_ 1263 Sample_ 1264 Sample_ 1265 Sample_ 1266 \n",
       "     44.1060      43.7785      44.2600      43.9605      44.0550      43.8765 \n",
       "Sample_ 1267 Sample_ 1268 Sample_ 1269 Sample_ 1270 Sample_ 1271 Sample_ 1272 \n",
       "     44.2465      43.6850      43.9540      43.9035      44.0555      44.2435 \n",
       "Sample_ 1273 Sample_ 1274 Sample_ 1275 Sample_ 1276 Sample_ 1277 Sample_ 1278 \n",
       "     44.0900      43.8000      43.9020      43.8910      44.3515      44.2155 \n",
       "Sample_ 1279 Sample_ 1280 Sample_ 1281 Sample_ 1282 Sample_ 1283 Sample_ 1284 \n",
       "     43.9950      43.8845      44.0850      44.0120      43.6890      44.0180 \n",
       "Sample_ 1285 Sample_ 1286 Sample_ 1287 Sample_ 1288 Sample_ 1289 Sample_ 1290 \n",
       "     44.0385      44.2235      44.2965      44.3405      43.8260      43.8020 \n",
       "Sample_ 1291 Sample_ 1292 Sample_ 1293 Sample_ 1294 Sample_ 1295 Sample_ 1296 \n",
       "     44.0345      43.9135      44.1035      44.0545      43.9765      44.4450 \n",
       "Sample_ 1297 Sample_ 1298 Sample_ 1299 Sample_ 1300 Sample_ 1301 Sample_ 1302 \n",
       "     44.0395      43.9415      43.9390      44.1035      43.8630      44.3910 \n",
       "Sample_ 1303 Sample_ 1304 Sample_ 1305 Sample_ 1306 Sample_ 1307 Sample_ 1308 \n",
       "     44.3645      43.8260      43.8690      43.9520      44.0690      43.8380 \n",
       "Sample_ 1309 Sample_ 1310 Sample_ 1311 Sample_ 1312 Sample_ 1313 Sample_ 1314 \n",
       "     43.6200      43.9135      44.4855      44.4365      44.2255      44.2385 \n",
       "Sample_ 1315 Sample_ 1316 Sample_ 1317 Sample_ 1318 Sample_ 1319 Sample_ 1320 \n",
       "     44.2460      44.3150      43.8140      44.6025      44.0215      44.0175 \n",
       "Sample_ 1321 Sample_ 1322 Sample_ 1323 Sample_ 1324 Sample_ 1325 Sample_ 1326 \n",
       "     44.0920      43.9425      43.7435      44.0430      44.2245      44.4790 \n",
       "Sample_ 1327 Sample_ 1328 Sample_ 1329 Sample_ 1330 Sample_ 1331 Sample_ 1332 \n",
       "     43.8390      44.0380      43.7920      43.8655      44.3855      44.0805 \n",
       "Sample_ 1333 Sample_ 1334 Sample_ 1335 Sample_ 1336 Sample_ 1337 Sample_ 1338 \n",
       "     44.7270      43.8005      43.7025      44.1950      44.2760      43.8945 \n",
       "Sample_ 1339 Sample_ 1340 Sample_ 1341 Sample_ 1342 Sample_ 1343 Sample_ 1344 \n",
       "     44.2205      43.9365      44.5375      44.1490      43.6200      44.0205 \n",
       "Sample_ 1345 Sample_ 1346 Sample_ 1347 Sample_ 1348 Sample_ 1349 Sample_ 1350 \n",
       "     44.3325      44.1535      44.3540      44.3015      44.2680      44.2505 \n",
       "Sample_ 1351 Sample_ 1352 Sample_ 1353 Sample_ 1354 Sample_ 1355 Sample_ 1356 \n",
       "     43.9980      44.3475      44.0315      44.5255      43.6170      44.3580 \n",
       "Sample_ 1357 Sample_ 1358 Sample_ 1359 Sample_ 1360 Sample_ 1361 Sample_ 1362 \n",
       "     44.4090      44.1915      44.2175      43.7710      43.4875      44.0755 \n",
       "Sample_ 1363 Sample_ 1364 Sample_ 1365 Sample_ 1366 Sample_ 1367 Sample_ 1368 \n",
       "     43.6380      43.9595      43.3480      44.2245      44.3965      44.1705 \n",
       "Sample_ 1369 Sample_ 1370 Sample_ 1371 Sample_ 1372 Sample_ 1373 Sample_ 1374 \n",
       "     43.7885      43.6225      44.4645      44.0930      43.8910      43.9000 \n",
       "Sample_ 1375 Sample_ 1376 Sample_ 1377 Sample_ 1378 Sample_ 1379 Sample_ 1380 \n",
       "     44.1570      44.1855      44.6670      43.5930      44.1565      44.5065 \n",
       "Sample_ 1381 Sample_ 1382 Sample_ 1383 Sample_ 1384 Sample_ 1385 Sample_ 1386 \n",
       "     44.1620      44.2510      44.1595      43.8935      44.2370      44.3815 \n",
       "Sample_ 1387 Sample_ 1388 Sample_ 1389 Sample_ 1390 Sample_ 1391 Sample_ 1392 \n",
       "     43.6120      43.8775      44.0565      43.4605      43.6885      43.7970 \n",
       "Sample_ 1393 Sample_ 1394 Sample_ 1395 Sample_ 1396 Sample_ 1397 Sample_ 1398 \n",
       "     43.7500      44.2730      43.8050      44.5120      44.4945      43.7540 \n",
       "Sample_ 1399 Sample_ 1400 Sample_ 1401 Sample_ 1402 Sample_ 1403 Sample_ 1404 \n",
       "     43.7295      44.2280      44.6865      44.2490      43.7030      44.3345 \n",
       "Sample_ 1405 Sample_ 1406 Sample_ 1407 Sample_ 1408 Sample_ 1409 Sample_ 1410 \n",
       "     44.1320      43.5745      44.0890      43.9395      43.5620      44.0735 \n",
       "Sample_ 1411 Sample_ 1412 Sample_ 1413 Sample_ 1414 Sample_ 1415 Sample_ 1416 \n",
       "     44.0365      44.3585      44.1145      43.9485      44.5800      43.9330 \n",
       "Sample_ 1417 Sample_ 1418 Sample_ 1419 Sample_ 1420 Sample_ 1421 Sample_ 1422 \n",
       "     44.1385      44.1735      44.0420      44.1805      43.9560      43.9760 \n",
       "Sample_ 1423 Sample_ 1424 Sample_ 1425 Sample_ 1426 Sample_ 1427 Sample_ 1428 \n",
       "     44.1875      44.0420      44.0085      44.2275      43.9675      43.7960 \n",
       "Sample_ 1429 Sample_ 1430 Sample_ 1431 Sample_ 1432 Sample_ 1433 Sample_ 1434 \n",
       "     43.8990      44.2830      44.1110      43.9870      43.8940      44.0355 \n",
       "Sample_ 1435 Sample_ 1436 Sample_ 1437 Sample_ 1438 Sample_ 1439 Sample_ 1440 \n",
       "     44.7925      43.5850      43.9080      44.0335      44.1700      44.3340 \n",
       "Sample_ 1441 Sample_ 1442 Sample_ 1443 Sample_ 1444 Sample_ 1445 Sample_ 1446 \n",
       "     43.9510      43.7950      43.7400      43.4600      43.3885      43.9095 \n",
       "Sample_ 1447 Sample_ 1448 Sample_ 1449 Sample_ 1450 Sample_ 1451 Sample_ 1452 \n",
       "     44.4470      44.0895      43.9510      44.4415      43.2195      44.4090 \n",
       "Sample_ 1453 Sample_ 1454 Sample_ 1455 Sample_ 1456 Sample_ 1457 Sample_ 1458 \n",
       "     43.8405      44.2080      44.0170      44.2420      43.8930      43.8925 \n",
       "Sample_ 1459 Sample_ 1460 Sample_ 1461 Sample_ 1462 Sample_ 1463 Sample_ 1464 \n",
       "     44.0420      43.9775      43.5225      43.8535      43.7590      44.0975 \n",
       "Sample_ 1465 Sample_ 1466 Sample_ 1467 Sample_ 1468 Sample_ 1469 Sample_ 1470 \n",
       "     44.1235      43.8425      43.8595      44.1025      44.1045      44.4355 \n",
       "Sample_ 1471 Sample_ 1472 Sample_ 1473 Sample_ 1474 Sample_ 1475 Sample_ 1476 \n",
       "     43.9540      44.2935      43.9030      44.2750      43.9460      44.1035 \n",
       "Sample_ 1477 Sample_ 1478 Sample_ 1479 Sample_ 1480 Sample_ 1481 Sample_ 1482 \n",
       "     44.4525      43.8260      43.9850      44.0785      44.3365      43.8440 \n",
       "Sample_ 1483 Sample_ 1484 Sample_ 1485 Sample_ 1486 Sample_ 1487 Sample_ 1488 \n",
       "     44.1035      44.1890      43.9130      44.4690      44.0205      44.2460 \n",
       "Sample_ 1489 Sample_ 1490 Sample_ 1491 Sample_ 1492 Sample_ 1493 Sample_ 1494 \n",
       "     44.0220      43.8940      44.1725      44.0335      43.9545      44.0985 \n",
       "Sample_ 1495 Sample_ 1496 Sample_ 1497 Sample_ 1498 Sample_ 1499 Sample_ 1500 \n",
       "     43.8660      43.8740      44.0690      44.2810      43.8460      44.0390 "
      ]
     },
     "metadata": {},
     "output_type": "display_data"
    }
   ],
   "source": [
    "colMeans(sample_dataset)"
   ]
  },
  {
   "cell_type": "markdown",
   "metadata": {
    "colab_type": "text",
    "id": "JfgEBDx0jDzf"
   },
   "source": [
    "> O Teorema do Limite Central afirma que, **com o aumento do tamanho da amostra, a distribuição das médias amostrais se aproxima de uma distribuição normal** com média igual à média da população e desvio padrão igual ao desvio padrão da variável original dividido pela raiz quadrada do tamanho da amostra. Este fato é assegurado para n maior ou igual a 30."
   ]
  },
  {
   "cell_type": "code",
   "execution_count": 96,
   "metadata": {
    "colab": {
     "base_uri": "https://localhost:8080/",
     "height": 286
    },
    "colab_type": "code",
    "id": "giJKqa_9izKF",
    "outputId": "a90fdc6d-9970-42dd-85c3-0da9e0977ef0"
   },
   "outputs": [
    {
     "data": {
      "image/png": "[encoded data removed]",
      "text/plain": [
       "Plot with title “Histogram of the Middle Ages”"
      ]
     },
     "metadata": {
      "image/png": {
       "height": 240,
       "width": 420
      }
     },
     "output_type": "display_data"
    }
   ],
   "source": [
    "hist(\n",
    "    x = colMeans(sample_dataset),\n",
    "    main = 'Histogram of the Middle Ages',\n",
    "    xlab = 'Age',\n",
    "    ylab = 'Frequency'\n",
    ")"
   ]
  },
  {
   "cell_type": "markdown",
   "metadata": {
    "colab_type": "text",
    "id": "_A4RKStwjkLI"
   },
   "source": [
    "> O Teorema do Limite Central afirma que, com o aumento do tamanho da amostra, a distribuição das médias amostrais se aproxima de uma distribuição normal **com média igual à média da população** e desvio padrão igual ao desvio padrão da variável original dividido pela raiz quadrada do tamanho da amostra. Este fato é assegurado para n maior ou igual a 30."
   ]
  },
  {
   "cell_type": "code",
   "execution_count": 97,
   "metadata": {},
   "outputs": [
    {
     "data": {
      "text/html": [
       "44.0714211348256"
      ],
      "text/latex": [
       "44.0714211348256"
      ],
      "text/markdown": [
       "44.0714211348256"
      ],
      "text/plain": [
       "[1] 44.07142"
      ]
     },
     "metadata": {},
     "output_type": "display_data"
    }
   ],
   "source": [
    "mean(dataset$Age)"
   ]
  },
  {
   "cell_type": "code",
   "execution_count": 98,
   "metadata": {
    "colab": {
     "base_uri": "https://localhost:8080/",
     "height": 34
    },
    "colab_type": "code",
    "id": "vXE-UOj_izGZ",
    "outputId": "6eecc478-100a-4b55-eec3-896dbfc2079d"
   },
   "outputs": [
    {
     "data": {
      "text/html": [
       "44.0608726666667"
      ],
      "text/latex": [
       "44.0608726666667"
      ],
      "text/markdown": [
       "44.0608726666667"
      ],
      "text/plain": [
       "[1] 44.06087"
      ]
     },
     "metadata": {},
     "output_type": "display_data"
    }
   ],
   "source": [
    "mean(colMeans(sample_dataset))"
   ]
  },
  {
   "cell_type": "markdown",
   "metadata": {
    "colab_type": "text",
    "id": "7lIWJCAKlPmA"
   },
   "source": [
    "> O Teorema do Limite Central afirma que, com o aumento do tamanho da amostra, a distribuição das médias amostrais se aproxima de uma distribuição normal com média igual à média da população e **desvio padrão igual ao desvio padrão da variável original dividido pela raiz quadrada do tamanho da amostra**. Este fato é assegurado para n maior ou igual a 30.\n",
    "\n",
    "# $$\\sigma_\\bar{x} = \\frac{\\sigma}{\\sqrt{n}}$$"
   ]
  },
  {
   "cell_type": "code",
   "execution_count": 99,
   "metadata": {},
   "outputs": [
    {
     "data": {
      "text/html": [
       "0.274648932536887"
      ],
      "text/latex": [
       "0.274648932536887"
      ],
      "text/markdown": [
       "0.274648932536887"
      ],
      "text/plain": [
       "[1] 0.2746489"
      ]
     },
     "metadata": {},
     "output_type": "display_data"
    }
   ],
   "source": [
    "sd(colMeans(sample_dataset))"
   ]
  },
  {
   "cell_type": "code",
   "execution_count": 100,
   "metadata": {},
   "outputs": [
    {
     "data": {
      "text/html": [
       "0.279074330274043"
      ],
      "text/latex": [
       "0.279074330274043"
      ],
      "text/markdown": [
       "0.279074330274043"
      ],
      "text/plain": [
       "[1] 0.2790743"
      ]
     },
     "metadata": {},
     "output_type": "display_data"
    }
   ],
   "source": [
    "sd(dataset$Age) / sqrt(n)"
   ]
  },
  {
   "cell_type": "markdown",
   "metadata": {
    "colab_type": "text",
    "id": "ku8CE67iG3Ge"
   },
   "source": [
    "## <font color=green>4.2 Níveis de confiança e significância</font>\n",
    "***"
   ]
  },
  {
   "cell_type": "markdown",
   "metadata": {
    "colab_type": "text",
    "id": "mk6ZsvgyG3Gf"
   },
   "source": [
    "O **nível de confiança** ($1 - \\alpha$) representa a probabilidade de acerto da estimativa. De forma complementar o **nível de significância** ($\\alpha$) expressa a probabilidade de erro da estimativa.\n",
    "\n",
    "O **nível de confiança** representa o grau de confiabilidade do resultado da estimativa estar dentro de determinado intervalo. Quando fixamos em uma pesquisa um **nível de confiança** de 95%, por exemplo, estamos assumindo que existe uma probabilidade de 95% dos resultados da pesquisa representarem bem a realidade, ou seja, estarem corretos.\n",
    "\n",
    "O **nível de confiança** de uma estimativa pode ser obtido a partir da área sob a curva normal como ilustrado na figura abaixo."
   ]
  },
  {
   "cell_type": "markdown",
   "metadata": {
    "colab_type": "text",
    "id": "WeGyDfvaG3Gg"
   },
   "source": [
    "![alt text](https://caelum-online-public.s3.amazonaws.com/1178-estatistica-parte2/01/img007.png)"
   ]
  },
  {
   "cell_type": "markdown",
   "metadata": {
    "colab_type": "text",
    "id": "AN8WDZ-HG3Gi"
   },
   "source": [
    "## <font color=green>4.3 Erro inferencial</font>\n",
    "***"
   ]
  },
  {
   "cell_type": "markdown",
   "metadata": {
    "colab_type": "text",
    "id": "tk-TwhhfG3Gi"
   },
   "source": [
    "O **erro inferencial** é definido pelo **desvio padrão das médias amostrais** $\\sigma_\\bar{x}$ e pelo **nível de confiança** determinado para o processo."
   ]
  },
  {
   "cell_type": "markdown",
   "metadata": {
    "colab_type": "text",
    "id": "FKOQUPYHG3Gk"
   },
   "source": [
    "# $$e = z \\frac{\\sigma}{\\sqrt{n}}$$"
   ]
  },
  {
   "cell_type": "markdown",
   "metadata": {
    "colab_type": "text",
    "id": "ELbWQW4sG3HS"
   },
   "source": [
    "## <font color=green>4.4 Intervalos de confiança</font>\n",
    "***"
   ]
  },
  {
   "cell_type": "markdown",
   "metadata": {
    "colab_type": "text",
    "id": "-r6EMnH-G3HT"
   },
   "source": [
    "### Intevalo de confiança para a média da população"
   ]
  },
  {
   "cell_type": "markdown",
   "metadata": {
    "colab_type": "text",
    "id": "QWgBFeRnG3HT"
   },
   "source": [
    "#### Com desvio padrão populacional conhecido\n",
    "\n",
    "## $$\\mu = \\bar{x} \\pm z\\frac{\\sigma}{\\sqrt{n}}$$\n",
    "\n",
    "#### Com desvio padrão populacional desconhecido\n",
    "\n",
    "## $$\\mu = \\bar{x} \\pm z\\frac{s}{\\sqrt{n}}$$"
   ]
  },
  {
   "cell_type": "markdown",
   "metadata": {
    "colab_type": "text",
    "id": "R2qqLneeG3HT"
   },
   "source": [
    "## <font color='blue'>Exemplo: </font>"
   ]
  },
  {
   "cell_type": "markdown",
   "metadata": {
    "colab_type": "text",
    "id": "AgnrFjdMG3HT"
   },
   "source": [
    "Suponha que os pesos dos sacos de arroz de uma indústria alimentícia se distribuem aproximadamente como uma normal de **desvio padrão populacional igual a 150 g**. Selecionada uma **amostra aleatório de 20 sacos** de um lote específico, obteve-se um **peso médio de 5.050 g**. Construa um intervalo de confiança para a **média populacional** assumindo um **nível de significância de 5%**."
   ]
  },
  {
   "cell_type": "markdown",
   "metadata": {
    "colab_type": "text",
    "id": "LpGQGksTG3HU"
   },
   "source": [
    "### Média amostral"
   ]
  },
  {
   "cell_type": "code",
   "execution_count": 101,
   "metadata": {
    "colab": {
     "base_uri": "https://localhost:8080/",
     "height": 34
    },
    "colab_type": "code",
    "id": "aF2QQ0z3G3HU",
    "outputId": "31b20b10-a4f7-49fe-b113-f0fff1e2f30f"
   },
   "outputs": [
    {
     "data": {
      "text/html": [
       "5050"
      ],
      "text/latex": [
       "5050"
      ],
      "text/markdown": [
       "5050"
      ],
      "text/plain": [
       "[1] 5050"
      ]
     },
     "metadata": {},
     "output_type": "display_data"
    }
   ],
   "source": [
    "mean_sample <- 5050\n",
    "mean_sample"
   ]
  },
  {
   "cell_type": "markdown",
   "metadata": {
    "colab_type": "text",
    "id": "Jly1bVP9G3HY"
   },
   "source": [
    "### Nível de significância ($\\alpha$)"
   ]
  },
  {
   "cell_type": "code",
   "execution_count": 102,
   "metadata": {
    "colab": {
     "base_uri": "https://localhost:8080/",
     "height": 34
    },
    "colab_type": "code",
    "id": "BzIgN3C7G3HY",
    "outputId": "53b76a9a-fce9-41dc-829e-4c7b318b7d75"
   },
   "outputs": [
    {
     "data": {
      "text/html": [
       "0.05"
      ],
      "text/latex": [
       "0.05"
      ],
      "text/markdown": [
       "0.05"
      ],
      "text/plain": [
       "[1] 0.05"
      ]
     },
     "metadata": {},
     "output_type": "display_data"
    }
   ],
   "source": [
    "meaningfulness <- 0.05\n",
    "meaningfulness"
   ]
  },
  {
   "cell_type": "markdown",
   "metadata": {
    "colab_type": "text",
    "id": "SrZAbQRKG3Ha"
   },
   "source": [
    "### Nível de confiança ($1 - \\alpha$)"
   ]
  },
  {
   "cell_type": "code",
   "execution_count": 103,
   "metadata": {
    "colab": {
     "base_uri": "https://localhost:8080/",
     "height": 34
    },
    "colab_type": "code",
    "id": "1JeWXwA6G3Ha",
    "outputId": "8ac9e63f-f2e5-46a5-b693-e221203ada3f"
   },
   "outputs": [
    {
     "data": {
      "text/html": [
       "0.95"
      ],
      "text/latex": [
       "0.95"
      ],
      "text/markdown": [
       "0.95"
      ],
      "text/plain": [
       "[1] 0.95"
      ]
     },
     "metadata": {},
     "output_type": "display_data"
    }
   ],
   "source": [
    "trust <- 1 -meaningfulness\n",
    "trust"
   ]
  },
  {
   "cell_type": "markdown",
   "metadata": {
    "colab_type": "text",
    "id": "mZoUFr1nG3Hf"
   },
   "source": [
    "### Obtendo $z$"
   ]
  },
  {
   "cell_type": "code",
   "execution_count": 104,
   "metadata": {
    "scrolled": true
   },
   "outputs": [
    {
     "data": {
      "text/html": [
       "<table class=\"dataframe\">\n",
       "<caption>A matrix: 40 × 10 of type dbl</caption>\n",
       "<thead>\n",
       "\t<tr><th></th><th scope=col>0.00</th><th scope=col>0.01</th><th scope=col>0.02</th><th scope=col>0.03</th><th scope=col>0.04</th><th scope=col>0.05</th><th scope=col>0.06</th><th scope=col>0.07</th><th scope=col>0.08</th><th scope=col>0.09</th></tr>\n",
       "</thead>\n",
       "<tbody>\n",
       "\t<tr><th scope=row>0.00</th><td>0.5000000</td><td>0.5039894</td><td>0.5079783</td><td>0.5119665</td><td>0.5159534</td><td>0.5199388</td><td>0.5239222</td><td>0.5279032</td><td>0.5318814</td><td>0.5358564</td></tr>\n",
       "\t<tr><th scope=row>0.10</th><td>0.5398278</td><td>0.5437953</td><td>0.5477584</td><td>0.5517168</td><td>0.5556700</td><td>0.5596177</td><td>0.5635595</td><td>0.5674949</td><td>0.5714237</td><td>0.5753454</td></tr>\n",
       "\t<tr><th scope=row>0.20</th><td>0.5792597</td><td>0.5831662</td><td>0.5870644</td><td>0.5909541</td><td>0.5948349</td><td>0.5987063</td><td>0.6025681</td><td>0.6064199</td><td>0.6102612</td><td>0.6140919</td></tr>\n",
       "\t<tr><th scope=row>0.30</th><td>0.6179114</td><td>0.6217195</td><td>0.6255158</td><td>0.6293000</td><td>0.6330717</td><td>0.6368307</td><td>0.6405764</td><td>0.6443088</td><td>0.6480273</td><td>0.6517317</td></tr>\n",
       "\t<tr><th scope=row>0.40</th><td>0.6554217</td><td>0.6590970</td><td>0.6627573</td><td>0.6664022</td><td>0.6700314</td><td>0.6736448</td><td>0.6772419</td><td>0.6808225</td><td>0.6843863</td><td>0.6879331</td></tr>\n",
       "\t<tr><th scope=row>0.50</th><td>0.6914625</td><td>0.6949743</td><td>0.6984682</td><td>0.7019440</td><td>0.7054015</td><td>0.7088403</td><td>0.7122603</td><td>0.7156612</td><td>0.7190427</td><td>0.7224047</td></tr>\n",
       "\t<tr><th scope=row>0.60</th><td>0.7257469</td><td>0.7290691</td><td>0.7323711</td><td>0.7356527</td><td>0.7389137</td><td>0.7421539</td><td>0.7453731</td><td>0.7485711</td><td>0.7517478</td><td>0.7549029</td></tr>\n",
       "\t<tr><th scope=row>0.70</th><td>0.7580363</td><td>0.7611479</td><td>0.7642375</td><td>0.7673049</td><td>0.7703500</td><td>0.7733726</td><td>0.7763727</td><td>0.7793501</td><td>0.7823046</td><td>0.7852361</td></tr>\n",
       "\t<tr><th scope=row>0.80</th><td>0.7881446</td><td>0.7910299</td><td>0.7938919</td><td>0.7967306</td><td>0.7995458</td><td>0.8023375</td><td>0.8051055</td><td>0.8078498</td><td>0.8105703</td><td>0.8132671</td></tr>\n",
       "\t<tr><th scope=row>0.90</th><td>0.8159399</td><td>0.8185887</td><td>0.8212136</td><td>0.8238145</td><td>0.8263912</td><td>0.8289439</td><td>0.8314724</td><td>0.8339768</td><td>0.8364569</td><td>0.8389129</td></tr>\n",
       "\t<tr><th scope=row>1.00</th><td>0.8413447</td><td>0.8437524</td><td>0.8461358</td><td>0.8484950</td><td>0.8508300</td><td>0.8531409</td><td>0.8554277</td><td>0.8576903</td><td>0.8599289</td><td>0.8621434</td></tr>\n",
       "\t<tr><th scope=row>1.10</th><td>0.8643339</td><td>0.8665005</td><td>0.8686431</td><td>0.8707619</td><td>0.8728568</td><td>0.8749281</td><td>0.8769756</td><td>0.8789995</td><td>0.8809999</td><td>0.8829768</td></tr>\n",
       "\t<tr><th scope=row>1.20</th><td>0.8849303</td><td>0.8868606</td><td>0.8887676</td><td>0.8906514</td><td>0.8925123</td><td>0.8943502</td><td>0.8961653</td><td>0.8979577</td><td>0.8997274</td><td>0.9014747</td></tr>\n",
       "\t<tr><th scope=row>1.30</th><td>0.9031995</td><td>0.9049021</td><td>0.9065825</td><td>0.9082409</td><td>0.9098773</td><td>0.9114920</td><td>0.9130850</td><td>0.9146565</td><td>0.9162067</td><td>0.9177356</td></tr>\n",
       "\t<tr><th scope=row>1.40</th><td>0.9192433</td><td>0.9207302</td><td>0.9221962</td><td>0.9236415</td><td>0.9250663</td><td>0.9264707</td><td>0.9278550</td><td>0.9292191</td><td>0.9305634</td><td>0.9318879</td></tr>\n",
       "\t<tr><th scope=row>1.50</th><td>0.9331928</td><td>0.9344783</td><td>0.9357445</td><td>0.9369916</td><td>0.9382198</td><td>0.9394292</td><td>0.9406201</td><td>0.9417924</td><td>0.9429466</td><td>0.9440826</td></tr>\n",
       "\t<tr><th scope=row>1.60</th><td>0.9452007</td><td>0.9463011</td><td>0.9473839</td><td>0.9484493</td><td>0.9494974</td><td>0.9505285</td><td>0.9515428</td><td>0.9525403</td><td>0.9535213</td><td>0.9544860</td></tr>\n",
       "\t<tr><th scope=row>1.70</th><td>0.9554345</td><td>0.9563671</td><td>0.9572838</td><td>0.9581849</td><td>0.9590705</td><td>0.9599408</td><td>0.9607961</td><td>0.9616364</td><td>0.9624620</td><td>0.9632730</td></tr>\n",
       "\t<tr><th scope=row>1.80</th><td>0.9640697</td><td>0.9648521</td><td>0.9656205</td><td>0.9663750</td><td>0.9671159</td><td>0.9678432</td><td>0.9685572</td><td>0.9692581</td><td>0.9699460</td><td>0.9706210</td></tr>\n",
       "\t<tr><th scope=row>1.90</th><td>0.9712834</td><td>0.9719334</td><td>0.9725711</td><td>0.9731966</td><td>0.9738102</td><td>0.9744119</td><td>0.9750021</td><td>0.9755808</td><td>0.9761482</td><td>0.9767045</td></tr>\n",
       "\t<tr><th scope=row>2.00</th><td>0.9772499</td><td>0.9777844</td><td>0.9783083</td><td>0.9788217</td><td>0.9793248</td><td>0.9798178</td><td>0.9803007</td><td>0.9807738</td><td>0.9812372</td><td>0.9816911</td></tr>\n",
       "\t<tr><th scope=row>2.10</th><td>0.9821356</td><td>0.9825708</td><td>0.9829970</td><td>0.9834142</td><td>0.9838226</td><td>0.9842224</td><td>0.9846137</td><td>0.9849966</td><td>0.9853713</td><td>0.9857379</td></tr>\n",
       "\t<tr><th scope=row>2.20</th><td>0.9860966</td><td>0.9864474</td><td>0.9867906</td><td>0.9871263</td><td>0.9874545</td><td>0.9877755</td><td>0.9880894</td><td>0.9883962</td><td>0.9886962</td><td>0.9889893</td></tr>\n",
       "\t<tr><th scope=row>2.30</th><td>0.9892759</td><td>0.9895559</td><td>0.9898296</td><td>0.9900969</td><td>0.9903581</td><td>0.9906133</td><td>0.9908625</td><td>0.9911060</td><td>0.9913437</td><td>0.9915758</td></tr>\n",
       "\t<tr><th scope=row>2.40</th><td>0.9918025</td><td>0.9920237</td><td>0.9922397</td><td>0.9924506</td><td>0.9926564</td><td>0.9928572</td><td>0.9930531</td><td>0.9932443</td><td>0.9934309</td><td>0.9936128</td></tr>\n",
       "\t<tr><th scope=row>2.50</th><td>0.9937903</td><td>0.9939634</td><td>0.9941323</td><td>0.9942969</td><td>0.9944574</td><td>0.9946139</td><td>0.9947664</td><td>0.9949151</td><td>0.9950600</td><td>0.9952012</td></tr>\n",
       "\t<tr><th scope=row>2.60</th><td>0.9953388</td><td>0.9954729</td><td>0.9956035</td><td>0.9957308</td><td>0.9958547</td><td>0.9959754</td><td>0.9960930</td><td>0.9962074</td><td>0.9963189</td><td>0.9964274</td></tr>\n",
       "\t<tr><th scope=row>2.70</th><td>0.9965330</td><td>0.9966358</td><td>0.9967359</td><td>0.9968333</td><td>0.9969280</td><td>0.9970202</td><td>0.9971099</td><td>0.9971972</td><td>0.9972821</td><td>0.9973646</td></tr>\n",
       "\t<tr><th scope=row>2.80</th><td>0.9974449</td><td>0.9975229</td><td>0.9975988</td><td>0.9976726</td><td>0.9977443</td><td>0.9978140</td><td>0.9978818</td><td>0.9979476</td><td>0.9980116</td><td>0.9980738</td></tr>\n",
       "\t<tr><th scope=row>2.90</th><td>0.9981342</td><td>0.9981929</td><td>0.9982498</td><td>0.9983052</td><td>0.9983589</td><td>0.9984111</td><td>0.9984618</td><td>0.9985110</td><td>0.9985588</td><td>0.9986051</td></tr>\n",
       "\t<tr><th scope=row>3.00</th><td>0.9986501</td><td>0.9986938</td><td>0.9987361</td><td>0.9987772</td><td>0.9988171</td><td>0.9988558</td><td>0.9988933</td><td>0.9989297</td><td>0.9989650</td><td>0.9989992</td></tr>\n",
       "\t<tr><th scope=row>3.10</th><td>0.9990324</td><td>0.9990646</td><td>0.9990957</td><td>0.9991260</td><td>0.9991553</td><td>0.9991836</td><td>0.9992112</td><td>0.9992378</td><td>0.9992636</td><td>0.9992886</td></tr>\n",
       "\t<tr><th scope=row>3.20</th><td>0.9993129</td><td>0.9993363</td><td>0.9993590</td><td>0.9993810</td><td>0.9994024</td><td>0.9994230</td><td>0.9994429</td><td>0.9994623</td><td>0.9994810</td><td>0.9994991</td></tr>\n",
       "\t<tr><th scope=row>3.30</th><td>0.9995166</td><td>0.9995335</td><td>0.9995499</td><td>0.9995658</td><td>0.9995811</td><td>0.9995959</td><td>0.9996103</td><td>0.9996242</td><td>0.9996376</td><td>0.9996505</td></tr>\n",
       "\t<tr><th scope=row>3.40</th><td>0.9996631</td><td>0.9996752</td><td>0.9996869</td><td>0.9996982</td><td>0.9997091</td><td>0.9997197</td><td>0.9997299</td><td>0.9997398</td><td>0.9997493</td><td>0.9997585</td></tr>\n",
       "\t<tr><th scope=row>3.50</th><td>0.9997674</td><td>0.9997759</td><td>0.9997842</td><td>0.9997922</td><td>0.9997999</td><td>0.9998074</td><td>0.9998146</td><td>0.9998215</td><td>0.9998282</td><td>0.9998347</td></tr>\n",
       "\t<tr><th scope=row>3.60</th><td>0.9998409</td><td>0.9998469</td><td>0.9998527</td><td>0.9998583</td><td>0.9998637</td><td>0.9998689</td><td>0.9998739</td><td>0.9998787</td><td>0.9998834</td><td>0.9998879</td></tr>\n",
       "\t<tr><th scope=row>3.70</th><td>0.9998922</td><td>0.9998964</td><td>0.9999004</td><td>0.9999043</td><td>0.9999080</td><td>0.9999116</td><td>0.9999150</td><td>0.9999184</td><td>0.9999216</td><td>0.9999247</td></tr>\n",
       "\t<tr><th scope=row>3.80</th><td>0.9999277</td><td>0.9999305</td><td>0.9999333</td><td>0.9999359</td><td>0.9999385</td><td>0.9999409</td><td>0.9999433</td><td>0.9999456</td><td>0.9999478</td><td>0.9999499</td></tr>\n",
       "\t<tr><th scope=row>3.90</th><td>0.9999519</td><td>0.9999539</td><td>0.9999557</td><td>0.9999575</td><td>0.9999593</td><td>0.9999609</td><td>0.9999625</td><td>0.9999641</td><td>0.9999655</td><td>0.9999670</td></tr>\n",
       "</tbody>\n",
       "</table>\n"
      ],
      "text/latex": [
       "A matrix: 40 × 10 of type dbl\n",
       "\\begin{tabular}{r|llllllllll}\n",
       "  & 0.00 & 0.01 & 0.02 & 0.03 & 0.04 & 0.05 & 0.06 & 0.07 & 0.08 & 0.09\\\\\n",
       "\\hline\n",
       "\t0.00 & 0.5000000 & 0.5039894 & 0.5079783 & 0.5119665 & 0.5159534 & 0.5199388 & 0.5239222 & 0.5279032 & 0.5318814 & 0.5358564\\\\\n",
       "\t0.10 & 0.5398278 & 0.5437953 & 0.5477584 & 0.5517168 & 0.5556700 & 0.5596177 & 0.5635595 & 0.5674949 & 0.5714237 & 0.5753454\\\\\n",
       "\t0.20 & 0.5792597 & 0.5831662 & 0.5870644 & 0.5909541 & 0.5948349 & 0.5987063 & 0.6025681 & 0.6064199 & 0.6102612 & 0.6140919\\\\\n",
       "\t0.30 & 0.6179114 & 0.6217195 & 0.6255158 & 0.6293000 & 0.6330717 & 0.6368307 & 0.6405764 & 0.6443088 & 0.6480273 & 0.6517317\\\\\n",
       "\t0.40 & 0.6554217 & 0.6590970 & 0.6627573 & 0.6664022 & 0.6700314 & 0.6736448 & 0.6772419 & 0.6808225 & 0.6843863 & 0.6879331\\\\\n",
       "\t0.50 & 0.6914625 & 0.6949743 & 0.6984682 & 0.7019440 & 0.7054015 & 0.7088403 & 0.7122603 & 0.7156612 & 0.7190427 & 0.7224047\\\\\n",
       "\t0.60 & 0.7257469 & 0.7290691 & 0.7323711 & 0.7356527 & 0.7389137 & 0.7421539 & 0.7453731 & 0.7485711 & 0.7517478 & 0.7549029\\\\\n",
       "\t0.70 & 0.7580363 & 0.7611479 & 0.7642375 & 0.7673049 & 0.7703500 & 0.7733726 & 0.7763727 & 0.7793501 & 0.7823046 & 0.7852361\\\\\n",
       "\t0.80 & 0.7881446 & 0.7910299 & 0.7938919 & 0.7967306 & 0.7995458 & 0.8023375 & 0.8051055 & 0.8078498 & 0.8105703 & 0.8132671\\\\\n",
       "\t0.90 & 0.8159399 & 0.8185887 & 0.8212136 & 0.8238145 & 0.8263912 & 0.8289439 & 0.8314724 & 0.8339768 & 0.8364569 & 0.8389129\\\\\n",
       "\t1.00 & 0.8413447 & 0.8437524 & 0.8461358 & 0.8484950 & 0.8508300 & 0.8531409 & 0.8554277 & 0.8576903 & 0.8599289 & 0.8621434\\\\\n",
       "\t1.10 & 0.8643339 & 0.8665005 & 0.8686431 & 0.8707619 & 0.8728568 & 0.8749281 & 0.8769756 & 0.8789995 & 0.8809999 & 0.8829768\\\\\n",
       "\t1.20 & 0.8849303 & 0.8868606 & 0.8887676 & 0.8906514 & 0.8925123 & 0.8943502 & 0.8961653 & 0.8979577 & 0.8997274 & 0.9014747\\\\\n",
       "\t1.30 & 0.9031995 & 0.9049021 & 0.9065825 & 0.9082409 & 0.9098773 & 0.9114920 & 0.9130850 & 0.9146565 & 0.9162067 & 0.9177356\\\\\n",
       "\t1.40 & 0.9192433 & 0.9207302 & 0.9221962 & 0.9236415 & 0.9250663 & 0.9264707 & 0.9278550 & 0.9292191 & 0.9305634 & 0.9318879\\\\\n",
       "\t1.50 & 0.9331928 & 0.9344783 & 0.9357445 & 0.9369916 & 0.9382198 & 0.9394292 & 0.9406201 & 0.9417924 & 0.9429466 & 0.9440826\\\\\n",
       "\t1.60 & 0.9452007 & 0.9463011 & 0.9473839 & 0.9484493 & 0.9494974 & 0.9505285 & 0.9515428 & 0.9525403 & 0.9535213 & 0.9544860\\\\\n",
       "\t1.70 & 0.9554345 & 0.9563671 & 0.9572838 & 0.9581849 & 0.9590705 & 0.9599408 & 0.9607961 & 0.9616364 & 0.9624620 & 0.9632730\\\\\n",
       "\t1.80 & 0.9640697 & 0.9648521 & 0.9656205 & 0.9663750 & 0.9671159 & 0.9678432 & 0.9685572 & 0.9692581 & 0.9699460 & 0.9706210\\\\\n",
       "\t1.90 & 0.9712834 & 0.9719334 & 0.9725711 & 0.9731966 & 0.9738102 & 0.9744119 & 0.9750021 & 0.9755808 & 0.9761482 & 0.9767045\\\\\n",
       "\t2.00 & 0.9772499 & 0.9777844 & 0.9783083 & 0.9788217 & 0.9793248 & 0.9798178 & 0.9803007 & 0.9807738 & 0.9812372 & 0.9816911\\\\\n",
       "\t2.10 & 0.9821356 & 0.9825708 & 0.9829970 & 0.9834142 & 0.9838226 & 0.9842224 & 0.9846137 & 0.9849966 & 0.9853713 & 0.9857379\\\\\n",
       "\t2.20 & 0.9860966 & 0.9864474 & 0.9867906 & 0.9871263 & 0.9874545 & 0.9877755 & 0.9880894 & 0.9883962 & 0.9886962 & 0.9889893\\\\\n",
       "\t2.30 & 0.9892759 & 0.9895559 & 0.9898296 & 0.9900969 & 0.9903581 & 0.9906133 & 0.9908625 & 0.9911060 & 0.9913437 & 0.9915758\\\\\n",
       "\t2.40 & 0.9918025 & 0.9920237 & 0.9922397 & 0.9924506 & 0.9926564 & 0.9928572 & 0.9930531 & 0.9932443 & 0.9934309 & 0.9936128\\\\\n",
       "\t2.50 & 0.9937903 & 0.9939634 & 0.9941323 & 0.9942969 & 0.9944574 & 0.9946139 & 0.9947664 & 0.9949151 & 0.9950600 & 0.9952012\\\\\n",
       "\t2.60 & 0.9953388 & 0.9954729 & 0.9956035 & 0.9957308 & 0.9958547 & 0.9959754 & 0.9960930 & 0.9962074 & 0.9963189 & 0.9964274\\\\\n",
       "\t2.70 & 0.9965330 & 0.9966358 & 0.9967359 & 0.9968333 & 0.9969280 & 0.9970202 & 0.9971099 & 0.9971972 & 0.9972821 & 0.9973646\\\\\n",
       "\t2.80 & 0.9974449 & 0.9975229 & 0.9975988 & 0.9976726 & 0.9977443 & 0.9978140 & 0.9978818 & 0.9979476 & 0.9980116 & 0.9980738\\\\\n",
       "\t2.90 & 0.9981342 & 0.9981929 & 0.9982498 & 0.9983052 & 0.9983589 & 0.9984111 & 0.9984618 & 0.9985110 & 0.9985588 & 0.9986051\\\\\n",
       "\t3.00 & 0.9986501 & 0.9986938 & 0.9987361 & 0.9987772 & 0.9988171 & 0.9988558 & 0.9988933 & 0.9989297 & 0.9989650 & 0.9989992\\\\\n",
       "\t3.10 & 0.9990324 & 0.9990646 & 0.9990957 & 0.9991260 & 0.9991553 & 0.9991836 & 0.9992112 & 0.9992378 & 0.9992636 & 0.9992886\\\\\n",
       "\t3.20 & 0.9993129 & 0.9993363 & 0.9993590 & 0.9993810 & 0.9994024 & 0.9994230 & 0.9994429 & 0.9994623 & 0.9994810 & 0.9994991\\\\\n",
       "\t3.30 & 0.9995166 & 0.9995335 & 0.9995499 & 0.9995658 & 0.9995811 & 0.9995959 & 0.9996103 & 0.9996242 & 0.9996376 & 0.9996505\\\\\n",
       "\t3.40 & 0.9996631 & 0.9996752 & 0.9996869 & 0.9996982 & 0.9997091 & 0.9997197 & 0.9997299 & 0.9997398 & 0.9997493 & 0.9997585\\\\\n",
       "\t3.50 & 0.9997674 & 0.9997759 & 0.9997842 & 0.9997922 & 0.9997999 & 0.9998074 & 0.9998146 & 0.9998215 & 0.9998282 & 0.9998347\\\\\n",
       "\t3.60 & 0.9998409 & 0.9998469 & 0.9998527 & 0.9998583 & 0.9998637 & 0.9998689 & 0.9998739 & 0.9998787 & 0.9998834 & 0.9998879\\\\\n",
       "\t3.70 & 0.9998922 & 0.9998964 & 0.9999004 & 0.9999043 & 0.9999080 & 0.9999116 & 0.9999150 & 0.9999184 & 0.9999216 & 0.9999247\\\\\n",
       "\t3.80 & 0.9999277 & 0.9999305 & 0.9999333 & 0.9999359 & 0.9999385 & 0.9999409 & 0.9999433 & 0.9999456 & 0.9999478 & 0.9999499\\\\\n",
       "\t3.90 & 0.9999519 & 0.9999539 & 0.9999557 & 0.9999575 & 0.9999593 & 0.9999609 & 0.9999625 & 0.9999641 & 0.9999655 & 0.9999670\\\\\n",
       "\\end{tabular}\n"
      ],
      "text/markdown": [
       "\n",
       "A matrix: 40 × 10 of type dbl\n",
       "\n",
       "| <!--/--> | 0.00 | 0.01 | 0.02 | 0.03 | 0.04 | 0.05 | 0.06 | 0.07 | 0.08 | 0.09 |\n",
       "|---|---|---|---|---|---|---|---|---|---|---|\n",
       "| 0.00 | 0.5000000 | 0.5039894 | 0.5079783 | 0.5119665 | 0.5159534 | 0.5199388 | 0.5239222 | 0.5279032 | 0.5318814 | 0.5358564 |\n",
       "| 0.10 | 0.5398278 | 0.5437953 | 0.5477584 | 0.5517168 | 0.5556700 | 0.5596177 | 0.5635595 | 0.5674949 | 0.5714237 | 0.5753454 |\n",
       "| 0.20 | 0.5792597 | 0.5831662 | 0.5870644 | 0.5909541 | 0.5948349 | 0.5987063 | 0.6025681 | 0.6064199 | 0.6102612 | 0.6140919 |\n",
       "| 0.30 | 0.6179114 | 0.6217195 | 0.6255158 | 0.6293000 | 0.6330717 | 0.6368307 | 0.6405764 | 0.6443088 | 0.6480273 | 0.6517317 |\n",
       "| 0.40 | 0.6554217 | 0.6590970 | 0.6627573 | 0.6664022 | 0.6700314 | 0.6736448 | 0.6772419 | 0.6808225 | 0.6843863 | 0.6879331 |\n",
       "| 0.50 | 0.6914625 | 0.6949743 | 0.6984682 | 0.7019440 | 0.7054015 | 0.7088403 | 0.7122603 | 0.7156612 | 0.7190427 | 0.7224047 |\n",
       "| 0.60 | 0.7257469 | 0.7290691 | 0.7323711 | 0.7356527 | 0.7389137 | 0.7421539 | 0.7453731 | 0.7485711 | 0.7517478 | 0.7549029 |\n",
       "| 0.70 | 0.7580363 | 0.7611479 | 0.7642375 | 0.7673049 | 0.7703500 | 0.7733726 | 0.7763727 | 0.7793501 | 0.7823046 | 0.7852361 |\n",
       "| 0.80 | 0.7881446 | 0.7910299 | 0.7938919 | 0.7967306 | 0.7995458 | 0.8023375 | 0.8051055 | 0.8078498 | 0.8105703 | 0.8132671 |\n",
       "| 0.90 | 0.8159399 | 0.8185887 | 0.8212136 | 0.8238145 | 0.8263912 | 0.8289439 | 0.8314724 | 0.8339768 | 0.8364569 | 0.8389129 |\n",
       "| 1.00 | 0.8413447 | 0.8437524 | 0.8461358 | 0.8484950 | 0.8508300 | 0.8531409 | 0.8554277 | 0.8576903 | 0.8599289 | 0.8621434 |\n",
       "| 1.10 | 0.8643339 | 0.8665005 | 0.8686431 | 0.8707619 | 0.8728568 | 0.8749281 | 0.8769756 | 0.8789995 | 0.8809999 | 0.8829768 |\n",
       "| 1.20 | 0.8849303 | 0.8868606 | 0.8887676 | 0.8906514 | 0.8925123 | 0.8943502 | 0.8961653 | 0.8979577 | 0.8997274 | 0.9014747 |\n",
       "| 1.30 | 0.9031995 | 0.9049021 | 0.9065825 | 0.9082409 | 0.9098773 | 0.9114920 | 0.9130850 | 0.9146565 | 0.9162067 | 0.9177356 |\n",
       "| 1.40 | 0.9192433 | 0.9207302 | 0.9221962 | 0.9236415 | 0.9250663 | 0.9264707 | 0.9278550 | 0.9292191 | 0.9305634 | 0.9318879 |\n",
       "| 1.50 | 0.9331928 | 0.9344783 | 0.9357445 | 0.9369916 | 0.9382198 | 0.9394292 | 0.9406201 | 0.9417924 | 0.9429466 | 0.9440826 |\n",
       "| 1.60 | 0.9452007 | 0.9463011 | 0.9473839 | 0.9484493 | 0.9494974 | 0.9505285 | 0.9515428 | 0.9525403 | 0.9535213 | 0.9544860 |\n",
       "| 1.70 | 0.9554345 | 0.9563671 | 0.9572838 | 0.9581849 | 0.9590705 | 0.9599408 | 0.9607961 | 0.9616364 | 0.9624620 | 0.9632730 |\n",
       "| 1.80 | 0.9640697 | 0.9648521 | 0.9656205 | 0.9663750 | 0.9671159 | 0.9678432 | 0.9685572 | 0.9692581 | 0.9699460 | 0.9706210 |\n",
       "| 1.90 | 0.9712834 | 0.9719334 | 0.9725711 | 0.9731966 | 0.9738102 | 0.9744119 | 0.9750021 | 0.9755808 | 0.9761482 | 0.9767045 |\n",
       "| 2.00 | 0.9772499 | 0.9777844 | 0.9783083 | 0.9788217 | 0.9793248 | 0.9798178 | 0.9803007 | 0.9807738 | 0.9812372 | 0.9816911 |\n",
       "| 2.10 | 0.9821356 | 0.9825708 | 0.9829970 | 0.9834142 | 0.9838226 | 0.9842224 | 0.9846137 | 0.9849966 | 0.9853713 | 0.9857379 |\n",
       "| 2.20 | 0.9860966 | 0.9864474 | 0.9867906 | 0.9871263 | 0.9874545 | 0.9877755 | 0.9880894 | 0.9883962 | 0.9886962 | 0.9889893 |\n",
       "| 2.30 | 0.9892759 | 0.9895559 | 0.9898296 | 0.9900969 | 0.9903581 | 0.9906133 | 0.9908625 | 0.9911060 | 0.9913437 | 0.9915758 |\n",
       "| 2.40 | 0.9918025 | 0.9920237 | 0.9922397 | 0.9924506 | 0.9926564 | 0.9928572 | 0.9930531 | 0.9932443 | 0.9934309 | 0.9936128 |\n",
       "| 2.50 | 0.9937903 | 0.9939634 | 0.9941323 | 0.9942969 | 0.9944574 | 0.9946139 | 0.9947664 | 0.9949151 | 0.9950600 | 0.9952012 |\n",
       "| 2.60 | 0.9953388 | 0.9954729 | 0.9956035 | 0.9957308 | 0.9958547 | 0.9959754 | 0.9960930 | 0.9962074 | 0.9963189 | 0.9964274 |\n",
       "| 2.70 | 0.9965330 | 0.9966358 | 0.9967359 | 0.9968333 | 0.9969280 | 0.9970202 | 0.9971099 | 0.9971972 | 0.9972821 | 0.9973646 |\n",
       "| 2.80 | 0.9974449 | 0.9975229 | 0.9975988 | 0.9976726 | 0.9977443 | 0.9978140 | 0.9978818 | 0.9979476 | 0.9980116 | 0.9980738 |\n",
       "| 2.90 | 0.9981342 | 0.9981929 | 0.9982498 | 0.9983052 | 0.9983589 | 0.9984111 | 0.9984618 | 0.9985110 | 0.9985588 | 0.9986051 |\n",
       "| 3.00 | 0.9986501 | 0.9986938 | 0.9987361 | 0.9987772 | 0.9988171 | 0.9988558 | 0.9988933 | 0.9989297 | 0.9989650 | 0.9989992 |\n",
       "| 3.10 | 0.9990324 | 0.9990646 | 0.9990957 | 0.9991260 | 0.9991553 | 0.9991836 | 0.9992112 | 0.9992378 | 0.9992636 | 0.9992886 |\n",
       "| 3.20 | 0.9993129 | 0.9993363 | 0.9993590 | 0.9993810 | 0.9994024 | 0.9994230 | 0.9994429 | 0.9994623 | 0.9994810 | 0.9994991 |\n",
       "| 3.30 | 0.9995166 | 0.9995335 | 0.9995499 | 0.9995658 | 0.9995811 | 0.9995959 | 0.9996103 | 0.9996242 | 0.9996376 | 0.9996505 |\n",
       "| 3.40 | 0.9996631 | 0.9996752 | 0.9996869 | 0.9996982 | 0.9997091 | 0.9997197 | 0.9997299 | 0.9997398 | 0.9997493 | 0.9997585 |\n",
       "| 3.50 | 0.9997674 | 0.9997759 | 0.9997842 | 0.9997922 | 0.9997999 | 0.9998074 | 0.9998146 | 0.9998215 | 0.9998282 | 0.9998347 |\n",
       "| 3.60 | 0.9998409 | 0.9998469 | 0.9998527 | 0.9998583 | 0.9998637 | 0.9998689 | 0.9998739 | 0.9998787 | 0.9998834 | 0.9998879 |\n",
       "| 3.70 | 0.9998922 | 0.9998964 | 0.9999004 | 0.9999043 | 0.9999080 | 0.9999116 | 0.9999150 | 0.9999184 | 0.9999216 | 0.9999247 |\n",
       "| 3.80 | 0.9999277 | 0.9999305 | 0.9999333 | 0.9999359 | 0.9999385 | 0.9999409 | 0.9999433 | 0.9999456 | 0.9999478 | 0.9999499 |\n",
       "| 3.90 | 0.9999519 | 0.9999539 | 0.9999557 | 0.9999575 | 0.9999593 | 0.9999609 | 0.9999625 | 0.9999641 | 0.9999655 | 0.9999670 |\n",
       "\n"
      ],
      "text/plain": [
       "     0.00      0.01      0.02      0.03      0.04      0.05      0.06     \n",
       "0.00 0.5000000 0.5039894 0.5079783 0.5119665 0.5159534 0.5199388 0.5239222\n",
       "0.10 0.5398278 0.5437953 0.5477584 0.5517168 0.5556700 0.5596177 0.5635595\n",
       "0.20 0.5792597 0.5831662 0.5870644 0.5909541 0.5948349 0.5987063 0.6025681\n",
       "0.30 0.6179114 0.6217195 0.6255158 0.6293000 0.6330717 0.6368307 0.6405764\n",
       "0.40 0.6554217 0.6590970 0.6627573 0.6664022 0.6700314 0.6736448 0.6772419\n",
       "0.50 0.6914625 0.6949743 0.6984682 0.7019440 0.7054015 0.7088403 0.7122603\n",
       "0.60 0.7257469 0.7290691 0.7323711 0.7356527 0.7389137 0.7421539 0.7453731\n",
       "0.70 0.7580363 0.7611479 0.7642375 0.7673049 0.7703500 0.7733726 0.7763727\n",
       "0.80 0.7881446 0.7910299 0.7938919 0.7967306 0.7995458 0.8023375 0.8051055\n",
       "0.90 0.8159399 0.8185887 0.8212136 0.8238145 0.8263912 0.8289439 0.8314724\n",
       "1.00 0.8413447 0.8437524 0.8461358 0.8484950 0.8508300 0.8531409 0.8554277\n",
       "1.10 0.8643339 0.8665005 0.8686431 0.8707619 0.8728568 0.8749281 0.8769756\n",
       "1.20 0.8849303 0.8868606 0.8887676 0.8906514 0.8925123 0.8943502 0.8961653\n",
       "1.30 0.9031995 0.9049021 0.9065825 0.9082409 0.9098773 0.9114920 0.9130850\n",
       "1.40 0.9192433 0.9207302 0.9221962 0.9236415 0.9250663 0.9264707 0.9278550\n",
       "1.50 0.9331928 0.9344783 0.9357445 0.9369916 0.9382198 0.9394292 0.9406201\n",
       "1.60 0.9452007 0.9463011 0.9473839 0.9484493 0.9494974 0.9505285 0.9515428\n",
       "1.70 0.9554345 0.9563671 0.9572838 0.9581849 0.9590705 0.9599408 0.9607961\n",
       "1.80 0.9640697 0.9648521 0.9656205 0.9663750 0.9671159 0.9678432 0.9685572\n",
       "1.90 0.9712834 0.9719334 0.9725711 0.9731966 0.9738102 0.9744119 0.9750021\n",
       "2.00 0.9772499 0.9777844 0.9783083 0.9788217 0.9793248 0.9798178 0.9803007\n",
       "2.10 0.9821356 0.9825708 0.9829970 0.9834142 0.9838226 0.9842224 0.9846137\n",
       "2.20 0.9860966 0.9864474 0.9867906 0.9871263 0.9874545 0.9877755 0.9880894\n",
       "2.30 0.9892759 0.9895559 0.9898296 0.9900969 0.9903581 0.9906133 0.9908625\n",
       "2.40 0.9918025 0.9920237 0.9922397 0.9924506 0.9926564 0.9928572 0.9930531\n",
       "2.50 0.9937903 0.9939634 0.9941323 0.9942969 0.9944574 0.9946139 0.9947664\n",
       "2.60 0.9953388 0.9954729 0.9956035 0.9957308 0.9958547 0.9959754 0.9960930\n",
       "2.70 0.9965330 0.9966358 0.9967359 0.9968333 0.9969280 0.9970202 0.9971099\n",
       "2.80 0.9974449 0.9975229 0.9975988 0.9976726 0.9977443 0.9978140 0.9978818\n",
       "2.90 0.9981342 0.9981929 0.9982498 0.9983052 0.9983589 0.9984111 0.9984618\n",
       "3.00 0.9986501 0.9986938 0.9987361 0.9987772 0.9988171 0.9988558 0.9988933\n",
       "3.10 0.9990324 0.9990646 0.9990957 0.9991260 0.9991553 0.9991836 0.9992112\n",
       "3.20 0.9993129 0.9993363 0.9993590 0.9993810 0.9994024 0.9994230 0.9994429\n",
       "3.30 0.9995166 0.9995335 0.9995499 0.9995658 0.9995811 0.9995959 0.9996103\n",
       "3.40 0.9996631 0.9996752 0.9996869 0.9996982 0.9997091 0.9997197 0.9997299\n",
       "3.50 0.9997674 0.9997759 0.9997842 0.9997922 0.9997999 0.9998074 0.9998146\n",
       "3.60 0.9998409 0.9998469 0.9998527 0.9998583 0.9998637 0.9998689 0.9998739\n",
       "3.70 0.9998922 0.9998964 0.9999004 0.9999043 0.9999080 0.9999116 0.9999150\n",
       "3.80 0.9999277 0.9999305 0.9999333 0.9999359 0.9999385 0.9999409 0.9999433\n",
       "3.90 0.9999519 0.9999539 0.9999557 0.9999575 0.9999593 0.9999609 0.9999625\n",
       "     0.07      0.08      0.09     \n",
       "0.00 0.5279032 0.5318814 0.5358564\n",
       "0.10 0.5674949 0.5714237 0.5753454\n",
       "0.20 0.6064199 0.6102612 0.6140919\n",
       "0.30 0.6443088 0.6480273 0.6517317\n",
       "0.40 0.6808225 0.6843863 0.6879331\n",
       "0.50 0.7156612 0.7190427 0.7224047\n",
       "0.60 0.7485711 0.7517478 0.7549029\n",
       "0.70 0.7793501 0.7823046 0.7852361\n",
       "0.80 0.8078498 0.8105703 0.8132671\n",
       "0.90 0.8339768 0.8364569 0.8389129\n",
       "1.00 0.8576903 0.8599289 0.8621434\n",
       "1.10 0.8789995 0.8809999 0.8829768\n",
       "1.20 0.8979577 0.8997274 0.9014747\n",
       "1.30 0.9146565 0.9162067 0.9177356\n",
       "1.40 0.9292191 0.9305634 0.9318879\n",
       "1.50 0.9417924 0.9429466 0.9440826\n",
       "1.60 0.9525403 0.9535213 0.9544860\n",
       "1.70 0.9616364 0.9624620 0.9632730\n",
       "1.80 0.9692581 0.9699460 0.9706210\n",
       "1.90 0.9755808 0.9761482 0.9767045\n",
       "2.00 0.9807738 0.9812372 0.9816911\n",
       "2.10 0.9849966 0.9853713 0.9857379\n",
       "2.20 0.9883962 0.9886962 0.9889893\n",
       "2.30 0.9911060 0.9913437 0.9915758\n",
       "2.40 0.9932443 0.9934309 0.9936128\n",
       "2.50 0.9949151 0.9950600 0.9952012\n",
       "2.60 0.9962074 0.9963189 0.9964274\n",
       "2.70 0.9971972 0.9972821 0.9973646\n",
       "2.80 0.9979476 0.9980116 0.9980738\n",
       "2.90 0.9985110 0.9985588 0.9986051\n",
       "3.00 0.9989297 0.9989650 0.9989992\n",
       "3.10 0.9992378 0.9992636 0.9992886\n",
       "3.20 0.9994623 0.9994810 0.9994991\n",
       "3.30 0.9996242 0.9996376 0.9996505\n",
       "3.40 0.9997398 0.9997493 0.9997585\n",
       "3.50 0.9998215 0.9998282 0.9998347\n",
       "3.60 0.9998787 0.9998834 0.9998879\n",
       "3.70 0.9999184 0.9999216 0.9999247\n",
       "3.80 0.9999456 0.9999478 0.9999499\n",
       "3.90 0.9999641 0.9999655 0.9999670"
      ]
     },
     "metadata": {},
     "output_type": "display_data"
    }
   ],
   "source": [
    "tabela_normal_padronizada"
   ]
  },
  {
   "cell_type": "markdown",
   "metadata": {
    "colab_type": "text",
    "id": "rMRmnaNPG3Go"
   },
   "source": [
    "### Obtendo $z$"
   ]
  },
  {
   "cell_type": "markdown",
   "metadata": {
    "colab_type": "text",
    "id": "T-3mV1qlUj1t"
   },
   "source": [
    "![alt text](https://caelum-online-public.s3.amazonaws.com/1178-estatistica-parte2/01/img008.png)"
   ]
  },
  {
   "cell_type": "code",
   "execution_count": 105,
   "metadata": {
    "colab": {
     "base_uri": "https://localhost:8080/",
     "height": 34
    },
    "colab_type": "code",
    "id": "nT5ZTwjOG3Go",
    "outputId": "9c20d5b5-fb36-40f1-b901-3969a2fa8ea0"
   },
   "outputs": [
    {
     "data": {
      "text/html": [
       "0.475"
      ],
      "text/latex": [
       "0.475"
      ],
      "text/markdown": [
       "0.475"
      ],
      "text/plain": [
       "[1] 0.475"
      ]
     },
     "metadata": {},
     "output_type": "display_data"
    }
   ],
   "source": [
    "0.95 / 2"
   ]
  },
  {
   "cell_type": "code",
   "execution_count": 106,
   "metadata": {
    "colab": {
     "base_uri": "https://localhost:8080/",
     "height": 34
    },
    "colab_type": "code",
    "id": "vMjck-3ZU_sz",
    "outputId": "56a3f3ba-e5d4-40c7-dc4c-b31ed5d07262"
   },
   "outputs": [
    {
     "data": {
      "text/html": [
       "0.975"
      ],
      "text/latex": [
       "0.975"
      ],
      "text/markdown": [
       "0.975"
      ],
      "text/plain": [
       "[1] 0.975"
      ]
     },
     "metadata": {},
     "output_type": "display_data"
    }
   ],
   "source": [
    "0.5 + (0.95 / 2)"
   ]
  },
  {
   "cell_type": "code",
   "execution_count": 107,
   "metadata": {
    "colab": {
     "base_uri": "https://localhost:8080/",
     "height": 34
    },
    "colab_type": "code",
    "id": "L4CMGZ3oVHLX",
    "outputId": "60470140-1dfa-4d5c-9627-097378b2fc8e"
   },
   "outputs": [
    {
     "data": {
      "text/html": [
       "1.96"
      ],
      "text/latex": [
       "1.96"
      ],
      "text/markdown": [
       "1.96"
      ],
      "text/plain": [
       "[1] 1.96"
      ]
     },
     "metadata": {},
     "output_type": "display_data"
    }
   ],
   "source": [
    "1.90 + 0.06"
   ]
  },
  {
   "cell_type": "code",
   "execution_count": 108,
   "metadata": {},
   "outputs": [
    {
     "data": {
      "text/html": [
       "1.95996398454005"
      ],
      "text/latex": [
       "1.95996398454005"
      ],
      "text/markdown": [
       "1.95996398454005"
      ],
      "text/plain": [
       "[1] 1.959964"
      ]
     },
     "metadata": {},
     "output_type": "display_data"
    }
   ],
   "source": [
    "Z <- qnorm(0.975)\n",
    "Z"
   ]
  },
  {
   "cell_type": "markdown",
   "metadata": {
    "colab_type": "text",
    "id": "ggXXP8QqTyNA"
   },
   "source": [
    "### Valores de $z$ para os níveis de confiança mais utilizados\n",
    "\n",
    "|Nível de<br>confiança|Valor da área sob<br>a curva normal| $z$ |\n",
    "|:----------------:|:---------------------------------:|:---:|\n",
    "|90%               |0,95                               |1,645|\n",
    "|95%               |0,975                              |1,96 |\n",
    "|99%               |0,995                              |2,575|"
   ]
  },
  {
   "cell_type": "markdown",
   "metadata": {
    "colab_type": "text",
    "id": "MfE1ru0AG3Hg"
   },
   "source": [
    "### Obtendo $\\sigma_\\bar{x}$"
   ]
  },
  {
   "cell_type": "code",
   "execution_count": 109,
   "metadata": {
    "colab": {
     "base_uri": "https://localhost:8080/",
     "height": 34
    },
    "colab_type": "code",
    "id": "LyQ6UUYtG3Hh",
    "outputId": "4c066583-4272-4e26-daf5-575ea4815371"
   },
   "outputs": [
    {
     "data": {
      "text/html": [
       "150"
      ],
      "text/latex": [
       "150"
      ],
      "text/markdown": [
       "150"
      ],
      "text/plain": [
       "[1] 150"
      ]
     },
     "metadata": {},
     "output_type": "display_data"
    }
   ],
   "source": [
    "standard_deviation <- 150\n",
    "standard_deviation"
   ]
  },
  {
   "cell_type": "code",
   "execution_count": 110,
   "metadata": {
    "colab": {
     "base_uri": "https://localhost:8080/",
     "height": 34
    },
    "colab_type": "code",
    "id": "ebvikT95G3Hi",
    "outputId": "bfbc2f5c-e706-46a6-aa6c-e94632aed4fc"
   },
   "outputs": [
    {
     "data": {
      "text/html": [
       "20"
      ],
      "text/latex": [
       "20"
      ],
      "text/markdown": [
       "20"
      ],
      "text/plain": [
       "[1] 20"
      ]
     },
     "metadata": {},
     "output_type": "display_data"
    }
   ],
   "source": [
    "n <- 20\n",
    "n"
   ]
  },
  {
   "cell_type": "code",
   "execution_count": 111,
   "metadata": {
    "colab": {
     "base_uri": "https://localhost:8080/",
     "height": 34
    },
    "colab_type": "code",
    "id": "TxM3yTpjG3Hk",
    "outputId": "a38a0bfc-2c3b-48f4-cea7-ee5f5147a251"
   },
   "outputs": [
    {
     "data": {
      "text/html": [
       "4.47213595499958"
      ],
      "text/latex": [
       "4.47213595499958"
      ],
      "text/markdown": [
       "4.47213595499958"
      ],
      "text/plain": [
       "[1] 4.472136"
      ]
     },
     "metadata": {},
     "output_type": "display_data"
    }
   ],
   "source": [
    "sqrt_n <- sqrt(n)\n",
    "sqrt_n"
   ]
  },
  {
   "cell_type": "code",
   "execution_count": 112,
   "metadata": {
    "colab": {
     "base_uri": "https://localhost:8080/",
     "height": 34
    },
    "colab_type": "code",
    "id": "HNAcOpl0G3Hl",
    "outputId": "3b37c2d5-b02d-40af-897d-6c588e2696aa"
   },
   "outputs": [
    {
     "data": {
      "text/html": [
       "33.5410196624968"
      ],
      "text/latex": [
       "33.5410196624968"
      ],
      "text/markdown": [
       "33.5410196624968"
      ],
      "text/plain": [
       "[1] 33.54102"
      ]
     },
     "metadata": {},
     "output_type": "display_data"
    }
   ],
   "source": [
    "sigma <- standard_deviation / sqrt_n\n",
    "sigma"
   ]
  },
  {
   "cell_type": "markdown",
   "metadata": {
    "colab_type": "text",
    "id": "NHbXlLk-G3Hn"
   },
   "source": [
    "### Obtendo $e$"
   ]
  },
  {
   "cell_type": "code",
   "execution_count": 113,
   "metadata": {
    "colab": {
     "base_uri": "https://localhost:8080/",
     "height": 34
    },
    "colab_type": "code",
    "id": "gAfakih5G3Ho",
    "outputId": "48958fa3-2cf8-4bc5-dfc3-0fb925798b38"
   },
   "outputs": [
    {
     "data": {
      "text/html": [
       "65.7391905432436"
      ],
      "text/latex": [
       "65.7391905432436"
      ],
      "text/markdown": [
       "65.7391905432436"
      ],
      "text/plain": [
       "[1] 65.73919"
      ]
     },
     "metadata": {},
     "output_type": "display_data"
    }
   ],
   "source": [
    "e <- Z * sigma\n",
    "e"
   ]
  },
  {
   "cell_type": "markdown",
   "metadata": {
    "colab_type": "text",
    "id": "sx1QTfNrG3Hq"
   },
   "source": [
    "### Solução 1 - Calculando o intervalo de confiança para a média"
   ]
  },
  {
   "cell_type": "code",
   "execution_count": 114,
   "metadata": {
    "colab": {
     "base_uri": "https://localhost:8080/",
     "height": 34
    },
    "colab_type": "code",
    "id": "NlJCcPZnG3Hq",
    "outputId": "09cee323-103e-4832-c23f-97daf4b9929f"
   },
   "outputs": [
    {
     "data": {
      "text/html": [
       "<style>\n",
       ".list-inline {list-style: none; margin:0; padding: 0}\n",
       ".list-inline>li {display: inline-block}\n",
       ".list-inline>li:not(:last-child)::after {content: \"\\00b7\"; padding: 0 .5ex}\n",
       "</style>\n",
       "<ol class=list-inline><li>4984.26080945676</li><li>5115.73919054324</li></ol>\n"
      ],
      "text/latex": [
       "\\begin{enumerate*}\n",
       "\\item 4984.26080945676\n",
       "\\item 5115.73919054324\n",
       "\\end{enumerate*}\n"
      ],
      "text/markdown": [
       "1. 4984.26080945676\n",
       "2. 5115.73919054324\n",
       "\n",
       "\n"
      ],
      "text/plain": [
       "[1] 4984.261 5115.739"
      ]
     },
     "metadata": {},
     "output_type": "display_data"
    }
   ],
   "source": [
    "interval <- c(\n",
    "    mean_sample - e, \n",
    "    mean_sample + e\n",
    ")\n",
    "interval"
   ]
  },
  {
   "cell_type": "markdown",
   "metadata": {
    "colab_type": "text",
    "id": "DkFJL7fcG3Ht"
   },
   "source": [
    "### Solução 2 - Calculando o intervalo de confiança para a média\n",
    "\n",
    "#### <font color=red>Documentações:\n",
    "\n",
    "- [**MeanCI**](https://www.rdocumentation.org/packages/DescTools/versions/0.99.30/topics/MeanCI)"
   ]
  },
  {
   "cell_type": "markdown",
   "metadata": {},
   "source": [
    "#### Instalação do pacote DescTools\n",
    "\n",
    "https://cran.r-project.org"
   ]
  },
  {
   "cell_type": "code",
   "execution_count": 115,
   "metadata": {
    "scrolled": true
   },
   "outputs": [],
   "source": [
    "# install.packages('DescTools')\n",
    "\n",
    "# OU\n",
    "\n",
    "# packageurl <- \"https://cran.r-project.org/src/contrib/Archive/DescTools/DescTools_0.99.30.tar.gz\"\n",
    "# install.packages(packageurl, repos=NULL, type=\"source\")"
   ]
  },
  {
   "cell_type": "code",
   "execution_count": 116,
   "metadata": {},
   "outputs": [],
   "source": [
    "library(DescTools)"
   ]
  },
  {
   "cell_type": "code",
   "execution_count": 117,
   "metadata": {},
   "outputs": [
    {
     "data": {
      "text/html": [
       "<style>\n",
       ".dl-inline {width: auto; margin:0; padding: 0}\n",
       ".dl-inline>dt, .dl-inline>dd {float: none; width: auto; display: inline-block}\n",
       ".dl-inline>dt::after {content: \":\\0020\"; padding-right: .5ex}\n",
       ".dl-inline>dt:not(:first-of-type) {padding-left: .5ex}\n",
       "</style><dl class=dl-inline><dt>mean</dt><dd>5050</dd><dt>lwr.ci</dt><dd>4984.26080945676</dd><dt>upr.ci</dt><dd>5115.73919054324</dd></dl>\n"
      ],
      "text/latex": [
       "\\begin{description*}\n",
       "\\item[mean] 5050\n",
       "\\item[lwr.ci] 4984.26080945676\n",
       "\\item[upr.ci] 5115.73919054324\n",
       "\\end{description*}\n"
      ],
      "text/markdown": [
       "mean\n",
       ":   5050lwr.ci\n",
       ":   4984.26080945676upr.ci\n",
       ":   5115.73919054324\n",
       "\n"
      ],
      "text/plain": [
       "    mean   lwr.ci   upr.ci \n",
       "5050.000 4984.261 5115.739 "
      ]
     },
     "metadata": {},
     "output_type": "display_data"
    }
   ],
   "source": [
    "MeanCI(x=5050, sd=sigma, type='norm', conf.level=0.95,sides='two.sided')"
   ]
  },
  {
   "cell_type": "markdown",
   "metadata": {},
   "source": [
    "#### <font color='green'>Calculate Dataset</font>"
   ]
  },
  {
   "cell_type": "code",
   "execution_count": 118,
   "metadata": {},
   "outputs": [
    {
     "data": {
      "text/html": [
       "43.9831762984956"
      ],
      "text/latex": [
       "43.9831762984956"
      ],
      "text/markdown": [
       "43.9831762984956"
      ],
      "text/plain": [
       "[1] 43.98318"
      ]
     },
     "metadata": {},
     "output_type": "display_data"
    },
    {
     "data": {
      "text/html": [
       "44.1596659711556"
      ],
      "text/latex": [
       "44.1596659711556"
      ],
      "text/markdown": [
       "44.1596659711556"
      ],
      "text/plain": [
       "[1] 44.15967"
      ]
     },
     "metadata": {},
     "output_type": "display_data"
    }
   ],
   "source": [
    "mean(dataset$Age) - (Z *(sd(dataset$Age) / sqrt(nrow(dataset))))\n",
    "mean(dataset$Age) + (Z *(sd(dataset$Age) / sqrt(nrow(dataset))))"
   ]
  },
  {
   "cell_type": "code",
   "execution_count": 119,
   "metadata": {},
   "outputs": [
    {
     "data": {
      "text/html": [
       "0.0450237029996855"
      ],
      "text/latex": [
       "0.0450237029996855"
      ],
      "text/markdown": [
       "0.0450237029996855"
      ],
      "text/plain": [
       "[1] 0.0450237"
      ]
     },
     "metadata": {},
     "output_type": "display_data"
    }
   ],
   "source": [
    "sigma <- sd(dataset$Age) / sqrt(nrow(dataset))\n",
    "sigma"
   ]
  },
  {
   "cell_type": "code",
   "execution_count": 120,
   "metadata": {},
   "outputs": [
    {
     "data": {
      "text/html": [
       "<style>\n",
       ".dl-inline {width: auto; margin:0; padding: 0}\n",
       ".dl-inline>dt, .dl-inline>dd {float: none; width: auto; display: inline-block}\n",
       ".dl-inline>dt::after {content: \":\\0020\"; padding-right: .5ex}\n",
       ".dl-inline>dt:not(:first-of-type) {padding-left: .5ex}\n",
       "</style><dl class=dl-inline><dt>mean</dt><dd>44.0714211348256</dd><dt>lwr.ci</dt><dd>43.9831762984956</dd><dt>upr.ci</dt><dd>44.1596659711556</dd></dl>\n"
      ],
      "text/latex": [
       "\\begin{description*}\n",
       "\\item[mean] 44.0714211348256\n",
       "\\item[lwr.ci] 43.9831762984956\n",
       "\\item[upr.ci] 44.1596659711556\n",
       "\\end{description*}\n"
      ],
      "text/markdown": [
       "mean\n",
       ":   44.0714211348256lwr.ci\n",
       ":   43.9831762984956upr.ci\n",
       ":   44.1596659711556\n",
       "\n"
      ],
      "text/plain": [
       "    mean   lwr.ci   upr.ci \n",
       "44.07142 43.98318 44.15967 "
      ]
     },
     "metadata": {},
     "output_type": "display_data"
    }
   ],
   "source": [
    "MeanCI(x=mean(dataset$Age), sd=sigma, type='norm', conf.level=0.95, sides='two.sided')"
   ]
  },
  {
   "cell_type": "markdown",
   "metadata": {},
   "source": [
    " "
   ]
  },
  {
   "cell_type": "markdown",
   "metadata": {},
   "source": [
    "## <font color='blue'>Exercise: Margin of error</font>\n",
    "***"
   ]
  },
  {
   "cell_type": "markdown",
   "metadata": {},
   "source": [
    "Para estimar o valor médio gasto por cada cliente de uma grande rede de fast food, foi selecionada uma amostra de **50 clientes**. Assumindo que o valor do desvio padrão da população seja de **R$ 6,00** e que essa população se distribui normalmente, obtenha a margem de erro desta estimativa, para um **nível de confiança de 95%.**"
   ]
  },
  {
   "cell_type": "code",
   "execution_count": 121,
   "metadata": {},
   "outputs": [],
   "source": [
    "sd <- 6.00"
   ]
  },
  {
   "cell_type": "code",
   "execution_count": 122,
   "metadata": {},
   "outputs": [],
   "source": [
    "n <- 50"
   ]
  },
  {
   "cell_type": "code",
   "execution_count": 123,
   "metadata": {},
   "outputs": [],
   "source": [
    "confidence_level <- 0.95"
   ]
  },
  {
   "cell_type": "code",
   "execution_count": 124,
   "metadata": {},
   "outputs": [],
   "source": [
    "probability <- 0.5 + (confidence_level / 2)"
   ]
  },
  {
   "cell_type": "code",
   "execution_count": 125,
   "metadata": {},
   "outputs": [
    {
     "data": {
      "text/html": [
       "1.95996398454005"
      ],
      "text/latex": [
       "1.95996398454005"
      ],
      "text/markdown": [
       "1.95996398454005"
      ],
      "text/plain": [
       "[1] 1.959964"
      ]
     },
     "metadata": {},
     "output_type": "display_data"
    }
   ],
   "source": [
    "Z <- qnorm(probability)\n",
    "Z"
   ]
  },
  {
   "cell_type": "code",
   "execution_count": 126,
   "metadata": {},
   "outputs": [
    {
     "data": {
      "text/html": [
       "1.66"
      ],
      "text/latex": [
       "1.66"
      ],
      "text/markdown": [
       "1.66"
      ],
      "text/plain": [
       "[1] 1.66"
      ]
     },
     "metadata": {},
     "output_type": "display_data"
    }
   ],
   "source": [
    "e <-  Z * (sd / sqrt(n))\n",
    "round(e, 2)"
   ]
  },
  {
   "cell_type": "markdown",
   "metadata": {},
   "source": [
    " "
   ]
  },
  {
   "cell_type": "markdown",
   "metadata": {},
   "source": [
    "## <font color='blue'>Exercise: Margin of error</font>"
   ]
  },
  {
   "cell_type": "markdown",
   "metadata": {},
   "source": [
    "Uma amostra aleatória simples de **1976** itens de uma população normalmente distribuída, com desvio padrão igual a **11**, resultou em uma média amostral de **28**. Qual o intervalo de confiança de **90%** para a média populacional?"
   ]
  },
  {
   "cell_type": "code",
   "execution_count": 127,
   "metadata": {},
   "outputs": [
    {
     "data": {
      "text/html": [
       "0.9"
      ],
      "text/latex": [
       "0.9"
      ],
      "text/markdown": [
       "0.9"
      ],
      "text/plain": [
       "[1] 0.9"
      ]
     },
     "metadata": {},
     "output_type": "display_data"
    }
   ],
   "source": [
    "confidence_level <- 0.90\n",
    "confidence_level"
   ]
  },
  {
   "cell_type": "code",
   "execution_count": 128,
   "metadata": {},
   "outputs": [
    {
     "data": {
      "text/html": [
       "0.95"
      ],
      "text/latex": [
       "0.95"
      ],
      "text/markdown": [
       "0.95"
      ],
      "text/plain": [
       "[1] 0.95"
      ]
     },
     "metadata": {},
     "output_type": "display_data"
    }
   ],
   "source": [
    "probability <- 0.5 + (confidence_level / 2)\n",
    "probability"
   ]
  },
  {
   "cell_type": "code",
   "execution_count": 129,
   "metadata": {},
   "outputs": [],
   "source": [
    "Z <- qnorm(probability)\n",
    "sd <- 11\n",
    "mean_sample <- 28\n",
    "n <- 1976\n",
    "sigma <- sd / sqrt(n)"
   ]
  },
  {
   "cell_type": "code",
   "execution_count": 130,
   "metadata": {},
   "outputs": [
    {
     "data": {
      "text/html": [
       "1.64485362695147"
      ],
      "text/latex": [
       "1.64485362695147"
      ],
      "text/markdown": [
       "1.64485362695147"
      ],
      "text/plain": [
       "[1] 1.644854"
      ]
     },
     "metadata": {},
     "output_type": "display_data"
    }
   ],
   "source": [
    "Z"
   ]
  },
  {
   "cell_type": "code",
   "execution_count": 131,
   "metadata": {},
   "outputs": [
    {
     "data": {
      "text/html": [
       "11"
      ],
      "text/latex": [
       "11"
      ],
      "text/markdown": [
       "11"
      ],
      "text/plain": [
       "[1] 11"
      ]
     },
     "metadata": {},
     "output_type": "display_data"
    }
   ],
   "source": [
    "sd"
   ]
  },
  {
   "cell_type": "code",
   "execution_count": 132,
   "metadata": {},
   "outputs": [
    {
     "data": {
      "text/html": [
       "28"
      ],
      "text/latex": [
       "28"
      ],
      "text/markdown": [
       "28"
      ],
      "text/plain": [
       "[1] 28"
      ]
     },
     "metadata": {},
     "output_type": "display_data"
    }
   ],
   "source": [
    "mean_sample"
   ]
  },
  {
   "cell_type": "code",
   "execution_count": 133,
   "metadata": {},
   "outputs": [
    {
     "data": {
      "text/html": [
       "1976"
      ],
      "text/latex": [
       "1976"
      ],
      "text/markdown": [
       "1976"
      ],
      "text/plain": [
       "[1] 1976"
      ]
     },
     "metadata": {},
     "output_type": "display_data"
    }
   ],
   "source": [
    "n"
   ]
  },
  {
   "cell_type": "code",
   "execution_count": 134,
   "metadata": {},
   "outputs": [
    {
     "data": {
      "text/html": [
       "0.247456698866216"
      ],
      "text/latex": [
       "0.247456698866216"
      ],
      "text/markdown": [
       "0.247456698866216"
      ],
      "text/plain": [
       "[1] 0.2474567"
      ]
     },
     "metadata": {},
     "output_type": "display_data"
    }
   ],
   "source": [
    "sigma"
   ]
  },
  {
   "cell_type": "code",
   "execution_count": 135,
   "metadata": {},
   "outputs": [
    {
     "data": {
      "text/html": [
       "<style>\n",
       ".dl-inline {width: auto; margin:0; padding: 0}\n",
       ".dl-inline>dt, .dl-inline>dd {float: none; width: auto; display: inline-block}\n",
       ".dl-inline>dt::after {content: \":\\0020\"; padding-right: .5ex}\n",
       ".dl-inline>dt:not(:first-of-type) {padding-left: .5ex}\n",
       "</style><dl class=dl-inline><dt>mean</dt><dd>28</dd><dt>lwr.ci</dt><dd>27.5929699513565</dd><dt>upr.ci</dt><dd>28.4070300486435</dd></dl>\n"
      ],
      "text/latex": [
       "\\begin{description*}\n",
       "\\item[mean] 28\n",
       "\\item[lwr.ci] 27.5929699513565\n",
       "\\item[upr.ci] 28.4070300486435\n",
       "\\end{description*}\n"
      ],
      "text/markdown": [
       "mean\n",
       ":   28lwr.ci\n",
       ":   27.5929699513565upr.ci\n",
       ":   28.4070300486435\n",
       "\n"
      ],
      "text/plain": [
       "    mean   lwr.ci   upr.ci \n",
       "28.00000 27.59297 28.40703 "
      ]
     },
     "metadata": {},
     "output_type": "display_data"
    }
   ],
   "source": [
    "MeanCI(x=mean_sample, sd=sigma, type='norm', conf.level=0.90, sides='two.sided')"
   ]
  },
  {
   "cell_type": "markdown",
   "metadata": {},
   "source": [
    " "
   ]
  },
  {
   "cell_type": "markdown",
   "metadata": {},
   "source": [
    "## <font color='blue'>Exercise: Traveling by plane</font>\n",
    "***"
   ]
  },
  {
   "cell_type": "markdown",
   "metadata": {},
   "source": [
    "Os voos de determinada ponte aérea apresentam duração normalmente distribuída, com **média igual a 120 minutos** e **desvio padrão igual a 20 minutos**. Responda as seguintes perguntas:\n",
    "\n",
    "1-Qual a probabilidade de um voo durar menos de 110 minutos?\n",
    "\n",
    "2-Qual a probabilidade de um voo durar mais de 90 minutos?\n",
    "\n",
    "3-Qual a duração mínima de 80% das viagens?\n",
    "\n",
    "Observação: Na pergunta 3, precisamos obter o Z que satisfaz a condição e depois fazer a transformação de Z para x. Observe as "
   ]
  },
  {
   "cell_type": "markdown",
   "metadata": {},
   "source": [
    "### <font color='red'> Formula:</font>\n",
    "***"
   ]
  },
  {
   "cell_type": "markdown",
   "metadata": {},
   "source": [
    "# $$Z = \\frac{x-\\mu}{\\sigma}$$\n",
    "\n",
    "Onde:\n",
    "\n",
    "$x$ = variável normal com média $\\mu$ e desvio padrão $\\sigma$\n",
    "\n",
    "$\\sigma$ = desvio padrão\n",
    "\n",
    "$\\mu$ = média"
   ]
  },
  {
   "cell_type": "markdown",
   "metadata": {},
   "source": [
    "## <font color='green'>Question 1</font>\n",
    "***"
   ]
  },
  {
   "cell_type": "code",
   "execution_count": 136,
   "metadata": {},
   "outputs": [
    {
     "data": {
      "text/html": [
       "1.64485362695147"
      ],
      "text/latex": [
       "1.64485362695147"
      ],
      "text/markdown": [
       "1.64485362695147"
      ],
      "text/plain": [
       "[1] 1.644854"
      ]
     },
     "metadata": {},
     "output_type": "display_data"
    }
   ],
   "source": [
    "Z_1 <- (110 - 120) / 20\n",
    "Z"
   ]
  },
  {
   "cell_type": "code",
   "execution_count": 137,
   "metadata": {},
   "outputs": [
    {
     "data": {
      "text/html": [
       "0.308537538725987"
      ],
      "text/latex": [
       "0.308537538725987"
      ],
      "text/markdown": [
       "0.308537538725987"
      ],
      "text/plain": [
       "[1] 0.3085375"
      ]
     },
     "metadata": {},
     "output_type": "display_data"
    }
   ],
   "source": [
    "probability_1 <- pnorm(Z_1)\n",
    "probability_1 "
   ]
  },
  {
   "cell_type": "code",
   "execution_count": 138,
   "metadata": {},
   "outputs": [
    {
     "data": {
      "text/html": [
       "30.85"
      ],
      "text/latex": [
       "30.85"
      ],
      "text/markdown": [
       "30.85"
      ],
      "text/plain": [
       "[1] 30.85"
      ]
     },
     "metadata": {},
     "output_type": "display_data"
    }
   ],
   "source": [
    "round(probability_1, 4) * 100"
   ]
  },
  {
   "cell_type": "markdown",
   "metadata": {},
   "source": [
    " "
   ]
  },
  {
   "cell_type": "markdown",
   "metadata": {},
   "source": [
    "## <font color='green'> Question 2</font>\n",
    "***"
   ]
  },
  {
   "cell_type": "code",
   "execution_count": 139,
   "metadata": {},
   "outputs": [
    {
     "data": {
      "text/html": [
       "-1.5"
      ],
      "text/latex": [
       "-1.5"
      ],
      "text/markdown": [
       "-1.5"
      ],
      "text/plain": [
       "[1] -1.5"
      ]
     },
     "metadata": {},
     "output_type": "display_data"
    }
   ],
   "source": [
    "Z_2 <- (90 - 120) / 20\n",
    "Z_2"
   ]
  },
  {
   "cell_type": "code",
   "execution_count": 140,
   "metadata": {},
   "outputs": [
    {
     "data": {
      "text/html": [
       "0.933192798731142"
      ],
      "text/latex": [
       "0.933192798731142"
      ],
      "text/markdown": [
       "0.933192798731142"
      ],
      "text/plain": [
       "[1] 0.9331928"
      ]
     },
     "metadata": {},
     "output_type": "display_data"
    }
   ],
   "source": [
    "probability_2 <- pnorm(-Z_2)\n",
    "probability_2"
   ]
  },
  {
   "cell_type": "code",
   "execution_count": 141,
   "metadata": {},
   "outputs": [
    {
     "data": {
      "text/html": [
       "93.32"
      ],
      "text/latex": [
       "93.32"
      ],
      "text/markdown": [
       "93.32"
      ],
      "text/plain": [
       "[1] 93.32"
      ]
     },
     "metadata": {},
     "output_type": "display_data"
    }
   ],
   "source": [
    "round(probability_2, 4) * 100"
   ]
  },
  {
   "cell_type": "markdown",
   "metadata": {},
   "source": [
    " "
   ]
  },
  {
   "cell_type": "markdown",
   "metadata": {},
   "source": [
    "## <font color='green'>Question 3</font>\n",
    "***"
   ]
  },
  {
   "cell_type": "code",
   "execution_count": 142,
   "metadata": {},
   "outputs": [
    {
     "data": {
      "text/html": [
       "-0.841621233572914"
      ],
      "text/latex": [
       "-0.841621233572914"
      ],
      "text/markdown": [
       "-0.841621233572914"
      ],
      "text/plain": [
       "[1] -0.8416212"
      ]
     },
     "metadata": {},
     "output_type": "display_data"
    }
   ],
   "source": [
    "Z <- -qnorm(0.80)\n",
    "Z"
   ]
  },
  {
   "cell_type": "code",
   "execution_count": 143,
   "metadata": {},
   "outputs": [
    {
     "data": {
      "text/html": [
       "103.167575328542"
      ],
      "text/latex": [
       "103.167575328542"
      ],
      "text/markdown": [
       "103.167575328542"
      ],
      "text/plain": [
       "[1] 103.1676"
      ]
     },
     "metadata": {},
     "output_type": "display_data"
    }
   ],
   "source": [
    "x <- Z * 20 + 120\n",
    "x"
   ]
  },
  {
   "cell_type": "code",
   "execution_count": 144,
   "metadata": {},
   "outputs": [
    {
     "data": {
      "text/html": [
       "103.17"
      ],
      "text/latex": [
       "103.17"
      ],
      "text/markdown": [
       "103.17"
      ],
      "text/plain": [
       "[1] 103.17"
      ]
     },
     "metadata": {},
     "output_type": "display_data"
    }
   ],
   "source": [
    "round(x, 2)"
   ]
  },
  {
   "cell_type": "markdown",
   "metadata": {
    "colab_type": "text",
    "id": "aF9jAC6yG3Gl"
   },
   "source": [
    "# <font color=green>5 CÁLCULO DO TAMANHO DA AMOSTRA</font>\n",
    "***"
   ]
  },
  {
   "cell_type": "markdown",
   "metadata": {
    "colab_type": "text",
    "id": "BwiygaNqnjrr"
   },
   "source": [
    "## <font color='red'>Problema </font>"
   ]
  },
  {
   "cell_type": "markdown",
   "metadata": {
    "colab_type": "text",
    "id": "a7RjjVVUnlI3"
   },
   "source": [
    "Estamos estudando o rendimento mensal dos chefes de domicílios com renda até R$\\$$ 5.000,00 no Brasil. Nosso supervisor determinou que o **erro máximo em relação a média seja de R$\\$$ 10,00**. Sabemos que o **desvio padrão populacional** deste grupo de trabalhadores é de **R$\\$$ 1.082,79**. Para um **nível de confiança de 95%**, qual deve ser o tamanho da amostra de nosso estudo?"
   ]
  },
  {
   "cell_type": "markdown",
   "metadata": {
    "colab_type": "text",
    "id": "za2sGJt6G3Gm"
   },
   "source": [
    "## <font color=green>5.1 Variáveis quantitativas e população infinita</font>\n",
    "***"
   ]
  },
  {
   "cell_type": "markdown",
   "metadata": {
    "colab_type": "text",
    "id": "3wqMjJWR5sVq"
   },
   "source": [
    "# $$e = z \\frac{\\sigma}{\\sqrt{n}}$$"
   ]
  },
  {
   "cell_type": "markdown",
   "metadata": {
    "colab_type": "text",
    "id": "X1AxpKtIG3Gn"
   },
   "source": [
    "#### Com desvio padrão conhecido\n",
    "\n",
    "## $$n = \\left(z\\frac{\\sigma}{e}\\right)^2$$\n",
    "\n",
    "#### Com desvio padrão desconhecido\n",
    "\n",
    "## $$n = \\left(z\\frac{s}{e}\\right)^2$$\n",
    "\n",
    "Onde:\n",
    "\n",
    "$z$ = variável normal padronizada\n",
    "\n",
    "$\\sigma$ = desvio padrão populacional\n",
    "\n",
    "$s$ = desvio padrão amostral\n",
    "\n",
    "$e$ = erro inferencial"
   ]
  },
  {
   "cell_type": "markdown",
   "metadata": {
    "colab_type": "text",
    "id": "T0fysCyDG3Gn"
   },
   "source": [
    "### <font color='red'>Observações</font>\n",
    "\n",
    "1. O desvio padrão ($\\sigma$ ou $s$) e o erro ($e$) devem estar na mesma unidade de medida.\n",
    "\n",
    "2. Quando o erro ($e$) for representado em termos percentuais, deve ser interpretado como um percentual relacionado à média."
   ]
  },
  {
   "cell_type": "markdown",
   "metadata": {
    "colab_type": "text",
    "id": "WHYBTaupG3Gn"
   },
   "source": [
    "## <font color='blue'>Exemplo: Rendimento médio</font>"
   ]
  },
  {
   "cell_type": "markdown",
   "metadata": {
    "colab_type": "text",
    "id": "dcdzo7EgG3Go"
   },
   "source": [
    "Estamos estudando o rendimento mensal dos chefes de domicílios no Brasil. Nosso supervisor determinou que o **erro máximo em relação a média seja de R$\\$$ 100,00**. Sabemos que o **desvio padrão populacional** deste grupo de trabalhadores é de **R$\\$$ 3.323,39**. Para um **nível de confiança de 95%**, qual deve ser o tamanho da amostra de nosso estudo?"
   ]
  },
  {
   "cell_type": "code",
   "execution_count": 145,
   "metadata": {
    "colab": {
     "base_uri": "https://localhost:8080/",
     "height": 34
    },
    "colab_type": "code",
    "id": "XtJ5I_kaKDN3",
    "outputId": "a519e330-ddf0-492c-f42d-5cef36fed4c9"
   },
   "outputs": [
    {
     "data": {
      "text/html": [
       "0.475"
      ],
      "text/latex": [
       "0.475"
      ],
      "text/markdown": [
       "0.475"
      ],
      "text/plain": [
       "[1] 0.475"
      ]
     },
     "metadata": {},
     "output_type": "display_data"
    }
   ],
   "source": [
    "0.95 / 2"
   ]
  },
  {
   "cell_type": "code",
   "execution_count": 146,
   "metadata": {
    "colab": {
     "base_uri": "https://localhost:8080/",
     "height": 34
    },
    "colab_type": "code",
    "id": "-4TLCgNLKC95",
    "outputId": "19f3b7af-ff33-4db4-c675-c62b5088137e"
   },
   "outputs": [
    {
     "data": {
      "text/html": [
       "0.975"
      ],
      "text/latex": [
       "0.975"
      ],
      "text/markdown": [
       "0.975"
      ],
      "text/plain": [
       "[1] 0.975"
      ]
     },
     "metadata": {},
     "output_type": "display_data"
    }
   ],
   "source": [
    "0.5 + (0.95 / 2)"
   ]
  },
  {
   "cell_type": "code",
   "execution_count": 147,
   "metadata": {
    "colab": {
     "base_uri": "https://localhost:8080/",
     "height": 34
    },
    "colab_type": "code",
    "id": "7XDT12I4ViYN",
    "outputId": "a0af8729-80a8-4b33-b307-96d144c83029"
   },
   "outputs": [
    {
     "data": {
      "text/html": [
       "1.95996398454005"
      ],
      "text/latex": [
       "1.95996398454005"
      ],
      "text/markdown": [
       "1.95996398454005"
      ],
      "text/plain": [
       "[1] 1.959964"
      ]
     },
     "metadata": {},
     "output_type": "display_data"
    }
   ],
   "source": [
    "Z <- qnorm(0.975)\n",
    "Z"
   ]
  },
  {
   "cell_type": "markdown",
   "metadata": {
    "colab_type": "text",
    "id": "6uCkW4KlG3Gr"
   },
   "source": [
    "### Obtendo $\\sigma$"
   ]
  },
  {
   "cell_type": "code",
   "execution_count": 148,
   "metadata": {
    "colab": {
     "base_uri": "https://localhost:8080/",
     "height": 34
    },
    "colab_type": "code",
    "id": "1RmtZfj-G3Gr",
    "outputId": "d3e77bf1-b933-4ade-846f-95e25f4e1d6e"
   },
   "outputs": [
    {
     "data": {
      "text/html": [
       "3323.39"
      ],
      "text/latex": [
       "3323.39"
      ],
      "text/markdown": [
       "3323.39"
      ],
      "text/plain": [
       "[1] 3323.39"
      ]
     },
     "metadata": {},
     "output_type": "display_data"
    }
   ],
   "source": [
    "sigma <- 3323.39\n",
    "sigma"
   ]
  },
  {
   "cell_type": "markdown",
   "metadata": {
    "colab_type": "text",
    "id": "Cl39PIZ2G3Gt"
   },
   "source": [
    "### Obtendo $e$"
   ]
  },
  {
   "cell_type": "code",
   "execution_count": 149,
   "metadata": {
    "colab": {
     "base_uri": "https://localhost:8080/",
     "height": 34
    },
    "colab_type": "code",
    "id": "NTRMt2gWG3Gt",
    "outputId": "f7d7ae3f-7e33-41cc-a11a-5b09de70cc2c"
   },
   "outputs": [
    {
     "data": {
      "text/html": [
       "100"
      ],
      "text/latex": [
       "100"
      ],
      "text/markdown": [
       "100"
      ],
      "text/plain": [
       "[1] 100"
      ]
     },
     "metadata": {},
     "output_type": "display_data"
    }
   ],
   "source": [
    "e <- 100\n",
    "e"
   ]
  },
  {
   "cell_type": "markdown",
   "metadata": {
    "colab_type": "text",
    "id": "OlAX3Gj6G3Gv"
   },
   "source": [
    "### Obtendo $n$"
   ]
  },
  {
   "cell_type": "code",
   "execution_count": 150,
   "metadata": {
    "colab": {
     "base_uri": "https://localhost:8080/",
     "height": 34
    },
    "colab_type": "code",
    "id": "0MjluwHPG3Gv",
    "outputId": "8f74510a-4f4b-4129-d3c3-d31be24567fa",
    "scrolled": true
   },
   "outputs": [
    {
     "data": {
      "text/html": [
       "4242.86095531181"
      ],
      "text/latex": [
       "4242.86095531181"
      ],
      "text/markdown": [
       "4242.86095531181"
      ],
      "text/plain": [
       "[1] 4242.861"
      ]
     },
     "metadata": {},
     "output_type": "display_data"
    }
   ],
   "source": [
    "n <- (Z * (sigma / e)) ** 2\n",
    "n"
   ]
  },
  {
   "cell_type": "code",
   "execution_count": 151,
   "metadata": {},
   "outputs": [
    {
     "data": {
      "text/html": [
       "4243"
      ],
      "text/latex": [
       "4243"
      ],
      "text/markdown": [
       "4243"
      ],
      "text/plain": [
       "[1] 4243"
      ]
     },
     "metadata": {},
     "output_type": "display_data"
    }
   ],
   "source": [
    "round(n)"
   ]
  },
  {
   "cell_type": "markdown",
   "metadata": {},
   "source": [
    "## <font color='blue'>Exercise: Getting Sample Size #1</font>\n",
    "***"
   ]
  },
  {
   "cell_type": "markdown",
   "metadata": {},
   "source": [
    "O valor do gasto médio dos clientes de uma loja de conveniência é de **45,50 Reais**. Assumindo que o desvio padrão dos gastos é igual a **15,00 Reais**, qual deve ser o tamanho da amostra para estimarmos a média populacional, com um nível de significância de **10%**? Considere que o erro máximo aceitável seja de 10%."
   ]
  },
  {
   "cell_type": "code",
   "execution_count": 152,
   "metadata": {},
   "outputs": [],
   "source": [
    "mean <- 45.5"
   ]
  },
  {
   "cell_type": "code",
   "execution_count": 153,
   "metadata": {},
   "outputs": [],
   "source": [
    "sd <- 15"
   ]
  },
  {
   "cell_type": "code",
   "execution_count": 154,
   "metadata": {},
   "outputs": [],
   "source": [
    "e <- 0.1"
   ]
  },
  {
   "cell_type": "code",
   "execution_count": 155,
   "metadata": {},
   "outputs": [],
   "source": [
    "meaningfulness <- 0.1"
   ]
  },
  {
   "cell_type": "code",
   "execution_count": 156,
   "metadata": {},
   "outputs": [
    {
     "data": {
      "text/html": [
       "0.9"
      ],
      "text/latex": [
       "0.9"
      ],
      "text/markdown": [
       "0.9"
      ],
      "text/plain": [
       "[1] 0.9"
      ]
     },
     "metadata": {},
     "output_type": "display_data"
    }
   ],
   "source": [
    "confidence <- 1 - meaningfulness\n",
    "confidence"
   ]
  },
  {
   "cell_type": "code",
   "execution_count": 157,
   "metadata": {},
   "outputs": [
    {
     "data": {
      "text/html": [
       "1.64485362695147"
      ],
      "text/latex": [
       "1.64485362695147"
      ],
      "text/markdown": [
       "1.64485362695147"
      ],
      "text/plain": [
       "[1] 1.644854"
      ]
     },
     "metadata": {},
     "output_type": "display_data"
    }
   ],
   "source": [
    "Z <- qnorm(0.5 + (confidence / 2))\n",
    "Z"
   ]
  },
  {
   "cell_type": "code",
   "execution_count": 158,
   "metadata": {},
   "outputs": [
    {
     "data": {
      "text/html": [
       "4.55"
      ],
      "text/latex": [
       "4.55"
      ],
      "text/markdown": [
       "4.55"
      ],
      "text/plain": [
       "[1] 4.55"
      ]
     },
     "metadata": {},
     "output_type": "display_data"
    }
   ],
   "source": [
    "e <- e * mean\n",
    "e"
   ]
  },
  {
   "cell_type": "code",
   "execution_count": 159,
   "metadata": {},
   "outputs": [
    {
     "data": {
      "text/html": [
       "29.4045297510671"
      ],
      "text/latex": [
       "29.4045297510671"
      ],
      "text/markdown": [
       "29.4045297510671"
      ],
      "text/plain": [
       "[1] 29.40453"
      ]
     },
     "metadata": {},
     "output_type": "display_data"
    }
   ],
   "source": [
    "n <- (Z * (sd / e)) ** 2\n",
    "n"
   ]
  },
  {
   "cell_type": "code",
   "execution_count": 160,
   "metadata": {},
   "outputs": [
    {
     "data": {
      "text/html": [
       "29"
      ],
      "text/latex": [
       "29"
      ],
      "text/markdown": [
       "29"
      ],
      "text/plain": [
       "[1] 29"
      ]
     },
     "metadata": {},
     "output_type": "display_data"
    }
   ],
   "source": [
    "round(n)"
   ]
  },
  {
   "cell_type": "markdown",
   "metadata": {},
   "source": [
    " "
   ]
  },
  {
   "cell_type": "markdown",
   "metadata": {},
   "source": [
    "## <font color='blue'>Exercise: Getting Sample Size #2</font>\n",
    "***"
   ]
  },
  {
   "cell_type": "markdown",
   "metadata": {},
   "source": [
    "Uma amostra com **40 cupons fiscais**, coletados aleatoriamente em um shopping center, apresentou um desvio padrão do total pago igual a **42,00 Reais**. A associação de lojistas precisa estimar a média populacional das vendas, com um erro máximo igual a 6,00 Reais e empregando um nível de confiança igual a 90%. Qual o tamanho da amostra a analisar?"
   ]
  },
  {
   "cell_type": "code",
   "execution_count": 161,
   "metadata": {},
   "outputs": [],
   "source": [
    "sd <- 42"
   ]
  },
  {
   "cell_type": "code",
   "execution_count": 162,
   "metadata": {},
   "outputs": [],
   "source": [
    "e <- 6"
   ]
  },
  {
   "cell_type": "code",
   "execution_count": 163,
   "metadata": {},
   "outputs": [],
   "source": [
    "confidence <- 0.9"
   ]
  },
  {
   "cell_type": "code",
   "execution_count": 164,
   "metadata": {},
   "outputs": [
    {
     "data": {
      "text/html": [
       "1.64485362695147"
      ],
      "text/latex": [
       "1.64485362695147"
      ],
      "text/markdown": [
       "1.64485362695147"
      ],
      "text/plain": [
       "[1] 1.644854"
      ]
     },
     "metadata": {},
     "output_type": "display_data"
    }
   ],
   "source": [
    "Z <- qnorm(0.5 + (confidence / 2))\n",
    "Z"
   ]
  },
  {
   "cell_type": "code",
   "execution_count": 165,
   "metadata": {},
   "outputs": [
    {
     "data": {
      "text/html": [
       "132.571629250675"
      ],
      "text/latex": [
       "132.571629250675"
      ],
      "text/markdown": [
       "132.571629250675"
      ],
      "text/plain": [
       "[1] 132.5716"
      ]
     },
     "metadata": {},
     "output_type": "display_data"
    }
   ],
   "source": [
    "n <- (Z * (sd / e)) ** 2\n",
    "n"
   ]
  },
  {
   "cell_type": "code",
   "execution_count": 166,
   "metadata": {},
   "outputs": [
    {
     "data": {
      "text/html": [
       "133"
      ],
      "text/latex": [
       "133"
      ],
      "text/markdown": [
       "133"
      ],
      "text/plain": [
       "[1] 133"
      ]
     },
     "metadata": {},
     "output_type": "display_data"
    }
   ],
   "source": [
    "n <- round(n)\n",
    "n"
   ]
  },
  {
   "cell_type": "markdown",
   "metadata": {
    "colab_type": "text",
    "id": "MjP0xsqyTyNO"
   },
   "source": [
    "---"
   ]
  },
  {
   "cell_type": "markdown",
   "metadata": {
    "colab_type": "text",
    "id": "dx2vyLC-TyNP"
   },
   "source": [
    "## <font color='red'>Problema</font>"
   ]
  },
  {
   "cell_type": "markdown",
   "metadata": {
    "colab_type": "text",
    "id": "uzK2fAOFTyNP"
   },
   "source": [
    "Em um lote de **10.000 latas** de refrigerante foi realizada uma amostra aleatória simples de **100 latas** e foi obtido o **desvio padrão amostral do conteúdo das latas igual a 12 ml**. O fabricante estipula um **erro máximo sobre a média populacional de apenas 5 ml**. Para garantir um **nível de confiança de 95%** qual o tamanho de amostra deve ser selecionado para este estudo?"
   ]
  },
  {
   "cell_type": "markdown",
   "metadata": {
    "colab_type": "text",
    "id": "FlAz5kycTyNQ"
   },
   "source": [
    "## <font color=green>5.2 Variáveis quantitativas e população finita</font>\n",
    "***"
   ]
  },
  {
   "cell_type": "markdown",
   "metadata": {
    "colab_type": "text",
    "id": "UOe02McSTyNR"
   },
   "source": [
    "#### Com desvio padrão conhecido\n",
    "\n",
    "## $$n = \\frac{z^2 \\sigma^2 N}{z^2 \\sigma^2 + e^2(N-1)}$$\n",
    "\n",
    "#### Com desvio padrão desconhecido\n",
    "\n",
    "## $$n = \\frac{z^2 s^2 N}{z^2 s^2 + e^2(N-1)}$$\n",
    "\n",
    "Onde:\n",
    "\n",
    "$N$ = tamanho da população\n",
    "\n",
    "$z$ = variável normal padronizada\n",
    "\n",
    "$\\sigma$ = desvio padrão populacional\n",
    "\n",
    "$s$ = desvio padrão amostral\n",
    "\n",
    "$e$ = erro inferencial"
   ]
  },
  {
   "cell_type": "markdown",
   "metadata": {
    "colab_type": "text",
    "id": "cUELtYTKTyNS"
   },
   "source": [
    "## <font color='blue'>Exemplo: Indústria de refrigerantes</font>"
   ]
  },
  {
   "cell_type": "markdown",
   "metadata": {
    "colab_type": "text",
    "id": "upv1mM7fTyNS"
   },
   "source": [
    "Em um lote de **10.000 latas** de refrigerante foi realizada uma amostra aleatória simples de **100 latas** e foi obtido o **desvio padrão amostral do conteúdo das latas igual a 12 ml**. O fabricante estipula um **erro máximo sobre a média populacional de apenas 5 ml**. Para garantir um **nível de confiança de 95%** qual o tamanho de amostra deve ser selecionado para este estudo?"
   ]
  },
  {
   "cell_type": "markdown",
   "metadata": {
    "colab_type": "text",
    "id": "_y3-3VIBTyNS"
   },
   "source": [
    "### Obtendo $N$"
   ]
  },
  {
   "cell_type": "code",
   "execution_count": 167,
   "metadata": {
    "colab": {
     "base_uri": "https://localhost:8080/",
     "height": 34
    },
    "colab_type": "code",
    "id": "gXWn9zTETyNS",
    "outputId": "4daa26ff-4a96-47fb-9f0e-53a4390d701e"
   },
   "outputs": [
    {
     "data": {
      "text/html": [
       "10000"
      ],
      "text/latex": [
       "10000"
      ],
      "text/markdown": [
       "10000"
      ],
      "text/plain": [
       "[1] 10000"
      ]
     },
     "metadata": {},
     "output_type": "display_data"
    }
   ],
   "source": [
    "N <- 10000\n",
    "N"
   ]
  },
  {
   "cell_type": "markdown",
   "metadata": {
    "colab_type": "text",
    "id": "xCgZ1JSjTyNT"
   },
   "source": [
    "### Obtendo $z$"
   ]
  },
  {
   "cell_type": "code",
   "execution_count": 168,
   "metadata": {
    "colab": {
     "base_uri": "https://localhost:8080/",
     "height": 34
    },
    "colab_type": "code",
    "id": "ZUs9aYJRTyNT",
    "outputId": "02560c9f-57ee-41c7-cdf4-5fd382365a74"
   },
   "outputs": [
    {
     "data": {
      "text/html": [
       "1.95996398454005"
      ],
      "text/latex": [
       "1.95996398454005"
      ],
      "text/markdown": [
       "1.95996398454005"
      ],
      "text/plain": [
       "[1] 1.959964"
      ]
     },
     "metadata": {},
     "output_type": "display_data"
    }
   ],
   "source": [
    "Z <- qnorm((0.5 + (0.95 / 2)))\n",
    "Z"
   ]
  },
  {
   "cell_type": "markdown",
   "metadata": {
    "colab_type": "text",
    "id": "KCnigJd8TyNU"
   },
   "source": [
    "### Obtendo $s$"
   ]
  },
  {
   "cell_type": "code",
   "execution_count": 169,
   "metadata": {
    "colab": {
     "base_uri": "https://localhost:8080/",
     "height": 34
    },
    "colab_type": "code",
    "id": "fKqFI_TZTyNU",
    "outputId": "68a9ee2f-428a-4d18-9148-f33704968fb7"
   },
   "outputs": [
    {
     "data": {
      "text/html": [
       "12"
      ],
      "text/latex": [
       "12"
      ],
      "text/markdown": [
       "12"
      ],
      "text/plain": [
       "[1] 12"
      ]
     },
     "metadata": {},
     "output_type": "display_data"
    }
   ],
   "source": [
    "s <- 12\n",
    "s"
   ]
  },
  {
   "cell_type": "markdown",
   "metadata": {
    "colab_type": "text",
    "id": "K9gDEIUdTyNX"
   },
   "source": [
    "### Obtendo $e$"
   ]
  },
  {
   "cell_type": "code",
   "execution_count": 170,
   "metadata": {
    "colab": {
     "base_uri": "https://localhost:8080/",
     "height": 34
    },
    "colab_type": "code",
    "id": "hyhJ3MQKTyNX",
    "outputId": "2849bd05-6c70-4d97-980d-67e140f27850"
   },
   "outputs": [
    {
     "data": {
      "text/html": [
       "5"
      ],
      "text/latex": [
       "5"
      ],
      "text/markdown": [
       "5"
      ],
      "text/plain": [
       "[1] 5"
      ]
     },
     "metadata": {},
     "output_type": "display_data"
    }
   ],
   "source": [
    "e <- 5\n",
    "e"
   ]
  },
  {
   "cell_type": "markdown",
   "metadata": {
    "colab_type": "text",
    "id": "Dsm3bg9gTyNX"
   },
   "source": [
    "### Obtendo $n$\n",
    "\n",
    "## $$n = \\frac{z^2 s^2 N}{z^2 s^2 + e^2(N-1)}$$"
   ]
  },
  {
   "cell_type": "code",
   "execution_count": 171,
   "metadata": {
    "colab": {
     "base_uri": "https://localhost:8080/",
     "height": 34
    },
    "colab_type": "code",
    "id": "0XxWfaPdTyNY",
    "outputId": "8494180f-9149-419f-dee9-f02ec3e81b93"
   },
   "outputs": [
    {
     "data": {
      "text/html": [
       "22.0801545001904"
      ],
      "text/latex": [
       "22.0801545001904"
      ],
      "text/markdown": [
       "22.0801545001904"
      ],
      "text/plain": [
       "[1] 22.08015"
      ]
     },
     "metadata": {},
     "output_type": "display_data"
    },
    {
     "data": {
      "text/html": [
       "22"
      ],
      "text/latex": [
       "22"
      ],
      "text/markdown": [
       "22"
      ],
      "text/plain": [
       "[1] 22"
      ]
     },
     "metadata": {},
     "output_type": "display_data"
    }
   ],
   "source": [
    "n <- ((Z ** 2) * (s ** 2) * N) / ((Z ** 2) * (s ** 2) + (e ** 2) * (N - 1))\n",
    "n\n",
    "round(n)"
   ]
  },
  {
   "cell_type": "markdown",
   "metadata": {},
   "source": [
    " "
   ]
  },
  {
   "cell_type": "markdown",
   "metadata": {},
   "source": [
    "## <font color='blue'>Exercise: Sample of flour bags</font>\n",
    "***"
   ]
  },
  {
   "cell_type": "markdown",
   "metadata": {},
   "source": [
    "Um fabricante de farinha verificou em uma amostra aleatória formada por **200** sacos de **25** kg de um lote formado por **2.000** sacos apresentou um desvio padrão amostral do peso igual a **480** g. Considerando um erro máximo associado à média populacional igual a **0,3** kg e um nível de confiança igual a **95**%, qual o tamanho de amostra deveria ser selecionado para obtermos uma estimativa confiável do parâmetro populacional?"
   ]
  },
  {
   "cell_type": "code",
   "execution_count": 172,
   "metadata": {},
   "outputs": [
    {
     "data": {
      "text/html": [
       "50000"
      ],
      "text/latex": [
       "50000"
      ],
      "text/markdown": [
       "50000"
      ],
      "text/plain": [
       "[1] 50000"
      ]
     },
     "metadata": {},
     "output_type": "display_data"
    }
   ],
   "source": [
    "N <- 2000 * 25\n",
    "N"
   ]
  },
  {
   "cell_type": "code",
   "execution_count": 173,
   "metadata": {},
   "outputs": [
    {
     "data": {
      "text/html": [
       "0.48"
      ],
      "text/latex": [
       "0.48"
      ],
      "text/markdown": [
       "0.48"
      ],
      "text/plain": [
       "[1] 0.48"
      ]
     },
     "metadata": {},
     "output_type": "display_data"
    }
   ],
   "source": [
    "s <- 480 / 1000\n",
    "s"
   ]
  },
  {
   "cell_type": "code",
   "execution_count": 174,
   "metadata": {},
   "outputs": [
    {
     "data": {
      "text/html": [
       "0.3"
      ],
      "text/latex": [
       "0.3"
      ],
      "text/markdown": [
       "0.3"
      ],
      "text/plain": [
       "[1] 0.3"
      ]
     },
     "metadata": {},
     "output_type": "display_data"
    }
   ],
   "source": [
    "e <- 0.3\n",
    "e"
   ]
  },
  {
   "cell_type": "code",
   "execution_count": 175,
   "metadata": {},
   "outputs": [
    {
     "data": {
      "text/html": [
       "1.95996398454005"
      ],
      "text/latex": [
       "1.95996398454005"
      ],
      "text/markdown": [
       "1.95996398454005"
      ],
      "text/plain": [
       "[1] 1.959964"
      ]
     },
     "metadata": {},
     "output_type": "display_data"
    }
   ],
   "source": [
    "Z <- qnorm((0.5 + (0.95 / 2)))\n",
    "Z"
   ]
  },
  {
   "cell_type": "markdown",
   "metadata": {},
   "source": [
    "## $$n = \\frac{z^2 s^2 N}{z^2 s^2 + e^2(N-1)}$$"
   ]
  },
  {
   "cell_type": "code",
   "execution_count": 176,
   "metadata": {},
   "outputs": [
    {
     "data": {
      "text/html": [
       "9.83239736654516"
      ],
      "text/latex": [
       "9.83239736654516"
      ],
      "text/markdown": [
       "9.83239736654516"
      ],
      "text/plain": [
       "[1] 9.832397"
      ]
     },
     "metadata": {},
     "output_type": "display_data"
    }
   ],
   "source": [
    "n <- ((Z ** 2) * (s ** 2) * N) / ((Z ** 2) * (s ** 2) + (e ** 2) * (N - 1))\n",
    "n"
   ]
  },
  {
   "cell_type": "code",
   "execution_count": 177,
   "metadata": {},
   "outputs": [
    {
     "data": {
      "text/html": [
       "10"
      ],
      "text/latex": [
       "10"
      ],
      "text/markdown": [
       "10"
      ],
      "text/plain": [
       "[1] 10"
      ]
     },
     "metadata": {},
     "output_type": "display_data"
    }
   ],
   "source": [
    "round(n)"
   ]
  },
  {
   "cell_type": "markdown",
   "metadata": {
    "colab_type": "text",
    "id": "XNH7CMglG3Hv"
   },
   "source": [
    "# <font color=green>6 FIXANDO O CONTEÚDO</font>\n",
    "***"
   ]
  },
  {
   "cell_type": "markdown",
   "metadata": {
    "colab_type": "text",
    "id": "iRYqVAxuG3Hv"
   },
   "source": [
    "## <font color='blue'>Exemplo: Rendimento médio</font>"
   ]
  },
  {
   "cell_type": "markdown",
   "metadata": {
    "colab_type": "text",
    "id": "ggloHI5sG3Hw"
   },
   "source": [
    "Estamos estudando o **rendimento mensal dos chefes de domicílios com renda até R$\\$$ 5.000,00 no Brasil**. Nosso supervisor determinou que o **erro máximo em relação a média seja de R$\\$$ 10,00**. Sabemos que o **desvio padrão populacional** deste grupo de trabalhadores é de **R$\\$$ 1.082,79** e que a **média populacional** é de **R$\\$$ 1.426,54**. Para um **nível de confiança de 95%**, qual deve ser o tamanho da amostra de nosso estudo? Qual o intervalo de confiança para a média considerando o tamanho de amostra obtido?"
   ]
  },
  {
   "cell_type": "markdown",
   "metadata": {
    "colab_type": "text",
    "id": "JZDvLD-NG3Hw"
   },
   "source": [
    "### Construindo o dataset conforme especificado pelo problema"
   ]
  },
  {
   "cell_type": "code",
   "execution_count": 178,
   "metadata": {
    "colab": {},
    "colab_type": "code",
    "id": "qlnYQeaKG3Hw"
   },
   "outputs": [],
   "source": [
    "income_5000 <- dataset[dataset$Income <= 5000, ]"
   ]
  },
  {
   "cell_type": "code",
   "execution_count": 179,
   "metadata": {},
   "outputs": [
    {
     "data": {
      "text/html": [
       "<table class=\"dataframe\">\n",
       "<caption>A data.frame: 6 × 7</caption>\n",
       "<thead>\n",
       "\t<tr><th></th><th scope=col>UF</th><th scope=col>Sex</th><th scope=col>Age</th><th scope=col>Color</th><th scope=col>Years.of.Studies</th><th scope=col>Income</th><th scope=col>Height</th></tr>\n",
       "\t<tr><th></th><th scope=col>&lt;int&gt;</th><th scope=col>&lt;int&gt;</th><th scope=col>&lt;int&gt;</th><th scope=col>&lt;int&gt;</th><th scope=col>&lt;int&gt;</th><th scope=col>&lt;int&gt;</th><th scope=col>&lt;dbl&gt;</th></tr>\n",
       "</thead>\n",
       "<tbody>\n",
       "\t<tr><th scope=row>1</th><td>11</td><td>0</td><td>23</td><td>8</td><td>12</td><td> 800</td><td>1.603808</td></tr>\n",
       "\t<tr><th scope=row>2</th><td>11</td><td>1</td><td>23</td><td>2</td><td>12</td><td>1150</td><td>1.739790</td></tr>\n",
       "\t<tr><th scope=row>3</th><td>11</td><td>1</td><td>35</td><td>8</td><td>15</td><td> 880</td><td>1.760444</td></tr>\n",
       "\t<tr><th scope=row>4</th><td>11</td><td>0</td><td>46</td><td>2</td><td> 6</td><td>3500</td><td>1.783158</td></tr>\n",
       "\t<tr><th scope=row>5</th><td>11</td><td>1</td><td>47</td><td>8</td><td> 9</td><td> 150</td><td>1.690631</td></tr>\n",
       "\t<tr><th scope=row>6</th><td>11</td><td>1</td><td>34</td><td>8</td><td>12</td><td> 790</td><td>1.637906</td></tr>\n",
       "</tbody>\n",
       "</table>\n"
      ],
      "text/latex": [
       "A data.frame: 6 × 7\n",
       "\\begin{tabular}{r|lllllll}\n",
       "  & UF & Sex & Age & Color & Years.of.Studies & Income & Height\\\\\n",
       "  & <int> & <int> & <int> & <int> & <int> & <int> & <dbl>\\\\\n",
       "\\hline\n",
       "\t1 & 11 & 0 & 23 & 8 & 12 &  800 & 1.603808\\\\\n",
       "\t2 & 11 & 1 & 23 & 2 & 12 & 1150 & 1.739790\\\\\n",
       "\t3 & 11 & 1 & 35 & 8 & 15 &  880 & 1.760444\\\\\n",
       "\t4 & 11 & 0 & 46 & 2 &  6 & 3500 & 1.783158\\\\\n",
       "\t5 & 11 & 1 & 47 & 8 &  9 &  150 & 1.690631\\\\\n",
       "\t6 & 11 & 1 & 34 & 8 & 12 &  790 & 1.637906\\\\\n",
       "\\end{tabular}\n"
      ],
      "text/markdown": [
       "\n",
       "A data.frame: 6 × 7\n",
       "\n",
       "| <!--/--> | UF &lt;int&gt; | Sex &lt;int&gt; | Age &lt;int&gt; | Color &lt;int&gt; | Years.of.Studies &lt;int&gt; | Income &lt;int&gt; | Height &lt;dbl&gt; |\n",
       "|---|---|---|---|---|---|---|---|\n",
       "| 1 | 11 | 0 | 23 | 8 | 12 |  800 | 1.603808 |\n",
       "| 2 | 11 | 1 | 23 | 2 | 12 | 1150 | 1.739790 |\n",
       "| 3 | 11 | 1 | 35 | 8 | 15 |  880 | 1.760444 |\n",
       "| 4 | 11 | 0 | 46 | 2 |  6 | 3500 | 1.783158 |\n",
       "| 5 | 11 | 1 | 47 | 8 |  9 |  150 | 1.690631 |\n",
       "| 6 | 11 | 1 | 34 | 8 | 12 |  790 | 1.637906 |\n",
       "\n"
      ],
      "text/plain": [
       "  UF Sex Age Color Years.of.Studies Income Height  \n",
       "1 11 0   23  8     12                800   1.603808\n",
       "2 11 1   23  2     12               1150   1.739790\n",
       "3 11 1   35  8     15                880   1.760444\n",
       "4 11 0   46  2      6               3500   1.783158\n",
       "5 11 1   47  8      9                150   1.690631\n",
       "6 11 1   34  8     12                790   1.637906"
      ]
     },
     "metadata": {},
     "output_type": "display_data"
    }
   ],
   "source": [
    "head(income_5000)"
   ]
  },
  {
   "cell_type": "code",
   "execution_count": 180,
   "metadata": {
    "colab": {
     "base_uri": "https://localhost:8080/",
     "height": 34
    },
    "colab_type": "code",
    "id": "VKuxbygIG3Hy",
    "outputId": "98078826-90d1-488e-b11d-cf4e6f5bdc3c"
   },
   "outputs": [
    {
     "data": {
      "text/html": [
       "1082.79454903068"
      ],
      "text/latex": [
       "1082.79454903068"
      ],
      "text/markdown": [
       "1082.79454903068"
      ],
      "text/plain": [
       "[1] 1082.795"
      ]
     },
     "metadata": {},
     "output_type": "display_data"
    }
   ],
   "source": [
    "sigma <- sd(income_5000$Income)\n",
    "sigma"
   ]
  },
  {
   "cell_type": "code",
   "execution_count": 181,
   "metadata": {},
   "outputs": [
    {
     "data": {
      "text/html": [
       "1426.53721449472"
      ],
      "text/latex": [
       "1426.53721449472"
      ],
      "text/markdown": [
       "1426.53721449472"
      ],
      "text/plain": [
       "[1] 1426.537"
      ]
     },
     "metadata": {},
     "output_type": "display_data"
    }
   ],
   "source": [
    "mean <- mean(income_5000$Income)\n",
    "mean"
   ]
  },
  {
   "cell_type": "markdown",
   "metadata": {
    "colab_type": "text",
    "id": "F33TdkXdG3H2"
   },
   "source": [
    "### Calculando o tamanho da amostra"
   ]
  },
  {
   "cell_type": "code",
   "execution_count": 182,
   "metadata": {
    "colab": {
     "base_uri": "https://localhost:8080/",
     "height": 34
    },
    "colab_type": "code",
    "id": "sWIvnmygG3H2",
    "outputId": "42b7f8db-3a43-4e5f-f61a-9000e4e5e94b"
   },
   "outputs": [
    {
     "data": {
      "text/html": [
       "1.95996398454005"
      ],
      "text/latex": [
       "1.95996398454005"
      ],
      "text/markdown": [
       "1.95996398454005"
      ],
      "text/plain": [
       "[1] 1.959964"
      ]
     },
     "metadata": {},
     "output_type": "display_data"
    }
   ],
   "source": [
    "Z <- qnorm(.975)\n",
    "Z"
   ]
  },
  {
   "cell_type": "code",
   "execution_count": 183,
   "metadata": {},
   "outputs": [
    {
     "data": {
      "text/html": [
       "10"
      ],
      "text/latex": [
       "10"
      ],
      "text/markdown": [
       "10"
      ],
      "text/plain": [
       "[1] 10"
      ]
     },
     "metadata": {},
     "output_type": "display_data"
    }
   ],
   "source": [
    "e <- 10\n",
    "e"
   ]
  },
  {
   "cell_type": "code",
   "execution_count": 184,
   "metadata": {},
   "outputs": [
    {
     "data": {
      "text/html": [
       "45039"
      ],
      "text/latex": [
       "45039"
      ],
      "text/markdown": [
       "45039"
      ],
      "text/plain": [
       "[1] 45039"
      ]
     },
     "metadata": {},
     "output_type": "display_data"
    }
   ],
   "source": [
    "n <- (Z * (sigma / e)) ** 2\n",
    "round(n)"
   ]
  },
  {
   "cell_type": "markdown",
   "metadata": {
    "colab_type": "text",
    "id": "xRN_gmmLG3H6"
   },
   "source": [
    "### Calculando o intervalo de confiança para a média"
   ]
  },
  {
   "cell_type": "code",
   "execution_count": 185,
   "metadata": {},
   "outputs": [],
   "source": [
    "inferior_limit <- mean(income_5000$Income) - (Z * (sd(income_5000$Income) / sqrt(n)))\n",
    "upper_limit <- mean(income_5000$Income) + (Z * (sd(income_5000$Income) / sqrt(n)))"
   ]
  },
  {
   "cell_type": "code",
   "execution_count": 186,
   "metadata": {},
   "outputs": [
    {
     "data": {
      "text/html": [
       "1416.53721449472"
      ],
      "text/latex": [
       "1416.53721449472"
      ],
      "text/markdown": [
       "1416.53721449472"
      ],
      "text/plain": [
       "[1] 1416.537"
      ]
     },
     "metadata": {},
     "output_type": "display_data"
    }
   ],
   "source": [
    "inferior_limit"
   ]
  },
  {
   "cell_type": "code",
   "execution_count": 187,
   "metadata": {},
   "outputs": [
    {
     "data": {
      "text/html": [
       "1426.53721449472"
      ],
      "text/latex": [
       "1426.53721449472"
      ],
      "text/markdown": [
       "1426.53721449472"
      ],
      "text/plain": [
       "[1] 1426.537"
      ]
     },
     "metadata": {},
     "output_type": "display_data"
    }
   ],
   "source": [
    "mean"
   ]
  },
  {
   "cell_type": "code",
   "execution_count": 188,
   "metadata": {},
   "outputs": [
    {
     "data": {
      "text/html": [
       "1436.53721449472"
      ],
      "text/latex": [
       "1436.53721449472"
      ],
      "text/markdown": [
       "1436.53721449472"
      ],
      "text/plain": [
       "[1] 1436.537"
      ]
     },
     "metadata": {},
     "output_type": "display_data"
    }
   ],
   "source": [
    "upper_limit"
   ]
  },
  {
   "cell_type": "code",
   "execution_count": 119,
   "metadata": {},
   "outputs": [
    {
     "data": {
      "text/html": [
       "0.0450237029996855"
      ],
      "text/latex": [
       "0.0450237029996855"
      ],
      "text/markdown": [
       "0.0450237029996855"
      ],
      "text/plain": [
       "[1] 0.0450237"
      ]
     },
     "metadata": {},
     "output_type": "display_data"
    }
   ],
   "source": [
    "sigma <- sd(dataset$Age) / sqrt(nrow(dataset))\n",
    "sigma"
   ]
  },
  {
   "cell_type": "code",
   "execution_count": 120,
   "metadata": {},
   "outputs": [
    {
     "data": {
      "text/html": [
       "<style>\n",
       ".dl-inline {width: auto; margin:0; padding: 0}\n",
       ".dl-inline>dt, .dl-inline>dd {float: none; width: auto; display: inline-block}\n",
       ".dl-inline>dt::after {content: \":\\0020\"; padding-right: .5ex}\n",
       ".dl-inline>dt:not(:first-of-type) {padding-left: .5ex}\n",
       "</style><dl class=dl-inline><dt>mean</dt><dd>44.0714211348256</dd><dt>lwr.ci</dt><dd>43.9831762984956</dd><dt>upr.ci</dt><dd>44.1596659711556</dd></dl>\n"
      ],
      "text/latex": [
       "\\begin{description*}\n",
       "\\item[mean] 44.0714211348256\n",
       "\\item[lwr.ci] 43.9831762984956\n",
       "\\item[upr.ci] 44.1596659711556\n",
       "\\end{description*}\n"
      ],
      "text/markdown": [
       "mean\n",
       ":   44.0714211348256lwr.ci\n",
       ":   43.9831762984956upr.ci\n",
       ":   44.1596659711556\n",
       "\n"
      ],
      "text/plain": [
       "    mean   lwr.ci   upr.ci \n",
       "44.07142 43.98318 44.15967 "
      ]
     },
     "metadata": {},
     "output_type": "display_data"
    }
   ],
   "source": [
    "MeanCI(x=mean(dataset$Age), sd=sigma, type='norm', conf.level=0.95, sides='two.sided')"
   ]
  },
  {
   "cell_type": "markdown",
   "metadata": {
    "colab_type": "text",
    "id": "xWAG8q8oG3H8"
   },
   "source": [
    "### Realizando uma prova gráfica"
   ]
  },
  {
   "cell_type": "code",
   "execution_count": 189,
   "metadata": {},
   "outputs": [
    {
     "data": {
      "image/png": "[encoded data removed]",
      "text/plain": [
       "plot without title"
      ]
     },
     "metadata": {
      "image/png": {
       "height": 240,
       "width": 420
      }
     },
     "output_type": "display_data"
    }
   ],
   "source": [
    "sample_size <- 1000\n",
    "means <- c()\n",
    "\n",
    "for(i in 1:sample_size){\n",
    "    means <- c(means, mean(sample_n(income_5000, n)$Income))\n",
    "}\n",
    "means <- data.frame(means)\n",
    "\n",
    "ggplot(data=means, aes(x=c(1:sample_size), y=means))+\n",
    "    geom_point(size=1.5, stroke=0)+\n",
    "    geom_hline(yintercept=mean, color='green')+\n",
    "    geom_hline(yintercept=inferior_limit, color='red')+\n",
    "    geom_hline(yintercept=upper_limit, color='red')"
   ]
  },
  {
   "cell_type": "code",
   "execution_count": null,
   "metadata": {
    "colab": {},
    "colab_type": "code",
    "id": "L5BFsSI8G3IB"
   },
   "outputs": [],
   "source": []
  }
 ],
 "metadata": {
  "colab": {
   "collapsed_sections": [],
   "name": "Curso_de_Estatística_Parte_2.ipynb",
   "provenance": [],
   "toc_visible": true,
   "version": "0.3.2"
  },
  "kernelspec": {
   "display_name": "R",
   "language": "R",
   "name": "ir"
  },
  "language_info": {
   "codemirror_mode": "r",
   "file_extension": ".r",
   "mimetype": "text/x-r-source",
   "name": "R",
   "pygments_lexer": "r",
   "version": "4.3.1"
  }
 },
 "nbformat": 4,
 "nbformat_minor": 4
}
